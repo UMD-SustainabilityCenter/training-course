{
 "cells": [
  {
   "cell_type": "code",
   "execution_count": null,
   "id": "7fba82d0-0e4f-4eba-b56c-51ea52ab628e",
   "metadata": {
    "has_explanation": false
   },
   "outputs": [],
   "source": [
    "import exam\n",
    "exam.take_exam(\"GB02\")"
   ]
  },
  {
   "cell_type": "code",
   "execution_count": null,
   "id": "7abd2e68-9a0d-4ae0-ad2d-cb516942608d",
   "metadata": {},
   "outputs": [],
   "source": [
    "exam.get_progress(\"green_belt\")"
   ]
  }
 ],
 "metadata": {
  "kernelspec": {
   "display_name": "Python 3 (ipykernel)",
   "language": "python",
   "name": "python3"
  },
  "language_info": {
   "codemirror_mode": {
    "name": "ipython",
    "version": 3
   },
   "file_extension": ".py",
   "mimetype": "text/x-python",
   "name": "python",
   "nbconvert_exporter": "python",
   "pygments_lexer": "ipython3",
   "version": "3.11.6"
  },
  "widgets": {
   "application/vnd.jupyter.widget-state+json": {
    "state": {},
    "version_major": 2,
    "version_minor": 0
   }
  }
 },
 "nbformat": 4,
 "nbformat_minor": 5
}
