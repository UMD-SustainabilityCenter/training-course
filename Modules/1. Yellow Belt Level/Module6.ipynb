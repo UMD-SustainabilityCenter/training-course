{
 "cells": [
  {
   "cell_type": "markdown",
   "id": "0f1c6c08",
   "metadata": {
    "tags": [
     "auto-generated-toc"
    ]
   },
   "source": [
    "## Table of Contents\n",
    "- [Y6 Digital Twins](#Y6-Digital-Twins)\n",
    "  - [6.1 Definition of Digital Twins](#6.1-Definition-of-Digital-Twins)\n",
    "  - [6.2 Digital Twins v.s. Digital Model v.s. Digital Shadow](#6.2-Digital-Twins-v.s.-Digital-Model-v.s.-Digital-Shadow)\n",
    "  - [6.3 Examples of Digital Twins](#6.3-Examples-of-Digital-Twins)\n",
    "  - [6.4 User Stories](#6.4-User-Stories)\n",
    "- [🏠 Home](../../welcomePage.ipynb)"
   ]
  },
  {
   "cell_type": "markdown",
   "id": "7b2a5ae2",
   "metadata": {},
   "source": [
    "# Y6 Digital Twins\n",
    "## 6.1 Definition of Digital Twins\n",
    "A digital twin is a virtual replica of a real-world object, system, or process that serves multiple purposes, including simulation, testing, monitoring, and maintenance. The digital twin concept has gain increased attention in recent years. Various application- specific digital twin definitions have been proposed to capture the nature of digital twin in these domains. \n",
    "<center>\n",
    "    <img src=\"../../img/12.jpg\" alt=\"Alt text\" width=\"450\">\n",
    "</center>\n",
    "\n",
    "For instance, a well-accepted definition of digital twins in the aerospace domain is given by\n",
    "\n",
    "> #### *A Digital Twin is an integrated multiphysics, multiscale, probabilistic simulation of an as-built vehicle or system that uses the best available physical models, sensor updates, fleet history, etc., to mirror the life of its corresponding flying twin (Glaessgen and Stargel 2012)*.\n",
    "\n",
    "VanDerHorn and Mahadevan (2021) proposed a consolidated and generalized definition of digital twin as \n",
    "> #### *A virtual representation of a physical system (and its associated environment and processes) that is updated through the exchange of information between the physical and virtual systems*.\n",
    "\n",
    "A most recent defition of digital twins by the National Academy of Engineering; National Academies of Sciences, Engineering, and Medicine in their report **Foundational Research Gaps and Future Directions for Digital Twins** defines digital twins as follows\n",
    "> #### *A digital twin is a set of virtual information constructs that mimics the structure, context, and behavior of a natural, engineered, or social system (or system-of-systems), is dynamically updated with data from its physical twin, has a predictive capability, and informs decisions that realize value. The bidirectional interaction between the virtual and the physical is central to the digital twin*.\n",
    "\n",
    "## 6.2 Digital Twins v.s. Digital Model v.s. Digital Shadow\n",
    "Digital twins can encompass the entire lifecycle of an object and use real-time data from sensors to simulate behavior and monitor operations. By incorporating machine learning and advanced analytics, digital twins provide valuable insights and support informed decision-making, enhancing efficiency, and optimizing performance throughout the lifecycle.\n",
    "The distinction between a digital model, a digital shadow, and a digital twin is unclear in many cases. Many people are confused about these three different concepts.\n",
    "\n",
    "\n",
    "\n",
    "The figure below shows the differnece between digital model, digital shadow, and digital twin concept for a lithium-ion battery cell within a larger pack.\n",
    "<center>\n",
    "    <img src=\"../../img/DT_definition.png\" alt=\"Alt text\" width=\"450\">\n",
    "</center>\n",
    "\n",
    "- **Digital model:** It means modeling an object digitally. For instance, Computer-aided design (CAD) is a widely used digital modeling technique where 3D objects are created from a number of 2D drawings using computer software.\n",
    "- **Digital shadow:** It is an evolving digital representation that mirrors the current state and behaviour of a physical entity or system. For instance, the CAD model can be used in a finite element analysis software to predict the stress response of a structural system. As the load condition changes, the finite element model can dynamically predict the stress states of the structural system.\n",
    "- **Digital twins:** As been pointed out by the definition of digital twins of the National Academy of Engineering; National Academies of Sciences, Engineering, and Medicine, **the bidirectional interaction between the virtual and the physical is central to the digital twin**. The bidirectional interaction sets digital twins apart from digital model and digital shadow.\n",
    "\n",
    "## 6.3 Examples of Digital Twins\n",
    "The following are some examples of digital twins in different application domains.\n",
    "- **Product Twin:** A Product Twin is a digital replica of a physical product used to analyze and optimize the product's lifecycle from design through decommissioning. It enables manufacturers to monitor performance and predict maintenance needs.\n",
    "\n",
    "- **System Twin:** A System Twin represents a digital model of an interconnected system of products and processes, providing insights into the overall system performance and interactions between different components.\n",
    "\n",
    "- **Process Twin:** A Process Twin simulates and optimizes manufacturing or business processes. It helps in identifying inefficiencies and improving the workflow by visualizing the process steps and outcomes digitally.\n",
    "\n",
    "- **Factory Twin:** A Factory Twin is a virtual model of a manufacturing facility. It includes the machinery, workflows, and operations within the factory, enabling better management, monitoring, and optimization of factory performance.\n",
    "\n",
    "\n",
    "- **Supply Chain Twin:** A Supply Chain Twin is a comprehensive digital model of the entire supply chain network. It helps in monitoring and optimizing logistics, inventory, and overall supply chain efficiency by providing real-time insights and predictions.\n",
    "\n",
    "- **Service Twin:** A Service Twin focuses on the service aspects of a product or system, including maintenance, repairs, and customer interactions. It ensures optimal service delivery by predicting service needs and improving customer experience.\n",
    "\n",
    "- **Simulation/Validation using Digital Twins:** Simulation and validation using digital twins involve creating digital replicas of products, systems, or processes to test and validate their performance in a virtual environment. This helps in reducing the need for physical prototypes and accelerates the development process.\n",
    "\n",
    "## 6.4 User Stories\n",
    "### <font color = '#646464'>6.4.1 Basic Example of a Digitial Twin of a Model</font>\n",
    "<center>\n",
    "    <img src=\"../../img/02.jpg\" alt=\"Alt text\" width=\"400\">\n",
    "</center>\n",
    "\n",
    "### <font color = '#646464'>6.4.2 Digital Twins for Additive & Subtractive Manufacturing</font>\n",
    "The process of additive manufacturing (3D printing) often results in parts that deviate from their original CAD design specifications due to inherent manufacturing limitations, leading to inaccuracies and out-of-tolerance areas. To achieve precision and adherence to original design specifications, a reliable method is required to identify and correct these deviations post-printing, integrating additive manufacturing, precision scanning, and subtractive machining processes.\n",
    "\n",
    "This user story demonstrates digital twin principles by integrating additive manufacturing, laser scanning, and subtractive machining into a cohesive workflow. Initially, a precise 3D CAD model is created and exported as an STL file, which is then sliced and printed via additive manufacturing (3D printing). Due to inherent inaccuracies in the additive process, the resulting physical part often deviates from the exact dimensions specified in the CAD model. To address this, a Gocator laser scanner captures a precise 3D profile of the printed part. The scanned data is compared against the original STL model to detect any deviations or errors. Areas found to exceed tolerance limits—manifesting as protrusions or inaccuracies—are identified and marked for correction. The next stage involves generating an optimized machining path specifically targeting these out-of-tolerance areas. Dedicated algorithms process the scanned data and produce precise cutting coordinates to remove only the protruding sections. These coordinates are then translated into machine-readable G-code instructions. The final subtractive machining step utilizes these instructions, allowing a CNC-capable 3D printer equipped with appropriate cutting tools to accurately mill and correct the identified deviations, ultimately producing a final part that closely adheres to its original CAD specifications.\n",
    "\n",
    "<center>\n",
    "    <img src=\"Module 6 Content/A_S_S_1.png\" alt=\"Alt text\" style=\"height: 400px\">\n",
    "    <img src=\"Module 6 Content/A_S_S_8.png\" alt=\"Drawing\" style=\"height: 400px;\" title=\"8\"/>\n",
    "</center> \n",
    "\n",
    "### <font color = '#646464'>6.4.3 Digital Twins for Selective laser melting (SLM) Process Control</font>\n",
    "Selective laser melting (SLM) is a widely utilized technique in additive manufacturing for creating metal components with intricate geometries and high precision. However, its practical adoption is limited by inconsistent process reproducibility and unreliable product quality. This highlights the urgent need for in-situ quality monitoring and real-time process control. In this particular user story, digital twin techniques can be used to combine acoustic emission signals with photodiode signals for in-situ quality monitoring. Based on 2D porosity and 3D density measurements, digital models can be constructed to predict part quality. Based on the multi-sensor fusion method for quality monitoring, process control can be conducted to ensure the quality of the manufactured product using digital twins.\n",
    "\n",
    "<center>\n",
    "    <img src=\"Module 6 Content/1.png\" alt=\"Alt text\" width=\"500\">\n",
    "</center> \n",
    "  \n",
    "### <font color = '#646464'>6.4.4 Digital Twin for Off-Road Ground Vehicle Mobility</font>\n",
    "One representative application that demonstrates a digital twin’s capability in adaptive decision support is mission planning. For example, the figure below show the real-time mission planning of off- road autonomous ground vehicles using a digital twin model. These vehicles operate in highly stochastic, harsh, and uncontrolled off-road environments. A high-fidelity digital model of an off-road autonomous ground vehicle has been developed as part of the modeling and simulation effort of the U.S. Army Ground Vehicle Systems Center. The digital model predicts vehicle mobility under different terrain conditions and allows for the generation of a probabilistic mobility map. The mobility map provides critical information for real-time path planning of off-road autonomous vehicles.\n",
    "\n",
    "<center>\n",
    "    <img src=\"../../img/vehicle.png\" alt=\"Alt text\" width=\"500\">\n",
    "</center>"
   ]
  },
  {
   "cell_type": "markdown",
   "id": "e020ab24",
   "metadata": {
    "tags": [
     "Bottom Navigation"
    ]
   },
   "source": [
    "### <center>[◀︎ Module 5](Module5.ipynb)     [🏠 Home](../../welcomePage.ipynb)     [Module 7 ▶︎](Module7.ipynb)</center>"
   ]
  }
 ],
 "metadata": {
  "kernelspec": {
   "display_name": "Python 3 (ipykernel)",
   "language": "python",
   "name": "python3"
  },
  "language_info": {
   "codemirror_mode": {
    "name": "ipython",
    "version": 3
   },
   "file_extension": ".py",
   "mimetype": "text/x-python",
   "name": "python",
   "nbconvert_exporter": "python",
   "pygments_lexer": "ipython3",
   "version": "3.12.5"
  },
  "widgets": {
   "application/vnd.jupyter.widget-state+json": {
    "state": {},
    "version_major": 2,
    "version_minor": 0
   }
  }
 },
 "nbformat": 4,
 "nbformat_minor": 5
}
