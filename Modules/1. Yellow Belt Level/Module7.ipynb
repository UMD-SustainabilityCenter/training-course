{
 "cells": [
  {
   "cell_type": "markdown",
   "id": "12631a7a",
   "metadata": {
    "tags": [
     "auto-generated-toc"
    ]
   },
   "source": [
    "## Table of Contents\n",
    "- [Y7 Digital Engineering Practice](#Y7-Digital-Engineering-Practice)\n",
    "  - [7.1 User Stories](#7.1-User-Stories)\n",
    "- [🏠 Home](../../welcomePage.ipynb)"
   ]
  },
  {
   "cell_type": "markdown",
   "id": "c98dbfb3",
   "metadata": {},
   "source": [
    "# Y7 Digital Engineering Practice\n",
    "\n",
    "## Practice Modules\n",
    "In this section, some of the basic tools used in Digital Engineering and Machine Learning are provided, along with Python codes. Interested learners can get familiarized to understand higher level modules because some of these techniques will be used in practical examples provided.\n",
    "\n",
    "#####  1.2. Classification of categorical data\n",
    "\n",
    "- [K-Nearest Neighbor](../../Modules/Examples/1.%20Fundamentals%20and%20Tools/1.2.%20Classification%20of%20categorical%20data/K-Nearest%20Neighbor.ipynb) \n",
    "\n",
    "- [Support Vector Machine](../../Modules/Examples/1.%20Fundamentals%20and%20Tools/1.2.%20Classification%20of%20categorical%20data/Support%20Vector%20Machine.ipynb) \n",
    "\n",
    "- [XGBoost](../../Modules/Examples/1.%20Fundamentals%20and%20Tools/1.2.%20Classification%20of%20categorical%20data/XGBoost.ipynb) \n",
    "\n",
    "#####  1.3. Time-series Forecasting\n",
    "\n",
    "- [ARIMA](../../Modules/Examples/1.%20Fundamentals%20and%20Tools/1.3.%20Time-series%20Forecasting/ARIMA.ipynb) \n",
    "\n",
    "- [Exponential Smoothing](../../Modules/Examples/1.%20Fundamentals%20and%20Tools/1.3.%20Time-series%20Forecasting/Exponential%20Smoothing.ipynb) \n",
    "\n",
    "- [Gradient Boost Regressor](../../Modules/Examples/1.%20Fundamentals%20and%20Tools/1.3.%20Time-series%20Forecasting/Gradient%20Boost%20Regressor.ipynb) \n",
    "\n",
    "- [Linear Regression](../../Modules/Examples/1.%20Fundamentals%20and%20Tools/1.3.%20Time-series%20Forecasting/Linear%20Regression.ipynb) \n",
    "\n",
    "- [MLP Regressor](../../Modules/Examples/1.%20Fundamentals%20and%20Tools/1.3.%20Time-series%20Forecasting/MLP%20Regressor.ipynb) \n",
    "\n",
    "- [Random Forest Regression](../../Modules/Examples/1.%20Fundamentals%20and%20Tools/1.3.%20Time-series%20Forecasting/Random%20Forest%20Regression.ipynb) \n",
    "\n",
    "#####  1.4. Image Classification\n",
    "\n",
    "- [Image Classification](../../Modules/Examples/1.%20Fundamentals%20and%20Tools/1.4.%20Image%20Classification/Image%20Classification.ipynb) "
   ]
  },
  {
   "cell_type": "markdown",
   "id": "405f6cd5",
   "metadata": {
    "tags": [
     "Bottom Navigation"
    ]
   },
   "source": [
    "### <center>[◀︎ Module 6](Module6.ipynb)     [🏠 Home](../../welcomePage.ipynb)     [Module 8 ▶︎](Module8.ipynb)</center>"
   ]
  }
 ],
 "metadata": {
  "kernelspec": {
   "display_name": "Python 3 (ipykernel)",
   "language": "python",
   "name": "python3"
  },
  "language_info": {
   "codemirror_mode": {
    "name": "ipython",
    "version": 3
   },
   "file_extension": ".py",
   "mimetype": "text/x-python",
   "name": "python",
   "nbconvert_exporter": "python",
   "pygments_lexer": "ipython3",
   "version": "3.11.6"
  },
  "widgets": {
   "application/vnd.jupyter.widget-state+json": {
    "state": {},
    "version_major": 2,
    "version_minor": 0
   }
  }
 },
 "nbformat": 4,
 "nbformat_minor": 5
}
