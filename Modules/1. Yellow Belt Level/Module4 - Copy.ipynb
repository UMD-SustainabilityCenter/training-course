{
 "cells": [
  {
   "cell_type": "markdown",
   "id": "12912215-a87f-4c87-8061-573b3271f5f1",
   "metadata": {},
   "source": [
    "# <font color = 'red'>1. *Introduction to Modeling and Simulation*"
   ]
  },
  {
   "cell_type": "markdown",
   "id": "a05e124b-b0d0-44a0-9797-bc93394b8e0b",
   "metadata": {},
   "source": [
    "## *1.1 What is Modeling?*\n",
    "\n",
    "**Modeling** is the process of creating a simplified representation of a system, process, or phenomenon. This model can take different forms, such as physical models (like a scale model of a building), mathematical models (equations that describe behavior), or logical models (diagrams or algorithms). The goal of modeling is to capture the essential features of the system in a way that makes it easier to understand, analyze, and predict its behavior under different conditions.\n",
    "\n",
    "## *1.2 What is Simulation?*\n",
    "\n",
    "**Simulation** involves using these models to conduct experiments and study how the system behaves in various scenarios. In essence, it’s like running a virtual test to see how a system performs without having to build it in the real world first. Simulations allow engineers to test different assumptions, analyze outcomes, and make informed decisions—whether they’re predicting the performance of a new product or optimizing an existing process.\n",
    "\n"
   ]
  },
  {
   "cell_type": "markdown",
   "id": "29205d7c-16c9-4fa7-b1fa-4c2caf303164",
   "metadata": {},
   "source": [
    "# <font color = 'red'>2. *Applications of Modeling and Simulation in Digital Engineering*\n",
    "\n",
    "Modeling and simulation are powerful tools in Digital Engineering, playing a key role in improving design, manufacturing, and operational processes. Some common applications include:\n",
    "\n",
    "#### 2.1 *Design Optimization*\n",
    "Using simulation tools, engineers can test various design options to find the most efficient, cost-effective, and high-performing solutions. Instead of relying on trial and error or physical prototypes, engineers can simulate how a product will behave under real-world conditions, enabling faster and more informed decision-making.\n",
    "\n",
    "- **Example**: A car manufacturer might use simulations to test the aerodynamics of different car designs before ever building a prototype.\n",
    "\n",
    "#### 2.2 *Manufacturing Process Improvement*\n",
    "Simulation can help refine manufacturing processes by testing different methods and techniques before implementing them. This can lead to reduced waste, improved efficiency, and better quality control in production.\n",
    "\n",
    "- **Example**: A factory could use simulation to optimize the layout of machines on the production floor, minimizing delays and maximizing throughput.\n",
    "\n",
    "In both design and manufacturing, modeling and simulation offer a way to visualize, experiment with, and perfect processes before they happen in the real world, saving time, resources, and costs."
   ]
  },
  {
   "cell_type": "markdown",
   "id": "135b547d-7970-41ad-ab99-0329ebee3481",
   "metadata": {},
   "source": [
    "# <font color = 'red'>3. *Key Concepts of Modeling and Simulation*\n",
    "\n",
    "### Traditional Engineering Analysis (FEA)\n",
    "\n",
    "**Finite Element Analysis (FEA)** is a method used to understand how physical forces (like stress, heat, and vibration) affect materials and structures. Engineers use FEA to create computer models that simulate these forces, helping them identify weak points or potential failure areas in a design. Instead of physically testing every part, engineers rely on FEA to predict how a material or structure will behave under various conditions. This allows them to make better decisions without the need for costly or time-consuming physical tests.\n",
    "\n",
    "### Data-Driven Models\n",
    "\n",
    "**Data-driven models** use historical data to make predictions and improve processes. These models rely on past information and patterns found in the data to forecast future outcomes, like equipment breakdowns or quality problems. Instead of using physical laws or theories, data-driven models analyze data to make decisions and optimize performance. They are especially useful for ongoing improvements in systems where gathering data over time can lead to smarter decisions, less downtime, and better efficiency.\n",
    "\n",
    "In simple terms, while FEA focuses on simulating physical behaviors based on known scientific principles, data-driven models look at the data itself to understand and predict system performance.\n"
   ]
  },
  {
   "cell_type": "code",
   "execution_count": 2,
   "id": "5e8fe92b-814b-4279-9ff2-67120e31aed9",
   "metadata": {},
   "outputs": [
    {
     "data": {
      "application/vnd.jupyter.widget-view+json": {
       "model_id": "a8b8b980b1764126a1c54be38ce1308c",
       "version_major": 2,
       "version_minor": 0
      },
      "text/plain": [
       "IntSlider(value=1, description='Degree', max=10, min=1)"
      ]
     },
     "metadata": {},
     "output_type": "display_data"
    },
    {
     "data": {
      "application/vnd.jupyter.widget-view+json": {
       "model_id": "20faeddbc69044bda095e2975c1a8907",
       "version_major": 2,
       "version_minor": 0
      },
      "text/plain": [
       "Output()"
      ]
     },
     "metadata": {},
     "output_type": "display_data"
    }
   ],
   "source": [
    "import numpy as np\n",
    "import matplotlib.pyplot as plt\n",
    "from sklearn.linear_model import LinearRegression\n",
    "import ipywidgets as widgets\n",
    "from IPython.display import display\n",
    "\n",
    "# Generate a more fluctuating dataset with conditional variability\n",
    "np.random.seed(42)\n",
    "temperature = np.linspace(20, 50, 30)\n",
    "\n",
    "# Add conditional variability to the noise\n",
    "noise = np.where(temperature < 35,  # Condition for temperature < 35\n",
    "                 np.random.uniform(0, 50, size=temperature.shape),  # Low variability\n",
    "                 np.random.uniform(0, 150, size=temperature.shape))  # High variability\n",
    "\n",
    "# Calculate power consumption with conditional noise\n",
    "power_consumption = 100 + 3 * temperature + 0.1 * temperature**2 + noise\n",
    "\n",
    "\n",
    "# Reshape the data for the model\n",
    "temperature = temperature.reshape(-1, 1)\n",
    "\n",
    "# Create an output widget for the plot\n",
    "output = widgets.Output()\n",
    "\n",
    "def update_plot(degree):\n",
    "    with output:\n",
    "        output.clear_output(wait=True)  # Clear only the plot output\n",
    "        # Generate polynomial features\n",
    "        poly = PolynomialFeatures(degree=degree)\n",
    "        temperature_poly = poly.fit_transform(temperature)\n",
    "        \n",
    "        # Create and fit the polynomial regression model\n",
    "        model = LinearRegression()\n",
    "        model.fit(temperature_poly, power_consumption)\n",
    "        \n",
    "        # Get the coefficients of the model\n",
    "        coefficients = model.coef_\n",
    "        intercept = model.intercept_\n",
    "        \n",
    "        # Create the model equation\n",
    "        terms = [f\"{coeff:.2f} * x^{i}\" for i, coeff in enumerate(coefficients) if coeff != 0]\n",
    "        equation = \" + \".join(terms) + f\" + {intercept:.2f}\"\n",
    "        \n",
    "        # Predict power consumption for the given temperature data\n",
    "        predicted_power_consumption = model.predict(temperature_poly)\n",
    "        \n",
    "        # Plot the data and the fitted line\n",
    "        plt.figure(figsize=(6, 4))\n",
    "        plt.scatter(temperature, power_consumption, color='blue', label='Data')\n",
    "        plt.plot(temperature, predicted_power_consumption, color='red', label='Model')\n",
    "        plt.xlabel('Temperature (°C)')\n",
    "        plt.ylabel('Power Consumption (kW)')\n",
    "        # plt.title(f'Temperature vs. Power Consumption (Degree {degree} Polynomial)')\n",
    "        plt.legend()\n",
    "        plt.grid()\n",
    "        plt.ylim([150,700])\n",
    "        plt.show()\n",
    "        \n",
    "        # Display the model equation\n",
    "        print(f\"Fitted Equation: {equation}\")\n",
    "\n",
    "# Create a slider for varying the degree of the polynomial\n",
    "degree_slider = widgets.IntSlider(min=1, max=10, step=1, value=1, description='Degree')\n",
    "\n",
    "# Link the slider to the update_plot function\n",
    "widgets.interactive_output(update_plot, {'degree': degree_slider})\n",
    "\n",
    "# Display the widget and the plot output\n",
    "display(degree_slider, output)\n",
    "\n",
    "# Manually call the function once to display the initial plot\n",
    "update_plot(degree_slider.value)"
   ]
  },
  {
   "cell_type": "markdown",
   "id": "d561900a-3c56-46fa-ab18-cf8b675b8cc7",
   "metadata": {},
   "source": [
    "- **Physics-Based Data Models:**\n",
    "  Physics-based data models combine the principles of physical laws with real-world data to create simulations that offer deeper insights into complex systems. These models use equations derived from physics to simulate the behavior of systems under various conditions. By integrating data into these simulations, engineers can achieve a more accurate and comprehensive understanding of how systems perform in real-world scenarios.\n",
    "\n",
    "<font color='#0024CC'>\n",
    "    \n",
    "\n",
    "**Example**: In contrast to the purely data-driven approach, the **physics-based data-driven model** combines domain knowledge (physical laws) with data-driven methods. Here, we start with an idea of the equation that describes the system, based on physical principles. For this problem, we use the following physics-based equation:\n",
    "\n",
    "$$\n",
    "y_{\\text{physics}} = 100 + 3x + 0.1x^2\n",
    "$$\n",
    "\n",
    "Where:\n",
    "- **y_{physics}** is the power consumption predicted from the physics model,\n",
    "- **x** is the temperature.\n",
    "\n",
    "However, real-world systems often exhibit complexities (e.g., noise, nonlinearities) that are not fully captured by the physics-based equation. To address this, we introduce a **data-driven residual correction**, which models the difference between the physics-based prediction and the observed data:\n",
    "\n",
    "$$\n",
    "y = y_{\\text{physics}} + y_{\\text{residual}}\n",
    "$$\n",
    "\n",
    "Where:\n",
    "- **y_{physics}** is the prediction from the physics-based equation,\n",
    "- **y_{residual}** is the residual, modeled using regression techniques (data-driven).\n",
    "\n",
    "**Benefits of the Physics-Based Approach**:\n",
    "1. **Interpretability**: The physics-based component provides insights into the underlying mechanisms of the system.\n",
    "2. **Generalization**: By grounding the model in physical principles, it is more robust to extrapolation beyond the data range.\n",
    "3. **Efficiency**: The physics-based component reduces the complexity of the data-driven part, requiring fewer parameters to achieve a good fit.\n",
    "\n",
    "</font>\n"
   ]
  },
  {
   "cell_type": "code",
   "execution_count": 1,
   "id": "8c77401e-c556-4386-a7f5-6078fd1cd904",
   "metadata": {},
   "outputs": [
    {
     "data": {
      "application/vnd.jupyter.widget-view+json": {
       "model_id": "622f5ff770174197906d3609ac2a57ce",
       "version_major": 2,
       "version_minor": 0
      },
      "text/plain": [
       "IntSlider(value=1, description='Degree', max=10, min=1)"
      ]
     },
     "metadata": {},
     "output_type": "display_data"
    },
    {
     "data": {
      "application/vnd.jupyter.widget-view+json": {
       "model_id": "6fbc5c2e28f84816a889249232cd9d8d",
       "version_major": 2,
       "version_minor": 0
      },
      "text/plain": [
       "Output()"
      ]
     },
     "metadata": {},
     "output_type": "display_data"
    }
   ],
   "source": [
    "import numpy as np\n",
    "import matplotlib.pyplot as plt\n",
    "from sklearn.linear_model import LinearRegression\n",
    "from sklearn.preprocessing import PolynomialFeatures\n",
    "import ipywidgets as widgets\n",
    "from IPython.display import display\n",
    "\n",
    "# Generate a more fluctuating dataset with conditional variability\n",
    "np.random.seed(42)\n",
    "temperature = np.linspace(20, 50, 30)\n",
    "\n",
    "# Add conditional variability to the noise\n",
    "noise = np.where(temperature < 35,  # Condition for temperature < 35\n",
    "                 np.random.uniform(0, 50, size=temperature.shape),  # Low variability\n",
    "                 np.random.uniform(0, 150, size=temperature.shape))  # High variability\n",
    "\n",
    "# Physics-based model for power consumption (e.g., quadratic relationship with temperature)\n",
    "def physics_model(temp):\n",
    "    return 100 + 3 * temp + 0.1 * temp**2\n",
    "\n",
    "# Calculate power consumption with physics-based model and noise\n",
    "power_consumption = physics_model(temperature) + noise\n",
    "\n",
    "# Reshape the data for the machine learning model\n",
    "temperature = temperature.reshape(-1, 1)\n",
    "\n",
    "# Create an output widget for the plot\n",
    "output = widgets.Output()\n",
    "\n",
    "def update_plot(degree):\n",
    "    with output:\n",
    "        output.clear_output(wait=True)  # Clear only the plot output\n",
    "        # Generate polynomial features\n",
    "        poly = PolynomialFeatures(degree=degree)\n",
    "        temperature_poly = poly.fit_transform(temperature)\n",
    "        \n",
    "        # Fit the physics-based residuals using the machine learning model\n",
    "        physics_predictions = physics_model(temperature.flatten())\n",
    "        residuals = power_consumption - physics_predictions\n",
    "        \n",
    "        model = LinearRegression()\n",
    "        model.fit(temperature_poly, residuals)\n",
    "        \n",
    "        # Predict residuals and combine with physics-based predictions\n",
    "        predicted_residuals = model.predict(temperature_poly)\n",
    "        predicted_power_consumption = physics_predictions + predicted_residuals\n",
    "        \n",
    "        # Get the coefficients of the residual model\n",
    "        coefficients = model.coef_\n",
    "        intercept = model.intercept_\n",
    "        \n",
    "        # Create the model equation\n",
    "        terms = [f\"{coeff:.2f} * x^{i}\" for i, coeff in enumerate(coefficients) if coeff != 0]\n",
    "        equation = \" + \".join(terms) + f\" + {intercept:.2f}\"\n",
    "        \n",
    "        # Plot the data and the fitted line\n",
    "        plt.figure(figsize=(6, 4))\n",
    "        plt.scatter(temperature, power_consumption, color='blue', label='Data')\n",
    "        plt.plot(temperature, physics_predictions, color='green', linestyle='--', label='Physics Model')\n",
    "        plt.plot(temperature, predicted_power_consumption, color='red', label='Physics + Data Model')\n",
    "        \n",
    "        plt.xlabel('Temperature (°C)')\n",
    "        plt.ylabel('Power Consumption (kW)')\n",
    "        plt.grid()\n",
    "        plt.ylim([150, 700])\n",
    "        plt.legend()\n",
    "        plt.show()\n",
    "        \n",
    "        # Display the model equation\n",
    "        print(f\"Fitted Residuals Equation: {equation}\")\n",
    "\n",
    "# Create a slider for varying the degree of the polynomial\n",
    "degree_slider = widgets.IntSlider(min=1, max=10, step=1, value=1, description='Degree')\n",
    "\n",
    "# Link the slider to the update_plot function\n",
    "widgets.interactive_output(update_plot, {'degree': degree_slider})\n",
    "\n",
    "# Display the widget and the plot output\n",
    "display(degree_slider, output)\n",
    "\n",
    "# Manually call the function once to display the initial plot\n",
    "update_plot(degree_slider.value)\n"
   ]
  },
  {
   "cell_type": "markdown",
   "id": "d218c7b4-f978-4821-8e97-aa3dd3d4677c",
   "metadata": {},
   "source": [
    "### 3. Optimization Concepts Using Simulation Outputs\n",
    "- **What is optimization?**\n",
    "  Optimization is the process of finding the best possible design or performance by systematically adjusting variables to achieve desired outcomes. It involves using mathematical and computational techniques to maximize or minimize certain objectives while adhering to specific constraints.\n",
    "\n",
    "  - **Using simulation outputs to find the best design/performance**:\n",
    "    Simulations provide valuable data on the behavior and performance of systems under various conditions. By analyzing these outputs, engineers can identify optimal design parameters that meet performance criteria and constraints. This iterative process involves running multiple simulations, adjusting variables, and evaluating results to converge on the best solution.\n",
    "\n",
    "  - **Applications in reducing material usage, improving strength, and minimizing defects**:\n",
    "    1. **Reducing material usage**: Optimization techniques can help identify ways to use materials more efficiently, reducing waste and cost. For example, lightweighting strategies in automotive and aerospace industries optimize material distribution to maintain strength while minimizing weight.\n",
    "    \n",
    "    2. **Improving strength**: By optimizing design parameters, engineers can enhance the structural integrity and strength of components. This includes identifying the optimal geometry, material properties, and manufacturing processes to achieve the desired performance.\n",
    "    \n",
    "    3. **Minimizing defects**: Optimization can also focus on improving manufacturing processes to reduce defects and increase quality. This involves analyzing simulation data to identify process parameters that minimize variations and defects, leading to higher consistency and reliability in production."
   ]
  }
 ],
 "metadata": {
  "kernelspec": {
   "display_name": "Python 3 (ipykernel)",
   "language": "python",
   "name": "python3"
  },
  "language_info": {
   "codemirror_mode": {
    "name": "ipython",
    "version": 3
   },
   "file_extension": ".py",
   "mimetype": "text/x-python",
   "name": "python",
   "nbconvert_exporter": "python",
   "pygments_lexer": "ipython3",
   "version": "3.12.3"
  }
 },
 "nbformat": 4,
 "nbformat_minor": 5
}
