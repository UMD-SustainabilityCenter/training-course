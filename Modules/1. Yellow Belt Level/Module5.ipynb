{
 "cells": [
  {
   "cell_type": "markdown",
   "id": "aae1711e-6f82-4c78-b07a-6bd69d2c3520",
   "metadata": {},
   "source": [
    "## Table of Contents (edit this last)\n",
    "* [Module 5: Model Based Process Control](#Module-5:-Model-Based-Process-Control)\n",
    "    * [Concepts](#Concepts:)\n",
    "    * [User Stories](#User-Stories:)\n",
    "        * [Model Predictive Control](2.%20Learning%20Modules/2.6.%20Model%20Predictive%20Control/Model%20Predictive%20Control.ipynb)\n",
    "    * [Assessment](#Assessment:)\n",
    "        * [Take a quiz](http://example.com/quiz)\n",
    "#### [🏠 Home](../../welcomePage.ipynb)"
   ]
  },
  {
   "cell_type": "markdown",
   "id": "0600646e-0e53-4677-9d0d-e1bff27f3d65",
   "metadata": {},
   "source": [
    "# <font color = 'red'>1. *Introduction to Model Based Process Control*"
   ]
  },
  {
   "cell_type": "markdown",
   "id": "0223c56d-391b-4ca3-8e54-0f7dcd3dc2eb",
   "metadata": {},
   "source": [
    "## *1.1 Definition of Process Control*\n",
    "\n",
    "We use process control to manage and maintain the quality, efficiency, and consistency of manufacturing processes. \n",
    "The goal is to ensure that products are produced within specification, while minimizing variability and defects, and maximizing throughput or otherwise reducing cost of production.\n",
    "\n",
    "Process control has two main approaches:\n",
    "1. **Statistical Process Control**: In this approach, a typically well-controlled process can be monitored for deviation and adjustments made to bring the process back within control limits. As its name implies, statistical models are used to mathematically describe the process from measured process data. It is these statistical models that enable the decision-making of selecting the best course of action to bring the process to the desired state.\n",
    "2. **Dynamic System Control**: Alternatively, this approach uses the mathematics of differential equations and dynamic systems to describe system behavior in order to control system behavior.\n",
    "Dynamic systems are those for which the state or status of the system changes in time according to some mathematical rule.\n",
    "Typically, the output can be predicted from the input, with some level of uncertainty, by applying the known mathmatical rules, called the system model.\n",
    "System models employ differential equations in which the time derivative (the rate-of-change) of a state variable is a known function of that state variable and the other state variables and inputs of the system.\n",
    "\n",
    "Some examples of dynamic control are:\n",
    "- **PID Controllers**: Pronounced \"P. I. D.\", these controllers use an error signal and its integral and derivative to generate an input actuation to the process under control. Typically they are tuned once and set for implementation to drive the output to a new or changing setpoint during the process.\n",
    "- **Model-based Optimal Controllers**: Typically linear dynamical system models are used to describe the behavior of a system at operating levels near the desired operation point. These models have some error as physical processes often have significant nonlinearity. The benefit of using linear models is that optimization theory has already been developed, giving controllers which can drive a linear system to the desired state under some optimization such as minimum time or minimum energy expenditure. An optimal controller can exceed the performance of a PID controller when a well-identified linear model is used to compose the optimal controller, essentially because the optimal controller has more levers for tuning its performance.\n",
    "- **Model-based Robust Controllers**: When the process under control exhibits variations such as disturbances due to additional physical inputs, a controller can lose performance. For example, a process which varies with ambient temperature will suffer if it uses the same PID controller or model-based optimal controller despite significant variation in ambient temperature. Essentially the variation represents an aspect of the process that is not captured in the linear model that was used to tune the optimal controller. One approach to handle expected variations is to model the amount of variation in the process behavior. With the combination of a linear model and its uncertainty, an optimal controller can be constructed to optmize for its performance across a range of operating conditions. The end result is a tuned controller which work can work well enough over a range of operating conditions. We call this robust as the controller tuning is robust to a specified level of variations, noise, or disturbance.\n",
    "- **Model Predictive Controllers**: The variations in a process due to uncontrolled inputs or changes in the states can be modeled. If such a model is constructed and has low error, it can be used in this advanced form of control. The model predictive controller will use a computer simulation of a short term horizon of the behavior of the system. With this simulation, the controller will solve an optimization problem to determine the best sequence of actuations to drive the output to the desired state within the time horizon. Once that optimization is solved, the next actuation value is taken from the solution to the optimization problem and used as the actuation of the physcial process. This process of prediction and optimizaiton for actuation is repeted at each timestep. This controller works well even for somewhat nonlinear processes. The cost of so much comptuation is the requirement for a capable microprocessor embedded close to the system, which can be well worth the expense.\n",
    " \n",
    "The key to both the statistical and dynamic system approaches is a mathematical model, and both approaches benefit from statistical analysis of uncertainty. We will explore further the models used in process control in order to understand their limits and how big data is enabling better performance than ever in model based process control."
   ]
  },
  {
   "cell_type": "markdown",
   "id": "632c3d40-fa84-401c-9191-d03205b83b4c",
   "metadata": {},
   "source": [
    "In Dynamic System Control, a control system can be mathematically formulated in order to optimize system performance.\n",
    "The control system can be simulated with a system model to validate its performance in a computer simulation.\n",
    "Later, the control system can be tested with a mixture of hardware and computer simulations in a procedure called \"hardware-in-the-loop\" (HIL) testing.\n",
    "The physical hardware can include control electronics, actuators, and sensors. The computer models can simulate parts of the manufacturing system which are more expensive to prototype, have challenging safety concerns, or have a longer lead time.\n",
    "The benefit of HIL testing is to further validate the control system implementation, now admitting effects that were not captured in the earlier simulations without hardware. These effects include the conversions between analog signals and digital signals, time delays, and physical interactions such as electromagnetic interference.\n",
    "HIL testing is still less expensive than full scale testing which requires the investment in the process and feedstock materials and produces waste when the process outputs are not in the specified tolerance. "
   ]
  },
  {
   "cell_type": "markdown",
   "id": "b76b6690-6960-4d45-b0fd-331e5693d6a4",
   "metadata": {},
   "source": [
    "## *1.2 Example of Manufacturing Process Control*\n",
    "\n",
    "A manufacturing process example will be selected with an accurate nonlinear, noisy model of the process.\n",
    "A process setpoint will be selected.\n",
    "Designed controllers of a few types will be demonstrated: PID, Optimal, Robust, and MPC.\n",
    "The error signal will be plotted.\n",
    "The area under the error signal curve will be shaded and a bar chart plotted.\n",
    "The controller with the least error will be identified.\n",
    "\n",
    "The plots will be repeated for a different setpoint with the controller.\n",
    "This should show the robust controller outperforming the optimal controller.\n",
    "The model predictive controller should have good performance in each case. "
   ]
  },
  {
   "cell_type": "markdown",
   "id": "8b898821-36cb-4972-b5fa-ac1097c0d787",
   "metadata": {},
   "source": [
    "Remaining Outline:\n",
    "\n",
    "-  See a variety of controllers drive error to zero\r",
    "-  \tSee noise/disturbance/model uncertainty-  •\tSee data used to identify/fit/train a mode-  \n",
    "•\tTrue process will have time dependent degradation (mass, damping, etc) plus temp dependent behavior (time since startup, 1st order response, 70 minute time constant), plus temp depdented behavior to environment temp (trapezoidal wave for HVAC system) plus random noi-  \r\n",
    "•\tTrain using data from day 1 or machin-  1\r\n",
    "•\tTrain using all days’ -  ta\r\n",
    "•\tTrain using last 1 hour data, evaluate controller performance\r\n"
   ]
  },
  {
   "cell_type": "markdown",
   "id": "50148ca2-afd5-4403-a521-da61a20b097c",
   "metadata": {},
   "source": [
    "### Module 5: Model Based Process Control\n",
    "\n",
    "Model-based process control is a mathematical and visual technique to addressing the challenges associated with designing complex control. This technique involves two key aspects. (a) The control analysis, representing the modeling and simulation aspects of the system including tuning and configuration, and automatic code generation. Each block of the model contains mathematical equations that emulate the behavior of the physical system. (b) The system and software, representing continuous validation and verification through testing, and deployment of the system. In this regard, when model-based control is used efficiently, it offers a single design platform to enhance overall system design. Through virtual prototyping, system engineers can easily see whether the whole system is working as intended, even before the hardware is manufactured and available for testing.\n",
    "\n",
    "\n",
    "#### Concepts:\n",
    "<center>\n",
    "    <img src=\"../../img/03.jpg\" alt=\"Alt text\" width=\"400\">\n",
    "</center>\n",
    "\n",
    "\n",
    "####  User Stories:\n",
    "- [Model Predictive Control](2.%20Learning%20Modules/2.6.%20Model%20Predictive%20Control/Model%20Predictive%20Control.ipynb) - This module demonstrates calculating a single time step's move trajectory using the same system as the Dahlin controller.\n",
    "\n",
    "#### Assessment:\n",
    "- [Take a quiz](http://example.com/quiz)"
   ]
  },
  {
   "cell_type": "code",
   "execution_count": null,
   "id": "e448430a-dc83-42de-b335-8eb780beb19b",
   "metadata": {
    "has_explanation": false,
    "jupyter": {
     "source_hidden": true
    }
   },
   "outputs": [],
   "source": []
  },
  {
   "cell_type": "markdown",
   "id": "732555fa-145a-4c33-b475-e40958dc0c1b",
   "metadata": {},
   "source": [
    "### <center>[◀︎ Module 4](Module4.ipynb)     [🏠 Home](../../welcomePage.ipynb)     [Module 6 ▶︎](Module6.ipynb)</center>\n"
   ]
  }
 ],
 "metadata": {
  "kernelspec": {
   "display_name": "Python 3 (ipykernel)",
   "language": "python",
   "name": "python3"
  },
  "language_info": {
   "codemirror_mode": {
    "name": "ipython",
    "version": 3
   },
   "file_extension": ".py",
   "mimetype": "text/x-python",
   "name": "python",
   "nbconvert_exporter": "python",
   "pygments_lexer": "ipython3",
   "version": "3.11.6"
  }
 },
 "nbformat": 4,
 "nbformat_minor": 5
}
