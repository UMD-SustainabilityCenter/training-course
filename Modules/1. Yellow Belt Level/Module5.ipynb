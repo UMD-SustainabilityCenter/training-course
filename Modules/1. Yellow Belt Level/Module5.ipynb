{
 "cells": [
  {
   "cell_type": "markdown",
   "id": "ca6e25fe",
   "metadata": {
    "tags": [
     "auto-generated-toc"
    ]
   },
   "source": [
    "## Table of Contents\n",
    "- [Y5 Model Based Process Control](#Y5-Model-Based-Process-Control)\n",
    "- [5.1 Motivation](#5.1-Motivation)\n",
    "  - [5.2 Introduction to Model Based Process Control](#5.2-Introduction-to-Model-Based-Process-Control)\n",
    "  - [5.3 Examples of Manufacturing Process Control](#5.3-Examples-of-Manufacturing-Process-Control)\n",
    "  - [5.4 User Stories](#5.4-User-Stories)\n",
    "- [🏠 Home](../../welcomePage.ipynb)"
   ]
  },
  {
   "cell_type": "markdown",
   "id": "7c38cb61",
   "metadata": {},
   "source": [
    "# Y5 Model Based Process Control"
   ]
  },
  {
   "attachments": {},
   "cell_type": "markdown",
   "id": "bc6a539a",
   "metadata": {},
   "source": [
    "# 5.1 Motivation\n",
    "Like layers of an onion, production systems have multiple layers with different timescales relevant to each layer. In the production of a complex system of assebmlies of parts, such as a ground vehicle, the innermost layer is the workpiece layer at which each workpiece is shaped. Shaping processes include casting, forging, extrusion, forming, stamping, deposition, and machining. In fact, a combination of processes in sequence is often used to shape the workpiece to its final shape. At the workpiece layer of production, events at the millisecond time scale affect the quality and cost of production. Hence, sensor data should be collected at the millisecond time scale as well for process improvement.\n",
    "<center>\n",
    "    <img src=\"../../img/Process Layers of Production Technology Fig 11.1.svg\" alt=\"The layers of production are shown as concentric rings with the workpiece at the center and the assembly of workpieces as the next ring out from the center.\" width=\"600\">\n",
    "</center>\n",
    "The next layer outside of the workpiece layer is the assembly layer in which workpieces are joined into an assembly. The timescale of events and their data relevance is typically larger at this layer, for example, a timescale of minutes, although precise millisecond data my be releveant during brief events of joining and fastening. This module will not cover the larger layers of the complete system/product and its usage in the field with their associated longer event and data timescales.\n",
    "\n",
    "With these layers of production in mind, we turn to the task of using data collected at the millisecond-to-minute time scale to improve the processes of workpiece shaping and assembly joining, realizing that digitally actuated machine tools can run more optimally simply by making digital changes (modified software, modified parameter files) in an improvement cycle that far exceeds the rate of learning of a human operator, for example, a welder executing a repetitive manual operation. For automated production processes, we can construct \"gray box\" models for direct digital control of a process using combinations of technical information and raw data from the production process. Furthermore, this approach can provide useful information to humans for the critical tasks of process planning, production management, and production development.\n",
    "\n",
    "Our schematic for this modle based process control is shown below. We will see how a single machine on a shop floor can participate in the optimization of model based process control, and then how the data and experiences of one machine can enable improvements across all the machines performing this process within a network or \"World Wide Lab\" of connected shop floors.\n",
    "\n",
    "<center>\n",
    "    <img src=\"../../img/Model Based Control System for Manufacturing Process.svg\" alt=\"This schematic of a model based control system for a manufacturing process shows a typical closed loop control system diagram with a sensed output signal fed back to control. Important additions are the collection of data from the Decision & Control block as well as the Machine block. Furthermore, the control section of the diagram is broken into a sequence of three blocks: Model Identification, Model Optimization, and Decision & Control\" width=\"800\">\n",
    "</center>"
   ]
  },
  {
   "cell_type": "markdown",
   "id": "b425696d",
   "metadata": {},
   "source": [
    "## 5.2 Introduction to Model Based Process Control"
   ]
  },
  {
   "cell_type": "markdown",
   "id": "3d4da586",
   "metadata": {},
   "source": [
    "Objective:  Understand how process data can be collected and used to improve performance.\n",
    "(Introduction to process data collection methods, such as sensors.)"
   ]
  },
  {
   "cell_type": "markdown",
   "id": "d9c3e3ce",
   "metadata": {},
   "source": [
    "### 5.2.1 Sensing and Data Aggregation\n",
    "Machine tools typically have integrated sensors in their design and often have the ability to acquire and transmit data from these onboard sensors. For example, a CNC (computer numerically controlled) machining center typically has sensing through linear or rotary position encoders on its motion stages, a spindle speed sensor, and sensors on the amount of electric current applied to each motor (a signal proportional to force in linear motion or torque in rotary motion). The process data on the motor drive's internal microcontroller registers can also be collected such as the tool number of the active tool, the present line number of the NC program, the zero point offset, and the sensed position and commanded position and their difference (the position error). Similarly, velocity and acceleration errors can be collected as well. More advanced machines may also include thermal, acoustic, and vibrational sensing and machine vision, or aftermarket sensor packages can be added to a machine to collect this as well. All of this data may be collected as fast as the position control cycle (1000 Hz gives a 1 millisecond sampling interval). One challenge, however, is the lack of an industry-wide standard for the sensor data interface and data format. Middleware software providers offer solutions to collect the data using the available interface of the machine tool with an additional computer.\n",
    "\n",
    "Data standards are as follows. Low-frequency dimensional data may be captured using the standardized OPC UA (Open Platform Communications Unified Architecture) interface for a machine.\n",
    "Once read, the machine data can be sent through a network using a publish/subscribe protocol such as MQTT (Message Queuing Telemetry Transport). The midddleware annotates machine information with metadata for automatic structuring and storage in a database.\n",
    "\n",
    "In addition to these integrated sensors on the machine tool, sensing is available in stanadard metrology and quality inspection steps which involve transporting the workpiece from the machine tool to a metrology lab. While metrology data collected according to ISO standards on a coordinate measuring machine is both accurate and precise, the time and inconvenience of moving the workpiece to a climate controlled lab and waiting for the workpiece to reach the standard specified temperature are good reasons to seek faster measurement options. CNC machines have probing systems which can give on-machine workpiece geometry measurements. These on-machine measurements will have higher error than CMM measurements due to both thermal expansion and geometric errors of the CNC machine tool.se"
   ]
  },
  {
   "cell_type": "markdown",
   "id": "9a98fb7e",
   "metadata": {},
   "source": [
    "### 5.2.2 Definition of Process Control\n",
    "\n",
    "We use process control to manage and maintain the quality, efficiency, and consistency of manufacturing processes. \n",
    "The goal is to ensure that products are produced within specification, while minimizing variability and defects, and maximizing throughput or otherwise reducing cost of production.\n",
    "\n",
    "Process control has two main approaches:\n",
    "1. **Statistical Process Control**: In this approach, a typically well-controlled process can be monitored for deviation and adjustments made to bring the process back within control limits. As its name implies, statistical models are used to mathematically describe the process from measured process data. It is these statistical models that enable the decision-making of selecting the best course of action to bring the process to the desired state.\n",
    "2. **Dynamic System Control**: Alternatively, this approach uses the mathematics of differential equations and dynamic systems to describe system behavior in order to control system behavior.\n",
    "Dynamic systems are those for which the state or status of the system changes in time according to some mathematical rule.\n",
    "Typically, the output can be predicted from the input, with some level of uncertainty, by applying the known mathmatical rules, called the system model.\n",
    "System models employ differential equations in which the time derivative (the rate-of-change) of a state variable is a known function of that state variable and the other state variables and inputs of the system.\n",
    "\n",
    "Some examples of dynamic control are:\n",
    "- **PID Controllers**: Pronounced \"P. I. D.\", these controllers use an error signal and its integral and derivative to generate an input actuation to the process under control. Typically they are tuned once and set for implementation to drive the output to a new or changing setpoint during the process.\n",
    "- **Model-based Optimal Controllers**: Typically linear dynamical system models are used to describe the behavior of a system at operating levels near the desired operation point. These models have some error as physical processes often have significant nonlinearity. The benefit of using linear models is that optimization theory has already been developed, giving controllers which can drive a linear system to the desired state under some optimization such as minimum time or minimum energy expenditure. An optimal controller can exceed the performance of a PID controller when a well-identified linear model is used to compose the optimal controller, essentially because the optimal controller has more levers for tuning its performance.\n",
    "- **Model-based Robust Controllers**: When the process under control exhibits variations such as disturbances due to additional physical inputs, a controller can lose performance. For example, a process which varies with ambient temperature will suffer if it uses the same PID controller or model-based optimal controller despite significant variation in ambient temperature. Essentially the variation represents an aspect of the process that is not captured in the linear model that was used to tune the optimal controller. One approach to handle expected variations is to model the amount of variation in the process behavior. With the combination of a linear model and its uncertainty, an optimal controller can be constructed to optmize for its performance across a range of operating conditions. The end result is a tuned controller which work can work well enough over a range of operating conditions. We call this robust as the controller tuning is robust to a specified level of variations, noise, or disturbance.\n",
    "- **Model Predictive Controllers**: The variations in a process due to uncontrolled inputs or changes in the states can be modeled. If such a model is constructed and has low error, it can be used in this advanced form of control. The model predictive controller will use a computer simulation of a short term horizon of the behavior of the system. With this simulation, the controller will solve an optimization problem to determine the best sequence of actuations to drive the output to the desired state within the time horizon. Once that optimization is solved, the next actuation value is taken from the solution to the optimization problem and used as the actuation of the physcial process. This process of prediction and optimizaiton for actuation is repeted at each timestep. This controller works well even for somewhat nonlinear processes. The cost of so much comptuation is the requirement for a capable microprocessor embedded close to the system, which can be well worth the expense.\n",
    " \n",
    "The key to both the statistical and dynamic system approaches is a mathematical model, and both approaches benefit from statistical analysis of uncertainty. We will explore further the models used in process control in order to understand their limits and how big data is enabling better performance than ever in model based process control."
   ]
  },
  {
   "cell_type": "markdown",
   "id": "d1c5af57",
   "metadata": {},
   "source": [
    "In Dynamic System Control, a control system can be mathematically formulated in order to optimize system performance.\n",
    "The control system can be simulated with a system model to validate its performance in a computer simulation.\n",
    "Later, the control system can be tested with a mixture of hardware and computer simulations in a procedure called \"hardware-in-the-loop\" (HIL) testing.\n",
    "The physical hardware can include control electronics, actuators, and sensors. The computer models can simulate parts of the manufacturing system which are more expensive to prototype, have challenging safety concerns, or have a longer lead time.\n",
    "The benefit of HIL testing is to further validate the control system implementation, now admitting effects that were not captured in the earlier simulations without hardware. These effects include the conversions between analog signals and digital signals, time delays, and physical interactions such as electromagnetic interference.\n",
    "HIL testing is still less expensive than full scale testing which requires the investment in the process and feedstock materials and produces waste when the process outputs are not in the specified tolerance. "
   ]
  },
  {
   "cell_type": "markdown",
   "id": "d93cecd6",
   "metadata": {},
   "source": [
    "## 5.3 Examples of Manufacturing Process Control\n",
    "\n",
    "\n",
    "### 5.3.1 Example Model and Sensor for Robot End-of-Arm Effector\n",
    "Let's consider the case of a gripper at the end of an industrial robot arm, like the image below.\n",
    "<center>\n",
    "    <img src=\"../../img/Module5_RobotExtruder.jpeg\" alt=\"An industrial robot arm with end of arm tool gripper mechanism.\" width=\"60%\">\n",
    "</center>\n",
    "\n",
    "Consider a gripper design with integrated gearmotor (electrical torque actuator) and potentiometer (angle sensor).\n",
    "\n",
    "A classical linear control system can be constructed to drive the angle of the gripper to a desired position in time.\n",
    "This is a feedback control system approach using the joint angle feedback signal from the potentiometer.\n",
    "Because DC motors, gearboxes, and potentiometers are standard components with well-established dynamical models, we can construct a first-prinicples model of this system in order to design a controller.\n",
    "\n",
    "We can neglecting the electrical dynamics due to the motor's self-inductance because they are much faster than the mechanical dynamics of the moving robot joint link.\n",
    "We construct a first-order model of the gearmotor from the motor's supplied voltage $V_\\text{supply}(t)$ in units of volts to the anglar speed of the motor shaft $\\omega_m(t)$ in units of radians per second.\n",
    "$$ J \\frac{d}{dt}\\omega_m(t) + \\left( c + \\frac{K_m^2}{R} \\right) \\omega_m(t) = \\frac{K_m}{R} V_\\text{supply}(t) $$\n",
    "Notice that the previous equation gives a first-order linear ordinary differential equation with input signal $V_\\text{supply}(t)$ and output signal $\\omega_m(t)$, which is why we call it a first-order dynamic system model. \n",
    "The highest power of $\\frac{d}{dt}$ in the equation is the first power, hence first order.\n",
    "\n",
    "Note that in a gearmotor, a gearbox connects the motor shaft to the load shaft, and so there are transformations in speed and torque across this gearbox from intput to output shaft.\n",
    "For this reason, we include a $\\frac{1}{N}$ factor to reduce the motor shaft speed by the gearbox's speed reduction ratio $N$ in order to get the speed of the robot joint connected to the gearbox output shaft.\n",
    "$$\\omega_\\text{output}(t) = \\frac{1}{N} \\omega_m(t)$$\n",
    "Further, to get the robot joint angle, we need to apply an integral to the speed signal with respect to time.\n",
    "$$\\theta_\\text{output}(t) = \\int \\omega_\\text{output}(t) \\, dt$$\n",
    "\n",
    "Lastly, the sensor we use is a potentiometer.\n",
    "We model this as a simple gain between the physical variable $\\omega_\\text{output}(t)$ and the voltage it generates in volts.\n",
    "$$V_\\text{sensed} = K_p \\omega_\\text{output}(t)$$\n",
    "\n",
    "We can construct the following block diagram of the closed loop angular control system.\n",
    "<div hidden>\n",
    "     TK: include a diagram of the specific motor and gearbox and joint and show the angles.\n",
    "</div>\n",
    "<center>\n",
    "    <img src=\"../../img/Block_diagram_robot_gripper.svg\" alt=\"A block diagram of the robot gripper final linkage with gearmotor and potentiometer sensor.\" width=\"100%\">\n",
    "</center>\n",
    "\n",
    "The block with gain $K$ is the controller. This block amplifies one voltage signal to create another voltage signal. The voltage going into block $K$ is a voltage proportional to the error in angular position.\n",
    "$$V_\\text{error}(t) = K_p \\left( \\theta_\\text{desired}(t)-\\theta_\\text{output}(t) \\right) $$\n",
    "\n",
    "$$V_\\text{supply}(t) = K V_\\text{error}(t)$$\n",
    "\n",
    "We now need to create an equation using our model in order to design control gain $K$ to achieve some system performance objective.\n",
    "\n",
    "Objective: Zero position overshoot.\n",
    "This objective is important when handing brittle materials such as ceramics. If the robot gripper closes its grip with a position overshoot of the gripper into the material, it can strain the material and cause fracture.\n",
    "\n",
    "Analysis of the block diagram gives a simplifed closed loop block with the following gain:\n",
    "$$\\frac{K_p K K_m }{R N s\\left(Js+c+\\frac{K_m^2}{R} \\right) + K_p K K_m}$$ \n",
    "\n",
    "This can be re-written:\n",
    "$$\\frac{K_p K K_m }{\\left(JRN s^2+(c+\\frac{K_m^2}{R})RNs \\right) + K_p K K_m}$$\n",
    "\n",
    "And again as:\n",
    "$$\\frac{ \\frac{K_p K K_m }{JRN}}{s^2+\\left(\\frac{c}{J}+\\frac{K_m^2}{RJ}\\right)s + \\frac{K_p K K_m }{J R N}}$$\n",
    "\n",
    "\n",
    "We can equate the denominator with the characteristic polynominal equation of a second-order system parameterized by damping ratio $\\zeta$ and natural frequency $\\omega_n$.\n",
    "\n",
    "$$ s^2+\\left(\\frac{c}{J}+\\frac{K_m^2}{RJ}\\right)s + \\frac{K_p K K_m }{J R N}= \\left(s^2 + 2\\zeta\\omega_n s + \\omega_n^2\\right)$$\n",
    "\n",
    "We see that $\\omega_n$ can be determined independently of $\\zeta$ in the equation above, but the value of the controller gain $K$ affects $\\omega_n$.\n",
    "$$\\omega_n = \\sqrt{\\frac{K_p K K_m }{J R N}}$$\n",
    "\n",
    "The damping ratio $\\zeta$ also follows from $K$ in the equation.\n",
    "$$\\zeta = \\frac{ \\frac{c}{J}+\\frac{K_m^2}{RJ} }{ 2 \\sqrt{\\frac{K_p K K_m }{J R N}}}$$\n",
    "\n",
    "We can sovle this equation for $K$ and simplify as follows:\n",
    "$$ K = \\frac{ \\left(\\frac{c}{J}+\\frac{K_m^2}{RJ}\\right)^2 }{ 4 \\frac{\\zeta^2 K_p K_m }{J R N}}$$\n",
    "\n",
    "The question remains: what value to set for $K$ (the controller gain), as the natural frequency and damping ratio of the system depends on $K$?\n",
    "\n",
    "Zeta ($\\zeta$) determines the amount of overshoot, and $\\omega_n$ does not determine the degree of overshoot.\n",
    "It is well known property of second-order systems that there will be no overshoot to a step input signal for $\\zeta=1$. However, engineers commonly tolerate some overshoot as long as there is no ringing (no oscillation of the output. There is no ringing for $\\zeta \\ge \\frac{\\sqrt{2}}{2} \\approx 0.707$.\n",
    "For this reason, engineering systems are often tuned to have $\\zeta = \\approx 0.7$.\n",
    "\n",
    "Our system model lets us design the controller gain $K$ and plot expected system responses to specified input signals.\n",
    "\n",
    "Let's plot this, starting with $K=0.707$.\n"
   ]
  },
  {
   "cell_type": "code",
   "execution_count": 1,
   "id": "537bb4c1",
   "metadata": {
    "has_explanation": false
   },
   "outputs": [
    {
     "name": "stdout",
     "output_type": "stream",
     "text": [
      "K_p =  5.7 volts per radian\n",
      "K_m =  0.25 newton-meters per ampere, equivalent to volts-seconds/radian\n",
      "R =  1.25 ohms\n",
      "J =  1.75e-05 newton meter-seconds-squared per radian\n",
      "c =  2e-05 newton meter-seconds per radian\n",
      "N =  1000\n",
      "model parameters are loaded\n"
     ]
    }
   ],
   "source": [
    "#set model parameters\n",
    "K_p = 5.7 #volts per radian\n",
    "K_m = 0.25 #motor constant in newton-meters per ampere, which is equivalent to back emf constant in volt-seconds per radian\n",
    "R = 1.25 #ohms\n",
    "J = 1.75e-5 #newton meter-seconds-squared per radian\n",
    "c = 2.0e-5 # newton-meter-seconds per radian\n",
    "N = 1000 #gear speed reduction ratio of gearmotor\n",
    "print('K_p = ',K_p,'volts per radian')\n",
    "print('K_m = ',K_m,'newton-meters per ampere, equivalent to volts-seconds/radian')\n",
    "print('R = ',R,'ohms')\n",
    "print('J = ',J,'newton meter-seconds-squared per radian')\n",
    "print('c = ',c,'newton meter-seconds per radian')\n",
    "print('N = ',N)\n",
    "print('model parameters are loaded')"
   ]
  },
  {
   "cell_type": "code",
   "execution_count": 2,
   "id": "a581446f",
   "metadata": {
    "has_explanation": false
   },
   "outputs": [
    {
     "data": {
      "application/vnd.jupyter.widget-view+json": {
       "model_id": "a25c242d33774367880ae3f29faf0e13",
       "version_major": 2,
       "version_minor": 0
      },
      "text/plain": [
       "FloatSlider(value=0.707, description='Zeta (ζ):', max=1.0, readout_format='.3f', step=0.001)"
      ]
     },
     "metadata": {},
     "output_type": "display_data"
    }
   ],
   "source": [
    "#Set damping ratio to see performance\n",
    "from ipywidgets import interact,interactive,widgets\n",
    "from IPython.display import display\n",
    "\n",
    "zeta = 0.707\n",
    "zetaSlider = widgets.FloatSlider(\n",
    "    value=zeta,\n",
    "    min=0,\n",
    "    max=1.0,\n",
    "    step=0.001,\n",
    "    description=\"Zeta (ζ):\",\n",
    "    disabled=False,\n",
    "    continuous_update=True,\n",
    "    orientation='horizontal',\n",
    "    readout=True,\n",
    "    readout_format='.3f',\n",
    ")\n",
    "\n",
    "\n",
    "def update_variable(change):\n",
    "    global zeta\n",
    "    zeta = change.new\n",
    "\n",
    "zetaSlider.observe(update_variable, names='value')\n",
    "display(zetaSlider)\n"
   ]
  },
  {
   "cell_type": "code",
   "execution_count": 3,
   "id": "30084ae0",
   "metadata": {
    "has_explanation": false
   },
   "outputs": [
    {
     "name": "stdout",
     "output_type": "stream",
     "text": [
      "damping ratio ζ = 0.707\n",
      "For this ζ, the designed controller gain is: K = 62725.7 volts per volt\n",
      "And the natural frequency ω_n = 2021.4 radians per second\n",
      "In hertz, the natural frequency is f_n = 321.7 hertz\n"
     ]
    },
    {
     "data": {
      "image/png": "[encoded data removed]",
      "text/plain": [
       "<Figure size 640x480 with 1 Axes>"
      ]
     },
     "metadata": {},
     "output_type": "display_data"
    }
   ],
   "source": [
    "#calculate system properties\n",
    "import math\n",
    "print(f\"damping ratio ζ = {zetaSlider.value:0.3f}\")\n",
    "K = (c/J+K_m**2/R/J)**2/(4*zetaSlider.value**2*K_p*K_m / (J*R*N))\n",
    "print(f\"For this ζ, the designed controller gain is: K = {K:0.1f} volts per volt\");\n",
    "omega_n = math.sqrt(K_p*K*K_m / (J*R*N) )\n",
    "print(f\"And the natural frequency ω_n = {omega_n:0.1f} radians per second\")\n",
    "print(f\"In hertz, the natural frequency is f_n = {omega_n/2/math.pi:0.1f} hertz\")\n",
    "#plot the step response from the transfer function\n",
    "\n",
    "    \n",
    "import numpy as np\n",
    "import matplotlib.pyplot as plt\n",
    "import control\n",
    "\n",
    "# Define the transfer function\n",
    "num = [K_p*K*K_m/J/R/N]  # Numerator coefficients\n",
    "den = [1, c/J+K_m**2/J/R, K_p*K*K_m/J/R/N]  # Denominator coefficients\n",
    "\n",
    "# alternative calculation for a second order system:\n",
    "# num = omega_n**2\n",
    "# den = [1, 2*zetaSlider.value*omega_n, omega_n**2]\n",
    "\n",
    "tf = control.TransferFunction(num, den)\n",
    "\n",
    "# Calculate the step response\n",
    "t, y = control.step_response(tf)\n",
    "\n",
    "# Plot the step response\n",
    "plt.plot(t, y)\n",
    "plt.xlabel(\"Time in seconds\")\n",
    "plt.ylabel(\"Amplitude (ratio of output to desired motion)\")\n",
    "plt.title(rf\"Step Response for Zeta ($\\zeta$) = {zetaSlider.value:0.3f}\")\n",
    "plt.grid(True)\n",
    "plt.show()"
   ]
  },
  {
   "cell_type": "markdown",
   "id": "bea25103",
   "metadata": {
    "has_explanation": false
   },
   "source": [
    "What have we learned?\n",
    "We saw that an engineering system can be controlled with feedback control. A potentiometer sensor was used as a feedback sensor on the joint angle of a robot arm. The actuator and sensor system was analyzed mathematically in order to design a closed loop control system. The control system was tuned (the controller gain $K$ set to a value) and the system performance predicted using a mathematical model. This model-based control system allows the designer to see the expected performance of the system.\n",
    "As you adjust zeta ($\\zeta$) you will see that the step response has a higher peak for lower values of $\\zeta$. For example, a $\\zeta \\approx 0.63$ gives a peak amplitude of 1.1 in the step response. This means 10% overshoot to position. That could be enough to break a fragile component being gripped by the robot arm. A smart design for handling fragile components is a large $\\zeta \\approx 1$."
   ]
  },
  {
   "cell_type": "markdown",
   "id": "ff574298",
   "metadata": {
    "editable": true,
    "slideshow": {
     "slide_type": ""
    },
    "tags": []
   },
   "source": [
    "## 5.4 User Stories\n",
    "- [Model Predictive Control](../../Modules/Examples/2.%20Learning%20Modules/2.6.%20Model%20Predictive%20Control/Model%20Predictive%20Control.ipynb) - This module demonstrates calculating a single time step's move trajectory using the same system as the Dahlin controller."
   ]
  },
  {
   "cell_type": "markdown",
   "id": "db03c2e4",
   "metadata": {
    "tags": [
     "Bottom Navigation"
    ]
   },
   "source": [
    "### <center>[◀︎ Module 4](Module4.ipynb)     [🏠 Home](../../welcomePage.ipynb)     [Module 6 ▶︎](Module6.ipynb)</center>"
   ]
  }
 ],
 "metadata": {
  "kernelspec": {
   "display_name": "Python 3 (ipykernel)",
   "language": "python",
   "name": "python3"
  },
  "language_info": {
   "codemirror_mode": {
    "name": "ipython",
    "version": 3
   },
   "file_extension": ".py",
   "mimetype": "text/x-python",
   "name": "python",
   "nbconvert_exporter": "python",
   "pygments_lexer": "ipython3",
   "version": "3.11.6"
  },
  "widgets": {
   "application/vnd.jupyter.widget-state+json": {
    "state": {
     "1b2309f0c8f348b6a436b69d55f55f0e": {
      "model_module": "@jupyter-widgets/controls",
      "model_module_version": "2.0.0",
      "model_name": "FloatSliderModel",
      "state": {
       "behavior": "drag-tap",
       "description": "Zeta (ζ):",
       "layout": "IPY_MODEL_a4a99d35510b4f479483042dfde38533",
       "max": 1,
       "readout_format": ".3f",
       "step": 0.001,
       "style": "IPY_MODEL_b31d860a3c6f4c6eaee88fccc0a7dc8d",
       "value": 0.279
      }
     },
     "a4a99d35510b4f479483042dfde38533": {
      "model_module": "@jupyter-widgets/base",
      "model_module_version": "2.0.0",
      "model_name": "LayoutModel",
      "state": {}
     },
     "b31d860a3c6f4c6eaee88fccc0a7dc8d": {
      "model_module": "@jupyter-widgets/controls",
      "model_module_version": "2.0.0",
      "model_name": "SliderStyleModel",
      "state": {
       "description_width": ""
      }
     }
    },
    "version_major": 2,
    "version_minor": 0
   }
  }
 },
 "nbformat": 4,
 "nbformat_minor": 5
}
