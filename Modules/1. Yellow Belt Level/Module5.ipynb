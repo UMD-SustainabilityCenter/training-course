{
 "cells": [
  {
   "cell_type": "markdown",
   "id": "aae1711e-6f82-4c78-b07a-6bd69d2c3520",
   "metadata": {},
   "source": [
    "## Table of Contents (edit this last)\n",
    "* [Module 5: Model Based Process Control](#Module-5:-Model-Based-Process-Control)\n",
    "    * [Concepts](#Concepts:)\n",
    "    * [User Stories](#User-Stories:)\n",
    "        * [Model Predictive Control](2.%20Learning%20Modules/2.6.%20Model%20Predictive%20Control/Model%20Predictive%20Control.ipynb)\n",
    "    * [Assessment](#Assessment:)\n",
    "        * [Take a quiz](http://example.com/quiz)\n",
    "#### [🏠 Home](../../welcomePage.ipynb)"
   ]
  },
  {
   "attachments": {},
   "cell_type": "markdown",
   "id": "6def6564-efc3-45eb-aaf5-5c800eef1b0d",
   "metadata": {},
   "source": [
    "# Motivation\n",
    "Like layers of an onion, production systems have multiple layers with different timescales relevant to each layer. In the production of a complex system of assebmlies of parts, such as a ground vehicle, the innermost layer is the workpiece layer at which each workpiece is shaped. Shaping processes include casting, forging, extrusion, forming, stamping, deposition, and machining. In fact, a combination of processes in sequence is often used to shape the workpiece to its final shape. At the workpiece layer of production, events at the millisecond time scale affect the quality and cost of production. Hence, sensor data should be collected at the millisecond time scale as well for process improvement.\n",
    "<center>\n",
    "    <img src=\"../../img/Process Layers of Production Technology Fig 11.1.svg\" alt=\"The layers of production are shown as concentric rings with the workpiece at the center and the assembly of workpieces as the next ring out from the center.\" width=\"600\">\n",
    "</center>\n",
    "The next layer outside of the workpiece layer is the assembly layer in which workpieces are joined into an assembly. The timescale of events and their data relevance is typically larger at this layer, for example, a timescale of minutes, although precise millisecond data my be releveant during brief events of joining and fastening. This module will not cover the larger layers of the complete system/product and its usage in the field with their associated longer event and data timescales.\n",
    "\n",
    "With these layers of production in mind, we turn to the task of using data collected at the millisecond-to-minute time scale to improve the processes of workpiece shaping and assembly joining, realizing that digitally actuated machine tools can run more optimally simply by making digital changes (modified software, modified parameter files) in an improvement cycle that far exceeds the rate of learning of a human operator, for example, a welder executing a repetitive manual operation. For automated production processes, we can construct \"gray box\" models for direct digital control of a process using combinations of technical information and raw data from the production process. Furthermore, this approach can provide useful information to humans for the critical tasks of process planning, production management, and production development.\n",
    "\n",
    "Our schematic for this modle based process control is shown below. We will see how a single machine on a shop floor can participate in the optimization of model based process control, and then how the data and experiences of one machine can enable improvements across all the machines performing this process within a network or \"World Wide Lab\" of connected shop floors.\n",
    "\n",
    "<center>\n",
    "    <img src=\"../../img/Model Based Control System for Manufacturing Process.svg\" alt=\"This schematic of a model based control system for a manufacturing process shows a typical closed loop control system diagram with a sensed output signal fed back to control. Important additions are the collection of data from the Decision & Control block as well as the Machine block. Furthermore, the control section of the diagram is broken into a sequence of three blocks: Model Identification, Model Optimization, and Decision & Control\" width=\"800\">\n",
    "</center>"
   ]
  },
  {
   "cell_type": "markdown",
   "id": "0600646e-0e53-4677-9d0d-e1bff27f3d65",
   "metadata": {},
   "source": [
    "# <font color = 'red'>1. *Introduction to Model Based Process Control*"
   ]
  },
  {
   "cell_type": "markdown",
   "id": "27c82538-c58e-4000-a071-cdb079e00d5b",
   "metadata": {},
   "source": [
    "Objective:  Understand how process data can be collected and used to improve performance.\r\n",
    "(Introduction to process data collection methods, such as sensors.)"
   ]
  },
  {
   "cell_type": "markdown",
   "id": "fe19cf22-1cf9-4e7f-9c7c-17db2b8817c4",
   "metadata": {},
   "source": [
    "## *1.1 Sensing and Data Aggregation*\n",
    "Machine tools typically have integrated sensors in their design and often have the ability to acquire and transmit data from these onboard sensors. For example, a CNC (computer numerically controlled) machining center typically has sensing through linear or rotary position encoders on its motion stages, a spindle speed sensor, and sensors on the amount of electric current applied to each motor (a signal proportional to force in linear motion or torque in rotary motion). The process data on the motor drive's internal microcontroller registers can also be collected such as the tool number of the active tool, the present line number of the NC program, the zero point offset, and the sensed position and commanded position and their difference (the position error). Similarly, velocity and acceleration errors can be collected as well. More advanced machines may also include thermal, acoustic, and vibrational sensing and machine vision, or aftermarket sensor packages can be added to a machine to collect this as well. All of this data may be collected as fast as the position control cycle (1000 Hz gives a 1 millisecond sampling interval). One challenge, however, is the lack of an industry-wide standard for the sensor data interface and data format. Middleware software providers offer solutions to collect the data using the available interface of the machine tool with an additional computer.\n",
    "\n",
    "Data standards are as follows. Low-frequency dimensional data may be captured using the standardized OPC UA (Open Platform Communications Unified Architecture) interface for a machine.\n",
    "Once read, the machine data can be sent through a network using a publish/subscribe protocol such as MQTT (Message Queuing Telemetry Transport). The midddleware annotates machine information with metadata for automatic structuring and storage in a database.\n",
    "\n",
    "In addition to these integrated sensors on the machine tool, sensing is available in stanadard metrology and quality inspection steps which involve transporting the workpiece from the machine tool to a metrology lab. While metrology data collected according to ISO standards on a coordinate measuring machine is both accurate and precise, the time and inconvenience of moving the workpiece to a climate controlled lab and waiting for the workpiece to reach the standard specified temperature are good reasons to seek faster measurement options. CNC machines have probing systems which can give on-machine workpiece geometry measurements. These on-machine measurements will have higher error than CMM measurements due to both thermal expansion and geometric errors of the CNC machine tool.se"
   ]
  },
  {
   "cell_type": "markdown",
   "id": "0223c56d-391b-4ca3-8e54-0f7dcd3dc2eb",
   "metadata": {},
   "source": [
    "## *1.2 Definition of Process Control*\n",
    "\n",
    "We use process control to manage and maintain the quality, efficiency, and consistency of manufacturing processes. \n",
    "The goal is to ensure that products are produced within specification, while minimizing variability and defects, and maximizing throughput or otherwise reducing cost of production.\n",
    "\n",
    "Process control has two main approaches:\n",
    "1. **Statistical Process Control**: In this approach, a typically well-controlled process can be monitored for deviation and adjustments made to bring the process back within control limits. As its name implies, statistical models are used to mathematically describe the process from measured process data. It is these statistical models that enable the decision-making of selecting the best course of action to bring the process to the desired state.\n",
    "2. **Dynamic System Control**: Alternatively, this approach uses the mathematics of differential equations and dynamic systems to describe system behavior in order to control system behavior.\n",
    "Dynamic systems are those for which the state or status of the system changes in time according to some mathematical rule.\n",
    "Typically, the output can be predicted from the input, with some level of uncertainty, by applying the known mathmatical rules, called the system model.\n",
    "System models employ differential equations in which the time derivative (the rate-of-change) of a state variable is a known function of that state variable and the other state variables and inputs of the system.\n",
    "\n",
    "Some examples of dynamic control are:\n",
    "- **PID Controllers**: Pronounced \"P. I. D.\", these controllers use an error signal and its integral and derivative to generate an input actuation to the process under control. Typically they are tuned once and set for implementation to drive the output to a new or changing setpoint during the process.\n",
    "- **Model-based Optimal Controllers**: Typically linear dynamical system models are used to describe the behavior of a system at operating levels near the desired operation point. These models have some error as physical processes often have significant nonlinearity. The benefit of using linear models is that optimization theory has already been developed, giving controllers which can drive a linear system to the desired state under some optimization such as minimum time or minimum energy expenditure. An optimal controller can exceed the performance of a PID controller when a well-identified linear model is used to compose the optimal controller, essentially because the optimal controller has more levers for tuning its performance.\n",
    "- **Model-based Robust Controllers**: When the process under control exhibits variations such as disturbances due to additional physical inputs, a controller can lose performance. For example, a process which varies with ambient temperature will suffer if it uses the same PID controller or model-based optimal controller despite significant variation in ambient temperature. Essentially the variation represents an aspect of the process that is not captured in the linear model that was used to tune the optimal controller. One approach to handle expected variations is to model the amount of variation in the process behavior. With the combination of a linear model and its uncertainty, an optimal controller can be constructed to optmize for its performance across a range of operating conditions. The end result is a tuned controller which work can work well enough over a range of operating conditions. We call this robust as the controller tuning is robust to a specified level of variations, noise, or disturbance.\n",
    "- **Model Predictive Controllers**: The variations in a process due to uncontrolled inputs or changes in the states can be modeled. If such a model is constructed and has low error, it can be used in this advanced form of control. The model predictive controller will use a computer simulation of a short term horizon of the behavior of the system. With this simulation, the controller will solve an optimization problem to determine the best sequence of actuations to drive the output to the desired state within the time horizon. Once that optimization is solved, the next actuation value is taken from the solution to the optimization problem and used as the actuation of the physcial process. This process of prediction and optimizaiton for actuation is repeted at each timestep. This controller works well even for somewhat nonlinear processes. The cost of so much comptuation is the requirement for a capable microprocessor embedded close to the system, which can be well worth the expense.\n",
    " \n",
    "The key to both the statistical and dynamic system approaches is a mathematical model, and both approaches benefit from statistical analysis of uncertainty. We will explore further the models used in process control in order to understand their limits and how big data is enabling better performance than ever in model based process control."
   ]
  },
  {
   "cell_type": "markdown",
   "id": "632c3d40-fa84-401c-9191-d03205b83b4c",
   "metadata": {},
   "source": [
    "In Dynamic System Control, a control system can be mathematically formulated in order to optimize system performance.\n",
    "The control system can be simulated with a system model to validate its performance in a computer simulation.\n",
    "Later, the control system can be tested with a mixture of hardware and computer simulations in a procedure called \"hardware-in-the-loop\" (HIL) testing.\n",
    "The physical hardware can include control electronics, actuators, and sensors. The computer models can simulate parts of the manufacturing system which are more expensive to prototype, have challenging safety concerns, or have a longer lead time.\n",
    "The benefit of HIL testing is to further validate the control system implementation, now admitting effects that were not captured in the earlier simulations without hardware. These effects include the conversions between analog signals and digital signals, time delays, and physical interactions such as electromagnetic interference.\n",
    "HIL testing is still less expensive than full scale testing which requires the investment in the process and feedstock materials and produces waste when the process outputs are not in the specified tolerance. "
   ]
  },
  {
   "cell_type": "markdown",
   "id": "b76b6690-6960-4d45-b0fd-331e5693d6a4",
   "metadata": {},
   "source": [
    "## *1.2 Example of Manufacturing Process Control*\n",
    "\n",
    "A manufacturing process example will be selected with an accurate nonlinear, noisy model of the process.\n",
    "A process setpoint will be selected.\n",
    "Designed controllers of a few types will be demonstrated: PID, Optimal, Robust, and MPC.\n",
    "The error signal will be plotted.\n",
    "The area under the error signal curve will be shaded and a bar chart plotted.\n",
    "The controller with the least error will be identified.\n",
    "\n",
    "The plots will be repeated for a different setpoint with the controller.\n",
    "This should show the robust controller outperforming the optimal controller.\n",
    "The model predictive controller should have good performance in each case. "
   ]
  },
  {
   "cell_type": "markdown",
   "id": "8b898821-36cb-4972-b5fa-ac1097c0d787",
   "metadata": {},
   "source": [
    "Remaining Outline:\n",
    "\n",
    "-  See a variety of controllers drive error to zero\r",
    "-  \tSee noise/disturbance/model uncertainty-  •\tSee data used to identify/fit/train a mode-  \n",
    "•\tTrue process will have time dependent degradation (mass, damping, etc) plus temp dependent behavior (time since startup, 1st order response, 70 minute time constant), plus temp depdented behavior to environment temp (trapezoidal wave for HVAC system) plus random noise\r\n",
    "•\tTrain using data from day 1 or machie  1\r\n",
    "•\tTrain using a dayslys  ta\r\n",
    "•\tTrain using last 1 hour data, evaluate controller performa\n",
    "\n",
    "Use example of a robotic gripper\n",
    "Frequency domain controller - designed with specifications.\n",
    "Alternative - add a sensor ( a potentiometer with DAQ), use full state feedback control - get better performance.\n",
    "explore the sensor and DAQ setup, concepts of resolution, sample rate, performance hits for these.nce\r\n"
   ]
  },
  {
   "cell_type": "code",
   "execution_count": null,
   "id": "66624c13-4b93-4591-a46b-0b51325a9489",
   "metadata": {},
   "outputs": [],
   "source": []
  },
  {
   "cell_type": "markdown",
   "id": "50148ca2-afd5-4403-a521-da61a20b097c",
   "metadata": {},
   "source": [
    "### Module 5: Model Based Process Control\n",
    "\n",
    "Model-based process control is a mathematical and visual technique to addressing the challenges associated with designing complex control. This technique involves two key aspects. (a) The control analysis, representing the modeling and simulation aspects of the system including tuning and configuration, and automatic code generation. Each block of the model contains mathematical equations that emulate the behavior of the physical system. (b) The system and software, representing continuous validation and verification through testing, and deployment of the system. In this regard, when model-based control is used efficiently, it offers a single design platform to enhance overall system design. Through virtual prototyping, system engineers can easily see whether the whole system is working as intended, even before the hardware is manufactured and available for testing.\n",
    "\n",
    "\n",
    "#### Concepts:\n",
    "<center>\n",
    "    <img src=\"../../img/03.jpg\" alt=\"Alt text\" width=\"400\">\n",
    "</center>\n",
    "\n",
    "\n",
    "####  User Stories:\n",
    "- [Model Predictive Control](2.%20Learning%20Modules/2.6.%20Model%20Predictive%20Control/Model%20Predictive%20Control.ipynb) - This module demonstrates calculating a single time step's move trajectory using the same system as the Dahlin controller.\n",
    "\n",
    "#### Assessment:\n",
    "- [Take a quiz](http://example.com/quiz)"
   ]
  },
  {
   "cell_type": "code",
   "execution_count": null,
   "id": "e448430a-dc83-42de-b335-8eb780beb19b",
   "metadata": {
    "has_explanation": false,
    "jupyter": {
     "source_hidden": true
    }
   },
   "outputs": [],
   "source": []
  },
  {
   "cell_type": "markdown",
   "id": "732555fa-145a-4c33-b475-e40958dc0c1b",
   "metadata": {},
   "source": [
    "### <center>[◀︎ Module 4](Module4.ipynb)     [🏠 Home](../../welcomePage.ipynb)     [Module 6 ▶︎](Module6.ipynb)</center>\n"
   ]
  }
 ],
 "metadata": {
  "kernelspec": {
   "display_name": "Python 3 (ipykernel)",
   "language": "python",
   "name": "python3"
  },
  "language_info": {
   "codemirror_mode": {
    "name": "ipython",
    "version": 3
   },
   "file_extension": ".py",
   "mimetype": "text/x-python",
   "name": "python",
   "nbconvert_exporter": "python",
   "pygments_lexer": "ipython3",
   "version": "3.11.6"
  }
 },
 "nbformat": 4,
 "nbformat_minor": 5
}
