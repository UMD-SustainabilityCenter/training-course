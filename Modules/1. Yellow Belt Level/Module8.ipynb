{
 "cells": [
  {
   "cell_type": "markdown",
   "id": "e29084c4",
   "metadata": {
    "tags": [
     "auto-generated-toc"
    ]
   },
   "source": [
    "## Table of Contents\n",
    "- [Y8 Digital Engineering Challenges](#Y8-Digital-Engineering-Challenges)\n- [🏠 Home](../../welcomePage.ipynb)"
   ]
  },
  {
   "cell_type": "markdown",
   "id": "2ab1da9b-1bad-4d51-89a3-2f2259654dbd",
   "metadata": {},
   "source": [
    "# Y8 Digital Engineering Challenges \n",
    "\n",
    "Digital engineering has an ambitious scope: managing the entire lifecycle of a system of systems, including hardware systems as well as the software components. Many challenges exist for fully implementing digital engineering in government and industry. The most critical ones are interface and connectivity in the digital thread."
   ]
  },
  {
   "cell_type": "markdown",
   "id": "db5bc38a",
   "metadata": {
    "tags": [
     "Bottom Navigation"
    ]
   },
   "source": [
    "### <center>[◀︎ Module 7](Module7.ipynb)     [🏠 Home](../../welcomePage.ipynb)</center>"
   ]
  }
 ],
 "metadata": {
  "kernelspec": {
   "display_name": "Python 3 (ipykernel)",
   "language": "python",
   "name": "python3"
  },
  "language_info": {
   "codemirror_mode": {
    "name": "ipython",
    "version": 3
   },
   "file_extension": ".py",
   "mimetype": "text/x-python",
   "name": "python",
   "nbconvert_exporter": "python",
   "pygments_lexer": "ipython3",
   "version": "3.12.5"
  },
  "widgets": {
   "application/vnd.jupyter.widget-state+json": {
    "state": {},
    "version_major": 2,
    "version_minor": 0
   }
  }
 },
 "nbformat": 4,
 "nbformat_minor": 5
}
