

















import pandas as pd
loaded_data = pd.read_csv('Module 1/numerical_data_example.csv')
loaded_data.head()








import matplotlib.pyplot as plt

# Subset a smaller range of data (first 100 data points for smoother lines)
data_subset = data.head(100)

# Apply a simple moving average to smooth the Temperature data
window_size = 5  # Define the window size for moving average
smoothed_temperature = data_subset['Temperature (°C)'].rolling(window=window_size).mean()

plt.figure(figsize=(4, 4))

# Plotting the smoothed Temperature (°C) over time
plt.plot(data_subset['Timestamp'], smoothed_temperature, label='Temperature (°C)', color='tab:blue')

# Adding labels and title
plt.xlabel('Time')
plt.ylabel('Temperature (°C)')
plt.title('Machine Temperature Over Time')
plt.xticks(rotation=45)  # Rotating the x-axis labels for better readability

# Displaying the plot
plt.legend()
plt.tight_layout()  # Adjust layout to make room for labels
plt.show()





import pandas as pd
pd.read_csv('Module 1/maintenance_logs.csv')





import matplotlib.pyplot as plt
import matplotlib.image as mpimg
import os

# Define the folder where images are stored
image_folder = './Module 1/imagetype data'

# Create a figure with 3x3 subplots
fig, axes = plt.subplots(3, 3, figsize=(5, 5))

# List all image filenames in the folder
image_files = os.listdir(image_folder)

# Loop through the subplots and images
for i, ax in enumerate(axes.flat):
    if i < len(image_files):
        # Read the image
        img_path = os.path.join(image_folder, image_files[i])
        img = mpimg.imread(img_path)
        
        # Display the image in the corresponding subplot
        ax.imshow(img)
        ax.axis('off')  # Hide axes
        ax.set_title(f'Stage {i+1}')
    else:
        # If there are fewer than 9 images, hide remaining axes
        ax.axis('off')

# Adjust layout for better spacing
plt.tight_layout()
plt.show()





import matplotlib.pyplot as plt
import numpy as np
import pandas as pd

# Generate synthetic temperature data
np.random.seed(42)
num_rows = 100
timestamps = pd.date_range(start="2024-01-01", periods=num_rows, freq="h")
temperature = np.random.normal(loc=70, scale=5, size=num_rows)  # Temperature data with normal distribution

# Introduce missing values at random indices
missing_indices = np.random.choice(range(40, num_rows), size=20, replace=False)
temperature_with_missing = temperature.copy()
temperature_with_missing[missing_indices] = np.nan  # Set those indices to NaN (missing)

# Create a DataFrame to hold the data
data = pd.DataFrame({
    'Timestamp': timestamps,
    'Temperature (°C)': temperature_with_missing
})

# Plot the temperature data
plt.figure(figsize=(5, 3))
plt.plot(data['Timestamp'], data['Temperature (°C)'], label='Temperature (°C)', color='tab:blue')

# Labels and title
plt.xlabel('Time')
plt.ylabel('Temperature (°C)')
plt.title('Temperature Data with Missing Values')
plt.xticks(rotation=45)
#plt.legend()
plt.tight_layout()
plt.show()





import numpy as np
import matplotlib.pyplot as plt
import pandas as pd

# Generate synthetic normal vibration data (simulating normal machine vibration)
np.random.seed(42)
num_points = 100
vibration = np.random.normal(loc=5, scale=0.2, size=num_points)  # Normally distributed vibration data around 5 mm/s

# Introduce noise by adding small random variations to the data
noise = np.random.normal(loc=0, scale=0.1, size=num_points)  # Random noise with smaller variation
vibration_with_noise = vibration + noise

# Introduce outliers by adding extreme values at random positions
outlier_indices = np.random.choice(range(num_points), size=5, replace=False)  # Random indices for outliers
vibration_with_noise[outlier_indices] = np.random.choice([20, 25, 30, 40], size=5)  # Extreme outlier values

# Create a DataFrame to hold the data
data = pd.DataFrame({
    'Time (seconds)': range(num_points),
    'Vibration (mm/s)': vibration_with_noise
})

# Plot the vibration data with noise
plt.figure(figsize=(5, 4))

# Plot the data with blue lines for normal data
plt.plot(data['Time (seconds)'], vibration_with_noise, color='tab:blue', label='Vibration Data')

# Highlight the lines connected to outliers in red
for idx in outlier_indices:
    if idx > 0 and idx < num_points - 1:
        # Plot the line segment from the point before the outlier to the outlier
        plt.plot([data['Time (seconds)'][idx-1], data['Time (seconds)'][idx]], 
                 [vibration_with_noise[idx-1], vibration_with_noise[idx]], 
                 color='red', lw=1)

        # Plot the line segment from the outlier to the point after the outlier
        plt.plot([data['Time (seconds)'][idx], data['Time (seconds)'][idx+1]], 
                 [vibration_with_noise[idx], vibration_with_noise[idx+1]], 
                 color='red', lw=1)

# Labels and title
plt.xlabel('Time (seconds)')
plt.ylabel('Vibration (mm/s)')
plt.title('Vibration Data with Noise and Outliers')
# plt.legend()
plt.tight_layout()
plt.show()






import pandas as pd
import numpy as np

# Simulating product inventory data with inconsistent naming, units, and quantities
np.random.seed(42)

# Simulated product names with inconsistencies in formatting
product_names = [
    'gearbox model A', 'Gearbox Model A', 'gear-box model A', 'GearboxA', 
    'motor model X', 'motor model X', 'motor_x', 'Motor Model X', 
    'bearing_123', 'Bearing 123', 'bearing 123', 'Bearing_123', 
    'circuit board', 'circuitBoard', 'circuit board', 'circuit-board',
    'piston model 3', 'piston_3', 'Piston Model 3', 'Piston-3', 
    'valve model v1', 'valve_v1', 'Valve Model v1', 'valve-model-v1', 
    'gearbox model B', 'Gearbox Model B', 'gear-box model B', 'GearboxB', 
    'valve model v2', 'Valve model V2'
]

# Simulated quantity data with some inconsistencies (e.g., quantities are not always realistic)
quantity = np.random.randint(5, 100, size=30)  # Random quantity between 5 and 100

# Create a DataFrame to simulate the inconsistent inventory data
data = pd.DataFrame({
    'Product_Name': product_names,
    'Quantity': quantity
})

# Display the original data with inconsistencies in product names, units, and quantities
print("Original Inventory Data with Inconsistencies:")
data



