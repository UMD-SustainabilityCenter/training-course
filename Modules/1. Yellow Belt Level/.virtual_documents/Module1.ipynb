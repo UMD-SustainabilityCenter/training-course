














loaded_data = pd.read_csv('Module 1/numerical_data_example.csv')
loaded_data.head()








import matplotlib.pyplot as plt

# Subset a smaller range of data (first 100 data points for smoother lines)
data_subset = data.head(100)

# Apply a simple moving average to smooth the Temperature data
window_size = 5  # Define the window size for moving average
smoothed_temperature = data_subset['Temperature (°C)'].rolling(window=window_size).mean()

plt.figure(figsize=(4, 4))

# Plotting the smoothed Temperature (°C) over time
plt.plot(data_subset['Timestamp'], smoothed_temperature, label='Temperature (°C)', color='tab:blue')

# Adding labels and title
plt.xlabel('Time')
plt.ylabel('Temperature (°C)')
plt.title('Machine Temperature Over Time')
plt.xticks(rotation=45)  # Rotating the x-axis labels for better readability

# Displaying the plot
plt.legend()
plt.tight_layout()  # Adjust layout to make room for labels
plt.show()





import pandas as pd
pd.read_csv('Module 1/maintenance_logs.csv')





import matplotlib.pyplot as plt
import matplotlib.image as mpimg
import os

# Define the folder where images are stored
image_folder = './Module 1/imagetype data'

# Create a figure with 3x3 subplots
fig, axes = plt.subplots(3, 3, figsize=(5, 5))

# List all image filenames in the folder
image_files = os.listdir(image_folder)

# Loop through the subplots and images
for i, ax in enumerate(axes.flat):
    if i < len(image_files):
        # Read the image
        img_path = os.path.join(image_folder, image_files[i])
        img = mpimg.imread(img_path)
        
        # Display the image in the corresponding subplot
        ax.imshow(img)
        ax.axis('off')  # Hide axes
        ax.set_title(f'Stage {i+1}')
    else:
        # If there are fewer than 9 images, hide remaining axes
        ax.axis('off')

# Adjust layout for better spacing
plt.tight_layout()
plt.show()












