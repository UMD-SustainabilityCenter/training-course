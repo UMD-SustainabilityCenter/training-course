








import sys
sys.path.append('Module 1 Content')  # Adjust the path as necessary

from functions import *
quiz1()












































import sys
sys.path.append('Module 1 Content')  # Adjust the path as necessary

from functions import *
example1()






