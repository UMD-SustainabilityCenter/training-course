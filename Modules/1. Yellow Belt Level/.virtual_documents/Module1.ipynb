











import pandas as pd
data = pd.read_csv('Module 1/numerical_data_example.csv')
data.head()





import matplotlib.pyplot as plt
import pandas as pd

# Ensure the Timestamp column is in datetime format
data['Timestamp'] = pd.to_datetime(data['Timestamp'])

# Subset a smaller range of data (first 20 data points for smoother lines) and make a copy
data_subset = data.head(20).copy()

# Extract only the time part of the Timestamp
data_subset['Time'] = data_subset['Timestamp'].dt.strftime('%H:%M:%S')

# Apply a simple moving average to smooth the Pressure data
window_size = 5  # Define the window size for moving average
smoothed_pressure = data_subset['Pressure (Pa)'].rolling(window=window_size).mean()

plt.figure(figsize=(4, 4))

# Plotting the smoothed Pressure (Pa) over time
plt.plot(data_subset['Time'], smoothed_pressure, label='Pressure (Pa)', color='tab:orange')

# Adding labels and title
plt.xlabel('Time')
plt.ylabel('Pressure (Pa)')
plt.title('Machine Pressure Over Time')
plt.xticks(rotation=90)  # Rotating the x-axis labels for better readability

# Displaying the plot
plt.legend()
plt.tight_layout()  # Adjust layout to make room for labels
plt.show()






import pandas as pd
pd.read_csv('Module 1/maintenance_logs.csv')





import matplotlib.pyplot as plt
import matplotlib.image as mpimg
import os

# Define the folder where images are stored
image_folder = './Module 1/imagetype data'

# Create a figure with 3x3 subplots
fig, axes = plt.subplots(3, 3, figsize=(5, 5))

# List all image filenames in the folder
image_files = os.listdir(image_folder)

# Loop through the subplots and images
for i, ax in enumerate(axes.flat):
    if i < len(image_files):
        # Read the image
        img_path = os.path.join(image_folder, image_files[i])
        img = mpimg.imread(img_path)
        
        # Display the image in the corresponding subplot
        ax.imshow(img)
        ax.axis('off')  # Hide axes
        ax.set_title(f'Stage {i+1}')
    else:
        # If there are fewer than 9 images, hide remaining axes
        ax.axis('off')

# Adjust layout for better spacing
plt.tight_layout()
plt.show()





import matplotlib.pyplot as plt
import numpy as np
import pandas as pd

# Generate synthetic temperature data
np.random.seed(42)
num_rows = 150
timestamps = pd.date_range(start="2024-01-01", periods=num_rows, freq="h")
temperature = np.random.normal(loc=70, scale=5, size=num_rows)  # Temperature data with normal distribution

# Introduce missing values at random indices
missing_indices = np.random.choice(range(40, 100), size=50, replace=False)
temperature_with_missing = temperature.copy()
temperature_with_missing[missing_indices] = np.nan  # Set those indices to NaN (missing)

# Create a DataFrame to hold the data
data = pd.DataFrame({
    'Timestamp': timestamps,
    'Temperature (°C)': temperature_with_missing
})

# Plot the temperature data
plt.figure(figsize=(4, 3))
plt.plot(data['Timestamp'], data['Temperature (°C)'], label='Temperature (°C)', color='tab:red', linewidth = 0.4)

# Labels and title
plt.xlabel('Time')
plt.ylabel('Temperature (°C)')
plt.title('Temperature Data with Missing Values')
plt.xticks(rotation=45)
#plt.legend()
plt.tight_layout()
plt.show()





import numpy as np
import matplotlib.pyplot as plt
import pandas as pd

# Set seed for reproducibility
np.random.seed(42)

# Generate time data
time = np.arange(0, 1000, 1)

# Simulate sensor data (e.g., Vibration)
Vibration = 20 + np.sin(time / 50) * 5 + np.random.normal(size=time.size)

# Introduce more outliers due to sensor malfunctions
outlier_indices = [50, 100, 150, 200, 210, 230, 500, 600, 800, 850, 900]
outlier_values = [50, -10, 60, -15, 70, -20, 40, -25, 45, -30, 55]
Vibration[outlier_indices] = outlier_values

# Create a DataFrame
data = pd.DataFrame({
    'Time': time,
    'Vibration': Vibration
})

# Plot sensor data
plt.figure(figsize=(4, 4))
plt.plot(data['Time'], data['Vibration'], label='Vibration', color='blue', linewidth=0.3)
plt.scatter(data['Time'][outlier_indices], data['Vibration'][outlier_indices], color='red', label='Outliers', marker = 'x')
plt.title('Sensor Data with Outliers')
plt.xlabel('Time')
plt.ylabel('Vibration')
plt.legend()
plt.show()





import pandas as pd
import numpy as np

# Simulating product inventory data with inconsistent naming, units, and quantities
np.random.seed(42)

# Simulated product names with inconsistencies in formatting
product_names = [
    'gearbox model A', 'Gearbox Model A', 'gear-box model A', 'GearboxA', 
    'motor model X', 'motor model X', 'motor_x', 'Motor Model X', 
    'bearing_123', 'Bearing 123', 'bearing 123', 'Bearing_123', 
    'circuit board', 'circuitBoard', 'circuit board', 'circuit-board',
    'piston model 3', 'piston_3', 'Piston Model 3', 'Piston-3', 
    'valve model v1', 'valve_v1', 'Valve Model v1', 'valve-model-v1', 
    'gearbox model B', 'Gearbox Model B', 'gear-box model B', 'GearboxB', 
    'valve model v2', 'Valve model V2'
]

# Simulated quantity data with some inconsistencies (e.g., quantities are not always realistic)
quantity = np.random.randint(5, 100, size=30)  # Random quantity between 5 and 100

# Create a DataFrame to simulate the inconsistent inventory data
data = pd.DataFrame({
    'Product_Name': product_names,
    'Quantity': quantity
})

# Display the original data with inconsistencies in product names, units, and quantities
print("Original Inventory Data with Inconsistencies:")
data



