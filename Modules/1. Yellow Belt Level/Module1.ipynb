{
 "cells": [
  {
   "cell_type": "markdown",
   "id": "52f87ed6-0545-429f-8628-0126c03e82e9",
   "metadata": {},
   "source": [
    "# Y1 Data\n",
    "## 1.1 Introduction to Data in Digital Engineering"
   ]
  },
  {
   "cell_type": "markdown",
   "id": "06cfbdc0-3e9c-465f-bf30-4976789bfc18",
   "metadata": {},
   "source": [
    "### <font color = '#646464'> 1.1.1 Definition of Data </font>\n",
    "\n",
    "Data is essentially raw, unprocessed information that hasn’t yet been organized or analyzed. Think of it as the basic facts, numbers, or observations collected for future use. This information can come from a variety of places such as devices that measure things (like temperature sensors), surveys we fill out, business transactions, or even simple observations of our surroundings.\n",
    "\n",
    "Data can be split into two main types:\n",
    "\n",
    "1. **Quantitative Data**: This type of data deals with numbers. For example, it can be the number of people who attended an event or the temperature recorded by a thermometer. Quantitative data helps us measure and compare things.\n",
    "\n",
    "2. **Qualitative Data**: This type is descriptive rather than numerical. It includes things like colors, names, or a person's opinion about something. Qualitative data provides details that can't easily be counted or measured but are still valuable for understanding situations.\n",
    "\n",
    "<center>\n",
    "  <img src=\"Module 1 Content/quantitative vs qualitative.png\" alt=\"Quantitative vs Qualitative Data\" width=\"500\"/>\n",
    "</center>\n",
    "\n",
    "Data can be found in many formats including:\n",
    "- **Text**: Letters or words, such as a sentence in a document.\n",
    "- **Numbers**: Simple values like 50 or 3.14, which can represent anything from age to the length of an object.\n",
    "- **Images**: Pictures that might be used for analysis or documentation.\n",
    "- **Audio**: Sounds that can include anything from speech to music.\n",
    "- **Video**: Moving images and sounds, such as recordings from cameras.\n",
    "\n",
    "This raw data, once organized and processed, can help us understand patterns, make decisions, or find solutions to problems. It is the first step in creating information and knowledge that we can use to make informed choices in various fields, such as science and healthcare."
   ]
  },
  {
   "cell_type": "markdown",
   "id": "21f47949-bc3c-4492-b943-8e31b1e4ac95",
   "metadata": {},
   "source": [
    "<font size = 3 color = 'blue'>Below is your first exposure to interactive widgets! You will find a small interactive exercise designed to help you understand and classify different types of data. In this activity, you'll be asked to identify whether each example represents qualitative or quantitative data."
   ]
  },
  {
   "cell_type": "code",
   "execution_count": null,
   "id": "2b404d40-75bf-4bf2-b3b7-146c31202278",
   "metadata": {},
   "outputs": [],
   "source": [
    "import sys\n",
    "sys.path.append('Module 1 Content')  # Adjust the path as necessary\n",
    "\n",
    "from functions import *\n",
    "quiz1()"
   ]
  },
  {
   "cell_type": "markdown",
   "id": "742e1d12-7ba5-42f0-b006-ebd5b1937f64",
   "metadata": {},
   "source": [
    "### <font color = '#646464'> 1.1.2 Importance of Data in Digital Engineering </font>\n",
    "\n",
    "Data is essential in Digital Engineering. It helps engineers make better decisions, improve how things work, and predict future problems. By using data, engineers can create detailed digital versions of real-world systems (called digital twins) and improve how things are designed and made. This results in less downtime, better products, and faster innovation. Here are some of the key ways data is important in Digital Engineering:\n",
    "\n",
    "1. **Improved Accuracy and Precision**: With real-time data, engineers can create products more accurately, ensuring they meet all specifications and work as expected. <font color = 'blue'>Boeing uses real-time data to ensure precise assembly of the 787 Dreamliner, resulting in highly accurate and high-quality aircraft.\n",
    "\n",
    "3. **Better Monitoring and Control**: Engineers can use data from connected devices to monitor systems in real-time. This allows them to see how things are performing, spot problems early, and make quick fixes. <font color = 'blue'> General Electric’s gas turbines are continuously monitored with sensors that provide real-time data, enabling engineers to detect and address issues before they lead to failure.\n",
    "\n",
    "4. **Collaboration and Communication**: Data sharing helps teams from different departments or locations work together more effectively. By accessing and sharing information, teams can solve problems together and improve overall results. <font color = 'blue'> Ford’s global design teams collaborate efficiently by sharing data on vehicle performance and manufacturing processes, speeding up the development of new models.\n",
    "\n",
    "5. **Predictive Maintenance**: By analyzing data, engineers can predict when machines or equipment are likely to break down. This allows them to fix things before they fail, saving money and reducing downtime. <font color = 'blue'> Rolls-Royce’s \"TotalCare\" program predicts engine maintenance needs using data analytics, minimizing unplanned downtime and maximizing operational efficiency.\n",
    "\n",
    "6. **Driving Innovation**: Data can help engineers discover new patterns and trends. This can lead to new ideas for improving products, processes, or even creating entirely new products. <font color = 'blue'>Tesla collects vast amounts of data from its cars to improve its autonomous driving system, continually enhancing the technology's safety and performance."
   ]
  },
  {
   "cell_type": "markdown",
   "id": "bd4a8481-70fd-436d-9c88-cbaf9cd9eb1b",
   "metadata": {},
   "source": [
    "## 1.2 Types of Data in Digital Engineering"
   ]
  },
  {
   "cell_type": "markdown",
   "id": "8d43ac34-6f35-4332-96e4-3f4b06b7163d",
   "metadata": {},
   "source": [
    "### <font color = '#646464'> 1.2.1 Structured vs. Unstructured Data </font>\n",
    "\n",
    "<center> <img src=\"Module 1 Content/Data Structured Un.png\" alt=\"Description\" width=\"500\"/> </center>"
   ]
  },
  {
   "cell_type": "markdown",
   "id": "0ece138b-b1b5-4bac-a392-39bf98093f03",
   "metadata": {},
   "source": [
    "#### <font color = '#646464'> *1.2.1.1 Structured Data* </font>\n",
    "\n",
    "**Definition**: Structured data is organized, easily searchable, and typically stored in relational databases or spreadsheets. It follows a predefined format or schema, making it simple to manage and analyze using traditional data processing techniques.\n",
    "\n",
    "**Characteristics**:\n",
    "- **Schema-Defined**: Structured data adheres to a specific schema, which defines the structure, such as tables, columns, and data types.\n",
    "- **Easily Searchable**: Due to its organized format, structured data can be easily queried (data can be easily searched and retrieved when needed) and other database query languages.\n",
    "- **Quantitative**: Often consists of numerical values, dates, and categorical data that can be used for statistical analysis and reporting.\n",
    "\n",
    "**Example**:\n",
    "3D printing failure that could happen when testing different print materials and properties. The data is well-organized and presents key information about the printing settings and outcomes.\n",
    "\n",
    "| Print Job ID | Material Type | Print Speed (mm/s) | Layer Height (mm) | Temperature (°C) | Support Type | Failed (Yes/No) |\n",
    "|--------------|---------------|--------------------|-------------------|------------------|--------------|-----------------|\n",
    "| 001          | PLA           | 50                 | 0.2               | 210              | Yes          | No              |\n",
    "| 002          | ABS           | 60                 | 0.3               | 230              | No           | Yes             |\n",
    "| 003          | PETG          | 40                 | 0.15              | 220              | Yes          | No              |\n",
    "| 004          | PLA           | 55                 | 0.2               | 210              | No           | No              |\n",
    "| 005          | ABS           | 45                 | 0.25              | 240              | Yes          | Yes             |"
   ]
  },
  {
   "cell_type": "markdown",
   "id": "81394f05-4305-4ea6-b7f0-7580049a17ee",
   "metadata": {},
   "source": [
    "### <font color = '#646464'> *1.2.1.2 Unstructured Data* </font>\n",
    "\n",
    "**Definition**: Unstructured data is raw and unorganized, lacking a predefined format or schema. It can come in various forms, including text, images, videos, and audio files. Unstructured data is more challenging to manage and analyze using traditional data processing techniques, but it holds valuable insights.\n",
    "\n",
    "**Characteristics**:\n",
    "- **No Fixed Schema**: Unstructured data does not adhere to a specific schema, making it more flexible but harder to organize and analyze.\n",
    "- **Diverse Formats**: Can be in various formats such as text documents, emails, social media posts, images, videos, and audio recordings.\n",
    "- **Qualitative**: Often consists of qualitative information that requires advanced analytics techniques, such as natural language processing (NLP) and image recognition, to extract meaningful insights.\n",
    "\n",
    "**Examples**: Going back to the same structured data example, the sensor data might indicate that the printer is operating normally, with no issues detected in terms of temperature, speed, or material feed. However, unstructured image data captured during the printing process could reveal that the part is failing despite the sensors showing no abnormalities. Although we have meaningful images from the printing process, they are unstructured data and require a lot of processing to extract useful information. The images might show uneven layers, warping, or incomplete structures that were not captured by the sensor readings. In this case, the image data provides additional insight into the problem, highlighting issues that the sensor data alone could not identify, such as printing defects or alignment problems.\n",
    "\n",
    "<center> <img src=\"Module 1 Content/Print Failure.png\" alt=\"Description\" width=\"700\"/> </center>"
   ]
  },
  {
   "cell_type": "markdown",
   "id": "44a2c475-cae7-47d2-a605-6e289b113c32",
   "metadata": {},
   "source": [
    "## <font> 1.3 Data Collection Methods </font>"
   ]
  },
  {
   "cell_type": "markdown",
   "id": "d73d356d-13f0-4e3f-95e1-0081505548b8",
   "metadata": {},
   "source": [
    "### <font color = '#646464'> 1.3.1 Sensors and IoT Devices </font>\n",
    "Sensors and IoT devices automatically collect real-time data from equipment and environments. They provide immediate insights into operations and enable predictive maintenance by identifying potential issues early, improving overall efficiency and reducing downtime.\n",
    "<center> <img src=\"Module 1 Content/thermalvideo.gif\" alt=\"Description\" width=\"400\"/> <img src=\"Module 1 Content/Temperature IoT.jpeg\" alt=\"Description\" width=\"350\"/> </center>"
   ]
  },
  {
   "cell_type": "markdown",
   "id": "3752da94-7bc7-4639-a40d-57116692289e",
   "metadata": {},
   "source": [
    "### <font color = '#646464'> 1.3.2 Manual Data Entry </font>\n",
    "Manual data entry involves human operators recording data into systems. This method captures detailed and qualitative information that sensors may not detect, making it essential for scenarios where automation is not feasible and detailed documentation is required."
   ]
  },
  {
   "cell_type": "markdown",
   "id": "78ad171a-03af-489d-81aa-6611d0f13548",
   "metadata": {},
   "source": [
    "### <font color = '#646464'> 1.3.3 Data Logging Systems </font>\n",
    "Data logging systems continuously and automatically record data over time. These systems ensure consistent data collection, facilitate historical analysis for trend identification, and help maintain data integrity by reducing the risk of human error.\n",
    "\n"
   ]
  },
  {
   "cell_type": "markdown",
   "id": "3626c31e-1e1d-4888-a90a-de2926e44568",
   "metadata": {},
   "source": [
    "### <font color = '#646464'> 1.3.4 CAD Metadata </font>\n",
    "Computer-Aided Design (CAD) metadata includes detailed information about the design and specifications of manufactured parts. This metadata captures dimensions, tolerances, material properties, and other design attributes, providing a comprehensive digital representation that is crucial for quality control, process optimization, and building digital twins.\n",
    "\n",
    "<center> <img src=\"Module 1 Content/cadmetadata.png\" alt=\"Description\" width=\"800\"/> </center>"
   ]
  },
  {
   "cell_type": "markdown",
   "id": "e5d0645e-2127-4d43-9d74-5081a8c4f071",
   "metadata": {},
   "source": [
    "## 1.4 Data Management and Storage"
   ]
  },
  {
   "cell_type": "markdown",
   "id": "9f7e6167-63e0-4e19-95b1-e81660584bc2",
   "metadata": {},
   "source": [
    "In digital engineering, data needs to be stored safely and accessed easily. There are three common ways to do this:  \n",
    "\n",
    "- **Databases** organize data so it’s easy to find and use.  \n",
    "- **Data warehouses** collect data from different places to help with analysis.  \n",
    "- **Cloud storage** saves data online, so it can be accessed from anywhere. "
   ]
  },
  {
   "cell_type": "markdown",
   "id": "65dc4365-4177-4eef-a9e1-37da4d0701f8",
   "metadata": {},
   "source": [
    "## 1.5 Data Challenges\n",
    "\n",
    "In the world of digital engineering, having high-quality data is essential for making accurate decisions and reliable predictions. However, there are several challenges that can affect the quality of the data, which in turn can influence the results of any analysis. These challenges include missing data, errors (like noise), outliers, and issues with data formatting. Understanding these problems is important because they can significantly impact the conclusions we draw from the data."
   ]
  },
  {
   "cell_type": "markdown",
   "id": "9ba7f1eb-3d42-4cb7-9557-46d94ebf62f3",
   "metadata": {},
   "source": [
    "### <font color = '#646464'> 1.5.1 Missing Values </font>\n",
    "\n",
    "Sometimes, data is simply not available. This is called **missing data**. It can happen for a variety of reasons, such as sensors malfunctioning, human error, or interruptions in data collection processes. When some data points are missing, it can lead to incomplete analysis and result in biased or inaccurate conclusions. For example, if we are monitoring a machine's performance and some data about temperature or pressure is missing, we might not be able to fully understand how well the machine is working.\n",
    "\n",
    "**Why it's a problem**: Missing data can distort the results, making it difficult to make informed decisions.\n",
    "\n",
    "Detailed Machine Monitoring Data\n",
    "\n",
    "| Time       | Machine ID | Temperature (°C) | Pressure (psi) | Output (units) |\n",
    "|:----------:|:---------:|:----------------:|:--------------:|:--------------:|\n",
    "| 08:00:00   | M01       | 180              | **<span style=\"color:red\">missing</span>**  | 450            |\n",
    "| 08:01:00   | M02       | **<span style=\"color:red\">missing</span>** | 150  | 430            |\n",
    "| 08:02:00   | M01       | 175              | 145            | **<span style=\"color:red\">missing</span>** |\n",
    "| 08:03:00   | M03       | 190              | 155            | 470            |\n",
    "| 08:04:00   | M02       | **<span style=\"color:red\">missing</span>** | **<span style=\"color:red\">missing</span>** | 420            |\n",
    "| 08:05:00   | M01       | 185              | 148            | 455            |\n",
    "| 08:06:00   | M03       | 195              | 157            | 475            |\n",
    "| 08:07:00   | M01       | 180              | 149            | **<span style=\"color:red\">missing</span>** |\n",
    "| 08:08:00   | M02       | **<span style=\"color:red\">missing</span>** | 152  | 435            |\n",
    "| 08:09:00   | M03       | 188              | **<span style=\"color:red\">missing</span>** | 468          |\n",
    "\n",
    "### <font color = '#646464'> 1.5.2 Noise and Outliers </font>\n",
    "\n",
    "- **Noise** refers to random, irrelevant fluctuations in the data that don't actually represent anything meaningful. It’s like static or interference that muddles the real information.\n",
    "  \n",
    "- **Outliers** are data points that are much different from most of the others. For example, if most of the temperatures in a machine’s operating environment are between 50 and 60 degrees, but one reading shows 150 degrees, that’s an outlier. It could be caused by a malfunction, or it could be valid data that needs to be understood in context.\n",
    "\n",
    "Both noise and outliers can cause confusion and lead to incorrect conclusions if not identified and properly handled. For instance, an outlier might look like an important signal, but it could just be a mistake. Similarly, noise might hide the true pattern in the data.\n",
    "\n",
    "**Why it's a problem**: Noise and outliers can distort analysis and lead to misleading results.\n",
    "\n",
    "<font color = 'blue'> Example </font>: We will intentionally add noise to a dataset to demonstrate its effect visually. It's important to understand that in real-world scenarios, noise often accompanies data naturally due to various reasons such as errors in data collection, environmental interference, or variability in measurement devices. This demonstration will help you visualize how noise can obscure patterns in data and complicate the analysis."
   ]
  },
  {
   "cell_type": "code",
   "execution_count": 1,
   "id": "b76f14ca-394d-4f45-833f-fc7ce4a933db",
   "metadata": {},
   "outputs": [
    {
     "data": {
      "application/vnd.jupyter.widget-view+json": {
       "model_id": "c1c9d07b752c40bfafc6050ce0c022c2",
       "version_major": 2,
       "version_minor": 0
      },
      "text/plain": [
       "interactive(children=(FloatSlider(value=0.0, description='Noise Level', max=0.3, step=0.05), Output()), _dom_c…"
      ]
     },
     "metadata": {},
     "output_type": "display_data"
    },
    {
     "data": {
      "application/vnd.jupyter.widget-view+json": {
       "model_id": "6f923ab023a349b7b23543dd7da10770",
       "version_major": 2,
       "version_minor": 0
      },
      "text/plain": [
       "Output()"
      ]
     },
     "metadata": {},
     "output_type": "display_data"
    }
   ],
   "source": [
    "import sys\n",
    "sys.path.append('Module 1 Content')  # Adjust the path as necessary\n",
    "\n",
    "from functions import *\n",
    "example1()"
   ]
  },
  {
   "cell_type": "markdown",
   "id": "4542bd3f-e54e-4ab7-8e3f-6b1de6660294",
   "metadata": {},
   "source": [
    "### <font color = '#646464'> 1.5.3 Inconsistent Formats and Duplicates </font>\n",
    "\n",
    "Sometimes, data is stored in different formats, even though it represents the same thing. For example, one dataset might list dates as \"MM/DD/YYYY,\" while another uses \"DD/MM/YYYY.\" This inconsistency can make it harder to combine or analyze the data correctly.\n",
    "\n",
    "**Duplicates** occur when the same information is recorded multiple times. This often happens when data is collected from different sources or systems. Duplicates can waste resources and create confusion by showing incorrect totals or averages.\n",
    "\n",
    "**Why it's a problem**: Inconsistent formats can slow down data processing and make it harder to get reliable results, while duplicates can lead to inaccurate analysis.\n",
    "\n",
    "The table below illustrates several issues with inconsistent formats and duplicates. Printer types have variations such as \"Laser Printer,\" \"laser printer,\" and \"LASER printer,\" while material types show differences like \"PLA,\" \"abs,\" \"ABS,\" \"PETG,\" \"PET-G,\" and \"petg.\" These inconsistencies make it difficult to standardize the data for analysis. Additionally, duplicates are present for printer types and material types, leading to redundancy and potential inaccuracies in usage hours. Such inconsistencies and duplicates can result in unreliable data processing and analysis, ultimately impacting decision-making and resource allocation."
   ]
  },
  {
   "cell_type": "markdown",
   "id": "0a9112c0-4621-4816-ab64-504637a7acce",
   "metadata": {},
   "source": [
    "| ID | Printer Type        | Material Type | Usage Hours |\n",
    "|----|---------------------|---------------|-------------|\n",
    "| 1  | Laser Printer       | PLA           | 100         |\n",
    "| 2  | Inkjet Printer      | abs           | 150         |\n",
    "| 3  | laser printer       | PLA           | 100         |\n",
    "| 4  | InkJet Printer      | ABS           | 150         |\n",
    "| 5  | Dot Matrix Printer  | PETG          | 200         |\n",
    "| 6  | Inkjet printer      | abs           | 150         |\n",
    "| 7  | Dot-Matrix Printer  | PET-G         | 250         |\n",
    "| 8  | LASER printer       | PLA           | 100         |\n",
    "| 9  | dot matrix printer  | petg          | 250         |\n",
    "| 10 | Inkjet Printer      | ABS           | 15         |\n"
   ]
  }
 ],
 "metadata": {
  "kernelspec": {
   "display_name": "Python 3 (ipykernel)",
   "language": "python",
   "name": "python3"
  },
  "language_info": {
   "codemirror_mode": {
    "name": "ipython",
    "version": 3
   },
   "file_extension": ".py",
   "mimetype": "text/x-python",
   "name": "python",
   "nbconvert_exporter": "python",
   "pygments_lexer": "ipython3",
   "version": "3.12.3"
  }
 },
 "nbformat": 4,
 "nbformat_minor": 5
}
