{
 "cells": [
  {
   "cell_type": "markdown",
   "id": "52f87ed6-0545-429f-8628-0126c03e82e9",
   "metadata": {},
   "source": [
    "# <font color = 'red'>1. *Introduction to Data in Digital Engineering*"
   ]
  },
  {
   "cell_type": "markdown",
   "id": "40a9a76e-50e2-41d3-9874-d4988eab1c18",
   "metadata": {},
   "source": [
    "## 1.1 Definition of Data\r\n",
    "\r\n",
    "Data is essentially raw, unprocessed information that hasn’t yet been organized or analyzed. Think of it as the basic facts, numbers, or observations collected for future use. This information can come from a variety of places such as devices that measure things (like temperature sensors), surveys we fill out, business transactions, or even simple observations of our surroundings.\r\n",
    "\r\n",
    "Data can be split into two main types:\r\n",
    "\r\n",
    "1. **Quantitative Data**: This type of data deals with numbers. For example, it can be the number of people who attended an event or the temperature recorded by a thermometer. Quantitative data helps us measure and compare things.\r\n",
    "\r\n",
    "2. **Qualitative Data**: This type is descriptive rather than numerical. It includes things like colors, names, or a person's opinion about something. Qualitative data provides details that can't easily be counted or measured but are still valuable for understanding situations.\r\n",
    "\r\n",
    "Data can be found in many formats including:\r\n",
    "- **Text**: Letters or words, such as a sentence in a document.\r\n",
    "- **Numbers**: Simple values like 50 or 3.14, which can represent anything from age to the length of an object.\r\n",
    "- **Images**: Pictures that might be used for analysis or documentation.\r\n",
    "- **Audio**: Sounds that can include anything from speech to music.\r\n",
    "- **Video**: Moving images and sounds, such as recordings from cameras.\r\n",
    "\r\n",
    "This raw data, once organized and processed, can help us understand patterns, make decisions, or find solutions to problems. It is the first step in creating information and knowledge that we can use to make informed choices in various fields, such as science, business, or healthcare.\r\n",
    "healthcare.\r\n",
    "re.\n",
    "\n"
   ]
  },
  {
   "cell_type": "code",
   "execution_count": 1,
   "id": "2b404d40-75bf-4bf2-b3b7-146c31202278",
   "metadata": {},
   "outputs": [
    {
     "data": {
      "application/vnd.jupyter.widget-view+json": {
       "model_id": "1dbd84617cb14656841cce403a715c30",
       "version_major": 2,
       "version_minor": 0
      },
      "text/plain": [
       "Output()"
      ]
     },
     "metadata": {},
     "output_type": "display_data"
    },
    {
     "data": {
      "application/vnd.jupyter.widget-view+json": {
       "model_id": "771d2700279b42aca6ee12b8bec1df49",
       "version_major": 2,
       "version_minor": 0
      },
      "text/plain": [
       "Button(description='Quantitative', style=ButtonStyle())"
      ]
     },
     "metadata": {},
     "output_type": "display_data"
    },
    {
     "data": {
      "application/vnd.jupyter.widget-view+json": {
       "model_id": "dfa7e5dd501f4eec966eed50e5ae5a7f",
       "version_major": 2,
       "version_minor": 0
      },
      "text/plain": [
       "Button(description='Qualitative', style=ButtonStyle())"
      ]
     },
     "metadata": {},
     "output_type": "display_data"
    }
   ],
   "source": [
    "import sys\n",
    "sys.path.append('Module 1 Content')  # Adjust the path as necessary\n",
    "\n",
    "from functions import *\n",
    "quiz1()"
   ]
  },
  {
   "cell_type": "markdown",
   "id": "742e1d12-7ba5-42f0-b006-ebd5b1937f64",
   "metadata": {},
   "source": [
    "## 1.2 Importance of Data in Digital Engineering\n",
    "\n",
    "Data is at the heart of Digital Engineering, where it plays a vital role in helping engineers make well-informed decisions, improve efficiency, and predict future events or issues. By using data, engineers can create highly accurate digital representations of physical systems, known as digital twins, and optimize various processes. This leads to reduced downtime, better product quality, and faster innovation. Some of the key benefits of data in Digital Engineering are:\n",
    "\n",
    "1. **Improved Accuracy and Precision**: With real-time data and digital twins, engineers can design and manufacture products with much greater accuracy, ensuring that the final product meets all specifications and expectations.\n",
    "\n",
    "2. **Better Monitoring and Control**: Digital twins and Internet of Things (IoT) devices allow engineers to monitor and control processes in real-time. This means they can track performance, detect problems, and make necessary adjustments instantly.\n",
    "\n",
    "3. **Collaboration and Communication**: Data sharing enables teams across different departments or locations to collaborate more effectively. By accessing and sharing insights from data, teams can work together on a common goal, improving overall productivity.\n",
    "\n",
    "4. **Predictive Maintenance**: With the help of data analytics and digital twins, engineers can predict when equipment or machinery might fail. This allows for proactive maintenance, reducing the likelihood of unexpected breakdowns and costly repairs.\n",
    "\n",
    "5. **Driving Innovation**: Data-driven insights from digital twins can reveal patterns, trends, and new opportunities for improvement. This helps engineers innovate by introducing new ideas, processes, or products that were previously hard to identify."
   ]
  },
  {
   "cell_type": "markdown",
   "id": "bd4a8481-70fd-436d-9c88-cbaf9cd9eb1b",
   "metadata": {},
   "source": [
    "# <font color = 'red'>*2. Types of Data in Digital Engineering*"
   ]
  },
  {
   "cell_type": "markdown",
   "id": "8d43ac34-6f35-4332-96e4-3f4b06b7163d",
   "metadata": {},
   "source": [
    "## *2.1 Structured vs. Unstructured Data*\n",
    "\n",
    "<center> <img src=\"Module 1 Content/Data Structured Un.png\" alt=\"Description\" width=\"500\"/> </center>"
   ]
  },
  {
   "cell_type": "markdown",
   "id": "0ece138b-b1b5-4bac-a392-39bf98093f03",
   "metadata": {},
   "source": [
    "### *2.1.1 Structured Data*\n",
    "\n",
    "**Definition**: Structured data is organized, easily searchable, and typically stored in relational databases or spreadsheets. It follows a predefined format or schema, making it simple to manage and analyze using traditional data processing techniques.\n",
    "\n",
    "**Characteristics**:\n",
    "- **Schema-Defined**: Structured data adheres to a specific schema, which defines the structure, such as tables, columns, and data types.\n",
    "- **Easily Searchable**: Due to its organized format, structured data can be easily queried using SQL (Structured Query Language) and other database query languages.\n",
    "- **Quantitative**: Often consists of numerical values, dates, and categorical data that can be used for statistical analysis and reporting.\n",
    "\n",
    "**Applications in Manufacturing**:\n",
    "- **Quality Control**: Real-time monitoring of sensor data to detect defects and variances in the manufacturing process.\n",
    "- **Maintenance**: Analyzing equipment performance data to predict and schedule maintenance activities, reducing downtime.\n",
    "- **Production Optimization**: Using operational data to optimize production schedules and resource allocation for maximum efficiency.\n",
    "\n",
    "**Examples**:\n",
    "- **Sensor Data**: Temperature, pressure, and humidity readings collected from sensors.\n",
    "- **Operational Data**: Production rates, machine status, and energy consumption recorded in a manufacturing process.\n",
    "- **Transactional Data**: Sales records, inventory levels, and financial transactions stored in an enterprise database.\n",
    "- **Customer Data**: Customer information such as names, addresses, and purchase history stored in a CRM (Customer Relationship Management) system."
   ]
  },
  {
   "cell_type": "markdown",
   "id": "81394f05-4305-4ea6-b7f0-7580049a17ee",
   "metadata": {},
   "source": [
    "### *2.1.2 Unstructured Data*\n",
    "\n",
    "**Definition**: Unstructured data is raw and unorganized, lacking a predefined format or schema. It can come in various forms, including text, images, videos, and audio files. Unstructured data is more challenging to manage and analyze using traditional data processing techniques, but it holds valuable insights.\n",
    "\n",
    "**Characteristics**:\n",
    "- **No Fixed Schema**: Unstructured data does not adhere to a specific schema, making it more flexible but harder to organize and analyze.\n",
    "- **Diverse Formats**: Can be in various formats such as text documents, emails, social media posts, images, videos, and audio recordings.\n",
    "- **Qualitative**: Often consists of qualitative information that requires advanced analytics techniques, such as natural language processing (NLP) and image recognition, to extract meaningful insights.\n",
    "\n",
    "**Applications in Manufacturing**:\n",
    "- **Defect Detection**: Analyzing images and videos from quality inspections to identify defects and improve product quality.\n",
    "- **Customer Feedback**: Mining text data from customer reviews and social media posts to understand customer preferences and improve products.\n",
    "- **Safety Monitoring**: Using audio and video data from surveillance systems to monitor safety compliance and detect potential hazards."
   ]
  },
  {
   "cell_type": "markdown",
   "id": "44a2c475-cae7-47d2-a605-6e289b113c32",
   "metadata": {},
   "source": [
    "# <font color = 'red'>*3. Data Collection Methods*"
   ]
  },
  {
   "cell_type": "markdown",
   "id": "d73d356d-13f0-4e3f-95e1-0081505548b8",
   "metadata": {},
   "source": [
    "#### *1. Sensors and IoT Devices*\n",
    "Sensors and IoT devices automatically collect real-time data from equipment and environments. They provide immediate insights into operations and enable predictive maintenance by identifying potential issues early, improving overall efficiency and reducing downtime.\n",
    "\n",
    "<center> <img src=\"Module 1 Content/Temperature Sensor Data.png\" alt=\"Description\" width=\"700\"/> </center>"
   ]
  },
  {
   "cell_type": "markdown",
   "id": "3752da94-7bc7-4639-a40d-57116692289e",
   "metadata": {},
   "source": [
    "#### *2. Manual Data Entry*\n",
    "Manual data entry involves human operators recording data into systems. This method captures detailed and qualitative information that sensors may not detect, making it essential for scenarios where automation is not feasible and detailed documentation is required."
   ]
  },
  {
   "cell_type": "markdown",
   "id": "78ad171a-03af-489d-81aa-6611d0f13548",
   "metadata": {},
   "source": [
    "#### *3. Data Logging Systems*\n",
    "Data logging systems continuously and automatically record data over time. These systems ensure consistent data collection, facilitate historical analysis for trend identification, and help maintain data integrity by reducing the risk of human error."
   ]
  },
  {
   "cell_type": "markdown",
   "id": "3626c31e-1e1d-4888-a90a-de2926e44568",
   "metadata": {},
   "source": [
    "#### *4. CAD Metadata*\n",
    "Computer-Aided Design (CAD) metadata includes detailed information about the design and specifications of manufactured parts. This metadata captures dimensions, tolerances, material properties, and other design attributes, providing a comprehensive digital representation that is crucial for quality control, process optimization, and building digital twins.\n",
    "\n",
    "<center> <img src=\"Module 1 Content/cadmetadata.png\" alt=\"Description\" width=\"800\"/> </center>"
   ]
  },
  {
   "cell_type": "markdown",
   "id": "e5d0645e-2127-4d43-9d74-5081a8c4f071",
   "metadata": {},
   "source": [
    "# <font color = 'red'>*4. Data Management and Storage*"
   ]
  },
  {
   "cell_type": "markdown",
   "id": "cdf66de7-7512-45e4-9eb8-2987426b6282",
   "metadata": {},
   "source": [
    "#### *1. Data Storage Solutions*\n",
    "Data storage solutions are essential for managing and storing large volumes of data generated in manufacturing processes. These solutions include databases, data warehouses, and cloud storage. Databases provide structured storage for easy querying and retrieval of data. Data warehouses aggregate data from multiple sources, enabling comprehensive analysis and reporting. Cloud storage offers scalable and flexible storage options, ensuring data is accessible from anywhere and can be easily integrated with other cloud-based services."
   ]
  },
  {
   "cell_type": "markdown",
   "id": "658ef7be-7f8c-4867-b626-bb73801e980e",
   "metadata": {},
   "source": [
    "#### *2. Data Integration and Interoperability*\n",
    "Data integration and interoperability involve combining data from various sources and ensuring that different systems can work together seamlessly. This is crucial for creating a unified view of the manufacturing process and enabling accurate data analysis. Effective data integration helps in breaking down data silos, ensuring that all relevant information is available for decision-making and process optimization."
   ]
  },
  {
   "cell_type": "markdown",
   "id": "e81a691f-f387-4706-96d5-dfc77ba4939c",
   "metadata": {},
   "source": [
    "#### *3. Ensuring Data Quality and Integrity*\n",
    "Ensuring data quality and integrity is vital for making informed decisions and maintaining trust in the data being used. This involves implementing processes and tools to clean, validate, and manage data. Data quality measures include removing duplicates, correcting errors, and ensuring consistency across datasets. Data integrity ensures that the data remains accurate and reliable over time, preventing issues such as data corruption or unauthorized access."
   ]
  },
  {
   "cell_type": "markdown",
   "id": "65dc4365-4177-4eef-a9e1-37da4d0701f8",
   "metadata": {},
   "source": [
    "# <font color = 'red'>*5. Data Challenges*\n",
    "\n",
    "In the world of digital engineering, having high-quality data is essential for making accurate decisions and reliable predictions. However, there are several challenges that can affect the quality of the data, which in turn can influence the results of any analysis. These challenges include missing data, errors (like noise), outliers, and issues with data formatting or duplication. Understanding these problems is important because they can significantly impact the conclusions we draw from the data."
   ]
  },
  {
   "cell_type": "markdown",
   "id": "664fa5a5-e5bd-46ca-afed-66effb914934",
   "metadata": {},
   "source": [
    "### 1. Missing Values\n",
    "\n",
    "Sometimes, data is simply not available. This is called **missing data**. It can happen for a variety of reasons, such as sensors malfunctioning, human error, or interruptions in data collection processes. When some data points are missing, it can lead to incomplete analysis and result in biased or inaccurate conclusions. For example, if we are monitoring a machine's performance and some data about temperature or pressure is missing, we might not be able to fully understand how well the machine is working.\n",
    "\n",
    "**Why it's a problem**: Missing data can distort the results, making it difficult to make informed decisions.\r",
    "## Detailed Machine Monitoring Data\r\n",
    "\r\n",
    "| Time       | Machine ID | Temperature (°C) | Pressure (psi) | Output (units) |\r\n",
    "|:----------:|:---------:|:----------------:|:--------------:|:--------------:|\r\n",
    "| 08:00:00   | M01       | 180              | **<span style=\"color:red\">missing</span>**  | 450            |\r\n",
    "| 08:01:00   | M02       | **<span style=\"color:red\">missing</span>** | 150  | 430            |\r\n",
    "| 08:02:00   | M01       | 175              | 145            | **<span style=\"color:red\">missing</span>** |\r\n",
    "| 08:03:00   | M03       | 190              | 155            | 470            |\r\n",
    "| 08:04:00   | M02       | **<span style=\"color:red\">missing</span>** | **<span style=\"color:red\">missing</span>** | 420            |\r\n",
    "| 08:05:00   | M01       | 185              | 148            | 455            |\r\n",
    "| 08:06:00   | M03       | 195              | 157            | 475            |\r\n",
    "| 08:07:00   | M01       | 180              | 149            | **<span style=\"color:red\">missing</span>** |\r\n",
    "| 08:08:00   | M02       | **<span style=\"color:red\">missing</span>** | 152  | 435            |\r\n",
    "| 08:09:00   | M03       | 188              | **<span style=\"color:red\">missing</span>** | 468          |\r\n",
    "\n",
    "\n",
    "   |\r\n",
    "       |\r\n",
    "\n",
    "\n",
    "### 2. Noise and Outliers\n",
    "\n",
    "- **Noise** refers to random, irrelevant fluctuations in the data that don't actually represent anything meaningful. It’s like static or interference that muddles the real information.\n",
    "  \n",
    "- **Outliers** are data points that are much different from most of the others. For example, if most of the temperatures in a machine’s operating environment are between 50 and 60 degrees, but one reading shows 150 degrees, that’s an outlier. It could be caused by a malfunction, or it could be valid data that needs to be understood in context.\n",
    "\n",
    "Both noise and outliers can cause confusion and lead to incorrect conclusions if not identified and properly handled. For instance, an outlier might look like an important signal, but it could just be a mistake. Similarly, noise might hide the true pattern in the data.\n",
    "\n",
    "**Why it's a problem**: Noise and outliers can distort analysis and lead to misleading results iurate analysis.\n"
   ]
  },
  {
   "cell_type": "markdown",
   "id": "7adc0f5a-ec6d-459d-99a1-77f5f9c71078",
   "metadata": {},
   "source": [
    "In this interactive example, we will explore how noise can impact data analysis. We will intentionally add noise to a dataset to demonstrate its effect visually. It's important to understand that in real-world scenarios, noise often accompanies data naturally due to various reasons such as errors in data collection, environmental interference, or variability in measurement devices. This demonstration will help you visualize how noise can obscure patterns in data and complicate the analysis.\n"
   ]
  },
  {
   "cell_type": "code",
   "execution_count": 2,
   "id": "b76f14ca-394d-4f45-833f-fc7ce4a933db",
   "metadata": {},
   "outputs": [
    {
     "data": {
      "application/vnd.jupyter.widget-view+json": {
       "model_id": "05dd54e465d24fa2a0ef4e04753b16e3",
       "version_major": 2,
       "version_minor": 0
      },
      "text/plain": [
       "interactive(children=(FloatSlider(value=0.1, description='Noise Level', max=1.0, style=SliderStyle(description…"
      ]
     },
     "metadata": {},
     "output_type": "display_data"
    }
   ],
   "source": [
    "import sys\n",
    "sys.path.append('Module 1 Content')  # Adjust the path as necessary\n",
    "\n",
    "from functions import *\n",
    "example1()"
   ]
  },
  {
   "cell_type": "markdown",
   "id": "4542bd3f-e54e-4ab7-8e3f-6b1de6660294",
   "metadata": {},
   "source": [
    "### 3. Inconsistent Formats and Duplicates\n",
    "\n",
    "Sometimes, data is stored in different formats, even though it represents the same thing. For example, one dataset might list dates as \"MM/DD/YYYY,\" while another uses \"DD/MM/YYYY.\" This inconsistency can make it harder to combine or analyze the data correctly.\n",
    "\n",
    "**Duplicates** occur when the same information is recorded multiple times. This often happens when data is collected from different sources or systems. Duplicates can waste resources and create confusion by showing incorrect totals or averages.\n",
    "\n",
    "**Why it's a problem**: Inconsistent formats can slow down data processing and make it harder to get reliable results, while duplicates can lead to inaccurate analysis.\n",
    "\n",
    "The table below illustrates several issues with inconsistent formats and duplicates. Printer types have variations such as \"Laser Printer,\" \"laser printer,\" and \"LASER printer,\" while material types show differences like \"PLA,\" \"abs,\" \"ABS,\" \"PETG,\" \"PET-G,\" and \"petg.\" These inconsistencies make it difficult to standardize the data for analysis. Additionally, duplicates are present for printer types and material types, leading to redundancy and potential inaccuracies in usage hours. Such inconsistencies and duplicates can result in unreliable data processing and analysis, ultimately impacting decision-making and resource allocation."
   ]
  },
  {
   "cell_type": "markdown",
   "id": "0a9112c0-4621-4816-ab64-504637a7acce",
   "metadata": {},
   "source": [
    "| ID | Printer Type        | Material Type | Usage Hours |\r\n",
    "|----|---------------------|---------------|-------------|\r\n",
    "| 1  | Laser Printer       | PLA           | 100         |\r\n",
    "| 2  | Inkjet Printer      | abs           | 150         |\r\n",
    "| 3  | laser printer       | PLA           | 100         |\r\n",
    "| 4  | InkJet Printer      | ABS           | 150         |\r\n",
    "| 5  | Dot Matrix Printer  | PETG          | 200         |\r\n",
    "| 6  | Inkjet printer      | abs           | 150         |\r\n",
    "| 7  | Dot-Matrix Printer  | PET-G         | 250         |\r\n",
    "| 8  | LASER printer       | PLA           | 100         |\r\n",
    "| 9  | dot matrix printer  | petg          | 250         |\r\n",
    "| 10 | Inkjet Printer      | ABS           | 15         |\r\n"
   ]
  }
 ],
 "metadata": {
  "kernelspec": {
   "display_name": "Python 3 (ipykernel)",
   "language": "python",
   "name": "python3"
  },
  "language_info": {
   "codemirror_mode": {
    "name": "ipython",
    "version": 3
   },
   "file_extension": ".py",
   "mimetype": "text/x-python",
   "name": "python",
   "nbconvert_exporter": "python",
   "pygments_lexer": "ipython3",
   "version": "3.12.3"
  }
 },
 "nbformat": 4,
 "nbformat_minor": 5
}
