{
 "cells": [
  {
   "cell_type": "markdown",
   "metadata": {
    "tags": [
     "auto-generated-toc"
    ]
   },
   "source": [
    "## Table of Contents\n\n  - [Table of Contents](#Table-of-Contents)\n- [Y1 Data](#Y1-Data)\n  - [1.1 Introduction to Data in Digital Engineering](#1.1-Introduction-to-Data-in-Digital-Engineering)\n  - [1.2 Types of Data in Digital Engineering](#1.2-Types-of-Data-in-Digital-Engineering)\n  - [<font> 1.3 Data Collection Methods </font>](#%3Cfont%3E-1.3-Data-Collection-Methods-%3C/font%3E)\n  - [1.4 Data Management and Storage](#1.4-Data-Management-and-Storage)\n  - [1.5 Data Challenges](#1.5-Data-Challenges)\n- [🏠 Home](../../welcomePage.ipynb)"
   ]
  },
  {
   "cell_type": "markdown",
   "id": "52f87ed6-0545-429f-8628-0126c03e82e9",
   "metadata": {
    "editable": true
   },
   "source": [
    "# Y1 Data\n",
    "## 1.1 Introduction to Data in Digital Engineering"
   ]
  },
  {
   "cell_type": "markdown",
   "id": "06cfbdc0-3e9c-465f-bf30-4976789bfc18",
   "metadata": {
    "editable": true
   },
   "source": [
    "### <font color = '#646464'> 1.1.1 Definition of Data </font>\n",
    "\n",
    "Data is essentially raw, unprocessed information that hasn’t yet been organized or analyzed. Think of it as the basic facts, numbers, or observations collected for future use. This information can come from a variety of places such as devices that measure things (like temperature sensors), surveys we fill out, business transactions, or even simple observations of our surroundings.\n",
    "\n",
    "Data can be split into two main types:\n",
    "\n",
    "1. **Quantitative Data**: This type of data deals with numbers. For example, it can be the number of people who attended an event or the temperature recorded by a thermometer. Quantitative data helps us measure and compare things.\n",
    "\n",
    "2. **Qualitative Data**: This type is descriptive rather than numerical. It includes things like colors, names, or a person's opinion about something. Qualitative data provides details that can't easily be counted or measured but are still valuable for understanding situations.\n",
    "\n",
    "<center>\n",
    "  <img src=\"Module 1 Content/quantitative vs qualitative.png\" alt=\"Quantitative vs Qualitative Data\" width=\"500\"/>\n",
    "</center>\n",
    "\n",
    "Data can be found in many formats including:\n",
    "- **Text**: Letters or words, such as a sentence in a document.\n",
    "- **Numbers**: Simple values like 50 or 3.14, which can represent anything from age to the length of an object.\n",
    "- **Images**: Pictures that might be used for analysis or documentation.\n",
    "- **Audio**: Sounds that can include anything from speech to music.\n",
    "- **Video**: Moving images and sounds, such as recordings from cameras.\n",
    "\n",
    "This raw data, once organized and processed, can help us understand patterns, make decisions, or find solutions to problems. It is the first step in creating information and knowledge that we can use to make informed choices in various fields, such as science and healthcare."
   ]
  },
  {
   "cell_type": "markdown",
   "id": "21f47949-bc3c-4492-b943-8e31b1e4ac95",
   "metadata": {
    "editable": true
   },
   "source": [
    "Below is your first exposure to interactive widgets! You will find a small interactive exercise designed to help you understand and classify different types of data. In this activity, you'll be asked to identify whether each example represents qualitative or quantitative data."
   ]
  },
  {
   "cell_type": "code",
   "execution_count": null,
   "id": "2b404d40-75bf-4bf2-b3b7-146c31202278",
   "metadata": {
    "has_explanation": false,
    "jupyter": {
     "source_hidden": true
    }
   },
   "outputs": [],
   "source": [
    "import sys\n",
    "sys.path.append('Module 1 Content')  # Adjust the path as necessary\n",
    "\n",
    "from functions import *\n",
    "quiz1()"
   ]
  },
  {
   "cell_type": "markdown",
   "id": "742e1d12-7ba5-42f0-b006-ebd5b1937f64",
   "metadata": {
    "editable": true
   },
   "source": [
    "### <font color = '#646464'> 1.1.2 Importance of Data in Digital Engineering </font>\n",
    "\n",
    "Data is essential in Digital Engineering. It helps engineers make better decisions, improve how things work, and predict future problems. By using data, engineers can create detailed digital versions of real-world systems (called digital twins) and improve how things are designed and made. This results in less downtime, better products, and faster innovation. Here are some of the key ways data is important in Digital Engineering:\n",
    "\n",
    "1. **Improved Accuracy and Precision**: With real-time data, engineers can create products more accurately, ensuring they meet all specifications and work as expected. Boeing uses real-time data to ensure precise assembly of the 787 Dreamliner, resulting in highly accurate and high-quality aircraft.\n",
    "\n",
    "3. **Better Monitoring and Control**: Engineers can use data from connected devices to monitor systems in real-time. This allows them to see how things are performing, spot problems early, and make quick fixes. General Electric’s gas turbines are continuously monitored with sensors that provide real-time data, enabling engineers to detect and address issues before they lead to failure.\n",
    "\n",
    "4. **Collaboration and Communication**: Data sharing helps teams from different departments or locations work together more effectively. By accessing and sharing information, teams can solve problems together and improve overall results. Ford’s global design teams collaborate efficiently by sharing data on vehicle performance and manufacturing processes, speeding up the development of new models.\n",
    "\n",
    "5. **Predictive Maintenance**: By analyzing data, engineers can predict when machines or equipment are likely to break down. This allows them to fix things before they fail, saving money and reducing downtime. Rolls-Royce’s \"TotalCare\" program predicts engine maintenance needs using data analytics, minimizing unplanned downtime and maximizing operational efficiency.\n",
    "\n",
    "6. **Driving Innovation**: Data can help engineers discover new patterns and trends. This can lead to new ideas for improving products, processes, or even creating entirely new products. Tesla collects vast amounts of data from its cars to improve its autonomous driving system, continually enhancing the technology's safety and performance."
   ]
  },
  {
   "cell_type": "markdown",
   "id": "bd4a8481-70fd-436d-9c88-cbaf9cd9eb1b",
   "metadata": {
    "editable": true
   },
   "source": [
    "## 1.2 Types of Data in Digital Engineering"
   ]
  },
  {
   "cell_type": "markdown",
   "id": "8d43ac34-6f35-4332-96e4-3f4b06b7163d",
   "metadata": {
    "editable": true
   },
   "source": [
    "### <font color = '#646464'> 1.2.1 Structured vs. Unstructured Data </font>\n",
    "\n",
    "<center> <img src=\"Module 1 Content/Data Structured Un.png\" alt=\"Description\" width=\"500\"/> </center>"
   ]
  },
  {
   "cell_type": "markdown",
   "id": "0ece138b-b1b5-4bac-a392-39bf98093f03",
   "metadata": {
    "editable": true
   },
   "source": [
    "#### <font color = '#646464'> *1.2.1.1 Structured Data* </font>\n",
    "\n",
    "**Definition**: Structured data is organized, easily searchable, and typically stored in relational databases or spreadsheets. It follows a predefined format or schema, making it simple to manage and analyze using traditional data processing techniques.\n",
    "\n",
    "**Characteristics**:\n",
    "- **Schema-Defined**: Structured data adheres to a specific schema, which defines the structure, such as tables, columns, and data types.\n",
    "- **Easily Searchable**: Due to its organized format, structured data can be easily queried (data can be easily searched and retrieved when needed) and other database query languages.\n",
    "- **Quantitative**: Often consists of numerical values, dates, and categorical data that can be used for statistical analysis and reporting.\n",
    "\n",
    "**Example**:\n",
    "3D printing failure that could happen when testing different print materials and properties. The data is well-organized and presents key information about the printing settings and outcomes.\n",
    "\n",
    "| Print Job ID | Material Type | Print Speed (mm/s) | Layer Height (mm) | Temperature (°C) | Support Type | Failed (Yes/No) |\n",
    "|--------------|---------------|--------------------|-------------------|------------------|--------------|-----------------|\n",
    "| 001          | PLA           | 50                 | 0.2               | 210              | Yes          | No              |\n",
    "| 002          | ABS           | 60                 | 0.3               | 230              | No           | Yes             |\n",
    "| 003          | PETG          | 40                 | 0.15              | 220              | Yes          | No              |\n",
    "| 004          | PLA           | 55                 | 0.2               | 210              | No           | No              |\n",
    "| 005          | ABS           | 45                 | 0.25              | 240              | Yes          | Yes             |"
   ]
  },
  {
   "cell_type": "markdown",
   "id": "81394f05-4305-4ea6-b7f0-7580049a17ee",
   "metadata": {
    "editable": true
   },
   "source": [
    "### <font color = '#646464'> *1.2.1.2 Unstructured Data* </font>\n",
    "\n",
    "**Definition**: Unstructured data is raw and unorganized, lacking a predefined format or schema. It can come in various forms, including text, images, videos, and audio files. Unstructured data is more challenging to manage and analyze using traditional data processing techniques, but it holds valuable insights.\n",
    "\n",
    "**Characteristics**:\n",
    "- **No Fixed Schema**: Unstructured data does not adhere to a specific schema, making it more flexible but harder to organize and analyze.\n",
    "- **Diverse Formats**: Can be in various formats such as text documents, emails, social media posts, images, videos, and audio recordings.\n",
    "- **Qualitative**: Often consists of qualitative information that requires advanced analytics techniques, such as natural language processing (NLP) and image recognition, to extract meaningful insights.\n",
    "\n",
    "**Examples**: Going back to the same structured data example, the sensor data might indicate that the printer is operating normally, with no issues detected in terms of temperature, speed, or material feed. However, unstructured image data captured during the printing process could reveal that the part is failing despite the sensors showing no abnormalities. Although we have meaningful images from the printing process, they are unstructured data and require a lot of processing to extract useful information. The images might show uneven layers, warping, or incomplete structures that were not captured by the sensor readings. In this case, the image data provides additional insight into the problem, highlighting issues that the sensor data alone could not identify, such as printing defects or alignment problems.\n",
    "\n",
    "<center> <img src=\"Module 1 Content/Print Failure.png\" alt=\"Description\" width=\"700\"/> </center>"
   ]
  },
  {
   "cell_type": "markdown",
   "id": "44a2c475-cae7-47d2-a605-6e289b113c32",
   "metadata": {
    "editable": true
   },
   "source": [
    "## <font> 1.3 Data Collection Methods </font>"
   ]
  },
  {
   "cell_type": "markdown",
   "id": "d73d356d-13f0-4e3f-95e1-0081505548b8",
   "metadata": {
    "editable": true
   },
   "source": [
    "### <font color = '#646464'> 1.3.1 Sensors and IoT Devices </font>\n",
    "Sensors and IoT devices automatically collect real-time data from equipment and environments. They provide immediate insights into operations and enable predictive maintenance by identifying potential issues early, improving overall efficiency and reducing downtime.\n",
    "<center> <img src=\"Module 1 Content/thermalvideo.gif\" alt=\"Description\" width=\"400\"/> <img src=\"Module 1 Content/Temperature IoT.jpeg\" alt=\"Description\" width=\"350\"/> </center>"
   ]
  },
  {
   "cell_type": "markdown",
   "id": "3752da94-7bc7-4639-a40d-57116692289e",
   "metadata": {
    "editable": true
   },
   "source": [
    "### <font color = '#646464'> 1.3.2 Manual Data Entry </font>\n",
    "Manual data entry involves human operators recording data into systems. This method captures detailed and qualitative information that sensors may not detect, making it essential for scenarios where automation is not feasible and detailed documentation is required."
   ]
  },
  {
   "cell_type": "markdown",
   "id": "78ad171a-03af-489d-81aa-6611d0f13548",
   "metadata": {
    "editable": true
   },
   "source": [
    "### <font color = '#646464'> 1.3.3 Data Logging Systems </font>\n",
    "Data logging systems continuously and automatically record data over time. These systems ensure consistent data collection, facilitate historical analysis for trend identification, and help maintain data integrity by reducing the risk of human error.\n",
    "\n"
   ]
  },
  {
   "cell_type": "markdown",
   "id": "3626c31e-1e1d-4888-a90a-de2926e44568",
   "metadata": {
    "editable": true
   },
   "source": [
    "### <font color = '#646464'> 1.3.4 CAD Metadata </font>\n",
    "Computer-Aided Design (CAD) metadata includes detailed information about the design and specifications of manufactured parts. This metadata captures dimensions, tolerances, material properties, and other design attributes, providing a comprehensive digital representation that is crucial for quality control, process optimization, and building digital twins.\n",
    "\n",
    "<center> <img src=\"Module 1 Content/cadmetadata.png\" alt=\"Description\" width=\"800\"/> </center>"
   ]
  },
  {
   "cell_type": "markdown",
   "id": "e5d0645e-2127-4d43-9d74-5081a8c4f071",
   "metadata": {
    "editable": true
   },
   "source": [
    "## 1.4 Data Management and Storage"
   ]
  },
  {
   "cell_type": "markdown",
   "id": "9f7e6167-63e0-4e19-95b1-e81660584bc2",
   "metadata": {
    "editable": true
   },
   "source": [
    "In digital engineering, data needs to be stored safely and accessed easily. There are three common ways to do this:  \n",
    "\n",
    "- **Databases** organize data so it’s easy to find and use.  \n",
    "- **Data warehouses** collect data from different places to help with analysis.  \n",
    "- **Cloud storage** saves data online, so it can be accessed from anywhere. "
   ]
  },
  {
   "cell_type": "markdown",
   "id": "65dc4365-4177-4eef-a9e1-37da4d0701f8",
   "metadata": {
    "editable": true
   },
   "source": [
    "## 1.5 Data Challenges\n",
    "\n",
    "In the world of digital engineering, having high-quality data is essential for making accurate decisions and reliable predictions. However, there are several challenges that can affect the quality of the data, which in turn can influence the results of any analysis. These challenges include missing data, errors (like noise), outliers, and issues with data formatting. Understanding these problems is important because they can significantly impact the conclusions we draw from the data."
   ]
  },
  {
   "cell_type": "markdown",
   "id": "9ba7f1eb-3d42-4cb7-9557-46d94ebf62f3",
   "metadata": {
    "editable": true
   },
   "source": [
    "### <font color = '#646464'> 1.5.1 Missing Values </font>\n",
    "\n",
    "Sometimes, data is simply not available. This is called **missing data**. It can happen for a variety of reasons, such as sensors malfunctioning, human error, or interruptions in data collection processes. When some data points are missing, it can lead to incomplete analysis and result in biased or inaccurate conclusions. For example, if we are monitoring a machine's performance and some data about temperature or pressure is missing, we might not be able to fully understand how well the machine is working.\n",
    "\n",
    "**Why it's a problem**: Missing data can distort the results, making it difficult to make informed decisions.\n",
    "\n",
    "Detailed Machine Monitoring Data\n",
    "\n",
    "| Time       | Machine ID | Temperature (°C) | Pressure (psi) | Output (units) |\n",
    "|:----------:|:---------:|:----------------:|:--------------:|:--------------:|\n",
    "| 08:00:00   | M01       | 180              | **<span style=\"color:red\">missing</span>**  | 450            |\n",
    "| 08:01:00   | M02       | **<span style=\"color:red\">missing</span>** | 150  | 430            |\n",
    "| 08:02:00   | M01       | 175              | 145            | **<span style=\"color:red\">missing</span>** |\n",
    "| 08:03:00   | M03       | 190              | 155            | 470            |\n",
    "| 08:04:00   | M02       | **<span style=\"color:red\">missing</span>** | **<span style=\"color:red\">missing</span>** | 420            |\n",
    "| 08:05:00   | M01       | 185              | 148            | 455            |\n",
    "| 08:06:00   | M03       | 195              | 157            | 475            |\n",
    "| 08:07:00   | M01       | 180              | 149            | **<span style=\"color:red\">missing</span>** |\n",
    "| 08:08:00   | M02       | **<span style=\"color:red\">missing</span>** | 152  | 435            |\n",
    "| 08:09:00   | M03       | 188              | **<span style=\"color:red\">missing</span>** | 468          |\n",
    "\n",
    "### <font color = '#646464'> 1.5.2 Noise and Outliers </font>\n",
    "\n",
    "- **Noise** refers to random, irrelevant fluctuations in the data that don't actually represent anything meaningful. It’s like static or interference that muddles the real information.\n",
    "  \n",
    "- **Outliers** are data points that are much different from most of the others. For example, if most of the temperatures in a machine’s operating environment are between 50 and 60 degrees, but one reading shows 150 degrees, that’s an outlier. It could be caused by a malfunction, or it could be valid data that needs to be understood in context.\n",
    "\n",
    "Both noise and outliers can cause confusion and lead to incorrect conclusions if not identified and properly handled. For instance, an outlier might look like an important signal, but it could just be a mistake. Similarly, noise might hide the true pattern in the data.\n",
    "\n",
    "**Why it's a problem**: Noise and outliers can distort analysis and lead to misleading results.\n",
    "\n",
    "Example </font>: We will intentionally add noise to a dataset to demonstrate its effect visually. It's important to understand that in real-world scenarios, noise often accompanies data naturally due to various reasons such as errors in data collection, environmental interference, or variability in measurement devices. This demonstration will help you visualize how noise can obscure patterns in data and complicate the analysis."
   ]
  },
  {
   "cell_type": "code",
   "execution_count": null,
   "id": "b76f14ca-394d-4f45-833f-fc7ce4a933db",
   "metadata": {
    "has_explanation": false,
    "jupyter": {
     "source_hidden": true
    }
   },
   "outputs": [],
   "source": [
    "import sys\n",
    "sys.path.append('Module 1 Content')  # Adjust the path as necessary\n",
    "\n",
    "from functions import *\n",
    "example1()"
   ]
  },
  {
   "cell_type": "markdown",
   "id": "4542bd3f-e54e-4ab7-8e3f-6b1de6660294",
   "metadata": {
    "editable": true
   },
   "source": [
    "### <font color = '#646464'> 1.5.3 Inconsistent Formats and Duplicates </font>\n",
    "\n",
    "Sometimes, data is stored in different formats, even though it represents the same thing. For example, one dataset might list dates as \"MM/DD/YYYY,\" while another uses \"DD/MM/YYYY.\" This inconsistency can make it harder to combine or analyze the data correctly.\n",
    "\n",
    "**Duplicates** occur when the same information is recorded multiple times. This often happens when data is collected from different sources or systems. Duplicates can waste resources and create confusion by showing incorrect totals or averages.\n",
    "\n",
    "**Why it's a problem**: Inconsistent formats can slow down data processing and make it harder to get reliable results, while duplicates can lead to inaccurate analysis.\n",
    "\n",
    "The table below illustrates several issues with inconsistent formats and duplicates. Printer types have variations such as \"Laser Printer,\" \"laser printer,\" and \"LASER printer,\" while material types show differences like \"PLA,\" \"abs,\" \"ABS,\" \"PETG,\" \"PET-G,\" and \"petg.\" These inconsistencies make it difficult to standardize the data for analysis. Additionally, duplicates are present for printer types and material types, leading to redundancy and potential inaccuracies in usage hours. Such inconsistencies and duplicates can result in unreliable data processing and analysis, ultimately impacting decision-making and resource allocation."
   ]
  },
  {
   "cell_type": "markdown",
   "id": "0a9112c0-4621-4816-ab64-504637a7acce",
   "metadata": {
    "editable": true
   },
   "source": [
    "| ID | Printer Type        | Material Type | Usage Hours |\n",
    "|----|---------------------|---------------|-------------|\n",
    "| 1  | Laser Printer       | PLA           | 100         |\n",
    "| 2  | Inkjet Printer      | abs           | 150         |\n",
    "| 3  | laser printer       | PLA           | 100         |\n",
    "| 4  | InkJet Printer      | ABS           | 150         |\n",
    "| 5  | Dot Matrix Printer  | PETG          | 200         |\n",
    "| 6  | Inkjet printer      | abs           | 150         |\n",
    "| 7  | Dot-Matrix Printer  | PET-G         | 250         |\n",
    "| 8  | LASER printer       | PLA           | 100         |\n",
    "| 9  | dot matrix printer  | petg          | 250         |\n",
    "| 10 | Inkjet Printer      | ABS           | 15         |\n"
   ]
  },
  {
   "cell_type": "markdown",
   "id": "69b9a3b9",
   "metadata": {
    "tags": [
     "Bottom Navigation"
    ]
   },
   "source": [
    "### <center>[🏠 Home](../../welcomePage.ipynb)     [Module 2 ▶︎](Module2.ipynb)</center>"
   ]
  }
 ],
 "metadata": {
  "kernelspec": {
   "display_name": "Python 3 (ipykernel)",
   "language": "python",
   "name": "python3"
  },
  "language_info": {
   "codemirror_mode": {
    "name": "ipython",
    "version": 3
   },
   "file_extension": ".py",
   "mimetype": "text/x-python",
   "name": "python",
   "nbconvert_exporter": "python",
   "pygments_lexer": "ipython3",
   "version": "3.11.6"
  },
  "widgets": {
   "application/vnd.jupyter.widget-state+json": {
    "state": {
     "066e1364b70d487b9a2f57bb6d6fa54a": {
      "model_module": "@jupyter-widgets/controls",
      "model_module_version": "2.0.0",
      "model_name": "HTMLStyleModel",
      "state": {
       "description_width": "",
       "font_size": null,
       "text_color": null
      }
     },
     "0b5ae30a737440df95e55eceebc31e44": {
      "model_module": "@jupyter-widgets/controls",
      "model_module_version": "2.0.0",
      "model_name": "ButtonModel",
      "state": {
       "description": "Qualitative",
       "layout": "IPY_MODEL_91bb8f2ef9ef4205a026653d6a2a7790",
       "style": "IPY_MODEL_f66b1244f1ae4ae690ec9cd21ae3b883",
       "tooltip": null
      }
     },
     "0d4a5b6142a74a5f927101040c962d51": {
      "model_module": "@jupyter-widgets/controls",
      "model_module_version": "2.0.0",
      "model_name": "HTMLModel",
      "state": {
       "layout": "IPY_MODEL_acfeda2827e44c2fab2121c3f23415e9",
       "style": "IPY_MODEL_8ce97e858fbc4169a8490225eff43804",
       "value": "<b>Question 4 of 6:</b> <br><div style='font-size:16px'>Colors observed in a sunset.</div>"
      }
     },
     "125a4abe74324af6bf424d49dcf01f0d": {
      "model_module": "@jupyter-widgets/controls",
      "model_module_version": "2.0.0",
      "model_name": "HTMLModel",
      "state": {
       "layout": "IPY_MODEL_4c44e7bacefc44a890dd244a6ad5e426",
       "style": "IPY_MODEL_1f663055a4ba4b79ad1eac87824b756d",
       "value": "<b>Question 1 of 6:</b> <br><div style='font-size:16px'>The temperature recorded hourly throughout a day.</div>"
      }
     },
     "13ca759fd1dd45d0b821d338ee32dd49": {
      "model_module": "@jupyter-widgets/controls",
      "model_module_version": "2.0.0",
      "model_name": "ButtonModel",
      "state": {
       "description": "Quantitative",
       "disabled": true,
       "layout": "IPY_MODEL_d1afd22244bb47bd99fb6025052231e7",
       "style": "IPY_MODEL_ff265abf7bf74b9f9191022dc679f6d5",
       "tooltip": null
      }
     },
     "196af884e571442e844c487b55bbeae7": {
      "model_module": "@jupyter-widgets/base",
      "model_module_version": "2.0.0",
      "model_name": "LayoutModel",
      "state": {}
     },
     "1f663055a4ba4b79ad1eac87824b756d": {
      "model_module": "@jupyter-widgets/controls",
      "model_module_version": "2.0.0",
      "model_name": "HTMLStyleModel",
      "state": {
       "description_width": "",
       "font_size": null,
       "text_color": null
      }
     },
     "2367219cdce04fa4a95f6234dbdfd3e8": {
      "model_module": "@jupyter-widgets/base",
      "model_module_version": "2.0.0",
      "model_name": "LayoutModel",
      "state": {}
     },
     "2996ccc273d44e88aae65bfacf4c86a8": {
      "model_module": "@jupyter-widgets/controls",
      "model_module_version": "2.0.0",
      "model_name": "ButtonModel",
      "state": {
       "description": "Qualitative",
       "layout": "IPY_MODEL_e7cb8d4d31274515b4e92aa41fa87f9d",
       "style": "IPY_MODEL_31cac0baa33c4a7c8eff470951725368",
       "tooltip": null
      }
     },
     "2afa75545a8a4dbc8005c2fbba14dd93": {
      "model_module": "@jupyter-widgets/controls",
      "model_module_version": "2.0.0",
      "model_name": "VBoxModel",
      "state": {
       "_dom_classes": [
        "widget-interact"
       ],
       "children": [
        "IPY_MODEL_5355a6a234094b25927a64c931d587b2",
        "IPY_MODEL_2c19b628b725482091d9826ae710fd73"
       ],
       "layout": "IPY_MODEL_196af884e571442e844c487b55bbeae7"
      }
     },
     "2c19b628b725482091d9826ae710fd73": {
      "model_module": "@jupyter-widgets/output",
      "model_module_version": "1.0.0",
      "model_name": "OutputModel",
      "state": {
       "layout": "IPY_MODEL_45a88a7644514977a28c6b34f4ec292b",
       "outputs": [
        {
         "data": {
          "image/png": "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",
          "text/plain": "<Figure size 600x300 with 1 Axes>"
         },
         "metadata": {},
         "output_type": "display_data"
        }
       ]
      }
     },
     "2f91befdb8444adb91f655bccc7ed184": {
      "model_module": "@jupyter-widgets/controls",
      "model_module_version": "2.0.0",
      "model_name": "ButtonStyleModel",
      "state": {
       "font_family": null,
       "font_size": null,
       "font_style": null,
       "font_variant": null,
       "font_weight": null,
       "text_color": null,
       "text_decoration": null
      }
     },
     "3192830c77f840e1b3eb751aad45219d": {
      "model_module": "@jupyter-widgets/base",
      "model_module_version": "2.0.0",
      "model_name": "LayoutModel",
      "state": {}
     },
     "31cac0baa33c4a7c8eff470951725368": {
      "model_module": "@jupyter-widgets/controls",
      "model_module_version": "2.0.0",
      "model_name": "ButtonStyleModel",
      "state": {
       "font_family": null,
       "font_size": null,
       "font_style": null,
       "font_variant": null,
       "font_weight": null,
       "text_color": null,
       "text_decoration": null
      }
     },
     "3839d449953249ba8703d81217ce2bfb": {
      "model_module": "@jupyter-widgets/output",
      "model_module_version": "1.0.0",
      "model_name": "OutputModel",
      "state": {
       "layout": "IPY_MODEL_4d7a3084fb4f428e8d66b8e1663a5886",
       "outputs": [
        {
         "data": {
          "application/vnd.jupyter.widget-view+json": {
           "model_id": "125a4abe74324af6bf424d49dcf01f0d",
           "version_major": 2,
           "version_minor": 0
          },
          "text/plain": "HTML(value=\"<b>Question 1 of 6:</b> <br><div style='font-size:16px'>The temperature recorded hourly throughout…"
         },
         "metadata": {},
         "output_type": "display_data"
        }
       ]
      }
     },
     "3a703e5342164355bdfcdf4ad2f81719": {
      "model_module": "@jupyter-widgets/controls",
      "model_module_version": "2.0.0",
      "model_name": "ButtonModel",
      "state": {
       "description": "Qualitative",
       "disabled": true,
       "layout": "IPY_MODEL_841a13dd0b6f43a2be7ca673ad310b3b",
       "style": "IPY_MODEL_4bded12f65604a3f83c6039fb5360b6e",
       "tooltip": null
      }
     },
     "403eaa96da924e9da06c15661e906351": {
      "model_module": "@jupyter-widgets/controls",
      "model_module_version": "2.0.0",
      "model_name": "HTMLStyleModel",
      "state": {
       "description_width": "",
       "font_size": null,
       "text_color": null
      }
     },
     "45a88a7644514977a28c6b34f4ec292b": {
      "model_module": "@jupyter-widgets/base",
      "model_module_version": "2.0.0",
      "model_name": "LayoutModel",
      "state": {}
     },
     "4bded12f65604a3f83c6039fb5360b6e": {
      "model_module": "@jupyter-widgets/controls",
      "model_module_version": "2.0.0",
      "model_name": "ButtonStyleModel",
      "state": {
       "font_family": null,
       "font_size": null,
       "font_style": null,
       "font_variant": null,
       "font_weight": null,
       "text_color": null,
       "text_decoration": null
      }
     },
     "4c44e7bacefc44a890dd244a6ad5e426": {
      "model_module": "@jupyter-widgets/base",
      "model_module_version": "2.0.0",
      "model_name": "LayoutModel",
      "state": {}
     },
     "4d7a3084fb4f428e8d66b8e1663a5886": {
      "model_module": "@jupyter-widgets/base",
      "model_module_version": "2.0.0",
      "model_name": "LayoutModel",
      "state": {}
     },
     "4e42b6fd2095430e9be9f526bf0ce410": {
      "model_module": "@jupyter-widgets/base",
      "model_module_version": "2.0.0",
      "model_name": "LayoutModel",
      "state": {}
     },
     "5355a6a234094b25927a64c931d587b2": {
      "model_module": "@jupyter-widgets/controls",
      "model_module_version": "2.0.0",
      "model_name": "FloatSliderModel",
      "state": {
       "behavior": "drag-tap",
       "description": "Noise Level",
       "layout": "IPY_MODEL_9c6dd806b1014a0194dcd7f2a9b62d35",
       "max": 0.3,
       "step": 0.05,
       "style": "IPY_MODEL_561757d11bd5489c9929d9d8de66f00f",
       "value": 0.3
      }
     },
     "561757d11bd5489c9929d9d8de66f00f": {
      "model_module": "@jupyter-widgets/controls",
      "model_module_version": "2.0.0",
      "model_name": "SliderStyleModel",
      "state": {
       "description_width": ""
      }
     },
     "5fee6da43fb44abfa7ffad45f800dc40": {
      "model_module": "@jupyter-widgets/controls",
      "model_module_version": "2.0.0",
      "model_name": "HTMLModel",
      "state": {
       "layout": "IPY_MODEL_674d9c5ac8404b969ebc5fc3aa5e9881",
       "style": "IPY_MODEL_403eaa96da924e9da06c15661e906351",
       "value": "<b>Question 1 of 6:</b> <br><div style='font-size:16px'>The temperature recorded hourly throughout a day.</div>"
      }
     },
     "666a39d568f64467995fb6dc428dd9d6": {
      "model_module": "@jupyter-widgets/controls",
      "model_module_version": "2.0.0",
      "model_name": "ButtonStyleModel",
      "state": {
       "font_family": null,
       "font_size": null,
       "font_style": null,
       "font_variant": null,
       "font_weight": null,
       "text_color": null,
       "text_decoration": null
      }
     },
     "674d9c5ac8404b969ebc5fc3aa5e9881": {
      "model_module": "@jupyter-widgets/base",
      "model_module_version": "2.0.0",
      "model_name": "LayoutModel",
      "state": {}
     },
     "67b0cfc35946462490e6cf44b31a40f2": {
      "model_module": "@jupyter-widgets/controls",
      "model_module_version": "2.0.0",
      "model_name": "ButtonModel",
      "state": {
       "description": "Quantitative",
       "layout": "IPY_MODEL_77d3202f60534bc6b9bb06eb86031c9d",
       "style": "IPY_MODEL_666a39d568f64467995fb6dc428dd9d6",
       "tooltip": null
      }
     },
     "692c81a71f6b4f7f81c5e8e3bd797e54": {
      "model_module": "@jupyter-widgets/base",
      "model_module_version": "2.0.0",
      "model_name": "LayoutModel",
      "state": {}
     },
     "71c0c25eb2d34f149737e2f556acd449": {
      "model_module": "@jupyter-widgets/controls",
      "model_module_version": "2.0.0",
      "model_name": "HTMLStyleModel",
      "state": {
       "description_width": "",
       "font_size": null,
       "text_color": null
      }
     },
     "73b2083210dd40659b6ce65fc7ce7ce8": {
      "model_module": "@jupyter-widgets/controls",
      "model_module_version": "2.0.0",
      "model_name": "HTMLModel",
      "state": {
       "layout": "IPY_MODEL_3192830c77f840e1b3eb751aad45219d",
       "style": "IPY_MODEL_066e1364b70d487b9a2f57bb6d6fa54a",
       "value": "<b>Question 5 of 6:</b> <br><div style='font-size:16px'>Number of people who attended a concert.</div>"
      }
     },
     "764271abdd7c4235a8238748fae9651b": {
      "model_module": "@jupyter-widgets/output",
      "model_module_version": "1.0.0",
      "model_name": "OutputModel",
      "state": {
       "layout": "IPY_MODEL_7df83c0ef3d1423582e03ad7c8802f4d",
       "outputs": [
        {
         "data": {
          "text/html": "<p style='font-size:18px; color:black;'>❌ <b>Data unreliable:</b> Noise overwhelms the actual signal, making diagnosis impossible!</p>",
          "text/plain": "<IPython.core.display.HTML object>"
         },
         "metadata": {},
         "output_type": "display_data"
        }
       ]
      }
     },
     "77d3202f60534bc6b9bb06eb86031c9d": {
      "model_module": "@jupyter-widgets/base",
      "model_module_version": "2.0.0",
      "model_name": "LayoutModel",
      "state": {}
     },
     "7df83c0ef3d1423582e03ad7c8802f4d": {
      "model_module": "@jupyter-widgets/base",
      "model_module_version": "2.0.0",
      "model_name": "LayoutModel",
      "state": {}
     },
     "841a13dd0b6f43a2be7ca673ad310b3b": {
      "model_module": "@jupyter-widgets/base",
      "model_module_version": "2.0.0",
      "model_name": "LayoutModel",
      "state": {}
     },
     "8a22cf43f92b4a0c8043a79ab31c8778": {
      "model_module": "@jupyter-widgets/base",
      "model_module_version": "2.0.0",
      "model_name": "LayoutModel",
      "state": {}
     },
     "8ce97e858fbc4169a8490225eff43804": {
      "model_module": "@jupyter-widgets/controls",
      "model_module_version": "2.0.0",
      "model_name": "HTMLStyleModel",
      "state": {
       "description_width": "",
       "font_size": null,
       "text_color": null
      }
     },
     "8d62c9e236c5435abca845854050bd1b": {
      "model_module": "@jupyter-widgets/controls",
      "model_module_version": "2.0.0",
      "model_name": "HTMLModel",
      "state": {
       "layout": "IPY_MODEL_de931ab6a2504996ac91a7d001dfd732",
       "style": "IPY_MODEL_71c0c25eb2d34f149737e2f556acd449",
       "value": "<b>Question 2 of 6:</b> <br><div style='font-size:16px'>Survey responses rating satisfaction with services on a scale from 1 to 5.</div>"
      }
     },
     "91bb8f2ef9ef4205a026653d6a2a7790": {
      "model_module": "@jupyter-widgets/base",
      "model_module_version": "2.0.0",
      "model_name": "LayoutModel",
      "state": {}
     },
     "95f3b20a92c44bed9790782ba00a322e": {
      "model_module": "@jupyter-widgets/controls",
      "model_module_version": "2.0.0",
      "model_name": "HTMLStyleModel",
      "state": {
       "description_width": "",
       "font_size": null,
       "text_color": null
      }
     },
     "970f96305d3e4e29ace3f478e8fff75e": {
      "model_module": "@jupyter-widgets/output",
      "model_module_version": "1.0.0",
      "model_name": "OutputModel",
      "state": {
       "layout": "IPY_MODEL_8a22cf43f92b4a0c8043a79ab31c8778",
       "outputs": [
        {
         "name": "stdout",
         "output_type": "stream",
         "text": "Quiz completed! 🎉\n"
        }
       ]
      }
     },
     "9c6dd806b1014a0194dcd7f2a9b62d35": {
      "model_module": "@jupyter-widgets/base",
      "model_module_version": "2.0.0",
      "model_name": "LayoutModel",
      "state": {}
     },
     "acfeda2827e44c2fab2121c3f23415e9": {
      "model_module": "@jupyter-widgets/base",
      "model_module_version": "2.0.0",
      "model_name": "LayoutModel",
      "state": {}
     },
     "c50720d2a4ba4068b20368ff6e4cd663": {
      "model_module": "@jupyter-widgets/controls",
      "model_module_version": "2.0.0",
      "model_name": "HTMLModel",
      "state": {
       "layout": "IPY_MODEL_692c81a71f6b4f7f81c5e8e3bd797e54",
       "style": "IPY_MODEL_ec646951a6e14faa895915ce26474ff3",
       "value": "<b>Question 6 of 6:</b> <br><div style='font-size:16px'>Opinions about a new product.</div>"
      }
     },
     "c822232083c74c0795024bef92851d8e": {
      "model_module": "@jupyter-widgets/output",
      "model_module_version": "1.0.0",
      "model_name": "OutputModel",
      "state": {
       "layout": "IPY_MODEL_4e42b6fd2095430e9be9f526bf0ce410",
       "outputs": [
        {
         "data": {
          "application/vnd.jupyter.widget-view+json": {
           "model_id": "5fee6da43fb44abfa7ffad45f800dc40",
           "version_major": 2,
           "version_minor": 0
          },
          "text/plain": "HTML(value=\"<b>Question 1 of 6:</b> <br><div style='font-size:16px'>The temperature recorded hourly throughout…"
         },
         "metadata": {},
         "output_type": "display_data"
        }
       ]
      }
     },
     "ccfe116741f849738824b78607a6e84a": {
      "model_module": "@jupyter-widgets/controls",
      "model_module_version": "2.0.0",
      "model_name": "ButtonModel",
      "state": {
       "description": "Quantitative",
       "layout": "IPY_MODEL_2367219cdce04fa4a95f6234dbdfd3e8",
       "style": "IPY_MODEL_2f91befdb8444adb91f655bccc7ed184",
       "tooltip": null
      }
     },
     "d00a58e84d9643a9a6db57e3efe9a98e": {
      "model_module": "@jupyter-widgets/controls",
      "model_module_version": "2.0.0",
      "model_name": "HTMLModel",
      "state": {
       "layout": "IPY_MODEL_f8730f69c2c8470991006ae6f5d896a3",
       "style": "IPY_MODEL_95f3b20a92c44bed9790782ba00a322e",
       "value": "<b>Question 3 of 6:</b> <br><div style='font-size:16px'>Descriptions of the texture of a fabric.</div>"
      }
     },
     "d1afd22244bb47bd99fb6025052231e7": {
      "model_module": "@jupyter-widgets/base",
      "model_module_version": "2.0.0",
      "model_name": "LayoutModel",
      "state": {}
     },
     "dd4d9f5e73774a3d8a5faf37825b5f79": {
      "model_module": "@jupyter-widgets/controls",
      "model_module_version": "2.0.0",
      "model_name": "HTMLStyleModel",
      "state": {
       "description_width": "",
       "font_size": null,
       "text_color": null
      }
     },
     "de931ab6a2504996ac91a7d001dfd732": {
      "model_module": "@jupyter-widgets/base",
      "model_module_version": "2.0.0",
      "model_name": "LayoutModel",
      "state": {}
     },
     "e7cb8d4d31274515b4e92aa41fa87f9d": {
      "model_module": "@jupyter-widgets/base",
      "model_module_version": "2.0.0",
      "model_name": "LayoutModel",
      "state": {}
     },
     "ec646951a6e14faa895915ce26474ff3": {
      "model_module": "@jupyter-widgets/controls",
      "model_module_version": "2.0.0",
      "model_name": "HTMLStyleModel",
      "state": {
       "description_width": "",
       "font_size": null,
       "text_color": null
      }
     },
     "ee0ee8db41c54061809a32c4c0bd86f9": {
      "model_module": "@jupyter-widgets/base",
      "model_module_version": "2.0.0",
      "model_name": "LayoutModel",
      "state": {}
     },
     "f66b1244f1ae4ae690ec9cd21ae3b883": {
      "model_module": "@jupyter-widgets/controls",
      "model_module_version": "2.0.0",
      "model_name": "ButtonStyleModel",
      "state": {
       "font_family": null,
       "font_size": null,
       "font_style": null,
       "font_variant": null,
       "font_weight": null,
       "text_color": null,
       "text_decoration": null
      }
     },
     "f8730f69c2c8470991006ae6f5d896a3": {
      "model_module": "@jupyter-widgets/base",
      "model_module_version": "2.0.0",
      "model_name": "LayoutModel",
      "state": {}
     },
     "f8d8e6aea37746578924b20f4db138eb": {
      "model_module": "@jupyter-widgets/controls",
      "model_module_version": "2.0.0",
      "model_name": "HTMLModel",
      "state": {
       "layout": "IPY_MODEL_ee0ee8db41c54061809a32c4c0bd86f9",
       "style": "IPY_MODEL_dd4d9f5e73774a3d8a5faf37825b5f79",
       "value": "<b>Question 1 of 6:</b> <br><div style='font-size:16px'>The temperature recorded hourly throughout a day.</div>"
      }
     },
     "ff265abf7bf74b9f9191022dc679f6d5": {
      "model_module": "@jupyter-widgets/controls",
      "model_module_version": "2.0.0",
      "model_name": "ButtonStyleModel",
      "state": {
       "font_family": null,
       "font_size": null,
       "font_style": null,
       "font_variant": null,
       "font_weight": null,
       "text_color": null,
       "text_decoration": null
      }
     }
    },
    "version_major": 2,
    "version_minor": 0
   }
  }
 },
 "nbformat": 4,
 "nbformat_minor": 5
}
