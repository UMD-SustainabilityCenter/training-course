{
 "cells": [
  {
   "cell_type": "markdown",
   "id": "16e70249-e690-49a1-a675-c39c047696b6",
   "metadata": {},
   "source": [
    "## Table of Contents\n",
    "* [Module 1: Data](#Module-1:-Data)\n",
    "    * [Concepts](#Concepts:)\n",
    "    * [User Stories](#User-Stories:)\n",
    "        * [Polymer 3D Printer](3.%20Advanced%20Topics/3.1.%20Aerotech%20Data%20Collection%20Platform/Aerotech%20Data%20Collection.ipynb)\n",
    "    * [Summary Data](#Summary-Data:)\n",
    "    * [Assessment](#Assessment:)\n",
    "        * [Take a quiz](http://example.com/quiz)\n",
    "#### [🏠 Home](../welcomePage.ipynb)"
   ]
  },
  {
   "cell_type": "markdown",
   "id": "11279b6c-c4b2-4bae-a75f-43fc90b4dc2a",
   "metadata": {},
   "source": [
    "### Module 1: Data\n",
    "To begin a successful digital engineering journey, it is important to recognize that data is the linchpin driving this transformation. The true power of digital engineering lies not in adopting the latest digital technologies but in making data-driven decisions. Data can be collected from anywhere and everywhere, but the utility of digital engineering is as good as data quantity and quality. It serves as the compass that guides the transformation, enabling informed decision-making, product innovation, service enhancement, and efficient process automation.\n",
    "\n",
    "<center>\n",
    "    <img src=\"../img/23.jpg\" alt=\"Alt text\" width=\"300\">\n",
    "</center>\n",
    "\n",
    "\n",
    "#### Concepts:\n",
    "- **Data sources:** Data sources refer to the origins from which data is obtained, including databases,\n",
    "sensors, and external services, providing raw information for analysis and processing. They can\n",
    "be structured, semi-structured, or unstructured, depending on the format and organization of the\n",
    "data.\n",
    "\n",
    "   - **IoT:** IoT refers to a network of interconnected devices embedded with\n",
    "sensors, software, and other technologies, enabling them to collect, exchange, and act on data\n",
    "over the internet. These devices range from household items to industrial machines, enhancing\n",
    "automation and data-driven decision-making.\n",
    "\n",
    "- **Data cleansing:** Data cleansing can involve filtering out noise and removing outliers from\n",
    "collected data to ensure its their quality and reliability. This process ensures that the data used for\n",
    "analysis is accurate, complete, and relevant.\n",
    "    \n",
    "- **Data storage, security, and accessibility:** Data storage involves saving data in physical or\n",
    "cloud-based systems, while data security focuses on protecting this data from unauthorized\n",
    "access and breaches. Data accessibility ensures that authorized users can efficiently retrieve and\n",
    "use the stored data whenever needed.\n",
    "    \n",
    "- **Data Usage:** Data usage encompasses leveraging data to build models, perform simulations, and\n",
    "apply machine learning techniques to optimize designs and processes. This includes analyzing\n",
    "sensor data, predicting system behaviors, and improving operational efficiency through data-\n",
    "driven decision-making and automation.\n",
    "    \n",
    "<center>\n",
    "    <img src=\"../img/conceptsFigure.svg\" alt=\"Alt text\" width=\"900\">\n",
    "</center>\n",
    "\n",
    "\n",
    "\n",
    "#### User Stories:\n",
    "- [Data Processing (Level 1)]()\n",
    "- [Data Processing (Level 2)]()\n",
    "- [Polymer 3D Printer (Level 3)](3.%20Advanced%20Topics/3.1.%20Aerotech%20Data%20Collection%20Platform/Aerotech%20Data%20Collection.ipynb) - This module preprocesses sensor data from a custom-built Fused Filament Fabrication (FFF) 3D printer for modeling the extrusion process, incorporating feedback on motion, temperature, pressure, force, and cooling dynamics. \n",
    "\n",
    "#### Summary Data:\n",
    "- Millions of data points are created at every stage of the product’s lifecycle.\n",
    "- Making sense of that data and using it when needed and for the right purpose is what matters.\n",
    "- Strategizing about how, where, and what kind of data to collect is very important.\n",
    "\n",
    "#### Assessment:\n",
    "- [Take a quiz](http://example.com/quiz)\n"
   ]
  },
  {
   "cell_type": "markdown",
   "id": "9d52652c-3333-4a54-8904-4d331ccda1fa",
   "metadata": {},
   "source": [
    "### <center>[◀︎ Introduction](../introToDE.ipynb)     [🏠 Home](../welcomePage.ipynb)     [Module 2 ▶︎](Module2.ipynb)</center>\n"
   ]
  }
 ],
 "metadata": {
  "kernelspec": {
   "display_name": "Python 3 (ipykernel)",
   "language": "python",
   "name": "python3"
  },
  "language_info": {
   "codemirror_mode": {
    "name": "ipython",
    "version": 3
   },
   "file_extension": ".py",
   "mimetype": "text/x-python",
   "name": "python",
   "nbconvert_exporter": "python",
   "pygments_lexer": "ipython3",
   "version": "3.12.5"
  }
 },
 "nbformat": 4,
 "nbformat_minor": 5
}
