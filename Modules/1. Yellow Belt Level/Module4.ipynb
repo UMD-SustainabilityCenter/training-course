{
 "cells": [
  {
   "cell_type": "markdown",
   "id": "1e78cc9c-9bcc-40b3-a031-26dc3fe78975",
   "metadata": {},
   "source": [
    "## Table of Contents\n",
    "* [Module 4: Modeling and Simulation](#Module-4:-Modeling-and-Simulation)\n",
    "    * [Concepts](#Concepts:)\n",
    "    * [User Stories](#User-Stories:)\n",
    "        * [Accelerated Finite Element with GNN](3.%20Advanced%20Topics/3.2.%20Material%20Properties%20Finite%20Element%20Analysis/Material%20Properties%20FEA.ipynb)\n",
    "    * [Assessment](#Assessment:)\n",
    "        * [Take a quiz](http://example.com/quiz)\n",
    "#### [🏠 Home](../welcomePage.ipynb)"
   ]
  },
  {
   "cell_type": "markdown",
   "id": "6dc65679-9fce-4256-b215-247017daebd1",
   "metadata": {},
   "source": [
    "### Module 4: Modeling and Simulation\n",
    "Modeling and simulation involve the creation of models (e.g., physical, mathematical, behavioral, or logical representation of a system, entity, phenomenon, or process) as the foundation for simulations to develop data utilized for managerial or technical decision making.\n",
    "<center>\n",
    "<img src=\"../img/24.jpg\" alt=\"Alt text\" width=\"600\">\n",
    "</center>\n",
    "\n",
    "\n",
    "<center>\n",
    "<img src=\"../img/25.jpg\" alt=\"Alt text\" width=\"400\">\n",
    "</center>\n",
    "\n",
    "#### Concepts:\n",
    "- **Traditional Engineering Analysis (FEA):** Finite Element Analysis (FEA) is a computational method used to predict how products will react to forces, vibration, heat, and other physical effects, allowing for optimized design and validation before physical prototypes are made.\n",
    "\n",
    "<center>\n",
    "<img src=\"../img/13.jpg\" alt=\"Alt text\" width=\"500\">\n",
    "</center>\n",
    "\n",
    "- **Advanced multi-physics modeling and simulation:** This involves the simultaneous simulation of multiple interacting physical phenomena (e.g., thermal, mechanical, electrical) to predict the behavior of complex systems more accurately.\n",
    "\n",
    "<center>\n",
    "<img src=\"../img/14.jpg\" alt=\"Alt text\" width=\"500\">\n",
    "</center>\n",
    "\n",
    "- **CAM tools and build simulations:** Computer-Aided Manufacturing (CAM) tools assist in the planning, control, and management of manufacturing operations, while build simulations predict the manufacturing process and outcomes, ensuring efficiency and precision.\n",
    "\n",
    "- **Data driven models:** These models use data analytics and machine learning algorithms to predict system behavior and performance based on historical and real-time data, enhancing decision-making and optimization.\n",
    "\n",
    "<center>\n",
    "<img src=\"../img/15.jpg\" alt=\"Alt text\" width=\"500\">\n",
    "</center>\n",
    "\n",
    "- **Physics based data models:** These models combine physical laws and empirical data to simulate and predict the behavior of systems under various conditions, providing a more comprehensive understanding of system performance.\n",
    "    \n",
    "- **Generative models:** Generative models automatically create optimized designs based on specified constraints and performance criteria, enabling innovative solutions that might not be discovered through traditional methods.\n",
    "\n",
    "- **System Models:** System models represent the interactions and relationships between different components of a complex system, allowing for comprehensive analysis and optimization of the entire system's performance.\n",
    "\n",
    "<center>\n",
    "<img src=\"../img/16.jpg\" alt=\"Alt text\" width=\"500\">\n",
    "</center>\n",
    "\n",
    "#### User Stories:\n",
    "- [Accelerated Finite Element with GNN](3.%20Advanced%20Topics/3.2.%20Material%20Properties%20Finite%20Element%20Analysis/Material%20Properties%20FEA.ipynb) - This module demonstrates how our Graph Neural Network accelerates finite element analysis by efficiently predicting material behavior under mechanical loads.\n",
    "\n",
    "#### Assessment:\n",
    "- [Take a quiz](http://example.com/quiz)\n",
    "\n"
   ]
  },
  {
   "cell_type": "markdown",
   "id": "ee2ddbfd-6ec7-4679-a0b0-63357c4bf7cc",
   "metadata": {},
   "source": [
    "### <center>[◀︎ Module 3](Module3.ipynb)     [🏠 Home](../welcomePage.ipynb)     [Module 5 ▶︎](Module5.ipynb)</center>\n"
   ]
  }
 ],
 "metadata": {
  "kernelspec": {
   "display_name": "Python 3 (ipykernel)",
   "language": "python",
   "name": "python3"
  },
  "language_info": {
   "codemirror_mode": {
    "name": "ipython",
    "version": 3
   },
   "file_extension": ".py",
   "mimetype": "text/x-python",
   "name": "python",
   "nbconvert_exporter": "python",
   "pygments_lexer": "ipython3",
   "version": "3.12.5"
  }
 },
 "nbformat": 4,
 "nbformat_minor": 5
}
