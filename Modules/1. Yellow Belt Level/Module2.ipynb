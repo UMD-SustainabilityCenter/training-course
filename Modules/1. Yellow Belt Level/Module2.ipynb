{
 "cells": [
  {
   "cell_type": "markdown",
   "id": "ca031354",
   "metadata": {
    "editable": true,
    "slideshow": {
     "slide_type": ""
    },
    "tags": [
     "auto-generated-toc"
    ]
   },
   "source": [
    "## Table of Contents\n",
    "- [Y2 Model Based Definition](#Y2-Model-Based-Definition)\n",
    "  - [2.1 Introduction](#2.1-Introduction)\n",
    "  - [2.3 User Stories](#2.3-User-Stories)\n",
    "- [Model Based Approaches](#Model-Based-Approaches)\n",
    "  - [Model-based definition (MBD)](#Model-based-definition-%28MBD%29)\n",
    "- [🏠 Home](../../welcomePage.ipynb)"
   ]
  },
  {
   "cell_type": "markdown",
   "id": "13a73876",
   "metadata": {
    "editable": true,
    "slideshow": {
     "slide_type": ""
    },
    "tags": []
   },
   "source": [
    "# Y2 Model Based Definition\n",
    "## 2.1 Introduction\n",
    "Model-Based Definition (MBD) is a method where all necessary product information, including manufacturing details, is integrated directly into a 3D CAD model, replacing the traditional reliance on 2D drawing The model is annotated with non-geometric information, such as dimensions, materials, finishes, tolerances, and symbols, that are important for manufacturing and inspection. The model becomes the source of authority for all engineering activities and is used in downstream processes like manufacturing, inspection, and assembly. \n",
    "\n",
    "<center>\n",
    "<img src=\"../../img/05.jpg\" alt=\"Alt text\" width=\"500\"></center>\n",
    "\n",
    "MBD can offer several benefits, including: \n",
    "- (a) Reduced engineering documentation time: Compared to drawing-centric workflows, MBD can reduce the time spent on engineering documentation,\n",
    "- (b) More efficient drafting process: When designers designate critical dimensions, weld callouts, and notes in the model before passing it on to drafters, there's less back-and-forth between the two, allowing drafters to have all the information they need as soon as it's ready,\n",
    "- (c) Improved communication and collaboration: MBD can improve communication and collaboration among stakeholders, and\n",
    "- (d) Cost savings: efficiencies gained through MBD lead to substantial cost savings."
   ]
  },
  {
   "cell_type": "markdown",
   "id": "d914d34f-7658-43ed-885e-d333dd66f100",
   "metadata": {},
   "source": [
    "### 2.2 Model Concepts\r\n",
    "\r\n",
    "- **Conceptual Model:**  \r\n",
    "  A conceptual model is an abstract representation of a system or process, designed to help understand, predict, or communicate its essential features. It often involves diagrams, flowcharts, or other visual tools to outline the relationships and interactions within the system, without diving into detailed specifics.\r\n",
    "\r\n",
    "- **Fully Defined Model:**  \r\n",
    "  A fully defined model includes all the specific details necessary for implementation or analysis. In engineering and design, this means all dimensions, materials, tolerances, and other parameters are specified, allowing for accurate manufacturing, simulation, or evaluation.\r\n",
    "\r\n",
    "- **CAD/Scanning Tools:**  \r\n",
    "  CAD (Computer-Aided Design) tools are software applications used to create, modify, analyze, or optimize a design (e.g., Fusion 360). These tools enable the creation of detailed 2D or 3D models of physical objects, which can be used for engineering, manufacturing, and simulation purposes.  \r\n",
    "  \r\n",
    "  Scanning tools, often used in conjunction with CAD, capture the physical dimensions and features of real-world objects to create precise digital representations.\r\n",
    "\r\n",
    "  <img src=\"../../img/17.jpg\" alt=\"CAD and Scanning Tools\" width=\"300\">\r\n",
    "\r\n",
    "- **CAM Tools:**  \r\n",
    "  CAM (Computer-Aided Manufacturing) tools use CAD data to control and automate manufacturing processes. These tools generate the instructions (such as G-code) that guide machinery in fabricating parts, ensuring precision and efficiency in production. CAM tools integrate design and manufacturing processes, facilitating the transition from digital models to physical products.\r\n",
    "\r\n",
    "  <img src=\"../../img/18.jpg\" alt=\"CAM Tools\" width=\"300\">\r\n",
    "\r\n",
    "---\r\n",
    "\r\n",
    "### 2.3 MBD Example\r\n",
    "\r\n",
    "Imagine designing the M-Block:\r\n",
    "\r\n",
    "**Traditional Approach:**\r\n",
    "- You’d create a 2D drawing of the M-Block, specifying dimensions, tolerances, material, and manufacturing instructions.\r\n",
    "\r\n",
    "**MBD Approach:**\r\n",
    "- You'd create a 3D model of the M-Block, and then:\r\n",
    "  - **Add Geometric Dimensioning and Tolerancing (GD&T):** Directly annotate the 3D model with dimensions, tolerances, and GD&T symbols, ensuring precise manufacturing requirements are met.\r\n",
    "  - **Specify Material:** Indicate the material type (e.g., steel, aluminum, plastic) directly within the model's properties.\r\n",
    "  - **Include Manufacturing Notes:** Add notes or instructions for manufacturing processes (e.g., surface finish, machining operations) directly to the model.\r\n",
    "  - **Add Bill of Materials (BOM):** Include a list of all the components that make up the bracket in the 3D model.\r\n",
    "  - **Share the 3D Model:** The complete 3D model, with all embedded information, is then shared with manufacturing, inspection, and quality teams.\r\n",
    "\r\n",
    "<center>\r\n",
    "<img src=\"../../img/Animation2.gif\" alt=\"Model Based Engineering Example\" width=\"60%\">\r\n",
    "</center>\r\n",
    "\r\n",
    "Standard CAD formats can store data such as dimensions, tolerance, material, and manufacturing methods. Projects using a model-based definition need to store more information than standard CAD formats allow.\r\n",
    "\r\n",
    "This 'M' block model was designed for a model-based definition. It contains standard CAD information such as dimensions, tolerance, material, and manufacturing method; but it also contains information about the manufacturing process (e.g., 3D printing) such as the maximum recorded deviation or final dimensions. It also includes sensor information from the manufacturing process, such as motor current feedback and 3D scan data. Additionally, it can store non-engineering data like final cost, packaging requirements, and customer-specific details.\r\n",
    "\r\n",
    "To achieve this, we created our own file format (`.mbe`) that stores all this data. The benefit of this format is that you can load a specific part of the file when needed. For example:\r\n",
    "- If engineers need to view the 3D scan, they open the `.mbe` file, and the program will load only the 3D scan.\r\n",
    "- If salespeople need to view the final cost, they can open the `.mbe` file, and their program will load only the sales-relevant information.\r\n",
    "\r\n",
    "The `.mbe` file is the authoritative source of the product definition for all teams.\r\n",
    "\r\n",
    "---\r\n",
    "\r\n",
    "### 2.4 Key Information Embedded in the 3D Model\r\n",
    "\r\n",
    "- **Geometric Dimensioning and Tolerancing (GD&T):** Precise dimensions, tolerances, and geometric requirements.\r\n",
    "- **Material Specifications:** Material type, properties, and any relevant material data.\r\n",
    "- **Manufacturing Instructions:** Specific instructions for manufacturing processes, including surface finishes, machining operations, etc.\r\n",
    "- **Design Intent:** Information about the intended function and behavior of the part or assembly.\r\n",
    "- **Assembly Instructions:** Instructions on how to assemble components.\r\n",
    "- **Bill of Materials (BOM):** A list of all the components that make up the product.\r\n",
    "- **Engineering Configurations:** Different versions or variations of the product.\r\n"
   ]
  },
  {
   "cell_type": "markdown",
   "id": "9cafa562",
   "metadata": {
    "editable": true,
    "slideshow": {
     "slide_type": ""
    },
    "tags": []
   },
   "source": [
    "### <center>[◀︎ Module 1](Module1.ipynb)     [🏠 Home](../../welcomePage.ipynb)     [Module 3 ▶︎](Module3.ipynb)</center>"
   ]
  }
 ],
 "metadata": {
  "kernelspec": {
   "display_name": "Python 3 (ipykernel)",
   "language": "python",
   "name": "python3"
  },
  "language_info": {
   "codemirror_mode": {
    "name": "ipython",
    "version": 3
   },
   "file_extension": ".py",
   "mimetype": "text/x-python",
   "name": "python",
   "nbconvert_exporter": "python",
   "pygments_lexer": "ipython3",
   "version": "3.11.6"
  },
  "widgets": {
   "application/vnd.jupyter.widget-state+json": {
    "state": {},
    "version_major": 2,
    "version_minor": 0
   }
  }
 },
 "nbformat": 4,
 "nbformat_minor": 5
}
