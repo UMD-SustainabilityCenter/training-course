{
 "cells": [
  {
   "cell_type": "markdown",
   "id": "6875d6e9",
   "metadata": {
    "tags": [
     "auto-generated-toc"
    ]
   },
   "source": [
    "## Table of Contents\n",
    "\n",
    "- [Y2 Model Based Definition](#Y2-Model-Based-Definition)\n",
    "  - [2.1 Introduction](#2.1-Introduction)\n",
    "  - [2.3 User Stories:](#2.3-User-Stories%3A)\n",
    "- [🏠 Home](../../welcomePage.ipynb)"
   ]
  },
  {
   "cell_type": "markdown",
   "id": "fa26689c-ad63-42a0-8589-5b3d809762cc",
   "metadata": {
    "editable": true,
    "slideshow": {
     "slide_type": ""
    },
    "tags": []
   },
   "source": [
    "# Y2 Model Based Definition\n",
    "## 2.1 Introduction\n",
    "Model-based definition (MBD) is a process that uses 3D models within CAD software to define product assemblies and individual components comprehensively. The model is annotated with non-geometric information, such as dimensions, materials, finishes, tolerances, and symbols, that are important for manufacturing and inspection. The model becomes the source of authority for all engineering activities and is used in downstream processes like manufacturing, inspection, and assembly. MBD can offer several benefits, including: (a) Reduced engineering documentation time: Compared to drawing-centric workflows, MBD can reduce the time spent on engineering documentation, (b) More efficient drafting process: When designers designate critical dimensions, weld callouts, and notes in the model before passing it on to drafters, there's less back-and-forth between the two, allowing drafters to have all the information they need as soon as it's ready, (c) Improved communication and collaboration: MBD can improve communication and collaboration among stakeholders, and (d) Cost savings: efficiencies gained through MBD lead to substantial cost savings.\n",
    "\n",
    "<center>\n",
    "<img src=\"../../img/05.jpg\" alt=\"Alt text\" width=\"500\"></center>"
   ]
  },
  {
   "cell_type": "markdown",
   "id": "4f64885a-7ef4-4c9b-9e09-215dc340e389",
   "metadata": {},
   "source": [
    "### 2.2 Concepts:\n",
    "- **Conceptual Model:** A conceptual model is an abstract representation of a system or process, designed to help understand, predict, or communicate its essential features. It often involves diagrams, flowcharts, or other visual tools to outline the relationships and interactions within the system, without diving into detailed specifics.\n",
    "\n",
    "- **Fully Defined Model:** A fully defined model includes all the specific details necessary for implementation or analysis. In engineering and design, this means all dimensions, materials, tolerances, and other parameters are specified, allowing for accurate manufacturing, simulation, or evaluation.\n",
    "\n",
    "- **CAD/Scanning Tools:** CAD (Computer-Aided Design) tools are software applications used to create, modify, analyze, or optimize a design. These tools enable the creation of detailed 2D or 3D models of physical objects, which can be used for engineering, manufacturing, and simulation purposes. \n",
    "    \n",
    "    Scanning tools, often used in conjunction with CAD, capture the physical dimensions and features of real-world objects to create precise digital representations.\n",
    "\n",
    "    <img src=\"../../img/17.jpg\" alt=\"Alt text\" width=\"300\">\n",
    "\n",
    "- **CAM Tools:** CAM (Computer-Aided Manufacturing) tools use CAD data to control and automate manufacturing processes. These tools generate the instructions (such as G-code) that guide machinery in fabricating parts, ensuring precision and efficiency in production. CAM tools integrate design and manufacturing processes, facilitating the transition from digital models to physical products.\n",
    "\n",
    "    <img src=\"../../img/18.jpg\" alt=\"Alt text\" width=\"300\">\n",
    "    \n",
    "<center>\n",
    "<img src=\"../../img/Model Based Definition.svg\" alt=\"Alt text\" width=\"500\"></center>"
   ]
  },
  {
   "cell_type": "markdown",
   "id": "f5188cfc-8b5f-46fc-b58f-030cfd13fdea",
   "metadata": {},
   "source": [
    "## 2.3 User Stories:\n",
    "#### The \"M\" Block\n",
    "\n",
    "<center>\n",
    "<img src=\"../../img/Model Based Engineering Example.jpg\" alt=\"Model Based Engineering Example\" width=\"800 uw\">\n",
    "</center>\n",
    "\n",
    "Standard CAD formats can store data such as dimentions, tolerance, material, and manufacturing method. Projects using a model based definition need to store more information than what standard CAD formats allow. This 'M' block model was designed for a model based definition. It contains the standard CAD information such as dimentions, tolerance, material, and manufacturing method; but it also contains information about the manufacturing process such as the maximum recored deviation or final dimentions. It also contains sensor information from the manufacturing process, such as motor current feedback, and 3D scan data. It can also store data for non engineering needs such as final cost, packaging requirements, and final customer.\n",
    "\n",
    "To achieve this we created our own file format (.mbe) that stores all this data. The benefit of this format is you can load a specific part of the file when needed. If the engineers need to view the 3d scan, they open the .mbe file and the program will only load the 3D scan it wont load the other information. If sales people need to view the final cost they can select the .mbe file and their program will only load the infromation necessary for sales. The .mbe file is the authoritative source of the product defiition."
   ]
  },
  {
   "cell_type": "markdown",
   "id": "987760ce",
   "metadata": {
    "tags": [
     "Bottom Navigation"
    ]
   },
   "source": [
    "### <center>[◀︎ Module 1](Module1.ipynb)     [🏠 Home](../../welcomePage.ipynb)     [Module 3 ▶︎](Module3.ipynb)</center>"
   ]
  }
 ],
 "metadata": {
  "kernelspec": {
   "display_name": "Python 3 (ipykernel)",
   "language": "python",
   "name": "python3"
  },
  "language_info": {
   "codemirror_mode": {
    "name": "ipython",
    "version": 3
   },
   "file_extension": ".py",
   "mimetype": "text/x-python",
   "name": "python",
   "nbconvert_exporter": "python",
   "pygments_lexer": "ipython3",
   "version": "3.12.3"
  }
 },
 "nbformat": 4,
 "nbformat_minor": 5
}
