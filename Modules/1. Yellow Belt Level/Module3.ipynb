{
 "cells": [
  {
   "cell_type": "markdown",
   "id": "1b1616cf",
   "metadata": {
    "editable": true,
    "slideshow": {
     "slide_type": ""
    },
    "tags": [
     "auto-generated-toc"
    ]
   },
   "source": [
    "## Table of Contents\n",
    "- [Y3 Model-Based Enterprise-Engineering (MBE)](#Y3-Model-Based-Enterprise-Engineering-%28MBE%29)\n",
    "  - [3.1 Overview](#3.1-Overview)\n",
    "  - [3.2 Concepts](#3.2-Concepts)\n",
    "  - [3.3  Key Benefits](#3.3--Key-Benefits)\n",
    "  - [3.4 Summary](#3.4-Summary)\n",
    "  - [3.5 Example](#3.5-Example)\n",
    "- [🏠 Home](../../welcomePage.ipynb)"
   ]
  },
  {
   "cell_type": "markdown",
   "id": "4efa622d",
   "metadata": {
    "editable": true,
    "slideshow": {
     "slide_type": ""
    },
    "tags": []
   },
   "source": [
    "# Y3 Model-Based Enterprise-Engineering (MBE)\n",
    "## 3.1 Overview\n",
    "Historically, the industry relied on drawings to communicate manufacturing components and systems requirements. The decentralization of manufacturing systems has amplified the challenge of collecting and communicating the product and process specifications needed to make decisions about design, production, and supply chain tasks while delivering products to market. Moving away from a reliance on drawings, MBE leverages computer-based technology to design, price, and manufacture items in a digital-centric environment. MBE is a fully integrated and collaborative environment built on detailed 3D product definitions shared across the enterprise to enable rapid, seamless, and affordable deployment of products from concept to disposal.  The foundational elements of MBE are A single digital master data set containing the 3D model and all needed product data in a managed, secure, and controlled environment that supports maximum data reuse for all acquisition, maintenance, and operations aspects.\n",
    "\n",
    "## 3.2 Concepts\n",
    "- **Authoritative source of truth (ASoT):** An authoritative source of truth is a system or repository that is considered the most reliable source for information, such as identity information about an individual. It can also be a combination of multiple data sources. ASoTs are also known as primary-source data.\n",
    "\n",
    "<center><img src=\"Module 3 Content/img/06.jpg\" alt=\"Alt text\" width=\"400\"></center>\n",
    "\n",
    "- **Configuration management (CM):** To be effective, the authoritative source of truth must be established by the organization using clear standards, procedures, and guidelines that promote its inherent value and institutionally protect its integrity. Governance ensures the models are appropriately managed and stakeholders are apprised of the correct ways to accurately collect, share, and maintain the models and data.\n",
    "\n",
    "<center><img src=\"Module 3 Content/img/07.1.jpg\" alt=\"Alt text\" width=\"400\"></center>\n",
    "\n",
    "- **Product Lifecycle Management (PLM):** The concept of Product Lifecycle Management (PLM) is based on the observation that all products have a similar lifecycle and undergo similar stages. These stages include inception, design, manufacture, assembly, service, and disposal. PLM is not a definition of a piece, assembly or product, but an overview of management aspects for handling the product from the first idea through development, production, service, and disposal.\n",
    "\n",
    "<center><img src=\"Module 3 Content/img/08.jpg\" alt=\"Alt text\" width=\"400\"></center>\n",
    "\n",
    "## 3.3  Key Benefits\n",
    "- **Single Source of Truth & Improved Collaboration**: MBE provides an Authoritative Source of Truth (ASoT) for all engineering data, ensuring consistency across teams. Enables engineers, designers, and manufacturers to work from the same digital models, reducing miscommunication and errors.  \n",
    "\n",
    "- **Enhanced Automation & Efficiency**: Integrating CAD, simulations, and PLM tools eliminates reliance on manual, document-based processes. Automating design verification, validation, and compliance checking, reducing design cycles and costs.  \n",
    "\n",
    "- **Improved Product Quality & Performance**: Enables early detection of design flaws through simulations and virtual testing. Enables integrating real-world data with digital models to ensure optimized designs.  \n",
    "\n",
    "- **Better Traceability & Compliance**: Maintains a digital thread connecting requirements, designs, and manufacturing processes. Automating traceability helps meet industry standards and regulatory requirements.  \n",
    "\n",
    "## 3.4 Summary\n",
    "Model-Based Enterprise (MBE) involves integrating a range of concepts into a unified, efficient, and collaborative framework for managing product data and lifecycle. The goal is to ensure product consistency, enhance collaboration, reduce costs, and improve overall product quality throughout its lifecycle.\n",
    "\n",
    "## 3.5 Example\n",
    "Learning the lifecycle timeline of a product from the inception and design to manufacturing, assembly, deployment service, and disposal.\n",
    "<center><img src=\"Module 3 Content/img/08.1.jpg\" alt=\"Alt text\" width=\"700\"></center>\n"
   ]
  },
  {
   "cell_type": "markdown",
   "id": "c20f9efd",
   "metadata": {
    "editable": true,
    "slideshow": {
     "slide_type": ""
    },
    "tags": []
   },
   "source": [
    "### <center>[◀︎ Module 2](Module2.ipynb)     [🏠 Home](../../welcomePage.ipynb)     [Module 4 ▶︎](Module4.ipynb)</center>"
   ]
  }
 ],
 "metadata": {
  "kernelspec": {
   "display_name": "Python 3 (ipykernel)",
   "language": "python",
   "name": "python3"
  },
  "language_info": {
   "codemirror_mode": {
    "name": "ipython",
    "version": 3
   },
   "file_extension": ".py",
   "mimetype": "text/x-python",
   "name": "python",
   "nbconvert_exporter": "python",
   "pygments_lexer": "ipython3",
   "version": "3.11.6"
  },
  "widgets": {
   "application/vnd.jupyter.widget-state+json": {
    "state": {},
    "version_major": 2,
    "version_minor": 0
   }
  }
 },
 "nbformat": 4,
 "nbformat_minor": 5
}
