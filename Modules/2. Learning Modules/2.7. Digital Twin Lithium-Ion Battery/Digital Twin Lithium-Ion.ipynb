{
 "cells": [
  {
   "cell_type": "markdown",
   "metadata": {
    "id": "AEil20eqS2So"
   },
   "source": [
    "# Hybrid digital twin of a Li-ion battery\n"
   ]
  },
  {
   "cell_type": "code",
   "execution_count": 11,
   "metadata": {
    "id": "ZYaB7HSTS2Ss"
   },
   "outputs": [],
   "source": [
    "import pandas as pd\n",
    "import numpy as np\n",
    "from sklearn.model_selection import train_test_split\n",
    "import keras\n",
    "import tensorflow as tf\n",
    "from keras.models import Sequential\n",
    "from keras.layers import LSTM, Dense\n",
    "from keras.optimizers import SGD\n",
    "from tensorflow.keras.layers import Dropout\n",
    "from matplotlib import pyplot as plt\n",
    "import plotly.express as px\n",
    "from plotly.subplots import make_subplots\n",
    "import plotly.graph_objects as go\n",
    "import plotly.figure_factory as ff"
   ]
  },
  {
   "cell_type": "markdown",
   "metadata": {
    "id": "NIhtsIQHS2St"
   },
   "source": [
    "### 1. Load experimental data"
   ]
  },
  {
   "cell_type": "code",
   "execution_count": 13,
   "metadata": {
    "id": "UrmwSwuMS_iY"
   },
   "outputs": [],
   "source": [
    "df = pd.read_csv('discharge.csv')"
   ]
  },
  {
   "cell_type": "code",
   "execution_count": 15,
   "metadata": {
    "id": "rWmpbfS7W9zV"
   },
   "outputs": [],
   "source": [
    "df = df[df['Battery'] == 'B0005']\n",
    "df = df[df['Temperature_measured'] > 36] #choose battery B0005\n",
    "#df['Time'] =pd.to_datetime(df['Time'], unit='s')\n",
    "dfb = df.groupby(['id_cycle']).max()\n",
    "dfb['Cumulated_T'] = dfb['Time'].cumsum()"
   ]
  },
  {
   "cell_type": "code",
   "execution_count": 17,
   "metadata": {
    "colab": {
     "base_uri": "https://localhost:8080/",
     "height": 1000
    },
    "id": "CcBEYPoQC9SE",
    "outputId": "7e16313e-8ccf-4422-a787-a8dba8e29a22"
   },
   "outputs": [
    {
     "ename": "AttributeError",
     "evalue": "'DataFrame' object has no attribute 'iteritems'",
     "output_type": "error",
     "traceback": [
      "\u001b[1;31m---------------------------------------------------------------------------\u001b[0m",
      "\u001b[1;31mAttributeError\u001b[0m                            Traceback (most recent call last)",
      "\u001b[1;32m~\\AppData\\Local\\Temp\\ipykernel_6056\\1670513917.py\u001b[0m in \u001b[0;36m?\u001b[1;34m()\u001b[0m\n\u001b[0;32m      1\u001b[0m \u001b[1;32mimport\u001b[0m \u001b[0mplotly\u001b[0m\u001b[1;33m.\u001b[0m\u001b[0mexpress\u001b[0m \u001b[1;32mas\u001b[0m \u001b[0mpx\u001b[0m\u001b[1;33m\u001b[0m\u001b[1;33m\u001b[0m\u001b[0m\n\u001b[1;32m----> 2\u001b[1;33m fig = px.scatter_matrix(dfb.drop(columns=['Time','type', 'ambient_temperature', \n\u001b[0m\u001b[0;32m      3\u001b[0m                                           'time', 'Battery']), \n\u001b[0;32m      4\u001b[0m                                 )\n\u001b[0;32m      5\u001b[0m fig.update_traces(marker=dict(size=2,\n",
      "\u001b[1;32mC:\\ProgramData\\anaconda3\\Lib\\site-packages\\plotly\\express\\_chart_types.py\u001b[0m in \u001b[0;36m?\u001b[1;34m(data_frame, dimensions, color, symbol, size, hover_name, hover_data, custom_data, category_orders, labels, color_discrete_sequence, color_discrete_map, color_continuous_scale, range_color, color_continuous_midpoint, symbol_sequence, symbol_map, opacity, size_max, title, template, width, height)\u001b[0m\n\u001b[0;32m   1388\u001b[0m     \u001b[0mrepresented\u001b[0m \u001b[0mby\u001b[0m \u001b[0ma\u001b[0m \u001b[0mmultiple\u001b[0m \u001b[0msymbol\u001b[0m \u001b[0mmarks\u001b[0m\u001b[1;33m,\u001b[0m \u001b[0mone\u001b[0m \u001b[1;32min\u001b[0m \u001b[0meach\u001b[0m \u001b[0mcell\u001b[0m \u001b[0mof\u001b[0m \u001b[0ma\u001b[0m \u001b[0mgrid\u001b[0m \u001b[0mof\u001b[0m\u001b[1;33m\u001b[0m\u001b[1;33m\u001b[0m\u001b[0m\n\u001b[0;32m   1389\u001b[0m     \u001b[1;36m2\u001b[0m\u001b[0mD\u001b[0m \u001b[0mscatter\u001b[0m \u001b[0mplots\u001b[0m\u001b[1;33m,\u001b[0m \u001b[0mwhich\u001b[0m \u001b[0mplot\u001b[0m \u001b[0meach\u001b[0m \u001b[0mpair\u001b[0m \u001b[0mof\u001b[0m\u001b[0;31m \u001b[0m\u001b[0;31m`\u001b[0m\u001b[0mdimensions\u001b[0m\u001b[0;31m`\u001b[0m \u001b[0magainst\u001b[0m \u001b[0meach\u001b[0m\u001b[1;33m\u001b[0m\u001b[1;33m\u001b[0m\u001b[0m\n\u001b[0;32m   1390\u001b[0m     \u001b[0mother\u001b[0m\u001b[1;33m.\u001b[0m\u001b[1;33m\u001b[0m\u001b[1;33m\u001b[0m\u001b[0m\n\u001b[0;32m   1391\u001b[0m     \"\"\"\n\u001b[1;32m-> 1392\u001b[1;33m     return make_figure(\n\u001b[0m\u001b[0;32m   1393\u001b[0m         \u001b[0margs\u001b[0m\u001b[1;33m=\u001b[0m\u001b[0mlocals\u001b[0m\u001b[1;33m(\u001b[0m\u001b[1;33m)\u001b[0m\u001b[1;33m,\u001b[0m \u001b[0mconstructor\u001b[0m\u001b[1;33m=\u001b[0m\u001b[0mgo\u001b[0m\u001b[1;33m.\u001b[0m\u001b[0mSplom\u001b[0m\u001b[1;33m,\u001b[0m \u001b[0mlayout_patch\u001b[0m\u001b[1;33m=\u001b[0m\u001b[0mdict\u001b[0m\u001b[1;33m(\u001b[0m\u001b[0mdragmode\u001b[0m\u001b[1;33m=\u001b[0m\u001b[1;34m\"select\"\u001b[0m\u001b[1;33m)\u001b[0m\u001b[1;33m\u001b[0m\u001b[1;33m\u001b[0m\u001b[0m\n\u001b[0;32m   1394\u001b[0m     )\n",
      "\u001b[1;32mC:\\ProgramData\\anaconda3\\Lib\\site-packages\\plotly\\express\\_core.py\u001b[0m in \u001b[0;36m?\u001b[1;34m(args, constructor, trace_patch, layout_patch)\u001b[0m\n\u001b[0;32m   2163\u001b[0m                     \u001b[0mgroup\u001b[0m\u001b[1;33m[\u001b[0m\u001b[0mvar\u001b[0m\u001b[1;33m]\u001b[0m \u001b[1;33m=\u001b[0m \u001b[0mgroup\u001b[0m\u001b[1;33m[\u001b[0m\u001b[0mvar\u001b[0m\u001b[1;33m]\u001b[0m \u001b[1;33m/\u001b[0m \u001b[0mgroup_sum\u001b[0m\u001b[1;33m\u001b[0m\u001b[1;33m\u001b[0m\u001b[0m\n\u001b[0;32m   2164\u001b[0m                 \u001b[1;32melif\u001b[0m \u001b[0margs\u001b[0m\u001b[1;33m[\u001b[0m\u001b[1;34m\"ecdfnorm\"\u001b[0m\u001b[1;33m]\u001b[0m \u001b[1;33m==\u001b[0m \u001b[1;34m\"percent\"\u001b[0m\u001b[1;33m:\u001b[0m\u001b[1;33m\u001b[0m\u001b[1;33m\u001b[0m\u001b[0m\n\u001b[0;32m   2165\u001b[0m                     \u001b[0mgroup\u001b[0m\u001b[1;33m[\u001b[0m\u001b[0mvar\u001b[0m\u001b[1;33m]\u001b[0m \u001b[1;33m=\u001b[0m \u001b[1;36m100.0\u001b[0m \u001b[1;33m*\u001b[0m \u001b[0mgroup\u001b[0m\u001b[1;33m[\u001b[0m\u001b[0mvar\u001b[0m\u001b[1;33m]\u001b[0m \u001b[1;33m/\u001b[0m \u001b[0mgroup_sum\u001b[0m\u001b[1;33m\u001b[0m\u001b[1;33m\u001b[0m\u001b[0m\n\u001b[0;32m   2166\u001b[0m \u001b[1;33m\u001b[0m\u001b[0m\n\u001b[1;32m-> 2167\u001b[1;33m             patch, fit_results = make_trace_kwargs(\n\u001b[0m\u001b[0;32m   2168\u001b[0m                 \u001b[0margs\u001b[0m\u001b[1;33m,\u001b[0m \u001b[0mtrace_spec\u001b[0m\u001b[1;33m,\u001b[0m \u001b[0mgroup\u001b[0m\u001b[1;33m,\u001b[0m \u001b[0mmapping_labels\u001b[0m\u001b[1;33m.\u001b[0m\u001b[0mcopy\u001b[0m\u001b[1;33m(\u001b[0m\u001b[1;33m)\u001b[0m\u001b[1;33m,\u001b[0m \u001b[0msizeref\u001b[0m\u001b[1;33m\u001b[0m\u001b[1;33m\u001b[0m\u001b[0m\n\u001b[0;32m   2169\u001b[0m             )\n\u001b[0;32m   2170\u001b[0m             \u001b[0mtrace\u001b[0m\u001b[1;33m.\u001b[0m\u001b[0mupdate\u001b[0m\u001b[1;33m(\u001b[0m\u001b[0mpatch\u001b[0m\u001b[1;33m)\u001b[0m\u001b[1;33m\u001b[0m\u001b[1;33m\u001b[0m\u001b[0m\n",
      "\u001b[1;32mC:\\ProgramData\\anaconda3\\Lib\\site-packages\\plotly\\express\\_core.py\u001b[0m in \u001b[0;36m?\u001b[1;34m(args, trace_spec, trace_data, mapping_labels, sizeref)\u001b[0m\n\u001b[0;32m    277\u001b[0m         \u001b[0mattr_label\u001b[0m \u001b[1;33m=\u001b[0m \u001b[0mget_decorated_label\u001b[0m\u001b[1;33m(\u001b[0m\u001b[0margs\u001b[0m\u001b[1;33m,\u001b[0m \u001b[0mattr_value\u001b[0m\u001b[1;33m,\u001b[0m \u001b[0mattr_name\u001b[0m\u001b[1;33m)\u001b[0m\u001b[1;33m\u001b[0m\u001b[1;33m\u001b[0m\u001b[0m\n\u001b[0;32m    278\u001b[0m         \u001b[1;32mif\u001b[0m \u001b[0mattr_name\u001b[0m \u001b[1;33m==\u001b[0m \u001b[1;34m\"dimensions\"\u001b[0m\u001b[1;33m:\u001b[0m\u001b[1;33m\u001b[0m\u001b[1;33m\u001b[0m\u001b[0m\n\u001b[0;32m    279\u001b[0m             dims = [\n\u001b[0;32m    280\u001b[0m                 \u001b[1;33m(\u001b[0m\u001b[0mname\u001b[0m\u001b[1;33m,\u001b[0m \u001b[0mcolumn\u001b[0m\u001b[1;33m)\u001b[0m\u001b[1;33m\u001b[0m\u001b[1;33m\u001b[0m\u001b[0m\n\u001b[1;32m--> 281\u001b[1;33m                 \u001b[1;32mfor\u001b[0m \u001b[1;33m(\u001b[0m\u001b[0mname\u001b[0m\u001b[1;33m,\u001b[0m \u001b[0mcolumn\u001b[0m\u001b[1;33m)\u001b[0m \u001b[1;32min\u001b[0m \u001b[0mtrace_data\u001b[0m\u001b[1;33m.\u001b[0m\u001b[0miteritems\u001b[0m\u001b[1;33m(\u001b[0m\u001b[1;33m)\u001b[0m\u001b[1;33m\u001b[0m\u001b[1;33m\u001b[0m\u001b[0m\n\u001b[0m\u001b[0;32m    282\u001b[0m                 \u001b[1;32mif\u001b[0m \u001b[1;33m(\u001b[0m\u001b[1;33m(\u001b[0m\u001b[1;32mnot\u001b[0m \u001b[0mattr_value\u001b[0m\u001b[1;33m)\u001b[0m \u001b[1;32mor\u001b[0m \u001b[1;33m(\u001b[0m\u001b[0mname\u001b[0m \u001b[1;32min\u001b[0m \u001b[0mattr_value\u001b[0m\u001b[1;33m)\u001b[0m\u001b[1;33m)\u001b[0m\u001b[1;33m\u001b[0m\u001b[1;33m\u001b[0m\u001b[0m\n\u001b[0;32m    283\u001b[0m                 and (\n\u001b[0;32m    284\u001b[0m                     \u001b[0mtrace_spec\u001b[0m\u001b[1;33m.\u001b[0m\u001b[0mconstructor\u001b[0m \u001b[1;33m!=\u001b[0m \u001b[0mgo\u001b[0m\u001b[1;33m.\u001b[0m\u001b[0mParcoords\u001b[0m\u001b[1;33m\u001b[0m\u001b[1;33m\u001b[0m\u001b[0m\n",
      "\u001b[1;32mC:\\ProgramData\\anaconda3\\Lib\\site-packages\\pandas\\core\\generic.py\u001b[0m in \u001b[0;36m?\u001b[1;34m(self, name)\u001b[0m\n\u001b[0;32m   6200\u001b[0m             \u001b[1;32mand\u001b[0m \u001b[0mname\u001b[0m \u001b[1;32mnot\u001b[0m \u001b[1;32min\u001b[0m \u001b[0mself\u001b[0m\u001b[1;33m.\u001b[0m\u001b[0m_accessors\u001b[0m\u001b[1;33m\u001b[0m\u001b[1;33m\u001b[0m\u001b[0m\n\u001b[0;32m   6201\u001b[0m             \u001b[1;32mand\u001b[0m \u001b[0mself\u001b[0m\u001b[1;33m.\u001b[0m\u001b[0m_info_axis\u001b[0m\u001b[1;33m.\u001b[0m\u001b[0m_can_hold_identifiers_and_holds_name\u001b[0m\u001b[1;33m(\u001b[0m\u001b[0mname\u001b[0m\u001b[1;33m)\u001b[0m\u001b[1;33m\u001b[0m\u001b[1;33m\u001b[0m\u001b[0m\n\u001b[0;32m   6202\u001b[0m         ):\n\u001b[0;32m   6203\u001b[0m             \u001b[1;32mreturn\u001b[0m \u001b[0mself\u001b[0m\u001b[1;33m[\u001b[0m\u001b[0mname\u001b[0m\u001b[1;33m]\u001b[0m\u001b[1;33m\u001b[0m\u001b[1;33m\u001b[0m\u001b[0m\n\u001b[1;32m-> 6204\u001b[1;33m         \u001b[1;32mreturn\u001b[0m \u001b[0mobject\u001b[0m\u001b[1;33m.\u001b[0m\u001b[0m__getattribute__\u001b[0m\u001b[1;33m(\u001b[0m\u001b[0mself\u001b[0m\u001b[1;33m,\u001b[0m \u001b[0mname\u001b[0m\u001b[1;33m)\u001b[0m\u001b[1;33m\u001b[0m\u001b[1;33m\u001b[0m\u001b[0m\n\u001b[0m",
      "\u001b[1;31mAttributeError\u001b[0m: 'DataFrame' object has no attribute 'iteritems'"
     ]
    }
   ],
   "source": [
    "import plotly.express as px\n",
    "fig = px.scatter_matrix(dfb.drop(columns=['Time','type', 'ambient_temperature', \n",
    "                                          'time', 'Battery']), \n",
    "                                )\n",
    "fig.update_traces(marker=dict(size=2,\n",
    "                              color='crimson',\n",
    "                              symbol='square')),\n",
    "fig.update_traces(diagonal_visible=False)\n",
    "fig.update_layout(\n",
    "    title='Battery dataset',\n",
    "    width=900,\n",
    "    height=1200,\n",
    ")\n",
    "fig.update_layout({'plot_bgcolor': '#f2f8fd',\n",
    "                   'paper_bgcolor': 'white',}, \n",
    "                    template='plotly_white',\n",
    "                    font=dict(size=7)\n",
    "                    )\n",
    "\n",
    "fig.show()"
   ]
  },
  {
   "cell_type": "code",
   "execution_count": null,
   "metadata": {
    "colab": {
     "base_uri": "https://localhost:8080/",
     "height": 542
    },
    "collapsed": true,
    "id": "bmLhWPg6Dnzk",
    "jupyter": {
     "outputs_hidden": true
    },
    "outputId": "1a350f6d-dd02-4b61-fbb8-404ba9510ecc",
    "tags": []
   },
   "outputs": [],
   "source": [
    "fig = go.Figure()\n",
    "\n",
    "fig.add_trace(go.Scatter(x=dfb['Cumulated_T']/3600, \n",
    "                         y=dfb['Capacity'],\n",
    "                         mode='lines',\n",
    "                         name='Capacity',\n",
    "                         marker_size=3, \n",
    "                         line=dict(color='crimson', width=3)    \n",
    "                        ))\n",
    "fig.update_layout(\n",
    "                  title=\"Battery discharge capacity\",\n",
    "                  xaxis_title=\"Working time [hours]\",\n",
    "                  yaxis_title=f\"Battery capacity in Ahr\"\n",
    "    )\n",
    "fig.update_layout({'plot_bgcolor': '#f2f8fd',\n",
    "                   'paper_bgcolor': 'white',}, \n",
    "                    template='plotly_white')"
   ]
  },
  {
   "cell_type": "markdown",
   "metadata": {
    "id": "z4khX4N5wys7"
   },
   "source": [
    "### 2. Define a physical model"
   ]
  },
  {
   "cell_type": "markdown",
   "metadata": {
    "id": "NhiMrtrkcpiR"
   },
   "source": [
    "Physical model according [1]. The basic equation is:<br>\n",
    "<center> $L = 1 − (1 − L' )e^{-f_d}$ </center><br>\n",
    "\n",
    "Where $L$ is the battery lifetime and $L'$ the initial battery lifetime. $f_d$ is a Linearized degradation rate per unit time and per cycle.  It can be described as:<br>\n",
    "<center> $f_d = f_d(t, δ, σ, T_c)$ </center><br> \n",
    "\n",
    "where $t$ is charging time, δ is the cycle depth of discharge, σ is the cycle average state of charge, and $T_c$ is cell temperature. The equation for baatery capacity could be written as follows:<br>\n",
    "<center> $C = C_0e^{f_d}$ </center><br>\n",
    "\n",
    "We have empirically found that $f_d$ aproximates to:\n",
    "<center> $f_d = \\frac{kT_Ci}{t}$ </center><br>\n",
    "\n",
    "where $k= $ 0.13, $i$ the cycle number and $t$ the charge time for every cycle.\n",
    "\n",
    "- [1] *Xu, Bolun & Oudalov, Alexandre & Ulbig, Andreas & Andersson, Göran & Kirschen, D.s. (2016). Modeling of Lithium-Ion Battery Degradation for Cell Life Assessment. IEEE Transactions on Smart Grid. 99. 1-1. 10.1109/TSG.2016.2578950.* "
   ]
  },
  {
   "cell_type": "code",
   "execution_count": null,
   "metadata": {
    "id": "rTU_ImZ1rPLf"
   },
   "outputs": [],
   "source": [
    "from math import e\n",
    "L = (dfb['Capacity']-dfb['Capacity'].iloc[0:1].values[0])/-dfb['Capacity'].iloc[0:1].values[0]\n",
    "K = 0.13\n",
    "L_1 = 1-e**(-K*dfb.index*dfb['Temperature_measured']/(dfb['Time']))\n",
    "dfb['C. Capacity'] = -(L_1*dfb['Capacity'].iloc[0:1].values[0]) + dfb['Capacity'].iloc[0:1].values[0]"
   ]
  },
  {
   "cell_type": "code",
   "execution_count": null,
   "metadata": {
    "colab": {
     "base_uri": "https://localhost:8080/",
     "height": 542
    },
    "id": "l8bmHjJQCBEe",
    "outputId": "0030b53e-9dde-449a-9f29-ba6606820c2e"
   },
   "outputs": [],
   "source": [
    "fig = go.Figure()\n",
    "\n",
    "fig.add_trace(go.Scatter(x=dfb.index, \n",
    "                         y=dfb['C. Capacity'],\n",
    "                         mode='lines',\n",
    "                         name='Physical model',\n",
    "                         line=dict(color='navy', \n",
    "                                   width=2.5,\n",
    "                                   )))\n",
    "\n",
    "fig.add_trace(go.Scatter(x=dfb.index, \n",
    "                         y=dfb['Capacity'],\n",
    "                         mode='markers',\n",
    "                         marker=dict(\n",
    "                              size=4,\n",
    "                              color='grey',\n",
    "                              symbol='cross'\n",
    "                                 ),\n",
    "                         name='NASA dataset',\n",
    "                         line_color='navy'))\n",
    "fig.update_layout(\n",
    "    title=\"Physical model comparison \",\n",
    "    xaxis_title=\"Cycles\",\n",
    "    yaxis_title=\"𝐶, Capacity [Ahr]\")\n",
    "\n",
    "fig.update_layout(legend=dict(\n",
    "    yanchor=\"top\",\n",
    "    y=0.9,\n",
    "    xanchor=\"left\",\n",
    "    x=0.8\n",
    "))\n",
    "\n",
    "fig.update_layout({'plot_bgcolor': '#f2f8fd',\n",
    "                  'paper_bgcolor': 'white',}, \n",
    "                   template='plotly_white')"
   ]
  },
  {
   "cell_type": "markdown",
   "metadata": {
    "id": "GaZ8opJqS2Sx"
   },
   "source": [
    "### 3. Compare experimental data with physical model"
   ]
  },
  {
   "cell_type": "code",
   "execution_count": null,
   "metadata": {
    "colab": {
     "base_uri": "https://localhost:8080/"
    },
    "id": "0jRN6RyZxMvG",
    "outputId": "22590dfb-0d36-453b-a065-9117fe84aa81"
   },
   "outputs": [],
   "source": [
    "# Mean Absolute Error\n",
    "M = pd.DataFrame()\n",
    "S = pd.DataFrame()\n",
    "def MAE(M,S):    \n",
    "    return np.sum(S-M)/len(S)\n",
    "\n",
    "print(f'Mean Absolute Error =', round(MAE(dfb['Capacity'], dfb['C. Capacity']), 3))"
   ]
  },
  {
   "cell_type": "markdown",
   "metadata": {
    "id": "MQj67klQS2S0"
   },
   "source": [
    "### 4. Hybrid digital twin "
   ]
  },
  {
   "cell_type": "code",
   "execution_count": null,
   "metadata": {
    "id": "P4tOwrSYS2S0"
   },
   "outputs": [],
   "source": [
    "#Define inputs and outputs\n",
    "X_in = dfb['C. Capacity']          # input: the simulation time series\n",
    "X_out = dfb['Capacity'] - dfb['C. Capacity']   # output: difference between measurement and simulation\n",
    "\n",
    "X_in_train, X_in_test, X_out_train, X_out_test = train_test_split(X_in, X_out, test_size=0.33)"
   ]
  },
  {
   "cell_type": "code",
   "execution_count": null,
   "metadata": {
    "colab": {
     "base_uri": "https://localhost:8080/"
    },
    "id": "r4RzAol2J8or",
    "outputId": "d096e003-658c-4c95-c759-3e315ade8d63"
   },
   "outputs": [],
   "source": [
    "X_in_train.shape"
   ]
  },
  {
   "cell_type": "code",
   "execution_count": null,
   "metadata": {
    "id": "dnfxtbRqF1V6"
   },
   "outputs": [],
   "source": [
    "#The Dense function in Keras constructs a fully connected neural network layer, automatically initializing the weights as biases.\n",
    "#First hidden layer\n",
    "model = Sequential()\n",
    "model.add(Dense(64, activation='relu'))\n",
    "model.add(Dense(64, activation='relu'))\n",
    "model.add(Dense(1))"
   ]
  },
  {
   "cell_type": "code",
   "execution_count": null,
   "metadata": {
    "colab": {
     "base_uri": "https://localhost:8080/"
    },
    "id": "xpWJebynF6uZ",
    "outputId": "bcc5ab35-7be1-491c-a89f-db29f12638e5"
   },
   "outputs": [],
   "source": [
    "epochs = 100\n",
    "loss = \"mse\"\n",
    "model.compile(optimizer='adam',\n",
    "              loss=loss,\n",
    "              metrics=['mae'], #Mean Absolute Error\n",
    "             )\n",
    "history = model.fit(X_in_train, X_out_train, \n",
    "                    shuffle=True, \n",
    "                    epochs=epochs,\n",
    "                    batch_size=20,\n",
    "                    validation_data=(X_in_test, X_out_test), \n",
    "                    verbose=1)"
   ]
  },
  {
   "cell_type": "code",
   "execution_count": null,
   "metadata": {
    "colab": {
     "base_uri": "https://localhost:8080/",
     "height": 542
    },
    "id": "m40rR1lA8COE",
    "outputId": "865a83fe-c2fd-4cc0-fa6e-553f23e1fca6"
   },
   "outputs": [],
   "source": [
    "fig = go.Figure()\n",
    "\n",
    "fig.add_trace(go.Scatter(x=np.arange(0, epochs, 1),\n",
    "                         y=history.history['mae'],\n",
    "                         mode='lines',\n",
    "                         name=f'Training MAE',\n",
    "                         marker_size=3, \n",
    "                         line_color='orange'))\n",
    "fig.add_trace(go.Scatter(x=np.arange(0, epochs, 1),\n",
    "                         y=history.history['val_mae'],\n",
    "                         mode='lines',\n",
    "                         name=f'Validation MAE',\n",
    "                         line_color='grey'))\n",
    "\n",
    "fig.update_layout(\n",
    "                  title=\"Network training\",\n",
    "                  xaxis_title=\"Epochs\",\n",
    "                  yaxis_title=f\"Mean Absolute Error\")\n",
    "fig.update_layout({'plot_bgcolor': '#f2f8fd' , \n",
    "                   'paper_bgcolor': 'white',}, \n",
    "                   template='plotly_white')"
   ]
  },
  {
   "cell_type": "markdown",
   "metadata": {
    "id": "gXIxRV1HS2S3"
   },
   "source": [
    "### 4. Compile the hybrid digital twin"
   ]
  },
  {
   "cell_type": "code",
   "execution_count": null,
   "metadata": {
    "colab": {
     "base_uri": "https://localhost:8080/",
     "height": 542
    },
    "id": "0PjNqTBjAEEi",
    "outputId": "ff5267eb-f824-4909-a738-18f3c83b375a"
   },
   "outputs": [],
   "source": [
    "fig = go.Figure()\n",
    "fig.add_trace(go.Scatter(x=X_in_train, \n",
    "                         y=X_out_train,\n",
    "                         mode='markers',\n",
    "                         name=f'Modelled Capacity',\n",
    "                         marker=dict(\n",
    "                              size=4,\n",
    "                              color='grey',\n",
    "                              symbol='cross'\n",
    "                                 ), \n",
    "                        line_color='crimson'))\n",
    "fig.add_trace(go.Scatter(x = X_in_train, \n",
    "                         y=model.predict(X_in_train).reshape(-1),\n",
    "                         mode='lines',\n",
    "                         name=f'Trained Capacity',\n",
    "                         line=dict(color='navy', width=3)))\n",
    "fig.update_layout(\n",
    "    title=\"Network training\",\n",
    "    xaxis_title=\"Modelled capacity\",\n",
    "    yaxis_title=\"Δ (Mod. Capacity - Measured Cap.)\")\n",
    "\n",
    "fig.update_layout(legend=dict(\n",
    "    yanchor=\"top\",\n",
    "    y=0.95,\n",
    "    xanchor=\"left\",\n",
    "    x=0.45\n",
    "))\n",
    "fig.update_layout({'plot_bgcolor': '#f2f8fd' , #or azure\n",
    "'paper_bgcolor': 'white',}, template='plotly_white')"
   ]
  },
  {
   "cell_type": "code",
   "execution_count": null,
   "metadata": {
    "colab": {
     "base_uri": "https://localhost:8080/",
     "height": 542
    },
    "id": "5U6sfANYBjxd",
    "outputId": "52c95c9b-d4b2-4103-fe3b-85fcce2f607c"
   },
   "outputs": [],
   "source": [
    "X_twin = X_in + model.predict(X_in).reshape(-1)\n",
    "\n",
    "fig = go.Figure()\n",
    "\n",
    "fig.add_trace(go.Scatter(x=dfb.index, \n",
    "                         y=X_twin,\n",
    "                         mode='lines',\n",
    "                         name=f'Hybrid digial twin',\n",
    "                         line=dict(color='firebrick', width=3)))\n",
    "fig.add_trace(go.Scatter(x=dfb.index, \n",
    "                         y=dfb['C. Capacity'],\n",
    "                         mode='lines',\n",
    "                         name=f'Modelled capacity',\n",
    "                         line=dict(color='navy', \n",
    "                                   width=3,\n",
    "                                   dash='dash')))\n",
    "\n",
    "fig.add_trace(go.Scatter(x=dfb.index, \n",
    "                         y=dfb['Capacity'],\n",
    "                         mode='markers',\n",
    "                         marker=dict(\n",
    "                              size=4,\n",
    "                              color='grey',\n",
    "                              symbol='cross'\n",
    "                                 ),\n",
    "                         name=f'Observed capacity',\n",
    "                         line_color='navy'))\n",
    "fig.update_layout(\n",
    "    title=\"Comparison of hybrid twin with other models\",\n",
    "    xaxis_title=\"Cycles\",\n",
    "    yaxis_title=\"Capacity in Ahr\")\n",
    "fig.update_layout(legend=dict(\n",
    "    yanchor=\"top\",\n",
    "    y=0.95,\n",
    "    xanchor=\"left\",\n",
    "    x=0.77\n",
    "))\n",
    "fig.update_layout({'plot_bgcolor': '#f2f8fd',\n",
    "                  'paper_bgcolor': 'white',}, \n",
    "                   template='plotly_white')"
   ]
  },
  {
   "cell_type": "markdown",
   "metadata": {
    "id": "lt2L-FqWS2S3"
   },
   "source": [
    "## 5. Prediction whit hybrid twin model\n"
   ]
  },
  {
   "cell_type": "code",
   "execution_count": null,
   "metadata": {
    "id": "pf-mRrfdJ5ek"
   },
   "outputs": [],
   "source": [
    "cycles = np.arange(168,500,1)\n",
    "temperature = dfb['Temperature_measured'].iloc[167]\n",
    "time = dfb['Time'].iloc[167]\n",
    "K = 0.13\n",
    "L_e = 1-e**(-K*cycles*temperature/time)\n",
    "X_in_e = -(L_e*dfb['Capacity'].iloc[0:1].values[0]) + dfb['Capacity'].iloc[0:1].values[0]\n",
    "C_twin_e = X_in_e + model.predict(X_in_e).reshape(-1)"
   ]
  },
  {
   "cell_type": "code",
   "execution_count": null,
   "metadata": {
    "colab": {
     "base_uri": "https://localhost:8080/",
     "height": 542
    },
    "id": "4WJpp8TzMvPq",
    "outputId": "0840db8c-cb67-4a77-cb1e-dedfb990b2d8"
   },
   "outputs": [],
   "source": [
    "X_twin = X_in + model.predict(X_in).reshape(-1)\n",
    "\n",
    "fig = go.Figure()\n",
    "\n",
    "fig.add_trace(go.Scatter(x=cycles, \n",
    "                         y=X_in_e,\n",
    "                         mode='lines',\n",
    "                         name=f'C modelled (predicted)',\n",
    "                         line=dict(color='navy', \n",
    "                                   width=3,\n",
    "                                   dash='dash')))\n",
    "fig.add_trace(go.Scatter(x=cycles, \n",
    "                         y=C_twin_e,\n",
    "                         mode='lines',\n",
    "                         name=f'C Digital twin (predicted)',\n",
    "                         line=dict(color='crimson', \n",
    "                                   width=3,\n",
    "                                   dash='dash'\n",
    "                                  )))\n",
    "\n",
    "fig.add_trace(go.Scatter(x=dfb.index, \n",
    "                         y=X_twin,\n",
    "                         mode='lines',\n",
    "                         name=f'C Digital twin',\n",
    "                         line=dict(color='crimson',\n",
    "                                   width=2)))\n",
    "fig.add_trace(go.Scatter(x=dfb.index, \n",
    "                         y=dfb['C. Capacity'],\n",
    "                         mode='lines',\n",
    "                         name=f'C modelled',\n",
    "                         line=dict(color='navy', \n",
    "                                   width=2)))\n",
    "\n",
    "fig.update_layout(\n",
    "    title=\"Battery capacity prediction\",\n",
    "    xaxis_title=\"Cycles\",\n",
    "    yaxis_title=\"Battery capacity [Ahr]\")\n",
    "fig.update_layout(legend=dict(\n",
    "    yanchor=\"top\",\n",
    "    y=0.95,\n",
    "    xanchor=\"left\",\n",
    "    x=0.72\n",
    "))\n",
    "fig.update_layout({'plot_bgcolor': '#f2f8fd',\n",
    "                  'paper_bgcolor': 'white',}, \n",
    "                   template='plotly_white')"
   ]
  }
 ],
 "metadata": {
  "colab": {
   "collapsed_sections": [],
   "name": "digitalTwin_Li_ION_.ipynb",
   "provenance": []
  },
  "kernelspec": {
   "display_name": "Python 3 (ipykernel)",
   "language": "python",
   "name": "python3"
  },
  "language_info": {
   "codemirror_mode": {
    "name": "ipython",
    "version": 3
   },
   "file_extension": ".py",
   "mimetype": "text/x-python",
   "name": "python",
   "nbconvert_exporter": "python",
   "pygments_lexer": "ipython3",
   "version": "3.11.7"
  }
 },
 "nbformat": 4,
 "nbformat_minor": 4
}
