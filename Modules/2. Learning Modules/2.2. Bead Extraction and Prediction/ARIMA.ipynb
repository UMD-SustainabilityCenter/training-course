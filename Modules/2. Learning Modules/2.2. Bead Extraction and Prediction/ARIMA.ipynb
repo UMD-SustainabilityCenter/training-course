{
 "cells": [
  {
   "cell_type": "markdown",
   "id": "edba6848-5d32-42dc-864f-1c509532ba14",
   "metadata": {},
   "source": [
    "# ARIMA"
   ]
  },
  {
   "cell_type": "markdown",
   "id": "14185508-a5d5-4ce4-b0c9-c08212a22d8c",
   "metadata": {},
   "source": [
    "**ARIMA (AutoRegressive Integrated Moving Average)** is a popular statistical method for time series forecasting. ARIMA models are used to understand past data or predict future data points in a series.\n",
    "\n",
    "## Concept\n",
    "\n",
    "ARIMA models are composed of three main components:\n",
    "- **AR (AutoRegressive):** This part uses past values in the time series to predict future values based on a lagged relationship. The AR part involves terms like:\n",
    "  $$\n",
    "  \\phi_1 Y_{t-1} + \\phi_2 Y_{t-2} + \\ldots + \\phi_p Y_{t-p}\n",
    "  $$\n",
    "  where \\( Φ_i \\) represents the coefficients of the lagged observations.\n",
    "- **I (Integrated):** This represents the differencing of raw observations to make the time series stationary, i.e., data values are replaced by the difference between the data values and a previous value. The differencing can be represented as:\n",
    "  $$\n",
    "  (1 - L)^d Y_t\n",
    "  $$\n",
    "  where \\( L \\) is the lag operator, and \\( d \\) is the order of differencing.\n",
    "- **MA (Moving Average):** This involves modeling the error term as a combination of error terms from the past that move with time, expressed as:\n",
    "  $$\n",
    "  \\theta_1 \\epsilon_{t-1} + \\theta_2 \\epsilon_{t-2} + \\ldots + \\theta_q \\epsilon_{t-q}\n",
    "  $$\n",
    "  where \\( θ_i \\) are the coefficients of the moving average terms and \\( ε_t \\) are the error terms.\n",
    "\n",
    "## Model Notation\n",
    "\n",
    "ARIMA models are generally denoted as ARIMA(p, d, q) where:\n",
    "- **p:** The number of lag observations included in the model (lag order).\n",
    "- **d:** The number of times that the raw observations are differenced (degree of differencing).\n",
    "- **q:** The size of the moving average window (order of moving average).\n",
    "\n",
    "## Stationarity\n",
    "\n",
    "A key assumption of ARIMA is that the underlying data must be stationary. Stationarity means that the statistical properties such as mean, variance, and autocorrelation are all constant over time. Non-stationary behaviors can be trends, cycles, random walks, or combinations of the three.\n",
    "\n",
    "## Seasonal ARIMA (SARIMA)\n",
    "\n",
    "For seasonal effects, ARIMA models can be extended to SARIMA which incorporates seasonal elements into the model. These are denoted as SARIMA(p, d, q)(P, D, Q)[s] where:\n",
    "- **P, D, Q** represent the seasonal autoregressive order, differencing order, and moving average order, respectively.\n",
    "- **s:** The number of time steps for a single seasonal period.\n",
    "\n",
    "## Applications\n",
    "\n",
    "ARIMA models are widely used in economics, finance, and business for tasks such as:\n",
    "- Sales forecasting,\n",
    "- Stock market analysis,\n",
    "- Economic forecasting."
   ]
  },
  {
   "cell_type": "markdown",
   "id": "e21b5596-4253-4d7c-a2e7-bc6e396256b0",
   "metadata": {},
   "source": [
    "# Implemetation"
   ]
  },
  {
   "cell_type": "markdown",
   "id": "8340c1be-643a-4936-ac31-b74cdd5617d3",
   "metadata": {},
   "source": [
    "### Import Libraries"
   ]
  },
  {
   "cell_type": "code",
   "execution_count": 1,
   "id": "ab575897-5411-47d3-916c-e9a933b41d16",
   "metadata": {
    "jupyter": {
     "source_hidden": true
    }
   },
   "outputs": [],
   "source": [
    "import pandas as pd\n",
    "import numpy as np\n",
    "import matplotlib.pyplot as plt\n",
    "import io\n",
    "import ipywidgets as widgets\n",
    "from IPython.display import display, clear_output\n",
    "\n",
    "from sklearn.metrics import mean_squared_error\n",
    "import matplotlib.pyplot as plt\n",
    "from IPython.display import display, clear_output, HTML\n",
    "from statsmodels.tsa.arima.model import ARIMA\n",
    "\n",
    "import warnings\n",
    "warnings.filterwarnings(\"ignore\")"
   ]
  },
  {
   "cell_type": "markdown",
   "id": "e08b85c6-10ec-49d9-9796-8cc4683ae546",
   "metadata": {},
   "source": [
    "### Import and show Data"
   ]
  },
  {
   "cell_type": "code",
   "execution_count": 2,
   "id": "c17a59e8-9209-4d78-92a2-1f5517e89a06",
   "metadata": {
    "jupyter": {
     "source_hidden": true
    }
   },
   "outputs": [
    {
     "data": {
      "text/html": [
       "<div>\n",
       "<style scoped>\n",
       "    .dataframe tbody tr th:only-of-type {\n",
       "        vertical-align: middle;\n",
       "    }\n",
       "\n",
       "    .dataframe tbody tr th {\n",
       "        vertical-align: top;\n",
       "    }\n",
       "\n",
       "    .dataframe thead th {\n",
       "        text-align: right;\n",
       "    }\n",
       "</style>\n",
       "<table border=\"1\" class=\"dataframe\">\n",
       "  <thead>\n",
       "    <tr style=\"text-align: right;\">\n",
       "      <th></th>\n",
       "      <th>Time</th>\n",
       "      <th>Position Feedback</th>\n",
       "      <th>Velocity Feedback from Axis 1</th>\n",
       "      <th>Velocity Feedback from Axis 2</th>\n",
       "      <th>Temperature</th>\n",
       "      <th>Current Feedback</th>\n",
       "      <th>Interpolated Bead Area</th>\n",
       "    </tr>\n",
       "  </thead>\n",
       "  <tbody>\n",
       "    <tr>\n",
       "      <th>0</th>\n",
       "      <td>0.056</td>\n",
       "      <td>15.567</td>\n",
       "      <td>11.178</td>\n",
       "      <td>6.4952</td>\n",
       "      <td>1.1173</td>\n",
       "      <td>1.2309</td>\n",
       "      <td>1.1184</td>\n",
       "    </tr>\n",
       "    <tr>\n",
       "      <th>1</th>\n",
       "      <td>0.057</td>\n",
       "      <td>15.579</td>\n",
       "      <td>11.257</td>\n",
       "      <td>6.4952</td>\n",
       "      <td>1.1175</td>\n",
       "      <td>1.2735</td>\n",
       "      <td>1.1191</td>\n",
       "    </tr>\n",
       "    <tr>\n",
       "      <th>2</th>\n",
       "      <td>0.058</td>\n",
       "      <td>15.590</td>\n",
       "      <td>11.375</td>\n",
       "      <td>3.2476</td>\n",
       "      <td>1.1175</td>\n",
       "      <td>1.1567</td>\n",
       "      <td>1.1198</td>\n",
       "    </tr>\n",
       "    <tr>\n",
       "      <th>3</th>\n",
       "      <td>0.059</td>\n",
       "      <td>15.601</td>\n",
       "      <td>11.324</td>\n",
       "      <td>6.4952</td>\n",
       "      <td>1.1173</td>\n",
       "      <td>1.2975</td>\n",
       "      <td>1.1205</td>\n",
       "    </tr>\n",
       "    <tr>\n",
       "      <th>4</th>\n",
       "      <td>0.060</td>\n",
       "      <td>15.613</td>\n",
       "      <td>11.285</td>\n",
       "      <td>6.4952</td>\n",
       "      <td>1.1173</td>\n",
       "      <td>1.2168</td>\n",
       "      <td>1.1212</td>\n",
       "    </tr>\n",
       "  </tbody>\n",
       "</table>\n",
       "</div>"
      ],
      "text/plain": [
       "    Time  Position Feedback  Velocity Feedback from Axis 1  \\\n",
       "0  0.056             15.567                         11.178   \n",
       "1  0.057             15.579                         11.257   \n",
       "2  0.058             15.590                         11.375   \n",
       "3  0.059             15.601                         11.324   \n",
       "4  0.060             15.613                         11.285   \n",
       "\n",
       "   Velocity Feedback from Axis 2  Temperature  Current Feedback  \\\n",
       "0                         6.4952       1.1173            1.2309   \n",
       "1                         6.4952       1.1175            1.2735   \n",
       "2                         3.2476       1.1175            1.1567   \n",
       "3                         6.4952       1.1173            1.2975   \n",
       "4                         6.4952       1.1173            1.2168   \n",
       "\n",
       "   Interpolated Bead Area  \n",
       "0                  1.1184  \n",
       "1                  1.1191  \n",
       "2                  1.1198  \n",
       "3                  1.1205  \n",
       "4                  1.1212  "
      ]
     },
     "metadata": {},
     "output_type": "display_data"
    },
    {
     "name": "stdout",
     "output_type": "stream",
     "text": [
      "The data is composed of  295568  rows and  7  columns.\n"
     ]
    }
   ],
   "source": [
    "data = pd.read_csv('./Data/BeadArea.csv')\n",
    "display(data.head())\n",
    "print (\"The data is composed of \", data.shape[0], \" rows and \", data.shape[1], \" columns.\")"
   ]
  },
  {
   "cell_type": "markdown",
   "id": "3f00e88d-9912-461b-a961-7ba58a56300a",
   "metadata": {},
   "source": [
    "### Predict Bead Area"
   ]
  },
  {
   "cell_type": "code",
   "execution_count": 3,
   "id": "e7ccd4af-6b52-4d0b-abec-2d0a2a14c65c",
   "metadata": {
    "jupyter": {
     "source_hidden": true
    }
   },
   "outputs": [
    {
     "data": {
      "application/vnd.jupyter.widget-view+json": {
       "model_id": "ae621943284e48eeaddb2d9814876144",
       "version_major": 2,
       "version_minor": 0
      },
      "text/plain": [
       "IntRangeSlider(value=(0, 500), continuous_update=False, description='Index Range:', layout=Layout(width='600px…"
      ]
     },
     "metadata": {},
     "output_type": "display_data"
    },
    {
     "data": {
      "application/vnd.jupyter.widget-view+json": {
       "model_id": "b60971b6d59245cdb1f4ee8fa1d1d3c4",
       "version_major": 2,
       "version_minor": 0
      },
      "text/plain": [
       "IntSlider(value=80, continuous_update=False, description='Train %:', layout=Layout(width='600px'), max=95, min…"
      ]
     },
     "metadata": {},
     "output_type": "display_data"
    },
    {
     "data": {
      "application/vnd.jupyter.widget-view+json": {
       "model_id": "9ca3fe377c95447fbd950b1757a595dc",
       "version_major": 2,
       "version_minor": 0
      },
      "text/plain": [
       "IntSlider(value=5, continuous_update=False, description='AR Order (p):', layout=Layout(width='600px'), max=10,…"
      ]
     },
     "metadata": {},
     "output_type": "display_data"
    },
    {
     "data": {
      "application/vnd.jupyter.widget-view+json": {
       "model_id": "031a3d06c92244678b12dbcd476aaa3c",
       "version_major": 2,
       "version_minor": 0
      },
      "text/plain": [
       "IntSlider(value=1, continuous_update=False, description='Difference Order (d):', layout=Layout(width='600px'),…"
      ]
     },
     "metadata": {},
     "output_type": "display_data"
    },
    {
     "data": {
      "application/vnd.jupyter.widget-view+json": {
       "model_id": "4bbce9ba9917434fbbddc82acad170be",
       "version_major": 2,
       "version_minor": 0
      },
      "text/plain": [
       "IntSlider(value=0, continuous_update=False, description='MA Order (q):', layout=Layout(width='600px'), max=10,…"
      ]
     },
     "metadata": {},
     "output_type": "display_data"
    },
    {
     "data": {
      "application/vnd.jupyter.widget-view+json": {
       "model_id": "f7be34839d964a0183bc0a0955a0add2",
       "version_major": 2,
       "version_minor": 0
      },
      "text/plain": [
       "IntSlider(value=10, continuous_update=False, description='Future Steps:', layout=Layout(width='600px'), style=…"
      ]
     },
     "metadata": {},
     "output_type": "display_data"
    },
    {
     "data": {
      "application/vnd.jupyter.widget-view+json": {
       "model_id": "65bc365b836d4a948fcd6a050fa3e871",
       "version_major": 2,
       "version_minor": 0
      },
      "text/plain": [
       "Button(description='Apply Changes', layout=Layout(width='800px'), style=ButtonStyle())"
      ]
     },
     "metadata": {},
     "output_type": "display_data"
    },
    {
     "data": {
      "application/vnd.jupyter.widget-view+json": {
       "model_id": "ae6cd6a7245c4a6ea51aa6b2e6b0f9c3",
       "version_major": 2,
       "version_minor": 0
      },
      "text/plain": [
       "Output()"
      ]
     },
     "metadata": {},
     "output_type": "display_data"
    }
   ],
   "source": [
    "window = 100\n",
    "\n",
    "# Define widgets with adjusted layout\n",
    "index_range_slider = widgets.IntRangeSlider(\n",
    "    value=[0, min(500, len(data))],\n",
    "    min=0,\n",
    "    max=len(data),\n",
    "    step=1,\n",
    "    description='Index Range:',\n",
    "    layout=widgets.Layout(width='600px'),  # Increase width for better readability\n",
    "    style={'description_width': '150px'},  # Increase description width\n",
    "    continuous_update=False\n",
    ")\n",
    "\n",
    "train_size_slider = widgets.IntSlider(\n",
    "    value=80,\n",
    "    min=50,\n",
    "    max=95,\n",
    "    step=1,\n",
    "    description='Train %:',\n",
    "    layout=widgets.Layout(width='600px'),  # Increase width\n",
    "    style={'description_width': '150px'},  # Increase description width\n",
    "    continuous_update=False\n",
    ")\n",
    "\n",
    "# ARIMA parameter sliders\n",
    "p_slider = widgets.IntSlider(\n",
    "    value=5,\n",
    "    min=0,\n",
    "    max=10,\n",
    "    step=1,\n",
    "    description='AR Order (p):',\n",
    "    layout=widgets.Layout(width='600px'),\n",
    "    style={'description_width': '150px'},\n",
    "    continuous_update=False\n",
    ")\n",
    "\n",
    "d_slider = widgets.IntSlider(\n",
    "    value=1,\n",
    "    min=0,\n",
    "    max=2,\n",
    "    step=1,\n",
    "    description='Difference Order (d):',\n",
    "    layout=widgets.Layout(width='600px'),\n",
    "    style={'description_width': '150px'},\n",
    "    continuous_update=False\n",
    ")\n",
    "\n",
    "q_slider = widgets.IntSlider(\n",
    "    value=0,\n",
    "    min=0,\n",
    "    max=10,\n",
    "    step=1,\n",
    "    description='MA Order (q):',\n",
    "    layout=widgets.Layout(width='600px'),\n",
    "    style={'description_width': '150px'},\n",
    "    continuous_update=False\n",
    ")\n",
    "\n",
    "# Slider to control future prediction steps\n",
    "future_steps_slider = widgets.IntSlider(\n",
    "    value=10,\n",
    "    min=0,\n",
    "    max=100,\n",
    "    step=1,\n",
    "    description='Future Steps:',\n",
    "    layout=widgets.Layout(width='600px'),\n",
    "    style={'description_width': '150px'},\n",
    "    continuous_update=False)\n",
    "\n",
    "apply_button = widgets.Button(description=\"Apply Changes\", layout=widgets.Layout(width='800px'))\n",
    "\n",
    "# Define the function to apply changes and update the plots\n",
    "def apply_changes(b):\n",
    "    with output:\n",
    "        clear_output(wait=True)\n",
    "        \n",
    "        # Extract the parameters from widgets\n",
    "        index_range = index_range_slider.value\n",
    "        train_size_pct = train_size_slider.value / 100\n",
    "        p = p_slider.value\n",
    "        d = d_slider.value\n",
    "        q = q_slider.value\n",
    "        future_steps = future_steps_slider.value\n",
    "        \n",
    "        # Slice the data\n",
    "        df = data[index_range[0]:index_range[1]]\n",
    "        \n",
    "        # Prepare the data\n",
    "        y = df['Interpolated Bead Area']\n",
    "        \n",
    "        # Train-test split\n",
    "        train_size = int(len(df) * train_size_pct)\n",
    "        y_train, y_test = y[:train_size], y[train_size:train_size+future_steps]\n",
    "        \n",
    "        # Fit ARIMA model on training data\n",
    "        model = ARIMA(y_train, order=(p, d, q))\n",
    "        model_fit = model.fit()\n",
    "\n",
    "        # Forecast on the test data and beyond\n",
    "        forecast_steps = window  # 10 additional future steps\n",
    "        forecast = model_fit.forecast(steps=forecast_steps)\n",
    "        \n",
    "        # Extract predictions for test data\n",
    "        y_pred = forecast[:future_steps]\n",
    "        #future_predictions = forecast[len(y_test):]\n",
    "        \n",
    "        mse = mean_squared_error(y_test, y_pred)\n",
    "        display(HTML(f'<b>Mean Squared Error: {mse:.5f}</b>'))  # Display MSE in bold\n",
    "        \n",
    "        # Plot predicted vs actual\n",
    "        plt.figure(figsize=(10, 6))\n",
    "        plt.plot(y_train.index, y_train, label='Training', color='green')\n",
    "        plt.plot(y_test.index, y_test, label='Actual', color='blue')\n",
    "        plt.plot(y_test.index, y_pred, label='Predicted', color='red', linestyle='--')\n",
    "        plt.axvline(x=y_test.index[-1], color='gray', linestyle='--')  # Mark the end of actual test data\n",
    "        #future_index = range(y_test.index[-1] + 1, y_test.index[-1] + 1 + len(future_predictions))\n",
    "        #plt.plot(future_index, future_predictions, label='Future Predictions', color='green', linestyle='--')\n",
    "        plt.xlabel('Time')\n",
    "        plt.ylabel('Interpolated Bead Area')\n",
    "        plt.title('Actual vs Predicted Interpolated Bead Area')\n",
    "        plt.legend()\n",
    "        plt.show()\n",
    "        \n",
    "        # Calculate loss for each point\n",
    "        pointwise_mse_loss = (y_test.values - y_pred) ** 2  # Match dimension with y_test\n",
    "        \n",
    "        # Plot the pointwise loss\n",
    "        plt.figure(figsize=(10, 6))\n",
    "        plt.plot(y_test.index, y_test, label='Actual', color='blue')\n",
    "        plt.plot(y_test.index, y_pred, label='Predicted', color='red', linestyle='--')\n",
    "        plt.plot(y_test.index, pointwise_mse_loss, label='Pointwise MSE Loss', color='orange')\n",
    "        plt.xlabel('Time')\n",
    "        plt.ylabel('MSE Loss')\n",
    "        plt.title('Pointwise MSE Loss of Predicted vs Actual Interpolated Bead Area')\n",
    "        plt.legend()\n",
    "        plt.show()\n",
    "\n",
    "# Link the apply button to the function\n",
    "apply_button.on_click(apply_changes)\n",
    "\n",
    "# Display the widgets and the output area\n",
    "output = widgets.Output()\n",
    "\n",
    "display(index_range_slider, train_size_slider, p_slider, d_slider, q_slider, future_steps_slider, apply_button, output)\n"
   ]
  }
 ],
 "metadata": {
  "kernelspec": {
   "display_name": "Python 3 (ipykernel)",
   "language": "python",
   "name": "python3"
  },
  "language_info": {
   "codemirror_mode": {
    "name": "ipython",
    "version": 3
   },
   "file_extension": ".py",
   "mimetype": "text/x-python",
   "name": "python",
   "nbconvert_exporter": "python",
   "pygments_lexer": "ipython3",
   "version": "3.10.9"
  }
 },
 "nbformat": 4,
 "nbformat_minor": 5
}
