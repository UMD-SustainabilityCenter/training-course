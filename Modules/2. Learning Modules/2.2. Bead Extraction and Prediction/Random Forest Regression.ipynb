{
 "cells": [
  {
   "cell_type": "markdown",
   "id": "f3b6e2a1-14ec-4075-ae38-ca192f3e144c",
   "metadata": {},
   "source": [
    "# Random Forest Regression"
   ]
  },
  {
   "cell_type": "markdown",
   "id": "8f6d1379-7996-4c2c-9919-39b26f23d440",
   "metadata": {
    "jp-MarkdownHeadingCollapsed": true
   },
   "source": [
    "**Random Forest Regression** is an ensemble learning method for regression that operates by constructing a multitude of decision trees at training time and outputting the mean prediction of the individual trees. Random Forest combines multiple decision trees to increase the overall accuracy and reduce the risk of overfitting.\n",
    "\n",
    "## Concept\n",
    "\n",
    "Random Forest builds multiple decision trees and merges them together to get a more accurate and stable prediction. The ensemble of trees helps to correct for trees that may have overfitted to their sample. It is one of the most powerful and widely used machine learning algorithms due to its simplicity and diversity (applicable to both classification and regression tasks).\n",
    "\n",
    "## How It Works\n",
    "\n",
    "1. **Bootstrap Aggregating (Bagging):** Random Forest uses the bagging technique where it creates multiple datasets from the original dataset by sampling with replacement, and then trains a decision tree on each.\n",
    "2. **Node Splitting:** At each node in the trees, a random subset of the features is considered for splitting. This introduces diversity in the model, reducing the variance and preventing overfitting.\n",
    "3. **Averaging:** For regression tasks, it averages the outputs of different trees to give a final prediction.\n",
    "\n",
    "## Key Parameters\n",
    "\n",
    "- $n_{\\text{estimators}}$: The number of trees in the forest. Typically, the more trees, the better to learn the data. However, adding a lot of trees can slow down the training process considerably.\n",
    "- $\\text{max\\_depth}$: The maximum depth of the trees. Deeper trees learn more detailed data patterns and can be more prone to overfitting.\n",
    "- $\\text{min\\_samples\\_split}$: The minimum number of samples required to split an internal node.\n",
    "- $\\text{min\\_samples\\_leaf}$: The minimum number of samples required to be at a leaf node.\n",
    "\n",
    "## Advantages\n",
    "\n",
    "- Effective in high dimensional spaces and large data sets.\n",
    "- Handles both numerical and categorical data.\n",
    "- Provides a good indicator of the importance of features.\n",
    "\n",
    "## Applications\n",
    "\n",
    "Random Forest is versatile and can be used for:\n",
    "- Predicting housing prices,\n",
    "- Stock market behavior analysis,\n",
    "- Medical diagnosis,\n",
    "- Complex regression tasks in ecological and biological studies."
   ]
  },
  {
   "cell_type": "markdown",
   "id": "e4a888fb-024e-46f2-b6db-a9e6864f3f5d",
   "metadata": {},
   "source": [
    "# Implementation"
   ]
  },
  {
   "cell_type": "markdown",
   "id": "704f68df-3668-4395-b20a-f1dfba8f4ab6",
   "metadata": {},
   "source": [
    "### Import Libraries"
   ]
  },
  {
   "cell_type": "code",
   "execution_count": 1,
   "id": "ab575897-5411-47d3-916c-e9a933b41d16",
   "metadata": {
    "jupyter": {
     "source_hidden": true
    }
   },
   "outputs": [],
   "source": [
    "import pandas as pd\n",
    "import numpy as np\n",
    "import matplotlib.pyplot as plt\n",
    "import io\n",
    "import ipywidgets as widgets\n",
    "from IPython.display import display, clear_output\n",
    "\n",
    "from sklearn.ensemble import RandomForestRegressor\n",
    "from sklearn.metrics import mean_squared_error\n",
    "from IPython.display import display, clear_output, HTML\n",
    "\n",
    "import warnings\n",
    "warnings.filterwarnings(\"ignore\")"
   ]
  },
  {
   "cell_type": "markdown",
   "id": "d6f169d9-d1f7-45f8-a64b-db790f0afb1e",
   "metadata": {},
   "source": [
    "### Import and show Data"
   ]
  },
  {
   "cell_type": "code",
   "execution_count": 2,
   "id": "c17a59e8-9209-4d78-92a2-1f5517e89a06",
   "metadata": {
    "jupyter": {
     "source_hidden": true
    }
   },
   "outputs": [
    {
     "data": {
      "text/html": [
       "<div>\n",
       "<style scoped>\n",
       "    .dataframe tbody tr th:only-of-type {\n",
       "        vertical-align: middle;\n",
       "    }\n",
       "\n",
       "    .dataframe tbody tr th {\n",
       "        vertical-align: top;\n",
       "    }\n",
       "\n",
       "    .dataframe thead th {\n",
       "        text-align: right;\n",
       "    }\n",
       "</style>\n",
       "<table border=\"1\" class=\"dataframe\">\n",
       "  <thead>\n",
       "    <tr style=\"text-align: right;\">\n",
       "      <th></th>\n",
       "      <th>Time</th>\n",
       "      <th>Position Feedback</th>\n",
       "      <th>Velocity Feedback from Axis 1</th>\n",
       "      <th>Velocity Feedback from Axis 2</th>\n",
       "      <th>Temperature</th>\n",
       "      <th>Current Feedback</th>\n",
       "      <th>Interpolated Bead Area</th>\n",
       "    </tr>\n",
       "  </thead>\n",
       "  <tbody>\n",
       "    <tr>\n",
       "      <th>0</th>\n",
       "      <td>0.056</td>\n",
       "      <td>15.567</td>\n",
       "      <td>11.178</td>\n",
       "      <td>6.4952</td>\n",
       "      <td>1.1173</td>\n",
       "      <td>1.2309</td>\n",
       "      <td>1.1184</td>\n",
       "    </tr>\n",
       "    <tr>\n",
       "      <th>1</th>\n",
       "      <td>0.057</td>\n",
       "      <td>15.579</td>\n",
       "      <td>11.257</td>\n",
       "      <td>6.4952</td>\n",
       "      <td>1.1175</td>\n",
       "      <td>1.2735</td>\n",
       "      <td>1.1191</td>\n",
       "    </tr>\n",
       "    <tr>\n",
       "      <th>2</th>\n",
       "      <td>0.058</td>\n",
       "      <td>15.590</td>\n",
       "      <td>11.375</td>\n",
       "      <td>3.2476</td>\n",
       "      <td>1.1175</td>\n",
       "      <td>1.1567</td>\n",
       "      <td>1.1198</td>\n",
       "    </tr>\n",
       "    <tr>\n",
       "      <th>3</th>\n",
       "      <td>0.059</td>\n",
       "      <td>15.601</td>\n",
       "      <td>11.324</td>\n",
       "      <td>6.4952</td>\n",
       "      <td>1.1173</td>\n",
       "      <td>1.2975</td>\n",
       "      <td>1.1205</td>\n",
       "    </tr>\n",
       "    <tr>\n",
       "      <th>4</th>\n",
       "      <td>0.060</td>\n",
       "      <td>15.613</td>\n",
       "      <td>11.285</td>\n",
       "      <td>6.4952</td>\n",
       "      <td>1.1173</td>\n",
       "      <td>1.2168</td>\n",
       "      <td>1.1212</td>\n",
       "    </tr>\n",
       "  </tbody>\n",
       "</table>\n",
       "</div>"
      ],
      "text/plain": [
       "    Time  Position Feedback  Velocity Feedback from Axis 1  \\\n",
       "0  0.056             15.567                         11.178   \n",
       "1  0.057             15.579                         11.257   \n",
       "2  0.058             15.590                         11.375   \n",
       "3  0.059             15.601                         11.324   \n",
       "4  0.060             15.613                         11.285   \n",
       "\n",
       "   Velocity Feedback from Axis 2  Temperature  Current Feedback  \\\n",
       "0                         6.4952       1.1173            1.2309   \n",
       "1                         6.4952       1.1175            1.2735   \n",
       "2                         3.2476       1.1175            1.1567   \n",
       "3                         6.4952       1.1173            1.2975   \n",
       "4                         6.4952       1.1173            1.2168   \n",
       "\n",
       "   Interpolated Bead Area  \n",
       "0                  1.1184  \n",
       "1                  1.1191  \n",
       "2                  1.1198  \n",
       "3                  1.1205  \n",
       "4                  1.1212  "
      ]
     },
     "metadata": {},
     "output_type": "display_data"
    },
    {
     "name": "stdout",
     "output_type": "stream",
     "text": [
      "The data is composed of  295568  rows and  7  columns.\n"
     ]
    }
   ],
   "source": [
    "data = pd.read_csv('./Data/BeadArea.csv')\n",
    "display(data.head())\n",
    "print (\"The data is composed of \", data.shape[0], \" rows and \", data.shape[1], \" columns.\")"
   ]
  },
  {
   "cell_type": "markdown",
   "id": "545699f9-349b-4e2f-be6a-f02dd9b99c9f",
   "metadata": {},
   "source": [
    "### Data Preprocessing"
   ]
  },
  {
   "cell_type": "code",
   "execution_count": 3,
   "id": "1d5eae02-6b01-4bf6-be71-9b4b2be4c605",
   "metadata": {
    "jupyter": {
     "source_hidden": true
    }
   },
   "outputs": [],
   "source": [
    "data['Lag1'] = data['Interpolated Bead Area'].shift(1)\n",
    "data['Lag2'] = data['Interpolated Bead Area'].shift(2)\n",
    "data['Lag3'] = data['Interpolated Bead Area'].shift(3)\n",
    "data.dropna(inplace=True)"
   ]
  },
  {
   "cell_type": "markdown",
   "id": "778bb96e-dd94-4ebf-98dc-a358a1e63f72",
   "metadata": {},
   "source": [
    "### Predict Bead Area"
   ]
  },
  {
   "cell_type": "code",
   "execution_count": 4,
   "id": "f4a4f24b-18d5-4341-a398-29c6e7e1642c",
   "metadata": {
    "jupyter": {
     "source_hidden": true
    }
   },
   "outputs": [
    {
     "data": {
      "application/vnd.jupyter.widget-view+json": {
       "model_id": "ba5f8feb2b224b329c131e565b0bd506",
       "version_major": 2,
       "version_minor": 0
      },
      "text/plain": [
       "IntRangeSlider(value=(0, 500), continuous_update=False, description='Index Range:', layout=Layout(width='600px…"
      ]
     },
     "metadata": {},
     "output_type": "display_data"
    },
    {
     "data": {
      "application/vnd.jupyter.widget-view+json": {
       "model_id": "05a721a0a43b48f084fe2a3080bf924e",
       "version_major": 2,
       "version_minor": 0
      },
      "text/plain": [
       "SelectMultiple(description='Features:', index=(0, 1, 2, 3, 4, 5, 6, 7, 8), layout=Layout(height='180px', width…"
      ]
     },
     "metadata": {},
     "output_type": "display_data"
    },
    {
     "data": {
      "application/vnd.jupyter.widget-view+json": {
       "model_id": "85e3b5644bd54d358b50a25c0badad83",
       "version_major": 2,
       "version_minor": 0
      },
      "text/plain": [
       "IntSlider(value=80, continuous_update=False, description='Train %:', layout=Layout(width='600px'), max=95, min…"
      ]
     },
     "metadata": {},
     "output_type": "display_data"
    },
    {
     "data": {
      "application/vnd.jupyter.widget-view+json": {
       "model_id": "262db482bab345d6a264121350f35140",
       "version_major": 2,
       "version_minor": 0
      },
      "text/plain": [
       "IntSlider(value=100, continuous_update=False, description='Number of Estimators:', layout=Layout(width='600px'…"
      ]
     },
     "metadata": {},
     "output_type": "display_data"
    },
    {
     "data": {
      "application/vnd.jupyter.widget-view+json": {
       "model_id": "66dc82c2d6284022a42702b5f17db3ad",
       "version_major": 2,
       "version_minor": 0
      },
      "text/plain": [
       "IntSlider(value=10, continuous_update=False, description='Maximum Depth:', layout=Layout(width='600px'), max=5…"
      ]
     },
     "metadata": {},
     "output_type": "display_data"
    },
    {
     "data": {
      "application/vnd.jupyter.widget-view+json": {
       "model_id": "a49f7f109602469d8ece53814fb9ae09",
       "version_major": 2,
       "version_minor": 0
      },
      "text/plain": [
       "IntSlider(value=2, continuous_update=False, description='Minimum Split Samples:', layout=Layout(width='600px')…"
      ]
     },
     "metadata": {},
     "output_type": "display_data"
    },
    {
     "data": {
      "application/vnd.jupyter.widget-view+json": {
       "model_id": "c8ca02ec07f74a65b05729c98937d2fd",
       "version_major": 2,
       "version_minor": 0
      },
      "text/plain": [
       "Button(description='Apply Changes', layout=Layout(width='800px'), style=ButtonStyle())"
      ]
     },
     "metadata": {},
     "output_type": "display_data"
    },
    {
     "data": {
      "application/vnd.jupyter.widget-view+json": {
       "model_id": "29ff9fd5113a480bb71fa31f56f70194",
       "version_major": 2,
       "version_minor": 0
      },
      "text/plain": [
       "Output()"
      ]
     },
     "metadata": {},
     "output_type": "display_data"
    }
   ],
   "source": [
    "\n",
    "\n",
    "# Define widgets with adjusted layout\n",
    "index_range_slider = widgets.IntRangeSlider(\n",
    "    value=[0, min(500, len(data))],\n",
    "    min=0,\n",
    "    max=len(data),\n",
    "    step=1,\n",
    "    description='Index Range:',\n",
    "    layout=widgets.Layout(width='600px'),  # Increase width for better readability\n",
    "    style={'description_width': '150px'},  # Increase description width\n",
    "    continuous_update=False\n",
    ")\n",
    "\n",
    "feature_select = widgets.SelectMultiple(\n",
    "    options=['Lag1', 'Lag2', 'Lag3', 'Time', 'Position Feedback', 'Velocity Feedback from Axis 1', 'Velocity Feedback from Axis 2', 'Temperature', 'Current Feedback'],\n",
    "    value=['Lag1', 'Lag2', 'Lag3', 'Time', 'Position Feedback', 'Velocity Feedback from Axis 1', 'Velocity Feedback from Axis 2', 'Temperature', 'Current Feedback'],\n",
    "    description='Features:',\n",
    "    layout=widgets.Layout(width='600px', height='180px'),  # Increase width and height\n",
    "    style={'description_width': '150px'},  # Increase description width\n",
    "    disabled=False\n",
    ")\n",
    "\n",
    "train_size_slider = widgets.IntSlider(\n",
    "    value=80,\n",
    "    min=50,\n",
    "    max=95,\n",
    "    step=1,\n",
    "    description='Train %:',\n",
    "    layout=widgets.Layout(width='600px'),  # Increase width\n",
    "    style={'description_width': '150px'},  # Increase description width\n",
    "    continuous_update=False\n",
    ")\n",
    "\n",
    "# Random Forest parameter sliders\n",
    "n_estimators_slider = widgets.IntSlider(\n",
    "    value=100,\n",
    "    min=10,\n",
    "    max=500,\n",
    "    step=10,\n",
    "    description='Number of Estimators:',\n",
    "    layout=widgets.Layout(width='600px'),\n",
    "    style={'description_width': '200px'},\n",
    "    continuous_update=False\n",
    ")\n",
    "\n",
    "max_depth_slider = widgets.IntSlider(\n",
    "    value=10,\n",
    "    min=1,\n",
    "    max=50,\n",
    "    step=1,\n",
    "    description='Maximum Depth:',\n",
    "    layout=widgets.Layout(width='600px'),\n",
    "    style={'description_width': '200px'},\n",
    "    continuous_update=False\n",
    ")\n",
    "\n",
    "min_samples_split_slider = widgets.IntSlider(\n",
    "    value=2,\n",
    "    min=2,\n",
    "    max=20,\n",
    "    step=1,\n",
    "    description='Minimum Split Samples:',\n",
    "    layout=widgets.Layout(width='600px'),\n",
    "    style={'description_width': '200px'},\n",
    "    continuous_update=False\n",
    ")\n",
    "\n",
    "apply_button = widgets.Button(description=\"Apply Changes\", layout=widgets.Layout(width='800px'))\n",
    "\n",
    "# Define the function to apply changes and update the plots\n",
    "def apply_changes(b):\n",
    "    with output:\n",
    "        clear_output(wait=True)\n",
    "        \n",
    "        # Extract the parameters from widgets\n",
    "        index_range = index_range_slider.value\n",
    "        selected_features = list(feature_select.value)\n",
    "        train_size_pct = train_size_slider.value / 100\n",
    "        n_estimators = n_estimators_slider.value\n",
    "        max_depth = max_depth_slider.value\n",
    "        min_samples_split = min_samples_split_slider.value\n",
    "        \n",
    "        # Slice the data\n",
    "        df = data[index_range[0]:index_range[1]]\n",
    "        \n",
    "        # Prepare the data (assuming 'Interpolated Bead Area' is already in `df`)\n",
    "        X = df[selected_features]\n",
    "        y = df['Interpolated Bead Area']\n",
    "        \n",
    "        # Train-test split\n",
    "        train_size = int(len(df) * train_size_pct)\n",
    "        X_train, X_test = X[:train_size], X[train_size:]\n",
    "        y_train, y_test = y[:train_size], y[train_size:]\n",
    "        \n",
    "        # Train the model\n",
    "        model = RandomForestRegressor(\n",
    "            n_estimators=n_estimators,\n",
    "            max_depth=max_depth,\n",
    "            min_samples_split=min_samples_split,\n",
    "            random_state=42\n",
    "        )\n",
    "        model.fit(X_train, y_train)\n",
    "        \n",
    "        # Predict on test data\n",
    "        y_pred = model.predict(X_test)\n",
    "        mse = mean_squared_error(y_test, y_pred)\n",
    "        display(HTML(f'<b>Mean Squared Error: {mse:.5f}</b>'))  # Display MSE in bold\n",
    "        \n",
    "        # Plot predicted vs actual\n",
    "        plt.figure(figsize=(10, 6))\n",
    "        plt.plot(y_train.index, y_train, label='Training', color='green')\n",
    "        plt.plot(y_test.index, y_test, label='Actual', color='blue')\n",
    "        plt.plot(y_test.index, y_pred, label='Predicted', color='red', linestyle='--')\n",
    "        plt.xlabel('Time')\n",
    "        plt.ylabel('Interpolated Bead Area')\n",
    "        plt.title('Actual vs Predicted Interpolated Bead Area')\n",
    "        plt.legend()\n",
    "        plt.show()\n",
    "        \n",
    "        # Calculate loss for each point\n",
    "        pointwise_mse_loss = (y_test - y_pred) ** 2\n",
    "        \n",
    "        # Plot the pointwise loss\n",
    "        plt.figure(figsize=(10, 6))\n",
    "        plt.plot(y_test.index, y_test, label='Actual', color='blue')\n",
    "        plt.plot(y_test.index, y_pred, label='Predicted', color='red', linestyle='--')\n",
    "        plt.plot(y_test.index, pointwise_mse_loss, label='Pointwise MSE Loss', color='orange')\n",
    "        plt.xlabel('Time')\n",
    "        plt.ylabel('MSE Loss')\n",
    "        plt.title('Pointwise MSE Loss of Predicted vs Actual Interpolated Bead Area')\n",
    "        plt.legend()\n",
    "        plt.show()\n",
    "\n",
    "# Link the apply button to the function\n",
    "apply_button.on_click(apply_changes)\n",
    "\n",
    "# Display the widgets and the output area\n",
    "output = widgets.Output()\n",
    "\n",
    "display(index_range_slider, feature_select, train_size_slider, n_estimators_slider, max_depth_slider, min_samples_split_slider, apply_button, output)\n"
   ]
  },
  {
   "cell_type": "code",
   "execution_count": null,
   "id": "4dfb3763-4ec1-4f49-b657-c3c164a7c663",
   "metadata": {},
   "outputs": [],
   "source": []
  }
 ],
 "metadata": {
  "kernelspec": {
   "display_name": "Python 3 (ipykernel)",
   "language": "python",
   "name": "python3"
  },
  "language_info": {
   "codemirror_mode": {
    "name": "ipython",
    "version": 3
   },
   "file_extension": ".py",
   "mimetype": "text/x-python",
   "name": "python",
   "nbconvert_exporter": "python",
   "pygments_lexer": "ipython3",
   "version": "3.12.4"
  }
 },
 "nbformat": 4,
 "nbformat_minor": 5
}
