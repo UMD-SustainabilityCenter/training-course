{
 "cells": [
  {
   "cell_type": "markdown",
   "metadata": {},
   "source": [
    "# Model Predictive Control\n",
    "The general idea of figuring out what moves to make using optimisation at each time step has become very popular due to the fact that a general version can be programmed and made very user friendly so that the intricacies of multivariable control can be handled by a single program.\n",
    "\n",
    "In this notebook I will show how a single time step's move trajectory is calculated. We'll use the same system as we used for the [Dahlin controller](../6_Discrete_control_and_analysis/Dahlin%20controller.ipynb)"
   ]
  },
  {
   "cell_type": "markdown",
   "metadata": {},
   "source": [
    "We start with a linear model of the system\n",
    "\n",
    "$$G=\\frac{1}{15s^2 + 8s + 1}$$"
   ]
  },
  {
   "cell_type": "markdown",
   "metadata": {},
   "source": [
    "#### Press ▶️ to plot the step response of a defined linear system."
   ]
  },
  {
   "cell_type": "code",
   "execution_count": 1,
   "metadata": {
    "has_explanation": false,
    "jupyter": {
     "source_hidden": true
    }
   },
   "outputs": [
    {
     "ename": "ModuleNotFoundError",
     "evalue": "No module named 'numpy'",
     "output_type": "error",
     "traceback": [
      "\u001b[1;31m---------------------------------------------------------------------------\u001b[0m",
      "\u001b[1;31mModuleNotFoundError\u001b[0m                       Traceback (most recent call last)",
      "Cell \u001b[1;32mIn[1], line 1\u001b[0m\n\u001b[1;32m----> 1\u001b[0m \u001b[38;5;28;01mimport\u001b[39;00m \u001b[38;5;21;01mnumpy\u001b[39;00m\n\u001b[0;32m      2\u001b[0m \u001b[38;5;28;01mimport\u001b[39;00m \u001b[38;5;21;01mscipy\u001b[39;00m\u001b[38;5;21;01m.\u001b[39;00m\u001b[38;5;21;01msignal\u001b[39;00m\n\u001b[0;32m      3\u001b[0m \u001b[38;5;28;01mimport\u001b[39;00m \u001b[38;5;21;01mscipy\u001b[39;00m\u001b[38;5;21;01m.\u001b[39;00m\u001b[38;5;21;01moptimize\u001b[39;00m\n",
      "\u001b[1;31mModuleNotFoundError\u001b[0m: No module named 'numpy'"
     ]
    }
   ],
   "source": [
    "import numpy\n",
    "import scipy.signal\n",
    "import scipy.optimize\n",
    "import matplotlib.pyplot as plt\n",
    "%matplotlib inline\n",
    "\n",
    "G = scipy.signal.lti([1], [15, 8, 1])\n",
    "plt.plot(*G.step())\n",
    "\n",
    "print('Operation Complete')"
   ]
  },
  {
   "cell_type": "markdown",
   "metadata": {},
   "source": [
    "Our goal is to find out what manipulations must be made (changes to $u$) in order to get the system to follow a specific desired trajectory (which we will call $r$ for the reference trajectory). We will allow the controller to make a certain number of moves. This is called the control horizon, $M$. We will the observe the effect of this set of moves (called a \"move plan\") for time called the prediction horizon ($P$)."
   ]
  },
  {
   "cell_type": "markdown",
   "metadata": {},
   "source": [
    "### Controller parameters\n",
    "#### Press ▶️ to define control and prediction horizons, set the sampling rate, and generate time points for continuous and discrete representations over the prediction horizon."
   ]
  },
  {
   "cell_type": "code",
   "execution_count": null,
   "metadata": {
    "has_explanation": false,
    "jupyter": {
     "source_hidden": true
    }
   },
   "outputs": [],
   "source": [
    "M = 10  # Control horizon\n",
    "P = 20  # Prediction horizon\n",
    "DeltaT = 1  # Sampling rate\n",
    "\n",
    "tcontinuous = numpy.linspace(0, P*DeltaT, 1000)  # some closely spaced time points\n",
    "tpredict = numpy.arange(0, P*DeltaT, DeltaT)   # discrete points at prediction horizon\n",
    "print('Operation Complete')"
   ]
  },
  {
   "cell_type": "markdown",
   "metadata": {},
   "source": [
    "### We choose a first order setpoint response similar to DS or Dahlin\n",
    "#### Press ▶️ to calculate the response curve based on a time constant and the exponential decay formula."
   ]
  },
  {
   "cell_type": "code",
   "execution_count": null,
   "metadata": {
    "has_explanation": false,
    "jupyter": {
     "source_hidden": true
    }
   },
   "outputs": [],
   "source": [
    "tau_c = 1\n",
    "r = 1 - numpy.exp(-tpredict/tau_c)\n",
    "print('Operation Complete')"
   ]
  },
  {
   "cell_type": "markdown",
   "metadata": {},
   "source": [
    "### For an initial guess we choose a step in $u$.\n",
    "#### Press ▶️ to create an array of control inputs initialized to one for the specified control horizon."
   ]
  },
  {
   "cell_type": "code",
   "execution_count": null,
   "metadata": {
    "has_explanation": false,
    "jupyter": {
     "source_hidden": true
    }
   },
   "outputs": [],
   "source": [
    "u = numpy.ones(M)\n",
    "x0 = numpy.zeros(G.to_ss().A.shape[0])\n",
    "print('Operation Complete')"
   ]
  },
  {
   "cell_type": "markdown",
   "metadata": {},
   "source": [
    "#### Press ▶️ to extend the control input array, simulate the system response, and plot the predicted output over the prediction horizon."
   ]
  },
  {
   "cell_type": "code",
   "execution_count": null,
   "metadata": {
    "has_explanation": false,
    "jupyter": {
     "source_hidden": true
    }
   },
   "outputs": [],
   "source": [
    "def extend(u):\n",
    "    \"\"\"We optimise the first M values of u but we need P values for prediction\"\"\"\n",
    "    return numpy.concatenate([u, numpy.repeat(u[-1], P-M)])\n",
    "\n",
    "def prediction(u, t=tpredict, x0=x0):\n",
    "    \"\"\"Predict the effect of an input signal\"\"\"\n",
    "    t, y, x = scipy.signal.lsim(G, u, t, X0=x0, interp=False)\n",
    "    return y\n",
    "\n",
    "plt.plot(tpredict, prediction(extend(u)))\n",
    "print('Operation Complete')"
   ]
  },
  {
   "cell_type": "markdown",
   "metadata": {},
   "source": [
    "#### Press ▶️ to define a function that computes the objective value by evaluating the squared error between the predicted and desired responses."
   ]
  },
  {
   "cell_type": "code",
   "execution_count": null,
   "metadata": {
    "has_explanation": false,
    "jupyter": {
     "source_hidden": true
    }
   },
   "outputs": [],
   "source": [
    "def objective(u, x0=x0):\n",
    "    \"\"\"Calculate the sum of the square error for the cotnrol problem\"\"\"\n",
    "    y = prediction(extend(u))\n",
    "    return sum((r - y)**2)\n",
    "print('Operation Complete')"
   ]
  },
  {
   "cell_type": "markdown",
   "metadata": {},
   "source": [
    "#### Press ▶️ to obtain the value of the objective for our step input:"
   ]
  },
  {
   "cell_type": "code",
   "execution_count": null,
   "metadata": {
    "has_explanation": false,
    "jupyter": {
     "source_hidden": true
    }
   },
   "outputs": [],
   "source": [
    "objective(u)"
   ]
  },
  {
   "cell_type": "markdown",
   "metadata": {},
   "source": [
    "#### Press ▶️ to get a set of moves which will minimise our objective function"
   ]
  },
  {
   "cell_type": "code",
   "execution_count": null,
   "metadata": {
    "has_explanation": false,
    "jupyter": {
     "source_hidden": true
    }
   },
   "outputs": [],
   "source": [
    "result = scipy.optimize.minimize(objective, u)\n",
    "uopt = result.x\n",
    "result.fun"
   ]
  },
  {
   "cell_type": "markdown",
   "metadata": {},
   "source": [
    "#### Press ▶️ to resample the discrete output to continuous time, effectively working out the zero-order hold value."
   ]
  },
  {
   "cell_type": "code",
   "execution_count": null,
   "metadata": {
    "has_explanation": false,
    "jupyter": {
     "source_hidden": true
    }
   },
   "outputs": [],
   "source": [
    "ucont = extend(uopt)[((tcontinuous-0.01)//DeltaT).astype(int)]\n",
    "print('Operation Complete')"
   ]
  },
  {
   "cell_type": "markdown",
   "metadata": {},
   "source": [
    "#### Press ▶️ to plot the move plan and the output, verifying that the output aligns with the desired values at the sampling times, effectively recovering the Dahlin controller."
   ]
  },
  {
   "cell_type": "code",
   "execution_count": null,
   "metadata": {
    "has_explanation": false,
    "jupyter": {
     "source_hidden": true
    }
   },
   "outputs": [],
   "source": [
    "def plotoutput(ucont, uopt):\n",
    "    plt.figure()\n",
    "    plt.plot(tcontinuous, ucont)\n",
    "    plt.xlim([0, DeltaT*(P+1)])\n",
    "    plt.figure()\n",
    "    plt.plot(tcontinuous, prediction(ucont, tcontinuous), label='Continuous response')\n",
    "    plt.plot(tpredict, prediction(extend(uopt)), '-o', label='Optimized response')\n",
    "    plt.plot(tpredict, r, label='Set point')\n",
    "    plt.legend()\n",
    "\n",
    "plotoutput(ucont, uopt)\n",
    "print('Operation Complete')"
   ]
  },
  {
   "cell_type": "markdown",
   "metadata": {},
   "source": [
    "One of the reasons for the popularity of MPC is how easy it is to change its behaviour using weights in the objective function. Try using this definition instead of the simple one above and see if you can remove the ringing in the controller output.\n",
    "\n",
    "#### Press ▶️ to modify the behavior of the MPC by adjusting weights in the objective function, aiming to eliminate ringing in the controller output."
   ]
  },
  {
   "cell_type": "code",
   "execution_count": null,
   "metadata": {
    "has_explanation": false,
    "jupyter": {
     "source_hidden": true
    }
   },
   "outputs": [],
   "source": [
    "def objective(u, x0=x0):\n",
    "    y = prediction(extend(u))\n",
    "    umag = numpy.abs(u)\n",
    "    constraintpenalty = sum(umag[umag > 2])\n",
    "    movepenalty = sum(numpy.abs(numpy.diff(u)))\n",
    "    strongfinish = numpy.abs(y[-1] - r[-1])\n",
    "    return sum((r - y)**2) + 0*constraintpenalty + 0.1*movepenalty + 0*strongfinish\n",
    "\n",
    "objective(u, x0=x0)"
   ]
  }
 ],
 "metadata": {
  "anaconda-cloud": {},
  "kernelspec": {
   "display_name": "Python 3 (ipykernel)",
   "language": "python",
   "name": "python3"
  },
  "language_info": {
   "codemirror_mode": {
    "name": "ipython",
    "version": 3
   },
   "file_extension": ".py",
   "mimetype": "text/x-python",
   "name": "python",
   "nbconvert_exporter": "python",
   "pygments_lexer": "ipython3",
   "version": "3.12.4"
  }
 },
 "nbformat": 4,
 "nbformat_minor": 4
}
