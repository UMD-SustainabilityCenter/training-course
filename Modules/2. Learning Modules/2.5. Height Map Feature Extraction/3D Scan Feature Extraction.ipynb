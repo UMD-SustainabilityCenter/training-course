{
 "cells": [
  {
   "cell_type": "markdown",
   "id": "d4faba2c-a0be-4bed-b0da-fc48aa0735e2",
   "metadata": {
    "tags": []
   },
   "source": [
    "### Scanning 3D Materials and Creating Thresholds"
   ]
  },
  {
   "cell_type": "markdown",
   "id": "c8028382",
   "metadata": {},
   "source": [
    "#### What is a 3D Scan?\n",
    "A 3D scan is a digital representation of the three-dimensional shape of an object. This technology captures the exact size and shape of physical objects using a device that records comprehensive data on its shape, color, and sometimes texture. The resulting scan forms a point cloud, or a collection of data points in three-dimensional space, which can be used to create a 3D model. These scans are utilized across various industries, including manufacturing, entertainment, healthcare, and archaeology, to create models for analysis, reproduction, or digital rendering.\n",
    "\n",
    "<center>\n",
    "    <img src=\"img/01.jpg\" alt=\"Alt Text\" width=\"400\"/>\n",
    "</center>\n",
    "\n",
    "#### Objective\n",
    "The described training module is focused on several key skills necessary for working effectively with 3D scans:\n",
    "\n",
    "#### - Cleaning Noise from 3D Scans:\n",
    "In this context, noise in a 3D scan refers to any data that does not pertain to the geometry of interest, similar to cropping out unwanted areas in a photograph. This might include removing extraneous elements like the base plate on which a 3D printed part sits, or any supports used to keep the part upright during scanning. The goal is to isolate and enhance the scan data of the specific object of interest, ensuring cleaner and more accurate geometric analysis.\n",
    "\n",
    "#### - Calibrating the Scan:\n",
    "We utilize mathematical techniques to refine the scanner’s accuracy. This involves applying linear regression to a set of calibration data points to determine the best-fit line. From this, you calculate the slope, which helps in adjusting and setting the scanner’s parameters effectively.\n",
    "\n",
    "#### - Fitting Geometric Shapes and Obtaining Useful Parameters:\n",
    "In many applications, especially in industrial and engineering settings, fitting geometric shapes to 3D data helps in analyzing the object’s characteristics or in designing parts that need to interact with the scanned object. This part of the module teaches how to apply mathematical models to fit shapes such as rectangles, ellipses, and circles to the scan data. "
   ]
  },
  {
   "cell_type": "markdown",
   "id": "bbe97524",
   "metadata": {},
   "source": [
    "#### Press ▶️ to Select 3D Data to Load"
   ]
  },
  {
   "cell_type": "code",
   "execution_count": null,
   "id": "95112adf-1a7f-4cea-b7dc-04010127b1d3",
   "metadata": {
    "has_explanation": false,
    "jupyter": {
     "source_hidden": true
    },
    "tags": []
   },
   "outputs": [],
   "source": [
    "import pandas as pd\n",
    "import numpy as np\n",
    "import os\n",
    "from scipy.stats import linregress\n",
    "import matplotlib.pyplot as plt\n",
    "import seaborn as sns\n",
    "from ipywidgets import Dropdown, interact\n",
    "from IPython.display import clear_output\n",
    "from functions import*  # Assuming this imports necessary custom functions\n",
    "\n",
    "# Function to get a list of CSV files in the 'data' folder\n",
    "def get_csv_files():\n",
    "    data_dir = './data'  # Directory where CSV files are located\n",
    "    return [os.path.join(data_dir, f) for f in os.listdir(data_dir) if f.endswith('.csv')]\n",
    "\n",
    "# Function to load the selected CSV file into a global variable\n",
    "def load_selected_csv(file):\n",
    "    global data\n",
    "    clear_output(wait=True)\n",
    "    print(f\"Loading {file}...\")\n",
    "    data = load_data(file)  # Assuming load_data is a custom function to load CSV into data\n",
    "    plot(data)  # Assuming plot is a custom function to plot data\n",
    "\n",
    "# Dropdown widget to select a CSV file\n",
    "csv_files = get_csv_files()\n",
    "file_selector = Dropdown(options=csv_files, description=\"Select file:\")\n",
    "\n",
    "# Interactive widget to update the global variable based on selected file\n",
    "interact(load_selected_csv, file=file_selector);\n"
   ]
  },
  {
   "cell_type": "markdown",
   "id": "0a85579f-55f4-4ce7-8d94-3947b8061daf",
   "metadata": {},
   "source": [
    "### Plot Calibration Instructions\n",
    "\n",
    "- Select Bed Region: Use the sliders to accurately define the region that represents the bed in the scan or plot. This area should be flat and stable.\n",
    "\n",
    "\n",
    "\n",
    "- Fit Linear Regression: Once the bed region is selected, a linear regression line is fitted to this data. This line helps determine the slope of the bed.\n",
    "\n",
    "- Apply Slope Calibration: The slope obtained from the linear regression of the bed region is then applied to the entire scan or plot. This calibration ensures that any inclinations or biases in the entire data set are corrected based on the flat bed data.\n"
   ]
  },
  {
   "cell_type": "markdown",
   "id": "9f1db4ea-c838-4a48-842d-78375afab95d",
   "metadata": {},
   "source": [
    "<center>\n",
    "    <img src=\"img/02.jpg\" alt=\"Alt Text\" width=\"800\"/>\n",
    "</center>"
   ]
  },
  {
   "cell_type": "markdown",
   "id": "d08c8a4c-dc26-45f6-8432-49a5ab44699a",
   "metadata": {},
   "source": [
    "#### Press ▶️ to Select Bed Region for Calibration <font color = 'green'>(Scan Bed)"
   ]
  },
  {
   "cell_type": "code",
   "execution_count": null,
   "id": "9a3fbe49-5a99-4f9a-9cd3-10ba38a5e9c8",
   "metadata": {
    "has_explanation": false,
    "jupyter": {
     "source_hidden": true
    },
    "tags": []
   },
   "outputs": [],
   "source": [
    "import numpy as np\n",
    "import matplotlib.pyplot as plt\n",
    "import seaborn as sns\n",
    "from ipywidgets import FloatSlider, interactive\n",
    "from IPython.display import display\n",
    "\n",
    "# Assuming 'data' is your original 2D numpy array\n",
    "data_temp = np.copy(data)  # Use the original data directly with NaNs preserved\n",
    "\n",
    "# Flatten the data to prepare for the scatter plot\n",
    "points = data_temp.flatten()\n",
    "\n",
    "# Initialize global variables\n",
    "global upper_bound_plate, lower_bound_plate\n",
    "upper_bound_plate = np.nanmax(points)\n",
    "lower_bound_plate = np.nanmin(points)\n",
    "\n",
    "def update_plots(y1, y2):\n",
    "    global upper_bound_plate, lower_bound_plate\n",
    "    # Update global variables with the slider values\n",
    "    upper_bound_plate = y2\n",
    "    lower_bound_plate = y1\n",
    "    \n",
    "    # Create a mask for values outside the slider range, respecting NaNs\n",
    "    mask = (data_temp < y1) | (data_temp > y2)\n",
    "    filtered_data = np.copy(data_temp)\n",
    "    filtered_data[mask] = np.nan  # Set values outside the range to NaN\n",
    "    \n",
    "    # Plotting using subplots\n",
    "    fig, (ax1, ax2) = plt.subplots(1, 2, figsize=(12, 6))\n",
    "    \n",
    "    # Scatter plot on the first subplot\n",
    "    valid_points = ~np.isnan(points)  # Mask to remove NaNs for the scatter plot\n",
    "    ax1.scatter(np.arange(len(points))[valid_points], points[valid_points], marker='o', linestyle='-', s=0.01)\n",
    "    ax1.set_title('Flattened Array Values')\n",
    "    ax1.set_xlabel('Index')\n",
    "    ax1.set_ylabel('Height Value')\n",
    "    ax1.grid(True)\n",
    "    ax1.axhline(y=lower_bound_plate, color='r', linestyle='--')\n",
    "    ax1.axhline(y=upper_bound_plate, color='g', linestyle='--')\n",
    "    \n",
    "    # Heatmap on the second subplot\n",
    "    sns.heatmap(filtered_data, cmap='viridis', cbar=False, ax=ax2)\n",
    "    ax2.set_aspect(aspect= 'equal')\n",
    "    ax2.set_title('Filtered Data Heatmap')\n",
    "    ax2.set_xticks([])\n",
    "    ax2.set_yticks([])\n",
    "    \n",
    "    plt.tight_layout()\n",
    "    plt.show()\n",
    "\n",
    "# Set up sliders for the interactive lines\n",
    "y1_slider = FloatSlider(min=np.nanmin(points), max=np.nanmax(points), step=0.01, value=np.nanmin(points), description='Minimum')\n",
    "y2_slider = FloatSlider(min=np.nanmin(points), max=np.nanmax(points), step=0.01, value=np.nanmax(points), description='Maximum')\n",
    "\n",
    "interactive_plot = interactive(update_plots, y1=y1_slider, y2=y2_slider)\n",
    "output = interactive_plot.children[-1]\n",
    "display(interactive_plot)\n"
   ]
  },
  {
   "cell_type": "markdown",
   "id": "ce6dc59d-8cab-4d1b-9d31-469dafa0ea4c",
   "metadata": {},
   "source": [
    "#### Press ▶️ to Start Calibration"
   ]
  },
  {
   "cell_type": "code",
   "execution_count": null,
   "id": "c131ba42-6aef-4bbf-a4bd-5a346107ed59",
   "metadata": {
    "has_explanation": false,
    "jupyter": {
     "source_hidden": true
    },
    "tags": []
   },
   "outputs": [],
   "source": [
    "import ipywidgets as widgets\n",
    "from IPython.display import display\n",
    "\n",
    "button = widgets.Button(description=\"Calibrate Scan\")\n",
    "output = widgets.Output()\n",
    "\n",
    "def on_button_clicked(b):\n",
    "    global data  # Make sure to modify the global 'data' variable\n",
    "    with output:\n",
    "        data = correct_tilt(data, lower_bound_plate, upper_bound_plate)\n",
    "        print(\"Data has been updated.\")\n",
    "\n",
    "button.on_click(on_button_clicked)\n",
    "display(button, output)"
   ]
  },
  {
   "cell_type": "markdown",
   "id": "c83347e7-5cb2-4586-b0d1-c473c5b7b3b5",
   "metadata": {},
   "source": [
    "### Feature Extraction Instructions\n",
    "- **Define Area**: Carefully adjust the sliders to encompass the area of the plot that contains the part of interest."
   ]
  },
  {
   "cell_type": "markdown",
   "id": "1049bc9b-426a-4224-9cb7-d366bf2ffa42",
   "metadata": {},
   "source": [
    "#### Press ▶️ to select region of interest for feature extraction: <font color = 'red'>(Part)"
   ]
  },
  {
   "cell_type": "code",
   "execution_count": null,
   "id": "493b28aa-eced-4f56-a9e0-7939fd4e80cf",
   "metadata": {
    "has_explanation": false,
    "jupyter": {
     "source_hidden": true
    },
    "tags": []
   },
   "outputs": [],
   "source": [
    "import numpy as np\n",
    "import matplotlib.pyplot as plt\n",
    "import seaborn as sns\n",
    "from ipywidgets import FloatSlider, interactive\n",
    "from IPython.display import display\n",
    "\n",
    "# Assuming 'data' is your original 2D numpy array\n",
    "data_temp = np.copy(data)  # Use the original data directly with NaNs preserved\n",
    "\n",
    "# Flatten the data to prepare for the scatter plot\n",
    "points = data_temp.flatten()\n",
    "\n",
    "# Initialize global variables\n",
    "global upper_bound, lower_bound\n",
    "upper_bound = np.nanmax(points)\n",
    "lower_bound = np.nanmin(points)\n",
    "\n",
    "def update_plots(y1, y2):\n",
    "    global upper_bound, lower_bound\n",
    "    # Update global variables with the slider values\n",
    "    upper_bound = y2\n",
    "    lower_bound = y1\n",
    "    \n",
    "    # Create a mask for values outside the slider range, respecting NaNs\n",
    "    mask = (data_temp < y1) | (data_temp > y2)\n",
    "    filtered_data = np.copy(data_temp)\n",
    "    filtered_data[mask] = np.nan  # Set values outside the range to NaN\n",
    "    \n",
    "    # Plotting using subplots\n",
    "    fig, (ax1, ax2) = plt.subplots(1, 2, figsize=(12, 6))\n",
    "    \n",
    "    # Scatter plot on the first subplot\n",
    "    valid_points = ~np.isnan(points)  # Mask to remove NaNs for the scatter plot\n",
    "    ax1.scatter(np.arange(len(points))[valid_points], points[valid_points], marker='o', linestyle='-', s=0.01)\n",
    "    ax1.set_title('Flattened Array Values')\n",
    "    ax1.set_xlabel('Index')\n",
    "    ax1.set_ylabel('Height Value')\n",
    "    ax1.grid(True)\n",
    "    ax1.axhline(y=lower_bound, color='r', linestyle='--')\n",
    "    ax1.axhline(y=upper_bound, color='g', linestyle='--')\n",
    "    \n",
    "    # Heatmap on the second subplot\n",
    "    sns.heatmap(filtered_data, cmap='viridis', cbar=False, ax=ax2)\n",
    "    ax2.set_aspect(aspect= 'equal')\n",
    "    ax2.set_title('Filtered Data Heatmap')\n",
    "    ax2.set_xticks([])\n",
    "    ax2.set_yticks([])\n",
    "    \n",
    "    plt.tight_layout()\n",
    "    plt.show()\n",
    "\n",
    "# Set up sliders for the interactive lines\n",
    "y1_slider = FloatSlider(min=np.nanmin(points), max=np.nanmax(points), step=0.01, value=np.nanmin(points), description='Minimum')\n",
    "y2_slider = FloatSlider(min=np.nanmin(points), max=np.nanmax(points), step=0.01, value=np.nanmax(points), description='Maximum')\n",
    "\n",
    "interactive_plot = interactive(update_plots, y1=y1_slider, y2=y2_slider)\n",
    "output = interactive_plot.children[-1]\n",
    "display(interactive_plot)\n"
   ]
  },
  {
   "cell_type": "markdown",
   "id": "e2383451-4ca0-4f6b-b8a1-a948b9049118",
   "metadata": {},
   "source": [
    "### Rationale for Image Conversion in Feature Extraction\n",
    "\n",
    "- **Conversion to Image**: The 3D scan data is transformed into an image format. This step is crucial for facilitating subsequent analysis.\n",
    "- **Utilizing Image Processing Tools**: The decision to convert the scan to an image is driven by the availability of advanced, efficient tools within the image processing community. These tools are well-developed and widely used for extracting and fitting shapes.\n"
   ]
  },
  {
   "cell_type": "markdown",
   "id": "f3bad81e-c958-441d-adfa-f3c6654fd7bb",
   "metadata": {},
   "source": [
    "#### Press ▶️ to select feature"
   ]
  },
  {
   "cell_type": "code",
   "execution_count": null,
   "id": "8ff317b2-b0cf-4213-9eee-873b5fcbf33b",
   "metadata": {
    "has_explanation": false,
    "jupyter": {
     "source_hidden": true
    },
    "tags": []
   },
   "outputs": [],
   "source": [
    "import numpy as np\n",
    "import cv2\n",
    "import matplotlib.pyplot as plt\n",
    "from matplotlib.patches import Polygon, Ellipse\n",
    "import ipywidgets as widgets\n",
    "from IPython.display import display\n",
    "\n",
    "# Define the scale factor (0.02 mm per pixel)\n",
    "scale_factor = 0.02\n",
    "\n",
    "# Define the function to execute upon shape and epsilon selection\n",
    "def fit_and_plot(shape, epsilon_factor):\n",
    "    binary_data = np.where((data >= lower_bound) & (data <= upper_bound), 1, 0)\n",
    "    contours, _ = cv2.findContours(binary_data.astype(np.uint8), cv2.RETR_EXTERNAL, cv2.CHAIN_APPROX_SIMPLE)\n",
    "\n",
    "    if contours:\n",
    "        largest_contour = max(contours, key=cv2.contourArea)\n",
    "        epsilon = epsilon_factor * cv2.arcLength(largest_contour, True)\n",
    "        approx = cv2.approxPolyDP(largest_contour, epsilon, True)\n",
    "\n",
    "        plt.figure(figsize=(6, 6))\n",
    "        plt.imshow(binary_data, cmap='gray', origin='lower', extent=[0, binary_data.shape[1] * scale_factor, 0, binary_data.shape[0] * scale_factor])\n",
    "        \n",
    "        if shape == 'Rectangle':\n",
    "            rect = cv2.minAreaRect(approx)\n",
    "            box = cv2.boxPoints(rect) * scale_factor\n",
    "            plt.gca().add_patch(Polygon(box, closed=True, color='red', fill=False, linewidth=2))\n",
    "            print(f\"Rectangle width: {rect[1][0] * scale_factor} mm, height: {rect[1][1] * scale_factor} mm\")\n",
    "        \n",
    "        elif shape == 'Triangle':\n",
    "            triangle = cv2.minEnclosingTriangle(approx)[1] * scale_factor\n",
    "            plt.gca().add_patch(Polygon(triangle[0], closed=True, color='blue', fill=False, linewidth=2))\n",
    "            print(\"Triangle vertices:\", triangle[0])\n",
    "        \n",
    "        elif shape == 'Square':\n",
    "            rect = cv2.minAreaRect(approx)\n",
    "            side = max(rect[1]) * scale_factor\n",
    "            center = np.array(rect[0]) * scale_factor\n",
    "            box = np.array([\n",
    "                [center[0] - side / 2, center[1] - side / 2],\n",
    "                [center[0] + side / 2, center[1] - side / 2],\n",
    "                [center[0] + side / 2, center[1] + side / 2],\n",
    "                [center[0] - side / 2, center[1] + side / 2],\n",
    "            ])\n",
    "            plt.gca().add_patch(Polygon(box, closed=True, color='green', fill=False, linewidth=2))\n",
    "            print(f\"Square side length: {side} mm\")\n",
    "        \n",
    "        elif shape == 'Circle':\n",
    "            center, radius = cv2.minEnclosingCircle(approx)\n",
    "            center_scaled = np.array(center) * scale_factor\n",
    "            radius_scaled = radius * scale_factor\n",
    "            circle_patch = plt.Circle(center_scaled, radius_scaled, color='orange', fill=False, linewidth=2)\n",
    "            plt.gca().add_patch(circle_patch)\n",
    "            print(f\"Circle radius: {radius_scaled} mm\")\n",
    "        \n",
    "        elif shape == 'Ellipse':\n",
    "            if len(approx) >= 5:  # Ensure there are at least 5 points to fit an ellipse\n",
    "                ellipse = cv2.fitEllipse(approx)\n",
    "                ellipse_center = np.array(ellipse[0]) * scale_factor\n",
    "                axes = np.array(ellipse[1]) * scale_factor\n",
    "                angle = ellipse[2]\n",
    "                plt.gca().add_patch(Ellipse(xy=ellipse_center, width=axes[0], height=axes[1], angle=angle, edgecolor='purple', fill=False, linewidth=2))\n",
    "                print(f\"Ellipse center: {ellipse_center} mm, axes: {axes} mm, angle: {angle}\")\n",
    "            else:\n",
    "                print(\"Not enough points to fit an ellipse.\")\n",
    "\n",
    "\n",
    "        plt.xlabel('X (mm)')\n",
    "        plt.ylabel('Y (mm)')\n",
    "        plt.show()\n",
    "    else:\n",
    "        print(\"No contours found in the binary image.\")\n",
    "\n",
    "# Widgets for shape and epsilon factor selection\n",
    "shape_selector = widgets.Dropdown(options=['Rectangle', 'Triangle', 'Square', 'Ellipse', 'Circle'], description='Shape:')\n",
    "epsilon_slider = widgets.FloatSlider(value=0.01, min=0.0, max=0.1, step=0.005, description='Epsilon Factor:', readout_format='.3f')\n",
    "\n",
    "# Link widgets to the function\n",
    "interactive_plot = widgets.interactive_output(fit_and_plot, {'shape': shape_selector, 'epsilon_factor': epsilon_slider})\n",
    "\n",
    "# Display the widgets and the plot\n",
    "display(widgets.VBox([shape_selector, epsilon_slider]), interactive_plot)\n"
   ]
  },
  {
   "cell_type": "markdown",
   "id": "cc17a3eb",
   "metadata": {},
   "source": [
    "## [🏠 Home](../../../welcomePage.ipynb)"
   ]
  }
 ],
 "metadata": {
  "kernelspec": {
   "display_name": "Python 3 (ipykernel)",
   "language": "python",
   "name": "python3"
  },
  "language_info": {
   "codemirror_mode": {
    "name": "ipython",
    "version": 3
   },
   "file_extension": ".py",
   "mimetype": "text/x-python",
   "name": "python",
   "nbconvert_exporter": "python",
   "pygments_lexer": "ipython3",
   "version": "3.10.9"
  }
 },
 "nbformat": 4,
 "nbformat_minor": 5
}
