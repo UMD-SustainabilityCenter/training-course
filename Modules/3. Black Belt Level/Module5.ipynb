{
 "cells": [
  {
   "cell_type": "markdown",
   "id": "aae1711e-6f82-4c78-b07a-6bd69d2c3520",
   "metadata": {},
   "source": [
    "## Table of Contents\n",
    "* [Module 5: Model Based Process Control](#Module-5:-Model-Based-Process-Control)\n",
    "    * [Concepts](#Concepts:)\n",
    "    * [User Stories](#User-Stories:)\n",
    "        * [Model Predictive Control](2.%20Learning%20Modules/2.6.%20Model%20Predictive%20Control/Model%20Predictive%20Control.ipynb)\n",
    "    * [Assessment](#Assessment:)\n",
    "        * [Take a quiz](http://example.com/quiz)\n",
    "#### [🏠 Home](../../welcomePage.ipynb)"
   ]
  },
  {
   "cell_type": "markdown",
   "id": "50148ca2-afd5-4403-a521-da61a20b097c",
   "metadata": {},
   "source": [
    "### Module 5: Model Based Process Control\n",
    "\n",
    "Model-based process control is a mathematical and visual technique to addressing the challenges associated with designing complex control. This technique involves two key aspects. (a) The control analysis, representing the modeling and simulation aspects of the system including tuning and configuration, and automatic code generation. Each block of the model contains mathematical equations that emulate the behavior of the physical system. (b) The system and software, representing continuous validation and verification through testing, and deployment of the system. In this regard, when model-based control is used efficiently, it offers a single design platform to enhance overall system design. Through virtual prototyping, system engineers can easily see whether the whole system is working as intended, even before the hardware is manufactured and available for testing.\n",
    "\n",
    "\n",
    "#### Concepts:\n",
    "<center>\n",
    "    <img src=\"../img/03.jpg\" alt=\"Alt text\" width=\"400\">\n",
    "</center>\n",
    "\n",
    "\n",
    "####  User Stories:\n",
    "- [Model Predictive Control](2.%20Learning%20Modules/2.6.%20Model%20Predictive%20Control/Model%20Predictive%20Control.ipynb) - This module demonstrates calculating a single time step's move trajectory using the same system as the Dahlin controller.\n",
    "\n",
    "#### Assessment:\n",
    "- [Take a quiz](http://example.com/quiz)"
   ]
  },
  {
   "cell_type": "markdown",
   "id": "732555fa-145a-4c33-b475-e40958dc0c1b",
   "metadata": {},
   "source": [
    "### <center>[◀︎ Module 4](Module4.ipynb)     [🏠 Home](../../welcomePage.ipynb)     [Module 6 ▶︎](Module6.ipynb)</center>\n"
   ]
  }
 ],
 "metadata": {
  "kernelspec": {
   "display_name": "Python 3 (ipykernel)",
   "language": "python",
   "name": "python3"
  },
  "language_info": {
   "codemirror_mode": {
    "name": "ipython",
    "version": 3
   },
   "file_extension": ".py",
   "mimetype": "text/x-python",
   "name": "python",
   "nbconvert_exporter": "python",
   "pygments_lexer": "ipython3",
   "version": "3.12.5"
  }
 },
 "nbformat": 4,
 "nbformat_minor": 5
}
