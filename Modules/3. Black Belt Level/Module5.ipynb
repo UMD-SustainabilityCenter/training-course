{
 "cells": [
  {
   "cell_type": "markdown",
   "id": "d58daa14",
   "metadata": {
    "tags": [
     "auto-generated-toc"
    ]
   },
   "source": [
    "## Table of Contents\n",
    "- [B5: Model Based Process Control](#B5%3A-Model-Based-Process-Control)\n",
    "  - [5.1 Concepts](#5.1-Concepts)\n",
    "  - [5.2 User Stories](#5.2-User-Stories)\n",
    "- [🏠 Home](../../welcomePage.ipynb)"
   ]
  },
  {
   "cell_type": "markdown",
   "id": "859c60d1",
   "metadata": {},
   "source": [
    "# B5: Model Based Process Control\n",
    "\n",
    "Model-based process control is a mathematical and visual technique to addressing the challenges associated with designing complex control. This technique involves two key aspects. (a) The control analysis, representing the modeling and simulation aspects of the system including tuning and configuration, and automatic code generation. Each block of the model contains mathematical equations that emulate the behavior of the physical system. (b) The system and software, representing continuous validation and verification through testing, and deployment of the system. In this regard, when model-based control is used efficiently, it offers a single design platform to enhance overall system design. Through virtual prototyping, system engineers can easily see whether the whole system is working as intended, even before the hardware is manufactured and available for testing.\n",
    "\n",
    "\n",
    "## 5.1 Concepts\n",
    "<center>\n",
    "    <img src=\"../../img/03.jpg\" alt=\"Alt text\" width=\"400\">\n",
    "</center>\n",
    "\n",
    "\n",
    "## 5.2 User Stories\n",
    "- [Model Predictive Control](../../Modules/Examples/2.%20Learning%20Modules/2.6.%20Model%20Predictive%20Control/Model%20Predictive%20Control.ipynb) - This module demonstrates calculating a single time step's move trajectory using the same system as the Dahlin controller."
   ]
  },
  {
   "cell_type": "markdown",
   "id": "4b34e6d3-57c9-46e6-9cfb-56ee375235a1",
   "metadata": {},
   "source": [
    "## 5.3 Example: Machine Tool Power Drive System with Flexibility\n",
    "Heavy machine tools are used to mill a workpiece in computer numerically contolled (CNC) milling processes.\n",
    "Although they are intended to be rigid structures for accurate positioning of the cutter relative to the workpiece, some operating conditions such as high feedrate and long unsupported lengths, are prone to positioning error from torsion and vibration.\n",
    "Torsion causes a positioning error since the workpiece is not at the desired location specified by the motor shaft and gearbox, due to a difference in angular displacement along the lead screw from the gearbox to the moving table.\n",
    "Positioning error causes the cutter to cut in an undesirable location, giving an uncertain final profile of the cut.\n",
    "Vibrations during the cutting process are unwanted as they leave defects in the cut surface called \"chatter\".\n",
    "\n",
    "Let's examine torsion (twist) in a long lead screw and gearbox and implement model based process control in order to alleviate the variability in positioning due to torsion.\n",
    "The image below shows one axis of the machine tool in which a workpiece is machined by a cutter. The workpiece is fastened to the table.\n",
    "THe table slides on two guide rods. The table is driven by a lead screw.\n",
    "Note that we pronounce this \"leed\" as in leadership, not lead (Pb) the toxic metal element.\n",
    "One revolution of the lead screw moves the table by a length called the lead $l$ of the screw.\n",
    "This length depends on the helix angle of the screw and the radius of the screw.\n",
    "As a slender metal rod with a length around 1 meter or more, a lead screw is not perfectly stiff.\n",
    "The lead screw experiences torsional strain, elongating slightly in response to the reaction force of moving the table and pushing the workpiece against the cutter.\n",
    "In the diagram below, a gearbox and motor are also shown.\n",
    "The gearbox reduces the angular speed from the motor shaft speed to the lead screw angular speed, thereby increasing the torque from the motor shaft to the lead screw by the same factor.\n",
    "The compliance (the inverse of stiffness) of the system is due to the lead screw and the gearbox.\n",
    "\n",
    "<center>\n",
    "    <img src=\"../../img/Module5_MachineToolDriveSystem.jpg\" alt=\"Alt text\" width=\"400\">\n",
    "</center>\n",
    "\n",
    "Our goal is to design a controller, potentially using a potentiometer sensor at the lead screw-to-table interface, to drive the angular displacement at the lead-screw-to-table interface to be the desired displacement for this signal.\n",
    "In the diagram below, we seek to control $\\theta_l(t)$ (lead screw angular displacement) from our motor actuator which generates an electrical current, and thus a motor torque $\\tau_m(t)$. \n",
    "Our convention for subscripts will be $l$ for lead screw, $m$ for motor, and $1$ for the gear box.\n",
    "Note the small difference between $l$ and $1$.\n",
    "\n",
    "The diagram show a lumped parameter model of the system.\n",
    "The motor is a signal-controlled source of torque, $\\tau_m(t)$.\n",
    "The first inertia is $J_m$, which represents the shaft of the motor.\n",
    "The inertias of the two gears are neglected.\n",
    "The torque $T_1$ is a reaction torque that the motor shaft \"feels\" according to Newton's 3rd law of motion when the shaft pushes the gearbox with positive angular speed $\\omega_m$ of the motor shaft.\n",
    "Another term on this shaft, to the left of the motor, is the viscous damping $c_m\\omega_m$. This is a torque that always opposes the motion of the motor shaft. This represents bearing friction and potentially windage (air resistance) inside the motor.\n",
    "The units of a damping constant $c$ are such that $T = c \\omega$, so they are torque per angular speed units, newton-meter-seconds-per-radian.\n",
    "\n",
    "Now we examine the second shaft, which is the lead screw.\n",
    "We see a reaction torque $T_1 N$, wiht gearbox speed reduction ratio $N$.\n",
    "Commonly, $1<N<30$ for a single stage of spur gears in speed reduction applications, although other transmission devices such as harmonic drives can achieve a higher speed reduction ratio.\n",
    "The speed of the lead screw at the gear box is indicated as $\\frac{\\omega_m}{N}$.\n",
    "Notice that this is simply the motor shaft speed divided by the gearbox's speed reduction ratio $N$.\n",
    "Also notice that the gearbox causes a change in rotational direction for meshed gears. \n",
    "The motor shaft turns counterclockwise when viewed from the left, but the lead screw turns clockwise when viewed from the left.\n",
    "We see along the lead screw diagram the jagged line indicating a mechaincal spring.\n",
    "This is the lumped parameter model element of a torsional spring.\n",
    "The torsional spring has equation:\n",
    "$$T = k\\left(\\Delta \\theta\\right)$$\n",
    "meaning the torque acting at both ends of the spring (which must be equal and opposite in direction) is equal to a torsional spring constant $k$ times the relative angular displacement (the difference in angular discplacement) between the two ends of the spring.\n",
    "We will see the difference in angular displacement of the two ends once we see the difference in angular speed.\n",
    "The right end of the torsional spring indicates the point on the lead screw where the table contacts the screw.\n",
    "Technically, this is a machined block called the \"nut\" since it has threads cut in it like a hardware nut fastener.\n",
    "The angular speed here is labeled $\\omega_l$ to indicate the angular speed of the lead screw.\n",
    "In this way, the torsional spring can model both compliance of the gear as well as compliance from the gearbox to the nut along the lead screw.\n",
    "So we have angular speeds of: $\\frac{\\omega_m}{N}$ and $\\omega_l$.\n",
    "We can take the integrals of these speeds with some starting reference point to get angular discplacements: $\\frac{\\theta_m}{N}$ and $\\theta_l$.\n",
    "Now we see the torsional spring's torque transmitted through the spring, which is also shown as an expression with torque arrow in the diagram:\n",
    "$$T = k\\left(\\Delta \\theta\\right) = k\\left(\\frac{\\theta_m}{N} - \\theta_l\\right) $$\n",
    "There is are two more elements in our model: another inertia and another viscous friction element.\n",
    "The last inertia, $J_l$ indicates the inertia of the lead screw, table, and workpiece. Although the table and workpiece experience linear motion, it is possible to convert this to the equivalent for rotatoinal motion and model it wiht the lead screw's own inertia.\n",
    "The viscous friction element has resistive torque equal to $c_l \\omega_l$, always opposing the direction of $\\omega_l$.\n",
    "The viscous friction represents bearing friction of the table on its linear rail guides as well as friction at the nut to lead-screw interface.\n",
    "\n",
    "How do we model the cutting force?\n",
    "\n",
    "* One option is to increase the $c_l$ parameter, assuming that cutting force is linearly increasing with feedrate.\n",
    "* Another option is to add a term to the model specifying cutting force at the workpiece, which can be modeled as a load torque acting on the lead screw.\n",
    "* For now we will consider the case of zero cutting force.\n",
    "\n",
    "<center>\n",
    "    <img src=\"../../img/Module5_DriveSystemModel.jpg\" alt=\"Alt text\" width=\"400\">\n",
    "</center>\n",
    "\n",
    "We can write three  equations using Newton's 2nd law of motion.\n",
    "We are summing the torques on a shaft and equating this to the shaft's total moment of inertia multiplied by its angular acceleration $\\dot\\omega$.\n",
    "Notice that the shaft segment from the second gear of the gearbox to the torsional spring has zero moment of inertia assigned to it, so we use $J=0$ in our second equation below.\n",
    "\n",
    "$$ \\tau_m - c_m \\omega_m - T_1 = J_m \\dot\\omega_m$$\n",
    "$$ T_1/N - k\\left(\\frac{\\theta_m}{N} - \\theta_l\\right) = 0 $$\n",
    "$$ k\\left(\\frac{\\theta_m}{N} - \\theta_l\\right) -c_l \\omega_l = J_l \\dot\\omega_l$$"
   ]
  },
  {
   "cell_type": "markdown",
   "id": "2670e474-2eca-44e2-8971-ea868d05cf6b",
   "metadata": {},
   "source": [
    "The preceding system of three equations had four unknowns $\\tau_m$, $T_1$, $\\theta_m$, and $\\theta_l$.\n",
    "We eliminate $T_1$ and $\\theta_m$ to arrive at a transfer function:\n",
    "$$\\frac{\\Theta_l}{\\tau_m}(s) = \n",
    "\\frac{\n",
    "\\frac{k}{N} }\n",
    "{ \\left(J_l s^2 + c_l s + k \\right)\\left(J_m s^2 + c_m s + \\frac{k}{N^2} \\right) - \\frac{k^2}{N^2} }\n",
    "$$\n",
    "\n",
    "Your task will be to code this transfer function in SimPy in order to perform further analysis."
   ]
  },
  {
   "cell_type": "markdown",
   "id": "40add4f0-d180-49b9-a088-8e2002859c65",
   "metadata": {},
   "source": [
    "## Basics of using SimPy for symbolic math operations\n",
    "We need to import the SymPy module to get symbolic math capabilities."
   ]
  },
  {
   "cell_type": "code",
   "execution_count": 1,
   "id": "1d725872-c520-42db-9c08-0fb56d23798e",
   "metadata": {},
   "outputs": [],
   "source": [
    "import sympy"
   ]
  },
  {
   "cell_type": "markdown",
   "id": "e5a9eef6-eed1-4569-92fd-a4887b155e72",
   "metadata": {},
   "source": [
    "We need to start the pretty-printer to get nicely typeset math."
   ]
  },
  {
   "cell_type": "code",
   "execution_count": 2,
   "id": "2ed74af7-6000-458b-9742-ef2e7fc39860",
   "metadata": {},
   "outputs": [],
   "source": [
    "sympy.init_printing()"
   ]
  },
  {
   "cell_type": "markdown",
   "id": "5e86c254-39ce-4254-87cc-0ad5897a145f",
   "metadata": {},
   "source": [
    "In order to do symbolic calculations, we need to create a symbol."
   ]
  },
  {
   "cell_type": "code",
   "execution_count": 3,
   "id": "1c2e661b-bd09-44b9-b481-a14b3c4b74d4",
   "metadata": {},
   "outputs": [],
   "source": [
    "x = sympy.Symbol('x')"
   ]
  },
  {
   "cell_type": "markdown",
   "id": "ad7c462e-6b34-4ae1-afe1-2c3875da3183",
   "metadata": {},
   "source": [
    "Running the next line will print out the variable, and we can see that this is a SymPy symbol"
   ]
  },
  {
   "cell_type": "code",
   "execution_count": 4,
   "id": "e46af34d-edf0-45b6-8710-1adfc19c0036",
   "metadata": {},
   "outputs": [
    {
     "data": {
      "image/png": "[encoded data removed]",
      "text/latex": [
       "$\\displaystyle x$"
      ],
      "text/plain": [
       "x"
      ]
     },
     "execution_count": 4,
     "metadata": {},
     "output_type": "execute_result"
    }
   ],
   "source": [
    "x"
   ]
  },
  {
   "cell_type": "markdown",
   "id": "b06522ab-b133-45aa-92aa-d0b62962c052",
   "metadata": {},
   "source": [
    "SymPy allows us to do many mathematical operations that would be tedious by hand. For instance, we can expand a polynomial:"
   ]
  },
  {
   "cell_type": "code",
   "execution_count": 5,
   "id": "90857b24-7944-4c8b-84a2-afdfe0e1b6ad",
   "metadata": {},
   "outputs": [
    {
     "data": {
      "image/png": "[encoded data removed]",
      "text/latex": [
       "$\\displaystyle 81 x^{4} + 432 x^{3} + 864 x^{2} + 768 x + 256$"
      ],
      "text/plain": [
       "    4        3        2              \n",
       "81⋅x  + 432⋅x  + 864⋅x  + 768⋅x + 256"
      ]
     },
     "execution_count": 5,
     "metadata": {},
     "output_type": "execute_result"
    }
   ],
   "source": [
    "polynomial = (3*x + 4)**4\n",
    "polynomial.expand()"
   ]
  },
  {
   "cell_type": "markdown",
   "id": "9eca05d7-58a0-4c12-bdf4-b2068531322c",
   "metadata": {},
   "source": [
    "Notice what happened - we defined a new name called “polynomial” and then used the .expand() method to expand the polynomial. We can see all the methods associated with an object by typing its name and a dot then pressing “tab”.\r\n",
    "\r\n",
    "Call up the list of methods for the polynomial variable by entering “.” and pressing tab at the end of the line in the cell below:"
   ]
  },
  {
   "cell_type": "code",
   "execution_count": 6,
   "id": "b124b9dd-788c-408f-accf-bc089c2737a4",
   "metadata": {},
   "outputs": [
    {
     "data": {
      "image/png": "[encoded data removed]",
      "text/latex": [
       "$\\displaystyle \\left(3 x + 4\\right)^{4}$"
      ],
      "text/plain": [
       "         4\n",
       "(3⋅x + 4) "
      ]
     },
     "execution_count": 6,
     "metadata": {},
     "output_type": "execute_result"
    }
   ],
   "source": [
    "polynomial"
   ]
  },
  {
   "cell_type": "markdown",
   "id": "01eb3358-19a4-4c2c-8624-1891da120dc1",
   "metadata": {},
   "source": [
    "To get help about any method, we can type its name and append a ? at the end, then evaluate the cell\r\n",
    "\r\n",
    "Obtain help about the .expand() method by evaluating the cell below:"
   ]
  },
  {
   "cell_type": "code",
   "execution_count": 7,
   "id": "4d5136db-87ec-435b-950e-55f2d7fbb12a",
   "metadata": {},
   "outputs": [
    {
     "data": {
      "text/plain": [
       "\u001b[0;31mSignature:\u001b[0m\n",
       "\u001b[0mpolynomial\u001b[0m\u001b[0;34m.\u001b[0m\u001b[0mexpand\u001b[0m\u001b[0;34m(\u001b[0m\u001b[0;34m\u001b[0m\n",
       "\u001b[0;34m\u001b[0m    \u001b[0mdeep\u001b[0m\u001b[0;34m=\u001b[0m\u001b[0;32mTrue\u001b[0m\u001b[0;34m,\u001b[0m\u001b[0;34m\u001b[0m\n",
       "\u001b[0;34m\u001b[0m    \u001b[0mmodulus\u001b[0m\u001b[0;34m=\u001b[0m\u001b[0;32mNone\u001b[0m\u001b[0;34m,\u001b[0m\u001b[0;34m\u001b[0m\n",
       "\u001b[0;34m\u001b[0m    \u001b[0mpower_base\u001b[0m\u001b[0;34m=\u001b[0m\u001b[0;32mTrue\u001b[0m\u001b[0;34m,\u001b[0m\u001b[0;34m\u001b[0m\n",
       "\u001b[0;34m\u001b[0m    \u001b[0mpower_exp\u001b[0m\u001b[0;34m=\u001b[0m\u001b[0;32mTrue\u001b[0m\u001b[0;34m,\u001b[0m\u001b[0;34m\u001b[0m\n",
       "\u001b[0;34m\u001b[0m    \u001b[0mmul\u001b[0m\u001b[0;34m=\u001b[0m\u001b[0;32mTrue\u001b[0m\u001b[0;34m,\u001b[0m\u001b[0;34m\u001b[0m\n",
       "\u001b[0;34m\u001b[0m    \u001b[0mlog\u001b[0m\u001b[0;34m=\u001b[0m\u001b[0;32mTrue\u001b[0m\u001b[0;34m,\u001b[0m\u001b[0;34m\u001b[0m\n",
       "\u001b[0;34m\u001b[0m    \u001b[0mmultinomial\u001b[0m\u001b[0;34m=\u001b[0m\u001b[0;32mTrue\u001b[0m\u001b[0;34m,\u001b[0m\u001b[0;34m\u001b[0m\n",
       "\u001b[0;34m\u001b[0m    \u001b[0mbasic\u001b[0m\u001b[0;34m=\u001b[0m\u001b[0;32mTrue\u001b[0m\u001b[0;34m,\u001b[0m\u001b[0;34m\u001b[0m\n",
       "\u001b[0;34m\u001b[0m    \u001b[0;34m**\u001b[0m\u001b[0mhints\u001b[0m\u001b[0;34m,\u001b[0m\u001b[0;34m\u001b[0m\n",
       "\u001b[0;34m\u001b[0m\u001b[0;34m)\u001b[0m\u001b[0;34m\u001b[0m\u001b[0;34m\u001b[0m\u001b[0m\n",
       "\u001b[0;31mDocstring:\u001b[0m\n",
       "Expand an expression using hints.\n",
       "\n",
       "See the docstring of the expand() function in sympy.core.function for\n",
       "more information.\n",
       "\u001b[0;31mFile:\u001b[0m      /opt/conda/lib/python3.11/site-packages/sympy/core/expr.py\n",
       "\u001b[0;31mType:\u001b[0m      method"
      ]
     },
     "metadata": {},
     "output_type": "display_data"
    }
   ],
   "source": [
    "polynomial.expand?"
   ]
  },
  {
   "cell_type": "markdown",
   "id": "2fe263b1-aa43-49fd-ad5e-921b055ed603",
   "metadata": {},
   "source": [
    "It is also possible to obtain help for a function by placing the cursor between the parentheses and pressing Shift+Tab.\n",
    "Try this in the cell below for the \".coeff()\" method of polynomial."
   ]
  },
  {
   "cell_type": "code",
   "execution_count": 8,
   "id": "1215af8d-fe1a-4b3f-8d6e-5d03a13bf212",
   "metadata": {},
   "outputs": [
    {
     "data": {
      "text/plain": [
       "<bound method Expr.coeff of (3*x + 4)**4>"
      ]
     },
     "execution_count": 8,
     "metadata": {},
     "output_type": "execute_result"
    }
   ],
   "source": [
    "polynomial.coeff"
   ]
  },
  {
   "cell_type": "markdown",
   "id": "5b8144b4-fadc-498f-94a4-974d070eb939",
   "metadata": {},
   "source": [
    "Here's an example of factoring a polynomial. Notice that we are still using the variable \"x\" which we defined above."
   ]
  },
  {
   "cell_type": "code",
   "execution_count": 9,
   "id": "2a4432f4-606a-422a-9291-035b8e193cde",
   "metadata": {},
   "outputs": [
    {
     "data": {
      "image/png": "[encoded data removed]",
      "text/latex": [
       "$\\displaystyle \\left(x + 2\\right)^{2}$"
      ],
      "text/plain": [
       "       2\n",
       "(x + 2) "
      ]
     },
     "execution_count": 9,
     "metadata": {},
     "output_type": "execute_result"
    }
   ],
   "source": [
    "(x**2 + 4*x + 4).factor()"
   ]
  },
  {
   "cell_type": "markdown",
   "id": "66e0f902-30ec-4a2d-be07-637fd39e2d70",
   "metadata": {},
   "source": [
    "You will notice that SymPy’s default behaviour is to retain exact representations of certain numbers:"
   ]
  },
  {
   "cell_type": "code",
   "execution_count": 10,
   "id": "9f6b1dbc-dbe2-404a-b252-ad9367b9ba3b",
   "metadata": {},
   "outputs": [
    {
     "data": {
      "image/png": "[encoded data removed]",
      "text/latex": [
       "$\\displaystyle \\sqrt{2} \\pi$"
      ],
      "text/plain": [
       "√2⋅π"
      ]
     },
     "execution_count": 10,
     "metadata": {},
     "output_type": "execute_result"
    }
   ],
   "source": [
    "number = sympy.sqrt(2)*sympy.pi\n",
    "number"
   ]
  },
  {
   "cell_type": "markdown",
   "id": "377eca26-d27c-4c5c-80f4-fcebbd32435e",
   "metadata": {},
   "source": [
    "To convert the exact representations above to an approximate floating point representations, use one of these methods. \n",
    "* sympy.N works with complicated expressions containing variables as well.\n",
    "* float will return a normal Python float and is useful when interacting with non-SymPy programs."
   ]
  },
  {
   "cell_type": "code",
   "execution_count": 11,
   "id": "377a4cba-344f-4a8d-a17d-a534234d7f18",
   "metadata": {},
   "outputs": [
    {
     "data": {
      "image/png": "[encoded data removed]",
      "text/latex": [
       "$\\displaystyle 4.44288293815837 x$"
      ],
      "text/plain": [
       "4.44288293815837⋅x"
      ]
     },
     "execution_count": 11,
     "metadata": {},
     "output_type": "execute_result"
    }
   ],
   "source": [
    "sympy.N(number*x)"
   ]
  },
  {
   "cell_type": "code",
   "execution_count": 12,
   "id": "2f1012e5-9f62-497b-b075-08e200d9bb21",
   "metadata": {},
   "outputs": [
    {
     "data": {
      "image/png": "[encoded data removed]",
      "text/latex": [
       "$\\displaystyle 4.44288293815837$"
      ],
      "text/plain": [
       "4.442882938158366"
      ]
     },
     "execution_count": 12,
     "metadata": {},
     "output_type": "execute_result"
    }
   ],
   "source": [
    "float(number)"
   ]
  },
  {
   "cell_type": "markdown",
   "id": "a03fc827-bfc9-41d7-b589-5de3c7192741",
   "metadata": {},
   "source": [
    "## Solving Equations\n",
    "Sympy can help us solve manipulate equations using the `solve` function. Like many solving functions, it finds zeros of a function, so we have to rewrite equalities to be equal to zero.\n",
    "Consdier this equation:\n",
    "$$\n",
    "\\begin{align}\n",
    "2x^2 + 2 &= 4 \\\\\n",
    "2x^2 + 2 - 4 &= 0 \\\\\n",
    "2x^2 - 2 &= 0 \\\\\n",
    "x^2 - 1 &= 0\n",
    "\\end{align}\n",
    "$$\n",
    "Let's plot so we know the zeros of the function graphically:"
   ]
  },
  {
   "cell_type": "code",
   "execution_count": 13,
   "id": "ed8c0bcf-c9b8-4b15-a4db-04b5484d451a",
   "metadata": {},
   "outputs": [
    {
     "data": {
      "image/png": "[encoded data removed]",
      "text/plain": [
       "<Figure size 640x480 with 1 Axes>"
      ]
     },
     "metadata": {},
     "output_type": "display_data"
    },
    {
     "data": {
      "text/plain": [
       "<sympy.plotting.backends.matplotlibbackend.matplotlib.MatplotlibBackend at 0x77fd94d9f610>"
      ]
     },
     "execution_count": 13,
     "metadata": {},
     "output_type": "execute_result"
    }
   ],
   "source": [
    "sympy.plot(x**2 - 1)"
   ]
  },
  {
   "cell_type": "markdown",
   "id": "9e7c8cca-14ab-4b46-8cbc-1a41bd1ceeba",
   "metadata": {},
   "source": [
    "Try accessing the help for `sympy.plot()` to find the ability to set horizontal and vertical axis limits and the overall size of the plot. Then use this information in the next code block to suit your needs for viewing the plot."
   ]
  },
  {
   "cell_type": "code",
   "execution_count": 14,
   "id": "f9a8aed2-eee9-4ff5-8e5b-f9e5d268e810",
   "metadata": {},
   "outputs": [
    {
     "data": {
      "image/png": "[encoded data removed]",
      "text/plain": [
       "<Figure size 640x480 with 1 Axes>"
      ]
     },
     "metadata": {},
     "output_type": "display_data"
    },
    {
     "data": {
      "text/plain": [
       "<sympy.plotting.backends.matplotlibbackend.matplotlib.MatplotlibBackend at 0x77fd5efcc050>"
      ]
     },
     "execution_count": 14,
     "metadata": {},
     "output_type": "execute_result"
    }
   ],
   "source": [
    "sympy.plot()"
   ]
  },
  {
   "cell_type": "code",
   "execution_count": 15,
   "id": "93de9354-915f-44bb-aeb3-d6db4dfd2b43",
   "metadata": {},
   "outputs": [
    {
     "data": {
      "image/png": "[encoded data removed]",
      "text/plain": [
       "<Figure size 300x300 with 1 Axes>"
      ]
     },
     "metadata": {},
     "output_type": "display_data"
    },
    {
     "data": {
      "text/plain": [
       "<sympy.plotting.backends.matplotlibbackend.matplotlib.MatplotlibBackend at 0x77fd977bafd0>"
      ]
     },
     "execution_count": 15,
     "metadata": {},
     "output_type": "execute_result"
    }
   ],
   "source": [
    "sympy.plot(x**2 - 1,xlim = [-2, 2],ylim = [-2,2],size = [3,3])"
   ]
  },
  {
   "cell_type": "markdown",
   "id": "5bc741c2-85a0-41f9-bb4a-a5b8eaaa1cc3",
   "metadata": {},
   "source": [
    "Now let's examine the solutions that Sympy gives us:"
   ]
  },
  {
   "cell_type": "code",
   "execution_count": 16,
   "id": "96297b92-82ae-45df-a578-00d36ae5c835",
   "metadata": {},
   "outputs": [
    {
     "data": {
      "image/png": "[encoded data removed]",
      "text/latex": [
       "$\\displaystyle \\left[ -1, \\  1\\right]$"
      ],
      "text/plain": [
       "[-1, 1]"
      ]
     },
     "execution_count": 16,
     "metadata": {},
     "output_type": "execute_result"
    }
   ],
   "source": [
    "solutions = sympy.solve(2*x**2 + 2 - 4)\n",
    "solutions"
   ]
  },
  {
   "cell_type": "markdown",
   "id": "52453905-825c-4f86-896a-22ee6fd5a769",
   "metadata": {},
   "source": [
    "You can access a single element in the tuple, and element numbering starts at 0 in Python.\n",
    "Run the two code blocks below to access the first and second elements of the solution (the values of $x$ that satisfy $2x^2 + 2 = 4$."
   ]
  },
  {
   "cell_type": "code",
   "execution_count": 17,
   "id": "6a5b7f6a-c8b5-4e23-9057-648f9c70a511",
   "metadata": {},
   "outputs": [
    {
     "data": {
      "image/png": "[encoded data removed]",
      "text/latex": [
       "$\\displaystyle -1$"
      ],
      "text/plain": [
       "-1"
      ]
     },
     "execution_count": 17,
     "metadata": {},
     "output_type": "execute_result"
    }
   ],
   "source": [
    "solutions[0]"
   ]
  },
  {
   "cell_type": "code",
   "execution_count": 18,
   "id": "ced9ac4e-68ac-48bb-b32e-4caebbaf1b16",
   "metadata": {},
   "outputs": [
    {
     "data": {
      "image/png": "[encoded data removed]",
      "text/latex": [
       "$\\displaystyle 1$"
      ],
      "text/plain": [
       "1"
      ]
     },
     "execution_count": 18,
     "metadata": {},
     "output_type": "execute_result"
    }
   ],
   "source": [
    "solutions[1]"
   ]
  },
  {
   "cell_type": "markdown",
   "id": "4c0f32a8-f698-4551-a97b-e90148793d9c",
   "metadata": {},
   "source": [
    "We can also use `sympy.Eq` to construct equations"
   ]
  },
  {
   "cell_type": "code",
   "execution_count": 19,
   "id": "587dcc7f-b54f-4ba3-84a0-4a04736a239c",
   "metadata": {},
   "outputs": [
    {
     "data": {
      "image/png": "[encoded data removed]",
      "text/latex": [
       "$\\displaystyle 2 x^{2} + 2 = 4$"
      ],
      "text/plain": [
       "   2        \n",
       "2⋅x  + 2 = 4"
      ]
     },
     "execution_count": 19,
     "metadata": {},
     "output_type": "execute_result"
    }
   ],
   "source": [
    "equation = sympy.Eq(2*x**2 + 2, 4)\n",
    "equation"
   ]
  },
  {
   "cell_type": "markdown",
   "id": "756bbd93-3534-47ef-ae66-75de0c1e5a67",
   "metadata": {},
   "source": [
    "The `roots` function will give us the roots (the values of $x$ which solve the equation) as well as the multiplicity of the roots as well.\n",
    "A root such as -3 in $x^2+6x+9=0$ has multiplicity 2 as the equation is equivalent to $(x+3)^2=0$"
   ]
  },
  {
   "cell_type": "code",
   "execution_count": 20,
   "id": "4c96562f-b4d5-42af-906b-9544e7ecb41a",
   "metadata": {},
   "outputs": [
    {
     "data": {
      "image/png": "[encoded data removed]",
      "text/latex": [
       "$\\displaystyle \\left\\{ -1 : 1, \\  1 : 1\\right\\}$"
      ],
      "text/plain": [
       "{-1: 1, 1: 1}"
      ]
     },
     "execution_count": 20,
     "metadata": {},
     "output_type": "execute_result"
    }
   ],
   "source": [
    "sympy.roots(equation)"
   ]
  },
  {
   "cell_type": "markdown",
   "id": "46319cba-19e3-45aa-998f-29a397f6da42",
   "metadata": {},
   "source": [
    "This result may look confusing at first. It is a python dictionary. Let's access the values in the dictionary by using square brackets with the dictionary key (in this case -1 or 1) as the argument in the square brackets as in the code block below."
   ]
  },
  {
   "cell_type": "code",
   "execution_count": 21,
   "id": "ee9c4723-5ac0-4d2d-abaa-6f2ce0a11c3a",
   "metadata": {},
   "outputs": [
    {
     "name": "stdout",
     "output_type": "stream",
     "text": [
      "The first root, at -1, has multiplicity 1\n",
      "The second root, at 1, has multiplicity 1\n"
     ]
    }
   ],
   "source": [
    "answer = sympy.roots(equation)\n",
    "print(f\"The first root, at -1, has multiplicity {answer[-1]}\")\n",
    "print(f\"The second root, at 1, has multiplicity {answer[1]}\")"
   ]
  },
  {
   "cell_type": "markdown",
   "id": "78e66f2a-57c4-473a-9808-7fc81cd2d2a9",
   "metadata": {},
   "source": [
    "We can also solve systems of equations by passing a list of equations to solve and asking for a list of variables to solve for."
   ]
  },
  {
   "cell_type": "code",
   "execution_count": 22,
   "id": "5b617549-4cee-4f59-86d2-4c0bf81ddf5d",
   "metadata": {},
   "outputs": [
    {
     "data": {
      "image/png": "[encoded data removed]",
      "text/latex": [
       "$\\displaystyle \\left\\{ x : 1, \\  y : 1\\right\\}$"
      ],
      "text/plain": [
       "{x: 1, y: 1}"
      ]
     },
     "execution_count": 22,
     "metadata": {},
     "output_type": "execute_result"
    }
   ],
   "source": [
    "x, y = sympy.symbols('x, y')\n",
    "sympy.solve([x + y - 2,\n",
    "             x - y - 0], [x, y])"
   ]
  },
  {
   "cell_type": "markdown",
   "id": "abc44278-90ab-40dd-9d22-c861275acfd2",
   "metadata": {},
   "source": [
    "This even works with symbolic variables in the equations, such as solving this system for $x$ and $y$ with symbolic variables (system parameters) $a$, $b$, and $c$.\n",
    "\\begin{align}\n",
    "ax+by &= 2 \\\\\n",
    "ax-by &= c\n",
    "\\end{align}"
   ]
  },
  {
   "cell_type": "code",
   "execution_count": 23,
   "id": "2c691718-8198-4924-877d-176273098231",
   "metadata": {},
   "outputs": [
    {
     "data": {
      "image/png": "[encoded data removed]",
      "text/latex": [
       "$\\displaystyle \\left\\{ x : \\frac{c + 2}{2 a}, \\  y : \\frac{2 - c}{2 b}\\right\\}$"
      ],
      "text/plain": [
       "⎧   c + 2     2 - c⎫\n",
       "⎨x: ─────, y: ─────⎬\n",
       "⎩    2⋅a       2⋅b ⎭"
      ]
     },
     "execution_count": 23,
     "metadata": {},
     "output_type": "execute_result"
    }
   ],
   "source": [
    "a, b, c = sympy.var('a, b, c')\n",
    "solution = sympy.solve([a*x + b*y - 2,\n",
    "                        a*x - b*y - c], [x, y])\n",
    "solution"
   ]
  },
  {
   "cell_type": "markdown",
   "id": "8f58f888-f4ed-47a2-8960-a434b11e6943",
   "metadata": {},
   "source": [
    "## Back to the Machine Tool Power Drvie System Modeling and Control Problem\n",
    "Let's set the system parameters as variables"
   ]
  },
  {
   "cell_type": "code",
   "execution_count": 24,
   "id": "b2c5026c-ce2b-4d67-9f7b-392fd76ae94b",
   "metadata": {},
   "outputs": [
    {
     "name": "stdout",
     "output_type": "stream",
     "text": [
      "J_m = 0.0001 newton-meter-second-squared-per-radian\n",
      "J_l = 0.001 newton-meter-second-squared-per-radian\n",
      "c_m = 0.01 newton-meter-second-per-radian\n",
      "c_l = 0.01 newton-meter-second-per-radian\n",
      "k = 1 newton-meter-seconds-squared-per-radian\n",
      "N = 5, unitless\n",
      "model parameters are loaded\n"
     ]
    }
   ],
   "source": [
    "import math\n",
    "#set model parameters\n",
    "J_m = 1e-4 #motor shaft inertia in newton-meter-second-squared-per-radian\n",
    "J_l = 1e-3 #lead screw shaft inertia in newton-meter-second-squared-per-radian\n",
    "c_m = 1e-2 #damping constant of motor shaft bearings in newton-meter-second-per-radian\n",
    "c_l = 1e-2 #damping constant of lead screw shaft bearings in newton-meter-second-per-radian\n",
    "k = 1 #torsional spring constant of lead screw in newton-meter-seconds-squared-per-radian\n",
    "N = 5 #gear speed reduction ratio of gearbox\n",
    "print(f'J_m = {J_m:0.3g} newton-meter-second-squared-per-radian') #notice that the format specifier with 0.3g gives 3 significant digits. Notice the f before the string as well.\n",
    "print(f'J_l = {J_l:0.3g} newton-meter-second-squared-per-radian')\n",
    "print(f'c_m = {c_m:0.3g} newton-meter-second-per-radian')\n",
    "print(f'c_l = {c_l:0.3g} newton-meter-second-per-radian')\n",
    "print(f'k = {k:0.3g} newton-meter-seconds-squared-per-radian')\n",
    "print(f'N = {N:0.3g}, unitless')\n",
    "\n",
    "print('model parameters are loaded')"
   ]
  },
  {
   "cell_type": "markdown",
   "id": "1d3ce40b-10c8-4628-8861-57b61294a317",
   "metadata": {},
   "source": [
    "Let's create this equation in SimPy:\n",
    "$$\\frac{\\Theta_l}{\\tau_m}(s) = \n",
    "\\frac{\n",
    "\\frac{k}{N} }\n",
    "{ \\left(J_l s^2 + c_l s + k \\right)\\left(J_m s^2 + c_m s + \\frac{k}{N^2} \\right) - \\frac{k^2}{N^2} }\n",
    "$$\n",
    "\n",
    "Your task will be to code this transfer function in SimPy in order to perform further analysis.\n",
    "Here's an example of composing a transfer function:"
   ]
  },
  {
   "cell_type": "code",
   "execution_count": 25,
   "id": "9fc38615-be68-4812-afd2-ec2044b7d36c",
   "metadata": {},
   "outputs": [
    {
     "name": "stdout",
     "output_type": "stream",
     "text": [
      "TransferFunction(s + 1, s**2 + 2*s + 1, s)\n"
     ]
    }
   ],
   "source": [
    "from sympy import Symbol\n",
    "from sympy.physics.control.lti import TransferFunction\n",
    "\n",
    "s = Symbol('s')\n",
    "numerator = s + 1\n",
    "denominator = s**2 + 2*s + 1\n",
    "\n",
    "transfer_function = TransferFunction(numerator, denominator, s)\n",
    "\n",
    "print(transfer_function)"
   ]
  },
  {
   "cell_type": "markdown",
   "id": "3efbfc84-8a8c-4d17-80c1-487e70733669",
   "metadata": {},
   "source": [
    "Now you create the numerator and denominator using the symbols $s$ and the system parameters loaded above."
   ]
  },
  {
   "cell_type": "code",
   "execution_count": 26,
   "id": "5ddc7e9d-bf67-4ad7-b2d0-f5f9115d9413",
   "metadata": {},
   "outputs": [
    {
     "name": "stdout",
     "output_type": "stream",
     "text": [
      "TransferFunction(0.2, (0.0001*s**2 + 0.01*s + 0.04)*(0.001*s**2 + 0.01*s + 1) - 0.04, s)\n"
     ]
    }
   ],
   "source": [
    "s = Symbol('s')\n",
    "numerator = k/N\n",
    "denominator = (J_l*s**2 + c_l*s + k)*(J_m*s**2 + c_m*s + k/N**2)-k**2/N**2\n",
    "\n",
    "transfer_function = TransferFunction(numerator, denominator, s)\n",
    "\n",
    "print(transfer_function)"
   ]
  },
  {
   "cell_type": "markdown",
   "id": "d2b4c761-1ed6-4a0b-b954-91506483ee9b",
   "metadata": {},
   "source": [
    "The denominator of a system transfer function is called a characteristic equation. Find the roots of the characteristic equation. Note that we can access the denominator of a SymPy TransferFunction object at its `.den` property"
   ]
  },
  {
   "cell_type": "code",
   "execution_count": 27,
   "id": "61ca7ca7-1988-415c-a9c6-f26b12320946",
   "metadata": {},
   "outputs": [
    {
     "data": {
      "image/png": "[encoded data removed]",
      "text/latex": [
       "$\\displaystyle \\left\\{ -96.292201734025 : 1, \\  0 : 1, \\  -6.85389913298751 - 32.1414061720742 i : 1, \\  -6.85389913298751 + 32.1414061720742 i : 1\\right\\}$"
      ],
      "text/plain": [
       "{-96.292201734025: 1, 0: 1, -6.85389913298751 - 32.1414061720742⋅ⅈ: 1, -6.8538 ↪\n",
       "\n",
       "↪ 9913298751 + 32.1414061720742⋅ⅈ: 1}"
      ]
     },
     "execution_count": 27,
     "metadata": {},
     "output_type": "execute_result"
    }
   ],
   "source": [
    "sympy.roots(transfer_function.den)"
   ]
  },
  {
   "cell_type": "markdown",
   "id": "2d553d84-3d26-4f75-b368-544f4725074c",
   "metadata": {},
   "source": [
    "One observation is that all the roots are negative or zero. This is important for stability of a closed loop control system."
   ]
  },
  {
   "cell_type": "markdown",
   "id": "7652a35e-976a-4853-973d-d0364e23372f",
   "metadata": {},
   "source": [
    "This will involve extracting the numerator and denominator of the transfer function and then converting them to lists of coefficients with the floating point numbers being Python floats, not Sympy floats."
   ]
  },
  {
   "cell_type": "code",
   "execution_count": 28,
   "id": "ecad21e0-c8fe-4401-a920-e7234e3d9dc3",
   "metadata": {},
   "outputs": [
    {
     "name": "stdout",
     "output_type": "stream",
     "text": [
      "[0.2]\n",
      "[1.0000000000000001e-07, 1.1000000000000001e-05, 0.00024000000000000003, 0.0104]\n"
     ]
    }
   ],
   "source": [
    "import numpy as np\n",
    "num = ([float(transfer_function.num)])\n",
    "print(num)\n",
    "\n",
    "denominator = sympy.poly(transfer_function.den)\n",
    "den = (denominator.coeffs())\n",
    "den = [float(x) for x in den]\n",
    "print(den)"
   ]
  },
  {
   "cell_type": "markdown",
   "id": "1c336cdb-e082-4ff3-8bc6-b2227b5ea0c6",
   "metadata": {},
   "source": [
    "Now plot the step reponse of our open loop transfer function from motor torque to lead screw angular displacement."
   ]
  },
  {
   "cell_type": "code",
   "execution_count": 29,
   "id": "bccd72bb-7df4-45ea-bce3-b59f5ade4403",
   "metadata": {},
   "outputs": [
    {
     "data": {
      "image/png": "[encoded data removed]",
      "text/plain": [
       "<Figure size 640x480 with 1 Axes>"
      ]
     },
     "metadata": {},
     "output_type": "display_data"
    }
   ],
   "source": [
    "import control\n",
    "import matplotlib.pyplot as plt\n",
    "# Calculate the step response\n",
    "tf = control.TransferFunction(num, den)\n",
    "t, y = control.step_response(tf)\n",
    "\n",
    "# Plot the step response\n",
    "plt.plot(t, y)\n",
    "plt.xlabel(\"Time in seconds\")\n",
    "plt.ylabel(r\"Amplitude (ratio of output to desired flow rate $q_\\text{output}(t)$)\") #notice the r before the string for a raw string to allow for LaTeX math notation inside the dollar signs\n",
    "plt.title(rf\"Step Response\")\n",
    "plt.grid(True)\n",
    "plt.show()"
   ]
  },
  {
   "cell_type": "markdown",
   "id": "ab97b66f-a005-4d40-9284-7c1efc31e417",
   "metadata": {},
   "source": [
    "A few remarks: the response has significant oscillation, which is undesirable for machining applications. Also, it takes nearly 1 second to settle in position. This is quite slow for a fast CNC machine tool, and so living with this level of position oscillation (appearing as vibration) would require much slower machining. Let's try a control system to speed up the response and remove the oscillation."
   ]
  },
  {
   "cell_type": "markdown",
   "id": "b7692096-141c-47c2-b513-29619dde0d1f",
   "metadata": {},
   "source": [
    "## PD Controller"
   ]
  },
  {
   "cell_type": "markdown",
   "id": "a3c4ee56-180c-41f5-b0c9-c01745398451",
   "metadata": {},
   "source": [
    "First, examine the root locus plot of this system. This shows how the roots move when a proportional gain is used for feedback. We plot this below and realize that the X symbols move to cross the right edge of the plot (the vertical axis), indicating that increasing the proportional gain will cause the closed loop controlled system to go unstable. "
   ]
  },
  {
   "cell_type": "code",
   "execution_count": 30,
   "id": "d73d08e1-6a35-4c35-93ba-fb70b3cbde4d",
   "metadata": {},
   "outputs": [
    {
     "data": {
      "image/png": "[encoded data removed]",
      "text/plain": [
       "<Figure size 300x300 with 1 Axes>"
      ]
     },
     "metadata": {},
     "output_type": "display_data"
    }
   ],
   "source": [
    "# Generate the root locus plot\n",
    "plt.figure(figsize=(3, 3))\n",
    "control.rlocus(tf)\n",
    "plt.title('Root Locus Plot')\n",
    "plt.xlabel('Real Axis')\n",
    "plt.ylabel('Imaginary Axis')\n",
    "plt.grid(True)\n",
    "plt.show()"
   ]
  },
  {
   "cell_type": "markdown",
   "id": "121db528-8896-45e5-b2be-9e18d3e6ec92",
   "metadata": {},
   "source": [
    "For this reason, we might try a PD controller, which puts a zero in the closed loop transfer function and might help pull these poles away from instability. Let's rebuild our transfer function using a PD controller with pole at 20"
   ]
  },
  {
   "cell_type": "code",
   "execution_count": 74,
   "id": "a2f2b71e-8541-4175-9967-b1c7174af1e2",
   "metadata": {
    "jupyter": {
     "source_hidden": true
    }
   },
   "outputs": [
    {
     "data": {
      "application/vnd.jupyter.widget-view+json": {
       "model_id": "241b255a1eb3458d8063a36d9882e44d",
       "version_major": 2,
       "version_minor": 0
      },
      "text/plain": [
       "FloatLogSlider(value=0.25, description='K_p:', max=3.0, min=-4.0, readout_format='.3f')"
      ]
     },
     "metadata": {},
     "output_type": "display_data"
    }
   ],
   "source": [
    "#Set the P-gain\n",
    "from ipywidgets import interact,interactive,widgets\n",
    "from IPython.display import display\n",
    "\n",
    "K_p = 0.25\n",
    "KPSlider = widgets.FloatLogSlider(\n",
    "    value=K_p,\n",
    "    min=-4,\n",
    "    max=3,\n",
    "    # step=0.001,\n",
    "    description=\"K_p:\",\n",
    "    disabled=False,\n",
    "    continuous_update=True,\n",
    "    orientation='horizontal',\n",
    "    readout=True,\n",
    "    readout_format='.3f',\n",
    ")\n",
    "\n",
    "\n",
    "def update_variable(change):\n",
    "    global K_p\n",
    "    K_p = change.new\n",
    "    # print(f\"Variable updated to: {my_variable}\")\n",
    "\n",
    "KPSlider.observe(update_variable, names='value')\n",
    "display(KPSlider)"
   ]
  },
  {
   "cell_type": "code",
   "execution_count": 78,
   "id": "61476b7b-9386-4a60-8862-f9b6a85ceaad",
   "metadata": {
    "jupyter": {
     "source_hidden": true
    }
   },
   "outputs": [
    {
     "data": {
      "image/png": "[encoded data removed]",
      "text/plain": [
       "<Figure size 300x300 with 1 Axes>"
      ]
     },
     "metadata": {},
     "output_type": "display_data"
    }
   ],
   "source": [
    "pole = -20\n",
    "# K_p = .25 #now set by slider above.\n",
    "K_d = -K_p/pole\n",
    "PD_controller = K_p+s*K_d\n",
    "\n",
    "open_loop_t_f_numerator = k/N\n",
    "open_loop_t_f_denominator = (J_l*s**2 + c_l*s + k)*(J_m*s**2 + c_m*s + k/N**2)-k**2/N**2\n",
    "\n",
    "G = PD_controller*open_loop_t_f_numerator / open_loop_t_f_denominator\n",
    "ans = sympy.simplify(G/(1+G))\n",
    "[num,den]=sympy.fraction(ans)\n",
    "num = num.as_poly().coeffs()\n",
    "num = [float(x) for x in num]\n",
    "den = den.as_poly().coeffs()\n",
    "den = [float(x) for x in den]\n",
    "\n",
    "# den = [1, 2]\n",
    "# Calculate the step response\n",
    "tf = control.TransferFunction(num, den)\n",
    "t, y = control.step_response(tf)\n",
    "\n",
    "# Plot the step response\n",
    "plt.figure(figsize=(3, 3))\n",
    "plt.plot(t, y)\n",
    "plt.xlabel(\"Time in seconds\")\n",
    "plt.ylabel(r\"Amplitude\") #notice the r before the string for a raw string to allow for LaTeX math notation inside the dollar signs\n",
    "plt.title(rf\"Step Response\")\n",
    "plt.grid(True)\n",
    "plt.show()"
   ]
  },
  {
   "cell_type": "markdown",
   "id": "c9ce2aac-e1a8-491e-951d-a00b235d1f35",
   "metadata": {},
   "source": [
    "We observe a few points.\n",
    "* The closed loop control system using this PD controller with pole at $s=-20$ goes unstable for approximately $K_p>0.4$.\n",
    "* The step response has at best approximately 1 second settling time.\n",
    "* The steady state error is zero when the controller is stable\n",
    "* A very low $K_p$ causes a very sluggish system.\n",
    "\n",
    "This performance is not acceptable for a machineto\n"
   ]
  },
  {
   "cell_type": "markdown",
   "id": "677d6011",
   "metadata": {
    "tags": [
     "Bottom Navigation"
    ]
   },
   "source": [
    "### <center>[◀︎ Module 4](Module4.ipynb)     [🏠 Home](../../welcomePage.ipynb)     [Module 6 ▶︎](Module6.ipynb)</center>"
   ]
  }
 ],
 "metadata": {
  "kernelspec": {
   "display_name": "Python 3 (ipykernel)",
   "language": "python",
   "name": "python3"
  },
  "language_info": {
   "codemirror_mode": {
    "name": "ipython",
    "version": 3
   },
   "file_extension": ".py",
   "mimetype": "text/x-python",
   "name": "python",
   "nbconvert_exporter": "python",
   "pygments_lexer": "ipython3",
   "version": "3.11.6"
  },
  "widgets": {
   "application/vnd.jupyter.widget-state+json": {
    "state": {},
    "version_major": 2,
    "version_minor": 0
   }
  }
 },
 "nbformat": 4,
 "nbformat_minor": 5
}
