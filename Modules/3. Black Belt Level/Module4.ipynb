{
 "cells": [
  {
   "cell_type": "markdown",
   "id": "92e56bad",
   "metadata": {
    "tags": [
     "auto-generated-toc"
    ]
   },
   "source": [
    "## Table of Contents\n",
    "- [B4 Modeling and Simulation (Experimental Thermal Analysis)](#B4-Modeling-and-Simulation-%28Experimental-Thermal-Analysis%29)\n",
    "  - [4.1 Experiment](#4.1-Experiment)\n",
    "  - [4.2 Thermal Modeling: Convection, Conduction, and Radiation](#4.2-Thermal-Modeling%3A-Convection%2C-Conduction%2C-and-Radiation)\n",
    "- [🏠 Home](../../welcomePage.ipynb)"
   ]
  },
  {
   "cell_type": "markdown",
   "id": "9ee76e85",
   "metadata": {},
   "source": [
    "# B4 Modeling and Simulation (Experimental Thermal Analysis)\r\n",
    "\r\n",
    "In this module, we will explore the process of thermal analysis modeli. Thewill preed data issent an experimental case where a **thermal video** was captured during the **fused filament fabrication (FFF)** process of **3D printing using PLA (Polylactic Acid)** materi\n",
    "me.\r\n",
    "\r\n",
    "The thermal video contains a temperature range from **30°C to 160°C**, with corresponding color legends indicating different temperature levels. This range offers valuable insights into how heat is dissipated or retained during the printing process, helping to understand how thermal effects influence material properties, layer bonding, and potential warping or deformation of the printed part.\r\n",
    "\r\n",
    "In this module, you will learn:\r\n",
    "- How to capture thermal data using infrared or thermal cameras.\r\n",
    "- The significance of temperature distribution in 3D printing and its impact on material properties.\r\n",
    "- How to analyze this thermal data to create accurate models for thermal behavior prediction.\r\n",
    "- How to use these analyses for improving 3D printing processes, including optimizing print settings to reduce defects caused by temperature fluctuations."
   ]
  },
  {
   "cell_type": "markdown",
   "id": "b2be759f",
   "metadata": {},
   "source": [
    "## 4.1 Experiment\n",
    "### <font color = '#646464'>Import a Thermal Video:</font>"
   ]
  },
  {
   "cell_type": "code",
   "execution_count": null,
   "id": "ab077922",
   "metadata": {
    "has_explanation": false,
    "jupyter": {
     "source_hidden": true
    }
   },
   "outputs": [],
   "source": [
    "import ipywidgets as widgets\n",
    "from IPython.display import display, clear_output\n",
    "waiting_widget = widgets.HTML(value=\"<span style='color: green;'>✅ Code Running Please Wait ...</span>\")\n",
    "display(waiting_widget)\n",
    "\n",
    "# Import necessary modules\n",
    "from PIL import Image, ImageDraw, ImageFont\n",
    "import ipywidgets as widgets\n",
    "from IPython.display import display\n",
    "import cv2\n",
    "import ipywidgets as widgets\n",
    "from IPython.display import display, Video\n",
    "import os\n",
    "from IPython.display import clear_output\n",
    "\n",
    "# List all video files in the current directory\n",
    "supported_extensions = ['.mp4', '.avi', '.mov', '.mkv', '.wmv']\n",
    "files = [f for f in os.listdir('Module 4 Content/Data') if any(f.endswith(ext) for ext in supported_extensions)]\n",
    "\n",
    "# Create a dropdown widget\n",
    "dropdown = widgets.Dropdown(\n",
    "    options=files,\n",
    "    description='Video Files:',\n",
    "    disabled=False,\n",
    ")\n",
    "\n",
    "# Create a button widget\n",
    "button = widgets.Button(\n",
    "    description='Select',\n",
    "    disabled=False,\n",
    "    button_style='',\n",
    "    tooltip='Click to select video file',\n",
    "    icon='check'\n",
    ")\n",
    "\n",
    "# Output widget to display messages\n",
    "output = widgets.Output()\n",
    "\n",
    "# Function to handle button click\n",
    "def on_button_click(b):\n",
    "    global selected_file  # Declare selected_file as global\n",
    "    with output:\n",
    "        clear_output()\n",
    "        selected_file = dropdown.value\n",
    "        print(f\"Video file '{selected_file}' selected.\")\n",
    "\n",
    "# Attach the function to the button widget\n",
    "button.on_click(on_button_click)\n",
    "\n",
    "waiting_widget.value = \"<span style='color: green;'>✅ Code Successful</span>\"\n",
    "clear_output(wait=True)\n",
    "\n",
    "# Display the dropdown, button widgets, and initial message within the output widget\n",
    "with output:\n",
    "    print(\"Please select a video file from the dropdown and click 'Select'.\")\n",
    "display(output)\n",
    "display(dropdown)\n",
    "display(button)\n"
   ]
  },
  {
   "cell_type": "markdown",
   "id": "f33a33cc",
   "metadata": {},
   "source": [
    "### <font color = '#646464'>Display Video</font>"
   ]
  },
  {
   "cell_type": "code",
   "execution_count": null,
   "id": "07393020",
   "metadata": {
    "has_explanation": false,
    "jupyter": {
     "source_hidden": true
    }
   },
   "outputs": [],
   "source": [
    "import ipywidgets as widgets\n",
    "from IPython.display import display, clear_output\n",
    "waiting_widget = widgets.HTML(value=\"<span style='color: orange;'>🟧 Code Running Please Wait ...</span>\")\n",
    "display(waiting_widget)\n",
    "\n",
    "vid_cap = cv2.VideoCapture(\"Module 4 Content/Data/\" + selected_file)\n",
    "display(Video(\"Module 4 Content/Data/\" + selected_file, embed=True,  width=640, height=480))\n",
    "waiting_widget.value = \"<span style='color: green;'>✅ Code Successful</span>\""
   ]
  },
  {
   "cell_type": "markdown",
   "id": "73ee171b",
   "metadata": {},
   "source": [
    "### <font color = '#646464'>Specify Temperature Range</font>\n",
    "\n",
    "The thermal camera used for capturing the thermal video has a temperature range spanning from **30°C to 160°C**. This range allows for detailed observation of temperature variations on the printed surface during the **fused filament fabrication (FFF)** process, providing insights into how the PLA material responds to different thermal conditions throughout the 3D printing process."
   ]
  },
  {
   "cell_type": "code",
   "execution_count": null,
   "id": "14533dcc",
   "metadata": {
    "has_explanation": false,
    "jupyter": {
     "source_hidden": true
    }
   },
   "outputs": [],
   "source": [
    "import ipywidgets as widgets\n",
    "from IPython.display import display\n",
    "\n",
    "# Define text input widgets\n",
    "text_lowest = widgets.Text(description='Lowest Temperature:',\n",
    "                           layout=widgets.Layout(width='300px'),\n",
    "                           style={'description_width': '200px'})\n",
    "text_highest = widgets.Text(description='Highest Temperature:',\n",
    "                            layout=widgets.Layout(width='300px'),\n",
    "                            style={'description_width': '200px'})\n",
    "\n",
    "# Define a button widget\n",
    "button = widgets.Button(description='Set Variables')\n",
    "\n",
    "# Output widget to display messages\n",
    "output = widgets.Output()\n",
    "\n",
    "# Function to update global variables lowest and highest\n",
    "def set_variables(button):\n",
    "    global lowest, highest\n",
    "    with output:\n",
    "        output.clear_output()\n",
    "        try:\n",
    "            lowest = int(text_lowest.value)\n",
    "            highest = int(text_highest.value)\n",
    "            print(f'Variables set: lowest = {lowest}, highest = {highest}')\n",
    "        except ValueError:\n",
    "            print('Error: Please enter valid integer values.')\n",
    "\n",
    "# Link button click event to function\n",
    "button.on_click(set_variables)\n",
    "\n",
    "# Display widgets\n",
    "display(text_lowest, text_highest, button, output)"
   ]
  },
  {
   "cell_type": "markdown",
   "id": "764ffffe",
   "metadata": {},
   "source": [
    "### <font color = '#646464'>Frame Cropping</font>\n",
    "Crop the frames so that the entire part is visible while removing any borders, then slide over the frames to ensure the crop consistently covers the full part throughout the entire sequence.\n"
   ]
  },
  {
   "cell_type": "code",
   "execution_count": null,
   "id": "7022ac10",
   "metadata": {
    "has_explanation": false
   },
   "outputs": [],
   "source": [
    "import cv2\n",
    "import ipywidgets as widgets\n",
    "from IPython.display import display, clear_output\n",
    "from PIL import Image\n",
    "import numpy as np\n",
    "from ipywidgets import Output\n",
    "\n",
    "print(\"Loading, please wait...\")\n",
    "# Load video using cv7\n",
    "cap = cv2.VideoCapture('Module 4 Content/Data/Thermal Video.mp4')\n",
    "\n",
    "# Read all frames from the video\n",
    "frames = []\n",
    "ret, frame = cap.read()\n",
    "while ret:\n",
    "    frames.append(cv2.cvtColor(frame, cv2.COLOR_BGR2RGB))\n",
    "    ret, frame = cap.read()\n",
    "\n",
    "cap.release()\n",
    "\n",
    "# Convert frames to PIL images\n",
    "stored_images = [Image.fromarray(frame) for frame in frames]\n",
    "\n",
    "# Define sliders and button with bigger text\n",
    "slider_style = {\n",
    "    'description_width': 'initial',\n",
    "    'font_size': '16px'\n",
    "}\n",
    "slider_layout = widgets.Layout(width='400px', height='20px')\n",
    "\n",
    "crop_left = widgets.IntSlider(\n",
    "    value=0,\n",
    "    min=0,\n",
    "    max=700,\n",
    "    description='Crop Left:',\n",
    "    continuous_update=True,\n",
    "    style=slider_style,\n",
    "    layout=slider_layout\n",
    ")\n",
    "\n",
    "crop_right = widgets.IntSlider(\n",
    "    value=0,\n",
    "    min=0,\n",
    "    max=700,\n",
    "    description='Crop Right:',\n",
    "    continuous_update=True,\n",
    "    style=slider_style,\n",
    "    layout=slider_layout\n",
    ")\n",
    "\n",
    "crop_top = widgets.IntSlider(\n",
    "    value=0,\n",
    "    min=0,\n",
    "    max=700,\n",
    "    description='Crop Top:',\n",
    "    continuous_update=True,\n",
    "    style=slider_style,\n",
    "    layout=slider_layout\n",
    ")\n",
    "\n",
    "crop_bottom = widgets.IntSlider(\n",
    "    value=0,\n",
    "    min=0,\n",
    "    max=700,\n",
    "    description='Crop Bottom:',\n",
    "    continuous_update=True,\n",
    "    style=slider_style,\n",
    "    layout=slider_layout\n",
    ")\n",
    "\n",
    "apply_all_button = widgets.Button(\n",
    "    description='Apply to All',\n",
    "    tooltip='Apply current settings to all images',\n",
    "    style={'font_size': '16px'},\n",
    "    layout=widgets.Layout(width='150px', height='30px')\n",
    ")\n",
    "\n",
    "output = widgets.Output()\n",
    "image_slider = widgets.IntSlider(\n",
    "    value=0,\n",
    "    min=0,\n",
    "    max=len(stored_images)-1,\n",
    "    description='Frame',\n",
    "    continuous_update=True,\n",
    "    style=slider_style,\n",
    "    layout=slider_layout\n",
    ")\n",
    "\n",
    "# Display function\n",
    "def display_images(change=None):\n",
    "    with output:\n",
    "        \n",
    "        clear_output(wait=True)\n",
    "        if stored_images:\n",
    "            image = stored_images[image_slider.value]\n",
    "            # Calculate actual crop dimensions\n",
    "            left = crop_left.value\n",
    "            top = crop_top.value\n",
    "            right = crop_right.value\n",
    "            bottom = crop_bottom.value\n",
    "\n",
    "            # Ensure crop values are valid\n",
    "            crop_box = (\n",
    "                min(left, image.width - 1),\n",
    "                min(top, image.height - 1),\n",
    "                max(left + 1, image.width - right),\n",
    "                max(top + 1, image.height - bottom)\n",
    "            )\n",
    "            \n",
    "            cropped_image = image.crop(crop_box)\n",
    "            display(cropped_image)\n",
    "\n",
    "# Apply cropping to all frames\n",
    "def apply_cropping_to_all(b):\n",
    "    for i in range(len(stored_images)):\n",
    "        image = stored_images[i]\n",
    "        left = crop_left.value\n",
    "        top = crop_top.value\n",
    "        right = crop_right.value\n",
    "        bottom = crop_bottom.value\n",
    "\n",
    "        # Ensure crop values are valid\n",
    "        crop_box = (\n",
    "            min(left, image.width - 1),\n",
    "            min(top, image.height - 1),\n",
    "            max(left + 1, image.width - right),\n",
    "            max(top + 1, image.height - bottom)\n",
    "        )\n",
    "\n",
    "        stored_images[i] = image.crop(crop_box)\n",
    "    with output_widget:\n",
    "        print(\"Video Cropped.\")\n",
    "\n",
    "    #display_images()\n",
    "apply_all_button.on_click(apply_cropping_to_all)\n",
    "\n",
    "# Observe changes in sliders\n",
    "crop_left.observe(display_images, 'value')\n",
    "crop_right.observe(display_images, 'value')\n",
    "crop_top.observe(display_images, 'value')\n",
    "crop_bottom.observe(display_images, 'value')\n",
    "image_slider.observe(display_images, 'value')\n",
    "\n",
    "# Display initial setup\n",
    "ui = widgets.VBox([ image_slider, crop_left, crop_right, crop_top, crop_bottom, apply_all_button, output])\n",
    "display(ui)\n",
    "\n",
    "# Initial display\n",
    "display_images()\n"
   ]
  },
  {
   "cell_type": "markdown",
   "id": "23100303",
   "metadata": {},
   "source": [
    "### <font color = '#646464'>Filter out colors</font>\n",
    "\n",
    "To remove any background noise associated with room temperature in the data, filter out temperatures to ensure they fall between **10°C and 160°C**.\r\n"
   ]
  },
  {
   "cell_type": "code",
   "execution_count": null,
   "id": "397e2e3e",
   "metadata": {
    "has_explanation": false,
    "jupyter": {
     "source_hidden": true
    }
   },
   "outputs": [],
   "source": [
    "import numpy as np\n",
    "import matplotlib.pyplot as plt\n",
    "from ipywidgets import interact, IntSlider, FloatRangeSlider, Button, VBox, HBox\n",
    "from PIL import Image\n",
    "import matplotlib.cm as cm\n",
    "from IPython.display import display\n",
    "import ipywidgets as widgets\n",
    "\n",
    "output_widget = widgets.Output()\n",
    "\n",
    "# Function to convert PIL images to numpy arrays\n",
    "def pil_to_array(image):\n",
    "    return np.array(image)\n",
    "\n",
    "# Function to display filtered temperature data for a single frame\n",
    "def display_filtered_image(frame_idx, temp_range):\n",
    "    image = stored_images[frame_idx]\n",
    "    filtered_data = filter_image(image, temp_range)\n",
    "    plt.figure(figsize=(10, 6))\n",
    "    plt.imshow(filtered_data, cmap='inferno', vmin=lowest, vmax=highest)\n",
    "    plt.colorbar(label='Temperature (C)')\n",
    "    plt.title(f'Frame {frame_idx + 1} - Temperature Range {temp_range}C')\n",
    "    plt.axis('off')\n",
    "    plt.show()\n",
    "\n",
    "# Function to filter an image based on temperature range\n",
    "def filter_image(image, temp_range):\n",
    "    data = pil_to_array(image)\n",
    "    # Convert RGB image to grayscale (assuming temperature data is encoded in color)\n",
    "    if data.ndim == 3:  # Check if the image has color channels\n",
    "        data = data[:, :, 0] * 0.299 + data[:, :, 1] * 0.587 + data[:, :, 2] * 0.114\n",
    "\n",
    "    # Normalize data back to the original temperature range\n",
    "    min_temp, max_temp = 20, 160\n",
    "    normalized_data = min_temp + (max_temp - min_temp) * (data - data.min()) / (data.max() - data.min())\n",
    "\n",
    "    # Create a masked array where values outside the range are set to NaN\n",
    "    filtered_data = np.where((normalized_data >= temp_range[0]) & (normalized_data <= temp_range[1]), normalized_data, np.nan)\n",
    "    return filtered_data\n",
    "\n",
    "# Function to apply filtering on all frames and store the results\n",
    "def apply_all_frames(_):\n",
    "    global filtered_images\n",
    "    temp_range = temp_slider.value\n",
    "    output_widget.clear_output()\n",
    "    with output_widget:\n",
    "        print(\"Processing all frames, please wait...\")\n",
    "    \n",
    "    filtered_images = [filter_image(image, temp_range) for image in stored_images]\n",
    "\n",
    "    output_widget.clear_output()\n",
    "    with output_widget:\n",
    "        print(\"Filtering applied to all frames.\")\n",
    "\n",
    "# Create interactive widgets\n",
    "frame_slider = IntSlider(value=0, min=0, max=len(stored_images) - 1, step=1, description='Frame', layout={'width': '500px'}, style={'description_width': '100px'})\n",
    "temp_slider = FloatRangeSlider(value=[0, 160], min=0, max=160, step=1, description='Temp Range', layout={'width': '500px'}, style={'description_width': '100px'})\n",
    "apply_all_button = Button(description='Apply All', layout={'width': '100px'}, style={'description_width': '100px'})\n",
    "\n",
    "# Link the \"Apply All\" button with the apply_all_frames function\n",
    "apply_all_button.on_click(apply_all_frames)\n",
    "\n",
    "# Create a layout for widgets\n",
    "ui = VBox([apply_all_button, output_widget])\n",
    "\n",
    "# Link the display function with the widgets\n",
    "interact(display_filtered_image, frame_idx=frame_slider, temp_range=temp_slider)\n",
    "display(ui)\n"
   ]
  },
  {
   "cell_type": "markdown",
   "id": "4f60e323",
   "metadata": {},
   "source": [
    "### <font color = '#646464'>Specify Extraction Points</font>\n",
    "In the following steps, we will specify the points at which we will be collecting the thermal data. Move the **X** and **Y** coordinates until the crosshair is positioned on the bead that is about to be deposited. To move the crosshair to the right, **increase the X coordinate**, and to move it downward, **increase the Y coordinate**. This will ensure that the data is collected at the correct location on the printed bead.\r\n"
   ]
  },
  {
   "cell_type": "code",
   "execution_count": null,
   "id": "866f43bd",
   "metadata": {
    "has_explanation": false
   },
   "outputs": [],
   "source": [
    "#Initialize temperature data array\n",
    "data = []\n",
    "import numpy as np\n",
    "from PIL import Image, ImageDraw\n",
    "import io\n",
    "import matplotlib.cm as cm\n",
    "from ipywidgets import interact, IntSlider, VBox, HBox, Output, HTML, IntText, Image as ImageWidget\n",
    "from IPython.display import display\n",
    "\n",
    "# Function to convert numpy array to PNG image bytes with a marker\n",
    "def array_to_png_with_marker(data, x, y, cmap=cm.inferno, vmin=20, vmax=160):\n",
    "    normed_data = (data - vmin) / (vmax - vmin)\n",
    "    normed_data = np.clip(normed_data, 0, 1)  # Ensure data is within [0, 1] for colormap\n",
    "    colored_data = cmap(normed_data)  # Apply colormap\n",
    "    image = (colored_data[:, :, :3] * 255).astype(np.uint8)  # Convert to RGB\n",
    "    pil_img = Image.fromarray(image)\n",
    "    \n",
    "    # Draw grid around the image\n",
    "    draw = ImageDraw.Draw(pil_img)\n",
    "    grid_color = (100, 100, 100)  # Gray color for the grid lines\n",
    "    for i in range(0, pil_img.width, 100):\n",
    "        draw.line([(i, 0), (i, pil_img.height)], fill=grid_color, width=1)\n",
    "    for j in range(0, pil_img.height, 100):\n",
    "        draw.line([(0, j), (pil_img.width, j)], fill=grid_color, width=1)\n",
    "    \n",
    "    # Draw cross marker\n",
    "    marker_color = (0, 255, 0)  # Bright white color for the marker\n",
    "    marker_size = 25  # Size of the cross marker\n",
    "    draw.line([(x - marker_size, y), (x + marker_size, y)], fill=marker_color, width=3)\n",
    "    draw.line([(x, y - marker_size), (x, y + marker_size)], fill=marker_color, width=3)\n",
    "    \n",
    "    with io.BytesIO() as output:\n",
    "        pil_img.save(output, format='PNG')\n",
    "        return output.getvalue()\n",
    "\n",
    "\n",
    "# Create widgets for displaying temperature information\n",
    "temperature_display = HTML(value=\"Select coordinates to see the temperature of the pixel.\")\n",
    "x_coord = IntText(value=645, description='X:', layout={'width': '200px'}, style={'description_width': '100px'})\n",
    "y_coord = IntText(value=465, description='Y:', layout={'width': '200px'}, style={'description_width': '100px'})\n",
    "output_widget = Output()\n",
    "\n",
    "# Image widget to display the image\n",
    "image_widget = ImageWidget(layout={'width': '50%'})\n",
    "\n",
    "# Function to display the image in the ImageWidget with a marker\n",
    "def update_image_widget(frame_idx):\n",
    "    if not filtered_images:\n",
    "        image_widget.value = b\"\"\n",
    "        temperature_display.value = \"No filtered images to display.\"\n",
    "        return\n",
    "    \n",
    "    filtered_data = filtered_images[frame_idx]\n",
    "    x = x_coord.value\n",
    "    y = y_coord.value\n",
    "    \n",
    "    # Ensure coordinates are within bounds before adding marker\n",
    "    if 0 <= x < filtered_data.shape[1] and 0 <= y < filtered_data.shape[0]:\n",
    "        png_data = array_to_png_with_marker(filtered_data, x, y)\n",
    "    else:\n",
    "        png_data = array_to_png(filtered_data)\n",
    "    \n",
    "    image_widget.value = png_data\n",
    "\n",
    "# Function to update the temperature display based on selected coordinates\n",
    "def update_temperature_display(*args):\n",
    "    if not filtered_images:\n",
    "        temperature_display.value = \"No filtered images to display.\"\n",
    "        return\n",
    "    \n",
    "    frame_idx = frame_slider.value\n",
    "    filtered_data = filtered_images[frame_idx]\n",
    "    \n",
    "    x = x_coord.value\n",
    "    y = y_coord.value\n",
    "    \n",
    "    # Ensure coordinates are within bounds\n",
    "    if 0 <= x < filtered_data.shape[1] and 0 <= y < filtered_data.shape[0]:\n",
    "        temp = filtered_data[y, x]\n",
    "        temperature_display.value = f\"Selected Pixel: ({x}, {y})<br>Temperature: {temp:.2f}°C\"\n",
    "        # Update the image with the marker\n",
    "        update_image_widget(frame_idx)\n",
    "    else:\n",
    "        temperature_display.value = \"Coordinates are out of bounds.\"\n",
    "\n",
    "# Create an interactive slider to select frames\n",
    "frame_slider = IntSlider(value=0, min=0, max=len(filtered_images) - 1, step=1, description='Frame', layout={'width': '500px'}, style={'description_width': '100px'})\n",
    "\n",
    "# Link the coordinate selectors to update the temperature display\n",
    "x_coord.observe(update_temperature_display, names='value')\n",
    "y_coord.observe(update_temperature_display, names='value')\n",
    "frame_slider.observe(lambda change: update_image_widget(change['new']), names='value')\n",
    "\n",
    "# Initial image display\n",
    "update_image_widget(frame_slider.value)\n",
    "\n",
    "# Create a layout for the widgets\n",
    "ui = VBox([frame_slider, HBox([x_coord, y_coord]), temperature_display, image_widget])\n",
    "\n",
    "# Display the UI\n",
    "display(ui)\n"
   ]
  },
  {
   "cell_type": "markdown",
   "id": "a0097119",
   "metadata": {},
   "source": [
    "### <font color = '#646464'>Display Temperature Values</font>\r\n",
    "\r\n",
    "Make sure to run this step after selecting a set of coordinates where the data will be collected. Once the crosshair is positioned on the desired point, the temperature values at that location will be displayed, allowing you to analyze the thermal data at the specified coordinate.\r\n"
   ]
  },
  {
   "cell_type": "code",
   "execution_count": null,
   "id": "3c608cea",
   "metadata": {
    "has_explanation": false,
    "jupyter": {
     "source_hidden": true
    }
   },
   "outputs": [],
   "source": [
    "import pandas as pd\n",
    "# Function to extract temperatures for a specific pixel (x, y) across all frames\n",
    "def extract_pixel_temperatures(x, y, filtered_data):\n",
    "    for frame_idx, frame_data in enumerate(filtered_data):\n",
    "        if 0 <= x < frame_data.shape[1] and 0 <= y < frame_data.shape[0]:\n",
    "            temperature = frame_data[y, x]\n",
    "            data.append((x, y, frame_idx, temperature))\n",
    "    return data\n",
    "x = x_coord.value\n",
    "y = y_coord.value\n",
    "pixel_temperatures = extract_pixel_temperatures(x, y, filtered_images)\n",
    "\n",
    "# Display the results in a DataFrame\n",
    "df = pd.DataFrame(pixel_temperatures, columns=['X', 'Y', 'Frame Number', 'Temperature'])\n",
    "\n",
    "# Display the DataFrame\n",
    "df\n"
   ]
  },
  {
   "cell_type": "markdown",
   "id": "b38a18b1",
   "metadata": {},
   "source": [
    "### <font color = '#646464'>Plot Temperature Values</font>"
   ]
  },
  {
   "cell_type": "code",
   "execution_count": null,
   "id": "833d0168",
   "metadata": {
    "has_explanation": false,
    "jupyter": {
     "source_hidden": true
    }
   },
   "outputs": [],
   "source": [
    "import matplotlib.pyplot as plt\n",
    "import ipywidgets as widgets\n",
    "from IPython.display import display, clear_output\n",
    "\n",
    "# Define the function to plot based on user input\n",
    "def plot_temperature(x_value, y_value):\n",
    "    plt.figure(figsize=(8, 6))  # Adjust figure size as needed\n",
    "    plt.plot(df.loc[(df['X'] == x_value) & (df['Y'] == y_value), \"Temperature\"])\n",
    "    plt.xlabel('Index')  # Adjust as needed\n",
    "    plt.ylabel('Temperature')  # Adjust as needed\n",
    "    plt.title(f'Temperature Plot for X={x_value}, Y={y_value}')\n",
    "    plt.grid(True)\n",
    "    plt.savefig('temp.png')\n",
    "    plt.show()\n",
    "    #plt.savefig('temp.png')\n",
    "\n",
    "# Create ipywidgets for user input\n",
    "x_widget = widgets.Text(description='X:')\n",
    "y_widget = widgets.Text(description='Y:')\n",
    "button = widgets.Button(description=\"Plot\")\n",
    "output_widget = widgets.Output()\n",
    "\n",
    "# Define a function to update the output widget with the plot\n",
    "def on_button_clicked(b):\n",
    "    with output_widget:\n",
    "        clear_output()  # Clear previous output\n",
    "        try:\n",
    "            x_value = int(x_widget.value)  # Assuming X is numeric\n",
    "            y_value = int(y_widget.value)  # Assuming Y is numeric\n",
    "            plot_temperature(x_value, y_value)\n",
    "        except ValueError:\n",
    "            print(\"Please enter valid numeric values for X and Y.\")\n",
    "\n",
    "# Attach the button click event to the function\n",
    "button.on_click(on_button_clicked)\n",
    "\n",
    "# Display the widgets and output\n",
    "display(widgets.HBox([x_widget, y_widget, button]))\n",
    "display(output_widget)\n"
   ]
  },
  {
   "cell_type": "markdown",
   "id": "ca116dd6",
   "metadata": {},
   "source": [
    "## 4.2 Thermal Modeling: Convection, Conduction, and Radiation\n",
    "\n",
    "The thermal curve you are observing in the data is the result of a complex interplay between three primary modes of heat transfer: **convection**, **conduction**, and **radiation**. Each of these mechanisms contributes differently to the observed temperature changes over time, and understanding their contributions can offer valuable insights into the behavior of the material and the printing process. Below, we break down the roles of each heat transfer mode in the thermal curve and discuss their influence on the temperature profile, with accompanying model equations.\n",
    "\n",
    "#### Convection\n",
    "\n",
    "Convection is the transfer of heat between a solid surface and a fluid (in this case, the surrounding air), caused by the movement of the fluid. When you observe the thermal curve decreasing in temperature, it is primarily due to **convection**. As the printed part begins to cool down, the heat is transferred to the surrounding air through the boundary layer adjacent to the surface of the part. \n",
    "\n",
    "The rate of heat transfer due to convection can be described using **Newton’s Law of Cooling**:\n",
    "\n",
    "$$\n",
    "Q = hA(T_s - T_\\infty)\n",
    "$$\n",
    "\n",
    "Where:\n",
    "- $ Q$ is the rate of heat transfer (W)\n",
    "- $ h$ is the convective heat transfer coefficient (W/m²·K)\n",
    "- $ A$ is the surface area (m²) of the object (in this case, the printed part)\n",
    "- $ T_s$ is the surface temperature of the part (K)\n",
    "- $ T_\\infty$ is the ambient temperature of the surrounding air (K)\n",
    "\n",
    "In this scenario, as the printed part cools down, the temperature difference between the surface and the room temperature decreases, reducing the heat transfer rate. This is why the thermal curve you observe shows a decrease in temperature as convection gradually takes place. The **ambient room temperature** plays a significant role in this process. The thermal energy dissipates through convection as the temperature of the part approaches the ambient temperature of the room.\n",
    "\n",
    "#### Conduction\n",
    "\n",
    "Conduction is the transfer of heat through a material, occurring from the hotter region to the cooler region within the object. In the case of 3D printing, **conduction** occurs primarily within the layers of the material as the hot filament deposits onto the cooler layers below. This process leads to a **sudden increase in temperature**, which is captured in the thermal curve as a sharp rise in temperature.\n",
    "\n",
    "The heat transfer due to conduction can be modeled by **Fourier’s Law of Heat Conduction**:\n",
    "\n",
    "$$\n",
    "Q = -kA \\frac{dT}{dx}\n",
    "$$\n",
    "\n",
    "Where:\n",
    "- $ Q$ is the rate of heat transfer (W)\n",
    "- $ k$ is the thermal conductivity of the material (W/m·K)\n",
    "- $ A$ is the cross-sectional area through which heat is conducted (m²)\n",
    "- $ \\frac{dT}{dx}$ is the temperature gradient (K/m) within the material\n",
    "\n",
    "During the deposition of the upper layer in the 3D printing process, the heat from the molten filament is transferred to the cooler underlying layers. The rate of temperature change in these layers depends on the **thermal conductivity** of the material. PLA, for example, has a certain conductivity that dictates how quickly heat spreads through the material. When the temperature of the upper layer reaches a certain threshold, the heat is rapidly conducted to the layers beneath, resulting in a sharp rise in the thermal curve.\n",
    "\n",
    "#### Radiation\n",
    "\n",
    "Radiation is the transfer of heat through electromagnetic waves, typically in the infrared spectrum, and does not require a medium (i.e., it can occur in a vacuum). In the 3D printing process, radiation plays a smaller but still important role in heat transfer. The molten filament and the printed part radiate thermal energy to the surrounding environment. The amount of heat radiated can be described by the **Stefan-Boltzmann Law**:\n",
    "\n",
    "$$\n",
    "Q = \\sigma \\epsilon A (T^4 - T_0^4)\n",
    "$$\n",
    "\n",
    "Where:\n",
    "- $ Q$ is the heat radiated per unit time (W)\n",
    "- $ \\sigma$ is the Stefan-Boltzmann constant ($ 5.67 \\times 10^{-8} \\, \\text{W/m}^2 \\cdot \\text{K}^4$)\n",
    "- $ \\epsilon$ is the emissivity of the surface (a measure of how efficiently the surface radiates energy)\n",
    "- $ A$ is the surface area (m²)\n",
    "- $ T$ is the absolute temperature of the object (K)\n",
    "- $ T_0$ is the absolute temperature of the surrounding environment (K)\n",
    "\n",
    "As the printed part heats up, it begins radiating energy into the surrounding environment, which causes some of the thermal energy to be lost. While radiation is less significant compared to conduction and convection in this scenario, it still contributes to the overall cooling process, especially as the part cools down and the temperature difference between the part and the environment increases.\n",
    "\n",
    "#### Analysis\n",
    "\n",
    "The observed thermal curve is the combined result of all three modes of heat transfer: convection, conduction, and radiation. The **decrease in temperature** is primarily driven by convection, as the part loses heat to the surrounding air and approaches room temperature. The **sudden increase in temperature** is mainly due to conduction, as heat is transferred to the layers beneath the deposited filament, caused by the conductivity of the material. While radiation also plays a role in dissipating heat, its effect is comparatively smaller but still contributes to the cooling of the part.\n",
    "\n",
    "By understanding these heat transfer mechanisms, we can better model the thermal behavior of the printed part, optimize printing parameters, and prevent issues such as warping, cracking, or poor layer adhesion. The mathematical models provided by convection, conduction, and radiation equations help us quantify and predict these thermal effects, offering insights into the performance and quality of the 3D printed parts."
   ]
  },
  {
   "cell_type": "code",
   "execution_count": null,
   "id": "c5585e10",
   "metadata": {
    "has_explanation": false
   },
   "outputs": [],
   "source": [
    "import ipywidgets as widgets\n",
    "from IPython.display import display, Video, clear_output\n",
    "waiting_widget = widgets.HTML(value=\"<span style='color: orange;'>🟧 Code Running Please Wait ...</span>\")\n",
    "display(waiting_widget)\n",
    "\n",
    "clear_output(wait=True)\n",
    "display(Video(\"Module 4 Content/Simulation Video.mp4\" , embed=True,  width=640, height=480))"
   ]
  },
  {
   "cell_type": "markdown",
   "id": "ad34fe99",
   "metadata": {},
   "source": [
    "<center>\n",
    "  <img src=\"Module 4 Content/fitting.svg\" alt=\"Quantitative vs Qualitative Data\" width=\"500\"/>\n",
    "</center>"
   ]
  },
  {
   "cell_type": "markdown",
   "id": "e0d18eb2",
   "metadata": {},
   "source": [
    "The current thermal model does not perfectly align with the experimental data due to the variability in material properties and environmental conditions. Parameters such as thermal conductivity, convective heat transfer coefficient, and surface emissivity can significantly influence the thermal behavior, and these values may differ from theoretical or assumed constants. As a result, discrepancies arise between the simulated and observed thermal curves. To improve the accuracy of the model and achieve a better fit with the experimental data, an optimization process is necessary."
   ]
  },
  {
   "cell_type": "markdown",
   "id": "c33928d0",
   "metadata": {
    "tags": [
     "Bottom Navigation"
    ]
   },
   "source": [
    "### <center>[◀︎ Module 3](Module3.ipynb)     [🏠 Home](../../welcomePage.ipynb)     [Module 5 ▶︎](Module5.ipynb)</center>"
   ]
  }
 ],
 "metadata": {
  "kernelspec": {
   "display_name": "Python 3 (ipykernel)",
   "language": "python",
   "name": "python3"
  },
  "language_info": {
   "codemirror_mode": {
    "name": "ipython",
    "version": 3
   },
   "file_extension": ".py",
   "mimetype": "text/x-python",
   "name": "python",
   "nbconvert_exporter": "python",
   "pygments_lexer": "ipython3",
   "version": "3.12.3"
  },
  "widgets": {
   "application/vnd.jupyter.widget-state+json": {
    "state": {
     "00ba67d97479429286d0918e1e197224": {
      "model_module": "@jupyter-widgets/controls",
      "model_module_version": "2.0.0",
      "model_name": "DescriptionStyleModel",
      "state": {
       "description_width": ""
      }
     },
     "01621f87dd664c4e87a9dc0299dfd0e3": {
      "model_module": "@jupyter-widgets/output",
      "model_module_version": "1.0.0",
      "model_name": "OutputModel",
      "state": {
       "layout": "IPY_MODEL_836d6213e1034c4dad980fe62b54a926",
       "outputs": [
        {
         "name": "stdout",
         "output_type": "stream",
         "text": "Video file 'Thermal Video.mp4' selected.\n"
        }
       ]
      }
     },
     "046812fe2d274102afc082f323bc1f52": {
      "model_module": "@jupyter-widgets/base",
      "model_module_version": "2.0.0",
      "model_name": "LayoutModel",
      "state": {}
     },
     "1515aaa7a3324d188a2c1e7c123eef09": {
      "model_module": "@jupyter-widgets/controls",
      "model_module_version": "2.0.0",
      "model_name": "TextStyleModel",
      "state": {
       "description_width": "200px",
       "font_size": null,
       "text_color": null
      }
     },
     "26f3aa8c9df74fd292d4646de04a5616": {
      "model_module": "@jupyter-widgets/controls",
      "model_module_version": "2.0.0",
      "model_name": "TextStyleModel",
      "state": {
       "description_width": "200px",
       "font_size": null,
       "text_color": null
      }
     },
     "2eb13f42db564077967c74ab97dd647b": {
      "model_module": "@jupyter-widgets/controls",
      "model_module_version": "2.0.0",
      "model_name": "ButtonStyleModel",
      "state": {
       "font_family": null,
       "font_size": null,
       "font_style": null,
       "font_variant": null,
       "font_weight": null,
       "text_color": null,
       "text_decoration": null
      }
     },
     "5888196c53ca43a598a223b6aca8940b": {
      "model_module": "@jupyter-widgets/controls",
      "model_module_version": "2.0.0",
      "model_name": "ButtonModel",
      "state": {
       "description": "Set Variables",
       "layout": "IPY_MODEL_046812fe2d274102afc082f323bc1f52",
       "style": "IPY_MODEL_2eb13f42db564077967c74ab97dd647b",
       "tooltip": null
      }
     },
     "5b4d9afde3674421b5a648f92a0e31ab": {
      "model_module": "@jupyter-widgets/controls",
      "model_module_version": "2.0.0",
      "model_name": "ButtonStyleModel",
      "state": {
       "font_family": null,
       "font_size": null,
       "font_style": null,
       "font_variant": null,
       "font_weight": null,
       "text_color": null,
       "text_decoration": null
      }
     },
     "6ebd87a369b54d549a875940ee7e7bd8": {
      "model_module": "@jupyter-widgets/controls",
      "model_module_version": "2.0.0",
      "model_name": "TextModel",
      "state": {
       "description": "Lowest Temperature:",
       "layout": "IPY_MODEL_9c1e1a821ca342458af0d52fb33caa27",
       "style": "IPY_MODEL_26f3aa8c9df74fd292d4646de04a5616"
      }
     },
     "78471191715b4b4ebe064e5dbee86eca": {
      "model_module": "@jupyter-widgets/controls",
      "model_module_version": "2.0.0",
      "model_name": "DropdownModel",
      "state": {
       "_options_labels": [
        "Thermal Video.mp4"
       ],
       "description": "Video Files:",
       "index": 0,
       "layout": "IPY_MODEL_d7a6e931fb044155b3d37ea77f78f406",
       "style": "IPY_MODEL_00ba67d97479429286d0918e1e197224"
      }
     },
     "836d6213e1034c4dad980fe62b54a926": {
      "model_module": "@jupyter-widgets/base",
      "model_module_version": "2.0.0",
      "model_name": "LayoutModel",
      "state": {}
     },
     "953b5a41013a4cf4869537ced705b303": {
      "model_module": "@jupyter-widgets/base",
      "model_module_version": "2.0.0",
      "model_name": "LayoutModel",
      "state": {}
     },
     "9c1e1a821ca342458af0d52fb33caa27": {
      "model_module": "@jupyter-widgets/base",
      "model_module_version": "2.0.0",
      "model_name": "LayoutModel",
      "state": {
       "width": "300px"
      }
     },
     "9e164be343814a4995ff28a026549d02": {
      "model_module": "@jupyter-widgets/base",
      "model_module_version": "2.0.0",
      "model_name": "LayoutModel",
      "state": {}
     },
     "c23fbdcaabb44691856d7bcb16710d9f": {
      "model_module": "@jupyter-widgets/controls",
      "model_module_version": "2.0.0",
      "model_name": "ButtonModel",
      "state": {
       "description": "Select",
       "icon": "check",
       "layout": "IPY_MODEL_9e164be343814a4995ff28a026549d02",
       "style": "IPY_MODEL_5b4d9afde3674421b5a648f92a0e31ab",
       "tooltip": "Click to select video file"
      }
     },
     "d7a6e931fb044155b3d37ea77f78f406": {
      "model_module": "@jupyter-widgets/base",
      "model_module_version": "2.0.0",
      "model_name": "LayoutModel",
      "state": {}
     },
     "de3b951371f34e319551212ce41af3b9": {
      "model_module": "@jupyter-widgets/base",
      "model_module_version": "2.0.0",
      "model_name": "LayoutModel",
      "state": {
       "width": "300px"
      }
     },
     "f0b0fc5db639464fbe813129ea2d8f51": {
      "model_module": "@jupyter-widgets/output",
      "model_module_version": "1.0.0",
      "model_name": "OutputModel",
      "state": {
       "layout": "IPY_MODEL_953b5a41013a4cf4869537ced705b303"
      }
     },
     "f18c853de14241ff9e85dcc51e7d678b": {
      "model_module": "@jupyter-widgets/controls",
      "model_module_version": "2.0.0",
      "model_name": "TextModel",
      "state": {
       "description": "Highest Temperature:",
       "layout": "IPY_MODEL_de3b951371f34e319551212ce41af3b9",
       "style": "IPY_MODEL_1515aaa7a3324d188a2c1e7c123eef09"
      }
     }
    },
    "version_major": 2,
    "version_minor": 0
   }
  }
 },
 "nbformat": 4,
 "nbformat_minor": 5
}
