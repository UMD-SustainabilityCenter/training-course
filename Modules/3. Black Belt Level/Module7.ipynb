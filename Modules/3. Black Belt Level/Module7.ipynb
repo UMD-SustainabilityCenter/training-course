{
 "cells": [
  {
   "cell_type": "markdown",
   "id": "d4c0cb21",
   "metadata": {
    "tags": [
     "auto-generated-toc"
    ]
   },
   "source": [
    "## Table of Contents\n",
    "- [B7 Digital Engineering Practice](#B7-Digital-Engineering-Practice)\n",
    "  - [7.1 User Stories](#7.1-User-Stories)\n",
    "- [🏠 Home](../../welcomePage.ipynb)"
   ]
  },
  {
   "cell_type": "markdown",
   "id": "12877d34",
   "metadata": {},
   "source": [
    "# B7 Digital Engineering Practice\n",
    "\n",
    "## Practice Modules\n",
    "#####  3.1. Aerotech Data Collection Platform\n",
    "\n",
    "- [Aerotech Data Collection](../../Modules/Examples/3.%20Advanced%20Topics/3.1.%20Aerotech%20Data%20Collection%20Platform/Aerotech%20Data%20Collection.ipynb)\n",
    "\n",
    "#####  3.2. Material Properties Finite Element Analysis\n",
    "\n",
    "- [Material Properties FEA](../../Modules/Examples/3.%20Advanced%20Topics/3.2.%20Material%20Properties%20Finite%20Element%20Analysis/Material%20Properties%20FEA.ipynb)\n",
    "\n",
    "#####  3.3. Sensor Fusion Processing\n",
    "\n",
    "- [Sensor Fusion Processing](../../Modules/Examples/3.%20Advanced%20Topics/3.3.%20Sensor%20Fusion%20Processing/Sensor%20Fusion%20Processing.ipynb)\n",
    "\n",
    "\n",
    "#####  3.4. Process Mapping Systems\n",
    "\n",
    "- [Process Mapping Systems](../../Modules/Examples/3.%20Advanced%20Topics/3.4.%20Process%20Mapping%20Systems/Process%20Mapping%20Systems.ipynb)"
   ]
  },
  {
   "cell_type": "markdown",
   "id": "29f8c748",
   "metadata": {
    "tags": [
     "Bottom Navigation"
    ]
   },
   "source": [
    "### <center>[◀︎ Module 6](Module6.ipynb)     [🏠 Home](../../welcomePage.ipynb)     [Module 8 ▶︎](Module8.ipynb)</center>"
   ]
  }
 ],
 "metadata": {
  "kernelspec": {
   "display_name": "Python 3 (ipykernel)",
   "language": "python",
   "name": "python3"
  },
  "language_info": {
   "codemirror_mode": {
    "name": "ipython",
    "version": 3
   },
   "file_extension": ".py",
   "mimetype": "text/x-python",
   "name": "python",
   "nbconvert_exporter": "python",
   "pygments_lexer": "ipython3",
   "version": "3.12.3"
  }
 },
 "nbformat": 4,
 "nbformat_minor": 5
}
