{
 "cells": [
  {
   "cell_type": "markdown",
   "id": "2ce17a5c",
   "metadata": {
    "tags": [
     "auto-generated-toc"
    ]
   },
   "source": [
    "## Table of Contents\n",
    "\n",
    "- [B7 Digital Engineering Practice](#B7-Digital-Engineering-Practice)\n",
    "  - [7.1 User Stories:](#7.1-User-Stories%3A)\n",
    "- [🏠 Home](../../welcomePage.ipynb)"
   ]
  },
  {
   "cell_type": "markdown",
   "id": "6cc8f19d-2505-499c-88be-76574f424ce7",
   "metadata": {},
   "source": [
    "# B7 Digital Engineering Practice\n",
    "\n",
    "## 7.1 User Stories:\n",
    "\n",
    "- Hybrid Additive/Subtractive Process - Closed loop hybrid additive/subtractive process enabled by in situ IoT 3D scanner\n",
    "\n",
    "- Chatter and Vibration Detection for 5-axis Milling - In situ sensor selection\n",
    "\n",
    "- [Sensor Fusion Processing](../../Modules/Examples/3.%20Advanced%20Topics/3.3.%20Sensor%20Fusion%20Processing/Sensor%20Fusion%20Processing.ipynb) - Selective laser melting (SLM) combines acoustic and photodiode signals for improved in-situ quality monitoring, significantly enhancing metal manufacturing reliability and precision through advanced sensor data analysis.\n",
    "\n",
    "- [Predictive Maintenance Module](\n",
    "../../Modules/Examples/2.%20Learning%20Modules/2.2.%20Predictive%20Maintenance%20Module/Predictive%20Maintenance%20Module.ipynb) - Predictive maintenance is a prospective approach to maintenance that predicts equipment failures before they occur, minimizing downtime and maximizing productivity. Predictive maintenance models can identify patterns indicative of potential issues by analyzing historical data, such as sensor measurements and equipment performance. This allows maintenance teams to schedule repairs or replacements in advance, reducing costs associated with unplanned downtime and improving overall operational efficiency.\n",
    "\n",
    "<center>\n",
    "    <img src=\"../../img/PredictiveMaintenance.jpg\" alt=\"Alt text\" width=\"600\">\n",
    "</center>"
   ]
  },
  {
   "cell_type": "markdown",
   "id": "2ab76ec5",
   "metadata": {
    "tags": [
     "Bottom Navigation"
    ]
   },
   "source": [
    "### <center>[◀︎ Module 6](Module6.ipynb)     [🏠 Home](../../welcomePage.ipynb)     [Module 8 ▶︎](Module8.ipynb)</center>"
   ]
  }
 ],
 "metadata": {
  "kernelspec": {
   "display_name": "Python 3 (ipykernel)",
   "language": "python",
   "name": "python3"
  },
  "language_info": {
   "codemirror_mode": {
    "name": "ipython",
    "version": 3
   },
   "file_extension": ".py",
   "mimetype": "text/x-python",
   "name": "python",
   "nbconvert_exporter": "python",
   "pygments_lexer": "ipython3",
   "version": "3.12.3"
  }
 },
 "nbformat": 4,
 "nbformat_minor": 5
}
