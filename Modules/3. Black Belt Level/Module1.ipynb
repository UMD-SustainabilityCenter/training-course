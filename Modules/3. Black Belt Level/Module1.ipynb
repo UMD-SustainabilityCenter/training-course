{
 "cells": [
  {
   "cell_type": "markdown",
   "id": "16e70249-e690-49a1-a675-c39c047696b6",
   "metadata": {},
   "source": [
    "## Table of Contents\n",
    "* [Module 1: Data](#Module-1:-Data)\n",
    "    * [Concepts](#Concepts:)\n",
    "    * [User Stories](#User-Stories:)\n",
    "        * [Polymer 3D Printer](3.%20Advanced%20Topics/3.1.%20Aerotech%20Data%20Collection%20Platform/Aerotech%20Data%20Collection.ipynb)\n",
    "    * [Summary Data](#Summary-Data:)\n",
    "    * [Assessment](#Assessment:)\n",
    "        * [Take a quiz](http://example.com/quiz)\n",
    "#### [🏠 Home](../../welcomePage.ipynb)"
   ]
  },
  {
   "cell_type": "markdown",
   "id": "96b967f0-021d-493b-b49d-657d5b571cf1",
   "metadata": {},
   "source": [
    "# Black Belt: Advanced Preprocessing for Specialized Data\n",
    "\n",
    "## Objective:\n",
    "Equip learners with advanced knowledge of preprocessing techniques for time-series and image data. Focus on conceptual understanding with illustrative workflows.\n",
    "\n",
    "---\n",
    "\n",
    "## Topics to Discuss\n",
    "\n",
    "### 1. Advanced Data Exploration and Cleaning\n",
    "- Exploring semi-structured data (e.g., JSON logs).\n",
    "- Detecting and handling complex outliers:\n",
    "  - Statistical methods (IQR, Z-scores).\n",
    "  - Visualization tools (scatter plots, boxplots).\n",
    "- Conceptual overview of cleaning workflows.\n",
    "\n",
    "---\n",
    "\n",
    "### 2. Time-Series Data Preprocessing\n",
    "- Characteristics of time-series data:\n",
    "  - Trends, seasonality, noise.\n",
    "- Conceptual explanation of resampling and interpolation techniques:\n",
    "  - Filling gaps with domain knowledge (e.g., forward-fill, interpolation).\n",
    "- Feature extraction for engineering:\n",
    "  - Lagged features, rolling averages.\n",
    "- Decomposition of trends and seasonality (`statsmodels`).\n",
    "\n",
    "---\n",
    "\n",
    "### 3. Image Data Preprocessing\n",
    "- Relevance of image data in engineering (e.g., defect detection).\n",
    "- Conceptual workflows for image normalization:\n",
    "  - Rescaling pixel values to [0, 1] or [-1, 1].\n",
    "- Conceptual explanation of augmentation techniques:\n",
    "  - Rotation, flipping, cropping.\n",
    "\n",
    "---\n",
    "\n",
    "### 4. IoT Sensor Data Pipeline (Conceptual)\n",
    "- Conceptual overview of an IoT preprocessing pipeline:\n",
    "  - Cleaning (missing data, outliers).\n",
    "  - Resampling and feature extraction.\n",
    "- Discussing how processed data can be prepared for analysis.\n",
    "\n",
    "---\n",
    "\n",
    "### 5. Capstone Project\n",
    "- **Objective**: Design a preprocessing plan for a combined dataset (time-series + images).\n",
    "- **Tasks**:\n",
    "  - Discuss steps to preprocess time-series data (handle gaps, extract features).\n",
    "  - Conceptual explanation of normalizing and augmenting image data.\n",
    "- Deliverables focus on conceptual workflows and a structured plan.\n"
   ]
  },
  {
   "cell_type": "markdown",
   "id": "9d52652c-3333-4a54-8904-4d331ccda1fa",
   "metadata": {},
   "source": [
    "### <center>[◀︎ Introduction](../introToDE.ipynb)     [🏠 Home](../../welcomePage.ipynb)     [Module 2 ▶︎](Module2.ipynb)</center>\n"
   ]
  }
 ],
 "metadata": {
  "kernelspec": {
   "display_name": "Python 3 (ipykernel)",
   "language": "python",
   "name": "python3"
  },
  "language_info": {
   "codemirror_mode": {
    "name": "ipython",
    "version": 3
   },
   "file_extension": ".py",
   "mimetype": "text/x-python",
   "name": "python",
   "nbconvert_exporter": "python",
   "pygments_lexer": "ipython3",
   "version": "3.12.3"
  }
 },
 "nbformat": 4,
 "nbformat_minor": 5
}
