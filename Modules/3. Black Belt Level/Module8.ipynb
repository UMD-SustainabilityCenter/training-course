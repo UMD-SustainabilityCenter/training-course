{
 "cells": [
  {
   "cell_type": "markdown",
   "id": "bb39f9b2",
   "metadata": {
    "tags": [
     "auto-generated-toc"
    ]
   },
   "source": [
    "## Table of Contents\n",
    "  - [B8: Digital Engineering Challenges](#B8%3A-Digital-Engineering-Challenges)\n",
    "- [🏠 Home](../../welcomePage.ipynb)"
   ]
  },
  {
   "cell_type": "markdown",
   "id": "03ca1c72",
   "metadata": {},
   "source": [
    "## B8: Digital Engineering Challenges \n",
    "\n",
    "Digital engineering has an ambitious scope: managing the entire lifecycle of a system of systems, including hardware systems as well as the software components. Many challenges exist for fully implementing digital engineering in government and industry. The most critical ones are interface and connectivity in the digital thread."
   ]
  },
  {
   "cell_type": "markdown",
   "id": "a1144e3e",
   "metadata": {
    "tags": [
     "Bottom Navigation"
    ]
   },
   "source": [
    "### <center>[◀︎ Module 7](Module7.ipynb)     [🏠 Home](../../welcomePage.ipynb)     [Exam ▶︎](Exam.ipynb)</center>"
   ]
  }
 ],
 "metadata": {
  "kernelspec": {
   "display_name": "Python 3 (ipykernel)",
   "language": "python",
   "name": "python3"
  },
  "language_info": {
   "codemirror_mode": {
    "name": "ipython",
    "version": 3
   },
   "file_extension": ".py",
   "mimetype": "text/x-python",
   "name": "python",
   "nbconvert_exporter": "python",
   "pygments_lexer": "ipython3",
   "version": "3.12.5"
  }
 },
 "nbformat": 4,
 "nbformat_minor": 5
}
