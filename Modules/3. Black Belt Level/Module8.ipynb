{
 "cells": [
  {
   "cell_type": "markdown",
   "id": "bb39f9b2",
   "metadata": {
    "tags": [
     "auto-generated-toc"
    ]
   },
   "source": [
    "## Table of Contents\n",
    "  - [B8: Digital Engineering Challenges](#B8%3A-Digital-Engineering-Challenges)\n",
    "- [🏠 Home](../../welcomePage.ipynb)"
   ]
  },
  {
   "cell_type": "markdown",
   "id": "e7d0000e-fa32-4164-8fa9-99da10b3d359",
   "metadata": {},
   "source": [
    "## B8: Digital Engineering Challenges \n",
    "\n",
    "### 8.1 Chip-to-Cloud Capabilities\n",
    "IoT has been on the periphery of a massive adoption curve for some time, but concerns about security and the power to connect multiple devices have dampened adoption. Chip-to-Cloud makes it much more difficult to hack IoT devices while boosting energy efficiency and staying connected to the cloud. For example, newer automotive players with chipsets, autonomous driving algorithms and cloud capabilities – beyond what traditional organizations can offer – will continue to provide compelling offerings for their customers. Of course, moving to Chip-to-Cloud will require some reskilling of employees used to traditional digital engineering. Enterprises operating across multiple verticals offerings have, over the years, invested in developing capabilities and hiring talent dedicated to a specific suite of capabilities. They will need to either upskill or hire new employees specializing in Chip-to-Cloud.\n",
    "<center>\n",
    "    <img src=\"../../img/Chip-to-Cloud-Technology.jpg\" alt=\"Alt text\" width=\"500\">\n",
    "</center>\n",
    "\n",
    "### 8.1.1 What is Chip-to-Cloud?\r\n",
    "Chip-to-Cloud Technology refers to an end-to-end architecture which integrates security and connectivity capabilities into the hardware of the device themselves. It means that those devices are secure at their point of manufacture and can be connected to cloud platforms without a problem, and all this is a paradigm shift from the traditional IoT configurations that add security often as an afterthought\n",
    "\n",
    "### 8.1.3 Key Components\r\n",
    "The conceptual framework of Chip-to-Cloud Technology focused on a set of critical components\n",
    "\n",
    "\r\n",
    "Hardware Secure: This includes HSMs, SoCs, and MCUs in which the secure foundations for secure devices are creat\n",
    "d.\r\n",
    "Onboard Cryptography Engine: It helps do encryption and decryption within the device itself, thus tightening up data protect\n",
    "on.\r\n",
    "Random Number Generator: This is useful for creating unique identities of devices and safe authentication mechan\n",
    "sms.\r\n",
    "Sufficient Amount of RAM: For effective processing of security algorithms as well as connectivity prot\n",
    "cols.\r\n",
    "Cloud Integration: Cloud hosting services can be interacted with in a seamless manner to enable real-time data handling and analytics.\r\n",
    "These factors together create a secure, efficient, and connected IoT envi\n",
    "\n",
    "\n",
    "### 8.2 Key Challenges and Considerations for AI and ML\r\n",
    "Though AI and ML offer immense potential in digital engineering, their integration poses some challenges..\r\n",
    "Data-related Challenges\r\n",
    "It is crucial to ensure data accuracy, completeness, and consistency for training models effectively. Furthermore, you need to protect sensitive data while leveraging it for AI/ML applications by using robust security measures. All these aspects need effective strategies, specialized expertise, and computational resources.\r\n",
    "Organizational Challenges\r\n",
    "Let's face it. Finding and retaining AI/ML talent is a significant challenge for many organizations. Even after finding such talent, it is essential to foster collaboration between engineers and data scientists. Companies may face resistance against AI-driven automation. Proper training and stakeholders' trust can assist you in overcoming these challenges.\r\n",
    "Apart from these challenges, entrepreneurs need to keep some ethical considerations in mind while integrating AI and ML solutions into their business systems. Here are these considerations-\r\n",
    "•\tAlgorithmic Bias\r\n",
    "You need to prevent AI systems from perpetuating or amplifying biases.\r\n",
    "•\tJob Displacement\r\n",
    "You need to address concerns about job losses due to automation.\r\n",
    "•\tResponsible AI\r\n",
    "You should develop AI systems that are in line with societal values.\r\n",
    "These considerations and careful planning to address various challenges can facilitate the successful integration of AI/ML into digital engineerinluding Remarks\r\n",
    "As futuristic technologies, AI and ML can make digital engineering solutions more advanced, intelligent, and sophisticated. Both these technologies can transform the concept of engineering by enhancing design and improving decision-making. Companies can increase efficiency and productivity while improving product quality and remain ahead of the curve through digital engineering.\r\n",
    "ronment.."
   ]
  },
  {
   "cell_type": "markdown",
   "id": "a1144e3e",
   "metadata": {
    "tags": [
     "Bottom Navigation"
    ]
   },
   "source": [
    "### <center>[◀︎ Module 7](Module7.ipynb)     [🏠 Home](../../welcomePage.ipynb)     [Exam ▶︎](Exam.ipynb)</center>"
   ]
  }
 ],
 "metadata": {
  "kernelspec": {
   "display_name": "Python 3 (ipykernel)",
   "language": "python",
   "name": "python3"
  },
  "language_info": {
   "codemirror_mode": {
    "name": "ipython",
    "version": 3
   },
   "file_extension": ".py",
   "mimetype": "text/x-python",
   "name": "python",
   "nbconvert_exporter": "python",
   "pygments_lexer": "ipython3",
   "version": "3.12.3"
  }
 },
 "nbformat": 4,
 "nbformat_minor": 5
}
