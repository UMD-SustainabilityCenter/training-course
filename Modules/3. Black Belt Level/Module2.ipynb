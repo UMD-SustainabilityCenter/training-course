{
 "cells": [
  {
   "cell_type": "markdown",
   "id": "32006265-fbd7-4cef-a03d-e4021b158832",
   "metadata": {
    "tags": [
     "auto-generated-toc"
    ]
   },
   "source": [
    "## Table of Contents\n",
    "- [B2 Model Based Definition](#G2-Model-Based-Definition)\n",
    "- [2.1 Model Based Approaches](#Model-Based-Approaches)\n",
    "- [2.2 Model-based definition (MBD)](#Model-based-definition-%28MBD%29)\n",
    "- [🏠 Home](../../welcomePage.ipynb)"
   ]
  },
  {
   "cell_type": "markdown",
   "id": "8eef5e48",
   "metadata": {},
   "source": [
    "# Model Based Approaches\n",
    "\n",
    "#### Model-based means using 3D models and software to define products and their components. Model-based approaches can include\n",
    "- Model-based definition (MBD):\n",
    "Uses 3D digital models containing both geometrical and non-geometrical information to communicate all the information needed to design and manufacture a product. This digital master model serves as a single source of truth throughout the entire product development process. MBD models can be used by many stakeholders, including design, engineering, manufacturing, and quality control. MBD can improve accuracy, collaboration, and productivity, and reduce costs. \n",
    "\n",
    "- Model-based design (MBD):\n",
    "Is a visual and mathematical method for designing complex systems by using software models to simulate and understand how a physical system will behave. MBD models can be used to study a wide range of systems, including electrical, mechanical, thermal, hydraulic, pneumatic, and optical systems. \n",
    "\n",
    "- Model-based enterprise (MBE):\n",
    "Uses model-based definitions throughout a product's life cycle. MBE can improve communication and collaboration, and reduce reliance on costly prototyping.\n",
    "\n",
    "- Model Based System Engineering (MBSE):\n",
    " It represents the methodology to perform & support system engineering activities such as system requirements, design, analysis, verification and validation. Systems Modeling Language (SysML) and MBSE can address today’s challenges of managing complex systems, maintaining and mapping of system and software architecture and changing requirements impacting the behavior.\n",
    "\n",
    "## Model-based definition (MBD)\n",
    "Please refer to Module 2 in Green level for relevent background. In this module, we will address how MBD helps in product assembly.\n",
    "\n",
    "### MBD Data for Assembly\n",
    "\n",
    "<center>\n",
    "    <img src=\"Module 2 Content/Assembly1.jpg\" alt=\"Alt text\" width=\"800\"> \n",
    "</center>\n",
    "\n",
    "### Model based definition for assembly object DT information\n",
    "\n",
    "Model-based definition (MBD) for assembly object information adopts the CAD model as the carrier to integrate, organize, and express the information required for product assembly. The DT model of total element information for complex mechanical product assembly is constructed by combining MBD and DT technology. The assembly object information integration through MBD can be summarized as information integration by production stage and information integration by model structure as shown below. As the only data source for the whole process of product assembly, MBD can effectively solve the problem of information separation between the design, manufacturing, and assembly of complex mechanical products and improve the application reliability of DT-based intelligent assembly technology.\n",
    "\n",
    "<center>\n",
    "    <img src=\"Module 2 Content/MBD_assembly.webp\" alt=\"Alt text\" width=\"800\"> \n",
    "</center>"
   ]
  },
  {
   "cell_type": "markdown",
   "id": "86195152",
   "metadata": {
    "tags": [
     "Bottom Navigation"
    ]
   },
   "source": [
    "### <center>[◀︎ Module 1](Module1.ipynb)     [🏠 Home](../../welcomePage.ipynb)     [Module 3 ▶︎](Module3.ipynb)</center>"
   ]
  }
 ],
 "metadata": {
  "kernelspec": {
   "display_name": "Python 3 (ipykernel)",
   "language": "python",
   "name": "python3"
  },
  "language_info": {
   "codemirror_mode": {
    "name": "ipython",
    "version": 3
   },
   "file_extension": ".py",
   "mimetype": "text/x-python",
   "name": "python",
   "nbconvert_exporter": "python",
   "pygments_lexer": "ipython3",
   "version": "3.11.6"
  },
  "widgets": {
   "application/vnd.jupyter.widget-state+json": {
    "state": {},
    "version_major": 2,
    "version_minor": 0
   }
  }
 },
 "nbformat": 4,
 "nbformat_minor": 5
}
