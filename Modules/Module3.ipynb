{
 "cells": [
  {
   "cell_type": "markdown",
   "id": "3d9dde1b-1de1-4455-87c0-973f9c10ab5f",
   "metadata": {},
   "source": [
    "## Table of Contents\n",
    "* [Module 3: Model Based Enterprise-Engineering (MBE)](#Module-3:-Model-Based-Enterprise-Engineering-(MBE))\n",
    "    * [Concepts](#Concepts:)\n",
    "    * [User Stories](#User-Stories:)\n",
    "        * [3D Printing Cost Estimate](2.%20Learning%20Modules/2.3.%20Cost%20Estimation%20Analysis/Cost%20Estimation%20using%20GCode.ipynb)\n",
    "    * [Summary MBE:](#Summary-MBE:)\n",
    "    * [Assessment](#Assessment:)\n",
    "        * [Take a quiz](http://example.com/quiz)\n",
    "#### [🏠 Home](../welcomePage.ipynb)"
   ]
  },
  {
   "cell_type": "markdown",
   "id": "bbee6ec1-809f-49bf-bb66-20531d295e11",
   "metadata": {},
   "source": [
    "### Module 3: Model Based Enterprise-Engineering (MBE)\n",
    "Historically, the industry relied on drawings to communicate requirements for manufacturing components and systems. The decentralization of manufacturing systems has amplified the challenge of collecting and communicating the product and process specifications needed to make decisions about design, production, and supply chains tasks while delivering products to market. Moving away from a reliance on drawings, MBE leverage computer-based technology to design, price, and manufacture items in digital-centric environment. MBE is a fully integrated and collaborative environment built on detailed 3D product definition shared across the enterprise; to enable rapid, seamless, and affordable deployment of products from concept to disposal.  The foundational elements of MBE are: A single digital master data set containing the 3D model and all needed product data in a managed secure and controlled environment that supports maximum data reuse for all aspects of acquisition, maintenance and operations.\n",
    "\n",
    "<center>\n",
    "    <img src=\"../img/04.jpg\" alt=\"Alt text\" width=\"400\">\n",
    "</center>\n",
    "\n",
    "#### Concepts:\n",
    "- **Authoritative source of truth (ASoT):** An authoritative source of truth is a system or repository that is considered the most reliable source for information, such as identity information about an individual. It can also be a combination of multiple data sources. ASoTs are also known as primary-source data.\n",
    "\n",
    "<img src=\"../img/06.jpg\" alt=\"Alt text\" width=\"450\">\n",
    "\n",
    "- **Configuration management (CM):** To be effective, the authoritative source of truth must be established by the organization using clear standards, procedures and guidelines that promote its inherent value as well as institutionally protect its integrity. Governance assists in ensuring the models are properly managed, and that stakeholders are apprised of the correct ways to collect, share, and maintain the models and data accurately.\n",
    "\n",
    "<img src=\"../img/07.1.jpg\" alt=\"Alt text\" width=\"500\">\n",
    "\n",
    "- **Product Lifecycle Management (PLM):** The concept of Product Lifecycle Management (PLM) is based on the observation that all products have a similar lifecycle and undergo similar stages. These stages include inception, design, manufacture, assembly, service, and disposal. PLM is not a definition of a piece, assembly or product, but an overview of management aspects for handling the product from the first idea through development, production, service, and disposal.\n",
    "\n",
    "<img src=\"../img/08.jpg\" alt=\"Alt text\" width=\"600\">\n",
    "\n",
    "#### User Stories:\n",
    "- [3D Printing Cost Estimate](2.%20Learning%20Modules/2.3.%20Cost%20Estimation%20Analysis/Cost%20Estimation%20using%20GCode.ipynb) - This modules of cost analysis calculates the cost of a 3D printed part which involves considering labor, printer operation costs, material choice, and the part’s volume and shape, all critical for determining total production costs and ensuring economic viability.\n",
    "\n",
    "#### Summary MBE:\n",
    "- **Data:** Refers to the source data itself.\n",
    "- **Management:** Refers to the need to organize the massive amounts of data. This can be applied to the overall data set or down to the organizational schema used in the annotated models making up the Model Based Definition (MBD).\n",
    "- **Secure & Controlled:** Refers to the ability to control access and secure the data once it has been managed.\n",
    "\n",
    "#### Assessment:\n",
    "- [Take a quiz](http://example.com/quiz)"
   ]
  },
  {
   "cell_type": "markdown",
   "id": "7268722d-1d52-4d3d-aa62-718e62414aa5",
   "metadata": {},
   "source": [
    "### <center>[◀︎ Module 2](Module2.ipynb)ㅤㅤㅤㅤㅤㅤㅤㅤ[🏠 Home](../welcomePage.ipynb)ㅤㅤㅤㅤㅤㅤㅤㅤ[Module 4 ▶︎](Module4.ipynb)</center>"
   ]
  }
 ],
 "metadata": {
  "kernelspec": {
   "display_name": "Python 3 (ipykernel)",
   "language": "python",
   "name": "python3"
  },
  "language_info": {
   "codemirror_mode": {
    "name": "ipython",
    "version": 3
   },
   "file_extension": ".py",
   "mimetype": "text/x-python",
   "name": "python",
   "nbconvert_exporter": "python",
   "pygments_lexer": "ipython3",
   "version": "3.12.5"
  }
 },
 "nbformat": 4,
 "nbformat_minor": 5
}
