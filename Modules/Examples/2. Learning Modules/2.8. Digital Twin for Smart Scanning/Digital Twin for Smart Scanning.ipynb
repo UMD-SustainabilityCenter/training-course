{
 "cells": [
  {
   "cell_type": "markdown",
   "metadata": {
    "tags": [
     "auto-generated-toc"
    ]
   },
   "source": [
    "## Table of Contents\n\n- [Digital Twin for Smart Scanning](#Digital-Twin-for-Smart-Scanning)\n- [🏠 Home](../../welcomePage.ipynb)"
   ]
  },
  {
   "cell_type": "markdown",
   "metadata": {},
   "source": [
    "# Digital Twin for Smart Scanning"
   ]
  },
  {
   "cell_type": "markdown",
   "metadata": {},
   "source": [
    "Smart manufacturing in metal additive manufacturing (MAM) relies on real-time process optimization through the prediction of unbuilt parts using data from built parts. We develop a machine learning-based digital twin to predict the melt pool of future parts, based on the experimental data from built parts, with average relative error magnitude (AREM) low to 2.8 %. The ML predictions enable the smart scanning for high quality of printed products.\n",
    "\n",
    "\n",
    "<center>\n",
    "    <img src=\"img/01.png\" alt=\"Alt text\" width=\"900\">\n",
    "</center>\n",
    "\n",
    "<center>\n",
    "    <img src=\"img/02.png\" alt=\"Alt text\" width=\"900\">\n",
    "</center>"
   ]
  }
 ],
 "metadata": {
  "colab": {
   "collapsed_sections": [],
   "name": "digitalTwin_Li_ION_.ipynb",
   "provenance": []
  },
  "kernelspec": {
   "display_name": "Python 3 (ipykernel)",
   "language": "python",
   "name": "python3"
  },
  "language_info": {
   "codemirror_mode": {
    "name": "ipython",
    "version": 3
   },
   "file_extension": ".py",
   "mimetype": "text/x-python",
   "name": "python",
   "nbconvert_exporter": "python",
   "pygments_lexer": "ipython3",
   "version": "3.12.3"
  }
 },
 "nbformat": 4,
 "nbformat_minor": 4
}
