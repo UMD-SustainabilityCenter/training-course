{
 "cells": [
  {
   "cell_type": "markdown",
   "metadata": {
    "tags": [
     "auto-generated-toc"
    ]
   },
   "source": [
    "## Table of Contents\n\n- [Model Predictive Control](#Model-Predictive-Control)\n- [🏠 Home](../../welcomePage.ipynb)"
   ]
  },
  {
   "cell_type": "markdown",
   "metadata": {},
   "source": [
    "# Model Predictive Control\n",
    "Model predictive control (MPC) is an advanced concept for feedback control of a digital control system leveraging computational power and accurate modeling. The general idea in MPC is to solve an optimization problem anew at each timestep, making use of the just-received feedback data from sensors. The processor of the computer that updates the input signal to the plant must be able to solve this optimization problem within the time duration of one timestep, so the optimization problem cannot be too complex. The optimization problem can even be generalized to find the values of multiple controlled inputs to the plant for multivariable control, handled in a single computer program. \n",
    "\n",
    "In this notebook we will see how a single time step’s control update is calculated. We’ll use a simple linear system as our plant. This system was used for the controller proposed by E. B. Dahlin [1]."
   ]
  },
  {
   "cell_type": "markdown",
   "metadata": {},
   "source": [
    "We start with a linear model of the plant, $G$:\n",
    "\n",
    "$$G=\\frac{1}{15s^2 + 8s + 1}$$"
   ]
  },
  {
   "cell_type": "markdown",
   "metadata": {},
   "source": [
    "This differential equation could describe a physical mass-spring-damper mechanical system or a resistor-inductor-capacitor (RLC) circuit electrical system or other second-order linear systems. From the coefficients, we can determine that this is a stable and overdamped system. An instantaneous step up in the input signal u(t) from 0 to 1 will take about 20 seconds for our system to respond by moving from 0 to 0.95, which is almost 1. Adding a feedback controller such as MPC can make the controlled “closed-loop” system to have a faster response to a step change in its input signal than the uncontrolled “open-loop” system."
   ]
  },
  {
   "cell_type": "markdown",
   "metadata": {},
   "source": [
    "\n",
    "Let us specify that this is indeed a mass-spring-damper mechanical system, initially at equliibrium\n",
    "$$ x(0) = 0 $$\n",
    "$$ \\dot{x}(0) = 0 $$\n",
    "$$ 15 \\ddot{x} + 8 \\dot{x} + 1 x = 1 f $$\n",
    "where $x$ is displacement in meters and $f$ is force in newtons.\n",
    "Note that there must be units on some of the coefficients (15, 8, 1, and 1), so let's show them as well:\n",
    "$$\\left ( 15 \\rm kg \\it \\right ) \\ddot{x} + \\left(8\\rm\\frac{N}{m/s}\\it\\right) \\dot{x} + \\left(1\\rm\\frac{N}{m}\\it\\right) x = 1 f $$\n",
    "The units are helpful for understanding the system, but controls engineers often drop the units once they are satisfied that the units are consistent. We will use traditional variables of a control system. Let the plant input be denoted $u(t) = f(t)$, so the input signal is force, for example, from a voice coil motor or linear motor. Let the plant output be denoted $y(t) = x(t)$. The state $x$ is also the output of this plant. We rewrite the plant equation as:\n",
    "$$ 15 \\ddot{y} + 8 \\dot{y} + 1 y = 1 u $$\n",
    "We are about to implement a step repsonse of the system using a unit step input signal, which we denote $1(t)$, although ohter references use $H(t)$ as a Heaviside funciton or sometimes use the letter u in the notation for unit step signal.\n",
    "$$1(t) =    \n",
    "\\begin{cases}\n",
    "    1,& \\text{if } t\\geq 0\\\\\n",
    "    0,              & \\text{otherwise}\n",
    "\\end{cases}\n",
    "$$"
   ]
  },
  {
   "cell_type": "markdown",
   "metadata": {},
   "source": [
    "#### Press ▶️ to plot the step response of our linear system $G$."
   ]
  },
  {
   "cell_type": "code",
   "execution_count": null,
   "metadata": {
    "has_explanation": false,
    "jupyter": {
     "source_hidden": true
    }
   },
   "outputs": [],
   "source": [
    "import numpy\n",
    "import scipy.signal\n",
    "import scipy.optimize\n",
    "import matplotlib.pyplot as plt # it is common in Python to import a library with an alias such as \"plt\" to make programming simpler\n",
    "\n",
    "G = scipy.signal.lti([1], [15, 8, 1]) # the coefficients of the numerator (1) and denominator (15,8, and 1) are here\n",
    "plt.plot(*G.step()) # this line plots the unit step response\n",
    "\n",
    "print('✅ Operation Complete')\n",
    "plt.xlabel('time $t$ / s')\n",
    "plt.ylabel('plant output $y$ / m')\n",
    "plt.title('unit step response of $G$ for $u(t)=1(t)$')"
   ]
  },
  {
   "cell_type": "markdown",
   "metadata": {},
   "source": [
    "We see some imporant details of the unit step response. The inital output is 0 with an initial slope of 0. This agrees with our assumptions. There is no overshoot of the system response, which agrees with our earlier finding that the system is over-damped. The system is quite slow. It takes around 20 seconds to raise its output from 0 to 0.95.\n",
    "\n",
    "Our goal is to find out what manipulations must be made (changes to \n",
    ") in order to get the system to follow a specific desired trajectory (which we will call \n",
    " for the reference trajectory). We will allow the controller to make a certain number of moves. This is called the control horizon, \n",
    ". We will the observe the effect of this set of moves (called a “move plan”) for time called the prediction horizon (\n",
    ").\n"
   ]
  },
  {
   "cell_type": "markdown",
   "metadata": {},
   "source": [
    "### Controller parameters\n",
    "\n",
    "We define the controller parameters with a control horizon (the number of time steps that the controller predicts ahead in solving its optimization problem), a prediction horizon (the number of time steps ahead that we will simulate to evaluate controller performance), and a sampling rate, in this case 1 second. \n",
    "\n",
    "#### Press ▶️ to define control and prediction horizons, set the sampling rate, and generate time points for continuous and discrete representations over the prediction horizon."
   ]
  },
  {
   "cell_type": "code",
   "execution_count": null,
   "metadata": {
    "has_explanation": false,
    "jupyter": {
     "source_hidden": true
    }
   },
   "outputs": [],
   "source": [
    "M = 10  # Control horizon\n",
    "P = 20  # Prediction horizon\n",
    "DeltaT = 1  # Sampling rate\n",
    "\n",
    "tcontinuous = numpy.linspace(0, P*DeltaT, 1000)  # some closely spaced time points\n",
    "tpredict = numpy.arange(0, P*DeltaT, DeltaT)   # discrete points at prediction horizon\n",
    "print('✅ Operation Complete')"
   ]
  },
  {
   "cell_type": "markdown",
   "metadata": {},
   "source": [
    "To design a model predictive controller, we must have a desired behavior of the system. We will design by looking at step response behavior of the system. If we select a perfect step response as our reference, we will have difficulty evaluating the controller because that response is not physically achievable. A mass cannot be moved a displacement instantaneously without infinite energy. Instead of dealing in the infinite, let us use a reference trajectory for our system which is achievable: a first order system response. We choose a time constant tau_c for a desired first order response. Recall that a first order system reaches about 95% of its full step response in a period of time equal to about three times the time constant. If we set tau_c to 1, then we expect a response of our system to 95% in 3 seconds, which is fast compared to the 20 seconds we saw above for the open-loop system.\n",
    "\n",
    "#### Press ▶️ to calculate the response curve based on a time constant and the exponential decay formula."
   ]
  },
  {
   "cell_type": "code",
   "execution_count": null,
   "metadata": {
    "has_explanation": false,
    "jupyter": {
     "source_hidden": true
    }
   },
   "outputs": [],
   "source": [
    "tau_c = 1\n",
    "r = 1 - numpy.exp(-tpredict/tau_c)\n",
    "print('✅ Operation Complete')"
   ]
  },
  {
   "cell_type": "markdown",
   "metadata": {},
   "source": [
    "Now we build a model predictive controller. This controller solves an optimization problem before updating the input signal to the plant. This occurs once at every timestep at the selected speed for implementation of the controller. We will build out the ability to test the controller’s input signal, (t) here. \n",
    "We start with an array u(t) containing M elements as the controller predicts the next M timesteps when solving its optimization.\n",
    "\n",
    "Next, we set the initial state x(t=0)=x_0 of the system to 0 as the predictions are for step responses away from an initial equilibrium at 0.\n",
    "\n",
    "#### Press ▶️ to create an array of control inputs initialized to one for the specified control horizon."
   ]
  },
  {
   "cell_type": "code",
   "execution_count": null,
   "metadata": {
    "has_explanation": false,
    "jupyter": {
     "source_hidden": true
    }
   },
   "outputs": [],
   "source": [
    "u = numpy.ones(M)\n",
    "x0 = numpy.zeros(G.to_ss().A.shape[0])\n",
    "print('✅ Operation Complete')"
   ]
  },
  {
   "cell_type": "markdown",
   "metadata": {},
   "source": [
    "Now, we define functions which will be useful for our controller and simulations. The extend function takes the input signal array (signal for each of the next M timesteps) as its argument and extends or concatenates the array with values of u at timestep M in the future as (u[-1], the final value of u returns 1) as the prediction will assume that the controller has turned off the input after M timesteps. We don’t store the extended u in a variable at this time, but instead return it as the returned value of the function.\n",
    "\n",
    "#### Press ▶️ to extend the control input array, simulate the system response, and plot the predicted output over the prediction horizon."
   ]
  },
  {
   "cell_type": "markdown",
   "metadata": {},
   "source": [
    "The prediction function uses the linear system simulation function “lsim” to predict the response of the linear system, in this case, a controlled “closed loop” system to the extended input signal and the initial state of the system."
   ]
  },
  {
   "cell_type": "code",
   "execution_count": null,
   "metadata": {
    "has_explanation": false,
    "jupyter": {
     "source_hidden": true
    }
   },
   "outputs": [],
   "source": [
    "def prediction(u, t=tpredict, x0=x0):\n",
    "    \"\"\"Predict the effect of an input signal\"\"\"\n",
    "    t, y, x = scipy.signal.lsim(G, u, t, X0=x0, interp=False)\n",
    "    return y\n",
    "\n",
    "def extend(u):\n",
    "    \"\"\"We optimise the first M values of u but we need P values for prediction\"\"\"\n",
    "    return numpy.concatenate([u, numpy.repeat(u[-1], P-M)])\n",
    "\n",
    "plt.plot(tpredict, prediction(extend(u)))\n",
    "print('Operation Complete')"
   ]
  },
  {
   "cell_type": "markdown",
   "metadata": {},
   "source": [
    "#### Press ▶️ to define a function that computes the objective value by evaluating the squared error between the predicted and desired responses."
   ]
  },
  {
   "cell_type": "code",
   "execution_count": null,
   "metadata": {
    "has_explanation": false,
    "jupyter": {
     "source_hidden": true
    }
   },
   "outputs": [],
   "source": [
    "def objective(u, x0=x0):\n",
    "    \"\"\"Calculate the sum of the square error for the cotnrol problem\"\"\"\n",
    "    y = prediction(extend(u))\n",
    "    return sum((r - y)**2)\n",
    "print('✅ Operation Complete')"
   ]
  },
  {
   "cell_type": "markdown",
   "metadata": {},
   "source": [
    "#### Press ▶️ to obtain the value of the objective for our step input:"
   ]
  },
  {
   "cell_type": "code",
   "execution_count": null,
   "metadata": {
    "has_explanation": false,
    "jupyter": {
     "source_hidden": true
    }
   },
   "outputs": [],
   "source": [
    "objective(u)"
   ]
  },
  {
   "cell_type": "markdown",
   "metadata": {},
   "source": [
    "Now we figure out a set of moves which will minimize our objective function as the result of an optimization problem. Literally, we finding the u signal to minimizing the objective function\n",
    "\n",
    "#### Press ▶️ to get a set of moves which will minimise our objective function"
   ]
  },
  {
   "cell_type": "code",
   "execution_count": null,
   "metadata": {
    "has_explanation": false,
    "jupyter": {
     "source_hidden": true
    }
   },
   "outputs": [],
   "source": [
    "result = scipy.optimize.minimize(objective, u)\n",
    "uopt = result.x\n",
    "result.fun"
   ]
  },
  {
   "cell_type": "markdown",
   "metadata": {},
   "source": [
    "#### Press ▶️ to resample the discrete output to continuous time, effectively working out the zero-order hold value."
   ]
  },
  {
   "cell_type": "code",
   "execution_count": null,
   "metadata": {
    "has_explanation": false,
    "jupyter": {
     "source_hidden": true
    }
   },
   "outputs": [],
   "source": [
    "ucont = extend(uopt)[((tcontinuous-0.01)//DeltaT).astype(int)]\n",
    "print('✅ Operation Complete')"
   ]
  },
  {
   "cell_type": "markdown",
   "metadata": {},
   "source": [
    "#### Press ▶️ to plot the move plan and the output. Notice that we are getting exactly the output we want at the sampling times. At this point we have effectively recovered the controller of [1]."
   ]
  },
  {
   "cell_type": "code",
   "execution_count": null,
   "metadata": {
    "has_explanation": false,
    "jupyter": {
     "source_hidden": true
    }
   },
   "outputs": [],
   "source": [
    "def plotoutput(ucont, uopt):\n",
    "    plt.figure()\n",
    "    plt.plot(tcontinuous, ucont)\n",
    "    plt.xlim([0, DeltaT*(P+1)])\n",
    "    plt.figure()\n",
    "    plt.plot(tcontinuous, prediction(ucont, tcontinuous), label='Continuous response')\n",
    "    plt.plot(tpredict, prediction(extend(uopt)), '-o', label='Optimized response')\n",
    "    plt.plot(tpredict, r, label='Set point')\n",
    "    plt.legend()\n",
    "\n",
    "plotoutput(ucont, uopt)\n",
    "print('✅ Operation Complete')"
   ]
  },
  {
   "cell_type": "markdown",
   "metadata": {},
   "source": [
    "One of the reasons for the popularity of MPC is how easy it is to change its behavior using weights in the objective function. Try using this definition instead of the simple one above and see if you can remove the ringing in the controller output.\n",
    "\n",
    "#### Press ▶️ to modify the behavior of the MPC by adjusting weights in the objective function, aiming to eliminate ringing in the controller output."
   ]
  },
  {
   "cell_type": "code",
   "execution_count": null,
   "metadata": {
    "has_explanation": false,
    "jupyter": {
     "source_hidden": true
    }
   },
   "outputs": [],
   "source": [
    "def objective(u, x0=x0):\n",
    "    y = prediction(extend(u))\n",
    "    umag = numpy.abs(u)\n",
    "    constraintpenalty = sum(umag[umag > 2])\n",
    "    movepenalty = sum(numpy.abs(numpy.diff(u)))\n",
    "    strongfinish = numpy.abs(y[-1] - r[-1])\n",
    "    return sum((r - y)**2) + 0*constraintpenalty + 0.1*movepenalty + 0*strongfinish\n",
    "\n",
    "objective(u, x0=x0)"
   ]
  },
  {
   "cell_type": "markdown",
   "metadata": {},
   "source": [
    "You should find that this controlled system has slow response, but no high frequency ringing.\n",
    "\n",
    "So we have seen that the controller can decide what to use as its next input signa, u(1). To move forward with our feedback control system, we would write a loop to continue the process of optimization at each timepoint moving forward, taking the output of the system at that time point as the new initial condition."
   ]
  },
  {
   "cell_type": "markdown",
   "metadata": {},
   "source": [
    "[1] Dahlin, E. B., Designing and Tuning Digital Controllers, Instrum. Control Systems, 41 (6), 77  (1968)."
   ]
  }
 ],
 "metadata": {
  "anaconda-cloud": {},
  "kernelspec": {
   "display_name": "Python 3 (ipykernel)",
   "language": "python",
   "name": "python3"
  },
  "language_info": {
   "codemirror_mode": {
    "name": "ipython",
    "version": 3
   },
   "file_extension": ".py",
   "mimetype": "text/x-python",
   "name": "python",
   "nbconvert_exporter": "python",
   "pygments_lexer": "ipython3",
   "version": "3.12.3"
  }
 },
 "nbformat": 4,
 "nbformat_minor": 4
}
