{
 "cells": [
  {
   "cell_type": "markdown",
   "id": "cf982474",
   "metadata": {
    "editable": true,
    "slideshow": {
     "slide_type": ""
    },
    "tags": [
     "auto-generated-toc"
    ]
   },
   "source": [
    "## Table of Contents\n",
    "- [Preprocessing 1D **Photodiode Data** for Conversion to 2D Image Format](#Preprocessing-1D-%2A%2APhotodiode-Data%2A%2A-for-Conversion-to-2D-Image-Format)\n",
    "  - [Background:](#Background%3A)\n",
    "  - [Read raw photodiode data](#Read-raw-photodiode-data)\n",
    "  - [Thresholding](#Thresholding)\n",
    "- [🏠 Home](../../../../../welcomePage.ipynb)"
   ]
  },
  {
   "cell_type": "markdown",
   "id": "6ed55e7d",
   "metadata": {
    "editable": true,
    "slideshow": {
     "slide_type": ""
    },
    "tags": []
   },
   "source": [
    "# Preprocessing 1D **Photodiode Data** for Conversion to 2D Image Format"
   ]
  },
  {
   "cell_type": "markdown",
   "id": "8df2a2c5-ef49-4f91-b9bd-9406de739f18",
   "metadata": {},
   "source": [
    "## Background:\n",
    "\n",
    "**A method to filter raw photodiode signal is demonstrated in this section.**\n",
    "The light intensity signal in the wavelength range of 500–1700 nm emitted during the building process is collected by a photodiode (C10439-11).The selected photodiode is an InGaAs type of photodiode with a Φ3 mm photosensitive area. The photodiode is installed inside the build chamber at an angle of about 45◦ facing the center of the building zone. The distance from the laser scanning area to the photodiode is approximately 250 mm. The photodiode is connected via a NI-9221 data acquisition card. The overall monitoring system is controlled by the LabView software, which provides convenience for adjusting the acquisition parameters.\n",
    "\n",
    "<img src=\"./figures/1.png\" alt=\"Drawing\" style=\"width: 400px;\" title=\" Experimental setup and a schematic representation of the SLM system\"/>\n",
    "\n",
    "*Experimental setup and a schematic representation of the SLM system (The photodiode sensor in red circle)*"
   ]
  },
  {
   "cell_type": "markdown",
   "id": "e3fdfc87-90fa-4248-a03b-6c83b3667bb8",
   "metadata": {},
   "source": [
    "### Process detail\n",
    "\n",
    "1. Thresholding. The amplitude of the photodiode signal increases rapidly when the laser starts to melt the powder bed. Meanwhile, the captured light signal before laser scanning started is close to zero and thus can be ignored. This is due to the fact that there are few light signals emitted with the wavelength range of 500–1700 nm before the laser scanning starts. Hence, the raw photodiode signal was just analyzed by thresholding to extract the photodiode data during the building process. In this work, the photodiode signals during the laser melting process were extracted by removing the photodiode signals that were less than the amplitude of 2. The threshold value of 2 was selected to ensure all the photodiode signals during laser building process are extracted.\n",
    "2. The raw 1D acoustic or photodiode signal with a length of $M^2$ is extracted through a running window, where $M^2$ is the size of the\r",
    "converted image. The running window is selected by considering that it can not only increase the number of training samples but also help train the quality monitoring models with local sensor information. Then, the running window with $M^2$ samples in the time domain fulfills the pixels of the image by sequence. Detailly, consecutive 1D signal samples with a length of $M$ fulfill rows of the converted image in sequence. For the $L(i), i = 1, 2, …, M^2$ sample in the 1D signal, its coordinate corresponding to the pixel in the image pixel is $P(j,k)$.\n",
    "\n",
    "$P(j, k)=\\operatorname{round}\\left\\{\\frac{L((j-1) \\times M+k)-\\min (L)}{\\max (L)-\\min (L)} \\times 255\\right\\},(j, k=1,2, \\ldots, M)$"
   ]
  },
  {
   "cell_type": "markdown",
   "id": "7abb6df8-84fd-4495-b62a-92e548e14c79",
   "metadata": {},
   "source": [
    "### The information users need to provide:\n",
    "1. The raw photodiode data local directory path.\n",
    "2. The converted image data save folder local directory path.\n",
    "3. The number of sample.\n",
    "4. The length of each image.\n",
    "5. The sliding step size"
   ]
  },
  {
   "cell_type": "markdown",
   "id": "61425efd-990e-4198-948d-8371c3564b48",
   "metadata": {},
   "source": [
    "## Read raw photodiode data\n",
    "\n",
    "Provide the raw photodiode data local directory path in the following text box, the raw data will be loaded.\n",
    "\n",
    "(*Example*: ../data/photodiode)"
   ]
  },
  {
   "cell_type": "markdown",
   "id": "9e397e2d-79f9-4c0c-bec7-72746277c5c8",
   "metadata": {},
   "source": [
    "#### Press <font color = '#2195F2'>**Play**</font> to Select Raw Photodiode Data to Load"
   ]
  },
  {
   "cell_type": "code",
   "execution_count": null,
   "id": "2c412269",
   "metadata": {
    "editable": true,
    "jupyter": {
     "source_hidden": true
    },
    "slideshow": {
     "slide_type": ""
    },
    "tags": []
   },
   "outputs": [],
   "source": [
    "import os\n",
    "from scipy.io import loadmat\n",
    "from ipywidgets import interact, interactive, fixed, interact_manual\n",
    "import ipywidgets as widgets\n",
    "import numpy as np\n",
    "from PIL import Image\n",
    "import matplotlib.pyplot as plt\n",
    "from IPython.display import display\n",
    "\n",
    "# Create text input widget for path input\n",
    "path_input = widgets.Text(\n",
    "    description='Directory Path:',\n",
    "    placeholder='Paste or type the directory path here',\n",
    "    style={'description_width': 'initial'}\n",
    ")\n",
    "\n",
    "# Create a button to confirm the directory selection\n",
    "confirm_button = widgets.Button(description=\"Confirm Path\")\n",
    "\n",
    "text = widgets.Text(value=\"../data/photodiode\", description=\"Example\")\n",
    "\n",
    "# Variable to hold the path\n",
    "# Default path: \n",
    "# /Users/zyichao/Desktop/phd/Codes_Additive_Manufacturing/Two_Sensor_Fusion_JMP/Data/photodiode\n",
    "global directory_path\n",
    "directory_path = \"\"\n",
    "\n",
    "data_dict = {}\n",
    "\n",
    "# Define button click event handler\n",
    "def on_confirm_button_clicked(b):\n",
    "    global directory_path\n",
    "    directory_path = path_input.value\n",
    "    print(f\"Path selected: {directory_path}\")\n",
    "    for filename in os.listdir(directory_path):\n",
    "        if filename.endswith('.mat'):\n",
    "            file_path = os.path.join(directory_path, filename)\n",
    "            mat_data = loadmat(file_path)\n",
    "            \n",
    "            data_name = os.path.splitext(filename)[0]\n",
    "            print(data_name+' is loaded')\n",
    "            data_dict[data_name] = mat_data\n",
    "\n",
    "\n",
    "    \n",
    "confirm_button.on_click(on_confirm_button_clicked)\n",
    "\n",
    "# Display widgets\n",
    "display(text)\n",
    "display(path_input, confirm_button)\n"
   ]
  },
  {
   "cell_type": "markdown",
   "id": "064e8135-4794-4d7b-84a3-19d9260f5b10",
   "metadata": {},
   "source": [
    "#### Press <font color = '#2195F2'>**Play**</font> to Display the Selected Raw Data Sample"
   ]
  },
  {
   "cell_type": "code",
   "execution_count": null,
   "id": "e185ab64-8107-4fbe-9117-72a90b1a7520",
   "metadata": {
    "jupyter": {
     "source_hidden": true
    }
   },
   "outputs": [],
   "source": [
    "x = list(data_dict.keys())[0]\n",
    "y = list(data_dict[x].keys())[3]\n",
    "\n",
    "plt.figure(figsize=(8,5),dpi=100)\n",
    "plt.plot(data_dict[x][y])\n",
    "plt.title(\"Raw photodiode signal sample\")\n",
    "plt.show()"
   ]
  },
  {
   "cell_type": "markdown",
   "id": "1c51268e",
   "metadata": {
    "editable": true,
    "slideshow": {
     "slide_type": ""
    },
    "tags": []
   },
   "source": [
    "## Thresholding\n",
    "\n",
    "Provide the image data **save folder directory path**. **The number of sample**, **length of each image**, **sliding step size**, and **the number of the image** can be modified to preview the output of the image data. Once all the variables are determined, the user can convert the signal data to image data.\n",
    "\n",
    "(*Example*: ../data/image_data/photodiode/)\n"
   ]
  },
  {
   "cell_type": "markdown",
   "id": "47cf297f-a7b8-4b04-a485-bf6a78baa620",
   "metadata": {},
   "source": [
    "### The 2-D photodiode image data modification and visualization"
   ]
  },
  {
   "cell_type": "markdown",
   "id": "cf55ece1-f6a6-45c1-b942-0b1d7c42fbce",
   "metadata": {},
   "source": [
    "#### Press <font color = '#2195F2'>**Play**</font> to Select the Save Folder"
   ]
  },
  {
   "cell_type": "code",
   "execution_count": null,
   "id": "66aa5594-6ff4-44d8-86b6-18ee2c33b5a8",
   "metadata": {
    "jupyter": {
     "source_hidden": true
    }
   },
   "outputs": [],
   "source": [
    "# Create text input widget for path input\n",
    "path_input = widgets.Text(\n",
    "    description='Svae Forlder Directory Path:',\n",
    "    placeholder='Paste or type the directory path here',\n",
    "    style={'description_width': 'initial'}\n",
    ")\n",
    "\n",
    "# Create a button to confirm the directory selection\n",
    "confirm_button = widgets.Button(description=\"Confirm Path\")\n",
    "text = widgets.Text(value=\"../data/image_data/photodiode/\", description=\"Example\")\n",
    "\n",
    "# Variable to hold the path\n",
    "# Default path: \n",
    "# /Users/zyichao/Desktop/phd/Codes_Additive_Manufacturing/Two_Sensor_Fusion_JMP/Data/photodiode\n",
    "global save_folder\n",
    "save_folder = \"\"\n",
    "\n",
    "# Define button click event handler\n",
    "def on_confirm_button_clicked(b):\n",
    "    global save_folder\n",
    "    save_folder = path_input.value\n",
    "    print(f\"Path selected: {directory_path}\")\n",
    "            \n",
    "confirm_button.on_click(on_confirm_button_clicked)\n",
    "\n",
    "# Display widgets\n",
    "display(text)\n",
    "display(path_input, confirm_button)"
   ]
  },
  {
   "cell_type": "markdown",
   "id": "82360ce1-803f-49ec-8724-617553abc5cc",
   "metadata": {},
   "source": [
    "#### Press <font color = '#2195F2'>**Play**</font> to Modify the Preprocessing Properties"
   ]
  },
  {
   "cell_type": "code",
   "execution_count": null,
   "id": "7a33a86e-6402-4121-8391-fb1d264fcfac",
   "metadata": {
    "jupyter": {
     "source_hidden": true
    }
   },
   "outputs": [],
   "source": [
    "def photodiode(a,b,c,d):\n",
    "    ## a:file position, b:size of each image, c:Sliding step size, d:the number of the image\n",
    "    \n",
    "    filename = list(data_dict.keys())[a]\n",
    "    parts = filename.split('_')\n",
    "    phd_grade = int(parts[1]) \n",
    "    phd_num = int(parts[2])\n",
    "    \n",
    "    filtered_data = []\n",
    "    data_all = []\n",
    "    for m in range(1,18):\n",
    "        x = data_dict[filename]['cDAQ1Mod4ai'+str(m)]\n",
    "        y = x[x>2]\n",
    "        filtered_data.append(y) \n",
    "\n",
    "    for i in range(1, 18):  # based on each layer, 17 layers in total\n",
    "        data = filtered_data[i-1]\n",
    "        N = len(data)\n",
    "        W = b * b  # Window size  \n",
    "        # c: Sliding step size, middle value 10 * 10000 // 520 = 192, range from 50 to 300\n",
    "        hdcs = (N - W) // c + 1  # Number of sliding steps \n",
    "\n",
    "        for k in range(1, hdcs + 1):\n",
    "            one_data = data[(k-1) * c: (k-1) * c + W]\n",
    "            # Normalize and scale the data to 0-255\n",
    "            one_data = np.round((one_data - np.min(one_data)) / (np.max(one_data) - np.min(one_data)) * 255).astype(np.uint8)\n",
    "            # Reshape the image\n",
    "            one_data = one_data.reshape((b, b)) \n",
    "            \n",
    "            data_all.append(one_data)\n",
    "\n",
    "\n",
    "    result = filename\n",
    "    print(f\"The selected sample name: {result}\")\n",
    "    return plt.imshow(data_all[d],cmap='gray')\n",
    "\n",
    "interact(photodiode,\n",
    "         a=widgets.IntSlider(min=0, max=len(data_dict.keys())-1, step=1, value=0, description='The number of sample:',style={'description_width': 'initial'}),\n",
    "         b=widgets.IntSlider(min=32, max=128, step=1, value=0, description='Length of each image:',style={'description_width': 'initial'}),\n",
    "         c=widgets.IntSlider(min=50, max=300, step=1, value=0, description='Sliding step size:',style={'description_width': 'initial'}),\n",
    "         d=widgets.IntSlider(min=0, max=100, step=1, value=0, description='The number of the image:',style={'description_width': 'initial'}),\n",
    ")"
   ]
  },
  {
   "cell_type": "markdown",
   "id": "745a0cb8-ed3b-402c-b5e2-528ba856c6a2",
   "metadata": {},
   "source": [
    "### Save the modified image data"
   ]
  },
  {
   "cell_type": "markdown",
   "id": "764d1d13-aced-4460-8a05-ffd28c6c31d3",
   "metadata": {},
   "source": [
    "#### Press <font color = '#2195F2'>**Play**</font> to Save the Modified Image Data"
   ]
  },
  {
   "cell_type": "code",
   "execution_count": null,
   "id": "ea609316",
   "metadata": {
    "editable": true,
    "slideshow": {
     "slide_type": ""
    },
    "tags": []
   },
   "outputs": [],
   "source": [
    "for i in range(3):\n",
    "    folder_path = os.path.join(save_folder, str(i))\n",
    "    try:\n",
    "        os.makedirs(folder_path)\n",
    "        print(\"Directory \", folder_path, \" Created \")\n",
    "    except FileExistsError:\n",
    "        print(\"Directory \", folder_path, \" already exists\")\n",
    "\n",
    "for j in range(len(data_dict.keys())):\n",
    "    \n",
    "    filename = list(data_dict.keys())[j]\n",
    "\n",
    "    parts = filename.split('_')\n",
    "    phd_grade = int(parts[1]) \n",
    "    phd_num = int(parts[2])\n",
    "    \n",
    "    filtered_data = []\n",
    "    data_all = []\n",
    "    for m in range(1,18):\n",
    "        x = data_dict[filename]['cDAQ1Mod4ai'+str(m)]\n",
    "        y = x[x>2]\n",
    "        filtered_data.append(y)\n",
    "\n",
    "    folder = save_folder + str(phd_grade)\n",
    "    n = 32  # Size of each image\n",
    "\n",
    "    for i in range(1, 18):  # based on each layer, 17 layers in total\n",
    "        data = filtered_data[i-1]\n",
    "        N = len(data)\n",
    "        W = n * n  # Window size\n",
    "        hd = 10 * 10000 // 520  # Sliding step size\n",
    "        hdcs = (N - W) // hd + 1  # Number of sliding steps\n",
    "\n",
    "        for k in range(1, hdcs + 1):\n",
    "            one_data = data[(k-1) * hd: (k-1) * hd + W]\n",
    "            # Normalize and scale the data to 0-255\n",
    "            one_data = np.round((one_data - np.min(one_data)) / (np.max(one_data) - np.min(one_data)) * 255).astype(np.uint8)\n",
    "            # Reshape the image\n",
    "            one_data = one_data.reshape((n, n)) \n",
    "            \n",
    "            data_all.append(one_data)\n",
    "            # Save the image\n",
    "            image_filename = f'p_{phd_num}_{i}_{k}.png'\n",
    "            image_path = os.path.join(folder, image_filename)\n",
    "            Image.fromarray(one_data).save(image_path)\n",
    "\n",
    "    print(filename, \"Processing complete.\")"
   ]
  },
  {
   "cell_type": "markdown",
   "id": "a90c3827-f16a-4893-979b-1fc34c5cfc6f",
   "metadata": {
    "editable": true,
    "slideshow": {
     "slide_type": ""
    },
    "tags": [
     "home-nav"
    ]
   },
   "source": [
    "### <center>[🏠 Home](../../../../../welcomePage.ipynb)</center>"
   ]
  }
 ],
 "metadata": {
  "kernelspec": {
   "display_name": "Python 3 (ipykernel)",
   "language": "python",
   "name": "python3"
  },
  "language_info": {
   "codemirror_mode": {
    "name": "ipython",
    "version": 3
   },
   "file_extension": ".py",
   "mimetype": "text/x-python",
   "name": "python",
   "nbconvert_exporter": "python",
   "pygments_lexer": "ipython3",
   "version": "3.12.5"
  }
 },
 "nbformat": 4,
 "nbformat_minor": 5
}
