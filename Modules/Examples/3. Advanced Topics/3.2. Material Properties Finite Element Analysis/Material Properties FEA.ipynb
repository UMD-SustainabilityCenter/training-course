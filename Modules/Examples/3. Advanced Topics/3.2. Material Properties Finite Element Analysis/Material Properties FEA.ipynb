{
 "cells": [
  {
   "cell_type": "markdown",
   "metadata": {
    "tags": [
     "auto-generated-toc"
    ]
   },
   "source": [
    "## Table of Contents\n\n- [Material Properties in Finite Element Analysis](#Material-Properties-in-Finite-Element-Analysis)\n  - [Objective](#Objective)\n  - [Equations](#Equations)\n  - [Simulation](#Simulation)\n- [🏠 Home](../../welcomePage.ipynb)"
   ]
  },
  {
   "cell_type": "markdown",
   "id": "749db265-e94d-4395-8324-1c575449fda2",
   "metadata": {},
   "source": [
    "# Material Properties in Finite Element Analysis"
   ]
  },
  {
   "cell_type": "markdown",
   "id": "f21f0958-3757-4104-b3be-5f6575bf51bf",
   "metadata": {
    "tags": []
   },
   "source": [
    "## Objective"
   ]
  },
  {
   "cell_type": "markdown",
   "id": "b4e0e473-9db7-48c9-842a-fc9a4f839477",
   "metadata": {},
   "source": [
    "The objective of this work is to study the effects of material parameters on mechanical behavior under mechanical loading. For accelerate predictions, we utilized a Graph Neural Network (GNN) as a surrogate model, we aim to accelerate predictions more efficiently than continuum damage mechanics. This approach allows for rapid parameter identification while effectively capturing the complexity of finite element analysis for complex geometries.\n",
    "\n",
    "We select a complex geometry that demonstrates non-uniform deformation and stress distributions, facilitating the detection of any model errors or areas of uncertainty and showcasing the strength of our framework."
   ]
  },
  {
   "cell_type": "markdown",
   "id": "6f37c93e-8306-4d5e-b94a-fac92b554647",
   "metadata": {},
   "source": [
    "<div style=\"text-align: center;\">\n",
    "    <img src=\"img/02.gif\" alt=\"Alt Text\" style=\"width: 250px; margin-right: 10px;\">\n",
    "    <img src=\"img/06.jpg\" alt=\"Alt Text\" style=\"width: 600px; margin-left: 10px;\">\n",
    "</div>"
   ]
  },
  {
   "cell_type": "markdown",
   "id": "38616a09-767e-4768-8be4-e9965aefdec8",
   "metadata": {},
   "source": [
    "## Equations"
   ]
  },
  {
   "cell_type": "markdown",
   "id": "d517876c-73b5-4038-9826-567729c2e262",
   "metadata": {
    "tags": []
   },
   "source": [
    "### Continuum Damage Plasticity \n",
    "\n",
    "The coupling between viscoplastic constitutive equations and damage is achieved by replacing the stress tensor in the plastic potential of defect-free material with the effective stress. This is based on the work of Chow et al. Additionally, the yield criterion, denoted as $f^p$ and described according to Hill (1948) to represent anisotropic material plasticity, is expressed as the difference between the effective equivalent plastic stress $\\tilde{\\sigma}_{\\text{Hard}}^{\\text{eq}}$ and the isotropic hardening term $R(p)$, such that:\n",
    "\n",
    "$$\n",
    "f^p = \\tilde{\\sigma}_{\\text{Hard}}^{\\text{eq}} - R(p) = 0\n",
    "$$\n",
    "\n",
    "The Hill equivalent stress $\\tilde{\\sigma}_{\\text{Hard}}^{\\text{eq}}$ accounting for kinematic hardening is defined as given, where $b$ represents the backstress used to describe viscohyperelastic behavior:\n",
    "\n",
    "$$\n",
    "\\tilde{\\sigma}_{\\text{Hard}}^{\\text{eq}} = \\left(\\frac{1}{2} (\\sigma - b) : (\\sigma - b)\\right)^{1/2}\n",
    "$$\n",
    "\n",
    "Stress is integrated from the stress rate, defined as a function of the elastic part of the rate of deformation tensor $D$ and the effective stiffness tensor $\\tilde{C}$:\n",
    "\n",
    "$$\n",
    "\\dot{\\sigma} = \\tilde{C} : [D - D^p] = \\tilde{C} : D^e\n",
    "$$\n",
    "\n",
    "The plastic rate of deformation $D^p$ is derived as:\n",
    "\n",
    "$$\n",
    "D^p = \\lambda^p  \\left(\\frac{\\partial f^p}{\\partial \\sigma}\\right) = \\frac{\\lambda^p}{2\\tilde{\\sigma}_{\\text{Hard}}^{\\text{eq}}} : (\\sigma - b)\n",
    "$$\n",
    "\n",
    "where $\\lambda^p$ is a directional plastic multiplier approximated by the directional cumulative plastic strain rate $\\dot{p}$. And $\\dot{p}$ represents the rate-dependent plastic flow stress in shear and accounts for the viscosity associated with chain segment rotation, intermolecular barriers, and chain reptation during alignment along the loading direction through $b$. The plastic shear rate is described by a power law equation where $m$ is the strain rate sensitivity parameter, $\\gamma^p$ represents the initial plastic rate, and $s$ is the directional shear strength resistance:\n",
    "\n",
    "$$\n",
    "\\dot{p} = \\gamma^p \\left(\\frac{\\tilde{\\sigma}_{\\text{Hard}}^{\\text{eq}}}{s}\\right)^{1/m}\n",
    "$$\n",
    "\n",
    "The directional shear strength resistance $\\dot{s}$ evolves according to Stringfellow et al. (1992) as shown:\n",
    "\n",
    "$$\n",
    "\\dot{s} = \\dot{p} \\frac{s}{n^h}  \\left(\\frac{s^s}{s}\\right)^{n^h}\n",
    "$$\n",
    "\n",
    "where $n^h$ is a hardening coefficient and $s^s$ is the directional hardening saturation limit. The hardening saturation limit is used to account for anisotropic hardening, where $cf$ denotes the directional coefficient of hardening. This formulation is intended to capture different hardening coefficients observed when loading along different material directions, especially in microporous films.\n",
    "\n",
    "### Backstress\n",
    "The constitutive model under consideration exhibits a compelling adherence to the 8-chain Boyce model, a paradigm renowned for its comprehensive depiction of the mechanical behavior of polymeric materials. In essence, the 8-chain Boyce model serves as a theoretical framework, delineating the intricate interplay between microstructural features and macroscopic mechanical response. At its core, this model is rooted in the premise that the behavior of polymers stems from the deformation and alignment of polymer chains under stress, offering profound insights into their viscoelastic nature.\n",
    "\n",
    "$$\n",
    "\\mathbb{R}^{8-ch}_{ijkl} = -\\frac{1}{3} c^R \\sqrt{N} \\left[ \\left( \\frac{\\xi_c - \\beta_c}{\\sqrt{N} \\lambda_c} \\right) B_{ij} B_{kl} + \\frac{\\beta_c}{B_{mm} \\lambda_c} (\\delta_{ik} B_{jl} + B_{ik} \\delta_{jl}) \\right]\n",
    "$$\n",
    "\n",
    "<font color = 'darkblue'>You can read the detailed constitutive model at: M. Makki, G. Ayoub, and C. W. Lee, \"Modeling the anisotropic behavior of highly orthotropic lithium-ion batteries polymer separators,\" *Int. J. Solids Struct.*, vol. 264, Art. no. 112102, 2023.\n",
    "\n"
   ]
  },
  {
   "cell_type": "markdown",
   "id": "873c6e4b-39fe-46ea-aee0-e57bcacf68b5",
   "metadata": {},
   "source": [
    "<center>\n",
    "    <img src=\"img/01.jpg\" alt=\"Alt Text\" width=\"300\"/>\n",
    "</center>"
   ]
  },
  {
   "cell_type": "markdown",
   "id": "c2fbed6a-baab-462e-a437-e693fcaf0769",
   "metadata": {},
   "source": [
    "<center>\n",
    "    <img src=\"img/07.svg\" alt=\"Alt Text\" width=\"1000\"/>\n",
    "</center>"
   ]
  },
  {
   "cell_type": "markdown",
   "id": "baaa7f1c-393f-473c-8d0b-00f67489e91f",
   "metadata": {},
   "source": [
    "<center>\n",
    "    <img src=\"img/08.png\" alt=\"Alt Text\" width=\"500\"/>\n",
    "</center>"
   ]
  },
  {
   "cell_type": "markdown",
   "id": "2e257db0-70af-40e5-812b-6851e6f7a657",
   "metadata": {},
   "source": [
    "<center>\n",
    "    <img src=\"img/05.svg\" alt=\"Alt Text\" width=\"700\"/>\n",
    "</center>"
   ]
  },
  {
   "cell_type": "markdown",
   "id": "8e91f537-6e93-48c3-aa00-6696b1352f70",
   "metadata": {},
   "source": [
    "## Simulation"
   ]
  },
  {
   "cell_type": "markdown",
   "id": "28d728e8-07a7-469b-ac7a-6be910438ad0",
   "metadata": {},
   "source": [
    "\n",
    "- The **initial shear resistance** significantly alters the yield strength of the material, indicating its resistance to deformation under shear stress.\n",
    "- The **rubbery modulus** directly influences the hardening behavior of polymers, affecting how the material responds to plastic deformation.\n",
    "- The **number of segments between entanglements** in the polymer network impacts the mechanical properties of the material, particularly its elasticity and toughness.\n",
    "- The **Elastic's modulus** directly affects the elastic stiffness of a material, determining its ability to resist elastic deformation under load.\n"
   ]
  },
  {
   "cell_type": "markdown",
   "id": "0c9707ec-5066-4885-8c1e-582af97f658c",
   "metadata": {
    "tags": []
   },
   "source": [
    "#### Press ▶️ to Select Parameters (You can always go back and change parameters)"
   ]
  },
  {
   "cell_type": "code",
   "execution_count": null,
   "id": "f40f62a6",
   "metadata": {
    "has_explanation": false,
    "jupyter": {
     "source_hidden": true
    },
    "tags": []
   },
   "outputs": [],
   "source": [
    "print('✅ Importing Libraries')\n",
    "### Import Libraries\n",
    "import os\n",
    "import numpy as np\n",
    "import torch\n",
    "import torch.nn.functional as F\n",
    "from torch_geometric.data import Data\n",
    "import functions.model_RGNN as model\n",
    "from sklearn.preprocessing import StandardScaler\n",
    "from torch.optim.lr_scheduler import ExponentialLR\n",
    "from functions.utils_RGNN import*\n",
    "import os\n",
    "import time\n",
    "import copy\n",
    "import datetime\n",
    "import json\n",
    "import torch\n",
    "import collections\n",
    "from sklearn.model_selection import train_test_split\n",
    "import pandas as pd\n",
    "import matplotlib.pyplot as plt\n",
    "import pandas as pd\n",
    "import numpy as np\n",
    "import matplotlib.pyplot as plt\n",
    "import ast\n",
    "import os\n",
    "import matplotlib.colors as mcolors\n",
    "import cv2\n",
    "import os\n",
    "from IPython.display import clear_output\n",
    "import time\n",
    "import ipywidgets as widgets\n",
    "from ipywidgets import interact, IntSlider\n",
    "from IPython.display import display, clear_output\n",
    "from IPython.display import HTML\n",
    "import json\n",
    "\n",
    "def load_file(file_path):\n",
    "    with open(f'{file_path}', 'r') as file:\n",
    "        data_str = file.readline()\n",
    "        data_list = np.array(ast.literal_eval(data_str))\n",
    "        return data_list\n",
    "import numpy as np\n",
    "\n",
    "# Assuming load_file is defined elsewhere and correctly imports a txt file into a numpy array\n",
    "# def load_file(filepath): ...\n",
    "\n",
    "params = {}\n",
    "curves = {}\n",
    "\n",
    "for i in range(420):\n",
    "    param_path = f'param/param-{i}.txt'\n",
    "    curve_path = f'curve/curve-{i}.txt'\n",
    "    \n",
    "    params[i] = load_file(param_path)\n",
    "    curves[i] = load_file(curve_path)\n",
    "\n",
    "wDr = os.getcwd()\n",
    "### Save Location\n",
    "# Saving\n",
    "os.chdir(wDr)\n",
    "path = wDr + '/model'\n",
    "model_name = '/model.pt'\n",
    "\n",
    "### Loading Machine Learning Model\n",
    "load_model = True\n",
    "\n",
    "if load_model == True:\n",
    "    learned_model = model.EncodeProcessDecode(\n",
    "                        node_feat_size = 7,                    \n",
    "                        edge_feat_size = 3,\n",
    "                        output_size=4,\n",
    "                        latent_size=128,\n",
    "                        message_passing_steps=10,\n",
    "                        window = 1)\n",
    "\n",
    "    device = torch.device('cuda' if torch.cuda.is_available() else 'cpu')\n",
    "    # device = torch.device('cpu')\n",
    "    model = learned_model.to(device)    \n",
    "    model.load_state_dict(torch.load(path + model_name, map_location=device))\n",
    "\n",
    "    \n",
    "### Custom CSS Interface\n",
    "display(HTML(\"\"\"\n",
    "<style>\n",
    "    .widget-label { \n",
    "        min-width: 20ex !important; \n",
    "        max-width: 30ex !important; \n",
    "        word-wrap: break-word;\n",
    "    }\n",
    "</style>\n",
    "\"\"\"))\n",
    "\n",
    "\n",
    "mean_array = np.array([1.5385909298670306, 9.629088339561918, 3.827083166666664, 5.2692983809523835, 434.68045121428565,  639.4987465714283, 0.0, -0.015128178126523164, 5.584694109223598, 14.810351268758422, 0.3373928084163192])  # Replace with your mean values\n",
    "std_array = np.array([[1.131297798928971, 6.494407672040135, 1.9426057517469186, 1.883718056332627, 216.39271764016704,  230.52290966435916, 1.0, 0.019269810164758188, 3.9308818796619924, 13.699886193474303, 0.9500569002991748]])  # Replace with your standard deviation values\n",
    "\n",
    "def update_params(param0, param1, param2, param3):\n",
    "    param = np.array([param0, param1, param2, param3])\n",
    "    for i in range(len(param)):\n",
    "        param[i] = (param[i] - mean_array[i+2]) / std_array[0][i+2]\n",
    "    # Path to save the JSON file\n",
    "    os.chdir(wDr)\n",
    "    file_path = \"field/param.txt\"\n",
    "    with open(file_path, \"w\") as json_file:\n",
    "        json.dump(param.tolist(), json_file)\n",
    "    print('✅ Processing Complete')\n",
    "\n",
    "def on_predict_button_clicked(button):\n",
    "    with output1:\n",
    "        clear_output()\n",
    "        update_params(param0_slider.value, param1_slider.value, param2_slider.value, param3_slider.value)\n",
    "\n",
    "# Initialize parameters\n",
    "param = np.array([5.6, 7.2, 721.05, 1000.0])  # Initial values\n",
    "param0_slider = widgets.FloatSlider(value=3.8, min=2, max=6, step=0.1, description='Initial Shear Resistance', layout=widgets.Layout(width='600px'))\n",
    "param1_slider = widgets.FloatSlider(value=5.3, min=3, max=8, step=0.1, description='Rubbery Modulus', layout=widgets.Layout(width='600px'))\n",
    "param2_slider = widgets.FloatSlider(value=500, min= 200, max=800, step=50, description='Chain Entanglement', layout=widgets.Layout(width='600px'))\n",
    "param3_slider = widgets.FloatSlider(value=700, min=400, max=1000, step=50, description='Elastic Modulus', layout=widgets.Layout(width='600px'))\n",
    "\n",
    "# Create predict button\n",
    "predict_button = widgets.Button(description=\"Set Parameters\")\n",
    "output1 = widgets.Output()  # Output widget to display messages\n",
    "\n",
    "predict_button.on_click(on_predict_button_clicked)\n",
    "ui = widgets.VBox([param0_slider, param1_slider, param2_slider, param3_slider, predict_button, output1])\n",
    "# Display widgets\n",
    "display(ui)"
   ]
  },
  {
   "cell_type": "markdown",
   "id": "3988ee02-7d4e-441d-a68a-41926af31b77",
   "metadata": {},
   "source": [
    "#### Press ▶️ to Start Simulation"
   ]
  },
  {
   "cell_type": "code",
   "execution_count": null,
   "id": "de4b29f3-37a3-4551-8b23-1312b7958835",
   "metadata": {
    "has_explanation": false,
    "jupyter": {
     "source_hidden": true
    },
    "tags": []
   },
   "outputs": [],
   "source": [
    "def test_f(model, test_data, geom = 0):\n",
    "    ### Expriment Boundary Conditions\n",
    "    E11 = 0.08; # finite strain component of Green-Lagrangian strain tensor\n",
    "    e11 = np.sqrt(2*E11 + 1) - 1;\n",
    "    steps = 151\n",
    "    bc_strainPBC = np.linspace(0,e11,num = steps)\n",
    "\n",
    "    ### Perform Predictions\n",
    "    start_step = 1\n",
    "    delta_step = 15\n",
    "    steps = 151\n",
    "\n",
    "    model.eval()\n",
    "    combined_data = []\n",
    "    device = torch.device('cuda' if torch.cuda.is_available() else 'cpu')\n",
    "    model.to(device)\n",
    "    edge_index = test_data[geom].edge_index.to(device)\n",
    "    node_features = test_data[geom].node_features.to(device)\n",
    "    edge_features = test_data[geom].edge_features.to(device)\n",
    "    print('Performing Predictions, Please Wait...')\n",
    "\n",
    "    for step in range(start_step, steps, delta_step):\n",
    "        node_features_tmp = torch.cat([node_features, bc_strainPBC[step] * torch.ones(node_features.shape[0], 1, device=device)], dim=-1)                    \n",
    "        data = Data(edge_index=edge_index - 1, x = node_features_tmp, edge_attr = edge_features)\n",
    "        data = data.to(device)\n",
    "\n",
    "        with torch.no_grad():\n",
    "            start_time = time.time()\n",
    "            out = model(data)\n",
    "        out_step = out.cpu().numpy()\n",
    "        input_data = node_features_tmp.cpu().numpy()\n",
    "        combined_step_data = np.concatenate((input_data, out_step), axis=1)\n",
    "        combined_data.append(combined_step_data)\n",
    "    combined_data_np = np.vstack(combined_data)\n",
    "    np.save(f'results/predictions.npy', combined_data_np)\n",
    "    return combined_data_np\n",
    "\n",
    "global data_field11, data_field2\n",
    "\n",
    "def perform_simulation(b):\n",
    "    global data_field11, data_field2\n",
    "    output2.clear_output(wait=True)\n",
    "    with output2:\n",
    "        ### Folder Management\n",
    "        folders_to_create = [\"results\", \"results/images\", \"results/curve\"]\n",
    "        for folder_path in folders_to_create:\n",
    "            if not os.path.exists(folder_path):\n",
    "                os.makedirs(folder_path)\n",
    "                print(f\"Created folder: {folder_path}\")\n",
    "\n",
    "        field_path = os.path.join(wDr, 'field')\n",
    "        test_data = load_graph(path=field_path, num_files=1, steps=151)\n",
    "        os.chdir(wDr)\n",
    "        data = test_f(model, test_data)\n",
    "        \n",
    "        scaled_data = data  # Assuming 'data' is appropriately scaled\n",
    "        original_data = scaled_data * std_array + mean_array\n",
    "        coordinate = original_data[:1098, [0,1]]\n",
    "        field1 = original_data[:,[7,8]].reshape(10,1098,2)\n",
    "        field2 = original_data[:,[9,10]].reshape(10,1098,2)\n",
    "        updated_data_coordinate = coordinate.copy()\n",
    "        data_field10 = field1[:,:,0]\n",
    "        data_field11 = field1[:,:,1]\n",
    "        data_field2 = field2[:,:,0]\n",
    "        \n",
    "        def plot_image(i):\n",
    "            norm = plt.Normalize(vmin=0, vmax=100)\n",
    "            cmap = mcolors.LinearSegmentedColormap.from_list(\n",
    "                'custom_colormap',\n",
    "                ['green', 'lightgreen', 'yellow', 'orange', 'red'],\n",
    "                N=256)\n",
    "            plt.figure(figsize=(2, 6))\n",
    "            plt.clf()\n",
    "            norm = plt.Normalize(vmin=0, vmax=100)\n",
    "            cmap = mcolors.LinearSegmentedColormap.from_list(\n",
    "                'custom_colormap', ['green', 'lightgreen', 'yellow', 'orange', 'red'], N=256)\n",
    "            temp = data_field2[i,:]\n",
    "            plt.xlim(-1, 6)\n",
    "            plt.ylim(-5, 50)\n",
    "            plt.yticks(np.arange(-5, 51, 5))\n",
    "            plt.scatter(updated_data_coordinate[:, 0] + data_field10[i,:], updated_data_coordinate[:, 1] + data_field11[i,:], c=temp, cmap=cmap, norm=norm, marker='o', s=5)\n",
    "            cbar = plt.colorbar()\n",
    "            plt.grid()\n",
    "            plt.title('run')\n",
    "            plt.show()\n",
    "            \n",
    "        interact(plot_image, i=IntSlider(min=0, max=data_field2.shape[0]-1, step=1, continuous_update=False))\n",
    "        plot_node_data()\n",
    "\n",
    "line_styles = ['--']  # Define line styles\n",
    "colors = ['b', 'g', 'r', 'c', 'm', 'y', 'k']  # Define colors\n",
    "\n",
    "def plot_combined_curves(curves_indices):\n",
    "    # plt.figure(figsize=(8, 8))\n",
    "    for i, index in enumerate(curves_indices):\n",
    "        curve = curves[index]\n",
    "        style = line_styles[i % len(line_styles)]  # Cycle through line styles\n",
    "        color = colors[i % len(colors)]  # Cycle through colors\n",
    "        plt.plot(curve[:, 1], curve[:, 2], linewidth = 1, linestyle=style, label=f'{params[index][0]:.1f}, {params[index][1]:.1f}, {params[index][2]:.1f}, {params[index][3]:.1f}')\n",
    "\n",
    "def plot_node_data():\n",
    "    plot_combined_curves(range(0, 16))  # This is an illustrative example; replace with your criteria for selection\n",
    "    strain_at_node = np.log1p(data_field11[:, 98] / 4.875)\n",
    "    stress_at_node = data_field2[:, 405]\n",
    "    stress_at_node = np.concatenate(([0], stress_at_node))\n",
    "    strain_at_node = np.concatenate(([0], strain_at_node))\n",
    "    plt.plot(strain_at_node, stress_at_node, linewidth = 5, label='Prediction', color = '#1f77b4')\n",
    "    plt.title(f'')\n",
    "    plt.legend(loc='center left', bbox_to_anchor=(1, 0.5))\n",
    "    plt.xlabel('Strain')\n",
    "    plt.ylabel('Stress (MPa)')\n",
    "    plt.grid(True)\n",
    "    # plt.ylim(0,100)\n",
    "    # plt.xlim(-1,5)\n",
    "    plt.show()\n",
    "\n",
    "\n",
    "# Set up the button and output widget\n",
    "button = widgets.Button(description='Run Simulation', tooltip='Click to start the simulation')\n",
    "output2 = widgets.Output()\n",
    "button.on_click(perform_simulation)\n",
    "display(button, output2)"
   ]
  },
  {
   "cell_type": "markdown",
   "id": "65f2c229-52a3-4403-b02c-fc6a5eb6bcae",
   "metadata": {},
   "source": [
    "<center>\n",
    "    <img src=\"img/03.svg\" alt=\"Alt Text\" width=\"1000\"/>\n",
    "</center>"
   ]
  },
  {
   "cell_type": "markdown",
   "id": "4486eb2d-cc07-4f8a-b62d-d475d77bf3de",
   "metadata": {},
   "source": [
    "<center>\n",
    "    <img src=\"img/09.gif\" alt=\"Alt Text\" width=\"800\"/>\n",
    "</center>"
   ]
  }
 ],
 "metadata": {
  "kernelspec": {
   "display_name": "Python 3 (ipykernel)",
   "language": "python",
   "name": "python3"
  },
  "language_info": {
   "codemirror_mode": {
    "name": "ipython",
    "version": 3
   },
   "file_extension": ".py",
   "mimetype": "text/x-python",
   "name": "python",
   "nbconvert_exporter": "python",
   "pygments_lexer": "ipython3",
   "version": "3.12.3"
  },
  "toc-autonumbering": true,
  "toc-showcode": false
 },
 "nbformat": 4,
 "nbformat_minor": 5
}
