{
 "cells": [
  {
   "cell_type": "markdown",
   "id": "52f87ed6-0545-429f-8628-0126c03e82e9",
   "metadata": {
    "editable": true
   },
   "source": [
    "# Process Mapping\n",
    "## 1.1 Linear Vs. Nonlinear Systems "
   ]
  },
  {
   "cell_type": "markdown",
   "id": "7cc87e4f-891e-45c2-a03f-68e0e0092961",
   "metadata": {
    "editable": true
   },
   "source": [
    "\n",
    "### What is a Linear System?  \n",
    "A **linear system** follows simple rules:  \n",
    "- Doubling the input doubles the output.  \n",
    "- Adding two inputs means their effects add up in the output.  \n",
    "\n",
    "Example:  \n",
    "- A cooling object follows **dy/dt = -2y**, meaning the temperature decreases smoothly over time.  \n",
    "\n",
    "### What is a Nonlinear System?  \n",
    "A **nonlinear system** behaves differently:  \n",
    "- Doubling the input does **not** always double the output.  \n",
    "- Adding two inputs can create unexpected results.  \n",
    "\n",
    "Example:  \n",
    "- A swinging pendulum follows **d²θ/dt² + sin(θ) = 0**, leading to more complex motion.  \n",
    "\n",
    "### Example Simulation  \n",
    "\n",
    "\n",
    "<img src=\"images/LinearVsNonlinear.png\" alt=\"Description\" width=\"800\"/>\n",
    "\n",
    "\n",
    "<details>\n",
    "  <summary>Click to show/hide code</summary>\n",
    "    \n",
    "```python\n",
    "import numpy as np\n",
    "import matplotlib.pyplot as plt\n",
    "from scipy.integrate import solve_ivp\n",
    "\n",
    "# Define linear system: dy/dt = -2y\n",
    "def linear_system(t, y):\n",
    "    return -2 * y\n",
    "\n",
    "# Define nonlinear system: d²θ/dt² + sin(θ) = 0 (pendulum)\n",
    "def nonlinear_system(t, y):\n",
    "    theta, omega = y\n",
    "    return [omega, -np.sin(theta**2)+theta]\n",
    "\n",
    "# Time range\n",
    "t_span = (0, 10)\n",
    "t_eval = np.linspace(0, 10, 1000)\n",
    "\n",
    "# Solve equations\n",
    "linear_sol = solve_ivp(linear_system, t_span, [1], t_eval=t_eval)\n",
    "nonlinear_sol = solve_ivp(nonlinear_system, t_span, [np.pi / 4, 0], t_eval=t_eval)\n",
    "\n",
    "# Plot results\n",
    "plt.figure(figsize=(10, 5))\n",
    "plt.plot(linear_sol.t, linear_sol.y[0], label=\"Linear: Exponential Decay\")\n",
    "plt.plot(nonlinear_sol.t, nonlinear_sol.y[0], label=\"Nonlinear: Pendulum\", linestyle=\"dashed\")\n",
    "plt.xlabel(\"Time\")\n",
    "plt.ylabel(\"Response\")\n",
    "plt.title(\"Linear vs. Nonlinear System Response\")\n",
    "plt.legend()\n",
    "plt.grid()\n",
    "plt.show()\n",
    "\n"
   ]
  },
  {
   "cell_type": "code",
   "execution_count": null,
   "id": "197bcf87-2962-4d1e-85c4-3f8f8709510f",
   "metadata": {},
   "outputs": [],
   "source": [
    "import numpy as np\n",
    "import matplotlib.pyplot as plt\n",
    "from scipy.integrate import solve_ivp\n",
    "# Define linear system: dy/dt = -2y\n",
    "def linear_system(t, y):\n",
    "    return -2 * y\n",
    "\n",
    "# Define nonlinear system: d²θ/dt² + sin(θ) = 0 (pendulum)\n",
    "def nonlinear_system(t, y):\n",
    "    theta, omega = y\n",
    "    return [omega, -np.sin(theta**2)]\n",
    "\n",
    "# Time range\n",
    "t_span = (0, 10)\n",
    "t_eval = np.linspace(0, 10, 1000)\n",
    "\n",
    "# Solve equations\n",
    "linear_sol = solve_ivp(linear_system, t_span, [1], t_eval=t_eval)\n",
    "nonlinear_sol = solve_ivp(nonlinear_system, t_span, [np.pi / 4, 0], t_eval=t_eval)\n",
    "\n",
    "# Plot results\n",
    "plt.figure(figsize=(10, 5))\n",
    "plt.plot(linear_sol.t, linear_sol.y[0], label=\"Linear: Exponential Decay\")\n",
    "plt.plot(nonlinear_sol.t, nonlinear_sol.y[0], label=\"Nonlinear: Pendulum\", linestyle=\"dashed\")\n",
    "plt.xlabel(\"Time\")\n",
    "plt.ylabel(\"Response\")\n",
    "plt.title(\"Linear vs. Nonlinear System Response\")\n",
    "plt.legend()\n",
    "plt.grid()\n",
    "plt.show()"
   ]
  },
  {
   "cell_type": "markdown",
   "id": "95e7dc1f-4ab1-4299-b667-caa439c4497e",
   "metadata": {},
   "source": [
    "# **1.2 Modeling Methods for Nonlinear Systems**  \n",
    "\n",
    "Nonlinear systems behave in complex ways, requiring specialized modeling techniques. Below are key approaches:  \n",
    "\n",
    "---\n",
    "\n",
    "## **1.2.1 Mathematical Models**  \n",
    "These models describe system behavior using **equations based on first principles** (e.g., physics, chemistry).  \n",
    "\n",
    "### **Examples:**  \n",
    "- **Nonlinear Differential Equations:**  \n",
    "  - Lotka-Volterra equations (predator-prey model).  \n",
    "  - Nonlinear pendulum:  \n",
    "    $$ \\frac{d^2\\theta}{dt^2} + \\sin(\\theta) = 0 $$  \n",
    "  - Lorenz system (chaotic weather patterns).  \n",
    "\n",
    "### **Advantages:**  \n",
    "✔ Provides insight into the system’s fundamental behavior.  \n",
    "✔ Predicts responses to different inputs.  \n",
    "\n",
    "### **Disadvantages:**  \n",
    "✖ May be difficult to solve analytically.  \n",
    "✖ Requires assumptions that may not always hold.  \n",
    "\n",
    "---\n",
    "\n",
    "## **1.2.2 System Identification (Data-Driven Models)**  \n",
    "These models **learn from experimental data** to approximate the system behavior.  \n",
    "\n",
    "### **Types:**  \n",
    "- **Polynomial Models**  \n",
    "  - Use a series expansion (e.g., Taylor series, Volterra series).  \n",
    "  - Example:  \n",
    "    $$ y(t) = a_0 + a_1 x(t) + a_2 x^2(t) + \\dots $$  \n",
    "\n",
    "- **Neural Networks**  \n",
    "  - Use deep learning to approximate complex nonlinear relationships.  \n",
    "  - Good for highly nonlinear or chaotic systems.  \n",
    "\n",
    "- **State-Space Models**  \n",
    "  - Represent system dynamics using states:  \n",
    "    $$ \\dot{x} = f(x, u) $$  \n",
    "    $$ y = g(x, u) $$  \n",
    "  - Used in control systems and Kalman filtering.  \n",
    "\n",
    "### **Advantages:**  \n",
    "✔ Works even when the underlying physics is unknown.  \n",
    "✔ Can model complex behaviors directly from data.  \n",
    "\n",
    "### **Disadvantages:**  \n",
    "✖ Requires large datasets for training.  \n",
    "✖ May lack physical interpretability.  \n",
    "\n",
    "---\n",
    "\n",
    "## **1.2.3 Process Mapping (Empirical Methods)**  \n",
    "This method identifies **input-output relationships** without requiring precise equations.  \n",
    "\n",
    "### **Techniques:**  \n",
    "- **Fuzzy Logic Models**  \n",
    "  - Uses rule-based mappings:  \n",
    "    *“If temperature is high, decrease power.”*  \n",
    "\n",
    "- **Genetic Algorithms**  \n",
    "  - Optimizes parameters based on evolutionary principles.  \n",
    "  - Used in robotics and adaptive control.  \n",
    "\n",
    "- **Machine Learning Regression Models**  \n",
    "  - Support Vector Machines (SVMs), Decision Trees, and Random Forests.  \n",
    "  - Example: Predicting a nonlinear function using regression models.  \n",
    "\n",
    "### **Advantages:**  \n",
    "✔ Easy to implement without deep theoretical knowledge.  \n",
    "✔ Handles complex and uncertain data.  \n",
    "\n",
    "### **Disadvantages:**  \n",
    "✖ May not generalize well outside training data.  \n",
    "✖ Lacks deep insight into system dynamics.  \n",
    "\n",
    "---\n",
    "\n",
    "## **1.2.4 Physical Simulation Models**  \n",
    "These models use **software simulations** to approximate real-world system behavior.  \n",
    "\n",
    "### **Examples:**  \n",
    "- **MATLAB Simulink** → Models mechanical and electrical systems.  \n",
    "- **COMSOL Multiphysics** → Solves coupled physics equations (fluid flow, heat transfer).  \n",
    "- **ANSYS** → Simulates finite element models (FEA).  \n",
    "\n",
    "### **Advantages:**  \n",
    "✔ Can handle multi-physics interactions.  \n",
    "✔ Useful when analytical solutions are impossible.  \n",
    "\n",
    "### **Disadvantages:**  \n",
    "✖ Computationally expensive.  \n",
    "✖ Requires specialized software and expertise.  \n",
    "\n",
    "---\n",
    "\n",
    "## **Choosing the Right Method**  \n",
    "| Scenario | Recommended Method |\n",
    "|----------|------------------|\n",
    "| Known physics and equations | **Mathematical models** (differential equations) |\n",
    "| Experimental data available | **System identification** (neural networks, state-space) |\n",
    "| Input-output mapping needed | **Process mapping** (fuzzy logic, regression) |\n",
    "| Complex physics interactions | **Simulation models** (Simulink, COMSOL) |\n"
   ]
  },
  {
   "cell_type": "markdown",
   "id": "0ee37e1f-d6c7-4906-9eb0-7859e2acee06",
   "metadata": {},
   "source": [
    "# **1.3 Brute Force Modeling: Process Mapping**  \n",
    "\n",
    "As introduced in the previous section, a **process map** is an experimental representation of how inputs affect outputs in a system. It is used in **system identification, control engineering, and optimization** when mathematical models are unavailable or too complex.  \n",
    "\n",
    "We will use an example from Fused filament Fabrication (FFF) 3D printing to show how modeling using process maps is completed. In FFF the extrusion system is nonlinear in it's behaviour. We start by introducting what FFF is. \n",
    "\n",
    "<img src=\"images/3DPrinterOverview.png\" alt=\"Description\" width=\"400\"/>\n",
    "\n",
    "From the above Figure, the FFF process has 5 major parts, 1) the feedstock in filament form, 2) the motion stage or gantry, 3) the build plate, 4) the extruder, 5) drive motors and electronics. The feed filament is string-like in shape with a tightly controlled diameter for consistency, it is made from semi crystalline or amorphous thermoplastics. The build plate is the platform upon which material is deposited and the part is built, typically heated, to reduce warping or lifting of the printed part of the build platform due to thermal induced shrinkage. The extruder is the component that is mounted on and positioned by the gantry and is responsible for liquifying the feedstock material and pushing it out of a small orifice, called the nozzle.\n",
    "\n",
    "<img src=\"images/ExtruderCloseUpV2.png\" alt=\"Description\" width=\"400\"/>\n",
    "\n",
    "FFF extruders consist of several key components: a stepper motor, drive (or 'hobbed') gears, a heatsink, a heat break, a heat block, a nozzle, a heatsink cooling fan, and a part cooling fan. The stepper motor is coupled to the drive gear, either directly or through a gearbox to increase torque. The drive gears can be designed to push the filament through the extruder. The heatsink is designed to maintain the filament at a much lower temperature than the polymer’s glass transition temperature, preventing sticking of the polymer filament to the extruder inner walls prior to the liquefier region.\n",
    "The heat break, typically made of a low thermal conductivity metal such as stainless steel or titanium, serves to 'break' the transfer of heat from the heat block to the heatsink. The heat block houses both the heating element and the thermistor and is the location where the filament transitions from solid to liquid. The liquefied material is then extruded through the nozzle, which narrows the flow through an orifice that typically ranges in diameter from 0.25 mm to 1 mm for 1.75 mm filament.\n",
    "\n",
    "## **Extrusion Response and Nonlinear Effects in 3D Printing**\n",
    "\n",
    "The extrusion response, that is, the actual flow rate out of the nozzle in response to a given input velocity command, is described as a **time-shifted first-order system** with the following transfer function:\n",
    "\n",
    "$$\n",
    "\\frac{V_{ea}}{V_e} = \\frac{\\mu}{\\tau s + 1} e^{-Ts}  \\quad (1)\n",
    "$$\n",
    "\n",
    "where:\n",
    "\n",
    "- $V_{ea}$ is the **actual velocity** of the extrudate leaving the nozzle, given a commanded extrusion velocity $V_e$.\n",
    "- $\\mu$ is a **constant gain**.\n",
    "- $\\tau$ is the **measured time constant**.\n",
    "- $s$ is the **Laplace variable**.\n",
    "- $T$ is the **time delay** in seconds between the onset of the extrusion command and the actual observed extrusion flow.\n",
    "\n",
    "\n",
    "\n",
    "The **time delay** accounts for cases where no molten material initially flows out of the nozzle at the start of extrusion.\n",
    "\n",
    "If, at the time of a step change in commanded extruder velocity, material is immediately observed exiting the nozzle, the **time delay $T$ can be assumed to be zero**, reducing Eq. (1) to:\n",
    "\n",
    "$$\n",
    "\\frac{V_{ea}}{V_e} = \\frac{\\mu}{\\tau s + 1}  \\quad (2)\n",
    "$$\n",
    "\n",
    "### **Limitations of Eq. (2) and a Generalized Model**  \n",
    "The utility of Eq. (2) is limited because, for a given experimentally identified $\\tau$, it is only valid for **specific experimental conditions**, such as a step command in $V_e$ from **1 mm/s to 2 mm/s**.  \n",
    "\n",
    "Since the value of $\\tau$ **varies with different input conditions**, a more general model is given by:\n",
    "\n",
    "$$\n",
    "\\frac{V_{ea}}{V_e} = \\frac{\\mu}{\\tau(V_{e_1}, V_{e_2})s + 1}  \\quad (3)\n",
    "$$\n",
    "\n",
    "where $\\tau$ is now a **function of both**:  \n",
    "- $V_{e_1}$: the **extrusion velocity before the step change**.  \n",
    "- $V_{e_2}$: the **extrusion velocity after the step change**.  \n",
    "\n",
    "### **Nonlinear Effects and Print Quality Issues**  \n",
    "\n",
    "<img src=\"images/extrusionIssues_V2.png\" alt=\"Description\" width=\"400\"/>\n",
    "\n",
    "The **nonlinear nature of the extruder’s response** is a primary cause of **build errors** at the start and end of extrusion when using linear compensation control methods, leading to **under-extrusion** and **over-extrusion**:\n",
    "\n",
    "- **Under-Extrusion** occurs when the extruder starts from rest, with **low internal pressure** inside the nozzle. As a result, the initial flow is **slower than the target flow**, leading to **thin or missing sections** in the bead.\n",
    "\n",
    "- **Over-Extrusion** happens when the extruder stops, but material continues to flow due to **stored potential energy in the filament**, acting like a spring. This results in **excess material deposition** beyond what was intended.\n",
    "\n",
    "These nonlinear effects must be considered in **extruder compensation techniques** to improve print accuracy and consistency. Therefore, we will model this nonlinearity using process maping. \n",
    "\n",
    "\n",
    "## **2. Steps for Experimentally Collecting a Process Map**  \n",
    "\n",
    "### **Step 1: Define the Process and Objectives**  \n",
    "Before conducting experiments, clearly define:  \n",
    "- **System boundary:** What are the input and output variables?  \n",
    "- **Objective:** Are we modeling steady-state behavior, transient response, or dynamic interactions?  \n",
    "- **Measurement Constraints:** What sensors and data acquisition systems are available?  \n",
    "\n",
    "**Example from FFF:**  \n",
    "- Process: Transient extrusion response.  \n",
    "- Inputs: Extrusion speed signal, extrusion temperature, layer height.  \n",
    "- Outputs: Extrusion speed response.  \n",
    "- Objective: Determine the extrusion speed response for a step input in extrusion speed.  \n",
    "\n",
    "From the FFF extrusion process, the transient extrusion response is of interest, as it contributes the most to the geometric extrusion errors. As explained in the prior section, the extrusion response can be modeled as first order system response with identifiable time constant for each unique combination of inputs.\n",
    "\n",
    "---\n",
    "\n",
    "### **Step 2: Identify Input and Output Variables**  \n",
    "- **Input Variables (Independent):** These are controlled or varied during the experiment.  \n",
    "- **Output Variables (Dependent):** These are measured as system responses.  \n",
    "- **Disturbances:** Uncontrolled factors affecting the process (e.g., ambient conditions).  \n",
    "\n",
    "**Example from FFF:** \n",
    "\n",
    "| Variable Type | Example Variables |\n",
    "|--------------|------------------|\n",
    "| Inputs | Extrusion speed, extrusion speed jump, extrusion temperature, layer height |\n",
    "| Outputs | identified \"time constant\" at each unique input combination  |\n",
    "| Disturbances | input filament variation, environmental fluctuations |\n",
    "\n",
    "\n",
    "---\n",
    "\n",
    "### **Step 3: Design the Experiment (DOE - Design of Experiments)**  \n",
    "The experiment must explore a **wide range of inputs** to map the system response accurately.  \n",
    "\n",
    "#### **Experimental Design Types:**  \n",
    "1. **Full Factorial Design:**  \n",
    "   - Varies all inputs systematically across all levels.  \n",
    "   - Example: Test flow rates at **1, 2, 3 L/min** and temperatures at **50, 60, 70°C** → Requires 9 tests (3×3).  \n",
    "\n",
    "2. **Fractional Factorial Design:**  \n",
    "   - Reduces the number of experiments by selecting representative points.  \n",
    "   - Useful when testing all combinations is impractical.  \n",
    "\n",
    "3. **Randomized Testing:**  \n",
    "   - Inputs are changed randomly to reduce bias and external effects.  \n",
    "\n",
    "4. **Step Tests & Ramp Tests:**  \n",
    "   - **Step Test:** Sudden change in input, measure transient response.  \n",
    "   - **Ramp Test:** Gradually increase input, measure steady-state response.\n",
    "\n",
    "**Example from FFF:**\n",
    "\n",
    "We conduct the experiments with fixed nozzle tangential speed while varying extrusion speed, extrusion temperature, and nozzle offset distance from the build plate (layer height). The experiment condition studies the dynamics inside the nozzle; by varying the extrusion velocity, the dynamics of pressure, temperature and flow rate can be observed. Secondly, repeating the experiments at a different layer height allows for the study of the impact of layer height on the level of back pressure generated by the molten polymer flow. \n",
    "Each experiment consisted of one bead that is 100 mm long. During each experiment, the extruder speed was varied using a step input, with both a step up and then a step down in speed, as shown in the figure below. The amplitude of the jump in extrusion speed varied with each experiment.\n",
    "\n",
    "<img src=\"images/experimentInputSignal.png\" alt=\"Description\" width=\"600\"/>\n",
    "\n",
    "The range and spacing of the experiment parameters are summerized in the table below:\n",
    "\n",
    "| Condition                              | Range              | Spacing | Number of Levels |\n",
    "|----------------------------------------|--------------------|---------|------------------|\n",
    "| Extrusion Speed                        | 0 mm/s to 10 mm/s  | 1 mm/s  | 11               |\n",
    "| X Axis Speed (nozzle tangential speed) | 60 mm/s            | N/A     | 1                |\n",
    "| Extrusion Temperature                  | 200 °C to 220 °C   | 20 °C   | 2                |\n",
    "| Layer Height                           | 0.2 mm to 0.3 mm   | 0.1 mm  | 2                |\n",
    "| Normalized Amplitude                   | 0 to 1             | 0.2     | 6                |\n",
    "| Experiment Type                        | ‘Fixed X Speed’    | N/A     | 1                |\n",
    "| Signal Type                            | Step               | N/A     | 1                |\n",
    "\n",
    "A full factorial experiment design with repetition was selected using the conditions listed in the prior table, this yielded 959 experiments in total. Each experiment requires around 45 seconds. At the start of each bead, a small amount of material is deposited while holding the nozzle stationary as a sort of tacking down of the bead to the build plate. This is done to ensure that the beads have a reliable and repeatable starting point. For the step in extrusion speed, the change up in extrusion speed occurs at 1/3 the bead length (33.3 mm), while the change down in extrusion speed occurs at the 2/3 length position (66.6 mm). Once the bead deposition is completed, the X axis is moved back while triggering the laser line profilometer to obtain a 3D scan of the printed bead geometry. The profilometer is triggered every 0.05 mm to obtain a line profile with a profile resolution of 0.007 mm.\n",
    "The instructions to produce each experiment are written as an Aerotech AeroBasic program (“pgm”) file for the Aerotech Motion Composer software application. Each file contains position-time “PT” commands, in which all the axis of the printer are instructed to reach a specified position in a specified time. We specify commands at 1 kHz and displacements using millimeter units with decimal numbers specified to 100 nm precision. A Python script automatically generates the “pgm” files based on the list of experimental conditions as specified by our full factorial design. A sample of the PT commands is shown in the figure below:\n",
    "\n",
    "<img src=\"images/PositionTimeCommands.png\" alt=\"Description\" width=\"600\"/>\n",
    "\n",
    "The dynamic process response, assuming a first order response, can be found by building a “time constant” map of the system given experimental data. The experiment setpoints are shown in the figure below. The experiment setpoints were found using a full factorial experiment design of the different experiment variable arrays (set points per variable, e.g. extrusion temperature = [200, 219]) of experimental parameters (e.g., extrusion speed, traverse speed, period, signal type, temperature, layer height, and amplitude) and computes the Cartesian product of all these experiment variable arrays. Each element of the resulting list represents one unique combination of the provided experiment variables. For statistical significance, each setpoint was repeated at least 5 times per set, the experiment sets were repeated 3 times, totaling 15 repetitions per experiment condition. \n",
    "\n",
    "<img src=\"images/experimentSetpoints.png\" alt=\"Description\" width=\"400\"/><img src=\"dummyProcessMap.png\" alt=\"Description\" width=\"400\"/>\n",
    "\n",
    "\n",
    "\n",
    "---\n",
    "\n",
    "### **Step 4: Collect Data Using Sensors & Instrumentation**  \n",
    "Accurate data collection is critical. Use **high-quality sensors** and a **data acquisition system (DAQ).**  \n",
    "\n",
    "#### **Measurement Considerations:**  \n",
    "- **Sampling Rate:** High enough to capture transient dynamics.  \n",
    "- **Sensor Accuracy:** Should match the expected variations in the process.  \n",
    "- **Noise Filtering:** Use signal processing techniques like averaging or Kalman filters.  \n",
    " \n",
    "**Tools Used:**  \n",
    "- MATLAB, Python for data processing.  \n",
    "\n",
    "**Example from FFF:** \n",
    "\n",
    "To collect repeatable and accurate experimental datasets, high quality components were selected. The system is based on a gantry with split kinematic design. Two brushless-motor-and-ballscrew-driven vertical lift stages (with axis labels Z and ZZ) carry the X stage plate, which is an aluminum breadboard upon which the linear-motor-driven X axis stage is mounted. The X stage carries the extruder and a suite of sensors. The Y stage is mounted independently on a tabletop stainless steel optical breadboard. The use of linear motors in FFF motion systems is uncommon due to their high cost. The X and Y stages are linear-motor-driven motion stages providing high acceleration, high speed, precision, and high resolution of motion variables. Each of the X, Y, Z, and ZZ stages has 300 mm of travel with ±10 μm positioning accuracy along the stage. The extruder motor or “E Servo” is a brushless servo motor with an amplified sinewave encoder. The details of the motion stages are provided in the table below from the manufacturer’s datasheet.\n",
    "\n",
    "| Type             | Brand    | Model         | Feedback Signals Collected                             | Encoder Position Resolution                                  | Accuracy               |\n",
    "|------------------|----------|---------------|--------------------------------------------------------|--------------------------------------------------------------|------------------------|\n",
    "| X and Y Stages   | Aerotech | PRO165LM-300  | Position, Velocity, Acceleration                       | 5 nm                                                         | ±10 μm                 |\n",
    "| Z and ZZ Stages  | Aerotech | PRO115SL-300  | Position, Velocity, Acceleration                       | 1 μm                                                         | ±10 μm                 |\n",
    "| E Servo          | Aerotech | BMS35         | Position, Velocity, Acceleration, Motor Current        | ~28 μm (including gearbox to filament extruder)              | Not specified          |\n",
    "\n",
    "The Z and ZZ stages are mounted on Isel WV 6 (Isel USA, New York) aluminum 90-degree angle brackets. The entire system is mounted to a 1200 mm x 1200 mm optical table. The system’s major components are shown in the figure below:\n",
    "\n",
    "<img src=\"images/AerotechSystemOverview.png\" alt=\"Description\" width=\"400\"/>\n",
    "\n",
    "The X stage carries the extruder and its associated sensor suite. The extruder is a combination of custom machined parts and commercial off-the-shelf components. The drive gears and housing are Bondtech QR-1.75RH (Bondtech, Värnamo, Sweden) with the gear reduction components removed (so a gear ratio of 1). The extruder heatsink and nozzle are the Voron version of the E3D Revo (E3D, Oxfordshire, United Kingdom).The sensors include 1) a K-type thermocouple inserted into the heated brass nozzle near the tip of the nozzle to be in direct contact with the polymer melt, 2) a fiber optic pressure sensor placed at the same level as the thermocouple near the nozzle exit to measure the internal pressure of the polymer melt, 3) a load cell placed between the drive or “hobbed” gears of the extruder motor and the heat sink of the extruder to measure the force applied on the filament, 4) a filament encoder to measure displacement of the filament, 5) a thermal camera with a telephoto lens option to capture the thermal cooling dynamics of the printed beads, 6) electrical current feedback from the extruder servomotor, 7) laser line profilometer to obtain a 3D scan of the printed bead geometry for later use to calculate flow rate. The details of each sensor are listed in the table below:\n",
    "\n",
    "| Sensor                        | Make and Model                    | Measurement Range                                                  | Minimum Resolution                                                            |\n",
    "|-------------------------------|-----------------------------------|--------------------------------------------------------------------|-------------------------------------------------------------------------------|\n",
    "| K-Type Thermocouple           | Omega                             | Amplifier set 0–250 ºC                                               | 7.63×10<sup>−4</sup> ºC                                                        |\n",
    "| Fiber Optic Pressure Sensor   | Optrand AutoPSI-TC sensor         | 0–100 bar                                                          | 0.092 bar                                                                    |\n",
    "| Load Cell                     | Omega LCHD-25                     | 25 lb                                                              | 0.000763 lb or 0.346 g                                                         |\n",
    "| Filament Encoder              | Encoder Model 15S Accu-Coder      | 4096 counts per revolution (CPR)                                   | 4.6 μm                                                                       |\n",
    "| Thermal Camera                | Optrix Xi-400 HFOV                | 0–250 ºC                                                           | 2 ºC                                                                         |\n",
    "| Current Feedback              | Aerotech NDrive HPe               | 9.8 Amp (Servo Peak)                                               | –                                                                            |\n",
    "| Line Profilometer             | LMI Technologies Gocator 2410     | Height Measurement Range 6 mm                                      | - Resolution across bead width: 6 μm<br>- Resolution bead height (Z): 1.1 μm<br>- Resolution along bead length: 50 μm |\n",
    "\n",
    "A close-up view of the extruder assembly is shown in the figure below:\n",
    "\n",
    "<img src=\"images/AerotechXPlateCloseUp.png\" alt=\"Description\" width=\"400\"/>\n",
    "\n",
    "---\n",
    "\n",
    "### **Step 5: Process and Visualize Data**  \n",
    "Once data is collected, process it to understand trends.  \n",
    "\n",
    "#### **Data Cleaning & Preprocessing:**  \n",
    "- **Remove outliers** using statistical methods (e.g., Z-score, IQR filtering).  \n",
    "- **Normalize Data** if inputs have different units.  \n",
    "- **Smooth Data** using moving averages.  \n",
    "\n",
    "**Example from FFF:** \n",
    "\n",
    "After the completion of each experiment, three files are produced: 1) a thermal camera video of the experiment in raw AVI format (RAVI), 2) a time synchronized sensor feedback log from the Aerotech motor drives and their digital and analog I/O ports in CSV format, 3) a 3D height map of the printed bead in csv format from the laser profilometer. The sensor feedback data file contains the following list of signals: 1) local time of the experiment, 2) x, y, z axis commanded and encoder feedback values for position, velocity, and acceleration, 3) extruder servo commanded and encoder feedback of position, velocity, average velocity, acceleration, motor current, and average motor current, 4) filament encoder counts, and 5) analog voltage signals for the pressure sensor, thermocouple, and load cell. In total 32-time synchronized signals are collected at a sampling frequency of 1 kHz. \n",
    "The 3D height map file is used to calculate the bead cross sectional area as shown in the figure below. The Python processing script extracts a smaller region of the height map as the region of interest (Panel A of the figure below). Then, any missing pixels are filled column-wise using a linear interpolation approximation. A mask is then created of the area surrounding the printed bead from the filled height map using a height threshold. Using the mask, a polynomial fit is then used to fit to each line in the scan (line across the bead width). Evaluating the fit for each line creates a complete surface that closely represents the original scan surface. Using the fitted surface, the scan is normalized by subtracting the fitted surface from the original scan (Panel B of the figure below). This ensures no twist remains in the scan by referencing the build plate to zero. To find the bead cross sectional area along the length of the bead, each scan line (across the width of the bead (Panel C of the figure below)) is numerically integrated to find the bead area at that position. The process is completed for all the scan lines until the complete bead area across the bead length signal is obtained (Panel D of the figure below). \n",
    "\n",
    "<img src=\"images/scanProcessingScriptV2.png\" alt=\"Description\" width=\"400\"/>\n",
    "\n",
    "Other processing steps include conversion of the voltage signals for the pressure, thermocouple, and load cell signals into SI units. All the data from the thermal camera frames, sensor feedback signals, and calculated bead area signal is then saved into one json file for each experiment. This allows for easy access of processed data for any future application. \n",
    "\n",
    "Two time constants are identified: one in the rise and one in the fall region from the step command. For each experimental set, 959 rise time constants and 959 fall time constants are identified from the experiments described in the previous section. Identifying the time constants is achieved by using the MATLAB System Identification Toolbox to identify an input-output transfer function with one pole and no zeros. The input and output signals for the system identification tool included the feedback velocity from the extruder motor and the output extrusion velocity which is calculated from the 3D scan. The input and output signals were filtered to remove high frequency noise prior to system identification. A fourth order Butterworth filter was used for this task, with a cutoff frequency of 15 Hz. \n",
    "\n",
    "#### **Visualization Techniques:**  \n",
    "- **Scatter Plots:** Show relationships between input and output.  \n",
    "- **Heatmaps:** Represent process maps in 2D.  \n",
    "- **Surface Plots:** Visualize multi-variable interactions.  \n",
    "\n",
    "**Example from FFF:** \n",
    "\n",
    "This section shows the identified time constant map for printing with extrusion temperature of 200 C and 0.2 mm layer height. The figure below shows the time constant map in three formats 1) a 3D surface plot showing the topography of the identified time constant values across various extrusion speed jumps, 2) a 2D contour map that shows the contours of the time constant values, and 3) a contour map that shows the time constant with respect to an initial velocity and jump magnitude (∆V) in extrusion velocity.\n",
    "\n",
    "<img src=\"images/Combined_Temp_200C_LH_0.20mm_NoOutliers.png\" alt=\"Description\" width=\"400\"/>\n",
    "\n",
    "To highlight the variability in the data after removing outliers, The figure below shows the mean surface with the standard deviation shown in “hot” colormap. At each sampling point, time constants that show a deviation from the median by a time constant value of 0.5 s or more were removed. \n",
    "\n",
    "<img src=\"images/Surface_Temp_200C_LH_0.20mm_Variation_Heatmap_NoOutliers.png\" alt=\"Description\" width=\"400\"/>\n",
    "\n",
    "In current FFF slicer software, the transitions in velocity are typically between zero initial velocity and a higher velocity. On the other hand, retraction (negative filament velocity, a pull up motion) is typically used to terminate the polymer flow, the retraction volume and speed are typically user set through trial and error. In the experiments shown thus far, retraction is not used, this was done to study the “natural decay” response of the system. \n",
    "\tIn the figure below, the time constants relating to extrusion conditions that are typically set by 3D printing slicers are shown. Experiments at the lower values of velocity show higher variance in the identified time constant which can be hypothesized to be a result of sensitivity to the initial conditions before the step jump in extrusion velocity such as melt pressure or the existence of air pockets within the polymer melt. A similar high variability of the identified time constant can be observed at the higher values in extrusion velocity. At higher speeds, flow is sensitive to variation in polymer melt pool temperature. At the high flow rate, the polymer cools quickly within the nozzle from the initial temperature, as variations of the initial temperatures could exist between repetitions, higher variations of the time constant can be observed.\n",
    "\n",
    "<img src=\"images/2D_TimeConstant_RisingFalling_Temp_200C_LH_0.20mm_NoOutliers.png\" alt=\"Description\" width=\"800\"/>"
   ]
  }
 ],
 "metadata": {
  "kernelspec": {
   "display_name": "Python 3 (ipykernel)",
   "language": "python",
   "name": "python3"
  },
  "language_info": {
   "codemirror_mode": {
    "name": "ipython",
    "version": 3
   },
   "file_extension": ".py",
   "mimetype": "text/x-python",
   "name": "python",
   "nbconvert_exporter": "python",
   "pygments_lexer": "ipython3",
   "version": "3.12.3"
  },
  "widgets": {
   "application/vnd.jupyter.widget-state+json": {
    "state": {
     "066e1364b70d487b9a2f57bb6d6fa54a": {
      "model_module": "@jupyter-widgets/controls",
      "model_module_version": "2.0.0",
      "model_name": "HTMLStyleModel",
      "state": {
       "description_width": "",
       "font_size": null,
       "text_color": null
      }
     },
     "0b5ae30a737440df95e55eceebc31e44": {
      "model_module": "@jupyter-widgets/controls",
      "model_module_version": "2.0.0",
      "model_name": "ButtonModel",
      "state": {
       "description": "Qualitative",
       "layout": "IPY_MODEL_91bb8f2ef9ef4205a026653d6a2a7790",
       "style": "IPY_MODEL_f66b1244f1ae4ae690ec9cd21ae3b883",
       "tooltip": null
      }
     },
     "0d4a5b6142a74a5f927101040c962d51": {
      "model_module": "@jupyter-widgets/controls",
      "model_module_version": "2.0.0",
      "model_name": "HTMLModel",
      "state": {
       "layout": "IPY_MODEL_acfeda2827e44c2fab2121c3f23415e9",
       "style": "IPY_MODEL_8ce97e858fbc4169a8490225eff43804",
       "value": "<b>Question 4 of 6:</b> <br><div style='font-size:16px'>Colors observed in a sunset.</div>"
      }
     },
     "125a4abe74324af6bf424d49dcf01f0d": {
      "model_module": "@jupyter-widgets/controls",
      "model_module_version": "2.0.0",
      "model_name": "HTMLModel",
      "state": {
       "layout": "IPY_MODEL_4c44e7bacefc44a890dd244a6ad5e426",
       "style": "IPY_MODEL_1f663055a4ba4b79ad1eac87824b756d",
       "value": "<b>Question 1 of 6:</b> <br><div style='font-size:16px'>The temperature recorded hourly throughout a day.</div>"
      }
     },
     "13ca759fd1dd45d0b821d338ee32dd49": {
      "model_module": "@jupyter-widgets/controls",
      "model_module_version": "2.0.0",
      "model_name": "ButtonModel",
      "state": {
       "description": "Quantitative",
       "disabled": true,
       "layout": "IPY_MODEL_d1afd22244bb47bd99fb6025052231e7",
       "style": "IPY_MODEL_ff265abf7bf74b9f9191022dc679f6d5",
       "tooltip": null
      }
     },
     "196af884e571442e844c487b55bbeae7": {
      "model_module": "@jupyter-widgets/base",
      "model_module_version": "2.0.0",
      "model_name": "LayoutModel",
      "state": {}
     },
     "1f663055a4ba4b79ad1eac87824b756d": {
      "model_module": "@jupyter-widgets/controls",
      "model_module_version": "2.0.0",
      "model_name": "HTMLStyleModel",
      "state": {
       "description_width": "",
       "font_size": null,
       "text_color": null
      }
     },
     "2367219cdce04fa4a95f6234dbdfd3e8": {
      "model_module": "@jupyter-widgets/base",
      "model_module_version": "2.0.0",
      "model_name": "LayoutModel",
      "state": {}
     },
     "2996ccc273d44e88aae65bfacf4c86a8": {
      "model_module": "@jupyter-widgets/controls",
      "model_module_version": "2.0.0",
      "model_name": "ButtonModel",
      "state": {
       "description": "Qualitative",
       "layout": "IPY_MODEL_e7cb8d4d31274515b4e92aa41fa87f9d",
       "style": "IPY_MODEL_31cac0baa33c4a7c8eff470951725368",
       "tooltip": null
      }
     },
     "2afa75545a8a4dbc8005c2fbba14dd93": {
      "model_module": "@jupyter-widgets/controls",
      "model_module_version": "2.0.0",
      "model_name": "VBoxModel",
      "state": {
       "_dom_classes": [
        "widget-interact"
       ],
       "children": [
        "IPY_MODEL_5355a6a234094b25927a64c931d587b2",
        "IPY_MODEL_2c19b628b725482091d9826ae710fd73"
       ],
       "layout": "IPY_MODEL_196af884e571442e844c487b55bbeae7"
      }
     },
     "2c19b628b725482091d9826ae710fd73": {
      "model_module": "@jupyter-widgets/output",
      "model_module_version": "1.0.0",
      "model_name": "OutputModel",
      "state": {
       "layout": "IPY_MODEL_45a88a7644514977a28c6b34f4ec292b",
       "outputs": [
        {
         "data": {
          "image/png": "iVBORw0KGgoAAAANSUhEUgAAAi4AAAE/CAYAAABhKEh8AAAAOXRFWHRTb2Z0d2FyZQBNYXRwbG90bGliIHZlcnNpb24zLjguMCwgaHR0cHM6Ly9tYXRwbG90bGliLm9yZy81sbWrAAAACXBIWXMAAA9hAAAPYQGoP6dpAACxUklEQVR4nOydd3gU1f6H39lssum9kZBGDb0XQbqAgIhiR2zotVy7XrxWyrV37P7uVcSGBUVUVBRpIr13Qk1IIL33tvP74+xsSTZ9k91N5n2ePLuZmZ09szNz5nO+7UiyLMuoqKioqKioqDgBGns3QEVFRUVFRUWlsajCRUVFRUVFRcVpUIWLioqKioqKitOgChcVFRUVFRUVp0EVLioqKioqKipOgypcVFRUVFRUVJwGVbioqKioqKioOA2qcFFRUVFRUVFxGlThoqKioqKiouI0qMJFxWZIksT48eMtli1atAhJkti4caNd2tQYEhMTkSSJW2+91d5NUVGxKRs3bkSSJBYtWtSkz8XGxhIbG9sqbWpNnKG/UWk5qnBRsWDOnDlIksQHH3zQ4LYTJkxAkiRWr17dBi1rGdZElaNTVlbGa6+9xogRI/Dz88PNzY1OnToxZMgQ7rvvPjZt2mTvJjoMsbGxSJJk/HN1dSUoKIj+/ftz8803s3LlSiorK23yXc0VA47E+PHjkSSpTb7r1ltvNZ6XX3/91eo2iuD46KOP2qRNKs6N1t4NUHEs7rzzTr766iv+97//cc8999S53enTp9m0aRORkZFMmzYNgGPHjuHp6dlWTbUZkZGRHDt2DD8/P3s3xUhRURFjx45l3759hIeHc9VVVxEWFkZ6ejoJCQl88MEH5OXlMW7cOHs31aF48MEH8ff3R6/XU1BQQEJCAitXruTzzz+nZ8+efPHFFwwdOtTezWwzhg8fzrFjxwgODrZ3UwB47LHHmDp1Ki4uLq2y//vuu4/rr7+e6OjoVtm/imOgChcVC8aPH0+PHj3Yt28fe/fuZfDgwVa3++ijj5BlmXnz5hk7ofj4+LZsqs1wdXV1uLYvWbKEffv2MWXKFH7++Wfc3Nws1qempnLq1Ck7tc5xeeihh2q5OPLz83nmmWd45513mDx5Mjt27KBHjx72aWAb4+np6TDXdrdu3Thy5AhLly7lH//4R6t8R3BwsMOINJXWQ3UVqdRC6VTqMttWVVWxbNkyNBoNt99+u3F5Q+6YTz/9lEGDBuHh4UFoaCjz5s0jLS2t1naKGbu8vJwFCxbQvXt33NzcjDEo+fn5vPrqq0ycOJHOnTvj5uZGSEgIl19+OVu3brXY17Jly4wm8U2bNlm4ExRTf30xLhcuXOCf//wnsbGxxu+58sor2bVrV61tle9atmwZGzZsYPz48fj4+ODr68v06dM5cuRInb9NTbZs2QLAPffcU0u0AHTq1IkxY8bUWl5VVcX777/PyJEj8fX1xdPTk0GDBvHuu++i1+sttjU/7sTERK6//nqCg4Nxd3dnyJAh/PTTT7X2X15ezptvvsmgQYMICAjA09OTqKgoZs6cydq1a2ttv3btWqZOnUpgYCDu7u50796df//73+Tl5dXatqHz3lz8/Px4++23ufnmm8nLy+Pxxx+3WH/ixAkef/xxhg4dSkhICDqdjpiYGP7xj39w7tw5i21vvfVWJkyYAMDixYstriclrqIp12d9PPHEE0iSxJ9//mmx/Mknn0SSJLp27VrrM+Hh4RbWhppuLeWcK25G8/Zbu3dLSkqYP38+0dHR6HQ6unXrxksvvYQsy40+DoVnnnkGT09PFixYQHFxcaM/d+LECW666SYiIiJwc3MjIiKCm266iRMnTtTatq4Yl40bN3LZZZdZnI9hw4ZZdfeVlJTw4osvMnDgQLy8vPD29uaiiy7iq6++auohq7QSqnBRqcUtt9yCm5sby5cvp7S0tNb61atXk5aWxpQpU4iJiWnUPt98803uvvtuBgwYwEMPPUTPnj355JNPGDVqFJmZmVY/c9VVV/Hf//6Xiy++mAcffJC+ffsCwiX11FNPodFomDFjBo888giXXHIJf/75J2PHjrXwow8cOJCFCxcCEBMTw8KFC41/DcW8nDlzhqFDh/LBBx/QrVs3Hn30UaZOncqvv/7K6NGj+fHHH61+bvXq1UyZMgVfX1/uvvtuxowZw2+//cb48ePrPNaahISEAFjtnOuisrKSyy67jHvvvZf8/HzmzJnDnXfeiV6v5/777+fmm2+2+rmkpCSGDx9OYmIiN910E9dddx1HjhzhiiuuYN26dRbb3nzzzTzyyCNUVVVx880388ADDzBhwgSOHDnC77//brHt+++/z9SpU9m6dStXXnklDz30EIGBgbzyyitcdNFF5ObmWm1PXee9pSxYsACAn376iYKCAuPylStX8uGHHxIVFcUNN9zA/fffT69evfj4448ZNmwYKSkpxm2vuOIKbrnlFgDGjRtncT0plp6mXJ/1MWnSJIBa52D9+vWAuD4TExONyw8fPkx6errxc9bw9/dn4cKFxvvWvP01BWJlZSVTpkzh+++/Z9q0adxxxx2UlpbyxBNPNCu+JyIigkcffZS0tDReeeWVRn1mx44dDB06lC+//JIRI0bwr3/9ixEjRvDll18ydOhQduzY0eA+fv31VyZOnMiWLVuYNGkS//rXv7jqqqvw9PSsFcuXl5fHxRdfzJNPPolWq2XevHnccsstZGZmMmfOHJ5++ukmH7dKKyCrqFjh2muvlQH5008/rbVu+vTpMiCvXLnSYjkgjxs3zmLZwoULZUB2dXWV9+7da7HuoYcekgF53rx5FsvHjRsnA3K/fv3kzMzMWt+fl5dndXliYqIcFhYm9+zZs9Y6a21TOHv2rAzIt9xyi8XyyZMny4D80ksvWSzfvHmzrNFo5ICAALmgoMC4/JNPPpEB2cXFRf7zzz8tPvP4449b3Vdd/PLLLzIgu7m5yXfffbf8448/yikpKfV+RvmtH3zwQbmqqsq4vKqqSp43b54MyD/88EOt4wbkRYsWWexrzZo1MiBfeumlxmV5eXmyJEnykCFDLPavkJWVZbFvV1dX2dfXV05ISLDY7q677pIB+Y477rBY3tB5r4+YmBgZkM+ePVvvdp07d5YBecOGDcZlKSkpcllZWa1tf/31V1mj0ch33XWXxfINGzbIgLxw4UKr39Gc69MaJSUlsk6nk4cNG2Zclp+fL7u4uBivzY8++si4bsmSJTIgf/bZZw22Vfmt60L5PadNmyaXlJQYl6enp8t+fn6yr6+vXFFR0ajjuOWWW2RAXrt2rVxYWCiHhYXJXl5e8oULF4zbKNfu//73P+Oy6upquWfPnjIgf/311xb7XL58uQzIPXr0kKurq2vtx/z8XnnllTIg79u3r1bbap4npa2vvfaaxfLS0lJ56tSpsiRJtfoxlbZHFS4qVvnzzz9lQB4zZozF8uTkZNnFxUUODw+XKysrLdbVJ1xqihNZFh28n5+f7O7ubvHgUDpV84dsY7nvvvtkQE5KSmqwbQrWhEtycrIMyDExMbWOU5Zlec6cObWEnSJc5s6dW2v7M2fOyIB81VVXNfpY3n33Xdnf398oLgC5U6dO8ty5c+UtW7ZYbFtdXS0HBQXJnTp1sioqcnNzZUmS5KuvvrrWccfGxlr9THR0tBwUFGT8v6CgQAbkUaNGyXq9vt62P/vsszIgP/XUU7XWZWdny97e3jY9740VLsOHD5cB+ZtvvmnUfvv27SvHxcVZLGtIuNRHXddnXYwfP152cXGRc3NzZVmW5R9//FEG5DVr1shBQUHyDTfcYNx25syZMmAhcFsqXE6dOlVr3c033ywD8qFDhxp1DObCRZZl+cMPP5QB+fbbbzduY024bN68WQbk0aNHW93vqFGjZEDetGlTrf2YC5fZs2fLQC0BXZOsrCzZxcXFQiias3//fhmQ//WvfzV4zCqti+oqUrHKxIkT6dq1K5s3byYhIcG4fOnSpVRXV3Pbbbeh1TY+ttta9oufnx8DBw6krKyMY8eO1Vo/YsSIOve3ZcsWrr32WqKiotDpdEY//bvvvgvA+fPnG902a+zbtw+AMWPGWD3OSy65BIC9e/fWWmctayUqKgqgTveINe69917Onz/PqlWreOyxx5g8eTIFBQV88cUXjB49msWLFxu3PXHiBNnZ2Xh7e/Pss8+yaNEii78lS5bg4eHB8ePHa33PwIEDrWZ5REVFWbTXx8eHmTNnsnXrVgYNGsSzzz7Lhg0bKCkpqfVZ5fdT4kHMCQwMZPDgwc06762BLMt88cUXXHLJJYSEhKDVao3X0+HDh5t1Ldnq+pw4cSLV1dXGmJT169fj5ubG2LFjmTBhgtFtVF1dzV9//UXPnj2JjIxscnut4e/vbzWOpjnXsjl33HEHvXv35pNPPuHQoUN1blffNQT134Pm3HjjjYC4ru655x6+/fZbC/efwq5du6iurgaodf8sWrSIb7/9FsDqPaTStqhZRSpWkSSJO+64gyeeeIKPPvqIV199Fb1ez9KlS5EkySIotzGEhYVZXR4eHg6IgMa61tXkhx9+4Oqrr8bd3Z3JkyfTtWtXvLy80Gg0bNy4kU2bNlFeXt6k9tVEaU9dbejUqVOd7baWVq2IH6VjbCyenp7MmjWLWbNmAVBRUcH//vc/HnzwQRYtWsSsWbMYOHAg2dnZAJw8edJC0NSkqKioUe1V2lwzoPebb77h5ZdfZvny5caYEXd3d6699lpee+01Y2xOS36/uj5jCy5cuACYYogAHnnkEZYsWUKnTp2YOnUqkZGReHh4ACLgOikpqUnfYcvrc9KkSSxYsIB169Yxa9Ys1q1bx6hRo/Dw8GDSpEl89913HD58mOLiYvLz840PaVtQ33UBTb+WFVxcXHjllVe47LLLeOyxx/jtt9+sbteSa8ic2bNns3r1al5//XU+/vhjPvzwQ0AMMF566SVjTJByD+3atctq8L2CtXtIpW1RhYtKndx2220sWLCAzz77jBdeeIH169eTlJTEpEmTrI7E6iM9Pd3qciWryFonWVeBrGeeeQY3Nzd2795Nr169LNbdddddNinMprTHWtYTiHRk8+3aCjc3N+699162b9/OF198wfr16xk4cKCxHVdeeSUrV65ste/38PAwjkCTk5P566+/WLZsGZ999hmJiYnG39789+vTp0+t/dT3+7VWYbTTp0+TkpKCVqtlyJAhAGRkZPD222/Tt29ftm7dio+Pj8VnmpNJYsvrc/jw4Xh7e7Nu3ToyMjI4fPgwzz77LGAK3v3zzz+NVq+JEyc2ub32YMaMGUycOJE1a9ZYzUYD296DM2bMYMaMGRQXF7Njxw5Wr17NBx98wIwZM9i3bx+9evUy7ufhhx/mjTfeaM5hqbQRqqtIpU7CwsK4/PLLycjI4KeffjKmR995551N3pe1zjo/P5/9+/fj7u5eq4Ovj1OnTtG7d+9an9Hr9fz9999WP6PRaJo0Qhw0aBAAf//9N1VVVbXWb9iwAaDOOjetjfKAlQ1pqfHx8fj7+7N9+3abVYhtiKioKG688UZ+//13unfvzl9//UVOTg5g+v2slV7Py8tr1nlvKYolaubMmfj6+gIiM0ev1zNlypRaoiUlJYUzZ87U2o/iVqvremrO9VkXWq2WsWPHcvToUZYvXw6YBEv37t2Jiopi3bp1rF+/Ho1GU6dbpanH0Ba89tprSJLE/Pnza1n2oP5ryHx5U+5BLy8vJk6cyBtvvMGTTz5JeXm50eIzfPhwNBoNmzdvbtqBqLQ5qnBRqRelpsurr77Kjz/+SEhICFdccUWT9/P5558bfdYKixYtIj8/nxtuuAGdTtfofcXGxnLy5EmLOAFZllm8eDFHjx61+pmgoCCSk5Mb/R2dO3dm8uTJJCYmsmTJEot1O3bsYPny5QQEBHDllVc2ep9N4cMPP2T79u1W1x0/fpwVK1YAGGu5aLVa7r//flJTU3nggQesprGnpqbW+fs0hszMTKvpp8XFxRQWFuLi4mJ0I8ydOxdXV1feeeedWoXynnnmGQoKCpg7d26TzntzKSgo4IEHHuDzzz/H39+fl156ybhOSWH++++/LR7iRUVF/OMf/7AqWoOCggDqvJ6ac33Wh2JFefHFF/Hx8WHYsGHGdZMmTWLTpk1s2bKFAQMGEBgY2Kh9NnQMbcGgQYOYO3cuBw4csGrZGj16ND179uTvv//mu+++s1j33Xff8ddff9GjRw8uvvjier9n3bp1Vu8HxQrs7u4OQGhoKDfeeCO7d+/m2WeftXruT58+zdmzZxt9jCqtg+oqUqmXKVOmEBcXZ3xgKTVemsr06dMZPXo01157LZ06deLvv//m77//JjY21uJB0hgefvhh7r77bgYPHsxVV12Fq6srW7Zs4ejRo8ycOZOff/651mcmTZrE119/zaxZsxg0aJBxJDt27Ng6v+fDDz9k9OjRzJ8/nz/++IOhQ4eSnJzMihUr0Gg0fPLJJ7VG6bZizZo13HPPPcTGxjJ69GiioqIoLy/n5MmT/P7771RWVvLAAw8wfPhw42eeeeYZDhw4wIcffsjPP//MxIkTiYyMJCMjg5MnT7Jlyxaef/55evfu3aw2nT9/npEjR9KrVy8GDx5MVFQUBQUFxro+9913n9GSERsby5IlS7j33nsZPHgw1157LSEhIWzatIlt27YRHx/Pyy+/bJPfypwlS5bg7++PLMvGkv9//fUXxcXF9OjRgy+++MKiam54eDjXX389X3/9NQMHDmTKlCnk5+ezdu1a3N3dGThwIPv377f4DiUA9uuvv8bV1ZXo6GgkSeKmm24iJiamWddnfSgWloyMDC677DKLYPFJkyaxbNkyi+0au88VK1Ywe/Zspk2bhoeHBzExMdx0001NaltLef7551mxYoXVKtCSJPHpp58yefJkrrvuOmbNmkV8fDwJCQmsWrUKHx8fPvvsMzSa+sffjz76KImJiYwfP95YSHLPnj2sX7+e6Ohorr/+euO27777LidPnmTBggV8/vnnXHzxxYSFhXHhwgWOHTvGrl27+Oqrr4iLi7P5b6HSBOya06TiFDz33HPGdNzjx4/XuR31pENv2LBBXrZsmTxgwADZ3d1dDg4Olm+99VaLWg4KDaVqyrJIPR4wYIDs6ekpBwUFyVdccYV88OBBq+mQsizqT9xwww1yaGiorNFoLFJE66rjIsuixsfdd98tR0dHy66urnJQUJA8a9YseefOnVbbBMiffPJJo3+fukhISJBfe+01+dJLL5W7du0qe3p6ym5ubnJUVJR85ZVXyj/99JPVz+n1evmzzz6TJ06cKAcEBMiurq5yRESEPHr0aPn555+Xz507Z9y2vuOW5drnITc3V168eLE8YcIEOSIiQnZzc5PDw8PlcePGycuXL7eaIv3777/LkydPlv39/WU3Nze5a9eu8vz5843pvfV9X1NQ0neVP61WKwcEBMh9+/aV586dK69YsUIuLy+3+tni4mL5ySeflLt27SrrdDq5c+fO8j//+U85Kyurzjbt3LlTnjhxouzr6ytLklTrmmvq9Vkfer1eDg4OlgH5jTfesFh3/vx54zH/+uuvtT5bVzp0VVWV/MQTT8hxcXGyVqutdW3GxMTIMTExVtvT1GOomQ5dE6XGETXSoRWOHz8uz507Vw4PD5e1Wq0cHh4u33jjjVb7Imtt++abb+Trr79e7tatm+zl5SX7+PjIffr0kZ988kk5IyOj1j7Ky8vld955R77oootkX19f4303ceJE+c0337SoV6RiHyRZbkbtZhUVFRUVFRUVO6DGuKioqKioqKg4DapwUVFRUVFRUXEanFa4rF+/nnnz5hEfH4+XlxeRkZHMmjWLPXv22LtpKioqKioqKq2E08a4XHPNNWRnZ3PNNdfQu3dvMjMzef3119m9eze///670xRiUlFRUVFRUWk8TitcMjIyCA0NtVhWVFREt27d6Nu3L3/++aedWqaioqKioqLSWjitq6imaAHw9vamd+/edi2qpKKioqKiotJ6tKsCdPn5+ezdu7deN1F5ebnFBGd6vZ6cnByCgoJabY4UFRUVFRWV9ogsyxQWFhIREdFgMUBb0a6Ey7333ktxcTFPPfVUndu8+OKL9c6eq6KioqKiotI0kpOT6dy5c5t8l9PGuNTkmWee4bnnnuOdd97hvvvuq3O7mhaX/Px8oqOjOXHiRKPn+XBGKisr2bBhAxMmTMDV1dXezWk11ONsX3SU44SOc6zqcbYvcnJy6NGjB3l5eY2aqdsWtAuLy+LFi3nuued4/vnn6xUtADqdzurEboGBgcaJx9ojlZWVeHp6EhQU1K5vIvU42xcd5Tih4xyrepztk7YMtXDa4FyFxYsXs2jRIhYtWsSTTz5p7+aoqKioqKiotCJOLVyeffZZFi1axNNPP83ChQvt3RwVFRUVFRWVVsZpXUWvv/46CxYs4NJLL2XGjBls377dYv3IkSPt1DIVFRUVFRWV1sJphcvPP/8MwJo1a1izZk2t9e0k5lhFRUVFRUXFDKcVLhs3brR3E1RUVFSorq6msrKyxfuprKxEq9VSVlZGdXW1DVrmmKjH6RxotVpcXFwcsr6Z0woXFRUVFXsiyzJpaWnk5eXZbH/h4eEkJyc75MPCVqjH6Ty4uLgQGhqKn5+fQx2DKlxUVBpLfj68+SZceimoMVQdHkW0hIaG4unp2eKOXa/XU1RUhLe3d5tVILUH6nE6PrIsU1VVRUFBAampqZSWltKpUyd7N8uIKlxUVBrL9u2wZw9UVKjCpYNTXV1tFC22qv+k1+upqKjA3d3d6R50TUE9TufBx8cHnU5HVlYWoaGhuLi42LtJgJOnQ6uotCk5OeK1oMC+7VCxO0pMi6enp51boqLSunh5eSHLsk3iuGyFKlxUVBqLIlwKC+3bDhWHwZH8/ioqrYEjXuOqcFFRaSzmFhc13V5FRUXFLqjCRUWlsSjCpaoKzCbqVFFRUVFpO1ThoqLSWBThAmqci0q7RJKkRv3Zq45WZmYmbm5uXH/99XVuU1BQgKenJ5dffjkA48ePZ/z48cb1iYmJSJLEa6+91trNBeDo0aMsWrSIxMTEWutuvfVWYmNj26Qd7Qk1q0hFpTHo9ZCba/q/sBBCQ+3XHhWVVmDbtm0W/z/77LNs2LCB9evXWyzv3bt3WzbLSEhICJdffjmrVq0iNzeXgICAWtt8/fXXlJaWcvvttwPw/vvvt3UzLTh69CiLFy9m/PjxtUTKM888w4MPPmifhjkxqnBRUWkMeXmWcS1qgK5KO6TmHG8hISFoNJoG534rKSlpswyr22+/ne+//54vv/yS++67r9b6pUuXEhYWxowZMwDbiyxbHmvXrl1tsp+OhuoqUlFpDObWFlBdRSodlvHjx9O3b1/++usvRo0ahaenJ/PmzQOEq2nRokW1PhMbG8utt95qsSwtLY277rqLzp074+bmRlxcHIsXL6aqqqre7586dSqdO3fmk08+qbXu2LFj7Nixg5tvvhmtVmtsr7mrSEGv1/P8888THR2Nu7s7Q4cOZd26dRbbLFq0CEmS2Lt3L1dffTUBAQFGsbF7926uv/56YmNj8fDwIDY2lhtuuIGkpCTj55cvX851110HwIQJE4yutmXLlgHWXUVlZWU88cQTxMXF4ebmRmRkJPfee2+tCs2xsbFcdtllrFmzhsGDB+Ph4UF8fDxLly6t9/drD6gWFxWVxmAe3wKqxUXFKrIs6hM2B71exHyXl4Ot6pW5uUFrZLOmpqYyd+5cHnvsMV544YUmF1hLT09n8uTJaDQaFixYQNeuXdm2bRvPPfcciYmJVkWJgkaj4dZbb+W5557jwIEDDBgwwLhO+ZwipOrj3XffJSYmhiVLlqDX63nllVeYNm0amzZt4qKLLrLYdvbs2Vx//fXcfffdFBcXAyJWpmfPnlx//fUEBgaSmprKBx98wLBhwzh69CiBgYFMmTKF559/nqeeeor33nuPwYMHA3VbWmRZ5oorrmDdunU88cQTjBkzhoMHD7Jw4UK2bdvGtm3b0Ol0xu0PHDjAo48+yuOPP05YWBgfffQRt99+O926dWPs2LEN/gbOiipcVFQagypcVBpBRQU88EDzPivLEhUVHri5STYTG2+/DWbPOZuRk5PDihUrmDhxYrM+/9JLL5Gbm8uRI0eIjo4GYNKkSXh4ePCvf/2L+fPn1+vimTdvHs8//zxLly7lrbfeAqCqqorPP/+c0aNHEx8f32AbqqurWbt2Le7u7oCw5MTGxrJgwQLWrl1rse0tt9zC4sWLLZZdffXVXH311Rb7u+yyywgLC2P58uXcd999BAcH061bN0C4rBpyuf3xxx/8/vvvvPLKK8yfPx+AyZMnExUVxXXXXcdnn33GP/7xD+P2WVlZbNmyxfgbjh07lnXr1rF8+fJ2LVxUV5GKSmOoKVxUV5FKByYgIKDZogXEA3r8+PFERERQVVVl/Js2bRoAmzZtqvfzcXFxTJgwgS+//JIKg4nrt99+Iy0trVHWFhBWFEW0gChvP3PmTP76669aszlfddVVtT5fVFTEv//9b7p164ZWq0Wr1eLt7U1xcTHHjh1rVBtqogRB13SrXXPNNXh5edVyZQ0cONAoWgDc3d3p0aOHhbuqPaJaXFRUGoMiXNzdoaxMtbioWMXNTVg5moNeL1NQUIqvrysajW1MLm5uNtlNLVo64V5GRgarV6/G1dXV6vqsrKwG93H77bdz44038tNPP3H11VfzySef4O3tzbXXXtuoNoSHh1tdVlFRQVFREX5+fsbl1o53zpw5rFu3jmeeeYZhw4bh6+uLJElMnz6d0tLSRrWhJtnZ2Wi1WkJCQiyWS5JEeHg42dnZFsutzZOl0+ma/f3OgipcVFQagyJcYmIgIUEVLipWkaTmu2b0evFZnc52MS6tRV1l4HU6HeVWijNae+D279+fF154wep+IiIiGmzD7NmzCQgIYOnSpYwbN47Vq1dz88034+3t3YgjEMHB1pa5ubnV2kfN483Pz2f16tUsXLiQxx9/3Li8vLycnJrW2SYQFBREVVUVmZmZFuJFlmXS0tIYNmxYs/fdnnDw20NFxUEwFy6guopUVKwQGxvLwYMHLZatX7+eoqIii2VTp07lyJEjdO3alaFDh9b6a4xwcXd3Z86cOfzxxx+8/PLLVFZWNtpNBLBy5UrKysqM/xcWFvLzzz8zZsyYBmdBliQJWZYtAmUBPvroo1puJmWbxlhBJk2aBMAXX3xhsfz777+nuLjYuL6jo1pcVFQaQ03holpcVFRqcdNNN/HMM8+wYMECxo0bx9GjR3n33Xct3C4ATzzxBJs2bWLUqFE88MAD9OzZk7KyMhITE/n111/58MMP6dy5c4Pfd/vtt/Pee+/xxhtvEB8fz6hRoxrdVhcXFyZPnswjjzyCXq/n5ZdfpqCgoFYQrjV8fX0ZO3Ysr776KsHBwcTGxrJp0yY+/vhj/P39Lbbt27cvAP/973/x8fHB3d2duLg4q26eyZMnM3XqVP79739TUFDA6NGjjVlFgwYN4qabbmr08bVnVIuLikpDmFfNVWouqMJFRaUW8+fPZ/78+SxbtoyZM2fy/fff8+2339Z6mIeHh7Nz506mTJnCq6++yqWXXspNN93E0qVLGThwoNWKuNYYNGgQgwYNQpblJllbAO677z4mT57MAw88wJw5c6iqquKXX35h9OjRjfr88uXLmTBhAo899hizZ89m9+7drF27tpZIi4uLY8mSJRw4cIDx48czbNgwfv75Z6v7lCSJVatW8cgjj/DJJ58wffp0XnvtNW666SbWr19fy8LTUZFkuWNPc1tQUICfnx9ZWVlWFXB7obKykl9//ZXp06fXGRDXHmiV48zNhZtvFgEMn34q3gOsWgUNmJRbC/V82peysjLOnj1LXFycRWZKS9Dr9RQUFODr69vkuijOhHqczkVD13p2djbBwcHk5+fj6+vbJm1y3l9TRaWtUNxE/v5gfmPW8NurqKioqLQ+qnBRUWkIRbgEBAgLi5eX+F8N0FVRUVFpc1ThoqLSEIpwUVyJitVFjXNRUVFRaXNU4aKi0hCKcAkMFK8+PuJVFS4qKioqbY4qXFRUGsLcVQQm4aK6ilRUVFTaHFW4qKg0hOoqUlFRUXEYVOGiotIQSg2XmhYXVbioqKiotDmqcFFRaQhlnpWaMS6qq0hFRUWlzVGFi4pKfej1kJcn3quuIhUVFRW7owoXFZX6yM8X4kWSQCnlrbqKVFRUVOyGKlxUVOrDvGquUt5fdRWpqKio2A1VuKio1EfNVGhQXUUq7Zply5YhSRKSJLFx48Za62VZplu3bkiSxPjx49u8fY7IrbfeSqwyAWs9jB8/3vjbajQafHx86NatG9dccw3fffcder2+2W1Yvnw5S5YsafbnnQlVuKio1EfNVGiwdBV17DlKVdoxPj4+fPzxx7WWb9q0idOnT+Oj3AcqTaJLly5s27aNrVu3smrVKh5//HFKS0u55pprGD9+PPn5+c3arypcVFRUBDVTocEkXKqqoKys7dukotIGXHfddXz//fcU1HCJfvzxx1x00UVER0fbqWVNpLxcDECsDDJKS0uR23jw4eHhwciRIxk5ciSTJk3ijjvuYPXq1SxdupTNmzdz5513tml7nBFVuKio1EfNVGgAnQ5cXcV71V2kYo4sCzHrKH8teCjfcMMNAHz11VfGZfn5+Xz//ffMmzfP6mcqKip47rnniI+PR6fTERISwm233UZmZqbFditXrmTq1Kl06tQJDw8PevXqxeOPP05xcbHFdmfOnOH6668nIiICnU5HWFgYkyZNYv/+/cZtJEli0aJFtdoSGxvLrbfeCpmZkJ3Nsg8/RJIk/vjjD+bNm0dISAienp6Ul5cD8M0333DRRRfh5eWFt7c3U6dOZd++fbX2u2zZMnr27IlOp6NXr1589tlnjfk5G+S2225j+vTprFixgqSkJOPy9957j7FjxxIaGoqXlxf9+vXjlVdeobKy0rjN+PHj+eWXX0hKSjK6oiRJMq5fvHgxI0aMIDAwEF9fXwYPHszHH3/c5qLNVmjt3QAVFYfGmqtIkoTVJSdHBOiGhtqnbSqOR3k5XHNNsz4qyTJeVVVIWq24xmzBihXg7t6sj/r6+nL11VezdOlS7rrrLkCIGI1Gw3XXXVfLLaHX65k1axabN2/mscceY9SoUSQlJbFw4ULGjx/P7t278fDwAIQgmT59Og8//DBeXl4cP36cl19+mZ07d7J+/XrjPqdPn051dTWvvPIK0dHRZGVlsXXrVvKUEgWNwSBMqKgAYN68ecyYMYPPP/+c4uJiXF1deeGFF3j66ae57bbbePrpp6moqODVV19lzJgx7Ny5k969ewNCtNx2223MmjWL119/nfz8fBYtWkR5eTkaTcvtAJdffjm//vormzdvJiYmBoDTp08zZ84c4uLicHNz48CBAzz//PMcP36cpUuXAvD+++9z5513cvr0aX744Yda+01MTOSuu+4yWsm2b9/O/fffz/nz51mwYEGL293WqMJFRaU+rLmKQATo5uSoFheVds28efOYMGECR44coU+fPixdupRrrrnGanzLt99+y5o1a/j++++ZPXu2cfmAAQMYNmwYy5Yt45577gHgX//6F76+vmg0GmRZZvTo0fTq1Ytx48Zx8OBB+vfvT3Z2NgkJCSxZsoS5c+ca92e+7wbR68UfgMFCMWnSJP7v//7PuElycjILFy7kvvvu4+233zYunzx5Mt27d2fx4sV888036PV6nnrqKQYPHswPP/xgtGhcfPHFdO/enYiIiMa3qw4UsXLhwgXjsjfeeMPscPSMGTOGoKAgbrvtNl5//XUCAgLo3bs3/v7+6HQ6Ro4cWWu/n3zyicU+xo8fjyzLvPXWWzzzzDMW1hlnQBUuKir1Yc1VBGotl/bM+fNCmDYn+FSnE1aOZiDr9RQXFODr64tkg9G7sT0tYNy4cXTt2pWlS5dy6623smvXLl5//XWr265evRp/f39mzpxJVVWVcfnAgQMJDw9n48aNRuGSmJjIyy+/zIYNG8jIyLBwWRw7doz+/fsTGBhI165defXVV6murmbChAkMGDCgaZYN8yyd6moArrrqKotNfv/9d6qqqrj55pst2u3u7s64cePYsGEDAAkJCVy4cIFHHnnE4kEfExPDqFGjSExMbHy76sCa62bfvn0sXLiQLVu2kKNYgA2cOHGCESNGNLjf9evX88ILL7Br165aMUsZGRmEhYW1rOFtjCpcVFTqwrxqbl3CRa3l0r44fx7uvRciI+Htt021exqLJDXbNYNeL9wZ7u5gK+HSQiRJ4rbbbuPtt9+mrKyMHj16MGbMGKvbpqenk5eXh5ubm9X1WVlZABQVFTF9+nQ8PDx47rnn6NGjB56eniQnJzN79mxKS0uN371u3Tr+85//8Morr/Doo48SGBjIjTfeyPPPP9+4rCYr6cWdOnWq1W6AYcOGWd2FIpSyDYOY8PDwWtuEh4fbRLgosS2K9ebcuXOMGTOGnj178tZbbxEbG4u7uzs7d+7k3nvvNf5W9bFz506mTJnC+PHj+d///kfnzp1xc3Nj1apVPP/8843ah6OhCpfmsnOncB90727vlqi0FuZVc/39LdeptVzaJ3v2iJH5uXOweTOodUq49dZbWbBgAR9++CHPP/98ndsFBwcTFBTEmjVrrK5XhMb69etJTU1l/fr1TJgwwbjeWtxKTEyMMSX7xIkTfPvttyxatIiKigo+/PBDAHQ6nTHA1pzs7GyjlcWcmm6R4OBgAL777jujq8YaQYY4t7S0tFrrrC1rDj/99BOSJDF27FgAVq1aRXFxMStXrrRom3lwckN8/fXXuLq6snr1atzNRPWqVats0mZ7oAqX5pCUBM8+K0bdn30GWvVnbJco8S3mVXMVVFdR++TIEdP7b7+FceNsFyjrpERGRjJ//nyOHz/OLbfcUud2l112GV9//TXV1dX1ui8U4aCr4cYyjzuxRo8ePXj66af5/vvv2bt3r3F5bGwsBw8etNh2/fr1FBUVmSwunp517nfq1KlotVpOnz5dy41kTs+ePenUqRNfffWVhbsoKSmJrVu3tjjG5ZNPPuG3335jzpw5xiBaa7+VLMv873//q/V5nU5n1XoiSRJarRYXsz6stLSUzz//vEXttSfqE7c5HDggXgsL4fBhGDjQrs1RaSWU+JaagblgsriorqL2gyybhIskQXIybN0Ko0fbt10OwEsvvdTgNtdffz1ffvkl06dP58EHH2T48OG4urqSkpLChg0bmDVrFldeeSWjRo3C39+ff/7znyxcuBBXV1e+/PJLDij9qoGDBw9y3333cc0119C9e3fc3NxYv349Bw8e5PHHHzdud9NNN/HMM8+wYMECxo0bx9GjR3n33Xfx8/MzCRflfoVaKeKxsbH85z//4amnnuLMmTNceumlBAQEkJ6ezs6dO/Hy8mLx4sVoNBqeffZZ7rjjDq688kr+8Y9/kJeXx6JFi6y6j+qitLSU7du3G9+fOXOGVatWsXr1asaNG2e0JIEIEHZzc+OGG27gscceo6ysjA8++IBcZVBlRr9+/Vi5ciUffPABQ4YMQaPRMHToUGbMmMEbb7zBnDlzuPPOO8nOzua1116rJRydCVW4NAfzUdn27apwaa9YS4VWUC0u7Y/z54V70M0NLr8cvvsOvvkGRo3q8FaXxuDi4sJPP/3EW2+9xeeff86LL76IVqulc+fOjBs3jn79+gHC5fLNN9+waNEi5s6di5eXF7NmzeKbb75h8ODBxv2Fh4fTtWtX3n//fZKTk5EkiS5duvD6669z//33G7ebP38+BQUFLFu2jNdee43hw4fz7bffMmvWLCFSJAm8vEwNNQvAVXjiiSfo3bs3b731Fl999RXl5eWEh4czbNgw7r77buN2t99+OwAvv/wys2fPJjY2lieffJJNmzZZnR7BGmfOnOGiiy4CwMvLi7CwMAYPHsyKFSuYPXu2RfBxfHw833//PU8//TSzZ88mKCiIOXPm8MgjjzBt2jSL/T744IMcOXKEJ598kvz8fGRZRpZlJk6cyNKlS3n55ZeZOXMmkZGR/OMf/yA0NNR4PM6GJDtrBRobUVBQgJ+fH1lZWUYfZr3IMsydaxppBwfD0qUO37FVVlby66+/Mn36dFyV4mntEJse59dfw5dfwpQpYNZRArBrF/znPyLGySxdsa1Qz2crsGYNvPce9O8Pjz8O8+aJIm5PPw01XB9lZWWcPXuWuLg4i7iBlqDX6ykwZBXZoiaIo9Jmx1lcDBcuiMyq6GhISYHSUggLs7TAtBLt5Xw2dK1nZ2cTHBxMfn4+vm3wu4JaObfpJCcL0eLmJm6IrCw4c8berVJpDepKhYb6s4pyckzWGhXnQbGk9ukjzu9ll4n/v/lGnZPKGVECdpUsJ+Wh29hpOmTZalaSiv1RhUtTOXxYvMbHg2LWNPgrVdoZih+5Ka6i8nJ46CHxZ6jUqeIEyLLp3u7TR7xecYV46J08CVZKv6s4OMr911zhogxKrWQsqdgXVbg0FaVz69fPZD7escN+7VFpPRSrSX3BuSUllj7zhAQheHJz4dSp1m+jim3IzBQPKhcX6NlTLPPzAyWO4OuvVauLs6EIFyUIVREu5eVW06QtkGVhTZVlEfek4lCowqUpmGcd9O0Lw4aJ2JazZyEjw75tU7E9inCx5iry8jLFNRUVmZabB24fP956bVOxLcqApFs3ywJys2eLCTWPHYNDh+zTNpWmI8u1LS5arWly1IasKOXlJjdRUZEqWh0MVbg0hdRU8TDTaqFHDzHqVszKzbW6HD0qAj+VjlPFMdDrTa4ia8JFowFvb/He3F1kfh4TElqvfSq2RTlvfftaLg8MhEmTxPvNm2t9rIPnNjgulZVCbGg0lnW2GusuMq+HUl0tLKsdFEe8xp1WuBQWFvLYY48xZcoUQkJC6pza3KYonVvPniYVr7iLmhvn8sknkJgImza1uHkqNiQ1VYgXNzfrriKoHaBbVWVpZTl+XB2pOQvmgbk1UcodnDhhXKQ1PAyrrKTWqjgA5tYW84zPxgoXRagoRds6cNmDSsPklC5Nnf6iFXFa4ZKdnc1///tfysvLueKKK9rmS62NyhThcvhw0y/uM2dMD7oOfGM4JOfOidfo6LrnjakZoHvqlOgwvb1Fh5eTI2InVByb3FyRNitJ0Lt37fVKzEtiotHF4OLigouLS60J61QchJoZRQrmwqWuQYUsm4SNEphfXNwhM4xkWSY/Px+dTudQZRectgBdTEwMubm5SJJEVlYWH330Uet/qTXh0qmTeLidOwe7d4PZ3BsN8uuvpveqcHEsDJOdUc/cJbXmKzIP3M7KEtkoCQkQGtp67VRpOYq1JS7OslCZQlCQsLrl5orBRq9eSJJEaGgoqamp6HQ6vLy8as2B01T0ej0VFRWUlZU5dd2PhmiT4ywuNgXgmltXlBTn6mpx31qbELKsTLiaXFzEeo1G/J+ba/36qANnPp+yLFNZWUl+fj5FRUVERkbau0kWOK1waWkn0WQyMsTo2cVFpEKbM3KkEC47djReuBQXg3mlRXXk5lg0RrjUdBWZp9OmpQnhcvw41DGbroqDUJ+bCIQlpkcPcX8nJECvXgD4+flRWlpKVlYWmTawrMmyTGlpKR4eHm3fv7UhbXKcygSL5eW1ayrl5gohUlpqfSbv4mLxp9MJ929RkXAd5eWJTLNG0h7Op06nIzIyss0KyzUWpxUubU5dWQcg3EXffitmlq2sNEWuW0G5n0K2r0cqLxf7KitThYujoQgXw2RnVvHxoVoP2acL8S3R4370qFjet6+YmHH1ajWzyBkws6TKsjj1rq4QEWEWHqEIF7M4F0mS6NSpE6GhocY4gJZQWVnJX3/9xdixYx3KLG9rWv04Kyvh1VeFdeWFFyhwCSAzE6KiDAaWvXvhzz/FgGLOnNqff+MNMeiYM0fEN50/D++/LwatL7/caKuLs59PFxcXh213hxMu5eXlFlOgKz7qysrKejsfzYEDSHo9+l69kGtuFxuLi78/5ORQvXevqTCdGcXFsGqVxJYtEsgyt+1cTSe9TP6kqXQ98ANeLvlUV1S02tQByrHZooN1ZGxynJWVuKSkgF5PdUSE6AhroNfDyWQvpGMyB3PyOLzvFLceKsEj0JOC0s50idXhptfDqVNUFxdbN0m3APV82ojCQlzOngVZ5pRrD75/qdpYCDswEAYMkOnfX6ZHXBe0ej0cO0a1lbbYInBRr9dTVVVljJ9pr7T6cSYn45KeToWrFyvWBrN1m4aqKnEL9u8vM1YbRY/0DNi7F/1NN1l+trwclx07oKqK6p49hViJjkbj4YGUlIR+507kSy5xjONsAxpz39mjD+pwwuXFF19k8eLFtZZv2LABz3qmPh/w22+45+aSkJdHnnlsioFYT0/Cjh8n+/33OTV7tnG5LMPJkwFs2RJBaan4ubsWH0WTeopkFx1vHxrKv458hZd3IWdX/Yiss+0DriZr165t1f07Ci05To/0dPqnplKt07F7x45aYvLCBS/+/juS2GPlzCwspcotGdeyjWRnlXKisjtfPpqKv18ZL+WX4lFeyJFPPqEoKqqlh2QV9Xy2DP8TJ4hLyeRsRTQvPF0EFKHViiDMc+c07N8vtvPTuvFSUi6eGRnsWbGCKiujbqmyElmrbfHgQz2nLcNj53EijxVwjM58UXoeAHf3KsrKtJw6BWsrfXnsaCk+Jw9wbtmnlIWGGD/re+YMvS5coMLXl3179xrPZYSXF1EZGeR/8gnHm1gRu72fzxI7pIp3OOHyxBNP8Mgjjxj/LygoICoqigkTJtQ9yWJODi7//S+EhRF0++3WTYW9euHy8MOEZmfTo3dviI0lKwuWL9dw4gSEhEB4ONxwg57u331BuZs75/pMY1KvPujO+qCvrqI0fTRX3hXSKkaXyspK1q5dy+TJkx3W/GcLbHGc0ubNaEJDkePjmT5jhnF5WRksXy6xd6+EpyeEdMmgi5sHQy/WUOKaTsUmDwr6jiTeI4qSEjiTOZ6x3jsYFxaGPH26rQ4RUM+nrTj4Rwa5uSGcjxxDTEwUo0bJzJgh4+Ehas4dPChx+LBEURGkJA1gsPc5psbFIQ8darmjtDRcHn0UedAg9P/6V7Paop7TlnPkCOx7O4+wKj/Ko/oyaVIUM2bo6d5duAB375bYvTuK84UT6ZK+nej1KXT77Bbj56XPPhP3/sSJdDK79xkyBJejRwktKaHLyJHWazu14XE6EtnKnG5tSIcTLjqdDp1SAtoMV1fXui+uhAQRWd61Kxp/f+vb9OgBY8fC33+jWbGCkoee5K23RByYTgczZsDkyaDNz4M9u3D10tD7XzPpHeNK1i9+XDicw8GtpWgjXJk9u/Umm673ONsRLTrO8+fF+e7SBRezfXz+uXCPu7gI9/gVXQLwekGCkmJ8885DkMSURwYwONiFV16BU9rexJzbRWzCqVb7zdXz2Xx274bczccJQ8J7RD8WP+ZCp06m9cOGiT+9Hj74ANKO9CQpKYXO+87gd9FFljvbtEkEe+7Zg0sLrS7qOW0eOTnw2WcwriAZL2+J8TfFEnm3CyDcNN27i7/rroOtK25D/vduKrfuIWHFMfrO6S92cvSouPcHDbK49+ncWQRlJySg2bEDLr/cbsfpaNjj2Jqco1VcXMwvv/zCk08+yS233MK1117LP//5T959912OmJc7b0/UVVWzJnPmiA5r2zZWLzlFbq6wtCxcKKY80WqB338XPWHfvsaMleA4Hzp3BveKQv74A375pXUPR6UBrATm7tgh/jQaePhhuPFG8Ao3ZBWlpJhSK7t1IzgYHnwQ8sLjKSmGk6sTGpwaRaVtycyE5csqCCk4TWgoXP5EHwvRYo5GA3fcAfToQXU17PnqhGUsvSybCkiWl6vTf9iBqir4739FLGEMSXTpApGjrGcEajRw8XWRVE8V81BlvvQxp0/J4sMnT4qN+vev/cFx48TrX3+1xiGoNIFGC5eTJ09y991306lTJ2bOnMnLL7/M6tWr2bJlC8uWLeOBBx6gf//+DBw4kKVLl6Jvg2I9v/32G9999x0///wzAEePHuW7777ju+++s63fTSndXle6pEJUFIwfT14eeHz/BRoN3H67EC+A6NR+/128N3cd+PoSGAjTLxa94c8/i6B3FTuhFJ8zCMvMTFi+XCyaMcNUj8yYDq0UsoqPN5YXj4yEqx7vjuziQmVqNt++n6UW0XUQqqrgf/8D3/ST+HhWE9Yr0OwmtY5OB9Mf6oGbG3innuDdd2TTdDcnToj0dwXl+lFpGaWlja48/f33Yso4X7cyegelo5Gov5QBMOil6/EM9iQo/wx/PLmRvC1HxPdFREBwcO0PKFa2EycanqRRpVVplHB5+OGH6du3L1u3buWZZ55hx44dlJeXk52dzfnz5ykpKeH8+fOsWLGC/v378+CDD9K/f392797dqo2/5557uOaaa5g3bx4AK1as4JprruGaa64hw5ajHqVGQ11DMjPypt1A8gUNMVl7uLbfMeLiDCuKi+GZZ4Q9MzDQdBOA8QE4pHsBs2ZhOBaT+FdpQ8rLTQ+hmBiqq+Hjj0V8S7dulnqTmrUNaljkuvXRETE6DiRI/vM4VmK6TcgyfPqpSKtXaVVWrhRGtdiy40RFg9QrvlGuHe++scT2cMVLX0TesVQ++sjwXK05XYdisVNpPqdPC59OIwqL7tkD69eL93dMTsLNVRb1VhqouaIJ8CPm0atx94D+Bz5ny1u7hR6xZm0B0W9LkjpjtAPQKOGyd+9e1q5dy8GDB5k/fz7Dhg0zztWh0KlTJ2bPns1nn33G+fPnufbaa9myZUurNFohMTERWZat/sXGxtrmS6qqTJVRGwjIkmX4ZE0nDodPxsMTxiV/IVbk5MDjj4toPy8v8d789zOrwDptGowaJf79/ntDx6g81LZutc0xqdRNcrL4vQ0d3+rVYiTn4QHz5tWo/u/mZpnmbMUiFzK6J50jITzvOL/9Zpq3sRYHD8J334lAGrWKcqtx8CCsWyfeXxp7HDdXaheUrAutFvfeXYmNg8iiBA4ehJ3b9abJFw2F6VSLiw04elTch7/+Wq9ISE+T+fm9cww6u5JHsp6k59J/ixUNWFsUXK+eRcyQYAKqM+l8eA3nLwADBljfWKMxiaG8vMYfi4rNaZRw2bRpE2PHjm30Tn19fVmwYAEPPvhgsxvmMCgXqFZrcg3Uwbp1ot7YwV7XER2nRXP4IKxdC//+t5jnJCAAXnrJ1MEpmM15I0lw5ZXCNH32rAgG5eRJ8VB7/3110r7Wxqxi7okT8Ntv4t+5c03TlligiE6t1syHZEZ8PAGB0IvjVFYKN6BVzFdcuNDc1qvUQ24uLFsm3k+aKBOeZygO2FjhAtCjB16eMClamEN3fXwQfW6euIcVc6lqcWk5inivqhJ9qBX0FVWcuu4pZq+7l8kpn9Cj/JBw4UREwFVXNe573NzQ3X4TsTEgIZOXCxeC+tW9vZKcoQoXu+JcEyjYA6VctL9/vebkCxfghx/E+2k3h6Cbdan45+23heshPBxeeQWsWYKUh58h4s/XF6ZMEYt++AGq0rLEP/n59QzZVWyC4aFT3TmGTz4ROnHUKKiZ/WpEEZ3duwu1WZP4eCSgl+40Gn0lW7eKiactSE2FnTtN/6ektPQoVKzwww+G4M0YmD06XTx8tFro2rXxOzGI03hNAr6+EHJ0k+giLr4YunQR2xiKF6q0APPo599+s/p7nnjvD3wSDyG5aom8fAjSXXeKCN3/+z+rRUDrZMIEPPt2wc8Psn1iWbWhHheTKlwcgiYLl3PnztX5l5KSQmF7M3MrQqEBN9FPP4nBQb9+hqlprrnG5EaIjRWlosPDrX+45pw3iNRpX18RXnN4s5lYOXu2eceh0jgMZv5jxdHk5Ih+6vrr69leOXd1ZZyFhYGfH966KsZGnEaWYdWqGtv88oulJU21uNiczEyTNpw7F7SnDNaWrl2bVtW4e3cAtElnmDmphK7pW8lIh4qLxolz7eYmZgg3D9ZVaTrmwiUjQ+SumyGXV1D26TcAlM+9HfeXFsHMmY2KQ6yFJME99xDSO5hD0TM4cEAYyK0SECBeVeFiV5osXGJjY4mLi7P6FxMTg7+/P/Hx8Xz66aet0d62R7G4KBesFdLSMFbYvOoqg2EmMBAee0z4fV58sX7hU3OWYcTgXSkVcOTvXFMQuypcWpekJGQZ/jwpfORTplg3pBi56CJxbSipkjWRJKMrYmrMcSRJXCunTxvWl5aaTOFDhohX1eLScqqq4MMP4Y8/AFizRmjDvn0NWe7Hm+EmAjH48PGBqipGX1iBt6aEPG0w69N6ixgIpUKyGufSMpS+UMnuqRHZfvrd39Dk5lDqHUzfR6e2/Pvi4/H8+hN8rxWW8h9/rGM71eLiEDRZuPz3v/8lJiaGXr16sXDhQt5//32eeeYZ4uPjiYmJ4aWXXiI6Opp58+bx1VdftUab25ZGCJc//hCd4oABNQT/iBEiotPbu/7vsGJxARg9WuzPpSDHVBpCFS6tR3ExZGWRnw+nK6Px8hIegHq57DJR9aq+YEDDwzHw4EbGDBc5tCtXGows69aJmWcjI0WuNYgCeCotY+tWYcn64ANyzxWybZtYbMwKa65wUWaKBlxW/0hYGJzsNJbf/5AoKcFU+0eNc2kZSl949dXidc8eo49VLi2j9LMV4v11N+DuY7sCaJddJgpMHj1aR1anKlwcgma5ivr06cOhQ4dYsGABd911F4sWLeLw4cP07t2bnJwc/vjjD6644grefPPN1mhz29KAqygvD7ZvF+8vvbSZ32HF4gJiADd7NniW55GVBRWVqMKlNTl3DhlILA6mwtWLSZMasLY0lnHjhHg9fZrZZ17DTavn1Ck4dFAWM0iDMHN37izeX7igxki0FKUQUlUVh97fTHW10BtduyJy25X7qKnCBUxB2JWV+PtD3oBxlJQYSjQpwkW1uLQMRbj06GGyRBoi5RPfXY2cl0+RTzj9H5po068NDjYNVlatspILoQgXNdbQrjRZuHzyySfcfffdSDUCVSVJ4q677uKzzz4D4MYbb+To0aO2aaU9acDism6dCGTv3t0Um9dkFItLaakwcZvRrx9EeuYgy5CehhiNN3GSL5VGkpREYQEkSzHodDBhgo32GxIiavi4uuJxYDvzqv8Lssy29/Yip5wHT0+YOFHESGi1YjbqrCwbfXkHJCvL6LutqoLK30WRD6O15eRJIQyDg60XGmsIg8UFQIqOYsI8Uaxp3TooCjJY3lTh0jIU4eLrazpxf/6JnJtHyeffA6C/bg6evraftWb6dHB1hVOnhOXFAtXi4hA0WbhkZWVRWlpqdV1ZWRm5BiUaFBSE3B5Sd+uxuJSUmGpPNdvaAmI0rgjBGu4iSYKeIaINuXlQWaFXO8XW4tw5MjIhxzuaceOEnrAZvXvDo4+CJNH/3C+MSP2BiD0/ixIVkyeLQjEajcnXqMa5NJ8NG8RQOTaWzGwNITkJ9A04bzKuNNdNpGAmXBg3jn79Jbp0EXrz9+MG4ZKSUmsQotJIystNgzNfX5HSFxIChYVk37+Q6vwiCnw7M/DBOuLKWoi/vylk7ccfa1hdVOHiEDRZuAwcOJAXXnjBKFAUcnJyeP755xk4cCAAycnJhNeVReNM1GNx2bRJ3GORkQ3PBlAvkmSKg6mZlaXX412Vh6cn5Hp2JjcH1V3USuTsS6KkGPL9Y5g0qRW+YPRouP12XFxgevonxGTtITtHEo51BcVdpMa5NA9ZNlaYK7v0CvZrRFrsLJ/1pmoGLRUuPj6iFpOHB0yYYKy9BLDhcAhVru5CtNTKe1dpFMrgTasFd3ch6KdNQwby9pwBoOq6G/H2bb1qHpdeKtzESUmmqeoAk3DJz1fduXakyWf+1Vdf5fjx48TExHDFFVdw1113ccUVVxAbG8uJEyd47bXXANi3bx8zZ860eYPbFL3epKxrWFwqK00VOKdOtcFsznXEuVBYCHo9gcESycGDyM4B/WlVuLQGGbtFQGX02BjqmgS8xcyaBbNmGS+nw57DSZfMBH5kpHhVhUvzSEgQv527OxsqRnMobBI6d4g6tV6IGlluuXAB+M9/RM2Q0FBAuIojIqCySiJVq8a5tAhzN5HSsU6ZQlGplpISyPGLY/D9o1u1CT4+hrIWmAojG9sE4jpqb6U/nIgmC5eLL76Y7du3c+mll7J9+3aWLl3K9u3bmTZtGtu3b2eUoV7966+/zpIlS2zd3raloECIF0mi5pNs61Zx3QYFwbBhNviuGkXojBgsPv5RvhSEdKWyArL3JNrgC1XMSTmST0VGPrIkMfq6qNb9sttvx23yeLz9tezpco1lx6gKl5ZhGE1UjRjN2s3uJIYMJzjGCykrS9T7T00V95hW24KgNIQlwKxPkCTTg+5oUTQyqJlFzUURBOZzgfn5sStwKnrJhfIb5+Hr19KRYsMoQbqHDpnNOmBeQV0N0LUbzbK19e/fn2+//Za0tDQqKytJS0vjm2++oX9dk1M5K4qbyNdX5MgZ0OuN5SGYPLnG/DXNpY6UaOXm0AQFEDNeBAHm7Turlv63Mbu+Ew8ZXXQ4IZ1tkUpUD5IEjz5K0dJvSffvydatZuEQinBRY1yaTkUF/PUXAIfDJlFcDAFhbgRcblAUypwcIEwkrrZLowVR/UCrhTNV0ZSWoFpcmou5xcVAbi6sCLiTpRO/YMjtA9ukGZ06iSw0vR5jOj2gxrk4AGrJ//qoIzD36FGRuODlZZoQscWYzVdktQ0BAQy5Igq95EJpZhF5p7Nt9MUqZWWQvlMIl7Bh0W32vX0HuRIQIMrH7NtnWKgIl6ws0TCVxrN9u4iYDw1lXbqoZHzxxaCZZEiZ3brVVCmyJW6iOvDyEpm72T4xYsyjCpfmoZg3zITLtm2gR0NMH+9mJYI1F8Xq8vffZmNFJd5RnSHabjRKuPzzn/8krYklrFeuXMmXX37ZrEY5DIrFpYZwUeq2jBhhozofUHeMi5l4Co9yRY4UwZsHf1LjXGzFnj3gl38OnQ78BzRuVllboNGYOkaDoUBcB4qIVYM7m4ahdkvhsImcOCkhSTByJEKkRESISPqNG8W2rSBcQLiLcryjycuD6uTzIhhOpWkoFhfDfSDLJouHzQaKjWTIEOEVzMw0K0inWlzsTqOES0JCAl26dGHu3Ln8/vvvlJSUWN3u1KlTvP766/Tt25fbb7+dgHqqzToFZtYOhdJS06Bt5EgbflcDMS5KG4KGCXdR8qazalC7jdi2DfxKUgkIAKlzZJt+9+jRwnN04gSkpxsWqnEuTcesdst2T2FhiY833DaSJOrkgGnY3ErCpVs38I4OokzjSV6OXj2HzaFGjMvp02K6Ip2uaXMn2gKdDoYPF++NsWiqcLE7jRIu69at46uvvuLUqVNMmzYNf39/+vTpw4QJE5g2bRojRowgJCSEnj17snjxYiZOnEhCQgLTjRWfnBQrFpe9e8UgqlMnU5FMm9BAjIsiXCJHx6HVgkfaWQ4dsuH3d1CyssRIyrssC/8AmleQrAUEBIgig2DWMapxLk3HULtF7tOXjQmiFs5FF5mtN68mGBLS4KSpzUWSYMxYiWxv1V3UbGrEuGzdKv4dMsSGFu4moFhF9+4Vbl21eq79aXSMy6xZs9i+fTt79uzhmWeeITY2lry8PM6ePYurqyuzZs3i008/5fz587z99tuEGtIEnRorFhfFTTRypA1SoM1pRIwLgEu3OAICIKjwrLH4nUrz2b4dkGXC3bJxc0U81NoYJRtl61aDZ6EjW1z27YPPP296jQyD6rsQP5GsLGHeHzTIbH1oKCjJA7162aatdTByJOT5igDd7L1qZlGTMRMu5eWmiaHb2k2kEB0tyitVVRlmGFctLnanyfWSBw0axCCLHqEdU8Pikp0tTPqSJOJbbEpDMS6KeIqLIzAI/DMvcOJQOVlZurY2ErQbFN+5W1UJId6GQNigoDZvR9++4vTm5gpvx7COLFw+/likEfftW0N51ENVldGy8XfRQECMzt3camw3d66YMdq84F8r4OMD/v2j4RykbDtH0EOt+nXtD6UP9PFh3z4RmhQSItxw9kBJdf/qK6GPx1/qjwSqcLEjalZRfdSIL9mxQ/zbs2e9k0U3j0bGuODvjy7UHx9vmYCCJLZssXE7OhCnTwtXUaA+C18/xBOn1tOu9akVpGtePbejpb0rD4Om1EBJS4Pqaqrd3NmSIFS8hZtIoVcveOutVre4AHSfJPzIxUfPqVOLNRUzi4viJho1ysYW7iYyfLjInj9/Hs4X+4uFqnCxG6pwqQtZtqiaax7ZbrVTbCmKq6ioyGQmLyszpcSa++Tj4ggMhODCs+ze3fGebbZCOZ9D47Jw0dDm8S3mmAfpZruGi39KSjpW5yjLhiACmhYbkpwMQIZrZ8orJIKD7Tc6V4gbH4ObG3gVpLJ3u6pcGo0sG4VLdpUfCQmYssPsiKenKTB423GzdGi187ULqnCpi5IS00RfAQGcPSsi293cGm/BbhKKcDHvvBU3kU4nnPYKcXH4+EJYyVkyMtQYzuZQWWnynQ/qbJiJ2Y7CJSBA1EQD2HPIzVhKvkO5iyoqTJX4DGKkURi2PVEqKh5fdJF9R+cAUoA/vpE+SMgc/1O9QRuN2QSLO46KPjE+vtViqZuEYhXdcthPjC2rqsRAU6XNUYVLXSguGi8vcHMzBuUOHtxKke1arZi0DUymUvMCeOY9cWwsLhqI14laLsoDWKXx7N8vjFlBQRCpMwgXO8S3mDNkiHjds4eOOdmi+UMgObnxo9mUFCoqIKHEJFzsjiTh10+4i3L3JxnHIioNYIhvkbVa/t4tBmv2CsqtSffuYoBRWuVKfpWXWNiRLKIOhCpc6sJMNFRVwa5d4t9WNVnWDNBVxFPNGf/iRC2XaH0iyLLqLmoGipto5EiQcgxViO2QUWTO4MFCnyYmQpFfBwzQNRcuxcWNTzdNTiY3D3K8oujZ0+7604hX/664u8PQk8s5/FeOvZvjHBgGbQX4kp0j4e4OAwfat0kKkmQaXKSV+4s3qnCxC6pwqQuzoNhDh4TnyN9fBOa2GjUDdOuYcoDOnUGrxc+thMDqTLKy1HIRTSEvT0zbAAYhmuUYFhdfX+jRQ7w/UdwBa7nUNEs0xl0ky8jJyeTlQq53lGNYWxSuugqP2DD8StJwf3GBOptwYzD0fWkloi+0mh1mRxThcr7IX7iLVOFiF1okXDIzMzl37lytv3aBmWgwL/FvkwkV66JmLRcrdWQA4VaKjsZFAyNCVXdRU9mzR1iounY1hJJk2T/GRWHoUPG6L8MgXC5csF9j2pqa8QKN6UsyMynPL6ekUkuxT3jrxJ81l8BA3F97jmJdINK5JCqfXqzOP9UQhYXIQEq+Sbg4EnFxYgBb4OJPYRGqcLETTX4MFxYWcscdd+Dl5UV4eDhxcXG1/toFBotLpXcAhw+LRUrp51ajZvXcuoQLGN1FA3zOAKaHsUrDKBMaGjvFbIOryAGEy6BBwiR9JD9SxCimpZlNHd3OaY7FJTmZ/HzI9+xEr74uFjHsjkBIv3B2zfwPZVofCvckwHPPqfMX1Ud+PiXFkC/74uHRyhbuZqC4i0rd/MUci6pwsQtNLkD30EMPsXz5cm6//Xb69++Pzh41mNsCg3BJKhIxLqGhpoKmrUbNGJf6hEvXrrBuHdGlCeh04tmblASxsa3cRienoABOnRLvBw1C+ACVubccIDjCx0d01sePBZFToiPcrVxMYtTqF58DoFhcNBpREqAxwiUlhfx8yPWLcixrixndJsXwc8oibj7xFIEHDsBrr8Hjj9s/9ckRKSggPx9KPX3p318Ylx2NIUNgvZs/BflQnZ2Hi70b1AFp8mXxyy+/8NJLL/Hggw+2RnscB4NoOJ4u4kuUkXCr0tgYFzBOEudyKoH+E2V27ZbYtUsVLlb55RcxO+bVV3PggLBMxcQYftZkg7XFywtHGa4PGQLHj0skV0cSzhkRoNuRhEvXrmICqUYIl8KjyZSVQV7nKKYMaOX2NZMhQ+DHH3vwTfdneLx0IdqtW+HsWejSxd5NczjkfCFcyv182nxCxcbSpQtsDPRHfwoyT+YRbu8GdUCa7CoqKyujnzIrXHsmJwe9DIfPC2tHm0S214xxqVk115y4OBG1VlTERTEiDkJ1F1khPV2Uef/0U0hPN7qJjKNzB4pvUVBE8rlqg7uoo2QWKa4ixT+Qny/+6iFrnxA3Xr2i8fJqzcY1n7AwoTuTA/qTFthbLDx71r6NclByzxVSWQlVnr706WPv1lhHkiBqgOiTs07n2bcxHZQmC5fp06ez2TiNbTsmN5eiIsglAH9/Y0hJ62Ie46LXmzpta8JFqzVWLOspH0enEwYatT+swV9/Gd+WnTjH8ePivXE054DCRXEX5XlFkpdPx8ksUiwuQUGmAnwNWF1KToj1MaM7t2bLWowST3WiIla8SUy0V1McmoxTwtrcqacvrq52bkw99BjmD0BRSl6HCUFzJJosXJ5++mm++eYb3njjDU6ePElOTk6tP6envBxKSsjPhxJdAAMHtpE72jzGJS9PmE8kCfz8rG9vcBdpTx03WoTU7KIamE2hfe7vc1RXQ6dOYhQMOFRgrjlDh0KeVwT5eQirUUdAES7e3mJKXkCqR7TlJuVTnVuILEnEX+IcwuVwUSzV1ajCxQqyDLnnhHDpOtDHzq2pn+j+/mi14Facx/Fjqpm7rWmycOnbty/Hjx9n/vz5xMfHExISUuvP6cnJETdRkRsVWs+2C/ozj3FR4lv8/evOwVZM6sePG9NoO5S7qKIC3nmnbrWWmGgxWV/WXpFea3E+HdDiAsI1WeIRTGkplJ7LtHdz2gbFVeTtDVGiCm591qaT64S1RQoNxS/EgYp9WCE8XLiLMr1iyS9AmEY7zI3aOC5cADm/EEmCroN87d2cetEE+uPnB1p9Bfu3ldq7OR2OJgfnLliwAKm9R8Pn5lJcAvnaQLy8JeMcMq2OeYxLffEtCgaLC0lJ9I4twd3dk7w8OHNGxDe2e/7+G/74A7ZuhY8+olaQg+Im8vREX1RC2clkGIFl0J+DFJ+riY8PhPUNgR2QfzoLD8X61p5RLC5eXiaLy7lzEBFhdfPkbSl0B7x6RbVRA1vGkCHwy7kY8vIlAvPzhVXV5tPMOy9798hEVhTg4wO60DqszI6CTodvqDvZ2WWc3JVH9e2euKjpRW1Gk4XLokWLWqEZDkZOjnATuQXQvz9td0EqwqWqClJTxfv6OraAABELkJGB9swJ+vUbyK5dcOBABxEuirm9qAhWr4brrjOtk2WTm+jKKyl8/0v8Cs4RFCjTubOZAHBQVxFA7zFB8DEU5lQQXlBQt8uwvWDuKvL0BOp2FRUWQmmCsKCFDXEe4fLTT26k6COJqU7BJTFRFS5mHNhZToy+Qlzmvo5tcQHwjgpAezIVKT+P48cjHDaYuD3SojqwZWVlpKamUtbOqkHKObkU5EOxe2Db1obQ6Uz1rRUXR0Mdm2J1OX6cAYZ00IMHW6d5Dod5nMCqVaZ6LAAJCWI6b3d3uPxy8oq0uFaXM7JrpqXhItPghnFA4dJ/iCvFugBKS6DgTJa9m9P6mFtclEkmc3JwsdK/7N8PAUXJeHiAt5NYXMLDhfEoyzuWgkLUOBcz0tMh71wBSOATqG2lmWxtixTgj68feJTnsXevvVvTsWiWcNm6dStjxozBx8eHzp074+Pjw7hx49imzFzn5GSfzKGyEiq8Aunduw2/WJJMVhdFuDQ0n7siXBIS6NtXhMOkpopndrtH+Y08PExWFwMaJfPtoouocvPkXLWogzI42KyMfFmZKa7CwVxFIAadLqFCUJ3Z0c7jXKqrTeXwvb2FeDGcE4+s2qJt3z4IKE4Ro/POjh2Ya86AAZDlE0ehEueiAsDevaCrLMTHG7QBvs7hFvXzw88PPCvyOHiwA4Usffkl/PvftStdtyFNFi7bt29n4sSJnDx5kjvvvJP//Oc//OMf/yAhIYGJEyeyY8eO1mhnm5J6VATGBnULaPuUPEW4KPO01JwZuiZmwsXDXTbG6x440CqtcxzM44DmzROvP/wgrC7V1Uh//y2WjRtHQgJkukeh1UJktZlwUdxEnp5G14Sj4ddNBLun7GvnwsW8E1RilQwBujWFS0kJnD5cindZFr5+pu2cgf79IdtHWFz0ZxPt3RyHYd8+8KgoEOfTCdxEAPj74+UFfvpcCgo6kAHtjz/ELLVmpSbamiYLlwULFtC/f39Onz7Ne++9x1NPPcX777/P6dOn6devHwsWLGiNdrYp2SfFAzFqQAPWjtZAuWlLDZHqDVlclEJ0hYVw4YLRXdTuhYvSS4SFwZQpYtRdVIT0yy/4JSWJGji+vjBgAPv2QbZ3DL5+ICWbCRcHDcw1J6yvEC55JzMpL7dzY1oTRbi4u5uCygwBuh6ZlqLt0CHwLUhB5w7u4QHCQuMkxMZCeadY9NVQfCy548xDVQ+5ucJ46lFZgJ8vTiVcNBJ0CcwDOpCLXnHpbtlityY0y+Ly2GOP4VUjg8PLy4v58+c7vbsoNVXEuEgSxA6yQ+BczZu2oRgXrRa6dRPvjx+nf3/x9tQpu1ryWh9FuMTGCv/Y9dcDoPnpJ0IVh/PFFyO7aNm/H3K9o4RbwbygmYOmQpvj1zUYNzfwKM7i2DF7t6YVMQ/MVajD4qLEt/j54lTWFhCXatzwECq0nhTmVnWc4oL1oDzwYwMLxNxEziJcDH1zjF8e0AEGiyBKUFRUiPcHDzZY2bq1aLJwqa6urnNiRXd3d6qrq1vcKHuyfz94lufi7Q3uEXawuPjUKLzUmKwDswDdoCBhfJBlMTJttyjCJSZGvI4ZIwplFBYSqJTHHTeOs2eFMaokOBpvL4QLTnFGO3BGkYIUGoKvL/iUZbbvjrGRwqWqSlipA4qTxfPNieJbFAYMlIS7qABk1V1kFC7dQg1ztDmLcDG48cPc85AkMTOH0qW0W5T7FEQ/un27XZrRZOEyYMAAPvjgA6vr/u///o8Biq/CSTm0rwqPinxx79gjVbGFwgXoGO4iJTBXmVVSo4EbbjCtDw6GXr2M4q3zsE5IWhcRAKo8CJ3AVURwML6+4F2WxaFDYiaIdol58TkFg6tIl59vDNw9eVK8Da9MxsMTp7O4APTqBbl+sVRUQN7+RHs3x66Ulxu7LWICnFO4uBXnGY3e7d5dVNOMr8QStjFNFi6PP/44a9asYdCgQbz++ussX76c119/nSFDhvDbb7/xxBNPtEY724TCQkhPyAPAJ8DFPjeQ+Xd6eDRuxmIlIjcpCUpKjMLlyBGorLR9E+2OLNcWLgBjxiAbZlHWjxkDkmTsSPoN0poKmSmBz07gKiIkBC8v8K3Mpii/uv0mopinQiv4+Jhq1xhcfIoQ7eKaggROKVx0OvDoLSY/y96TaN/G2Jnjx4UVLSgI/DSGyWVrDt4cFSVxIi/P6KJv9GAxKwveeEMocWdCuU+V59LBg6ZJgduQJguXyy+/nC+++ILMzEzmz5/P3LlzmT9/PhkZGXzxxRfMnDmzNdrZJhw+LNxE7h7gFhpgn5Q8c+HSWItPYKAoRCfLcPIk0dHiniovhxMnWqWV9iU9XQy7tVrLqqoaDfpHHiF9yBDk2bPJyREhBJIEffticis5k3AJCEBy1eLrI+NVntN+rWjWXEWAbBAmUkoKsiweDBp9JWGyoUCjEwoXgIhRsQCUHmuvSrRxKAOL/v1BKnROiwtlZQyIF5HzJ05A2aGT8P339ZtH//wTNmyAH39s/XbaEuU+jYoSiSF6PdKePW3ejGbVcZkzZw7JyckcPXqUzZs3c/ToUc6dO8cN5qZ6J+TgQfAsz7GfmwgsRxsNZRSZY+YukiSaPgJwJhRrS3R07bLGXbuSOG0a+PgYO8WuXQ0DeeUhpwToOoNwkSQICjLGubRbU7Q1VxFYnLO0NHHKgssv4OOlFynsTlp5ttslsQDIWTkUni+wb2PshHkcXv/+iDnawHmEi4eHsWBomC6PsDDwzU+m5OEnYdkypPqq0qWliVdnK7hlbhkdPRoAyQ4lUJpdOVeSJOLj4xk9ejTx8fFOP3+REvTnVZ6Lrw9NEw22xFy4NFTDxZx64lzaXWGkmoG5dWDRKYIxZoJz50RkvGLidGThAhASgo8P+JRntd/igtZcRYBsCL6VTp3i1B9nCM89xijNNlw0CFHjpP1OQCd3qkM7AXB6XaJ9G2Mnzp0TSSk6HfTogUm4OIurSJIs3EWDexYzbd/zFGUZCinWlzGm3MRWiis6NOaW0YsvBkCyQxZIo+Yq+uuvvxg8eDDe3t781YiiM2PHjm1xw9qa06eF9yFUThdBf/YK2DQfbTTH4pKQALJMz54SOp2Yx62eeeqcE/NU6DowD/qzKlyUDsPd3WGLzxkJCcHFBXoGZHACYRkcN87ejbIxDbmKDh4k4scHuarYcC0H45QZReZ49IqlIiOV1G2JDLy5f8MfaGccOiREZ+/eoHWRTQMJZ5qTy99fiJDcXC7evYILxecpLBODRSkjo+5rND1dvGZnC5eSpkWz77Qd5vdpZKQYPNohHqFRwmX8+PFs376d4cOHM378+DqtK7IsI0mSU6ZEHzliuIncTiHpgS5d7NOQ5sS4gGUhultvxXXQICZpB7G+cCAHD/q1T+FSj8VFCfoLDhZzxADiiefiIor7JSSIZUFBjj9qN1iEugVkQYmwonUU4ULPnhRFRBDooiOj2oMqTx3d++ogxAecOJ4OIHhoLBc2baP4yNn2GUTfAIpw6d8fMdJQ6oM4i6sITBaXzz8nKOkcF9xcORg2iZiSNXikp1sXLtXVpoGTXi8q8DlyZqM5Ne/Tiy92XOGyYcMGehsm7Vm/fr3Tu4WscfSoBLJMVPkpcMVU1K2t8fQU6luvb5pw0WrhqqtEUFhODqxbx5jcdcQlQ1LelXDpTa3X5rakogIuXBDv67G4HDxo6hSNl6sSzJucjHFWNEd3EwGEiOq5Ue6ZUNJOiwsqB1TDVYROx5F580gPnsFnn2mJiIAxC9u+ea1B0JBYMlzBPzeRhARTcmBHoKhIS3KyGEf064fJTaR1jgkWjSjC5dw5JAkuXHEvp84EUZC0Bo+6fLqKlUUhK8t5hcvo0bB0aZs3o1HCZZzZ8G78+PGt1Ra7kpMDEZp0fF2KxM3TQPxEq6FMtJif3/TAwzlz4Oqr4dgx2LcP7217IDmRsEN/kpvbToRLSoq46b2963SlybLJgta/pgU+KkoIl337xP/OIFwMbfQqySIyUhS6Uo6v3VCXxcXA4cPi1cnLRFkgdYnD1xfKcs9xcF91hxIuSUnCqhIXZwhpyTC4iXydZIJFBfM4xBkzCBk2iYIlqRQUQHh6uvUAw5qCJjPTeVRrzfs0KsoYh9aWNNmxNnHiRI4rwQM1OHHiBBMnTmxxo+zFYN9TIugvLk6IF3sxcKC4m5tj9XFzE737rbfi9vZreHqCe2Uhx3YWNfxZZ8A8vqWODi4jw4OCAjFw6969xkolzkUpVe0MwsVgcSEz0yjElAd5u6GO4FwQlnVFqPXr15aNamXCw/EJ1qHVV5C4LbX9BdHXQ1KSiGMxnk9nyyhSUAa4vXvDHXfQpw+UeoVQXi5RXlSBqzXTqBLfouBMAbpWBhjy8OFt3owmC5eNGzdSUGA9fa+wsJBNmza1uFGNpaioiIceeoiIiAjc3d0ZOHAgX3/9dbP318/jlHhjLzeRwqOPwmeftfwm1ulw7yxMkEnbUm3QMAegEYG5ymiuTx8r+lMRLgrOJFwKC+nfU9SLOHpUwglDyawjy3WnQwNpaV6UlopVcXFt3LbWRJLw7huLRgPa84kW02g5BebnrQlUVkJKijjPRouoswqXiy+GF1+EZ58FrRZ3d+gWr6XIPZiCAgldbm7tz9S0uDi7cDGkRbclNg1lTk1NxbMNMzRmz57Np59+ysKFC/ntt98YNmwYN9xwA8uXL2/W/qIrHUS4SJLNLD6+PUVUbs7hC1RVOZEJti6UGi71uPKU0VwtNxHULljmDL5lT09RMwKI9c7C2xtKSsQDvV1QVmby+VsRLomJ4nz27es8yReNxaVLLN4+EFxw1his6jR8842YZqOJxYVE4LwGf3+RmAI4r3DRaMSFaajnAsLgXeAZRmEB6PLyan9GsbgobqYas587NFaES2lA22d+NOrp+OOPP/KjWYW/Z599lhBlFGigtLSUjRs3MmjQINu2sA5+/fVX1q5dy/Lly42F7yZMmEBSUhLz58/nuuuuw6VmcbJ66BQu45nkIMLFhvjER+K65hDeBamcPx/Z8AccnQYsLnl5kJnpQUyMoVpuTSIjTcHP4BwWF0kS7UxORpOdSd++kWzdarIsOT3KqF2rtXgAKCQl+eLrW4cQdXZiY/H1haCiRA4clJwrhufECYzljJtwckzZRLLJ2+uswsUK/fvDOo8winMOocm0Ug5fES69e8PWrU5vcUlIaHvB3SjhcvToUVasWAGIwnPr169HU2Poo9Pp6NevH2+99ZbtW2mFH374AW9vb6655hqL5bfddhtz5sxhx44djBo1qtH7GxyZBkeLwdW1tjvBiZEiI/DxBb+SCxxN7GXv5rSMwkIRRQ11WlwOHxY3UWxsHXWsXF2hUycR4QrOIVxATOmQnAyZmfTrR/sSLubxLTXiltLTIS9Ph7+/cP21O2Jj8fWBoOxzJCdD166u9m5R4yktFa/1FVqrgaiWK85x375mQT3tSLgEBYG2czikQEliae0NFFdRnz7OJVwqK00p62bC5ciRtm9Ko4TLE088YZw8UaPRsGHDBobbISDHnMOHD9OrVy+0NVwq/Q3K//Dhw1aFS3l5OeXl5cb/lXideN1J9Ho9cnQ0elluN7MTSqGh+Hjr8cu5QFKSHxUVTnxcJ0/iotdDaCjVWq3Vc7R/v+gMe/WqpLLS+lwhmshIpORkcHOjWqdzinOtCQhA0uvRp6bSfbhob26uOxcuVDp/jZ7cXFz0emRPT/Q1zsX+/SKQp0uXalxc9M5wqppGUBAuGj0hUgZyVSVJSb5UOslBakpKkPR65HPnap23ukhOFmVLtFo9XbpUGs+nJjdXXN8eHshOcvz1EdwnGHm7TFVKieX5rK7GJSMD9Hqqe/QQ/Vl2NtWlpfZNCGkMhvsUSaLa1RUqK9Hr4ciRto8qb/Ivpa9v4qg2JDs7my5WisQFGlJks7OzrX7uxRdfZPHixbWW5+75jYyMDNKjokj89VfbNtaOuGdm0r8kE49sKCrU8vXXmwkOLrN3s5pF2M6dxGZkkOvnxwkr56iyUuLPP/sCGnJyNvHrr9aPs3NODpEZGZQFBHDgt99audW2ISIlhaiMDDI3b+aMnx/V1V0Bbz77bB/9+zvJiK0OAk6coEdGBkWurhypcV5//FEcZ3n5Ln791bmP0yqyzLCcHKhyoejsIc5qfVm7dq29W9Uo+ick4JGdjT4nh12rVzcqAGn37jBSUsKJjS1k40ZTqfj4/fvxy8jg1NGjZDfBxe+olJOJW2kZmsx81qz5ExcX8XB3y8tjUFoasosLO48dY3h2NlJ1Nfu+/ZaKpkzxYgfcMzMZkJFBlYcHewz9ZmqqF6dOhbV5Wxxc4tVPfYXw6lr3xBNP8Mgjjxj/LygoICoqir4eOgJCQwmeNYvel1xi87bajYoKXFatorRUxquqkMDAcUyf7pwdgyYxESk0lODJk+k2fXqt9QcPiiq5+flnuf76Mbi5WTe7SwEBaE6cQB48mEgr+3FEJHd3NEePEhISQvz06bi4VPPOO2nodMOYPt3KtZ6f7zQ1MSR3dzQbNxLSty8xZuejpARWrwY4zy23DCIiwoncKE1As2YNAaeSifeGned9GDt2Mt7ejn+sLt99Z5zkdPrQoWYlquvm0CENnTvriYtLZvLkybi6iuPUrF2LVFxM0JQp0EZxkq2JPCKHE5/+gFyUR1DnifQfZCiqd+gQLqGhyBERTL/sMlx+/hnS07lk4EAR8+LIHDuGyw8/QHg4YYb79IcfJCIi8tu8Kc0SLl988QVLlizh2LFjlJXVHtW2Rcn/oKAgq1aVHEMMRGAdxcl0Oh06K5UZXc6dQ6PRoImPF3EQ7QVXVwgLwzc7naDydI4d68OVVzqncCE5GTQaNN26WT1Hx4+DRlNNTEwBbm6uxk6xFhdfLDJZ+vXDxVnOdadOYkSbk4OLqysDB4rFZ864UF3tgru72bZ79sCiRaKo1cMPm6VuOChlZeLY/PwszsfJkwDVBASUERFRz/l0diIicD9/nmi3DLaVhnDypCvDhzvBsVZUGK0smvT02hl7NSgoMN7CREcX4Opqdk6LisS9HRjYPvrfsFB8AtwoKizjzM58hgw33IO5ueIH6NRJXOthYZCZiSY/3/GPu7xctN3XF42hrUePUivetS1o8jf+9NNP3HbbbQwaNIjS0lJuu+02brjhBry8vOjevTsLFixojXbWol+/fhw7doyqqiqL5YcMM1X2tZpSUg/FhsDcBm4+pyQiAh8fmaDydBITTbGQToUsi8kRwWpgriybsjJjY63XGTKi0cCUKUIMOAtmReiQZcLCwM+vnOpqUSjZgqNHxWtCAjzwAPz4o2NPEV5H1VzlfMbENHA+nZ3wcCSgd4CoteQUadGybArOBVOwez0okwjHxICXl6HfFkESpoKQ7SA4FwBJwjNW3LPJuzNMt5+SURRmcK8oyQHOkBJd4z7NyoLUVPuUKGjyV7700ks88sgjfPjhhwD885//5IsvvuDEiRNUV1cT1UYP/iuvvJKioiK+//57i+WffvopERERjBgxouk77dLF8QOkmkNEBK6uEOuajCw7adXV0lJTRxkaWmt1SopIhdbpICLCGZVZAyj1ZioqjB2I8kCvNat8Wpp49fER23/0ETz5pGm5o2FlniK93nSdNihEnR2DgI51F+fnyBEJBwklrJuKCksxXFdmkSzDrl2wYQPpP2wlJnM3o3wOEnD8OJq334abboLHHxczorq6OtfM0A3g1zMMSQNSeppJ1ykZRUofpggXZ8gsqiFclIGFPYpCNvkpnZCQwOLFi40xJIrFIzw8nKeffppXX32VefPm2baVVpg2bRqTJ0/mnnvuoaCggG7duvHVV1+xZs0avvjiiybVcDHStavtG+oIGNJO4nTJ7EE86EaOtG+TmoxSgdLDA0u/iODAAfEaHw9arQNbF5qLm5vo1PPzxegsKorY2AL27xfnU5bNwlmUzvGf/xQp5EuXChXw4IPwwQd1zvFkN6xYXE6fFnrG0xPCw9vbjJI1MMSGBFem4eZWTWGhKFdkrwnqG0XNEIG6hMuuXfDss+j10P0odNND13w9hQUZSKGhYrju7Q3DhgkrqDNNsNgALhFheLhX4VuawcGDhomia1pczC2pjk6N6taKcOnTxwmyiqqrq3Fzc0Oj0eDl5UWa2SguOjqaM2fO2LSB9bFy5UqeeuopFixYQE5ODvHx8Xz11Vdcf/31zdthOyo8Z4EhxiFSErMqHz4s5n9xquB9RbjU8dBVrA79+slYK1bZLggJsRAunToVc/y4iB1ISjKryad0juHhIp5n0CB4+mmx/PBhGDvWXkdgHSvzFCnns29fud1Vy62FQbhoMtKIic6nvEIIcYcWLiUllv/X5SoyPN3ydaFc8A3Cy7UC925lpKeAfuZMNKNGiaDUdmjplkND8fCowrc0jQMHYPp02o3FpaxM1B8E6N277YVLk7uEuLg4LlwQD8ABAwbw1VdfGdd99913dGrDuAFvb2/eeustUlNTKS8v58CBA80XLWBlRr52gsHiElCWjo+3TFkZnDpl5zY1FaXwnJUZs/PzTQV1LYpatTdqjM5cXGR6GWoKGt1FFRUmkaeM6sLDTfZcRwxwsjJPkTKaa2qomlMSFibMZaWl9AgXcS5NrKLf9igWF8X6mZtrfd6ihAQA9vaey8qRr5D08BL0777DoTvvRL79dlFmth2KFgDCwvD0rMS3VMQW5udUmwSKMwsXLy+OHhWD39BQq577VqfJwmXSpEn8+eefADz44IN88803dOvWjd69e/Phhx9y991327yRbYKbW/sMzAVxZWk0uFRVMThG3CAO3zHWRHkYWxEupliI9hPbZxUrnVy/fkKoGc+nYm3x8LAMdlWsGTVHyo5APUF/9hjNtTlubsYYpu4+yWg0cOFCM55l+/fDE0+Y/KatiSJcAgJMVtCaVpeqKjh9GhnYkdcTaGezezeAHBaGi4tMhEZYWY5tzhLBW66upn5MGYzk55uq0joqZvep0t/YaxqOJguX559/njfffBOAa665hu+++44BAwbQu3dvPv74Y+bPn2/zRrYFckyMk/lOmoBWaxx9DwgRncuBA46daFKLelxFSj/dLueyMceKP7xPHzHfy7lzhp9IMUUro3gFRbg0YzbfVqdGcK7SKXbrJmJcOgQGd5FPUZbRY91k/fHTT0LFL1wIhsFlq6EIYA8PQ/AGteNczp6FykpKXXxIquiEqytGC2GHwNDnhrjloa0uJ3GHYVARGmq6N729TfNz1VE01WEwCBe9p7fRwmuvubWaJFwqKirYtGkTeWZBBLNnz+b777/nu+++49Zbb7Vx89oQe4RGtyGywV3UzTMVrVY8+xw1ycQqiquoRnXJykpTOnBHFC4+PqZYiIMHqR38p+DIwqWObIV2fz7NMQgX97y82la0xqLMnF5dDW+9BV9+2XqjE3NXkVInqKbFxeAmOu/VAySJXr0cv1SJTfH2psrdHV8fGZ/SDDKPZIhsMXPfiiQ5T4Cu4T69UOBNUZHQrPbKZ2mScNFqtVx22WWcFJWh2hWyQ0fCtRxFuLhmpRIfL5bt329YefasKFrmyNRhcTlxQlhY/f1NA792Sx0dnDLqOXAAkxqtWcXUUYVLVZUobAXg5WUR9NehhIshNlCXm0v//kJsnDjRBM9eSYnJ2jZzpnj9+mt4883WmYtLES71WVwMwuWYLDqcDnU+DZT7++PuDlGuaXgWplNYRO1BhbPEuRiEy7Fzoi/p29d+ToomCReNRkPnzp2NExO2J+R2bnFROkbpwgXjg+7gQcRT/+mnYfHiRhWRsht1xLiYj86doLp9y1A6uJwcMao2oJzPhASoPG9mjjbHUYWLeXtqBP3V7N/bNYrFJTeXkBBxuyq12RqFYm0JDIQ774T77xdBQhs2wHPP2d7yYu4qUiwuVoRLVRUcKu8BdKz4FoVyQ12afqHp+JRmUFhA7XvTkYRLaalF32KBQbgcPCMso/Y8n02Ocbn99tt577332qSsf5vi6GXRW4isZHulphpHPmfPQvGGnSKfVpaVGuuOiRXhYl4tt0N0igEBYoij15t+D8QzLyxMGC9yjpnFuJijBIs4WnCueSq0RtMx3URgFC46gxteOf5Gu4uUtDplADZlioh10Wph714R7WtLzF1FisXlwgWMlfMKCyE1lYJCSPfrQVRULS9vh6DccNDdvNPwKcsQXW1ojXvTUVxFhYVw661iupCaGCyj5RWQlO2NRmPfjL8m56G5ubmRkJBAr169uPzyy+nUqZPFhIaSJPHwww/btJFtQnsNzFUwCDMpNRV/Xz2xsRoSEyHr2/UYq2coozZHo6pKiCuwEC7nzwvjQ4cJ+tNoRPZJRoZVd9Eff0DRmXTCQqgtXJQMI0dLhzYTLnp9B41vAaNF1K2wECoqGDDAld9/b0LNJUW4mE+HMXiwuO+TkkTsky0HZ+auopAQEWBaUSG+p1Mno5soVYqk3NXbOLdWR0MRLmFSOgEV6VRVwYWqUCzOhKNYXBITxcDm8OEaFS0x3qcFBVAR40XPHhZll9qcJguXf//738b3b7zxRq31Titc2jvBwcguLkIEZGYyYEAY6Ql56PfuAaWvUzo/R0MJBndxsch3VmJ0OlTQX2goZGQgKUG4BgYMgA2/llCWUYgcDJKzWVy8vTl1SniOvLzab0mlOvH2Nj0J0tKIi+uKt7f4eU6fhh49Gvi8MugwViE0EBoq1inxL7ZCmX7Dw0MI6ogI0X+cP28ULtV6OC6LNOiOLlxcUs8Trs2iADiQ6qDCRbHiVlWJEaEyzQgY79OsUi9kSWP389lkV9HZs2fr/WvLyrkqTUCjoUyxVly4QP/+0CN1I0WFeqrdDQ81RxUuyg3l728xClCEy6BBbd4i+6GMqM+etVjcpQtEaNKproZCfMQDxRxHj3Hx8mLfPvG2f3/7TNxmVyQJ2eAuktLS0GhM7s8G06Jl2brFBUxuiNYSLkoBupqZRQkJFBXCBZ+eBAe3e098nZQp/rHkZPx8ZKo0buw5U6MWlaO4iszcz7Wul+JioWfKRD/idMIlJiamwT8Vx6RMyci5cIHISBiUvQ5ZD+eGXyOWZ2U53oMNrGYUZWVBcrLQMR3KrWDIP5ROn7ZYrNHAgE6is0klvNbHjMKlrKzu4Dt7YBjJyV7eHVOImqNYyQyZYebZYvXG1mZni/tWo6ldRFPZp62Fi7mrCCwzi2QZTpwgvwDS/HsycGAHCJyvg3KzwB4fXyjyCCHlvGRZskWxuBQX154Dqi1RSk6AqayCQlERBQVQ5upNTIzVOqBtSrPHNSkpKSxfvpx33nmH5cuXk1LXJFsqDkOZWYVL6ewZouVEqjVatvpMNd08jhjnYqWGi/KQ697dskBsu8dQnUw6c6bW06xXgHjgnS0Jq/2gM6/k5kjuIoNwya3yJidHhEr07m3nNtkJo8XF8NBQpvBpsOaSYm2JjKztM1UyWFrTVaR8Nwjhcv48clExucVu5HjH2H10bk9ksyq5WhfQRgohaRF07elpuj/taXWpz+JSVER+AZRrHSNeqcnCRa/X88ADDxAXF8fcuXN58MEHmTt3LnFxcdx///3oHX4+9o6LucWF9evx84WzoSPYd8oHfUysWOeI7iIlxsXM4tJhR+dRUeJpVlKCzryjAaLc0pE0kKYPq51EotWaZt51JKuaoS1JmcIi1KdPB4pXqolSeydVzFek00FPESJSf3aRcs/WjG+B1nND1HQVmVtcEhIoLoY0r254+WntVqTMUZDN4s0CegohWcv95whxLvUIl8rcIooKcZhA6yYLl0WLFvHuu+8yb948NmzYwLFjx9iwYQO33XYb7733HouspVKpOARG4ZKcDBs34uUFiV0mUVgIWV6xYp0jW1wMI5eCAtMkkY5wE7UpWq0x5dWrxjDcNTcDb28o8AizHhfhiHEuBovL6XRhNutw59MMxeJibqZX3KD1xrnUFZgLJotLdrYIurQVdVlc8vJg717y8yHNr2fHjFeqiVndlk4DhYg5caKGV0gRmI4iXGq4ilKOFyHL4BrgTRvOo1wnTb6kli5dyoMPPsj//d//MW7cOHr27Mm4ceP473//ywMPPMDSpUtbo50qNsAoXDIyID8fKcAf/4mDATheaohNckSLSw3hovj8Y2KsTl3U/jEMYWsKF9LT8fOFQo9Q5xEuxcWUl0NaoRcaTQeLV6qJuavIYLlW4lzOnBFlNqxSV2AuCPeqm5u4YWz5UKwZ4+LpabwZ5e3byS+AdP+eHc8iagXZTLj49wglLEyEmVkUF1QsLvZ0FZnHuNSwuKQkiAFGWDdvh4hXarJwycnJYcaMGVbXzZgxgxzzg1dxKCp8fEzuAoDx4+k/SBSI2J0VK5YlJTne7IuKq8ggXDqsm0hBES4GlwIgzllaGj6+UOgVTmKi6WczovjRHUm4KL5zV2969uxAkypaw7xkgSF6MyBAeAdl2TQLugVVVaaKtdaqf5vPhWPLOJeariIwWl1K8yuoqoTc0J7G6UU6NObTb4SFWbei2dtVVFVlqYwzMozPgepqyDorhEvneMcIKGyycBkwYAAnlMlEanDixAn62rOcnkr9SJKpgi7ApEn06SPKo5ws7UxZpYt4qDnaLKWKGA4MpKwMjh8X/3ZYt4K5xUURmYWFUFaGqxaC4sWDqlZchBLFbI/g3MpKeOYZeO89y+VFRRTkQ7nWq+OeTwWNxlgiHjNRajFFR03OnxcPHaUQnDVaI86lpqsIjHEuBflQrAskbmhQx41XMsPc4kJoqPF8Hj5sKjRs95Ro81pZGo24pgyuo5MnQSouQquFsC5OKlxeffVVXnzxRX755ReL5T///DMvvfQSr7/+us0ap9IKKMKlSxeIjcXDA+LjQa/RkuZi8FM7krtIli3K/R86JO6psDAcwtdqF2JiwMUFbWmpqaNTfNKBgfQf6gaISu8WKOYMe1TPTUgQprI1a4xVVQEqcospKXGcoD97Y6y1ZOYG7N8ftFVlnNxXVHu+RCW+JSam7pxj5cFZM8W1uej1pokxzYWLweKiuIkGDnIAn4IjEBkpzo2XF/j707WruBWLi0VxQcD+FhfzKVWUthgsdPv2ga6qCF9f0Pg6kXDp37+/8e+f//wnZWVlXH755fj7+9OzZ0/8/f254oorKCsr47777mvtNqu0AHnoUPHmqquMy5RFJypixRtHEi5FRaagQn9/Y5GyDusmAnBzQ46OBgxp0WB6KIWFMViELZGQUCMuQolxsYfFxbzuzMqVxrd5KUJEhXbx7pBz2dTEWPfDTLhEB5dw056HuG7tHSRsqfFgqy+jSMHWtVwU0QKWrqLOnSkvh/IyyAjo2THmD2sMQUHw+ONiMltJsiguqLi9LYSLPVz15nGEZin0siza6F4phIuj1J5oVMn/wMBAi/mIgsxLAQMRERG2bZVKqyFPmgQTJljEugwcCF9+CYlyDGVl4O5ImUWKCdPbm0rJzejn79DCBYS7aMcOIQjGjLEQLiEhYgCelCSsLuPGGT5jz+Bc80q/27aJlPxOnShKF22JH2LHiU8ciLKAAJH1Z+Yqkj7+iGiX82RVQe7SH2D8P0wfqC8wV8HWbgjFTSRJIvBXoXNn8g1TinkO6lmreHOHZtQoi38HDRK37549cPXVICnCpaxM3J9tLRDMLS4+PsKPlZ7OuXOiC/bQF4kmOZNw2bhxYys3Q6VNMQ/QRZgte/eG7Aux5KVAuD0sLoWFxhmCLTAbCRw7JgZ7AQH199MdAblLF8C6xQVg2DAhXHbvdhDhorTTx0ec6x9+oOTaWykqEqPLviMdo0O0N+VKmpxicdmxA9auxd9fDMZ9tqyhPONadKGGWJj6UqEVbF2Ezjy+xdw9FRLCBTmCEvdyYiZ1s813tVP69hXGqtxcMfbo1k1nujeysuwnXAIDTYU+MzKMFu4QjyLRNTuIcOnoGfYqBoYOhWyfWPLyQU5JsW3Nh4ZISYGbboI336y9zmwkoJhVO3IJcQWjcDl9WpiWlYeSQbgo7r+TJ82yi+zlKqqshHPnxPt/GKwF69ZxcuN5kMHV05WwKLe6P9+BKDMPzs3Ph3feAcBjzpUUhHdHU1XBhQ9+FNsUF5vOe2OES2amWTRoSxppSIU2dxMBOXkaPu7zBt9c/C79hrlb+aCKgqurKblg1y7DQsXqYo/kCPPq5IY+RE5LZ+dO0OirCPI0nHNnEi7nzp2j0hAVdu7cuQb/VJyPAQOgzCeEomoPygqrqFV6tbAQfvvNNNqyJQkJIudu9+7a/l2DcNH7BRjTB9UgTiAuDlmShCrJzTWN0A2dTkCA8CbJsjBHAybh0tbBucnJ4vx6e8P48WKq48pKypZ9DYB3uGN0ho5AuRKcW1wMr74qxEtMDNJNc6mefS0A1T/9ItYrfW1QUP0PlMBAkS1SXW1Zq6O5WMsoQjyAK1y9iO6txis1huHDxeuePQY9qYjWgoK2b4y5xcUgdAtOZ5CdDT6aYhHfAqY+xM40SrjExcWxz2Azio2NJS4urt4/FefD3R369pPI8Y4RI/Sa7qLXXoP33xdZIbZGGWEUFdXOfDDcUOdLAykqEtbUHj1s3wSnQ6ejTBmhnTxZy+ICwl0EQg8Cpqyitra4KG6iLl2Eqeyqq0QG7xEx1AyMUYWLgt7NzTSD3YEDolLyI4+AmxvdbhxBjnc0pdklVPzwS+MCc0GIFiUu0RZxLnUIl+3bxeuIES3/io5AfLzQm4WFcOwYonMD+wqXgABjH1JwKhNkmSE9DW4iT0+HKYPcqBiXpUuX0tVQO2Lp0qUWgboq7YehQ+GkTyz56ccJT0xCGmtYsX+/Kbe2NeoMmO/z1CnLgk2GEeLxdNGZDx/uMPeO3SkODxdCb/du4Y7RaEzmZmDIEPjmG6EbsrMhSBmVt3WMiyJclEHNyJFkuHQCORUPD/AKcYxRnKMgh4UJSwvAnDlC8AERkRJ/DLuWwA2vUfDZKoKnG4bsDQkXEKPojAzx16tXyxpoxVWUkiKMtFotxqw2lfpxcRH36KZNwlrVRzFr1FkiuRUxFy5BQchIFGRX4FmRx5CeRbABh3ETQSOFy/Tp042ZRLfeemtrtkfFjvTrB7v9Y6hIhrz9iQTcjPA1fPKJaaPWcDOY+3RPn4aLLzb9n5srymNfCIAwGDnS9l/vrBiFy7ZtYkFwsOgNDfj6CutUQoLQNlPj7VQ519ziAqDR8HfwFcTzAf4BOFSH6BBERorJbHr1sihbIEkQOvti8nd8gc+FNILXrxcrGhOpbstaLlYsLjt3itd+/Tp49eMmMmyYEC779sHcwT7igdzWFpcatbLQasl1CaK6KotwTQZdQg19vgPdp40au3bu3Jmrr76a3377DdnRysGr2AydDoKHxgJCuADirlIePNA6N5V50SVl9kSF3Fzy86FQG0CnTqL8uYqgWLFMKaNzc0uVAcVdtGsXlllFbXUfy3It4ZKRARu1l1Dm5itiIRzEb+4o6GfPhiuvhH//u5Z5cegIF/bGXU1hEVRVGs5hYy0u0CquIlk2CRfVTdQ0unUTWqGsDJJy7WRxMa+VZXBTJpcbshOj09GUGgY6ziZcFNFy2WWXERUVxdNPP81p84JSKu2G7peI0VvZuQzkvHz4/HOxQpl0pDUsLubCRcmSUcjJITdXlBAfOVLNJjKnuKZQMS8tbmDQIPHsS06G9CKDQKiuhoqKNmghYoRfWip8CIaS8Dt2QLWLG5ljZuOqRc1tr0lkJMybZ4pLMSMsDEpGTqRIFyT0qkZj/F3rxZYp0TUmWDx5UgzYPT1Fmq9K45EkUwbg0RSDcGlri4tibfH2BldXysvhdKG4XvqGZpj6fGcTLl9++SWpqam89957REZG8sILL9CjRw8mTJjAF198QZnF/NwqzkzvET6UeQZSWQk5z70vOrqgIOFrB9vfVOXlphGGJIn3yqiwooKK3GKKi6FU56+O5mqg1+mQDWXWAYvAXAVvb1NIw+7D7ibl11buIsXaEhMDWi2yLIQLQPCds+Gtt4R1QaXRDBnpyv7YK0UQfXQ0jZoQyJbCpcYEi0pQ7uDBjWuKiiWKVfRIsg/VeuwnXMwmsc11C8PNDUJkM+HiQJbRRoc5+vr6cvfdd7Njxw6OHDnCww8/zPHjx7n55psJDw/nnnvuYZcxIV3FWXF1BdfusQCUbdgqFs6dawr6tLXFRYlvcXc3xUAo7qK8PPLyoFrjSkwfb2OyhYoZym8GVoULmEZ0u/dIbV+Eroab6OxZoUt1OsRcNl26CGuMSqMZOhQORc9gXedbKLjp3sZ9yFy4tNRNaOYqqqw0xe2rA4vmER0tTk+R5EtBPm3vKjIv949w+xV6hOIfAFKmE1tcatKrVy9ee+01UlJSWLVqFePHj2fp0qWMHDmS/sqc3SpOS/AQYbrPzwN9VAxMnGi6aIuKbFPESkFxEwUFCYcvGIWLnJNrcBMFMPIi1UdkDdlcuFiJcQFR90arFVkfxdhXuCjWlkGDahVwVmkkgYEQ113Lnrir2VUY37gPhYQIa1tFRctH9GauosOHhY4JCIDu3Vu2246KJIlsyTI3X2FFKyxs2/mKlAqVgYEUFsLRo1DgEUaAP8LV216Ei4KLiwuXX345//d//2ecXPHIkSM2aZiK/Yi4KAatq4jXOjbiVuFHV2oMyLJtH3qKcAkJMQkXQ/xU2tEcMWmbR4CaYlkHsqFMAVCnxcXT0zSpW0peGwsXZY6iLl2oqjJVCVVH5y1DcS9s397IZ5xWa6oP01J3kZmrSBGiw4er8WctYdgwKHP1EUHXpRWWE1m2NmYWF6UYnl+3EDGwyMgwWYDag3Cprq7mhx9+4PLLLycqKoo333yTfv36sWTJEhs2T8UeuAwZiF+EF6fDRvFbxhCxUKs11W2wpbvI3OKiPIRPnQJZ5uRO4Xv1iw2oWV1cRaFrV3FeAgKoz5c21lCT51yWl/Cjt4VwKSgwnd+4OI4eFV/r62uK9VZpHsOGiVvy3LkmTOZuqzgXg3Apkzw4dEgsUoVoywgPh/BYd6olrQg5aUt3kVmMi5Id1neCmYXu/Hmx0JmFy5EjR3j00UeJiIjg6quvZvPmzdxxxx3s2rWL/fv3c//997dGO1XakqAgPFd+yR+DH+fkKck0UW1rVHY0t7jExIg6JAUFVKdnkXxI3FARfdTgljrx8hIBrq+/Xu+Qt1cv8dwqwVNYhtuieq7iJurUCTw8LEbnahHBluHtbYpdavQcuLYSLgZX0fEkD6qqRBKUeYy4SvMYN16izNWX7CyQ89swQNcgXHIJ4PRpQ6bTSK0pqy0lRbw6m3ApKCjgww8/ZPjw4fTv358lS5bQu3dvPv30U1JTU3n//fcZMmRIa7dVpQ0JCHah/wDxINy0ybBQES6tZXFxczOmxib+eQpNXi5aLYT3DrTd97VHIiKE8KsHSRKzRJe7eouOsbAN5isycxOVlGCca0otImgbJkwQr7t3N3KAbkOLiwzsOSLMoKq1xTYMHw5Vnj5UVMCpfW1vcdlxUvSzffoYpk1SrhfFF+lsWUXh4eHce++9XLhwgccff5wTJ06wYcMG5s6di7tqw2+3jBsnXrdtM7hcW8PiomQVKVlLBndR4p+n8CrPwd8fNIH+tvu+DsyoUVCt86SsDDKS2sDiotR66tKFv/8WsxJERjau7IhKw8TGir+qKvj770Z8wIbCpaQYkjI80GrFdaXScnQ6CI4TtVwObG5Di0tODtXVsPWYsGxPmmRYXjNmztksLpdeeik//fQT586d4/nnnzfOW6TSvunVSwzky8oMQZWtYXFRarYowqVbN8rLofTwaTzLcwkMRKRRqLQYT0/o3FOMmk4faIMYF4OrqCq6C+vWiUWXXKIGcdoSxery11+NSPazoasoMwsqtB5cdJGpW1BpOdF9xI+ZdqLAJrMzNEhFBRQXk5MLeZKoTm6cyqqmFdfZhMvKlSuZMWMGGtUx3aGQJFNQ519/YXuLS0WFycZtZnHJzISQ/FN09swRQblqAReb0XOwEC5pp4tbN/6vosLoG9+X34W8PGF+Hj68Fb+zAzJkiHie5OTAwYMNbGyjsv/leaUU5EOVi7tpdK5iE7w6+eLjC+6VhY2PXWoJeXnIMmTkuFKu9WLSJLOBRU2Li7O5ilQ6LqNGieyFpCTILLOxxUVxE+l0xpuiICiOnDwNHhX5RHlZFkZSaTmhcV54eIJrRTFbtrTiFyUmgiwj+/mxZoc4fxMmqLXmbI2rK4weLd43+KBTRtDFxc3PKquqIiutEoBu/Tzo1Kl5u1GpA19fgoOEcNm61VQyp9XIzaWgAHKlALy8Jcv4M/MpRNzdHermVYWLSr14e4tRHcChRINwsdVQ3dxNZJD5G7a4ke0VjacneCoC39/fNt+nAl5eIg66srhx7oXmYnATZfl2IeW8hE5nst6p2JZx48Ttc+wYpKXVs6G7u8hFh2a7i0pyy8k1jCfGT/Oof2OVpuPjg7cPhLjlU1Zmmk6h1cjJITMLSnQBjBtXY8oGc4uLA7mJQBUuKo1ACdI9nORDdTW2Ey41AnPLy8WoMcO3myj0CaKjdSCl7/R4eeHvB15SCdnZcPhwK32PIaNof76omDt6tENZmtsVQUGgFCxv0OrSwjiX7RtK0evBzUtLzz7qfWlzfH2RgJ4Roo/dsKF1i+imH8+lpBjK3AOM/bwRswGlKlxUnI4uXUQmSLHGh+wcWsfigsiMKCmBiuhuxoGh6iayMZ6eYkLhQOEqaBU/uizDsWOUlsGBwi5IEmosRCujBOlu29aAe6EFwqW6WggXgOBIdzXIujUwxBF29itEpxMWtOPHW+/rjm0VqdDBPQJrG7ZdXU39rypcVJwNSYLJk0VJ6owMqMyxvcWluhr+/FP8Gz+jq6lTVIWLbTF0QJ18ipEkOHLElLVsM44ehbNnychxJTloAEOGmGKvVVqH+Hhh2S8rg82b69mwBcJlzx4ozS1Dq4XASNVN1CoYRmzakgJjmvn69a3zVXl5kH5M+P26D6+jn1XcRapwUXFGRoyAwBgf9NVw4YSNhItSfC44mD17RGaEjw8MvDLOZKJUU6Fti6cnADp9KRePEgEu33xjY3P0ypVUVsJ2z4mUufkxebIN961iFUmCqVPF+19+qcco2kzhIsuwdi24VpUSFAwaT7V+V6ugmJoLCpgwQZzXgwfh5Ml6PvP553DffabS/Y1k40bwKMvFywtCetQhXJTrRRUuKs6IJMG0a4UZM/9CMWnnq1u+U4NwkQOD+OMPsWjiRHD11om53kG1uNgas0CTyy8pwd1dZIzZLAgwORl27iQrW2JvzJV07y6KpKm0PhddBFFRYiqhH3+sY6NmCpejR8W8SB6UEhQIeKgWl1ZBKTlRVkZYYCUXXyz+/frrOgLpy8pg1SpxE69d2+ivyckRlhzP8lxhDa2rn1Vu3jomcLUXqnBRaTQ9Bnvj4wvI8NNXNihgZhAuRzJCSE4WFf+NAWJ9+ohXdRIU26LVih8a8HUpZsYMsfiHH2w0Ie0PP1BWDrs0I8jzilStLW2IRgM33CDe//23eJbVQnkANaG6WXk5fPmleD+0r3AVqcKllfDyMlmbCwu54gqxKCXFbOoVc/bvFzWTwFBsq2FkGb76SpzXMF0uvn7ULVxmzoSnn4YrrmjacbQyqnBRaTwuLoR38QQJTu8vbFnQWEUFFBRQVQVf/SEm87rkEjODwM03w4IFpqhDFduh/MjFxUycKMp75OfDmjUt3G9ODvL6DaQkw56Y2fTpY8p2UWkbunYVRf5kuQ4XYHi4eC0sbHQtl59+EuFogYEwerAIzlWna28lJMnCXeTtbdIMP/5opfanMnMpCKXaiKnC9+0T7icXjUy34DyRvVmXcNHpRJyAg51vVbioNAmPYG+CgkBXWch331kxX2ZkmEYA9ZGdjQycS3Mjq8ybzp0xjv4B8XAdNkxNhW4NzISLVgtXXy3+/eMPU7x0s/j5Z7LSqzjt1ou8Tr246Sa1vL89uOoq8bw5fRp27qyx0t3dMIMejbK6nDmDcbqGuXPBrdogXFSLS+tRo0L5xRcLz3lpqbCMGtHrDXOxYIp+b8DqUlIi3E4Al40twMPV4PJ3slpZqnBRaRq+voSFgp9USHJyjdiI5GS44w54+eWG95OVRV4uJJeH4KKVuO02VaO0GYpwKRETLQ4YAD17isn6Vq5s5j5LSyn74TfS0mBf3GyuuUYNT7IX/v4wbZp4v3KlFRegYnWpt1qduB4++0xYbUaONHhvlVxrVbi0HorFxRBhbe4C3LrVWNsREhKEqdTLC265RSzbtKneSPsffhAfCQuDyUNzTd/nZJ2vKlxUmoa3N1otjBssbqpVq8zMl6dOiZsmIaHB3RSezeL8BSjWBXHZZeqMwW2KIlwMUzdIElx7rXjdvbuBDIY60P/2OyknisnxiMR93AhjGXoV+3DJJWIQnpcHv/1WY2Uj41x++w1SU4UB4NprDQtLVVdRq+NTu0J5ly6mWbi/+spg6VbcREOHishsd3dh8a6j/z11ymSQmTsXXIsMwsUJMzdV4aLSNAyjgUHdCgkNFer9jTcM95iSqZCfX28VLFmGv37IQl8NbhHBXHppG7RbxYQhJVqxuIAQjkoGwwcfCONZo6mqIu2/P1JSDEe6X8nNt0iqi8jOuLqaxMYff4i4BiONsLhcuGASPNdfbxZ7pggX5RpSsT1mMS7mzJ4tfvZz5+DXXzEJlxEjhG9QmWjIiruoqgq++EK8Hz0aevRApBaB07mJwEmFS2FhIY899hhTpkwhJCQESZJYtGiRvZvVMTDk87uUFHL//eKaT02FN9+E8hSzWWfrGc399RfkncpC0sDQS4NRJx1vY5SaDDWCM2fPhpgYsfiNNyDpdJVQMQ8+WG/6bMb3m8lOyKLEzZ9+D0xwxgFcu6R/fxEmVl0N//d/oqou0KBwyc2Fjz8WnxswwDRXGWAakKgWl9ajDuHi4wNXXineb/76PBd2piC7uMDgwWKhkpK5ebM4eQbKyuCjj0zWs6uuMqzIVS0ubUp2djb//e9/KS8v5woHS9Nq95j5X0ND4ZFHxKLz52HH6kyqlPvFinApLxeBYcuXg3dZNuHh4N9NLana5iij5RrCxdMTHn5YmKXLCys4cuMLFH/3q3CqL19eazeyDH/+oSfh2W+R9ZA9aiYXT3RriyNQaQSSBPPmCReDLMOyZYZA23qEy+HD8OyzIv3WywvmzKkRYK26ilofK64ihbFjRTB9bMZOsrJgX1U/qnQGc9jAgeKzeXlw6BAgTvGLLwqLm4sL3HSTmfVMES5OGIzmlMIlJiaG3NxcNm3axIsvvmjv5nQslNG64aYKC4NHHxXiRZ+RyZkzwixZU7icOAH/+Y+YNAygZ2CmCIRXa8G3PWZZRTXx8IAH7yjmljML6Jy6i1OJrhQVI05caqpxu7w8eOst2PveVvwKU/AI9mL8a5epLiIHQ6MRlQUuuUT8/+238Pv+MGQQVjRDWmB1NXz/PbzzjrgsYmLgiSeseBFUV1HrU4fFRWHyZLgiYieSBFurRvDWWwavr1aLMbhs0yb27ROiJS1NnMd//UtY0Iw4sXBxrlBiA5LaO9oPK6OB8HB45GGZzB8zKCsXVTZPf5hOWoqInSgoMLldAwJERxr/QjbkowoXe1CPcCEvD/f/LGSoxxlOBXrxVfcFDD3zLd2S95B27wouXP0APj5CxxQXycw5+w2RkRB47+VIIerDzBGRJDFK9/IStUB+2BxM9AkXdNoqtr2Tg3vnYE6dMmWrTJggtreaaKK6ilqfGllFtSgooFPOEXzi4Ouo4WSdEFayTp0gImccI1LWUPnlNv536B6qXdzo3h3uvNO0W0BMcHv+vHjvhK4ipxQuLaG8vJxys/zAAoOqrayspLKy0l7NanWUY2vpMUoeHmj0euSCAvRm+wp2L8QvupRz5yTKy0BKv8DevdXs3Wv67OjRMlddJeOuqUBvUPvVfn5gw9/dVsfp6LTkOCWdzuo5JC8PzZNPIl24gOTnR/QrCwla340d8jVE7diN3951/OR5DYUeomz8RdJ2hoedQefnQdX0aTY9jwod5XxC6x/r5Mng6iqxYoVEphSCX2EqJ/46z4VAMeL28IC5c/UMGiRcS9aaoSkuRtLrqXZxafb57ijntNnH6e6Oi14PeXlUW/mstH07mupqPPrEcfsjAbz3XjVZWaIQ+SE5nk7FQXiXZREVvpPYG0Zy5bRSXNJSqdp5DunwYaTDhy2spy3tg+1xHjuccHnxxRdZvHhxreUbNmzAswOYP9c2YT4La3inpNAnI4Py8nL2//qrcblnWhr98jPw94NqHwnJey9RUdvJzvagrMyFfv2yCAgoYv160OXkMDAjA71Wy66//mqVKmUtPU5noTnH6X/yJD0zMig6epQjZucw8q+/6Lx/P+V+fhyfPJmyU8eJjj5O4BWuVBb54594lnEZb7C2xxyCg0oY+//t3XtQVOfdB/DvLldhQQVdFQQRVJCLEhMVqykiVQnYUZNY4y1Sse3YOIlNM/Wt2qipadG07zSjUWu8ZsRkiq3RSbVBBFurEm+x9Za8xlsoRKEQBbkIyPP+cTzLLuzC3ncP+/3M7KwezrPn+XF4dn/7PM95zvn1eHC/AuUJ41Fq5nLj1vKU8wk4PtbUVB/4lzYi8E41YgKPo6G3tGBkUtJ/8c03TfqfaR08df06fGtqcPnMGdT95z821cNTzqmlcfpXVmJkRQVaampwXq99yobu34+QigqUxcbiP5cOY8wYL5SXa9DUpEZzsxcq7oUj5NoNzLj7FgK3P8b9/+045CTUatQNGIBvhw5F+c2bwK1bVsdXr3d1orO4PHE5fvw40sxc1v3zzz9HcnKyTcf75S9/iddff133/5qaGkRERCAtLQ2hoaE2vbY7a25uxtGjRzF58mT4+PhY/0JlZfA6fBgICEBYZqZus+rMGai1Wqk/uq4OA/y9MPx/RhtPSi5fhpdWCxEWhkyD5XJtZ7c43ZxNcV69Cq/iYvTVajFI7xyqT5+GSqtF65IlCJNvNSxLDIfXihWI9v4/ZK7oB9XXX0N97jEQEYHQVauQJK/Gameecj4B58aqrvoKqk+rETWpJ8S8ZLPLee3bB/j7IzUjw+rFlzzlnFod54MH8HqyRG6/qVOlWbWypiZ4ffABoNUidPFijBg6tGP5m33g9frFJ//xkYb1goIgwsMh4uKApCSI4cPRJyAAgwAkWxmfrMqm5bat4/LEJTY2Fu+//75Z+0bKdwy2gZ+fH/z8/Dps9/Hx6daNSGZznCEh0oy/xkaoVaq2gfDqaml7YqK0DHVTE9SNje0GVp948EDaV6uFl4N+5zyfnejZU/r9NzS0/f5bWqQVqtRqqEeMkBYC0TdypHTVwr//DfXBg9J68mo1MG0a1E6Yp+Qp5xNwUqzh4dK5rqrqeK5NEUK6NFCthjooyPxyJnjKObU4zt69Ia8RoX70qO0WDYB0k6GmJqBPH6iHDzf+xTA2VroS4v59KbkMC2ubm+gArjiHLk9cBgwYgMWLF7u6GmQu+aoiQJrcKTeqyidruISHSx9q1dXSlUXGEpcnd4VGN+7hcmv667gIIb353bghfSgFBQEREcbLzZkjvXEeOSKV8/VtW1iClMXMZf8NtLS0rQ/CJf8dx8tLaqMPH0pXNrRPXABpgZ7OhtgNFt/pfhR5OTS5kFrddlWK/uV6cuLSt2/XS4rLiUvfvo6pI3VOnsvV0tI2Ke/qVek5Pt70G2JiovSQ74UydaoiL6UkWJe46K+GzauKHMvUWi43bkjPsbHOrY+bcXmPi7WOHDmCuro61D45sVevXsX+/fsBAJmZmR4x0dZlgoKkb+tP7nUDoGPicu2a6TdF9ri4Vo8eUnIihHQefX2BK1ekn8XHd152zhxg5UppiFC3BCcpjpy43L8vJSTmJCLyGi6+vobzLsj+goOlK3/0vxwK0Za4xMS4pl5uQrGJy5IlS3Dnzh3d//Pz85Gfnw8AuHXrFqKiolxUMw8QFCQlJfrfBuQl4S3pceEaLq6hUkm9LnV10qNXr7Yel4SEzsuOGCEtl9y7NxNPJQsM1E2kx7170opzXZETFw4TOZ6xtVwqK6Uvi97egB3meyqZYhOX27dvu7oKnqt9N2Zzc9sqjFpt27c5Ji7uS/7QqquT1nevrZW+SZvzTc7MqwDJzfXvL32DNzdx4eJzziO/x+r3uHz1lfQ8aJCJ1QE9B+e4kOXaJy5yIuLrK/2ssx6X6mrpqiKVSlrqkVxDf/VceZgoNtbj3xA9iqXzXNjj4jzGEhd5mGjIEOfXx80wcSHLtU9c9Oe3qFRtiYvevVB0vvhCeo6K4hugK8mJS329+cNE1L0wcXFfxoaKOL9Fh4kLWa6zxAWQhoC8vKSrVqqrDcteuyY9x8U5vp5kmpy4PHxo/sRc6l7kLxjmJi4cKnKe9jdaFKJtqIiJCxMXsoKpxEUr3cMGanVbEtP+TVHucRk+3LF1pM7JicvXX0s9YyoVk0lP09VctPbY4+I87YeK5CF2tVrqrfZwTFzIcvICZnLion9FkczYPJfm5rZvDfyQdC05cTlzRnqOieEHkqfRHyqS1+bpDBMX52k/VCQPE0VGSnMJPRwTF7Jc+0bVfqgIMP5t7sYNafgoOLjt5+QacuIinx8OE3keeU5aU5O0nktXOFTkPO17XDi/xQATF7Jc+x4XY4mLsR4X/WEiB9wRmizQfoFGTsz1PN7epod0jWGPi/PofznkwnMdMHEhy7VvVO3nuACdJy4cJnI9/XtOAexx8VSWTNBl4uI88nusvLo1ExcDTFzIcvKHXmOjNGmsqUnqQdFfSbX9G6IQvKLInej3uISFSavnkuexZIIuh4qcx9u77fdcWiqtlaVSAdHRrq2Xm2DiQpbTaNqGem7elJ579za8zb38hlhdLU3K/e9/pX+r1cDQoc6tL3Ukz3EBOEzkySxZy4U9Ls4l97p8/rn0HB7OpPEJJi5kOZWqrddFTlza3+k5OFhqZEJIVx3Jw0TR0YCfn/PqSsYxcSHAsh4XJi7OJScuFy9Kzxwm0mHiQtbpKnHRX0H33j3Ob3E3+okL57d4LkvmuHCoyLnkK4u+/FJ6ZuKiw8SFrCN/GzCVuACGiQvnt7iXvn2lx9ChvDTdk8nnvqpKGtLtDHtcnEt+j5Vvm8LERYd3VCPryD0u8je1zhKX0tK2BIcr5roHHx/gj3+UJgHy0nTPJQ/pNjZKQ7rh4ab3ZeLiXHLiImPiosMeF7JO+0alfym0TE5cTp0CHj+WJvAaS3DINXx8mLR4OpXK/Am6HCpyLnmoCJDOkf7wrodj4kLWab8OiLGERL8bGpCGifhBSeRe5C8Y586Z3kcI9rg4m/6XQ/a2GGDiQtZp3+PS2VCRjMNERO5n8mTp+ZNPgOJi4/s0NbXdz4iJi3Po97gwcTHAxIWso9/j4u/fsQcG6DjpkxNzidzP2LHArFnSvzduBK5f77iPPEwEcDkDZ9H/cjhkiOvq4YaYuJB19L8NyDdra8/fv63xeXvzWwORu1qwABg9WrqyaN06abFIffX10rO/P4d7nUU/ceGKuQaYuJB19BMXYxNzZfJwUUwMb8dO5K5UKuCNN4CICClp+e1vDS+PlntcOEzkPAMGSO+zsbFAz56uro1bYeJC1mnf42KKPFzEYSIi9xYQAKxaJV298sUXwIYNwIULUm8Lryhyvh49gJ07gdxcV9fE7XAdF7KOuYnL9OnSm973v+/4OhGRbcLCgOXLgdWrgZIS6aF/A1X2uDgXE0Wj2ONC1jE3cYmNBd58s+MVRkTknp56CnjrLSAtTWq3Qkg3SQU4ZEFugT0uZJ2AAOlOz62tXFSOqLtJTpYegLQO07VrwO3bwPjxLqwUkYSJC1lHpQIiI4HycumZiLqn0FBgwgTpQeQGmLiQ9XJzpYl77RejIyIichAmLmS9wEDeP4OIiJyKk3OJiIhIMZi4EBERkWIwcSEiIiLFYOJCREREisHEhYiIiBSDiQsREREpBhMXIiIiUgyPX8dFCAEAqK2thY+Pj4tr4zjNzc2or69HTU0N4+wGGGf34ymxMs7upba2FkDbZ6kzeHziUlVVBQAYPHiwi2tCRESkTFVVVejppJtwenziEhISAgD4+uuvnfZLd4WamhpERESgtLQUwd14iX7G2b14SpyA58TKOLuXBw8eIDIyUvdZ6gwen7io1dI0n549e3brPy5ZcHAw4+xGGGf34ymxMs7uRf4sdcqxnHYkIiIiIhsxcSEiIiLF8PjExc/PD6tXr4afn5+rq+JQjLN7YZzdj6fEyji7F1fEqRLOvIaJiIiIyAYe3+NCREREysHEhYiIiBSDiQsREREphuITl4cPH2LZsmUICwuDv78/kpOT8dFHH5lVtqKiAtnZ2ejTpw8CAgIwbtw4HDt2zOi+hYWFGDduHAICAtCnTx9kZ2ejoqLCnqF0ydpY//KXv2DOnDkYMmQIevTogaioKMybNw/Xr1/vsO/EiROhUqk6PDIyMhwRklHWxrl7926jdVepVLh7926H/V19Tq2N09Q5MharO5zP2tpa/OIXv8CUKVPQt29fqFQqrFmzxuzySmmntsSppDZqS5xKaqO2xKmkNlpUVIRFixYhLi4OgYGBCA8Px/Tp03H+/HmzyruifSp+Abrnn38eZ8+eRW5uLoYNG4Z9+/Zhzpw5aG1txdy5c02We/ToEdLT03H//n28++670Gq1eO+995CRkYHCwkKkpqbq9v373/+O5557DllZWTh48CAqKiqwfPlypKen49y5c06bTW1trOvXr0f//v2xcuVKREdHo7S0FL/5zW8watQolJSUICEhwWD/6Oho5OXlGWzr1auXI0Iyyto4Zbt27UJcXJzBttDQUIP/u8M5tTbOzZs3o6amxmBbfX09MjIy8PTTT6N///4GP3P1+ayqqsK2bdswcuRIzJgxA9u3bze7rJLaqS1xKqmN2hKnTAlt1JY4ldRGt2zZgqqqKrz22muIj49HZWUlfv/73yMlJQWffvopJk2aZLKsy9qnULC//vWvAoDYt2+fwfbJkyeLsLAw0dLSYrLse++9JwCIU6dO6bY1NzeL+Ph4MWbMGIN9R48eLeLj40Vzc7Nu28mTJwUAsXnzZjtF0zlbYr13716HbWVlZcLHx0fk5OQYbE9NTRUJCQn2qbQVbIlz165dAoA4e/Zsl8dx9Tm1JU5jdu/eLQCI7du3G2x39fkUQojW1lbR2toqhBCisrJSABCrV682q6yS2qktcSqpjdoSp5LaqC1xGuOubdTY315tba3o16+fSE9P77Ssq9qnooeKDhw4AI1Gg1mzZhls/+EPf4jy8nJ89tlnnZaNjY3FuHHjdNu8vb0xf/58nDlzBmVlZQCAsrIynD17FgsWLIC3d1sH1Xe+8x0MGzYMBw4csHNUputrbaxarbbDtrCwMAwcOBClpaV2r6stbInTXO5wTu0d544dO6DRaDB79mx7VtMu5K5vayipndoSp5LaqC1xmkvp59MYd22jxv72NBoN4uPju/zbc1X7VHTicvnyZQwfPtzgFwEAI0aM0P28s7LyfsbKXrlyxeA1TO3b2THsyZZYjbl58ybu3LnToQsaAG7cuIGQkBB4e3sjJiYGK1euRENDg/WVt4A94pw2bRq8vLwQEhKC559/vkMZdzin9jyf169fx4kTJ/DSSy9Bo9F0+Lkrz6etlNZO7cld26g9KKGN2pPS2uiDBw9w4cIFo397+lzVPhU9x6WqqgrR0dEdtst3qayqquq0rLG7WbYvKz+b2rezY9iTLbG219LSgpycHGg0GvzsZz8z+NmECRMwe/ZsxMXFoaGhAUeOHMGGDRvwz3/+E8XFxQ6/kZYtccpzBFJSUhAcHIxLly4hNzcXKSkpOHnyJEaOHGnwGq48p/Y8nzt27AAA5OTkdPiZq8+nrZTWTu3FnduoLZTURu1JaW30lVdeQV1dHVauXNnpfq5qn4pOXAB02pXXVTefJWVN7evoLlNzj2VuPYQQyMnJwYkTJ/DnP/8ZERERBj9ft26dwf8zMzMRFRWFN954AwcPHsTMmTMtr7iFrI0zIyPDYCb+d7/7XWRlZSEpKQlvvvkmDh48aNZrOeuc2uN8trS0YM+ePUhISEBKSkqHn7vD+bSV0tqprZTQRq2ltDZqD0pro7/61a+Ql5eHjRs34umnn+5yf1e0T/dNzc0QGhpqNFOrrq4GYDy7s7SsPNPd1L6dHcOebIlVJoTA4sWLsXfvXuzevRvTp08369jz588HAJSUlFhQY+vYI059UVFRmDBhgkHd3eGc2ivOw4cP4+7du1i8eLHZx3bm+bSV0tqprZTQRu3NXduovSipja5duxbr1q3D22+/jaVLl3a5v6vap6ITl6SkJFy7dg0tLS0G2y9dugQASExM7LSsvF9nZeVnU/t2dgx7siVWoO0NcdeuXdi+fbuuYVjCGV2WtsZpjBDCoO7ucE7tFeeOHTvg6+uLBQsWWFwHdx5SkCmtndpCKW3UEdyxjdqLUtro2rVrsWbNGqxZswYrVqwwq4zL2qdF1yC5mcOHDwsA4qOPPjLYnpGR0eUlpZs3bxYARElJiW5bc3OzSEhIEGPHjjXYd8yYMSIxMdHg9U6fPi0AiC1bttgpms7ZEmtra6vIyckRKpVKbNu2zeJjr1+/XgAQH3/8scVlLWVLnMbcvHlTaDQaMWPGDIPtrj6n9ojzm2++Ed7e3uIHP/iBRcd25vlsz9LLSpXWTmWWxqmkNqrPHpcJu2sb1WdtnEppo2+99ZYAIFatWmVROVe1T0UnLkJI61707t1bbNu2TRQVFYkf/ehHAoDYu3evbp9FixYJLy8vcfv2bd22xsZGkZCQICIiIkReXp44evSomDlzpvD29hbHjx83OEZxcbHw9vYWM2fOFEePHhV5eXkiIiJCJCYmisbGRrePdenSpQKAWLRokTh9+rTB48KFC7r9/vGPf4ipU6eKrVu3ioKCAnHo0CGxZMkS4eXlJSZNmiQeP37s1nGmp6eLtWvXigMHDohjx46JP/zhDyIsLEwEBQWJS5cuGRzDHc6ptXHKcnNzBQBRUFBg9PXd5XwKISVq+fn5YufOnQKAmDVrlsjPzxf5+fmirq5OCNE92qm1cSqtjVobp9LaqLVxypTQRn/3u98JACIjI6PD397p06d1+7lT+1R84lJbWyteffVV0b9/f+Hr6ytGjBghPvzwQ4N9Fi5cKACIW7duGWy/e/euePnll0VISIjw9/cXKSkp4ujRo0aPU1BQIFJSUoS/v78ICQkRL7/8stGFexzJ2lgHDRokABh9DBo0SLff9evXRWZmpggPDxd+fn7C399fJCUlibffftupCZq1cS5btkzEx8eLoKAg4e3tLcLCwsT8+fPFl19+afQ4rj6ntvztCiHEsGHDRFRUlG6RrPbc5XwK0fnfoBxbd2in1saptDZqbZxKa6O2/N0KoYw2mpqaajJG/UEZd2qfKiGEsGRoiYiIiMhVlDmTi4iIiDwSExciIiJSDCYuREREpBhMXIiIiEgxmLgQERGRYjBxISIiIsVg4kJERESKwcSFiIiIFIOJCxEZpVKpzHocP34c2dnZiIqKcnWVOzhx4gT8/Pxw584ds8t8++236NWrFz7++GPHVYyIrMaVc4nIqJKSEoP///rXv0ZxcTGKiooMtsfHx6OyshI1NTV46qmnnFnFTgkh8Mwzz2DcuHHYtGmTRWXXrl2LvXv34sqVK/D19XVQDYnIGkxciMgs2dnZ2L9/Px4+fOjqqpjlyJEjyMzMxBdffIHY2FiLyt67dw8DBw7Enj17MHfuXAfVkIiswaEiIrKZsaEilUqFpUuXYteuXYiNjUWPHj3wzDPPoKSkBEIIvPPOOxg8eDA0Gg0mTZqEr776qsPrFhYWIj09HcHBwQgICMD48eNx7Ngxs+q0ZcsWjB49ukPSUlRUhIkTJyI0NBQ9evRAZGQkXnjhBdTX1+v26devHyZPnoytW7da/ssgIodi4kJEDvPJJ59g+/btyM3NxYcffoja2lpkZWXh5z//OU6ePIlNmzZh27ZtuHr1Kl544QXodwDv3bsXU6ZMQXBwMPbs2YM//elPCAkJwdSpU7tMXpqamlBYWIi0tDSD7bdv30ZWVhZ8fX2xc+dO/O1vf0Nubi4CAwPR1NRksO/EiRNx8uRJ3L9/326/DyKynberK0BE3dejR49QUFCAwMBAAFIvzIwZM1BcXIwLFy5ApVIBACorK7Fs2TJcvnwZSUlJqK+vx2uvvYZp06bhwIEDutfLzMzEqFGjsGLFCnz22Wcmj3vx4kU0NDRg1KhRBtvPnz+PxsZGvPPOOxg5cqRuu7HhoFGjRqG1tRUlJSXIyMiw6fdARPbDHhcicpi0tDRd0gIAw4cPBwA899xzuqRFf7t89c+pU6dQXV2NhQsXoqWlRfdobW1FRkYGzp49i7q6OpPHLS8vBwBotVqD7cnJyfD19cWPf/xj7NmzBzdv3jT5GnLZsrIyS0ImIgdj4kJEDhMSEmLwf/kKHVPbGxsbAUiTYwHgxRdfhI+Pj8Fj/fr1EEKgurra5HEbGhoAAP7+/gbbY2JiUFhYCK1Wi1deeQUxMTGIiYnBu+++2+E15LLyaxGRe+BQERG5nT59+gAANm7ciJSUFKP79OvXr8vyxpKbZ599Fs8++yweP36Mc+fOYePGjVi2bBn69euHl156SbefXFZ+LSJyD0xciMjtjB8/Hr169cLVq1exdOlSi8vLQ083btwwuY+XlxfGjh2LuLg45OXl4cKFCwaJizyMFB8fb/HxichxmLgQkdvRaDTYuHEjFi5ciOrqarz44ovQarWorKzEv/71L1RWVmLLli0myw8cOBDR0dEoKSnBq6++qtu+detWFBUVISsrC5GRkWhsbMTOnTsBAN/73vcMXqOkpAShoaFISkpyTJBEZBUmLkTklubPn4/IyEhs2LABP/nJT1BbWwutVovk5GRkZ2d3WX7evHnYtGkTHj16BD8/PwDS5NyCggKsXr0ad+/ehUajQWJiIg4dOoQpU6boygohcOjQIcydO9dgEjERuR5XziWibqm8vByDBw/GBx98gNmzZ1tU9tixY5gyZQquXLmCuLg4B9WQiKzBxIWIuq3ly5fjyJEjuHjxItRq8y+iTEtLw5AhQ/D+++87sHZEZA0OFRFRt7Vq1SoEBASgrKwMERERZpX59ttvkZqaip/+9KcOrh0RWYM9LkRERKQYXICOiIiIFIOJCxERESkGExciIiJSDCYuREREpBhMXIiIiEgxmLgQERGRYjBxISIiIsVg4kJERESK8f8xGvHAOElP8QAAAABJRU5ErkJggg==",
          "text/plain": "<Figure size 600x300 with 1 Axes>"
         },
         "metadata": {},
         "output_type": "display_data"
        }
       ]
      }
     },
     "2f91befdb8444adb91f655bccc7ed184": {
      "model_module": "@jupyter-widgets/controls",
      "model_module_version": "2.0.0",
      "model_name": "ButtonStyleModel",
      "state": {
       "font_family": null,
       "font_size": null,
       "font_style": null,
       "font_variant": null,
       "font_weight": null,
       "text_color": null,
       "text_decoration": null
      }
     },
     "3192830c77f840e1b3eb751aad45219d": {
      "model_module": "@jupyter-widgets/base",
      "model_module_version": "2.0.0",
      "model_name": "LayoutModel",
      "state": {}
     },
     "31cac0baa33c4a7c8eff470951725368": {
      "model_module": "@jupyter-widgets/controls",
      "model_module_version": "2.0.0",
      "model_name": "ButtonStyleModel",
      "state": {
       "font_family": null,
       "font_size": null,
       "font_style": null,
       "font_variant": null,
       "font_weight": null,
       "text_color": null,
       "text_decoration": null
      }
     },
     "3839d449953249ba8703d81217ce2bfb": {
      "model_module": "@jupyter-widgets/output",
      "model_module_version": "1.0.0",
      "model_name": "OutputModel",
      "state": {
       "layout": "IPY_MODEL_4d7a3084fb4f428e8d66b8e1663a5886",
       "outputs": [
        {
         "data": {
          "application/vnd.jupyter.widget-view+json": {
           "model_id": "125a4abe74324af6bf424d49dcf01f0d",
           "version_major": 2,
           "version_minor": 0
          },
          "text/plain": "HTML(value=\"<b>Question 1 of 6:</b> <br><div style='font-size:16px'>The temperature recorded hourly throughout…"
         },
         "metadata": {},
         "output_type": "display_data"
        }
       ]
      }
     },
     "3a703e5342164355bdfcdf4ad2f81719": {
      "model_module": "@jupyter-widgets/controls",
      "model_module_version": "2.0.0",
      "model_name": "ButtonModel",
      "state": {
       "description": "Qualitative",
       "disabled": true,
       "layout": "IPY_MODEL_841a13dd0b6f43a2be7ca673ad310b3b",
       "style": "IPY_MODEL_4bded12f65604a3f83c6039fb5360b6e",
       "tooltip": null
      }
     },
     "403eaa96da924e9da06c15661e906351": {
      "model_module": "@jupyter-widgets/controls",
      "model_module_version": "2.0.0",
      "model_name": "HTMLStyleModel",
      "state": {
       "description_width": "",
       "font_size": null,
       "text_color": null
      }
     },
     "45a88a7644514977a28c6b34f4ec292b": {
      "model_module": "@jupyter-widgets/base",
      "model_module_version": "2.0.0",
      "model_name": "LayoutModel",
      "state": {}
     },
     "4bded12f65604a3f83c6039fb5360b6e": {
      "model_module": "@jupyter-widgets/controls",
      "model_module_version": "2.0.0",
      "model_name": "ButtonStyleModel",
      "state": {
       "font_family": null,
       "font_size": null,
       "font_style": null,
       "font_variant": null,
       "font_weight": null,
       "text_color": null,
       "text_decoration": null
      }
     },
     "4c44e7bacefc44a890dd244a6ad5e426": {
      "model_module": "@jupyter-widgets/base",
      "model_module_version": "2.0.0",
      "model_name": "LayoutModel",
      "state": {}
     },
     "4d7a3084fb4f428e8d66b8e1663a5886": {
      "model_module": "@jupyter-widgets/base",
      "model_module_version": "2.0.0",
      "model_name": "LayoutModel",
      "state": {}
     },
     "4e42b6fd2095430e9be9f526bf0ce410": {
      "model_module": "@jupyter-widgets/base",
      "model_module_version": "2.0.0",
      "model_name": "LayoutModel",
      "state": {}
     },
     "5355a6a234094b25927a64c931d587b2": {
      "model_module": "@jupyter-widgets/controls",
      "model_module_version": "2.0.0",
      "model_name": "FloatSliderModel",
      "state": {
       "behavior": "drag-tap",
       "description": "Noise Level",
       "layout": "IPY_MODEL_9c6dd806b1014a0194dcd7f2a9b62d35",
       "max": 0.3,
       "step": 0.05,
       "style": "IPY_MODEL_561757d11bd5489c9929d9d8de66f00f",
       "value": 0.3
      }
     },
     "561757d11bd5489c9929d9d8de66f00f": {
      "model_module": "@jupyter-widgets/controls",
      "model_module_version": "2.0.0",
      "model_name": "SliderStyleModel",
      "state": {
       "description_width": ""
      }
     },
     "5fee6da43fb44abfa7ffad45f800dc40": {
      "model_module": "@jupyter-widgets/controls",
      "model_module_version": "2.0.0",
      "model_name": "HTMLModel",
      "state": {
       "layout": "IPY_MODEL_674d9c5ac8404b969ebc5fc3aa5e9881",
       "style": "IPY_MODEL_403eaa96da924e9da06c15661e906351",
       "value": "<b>Question 1 of 6:</b> <br><div style='font-size:16px'>The temperature recorded hourly throughout a day.</div>"
      }
     },
     "666a39d568f64467995fb6dc428dd9d6": {
      "model_module": "@jupyter-widgets/controls",
      "model_module_version": "2.0.0",
      "model_name": "ButtonStyleModel",
      "state": {
       "font_family": null,
       "font_size": null,
       "font_style": null,
       "font_variant": null,
       "font_weight": null,
       "text_color": null,
       "text_decoration": null
      }
     },
     "674d9c5ac8404b969ebc5fc3aa5e9881": {
      "model_module": "@jupyter-widgets/base",
      "model_module_version": "2.0.0",
      "model_name": "LayoutModel",
      "state": {}
     },
     "67b0cfc35946462490e6cf44b31a40f2": {
      "model_module": "@jupyter-widgets/controls",
      "model_module_version": "2.0.0",
      "model_name": "ButtonModel",
      "state": {
       "description": "Quantitative",
       "layout": "IPY_MODEL_77d3202f60534bc6b9bb06eb86031c9d",
       "style": "IPY_MODEL_666a39d568f64467995fb6dc428dd9d6",
       "tooltip": null
      }
     },
     "692c81a71f6b4f7f81c5e8e3bd797e54": {
      "model_module": "@jupyter-widgets/base",
      "model_module_version": "2.0.0",
      "model_name": "LayoutModel",
      "state": {}
     },
     "71c0c25eb2d34f149737e2f556acd449": {
      "model_module": "@jupyter-widgets/controls",
      "model_module_version": "2.0.0",
      "model_name": "HTMLStyleModel",
      "state": {
       "description_width": "",
       "font_size": null,
       "text_color": null
      }
     },
     "73b2083210dd40659b6ce65fc7ce7ce8": {
      "model_module": "@jupyter-widgets/controls",
      "model_module_version": "2.0.0",
      "model_name": "HTMLModel",
      "state": {
       "layout": "IPY_MODEL_3192830c77f840e1b3eb751aad45219d",
       "style": "IPY_MODEL_066e1364b70d487b9a2f57bb6d6fa54a",
       "value": "<b>Question 5 of 6:</b> <br><div style='font-size:16px'>Number of people who attended a concert.</div>"
      }
     },
     "764271abdd7c4235a8238748fae9651b": {
      "model_module": "@jupyter-widgets/output",
      "model_module_version": "1.0.0",
      "model_name": "OutputModel",
      "state": {
       "layout": "IPY_MODEL_7df83c0ef3d1423582e03ad7c8802f4d",
       "outputs": [
        {
         "data": {
          "text/html": "<p style='font-size:18px; color:black;'>❌ <b>Data unreliable:</b> Noise overwhelms the actual signal, making diagnosis impossible!</p>",
          "text/plain": "<IPython.core.display.HTML object>"
         },
         "metadata": {},
         "output_type": "display_data"
        }
       ]
      }
     },
     "77d3202f60534bc6b9bb06eb86031c9d": {
      "model_module": "@jupyter-widgets/base",
      "model_module_version": "2.0.0",
      "model_name": "LayoutModel",
      "state": {}
     },
     "7df83c0ef3d1423582e03ad7c8802f4d": {
      "model_module": "@jupyter-widgets/base",
      "model_module_version": "2.0.0",
      "model_name": "LayoutModel",
      "state": {}
     },
     "841a13dd0b6f43a2be7ca673ad310b3b": {
      "model_module": "@jupyter-widgets/base",
      "model_module_version": "2.0.0",
      "model_name": "LayoutModel",
      "state": {}
     },
     "8a22cf43f92b4a0c8043a79ab31c8778": {
      "model_module": "@jupyter-widgets/base",
      "model_module_version": "2.0.0",
      "model_name": "LayoutModel",
      "state": {}
     },
     "8ce97e858fbc4169a8490225eff43804": {
      "model_module": "@jupyter-widgets/controls",
      "model_module_version": "2.0.0",
      "model_name": "HTMLStyleModel",
      "state": {
       "description_width": "",
       "font_size": null,
       "text_color": null
      }
     },
     "8d62c9e236c5435abca845854050bd1b": {
      "model_module": "@jupyter-widgets/controls",
      "model_module_version": "2.0.0",
      "model_name": "HTMLModel",
      "state": {
       "layout": "IPY_MODEL_de931ab6a2504996ac91a7d001dfd732",
       "style": "IPY_MODEL_71c0c25eb2d34f149737e2f556acd449",
       "value": "<b>Question 2 of 6:</b> <br><div style='font-size:16px'>Survey responses rating satisfaction with services on a scale from 1 to 5.</div>"
      }
     },
     "91bb8f2ef9ef4205a026653d6a2a7790": {
      "model_module": "@jupyter-widgets/base",
      "model_module_version": "2.0.0",
      "model_name": "LayoutModel",
      "state": {}
     },
     "95f3b20a92c44bed9790782ba00a322e": {
      "model_module": "@jupyter-widgets/controls",
      "model_module_version": "2.0.0",
      "model_name": "HTMLStyleModel",
      "state": {
       "description_width": "",
       "font_size": null,
       "text_color": null
      }
     },
     "970f96305d3e4e29ace3f478e8fff75e": {
      "model_module": "@jupyter-widgets/output",
      "model_module_version": "1.0.0",
      "model_name": "OutputModel",
      "state": {
       "layout": "IPY_MODEL_8a22cf43f92b4a0c8043a79ab31c8778",
       "outputs": [
        {
         "name": "stdout",
         "output_type": "stream",
         "text": "Quiz completed! 🎉\n"
        }
       ]
      }
     },
     "9c6dd806b1014a0194dcd7f2a9b62d35": {
      "model_module": "@jupyter-widgets/base",
      "model_module_version": "2.0.0",
      "model_name": "LayoutModel",
      "state": {}
     },
     "acfeda2827e44c2fab2121c3f23415e9": {
      "model_module": "@jupyter-widgets/base",
      "model_module_version": "2.0.0",
      "model_name": "LayoutModel",
      "state": {}
     },
     "c50720d2a4ba4068b20368ff6e4cd663": {
      "model_module": "@jupyter-widgets/controls",
      "model_module_version": "2.0.0",
      "model_name": "HTMLModel",
      "state": {
       "layout": "IPY_MODEL_692c81a71f6b4f7f81c5e8e3bd797e54",
       "style": "IPY_MODEL_ec646951a6e14faa895915ce26474ff3",
       "value": "<b>Question 6 of 6:</b> <br><div style='font-size:16px'>Opinions about a new product.</div>"
      }
     },
     "c822232083c74c0795024bef92851d8e": {
      "model_module": "@jupyter-widgets/output",
      "model_module_version": "1.0.0",
      "model_name": "OutputModel",
      "state": {
       "layout": "IPY_MODEL_4e42b6fd2095430e9be9f526bf0ce410",
       "outputs": [
        {
         "data": {
          "application/vnd.jupyter.widget-view+json": {
           "model_id": "5fee6da43fb44abfa7ffad45f800dc40",
           "version_major": 2,
           "version_minor": 0
          },
          "text/plain": "HTML(value=\"<b>Question 1 of 6:</b> <br><div style='font-size:16px'>The temperature recorded hourly throughout…"
         },
         "metadata": {},
         "output_type": "display_data"
        }
       ]
      }
     },
     "ccfe116741f849738824b78607a6e84a": {
      "model_module": "@jupyter-widgets/controls",
      "model_module_version": "2.0.0",
      "model_name": "ButtonModel",
      "state": {
       "description": "Quantitative",
       "layout": "IPY_MODEL_2367219cdce04fa4a95f6234dbdfd3e8",
       "style": "IPY_MODEL_2f91befdb8444adb91f655bccc7ed184",
       "tooltip": null
      }
     },
     "d00a58e84d9643a9a6db57e3efe9a98e": {
      "model_module": "@jupyter-widgets/controls",
      "model_module_version": "2.0.0",
      "model_name": "HTMLModel",
      "state": {
       "layout": "IPY_MODEL_f8730f69c2c8470991006ae6f5d896a3",
       "style": "IPY_MODEL_95f3b20a92c44bed9790782ba00a322e",
       "value": "<b>Question 3 of 6:</b> <br><div style='font-size:16px'>Descriptions of the texture of a fabric.</div>"
      }
     },
     "d1afd22244bb47bd99fb6025052231e7": {
      "model_module": "@jupyter-widgets/base",
      "model_module_version": "2.0.0",
      "model_name": "LayoutModel",
      "state": {}
     },
     "dd4d9f5e73774a3d8a5faf37825b5f79": {
      "model_module": "@jupyter-widgets/controls",
      "model_module_version": "2.0.0",
      "model_name": "HTMLStyleModel",
      "state": {
       "description_width": "",
       "font_size": null,
       "text_color": null
      }
     },
     "de931ab6a2504996ac91a7d001dfd732": {
      "model_module": "@jupyter-widgets/base",
      "model_module_version": "2.0.0",
      "model_name": "LayoutModel",
      "state": {}
     },
     "e7cb8d4d31274515b4e92aa41fa87f9d": {
      "model_module": "@jupyter-widgets/base",
      "model_module_version": "2.0.0",
      "model_name": "LayoutModel",
      "state": {}
     },
     "ec646951a6e14faa895915ce26474ff3": {
      "model_module": "@jupyter-widgets/controls",
      "model_module_version": "2.0.0",
      "model_name": "HTMLStyleModel",
      "state": {
       "description_width": "",
       "font_size": null,
       "text_color": null
      }
     },
     "ee0ee8db41c54061809a32c4c0bd86f9": {
      "model_module": "@jupyter-widgets/base",
      "model_module_version": "2.0.0",
      "model_name": "LayoutModel",
      "state": {}
     },
     "f66b1244f1ae4ae690ec9cd21ae3b883": {
      "model_module": "@jupyter-widgets/controls",
      "model_module_version": "2.0.0",
      "model_name": "ButtonStyleModel",
      "state": {
       "font_family": null,
       "font_size": null,
       "font_style": null,
       "font_variant": null,
       "font_weight": null,
       "text_color": null,
       "text_decoration": null
      }
     },
     "f8730f69c2c8470991006ae6f5d896a3": {
      "model_module": "@jupyter-widgets/base",
      "model_module_version": "2.0.0",
      "model_name": "LayoutModel",
      "state": {}
     },
     "f8d8e6aea37746578924b20f4db138eb": {
      "model_module": "@jupyter-widgets/controls",
      "model_module_version": "2.0.0",
      "model_name": "HTMLModel",
      "state": {
       "layout": "IPY_MODEL_ee0ee8db41c54061809a32c4c0bd86f9",
       "style": "IPY_MODEL_dd4d9f5e73774a3d8a5faf37825b5f79",
       "value": "<b>Question 1 of 6:</b> <br><div style='font-size:16px'>The temperature recorded hourly throughout a day.</div>"
      }
     },
     "ff265abf7bf74b9f9191022dc679f6d5": {
      "model_module": "@jupyter-widgets/controls",
      "model_module_version": "2.0.0",
      "model_name": "ButtonStyleModel",
      "state": {
       "font_family": null,
       "font_size": null,
       "font_style": null,
       "font_variant": null,
       "font_weight": null,
       "text_color": null,
       "text_decoration": null
      }
     }
    },
    "version_major": 2,
    "version_minor": 0
   }
  }
 },
 "nbformat": 4,
 "nbformat_minor": 5
}
