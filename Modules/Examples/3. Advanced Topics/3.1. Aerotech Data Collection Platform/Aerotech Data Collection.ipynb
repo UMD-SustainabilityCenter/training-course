{
 "cells": [
  {
   "cell_type": "markdown",
   "id": "63fd018d",
   "metadata": {},
   "source": [
    "## Table of Contents\n",
    "* [Aerotech Data Collection Platform](#Aerotech-Data-Collection-Platform)\n",
    "    * [Variables](#Variables:)\n",
    "    * [Functions](#Functions:)\n",
    "    * [Convert .gprec File](#Convert-.gprec-3D-scans-to-.csv-for-better-readability-(Do-not-run-if-files-already-converted):)\n",
    "    * [Select Experiment Data to View](#Select-Experiment-Data-to-View:)\n",
    "    * [Load Scan File](#Load-Scan-File:)\n",
    "    * [Display 3D Scan](#Display-3D-Scan:)\n",
    "    * [Import Feedback Data](#Import-Feedback-Data:)\n",
    "    * [Extract Signals From Feedback](#Extract-Signals-from-Feedback-Data:)\n",
    "    * [Fill Missing Pixel From 3D Scan Data](#Fill-missing-pixel-data-from-3D-scan:)\n",
    "    * [Create Mask Surrounding Bead](#Create-mask-of-the-area-surrounding-the-bead:)\n",
    "    * [Remove Distortion From Scan](#Remove-twist-from-3D-scan-substrate-for-accurate-bead-area-calculation:)\n",
    "    * [Calculate Bead Cross Secional Area](#Calculate-Bead-Cross-Sectional-Area:)\n",
    "    * [Resample Bead Area](#Resample-Bead-Area-To-Fit-Feedback-Data:)\n",
    "#### [🏠 Home](../../../welcomePage.ipynb)"
   ]
  },
  {
   "cell_type": "markdown",
   "id": "60289659-d46f-4a61-ba48-04136f02ccf7",
   "metadata": {},
   "source": [
    "# Aerotech Data Collection Platform \n",
    "This script describes preprocessing steps and techniques for the preparation of sensor feedback data for data-driven modeling techniques. The data is generated on a custom-built Fused Filament Fabrication (FFF) 3D printer. The highly instrumented 3D printer was built to collect a large quantity of data for the purpose of data-driven modeling of the extrusion process. The 3D printer is based on Aerotech motion components with the capability of collecting feedback signals that include position, velocity, acceleration, and motor current. Additional sensors were placed where the dynamics of the system are expected to be visible. The sensors include a polymer melt pressure sensor, a thermocouple for melt temperature, a load cell to measure force on the filament feedstock, and a thermal camera to monitor cooling dynamics post-extrusion. A figure of the system is shown below:\n",
    "\n",
    "\n",
    "<img src=\"instrumentedSystemBuild_UpdatedSystem.png\" alt=\"Aerotech System\" width=\"400\" height=\"300\"/> <img src=\"extruderDetails.png\" alt=\"Extruder Close up\" width=\"400\" height=\"300\"/>\n"
   ]
  },
  {
   "cell_type": "markdown",
   "id": "ada4a67d-3ae7-4c7f-86a4-afb76d6e8afa",
   "metadata": {},
   "source": [
    "## Variables:\n",
    "This section involves the selection of the folder where the experiment feedback data is saved by the Aerotech system, as well as all the other variables used in this script. After each experiment, all the experiment data is placed in a single folder. The folder contains the following files:\n",
    "\n",
    "1. comma-separated values (.csv) file with Aerotech sensor feedback signals.\n",
    "\n",
    "2. Gocator recording (.gprec) file with laser profilometer 3D height data.\n",
    "\n",
    "3. raw audio video interleave (.ravi) file with thermal camera recording of the experiment."
   ]
  },
  {
   "cell_type": "markdown",
   "id": "8fb61437-eb64-4808-8dee-5ba9aede3035",
   "metadata": {},
   "source": [
    "#### Press ▶️ <font color = '#2195F2'>**Play**</font> Button to Import Libraries and Load Variables"
   ]
  },
  {
   "cell_type": "code",
   "execution_count": null,
   "id": "6012304c-766c-4967-98a0-8461b6f9475b",
   "metadata": {
    "has_explanation": false,
    "jupyter": {
     "source_hidden": true
    },
    "tags": []
   },
   "outputs": [],
   "source": [
    "print(\"🟧 Running\", end='\\r')\n",
    "import matplotlib.pyplot as plt\n",
    "import pandas as pd\n",
    "import os\n",
    "import numpy as np\n",
    "import plotly.express as px\n",
    "import plotly.graph_objects as go\n",
    "import re\n",
    "import csv\n",
    "from scipy.interpolate import interp1d\n",
    "import ipywidgets as widgets\n",
    "from IPython.display import display, clear_output\n",
    "\n",
    "mainExperimentsFolder = r\"/home/jovyan/training-course/Modules/3. Advanced Topics/3.1. Aerotech Data Collection Platform/data\"\n",
    "#ConverterToolFilePath = r\"C:\\Users\\Sam\\OneDrive - Umich\\PannierResearchLab\\Osama Habbal's Research\\physicsInformedDataDrivenModeling\\Code\\ReplayConverter\\ReplayConverter.exe\"\n",
    "maskThreshold = -0.225\n",
    "#experimentScanNumber = 0\n",
    "\n",
    "print(\"✅ Success \")"
   ]
  },
  {
   "cell_type": "markdown",
   "id": "11bd9ef8-16bf-45b4-bb4d-8fe74c42dac9",
   "metadata": {
    "tags": []
   },
   "source": [
    "## Functions:\n",
    "This section contains all the functions that are used in this notebook, we will go over the details of these functions in their respective section."
   ]
  },
  {
   "cell_type": "markdown",
   "id": "06c8f5cd-4120-4750-a423-fa716f479623",
   "metadata": {},
   "source": [
    "#### Press ▶️ <font color = '#2195F2'>**Play**</font> Button to Load Script Functions"
   ]
  },
  {
   "cell_type": "code",
   "execution_count": 24,
   "id": "fac71466-c00f-4db3-8243-96d8eeb51c8d",
   "metadata": {
    "has_explanation": false,
    "jupyter": {
     "source_hidden": true
    }
   },
   "outputs": [],
   "source": [
    "print(\"🟧 Running\", end='\\r')\n",
    "# Function to extract the number from a file name\n",
    "def extractNumber(file_name):\n",
    "    match = re.search(r'\\d+', file_name)\n",
    "    return int(match.group()) if match else 0\n",
    "\n",
    "def listFiles(fileDirectory):\n",
    "    files = [file for file in os.listdir(fileDirectory) ]\n",
    "    numExperiments =  len(files)\n",
    "    files = sorted(files, key=extractNumber)\n",
    "    return files, numExperiments\n",
    "\n",
    "def convertScanToCsv(gprecFilePath,csvFileName,ConverterToolFilePath):\n",
    "    # Arguments to be passed to the program\n",
    "    arguments = \"ReplayConverter.exe -i \" + gprecFilePath + \" -a -o \" + csvFileName\n",
    "    #arguments = \"ReplayConverter.exe -i \" + gprecFilePath + \" -o \" + csvFileName\n",
    "    command = f'{arguments}'\n",
    "    #change directory to where the tool is\n",
    "    os.chdir(ConverterToolFilePath[:-20])\n",
    "    # Run the program\n",
    "    res = os.system(command)\n",
    "    return command,res\n",
    "def loadScanCsv(scanFilePath,filename):\n",
    "    #Go to Scan Directory\n",
    "    os.chdir(scanFilePath)\n",
    "    # Initialize an empty list to store rows\n",
    "    scannedGeometery = []\n",
    "    \n",
    "    # Open the CSV file and manually read it line by line\n",
    "    with open(filename, newline='') as csvfile:\n",
    "        csvreader = csv.reader(csvfile)\n",
    "        \n",
    "        # Process each row\n",
    "        for row in csvreader:\n",
    "            # Append the row to the data list\n",
    "            scannedGeometery.append(row)\n",
    "    \n",
    "    # Find the maximum row length\n",
    "    max_len = max(len(row) for row in scannedGeometery)\n",
    "    \n",
    "    # Pad shorter rows with NaNs to make all rows the same length\n",
    "    for row in scannedGeometery:\n",
    "        while len(row) < max_len:\n",
    "            row.append(None)\n",
    "    \n",
    "    # Create a DataFrame from the data\n",
    "    scannedGeometeryDataFrame = pd.DataFrame(scannedGeometery)\n",
    "    #Extract Data from scan csv file:\n",
    "    xAxisArrayTemp = scannedGeometeryDataFrame.iloc[27,1:].to_numpy()\n",
    "    yAxisArrayTemp = scannedGeometeryDataFrame.iloc[28:2275,0].to_numpy()\n",
    "    heightMapTemp = scannedGeometeryDataFrame.iloc[28:,1:].to_numpy()\n",
    "    scanWidth = np.shape(heightMapTemp)[1]\n",
    "    scanLength = np.shape(heightMapTemp)[0]\n",
    "    heightMap = heightMapTemp[int((scanLength*0.5)-1000):int((scanLength*0.5)+1000),int((scanWidth*0.5)-300):int((scanWidth*0.5)+120)]\n",
    "    xAxisArray = xAxisArrayTemp[int((scanWidth*0.5)-300):int((scanWidth*0.5)+120)]\n",
    "    yAxisArray = yAxisArrayTemp[int((scanLength*0.5)-1000):int((scanLength*0.5)+1000)]\n",
    "    heightMap[heightMap == ''] = np.nan\n",
    "    heightMap[heightMap == None] = np.nan\n",
    "    return xAxisArray, yAxisArray, heightMap\n",
    "    \n",
    "# Function to check and delete if the first cell in a row starts with a semicolon\n",
    "def remove_first_semicolon(df):\n",
    "    for index, row in df.iterrows():\n",
    "        #print(row.iloc[0])\n",
    "        #print(row)\n",
    "        if row.iloc[0].startswith('; '):\n",
    "            df.iloc[index, 0] = ''  # Replace with empty string or None if deletion is necessary\n",
    "            # Shift remaining cells to the left\n",
    "            df.iloc[index] = df.iloc[index].shift(-1).fillna('')\n",
    "            print(row.iloc[0])\n",
    "    return df\n",
    "    \n",
    "# def loadFeedbackDataCsv(dataFilePath,filename):\n",
    "#     #Go to Scan Directory\n",
    "#     os.chdir(dataFilePath)\n",
    "#     data = pd.read_csv(filename,skiprows=3,sep = ' ', engine='python')\n",
    "#     data = data.replace('; ','',regex=True)\n",
    "#     #data.columns = data.columns[1:]\n",
    "#     #data = remove_first_semicolon(data)\n",
    "#     return data\n",
    "\n",
    "\n",
    "def loadFeedbackDataCsv(dataFilePath,filename):\n",
    "    #Go to Scan Directory\n",
    "    os.chdir(dataFilePath)    \n",
    "    # Read the file, skip the initial '; ' in the header\n",
    "    with open(filename, 'r') as file:\n",
    "        lines = file.readlines()[3:]\n",
    "        print(np.shape(lines))\n",
    "        # Find the line containing '[File]' and get the index\n",
    "        file_line_index = next((index for index, line in enumerate(lines) if '; [File]' in line), len(lines))\n",
    "        # Slice the list to keep only the lines before ';[File]'\n",
    "        lines = lines[:file_line_index-1]\n",
    "        header = lines[0].lstrip('; ').strip().split()  # Remove the '; ' and split by spaces\n",
    "        data = [line.strip().split() for line in lines[1:]]\n",
    "    \n",
    "    # Create the DataFrame\n",
    "    df = pd.DataFrame(data, columns=header)\n",
    "    return df\n",
    "\n",
    "def extractFeedbackSignals(experimentFeedbackData):\n",
    "    experimentTimeArray = np.array(experimentFeedbackData['SampleTime[0]'], dtype=float)\n",
    "    experimentTimeArray = experimentTimeArray-experimentTimeArray[0] \n",
    "    xAxisPositionCommand = np.array(experimentFeedbackData['PosCmd#00[0]'], dtype=float)/50000\n",
    "    xAxisPositionFeedback = np.array(experimentFeedbackData['PosFbk#00[0]'], dtype=float)/50000\n",
    "    xAxisVelocityCommand = np.array(experimentFeedbackData['VelCmd#00[0]'], dtype=float)\n",
    "    xAxisVelocityFeedback = np.array(experimentFeedbackData['VelFbk#00[0]'], dtype=float)\n",
    "    xAxisAccelerationCommand = np.array(experimentFeedbackData['AccCmd#00[0]'], dtype=float)\n",
    "    xAxisAccelerationFeedback = np.array(experimentFeedbackData['AccFbk#00[0]'], dtype=float)\n",
    "    loadCellVoltageSignal = np.array(experimentFeedbackData['Ain_0#00[0]'], dtype=float)\n",
    "    thermocoupleVoltageSignal = np.array(experimentFeedbackData['Ain_1#00[0]'], dtype=float)\n",
    "    pressureSensorVoltageSignal = np.array(experimentFeedbackData['Ain_2#00[0]'], dtype=float)\n",
    "    yAxisPositionCommand = np.array(experimentFeedbackData['PosCmd#01[0]'], dtype=float)\n",
    "    yAxisPositionFeedback = np.array(experimentFeedbackData['PosFbk#01[0]'], dtype=float)\n",
    "    yAxisVelocityCommand = np.array(experimentFeedbackData['VelCmd#01[0]'], dtype=float)\n",
    "    yAxisVelocityFeedback = np.array(experimentFeedbackData['VelFbk#01[0]'], dtype=float)\n",
    "    yAxisAccelerationCommand = np.array(experimentFeedbackData['AccCmd#01[0]'], dtype=float)\n",
    "    yAxisAccelerationFeedback = np.array(experimentFeedbackData['AccFbk#01[0]'], dtype=float)\n",
    "    extruderPositionCommand = np.array(experimentFeedbackData['PosCmd#04[0]'], dtype=float)\n",
    "    extruderPositionFeedback = np.array(experimentFeedbackData['PosFbk#04[0]'], dtype=float)\n",
    "    extruderVelocityCommand = np.array(experimentFeedbackData['VelCmd#04[0]'], dtype=float)\n",
    "    extruderVelocityFeedback = np.array(experimentFeedbackData['VelFbk#04[0]'], dtype=float)\n",
    "    extruderAccelerationCommand = np.array(experimentFeedbackData['AccCmd#04[0]'], dtype=float)\n",
    "    extruderAccelerationFeedback = np.array(experimentFeedbackData['AccFbk#04[0]'], dtype=float)\n",
    "    extruderMotorCurrentCommand = np.array(experimentFeedbackData['CurCmd#04[0]'], dtype=float)\n",
    "    extruderMotorCurrentFeedback = np.array(experimentFeedbackData['CurFbk#04[0]'], dtype=float)\n",
    "    extruderMotorAverageCurrentFeedback = np.array(experimentFeedbackData['CurFbkAvg#04[0]'], dtype=float)\n",
    "    filamentPositionFeedback = np.array(experimentFeedbackData['PosFbkAux#04[0]'], dtype=float)\n",
    "    filamentPositionFeedback = filamentPositionFeedback - filamentPositionFeedback[0]\n",
    "    if 'PosCmd#03[0]' in experimentFeedbackData.columns:\n",
    "        zAxisPositionCommand = np.array(experimentFeedbackData[r'PosCmd#03[0]'], dtype=float)\n",
    "        zAxisPositionFeedback = np.array(experimentFeedbackData[r'PosFbk#03[0]'], dtype=float)\n",
    "        zAxisVelocityCommand = np.array(experimentFeedbackData[r'VelCmd#03[0]'], dtype=float)\n",
    "        zAxisVelocityFeedback = np.array(experimentFeedbackData[r'VelFbk#03[0]'], dtype=float)\n",
    "        zAxisAccelerationCommand = np.array(experimentFeedbackData[r'AccCmd#03[0]'], dtype=float)\n",
    "        zAxisAccelerationFeedback = np.array(experimentFeedbackData[r'AccFbk#03[0]'], dtype=float)\n",
    "    else:\n",
    "        zAxisPositionCommand = None\n",
    "        zAxisPositionFeedback = None\n",
    "        zAxisVelocityCommand = None\n",
    "        zAxisVelocityFeedback = None\n",
    "        zAxisAccelerationCommand = None\n",
    "        zAxisAccelerationFeedback = None\n",
    "        print(f\"Warning: Z position, velocity, acceleration data were not found and will be ignored\")\n",
    "\n",
    "    return experimentTimeArray,xAxisPositionCommand,xAxisPositionFeedback,xAxisVelocityCommand,xAxisVelocityFeedback,xAxisAccelerationCommand,xAxisAccelerationFeedback,loadCellVoltageSignal,thermocoupleVoltageSignal,pressureSensorVoltageSignal,yAxisPositionCommand,yAxisPositionFeedback,yAxisVelocityCommand,yAxisVelocityFeedback,yAxisAccelerationCommand, yAxisAccelerationFeedback,extruderPositionCommand,extruderPositionFeedback,extruderVelocityCommand,extruderVelocityFeedback,extruderAccelerationCommand,extruderAccelerationFeedback,extruderMotorCurrentCommand,extruderMotorCurrentFeedback,extruderMotorAverageCurrentFeedback,filamentPositionFeedback,zAxisPositionCommand,zAxisPositionFeedback,zAxisVelocityCommand,zAxisVelocityFeedback,zAxisAccelerationCommand,zAxisAccelerationFeedback\n",
    "\n",
    "def fillScan(height_map):\n",
    "    # Ensure the height_map is a numpy array of type float\n",
    "    height_map = np.array(height_map, dtype=float)\n",
    "    \n",
    "    # Create a copy of the height_map to be filled\n",
    "    filled_height_map = np.copy(height_map)\n",
    "    \n",
    "    m, n = height_map.shape\n",
    "    \n",
    "    # Loop through each element of the height map\n",
    "    for i in range(m):\n",
    "        for j in range(n):\n",
    "            # Check if the current element is NaN\n",
    "            if np.isnan(filled_height_map[i, j]):\n",
    "                # Find the surrounding 8 pixels\n",
    "                neighbors = []\n",
    "                \n",
    "                if i > 0:\n",
    "                    neighbors.append(filled_height_map[i-1, j])\n",
    "                    if j > 0:\n",
    "                        neighbors.append(filled_height_map[i-1, j-1])\n",
    "                    if j < n - 1:\n",
    "                        neighbors.append(filled_height_map[i-1, j+1])\n",
    "                \n",
    "                if i < m - 1:\n",
    "                    neighbors.append(filled_height_map[i+1, j])\n",
    "                    if j > 0:\n",
    "                        neighbors.append(filled_height_map[i+1, j-1])\n",
    "                    if j < n - 1:\n",
    "                        neighbors.append(filled_height_map[i+1, j+1])\n",
    "                \n",
    "                if j > 0:\n",
    "                    neighbors.append(filled_height_map[i, j-1])\n",
    "                \n",
    "                if j < n - 1:\n",
    "                    neighbors.append(filled_height_map[i, j+1])\n",
    "                \n",
    "                # Remove NaN values from neighbors before calculating the average\n",
    "                neighbors = [value for value in neighbors if not np.isnan(value)]\n",
    "                \n",
    "                # Calculate the average value of the surrounding pixels\n",
    "                if neighbors:\n",
    "                    avg_value = np.nanmean(neighbors)\n",
    "                else:\n",
    "                    avg_value = np.nan\n",
    "                \n",
    "                # Replace the current element with the average value\n",
    "                filled_height_map[i, j] = avg_value\n",
    "    \n",
    "    return filled_height_map\n",
    "def createMask(height_map, threshold):\n",
    "    \"\"\"\n",
    "    Creates a mask for height values less than the specified threshold.\n",
    "    \n",
    "    Parameters:\n",
    "    height_map (array-like): Input height map.\n",
    "    threshold (float): Threshold value.\n",
    "    \n",
    "    Returns:\n",
    "    np.ndarray: Mask with True where height values are less than the threshold, False otherwise.\n",
    "    \"\"\"\n",
    "    z_mask = np.zeros_like(height_map)\n",
    "    \n",
    "    # Loop through each experiment\n",
    "    # Apply the threshold condition\n",
    "    mask = height_map[:, :] < threshold\n",
    "    \n",
    "    return mask\n",
    "\n",
    "def levelScan(trimmed_scan_z_position, z_mask, trimmed_scan_x_position, filled_trimmed_scan_z_position):\n",
    "    \"\"\"\n",
    "    Levels the scan positions by fitting a polynomial and subtracting it from the z-position.\n",
    "    Parameters:\n",
    "    trimmed_scan_z_position (np.ndarray): Array of trimmed scan z-positions.\n",
    "    z_mask (np.ndarray): Array of z-mask values.\n",
    "    trimmed_scan_x_position (np.ndarray): Array of trimmed scan x-positions.\n",
    "    filled_trimmed_scan_z_position (np.ndarray): Array of filled trimmed scan z-positions.\n",
    "    Returns:\n",
    "    np.ndarray: Array of leveled trimmed scan z-positions.\n",
    "    \"\"\"\n",
    "    # Initialize the leveled_trimmed_scan_z_position array\n",
    "    leveled_trimmed_scan_z_position = np.copy(filled_trimmed_scan_z_position)\n",
    "\n",
    "    # Ensure all inputs are numpy arrays of type float\n",
    "    trimmed_scan_z_position = np.array(trimmed_scan_z_position, dtype=float)\n",
    "    z_mask = np.array(z_mask, dtype=float)\n",
    "    trimmed_scan_x_position = np.array(trimmed_scan_x_position, dtype=float)\n",
    "    filled_trimmed_scan_z_position = np.array(filled_trimmed_scan_z_position, dtype=float)\n",
    "    \n",
    "    # Loop through each line\n",
    "    for line in range(trimmed_scan_z_position.shape[0]):\n",
    "        # Find indices to keep based on non-zero values in z_mask\n",
    "        indices_to_keep = np.nonzero(z_mask[line, :])[0]\n",
    "        \n",
    "        if indices_to_keep.size > 0:  # Ensure there are valid indices to keep\n",
    "            # Fit a polynomial to the selected x and z positions\n",
    "            p_fit = np.polyfit(trimmed_scan_x_position[indices_to_keep],\n",
    "                               filled_trimmed_scan_z_position[line, indices_to_keep], 1)\n",
    "            \n",
    "            # Evaluate the polynomial at all x positions\n",
    "            z_to_subtract_array = np.polyval(p_fit, trimmed_scan_x_position)\n",
    "            \n",
    "            # Subtract the polynomial fit from the z positions to level them\n",
    "            leveled_trimmed_scan_z_position[line, :] = (\n",
    "                filled_trimmed_scan_z_position[line, :] - z_to_subtract_array\n",
    "            )\n",
    "        else:\n",
    "            # If no indices are found, set leveled_trimmed_scan_z_position to NaN or some default value\n",
    "            leveled_trimmed_scan_z_position[line, :] = np.nan\n",
    "    \n",
    "    return leveled_trimmed_scan_z_position\n",
    "\n",
    "def calculateBeadArea(trimmed_scan_z_position, z_mask, trimmed_scan_x_position, leveled_trimmed_scan_z_position):\n",
    "    \"\"\"\n",
    "    Calculates the bead area by integrating the leveled z-positions over the x-positions.\n",
    "\n",
    "    Parameters:\n",
    "    trimmed_scan_z_position (np.ndarray): 3D array of trimmed scan z-positions.\n",
    "    z_mask (np.ndarray): 3D array of z-mask values.\n",
    "    trimmed_scan_x_position (np.ndarray): 3D array of trimmed scan x-positions.\n",
    "    leveled_trimmed_scan_z_position (np.ndarray): 3D array of leveled trimmed scan z-positions.\n",
    "\n",
    "    Returns:\n",
    "    np.ndarray: 3D array of bead areas.\n",
    "    \"\"\"\n",
    "    # Ensure all inputs are numpy arrays of type float\n",
    "    trimmed_scan_z_position = np.array(trimmed_scan_z_position, dtype=float)\n",
    "    z_mask = np.array(z_mask, dtype=bool)\n",
    "    trimmed_scan_x_position = np.array(trimmed_scan_x_position, dtype=float)\n",
    "    leveled_trimmed_scan_z_position = np.array(leveled_trimmed_scan_z_position, dtype=float)\n",
    "    \n",
    "    # Initialize the bead_area array with the same shape as leveled_trimmed_scan_z_position\n",
    "    bead_area = np.zeros(leveled_trimmed_scan_z_position.shape[0])\n",
    "\n",
    "    # Loop through each line\n",
    "    for line in range(trimmed_scan_z_position.shape[0]):\n",
    "        # Find bead indices based on z_mask being 0\n",
    "        bead_indices = np.where(z_mask[line, :] == False)[0]\n",
    "\n",
    "        if bead_indices.size > 0:  # Ensure there are valid bead indices\n",
    "            y = leveled_trimmed_scan_z_position[line, bead_indices]\n",
    "            x = trimmed_scan_x_position[bead_indices]\n",
    "            #print(f\"Line {line}: y = {y}, x = {x}\")\n",
    "\n",
    "            # Remove NaN values from y and corresponding x\n",
    "            valid_indices = ~np.isnan(y)\n",
    "            y = y[valid_indices]\n",
    "            x = x[valid_indices]\n",
    "            #print(f\"Line {line}: filtered y = {y}, filtered x = {x}\")\n",
    "\n",
    "            if y.size > 0 and x.size > 0:  # Ensure there are still valid points to integrate\n",
    "                bead_area[line] = np.trapz(y, x)\n",
    "        if np.any(np.isnan(bead_area[line])):\n",
    "            bead_area[line] = 0\n",
    "    \n",
    "    return bead_area\n",
    "\n",
    "def resampleBeadArea(beadArea,axisScan,axisFeedbackData):\n",
    "    # Convert arrays to numeric types, replacing non-numeric values with NaN\n",
    "    beadCrossSectionArea = np.array(beadArea, dtype=np.float64)\n",
    "    axisScan = np.array(axisScan, dtype=np.float64)\n",
    "    axisFeedbackData = np.array(axisFeedbackData, dtype=np.float64)\n",
    "\n",
    "    \n",
    "    # Remove any NaN values if necessary (optional, based on your specific use case)\n",
    "    beadCrossSectionArea = beadArea[~np.isnan(beadArea)]\n",
    "    #axisScan = yAxisArray[~np.isnan(axisScan)]\n",
    "    axisFeedbackData = axisFeedbackData[~np.isnan(axisFeedbackData)]\n",
    "    # Create an interpolator function\n",
    "    interpolator = interp1d(axisScan, beadArea, kind='linear', bounds_error=False, fill_value=\"extrapolate\")\n",
    "    # Perform the interpolation\n",
    "    interpolatedBeadArea = interpolator(axisFeedbackData)\n",
    "    return interpolatedBeadArea\n",
    "    \n",
    "# Function to update the plot\n",
    "def updatePlot(timeAxis,selectionData,stringName):\n",
    "    fig = go.Figure()\n",
    "    fig.add_trace(go.Scatter(x=timeAxis/1000, y=selectionData, mode='lines', name=stringName, showlegend=True))\n",
    "    fig.update_layout(\n",
    "        title=f'Data for {stringName}',\n",
    "        yaxis_title=stringName,\n",
    "        xaxis_title='Time (s)'\n",
    "    )\n",
    "    clear_output(wait=True)\n",
    "    display(dropdown)  # Redisplay the dropdown\n",
    "    fig.show()\n",
    "\n",
    "# Event handler for the dropdown menu\n",
    "def onDropdownChange(change):\n",
    "    selected_option = change['new']\n",
    "\n",
    "print(\"✅ Success \")"
   ]
  },
  {
   "cell_type": "markdown",
   "id": "287c4801-e662-428b-8aef-a15ce9b1f1dd",
   "metadata": {},
   "source": [
    "## Convert .gprec 3D scans to .csv for better readability (Do not run if files already converted):\n",
    "This section handles the conversion of the 3D profilometer proprietary (.gprec) files to a readable format, such as a (.csv) file, for all the experiments. The function finds all the experiment folders, locates each (.gprec) file, and then calls an executable program (.exe) that takes the information within the (.gprec) file and converts it into a (.csv) file. The executable is a utility tool provided by the manufacturer of the line profilometer (LMI3D). The output (.csv) file contains a 3D height map of the printed line. A height map is a mapping of z height at some x-y coordinate."
   ]
  },
  {
   "cell_type": "code",
   "execution_count": null,
   "id": "e54cfcbb-5bfc-4391-87dd-78cd9b4fac37",
   "metadata": {
    "has_explanation": false,
    "jupyter": {
     "source_hidden": true
    }
   },
   "outputs": [],
   "source": [
    "print(\"🟧 Running\", end='\\r')\n",
    "fileNames,numExperimentFiles = listFiles(mainExperimentsFolder)\n",
    "print(\"✅ Success \")\n",
    "print(fileNames,numExperimentFiles)\n",
    "# try: \n",
    "#     for file in range(numExperimentFiles):\n",
    "#         folderPath = mainExperimentsFolder+'\\\\' + fileNames[file]\n",
    "#         os.chdir(folderPath)\n",
    "#         gprecFilePath = mainExperimentsFolder+ '\\\\' +  fileNames[file]+ '\\\\' + 'EXP_'+str(file)+'.gprec'\n",
    "#         csvFileName = mainExperimentsFolder+ '\\\\' + fileNames[file]+ '\\\\' + fileNames[file]+'_SCAN.csv'\n",
    "#         outputFileName = fileNames[file]+'_SCAN.csv'\n",
    "#         command,res = convertScanToCsv(gprecFilePath,csvFileName,ConverterToolFilePath)\n",
    "# except:\n",
    "#     print(\"Error occured or csv files already exist\")"
   ]
  },
  {
   "cell_type": "markdown",
   "id": "76a1c008-7339-4bb3-b917-fec6881b58a8",
   "metadata": {},
   "source": [
    "## Select Experiment Data to View:"
   ]
  },
  {
   "cell_type": "markdown",
   "id": "2e9bdc1b-7dbc-4b63-99dc-47a94bb708e5",
   "metadata": {},
   "source": [
    "#### Press ▶︎ to Select Experiment and View Data:"
   ]
  },
  {
   "cell_type": "code",
   "execution_count": null,
   "id": "a2cbc831-93a9-4f96-b395-6075485afbf6",
   "metadata": {
    "has_explanation": false,
    "jupyter": {
     "source_hidden": true
    }
   },
   "outputs": [],
   "source": [
    "experimentScanNumberTemp = widgets.IntSlider(\n",
    "                            value=0,\n",
    "                            min=0,\n",
    "                            max=numExperimentFiles,\n",
    "                            step=1,\n",
    "                            description='Test:',\n",
    "                            disabled=False,\n",
    "                            continuous_update=False,\n",
    "                            orientation='horizontal',\n",
    "                            readout=True,\n",
    "                            readout_format='d'\n",
    "                        )\n",
    "display(experimentScanNumberTemp)"
   ]
  },
  {
   "cell_type": "markdown",
   "id": "54b1d16c-7576-476e-ad94-b6cc5934120c",
   "metadata": {},
   "source": [
    "## Load Scan File:\n",
    "Load the (.csv) 3D height map"
   ]
  },
  {
   "cell_type": "markdown",
   "id": "90b2413d-0610-44d2-b091-65e159cdf6f9",
   "metadata": {},
   "source": [
    "#### Press ▶︎ to Load Scan File:"
   ]
  },
  {
   "cell_type": "code",
   "execution_count": 46,
   "id": "6a3fafea-9762-4d18-bbe0-56a7fd4f51ec",
   "metadata": {
    "has_explanation": false,
    "jupyter": {
     "source_hidden": true
    }
   },
   "outputs": [],
   "source": [
    "print(\"🟧 Running\", end='\\r')\n",
    "os.listdir()\n",
    "experimentScanNumber = experimentScanNumberTemp.value\n",
    "fileNames,numExperimentFiles = listFiles(mainExperimentsFolder)\n",
    "scanFileName =  fileNames[experimentScanNumber]+'_SCAN.csv'\n",
    "scanFilePath = mainExperimentsFolder+ '/' + fileNames[experimentScanNumber]\n",
    "print(\"✅ Success \")\n",
    "#Load CSV Scan:\n",
    "xAxisArray, yAxisArray, heightMap = loadScanCsv(scanFilePath,scanFileName)"
   ]
  },
  {
   "cell_type": "markdown",
   "id": "447cfb55-5a41-411a-9a10-b3e884125b7f",
   "metadata": {},
   "source": [
    "## Display 3D Scan:\n",
    "The imported 3D height map is displayed as an image"
   ]
  },
  {
   "cell_type": "markdown",
   "id": "169cc21d-b305-4303-a69f-fadd135e5a07",
   "metadata": {},
   "source": [
    "#### Press ▶︎ to display Loaded Scan as an Image:"
   ]
  },
  {
   "cell_type": "code",
   "execution_count": null,
   "id": "68132689-dd7d-4e92-9a67-7e888efd80ad",
   "metadata": {
    "has_explanation": false,
    "jupyter": {
     "source_hidden": true
    }
   },
   "outputs": [],
   "source": [
    "# Create a figure with a specific size\n",
    "fig, ax = plt.subplots(figsize=(1, 8))  # Width, height in inches\n",
    "\n",
    "cax = plt.imshow(heightMap.astype(float), \n",
    "                    interpolation ='nearest', origin ='lower',cmap='viridis', aspect = 'auto')  # 'viridis' colormap\n",
    "#cbar = plt.colorbar()  # Add a color bar for reference\n",
    "cbar = plt.colorbar(fraction=0.5, pad=0.04) \n",
    "# Set the colorbar label\n",
    "cbar.set_label('Height Value (mm)')\n",
    "\n",
    "# Add x and y axis labels\n",
    "plt.xlabel('Y Axis')\n",
    "plt.ylabel('X Axis')\n",
    "\n",
    "# Hide the x and y ticks\n",
    "plt.xticks([])\n",
    "plt.yticks([])\n",
    "plt.show()"
   ]
  },
  {
   "cell_type": "markdown",
   "id": "b987173a-7064-477c-980a-89bb6b3eba91",
   "metadata": {},
   "source": [
    "## Import Feedback Data:\n",
    "This section imports the (.csv) file provided by the Aerotech system, which contains all the feedback signals from the system. The (.csv) file contains space-separated feedback signals sampled at a frequency of 1 kHz."
   ]
  },
  {
   "cell_type": "markdown",
   "id": "a9ad4688-ce97-4a9c-96c4-b92c2a6d3b81",
   "metadata": {},
   "source": [
    "#### Press ▶︎ to Import Experiment Feedback Data:"
   ]
  },
  {
   "cell_type": "code",
   "execution_count": null,
   "id": "e0b164cd-38af-46d1-bf7b-ea2e1019099c",
   "metadata": {
    "has_explanation": false,
    "jupyter": {
     "source_hidden": true
    }
   },
   "outputs": [],
   "source": [
    "print(\"🟧 Running\", end='\\r')\n",
    "experimentDataNumber = experimentScanNumber\n",
    "fileNames,numExperimentFiles = listFiles(mainExperimentsFolder)\n",
    "dataFileName =  fileNames[experimentDataNumber]+'.csv'\n",
    "dataFilePath = mainExperimentsFolder+ '/' + fileNames[experimentDataNumber]\n",
    "print(\"✅ Success \")\n",
    "experimentFeedbackData = loadFeedbackDataCsv(dataFilePath,dataFileName)"
   ]
  },
  {
   "cell_type": "markdown",
   "id": "63d2747a-535b-401e-9ebd-294ba7535bbb",
   "metadata": {},
   "source": [
    "## Extract Signals from Feedback Data:\n",
    "In this section, Indiviual signals are extracted for further use. To view each of these signals in time domain, select from the dropdown menu which signal you would like to observe:"
   ]
  },
  {
   "cell_type": "markdown",
   "id": "8548cd7a-3374-410a-b31e-48169a737312",
   "metadata": {},
   "source": [
    "#### Press ▶︎ to Parse Experiment Feedback Data:"
   ]
  },
  {
   "cell_type": "code",
   "execution_count": null,
   "id": "e8302271-f170-4214-879e-43020b3b4f61",
   "metadata": {
    "has_explanation": false,
    "jupyter": {
     "source_hidden": true
    }
   },
   "outputs": [],
   "source": [
    "print(\"🟧 Running\", end='\\r')\n",
    "(\n",
    "    experimentTimeArray, xAxisPositionCommand, xAxisPositionFeedback, \n",
    "    xAxisVelocityCommand, xAxisVelocityFeedback, xAxisAccelerationCommand, \n",
    "    xAxisAccelerationFeedback, loadCellVoltageSignal, thermocoupleVoltageSignal, \n",
    "    pressureSensorVoltageSignal, yAxisPositionCommand, yAxisPositionFeedback, \n",
    "    yAxisVelocityCommand, yAxisVelocityFeedback, yAxisAccelerationCommand, \n",
    "    yAxisAccelerationFeedback, extruderPositionCommand, extruderPositionFeedback, \n",
    "    extruderVelocityCommand, extruderVelocityFeedback, extruderAccelerationCommand, \n",
    "    extruderAccelerationFeedback, extruderMotorCurrentCommand, \n",
    "    extruderMotorCurrentFeedback, extruderMotorAverageCurrentFeedback, \n",
    "    filamentPositionFeedback, zAxisPositionCommand, zAxisPositionFeedback, \n",
    "    zAxisVelocityCommand, zAxisVelocityFeedback, zAxisAccelerationCommand, \n",
    "    zAxisAccelerationFeedback\n",
    ") = extractFeedbackSignals(experimentFeedbackData)\n",
    "\n",
    "# Define the options for the dropdown menu\n",
    "options = ['xAxisPositionCommand', 'xAxisPositionFeedback', \n",
    "    'xAxisVelocityCommand', 'xAxisVelocityFeedback', 'xAxisAccelerationCommand', \n",
    "    'xAxisAccelerationFeedback', 'loadCellVoltageSignal', 'thermocoupleVoltageSignal', \n",
    "    'pressureSensorVoltageSignal', 'yAxisPositionCommand', 'yAxisPositionFeedback', \n",
    "    'yAxisVelocityCommand', 'yAxisVelocityFeedback', 'yAxisAccelerationCommand', \n",
    "    'yAxisAccelerationFeedback', 'extruderPositionCommand', 'extruderPositionFeedback', \n",
    "    'extruderVelocityCommand', 'extruderVelocityFeedback', 'extruderAccelerationCommand', \n",
    "    'extruderAccelerationFeedback', 'extruderMotorCurrentCommand', \n",
    "    'extruderMotorCurrentFeedback', 'extruderMotorAverageCurrentFeedback', \n",
    "    'filamentPositionFeedback', 'zAxisPositionCommand', 'zAxisPositionFeedback', \n",
    "    'zAxisVelocityCommand', 'zAxisVelocityFeedback', 'zAxisAccelerationCommand', \n",
    "    'zAxisAccelerationFeedback']\n",
    "\n",
    "# Create the dropdown widget\n",
    "dropdown = widgets.Dropdown(\n",
    "    options=options,\n",
    "    value=options[0],  # Default value\n",
    "    description='Select:',\n",
    "    disabled=False,\n",
    ")\n",
    "\n",
    "# Function to handle the selection change\n",
    "def on_change(change):\n",
    "    selected_value = change['new']\n",
    "\n",
    "\n",
    "# Attach the function to the dropdown widget\n",
    "dropdown.observe(on_change, names='value')\n",
    "print(\"✅ Success \")\n",
    "\n",
    "# Display the dropdown widget\n",
    "display(dropdown)"
   ]
  },
  {
   "cell_type": "markdown",
   "id": "6cd750dc-00be-4a2a-ab7d-bb4baa1d759a",
   "metadata": {},
   "source": [
    "#### Press ▶︎ to Update Plot:"
   ]
  },
  {
   "cell_type": "code",
   "execution_count": null,
   "id": "8749b361-8849-4b9e-8093-90b3e84ab6f7",
   "metadata": {
    "has_explanation": false,
    "jupyter": {
     "source_hidden": true
    }
   },
   "outputs": [],
   "source": [
    "print(\"🟧 Running\", end='\\r')\n",
    "updatePlot(experimentTimeArray,locals()[dropdown.value],dropdown.value)\n",
    "print(\"✅ Success \")"
   ]
  },
  {
   "cell_type": "markdown",
   "id": "c59522f1-c11c-403d-bf35-63f60299c027",
   "metadata": {},
   "source": [
    "## Fill missing pixel data from 3D scan:\n",
    "The 3D height map of the experiment contains missing data points, which is a common occurrence with the type of sensors used in this system. To calculate the bead area, the missing points must be filled. The fillScan function takes a height map represented as a numpy array of floating-point values and ensures it's of the correct type. It creates a copy of the input height map to work with, preserving the original data. Using nested loops, it iterates through each element of the height map. When encountering NaN (Not a Number) values, it identifies the surrounding 8 pixels, calculates their average excluding NaNs, and replaces the NaN with this computed average. Finally, the function returns a filled height map where all NaN values have been replaced with appropriate average values derived from neighboring pixels."
   ]
  },
  {
   "cell_type": "markdown",
   "id": "880e53f7-037e-4eea-90c5-4cad3d3e3a9f",
   "metadata": {},
   "source": [
    "#### Press ▶︎ to Fill Missing Points in 3D scan:"
   ]
  },
  {
   "cell_type": "code",
   "execution_count": 59,
   "id": "b4c4ba27-0cd8-407f-946a-af9c4c93497d",
   "metadata": {
    "has_explanation": false,
    "jupyter": {
     "source_hidden": true
    }
   },
   "outputs": [],
   "source": [
    "print(\"🟧 Running\", end='\\r')\n",
    "filledScan = fillScan(heightMap)\n",
    "print(\"✅ Success \")"
   ]
  },
  {
   "cell_type": "markdown",
   "id": "040bd7ab-a262-4a3f-bcfa-af62bb11bf76",
   "metadata": {},
   "source": [
    "#### Press ▶︎ to Display filled 3D scan:"
   ]
  },
  {
   "cell_type": "code",
   "execution_count": null,
   "id": "9453c7a4-9d66-4c54-bcb9-4699b5dfe477",
   "metadata": {
    "has_explanation": false,
    "jupyter": {
     "source_hidden": true
    }
   },
   "outputs": [],
   "source": [
    "# Create a figure with a specific size\n",
    "fig, ax = plt.subplots(figsize=(1, 8))  # Width, height in inches\n",
    "\n",
    "cax = plt.imshow(filledScan.astype(float), \n",
    "                    interpolation ='nearest', origin ='lower',cmap='viridis', aspect = 'auto')  # 'viridis' colormap\n",
    "#cbar = plt.colorbar()  # Add a color bar for reference\n",
    "cbar = plt.colorbar(fraction=0.5, pad=0.04) \n",
    "# Set the colorbar label\n",
    "cbar.set_label('Height Value (mm)')\n",
    "\n",
    "# Add x and y axis labels\n",
    "plt.xlabel('Y Axis')\n",
    "plt.ylabel('X Axis')\n",
    "\n",
    "# Hide the x and y ticks\n",
    "plt.xticks([])\n",
    "plt.yticks([])\n",
    "plt.show()"
   ]
  },
  {
   "cell_type": "markdown",
   "id": "ccdcf424-4852-4d18-a9ba-2682ed527b89",
   "metadata": {},
   "source": [
    "## Create mask of the area surrounding the bead:\n",
    "As the scanned substrate is not exactly flat, to accurately calculate the bead area, the scan should be leveled so that all of the substrate is at the zero ground level. To achieve this leveling, the first step is to create a mask to remove the actual bead and identify the edges of the bead. The createMask function generates a boolean mask from an input height map, marking True where height values are below a specified threshold and False otherwise. It initializes a zero-filled array of the same shape as the input height map. By applying a simple threshold comparison using numpy operations, it efficiently creates and returns the mask that identifies areas where the height values are less than the specified threshold."
   ]
  },
  {
   "cell_type": "markdown",
   "id": "e45bb9a0-73fe-413a-9e63-3e8f7c7973e6",
   "metadata": {},
   "source": [
    "#### Press ▶︎ to Create Mask :"
   ]
  },
  {
   "cell_type": "code",
   "execution_count": 61,
   "id": "6e1481d8-4ad5-42c4-b138-22f096c16050",
   "metadata": {
    "has_explanation": false,
    "jupyter": {
     "source_hidden": true
    }
   },
   "outputs": [],
   "source": [
    "print(\"🟧 Running\", end='\\r')\n",
    "mask = createMask(filledScan, maskThreshold)\n",
    "print(\"✅ Success \")"
   ]
  },
  {
   "cell_type": "markdown",
   "id": "4a50323c-3095-4094-a168-c1fce3ca9bc9",
   "metadata": {},
   "source": [
    "#### Press ▶︎ to Display Mask :"
   ]
  },
  {
   "cell_type": "code",
   "execution_count": null,
   "id": "fe1c147d-15e9-48ec-80b6-c40efa2c45c0",
   "metadata": {
    "has_explanation": false,
    "jupyter": {
     "source_hidden": true
    }
   },
   "outputs": [],
   "source": [
    "# Create a figure with a specific size\n",
    "fig, ax = plt.subplots(figsize=(1, 8))  # Width, height in inches\n",
    "\n",
    "cax = plt.imshow(mask.astype(float), \n",
    "                    interpolation ='nearest', origin ='lower',cmap='viridis', aspect = 'auto')  # 'viridis' colormap\n",
    "#cbar = plt.colorbar()  # Add a color bar for reference\n",
    "cbar = plt.colorbar(fraction=0.5, pad=0.04) \n",
    "# Set the colorbar label\n",
    "cbar.set_label('Height Value (mm)')\n",
    "\n",
    "# Add x and y axis labels\n",
    "plt.xlabel('Y Axis')\n",
    "plt.ylabel('X Axis')\n",
    "\n",
    "# Hide the x and y ticks\n",
    "plt.xticks([])\n",
    "plt.yticks([])\n",
    "plt.show()"
   ]
  },
  {
   "cell_type": "markdown",
   "id": "d10fac35-ab87-44dc-987b-f49e4462e8f6",
   "metadata": {},
   "source": [
    "## Remove twist from 3D scan substrate for accurate bead area calculation:\n",
    "The levelScan function aims to adjust or level scan positions by fitting a polynomial curve and subtracting it from the z-positions of a height map. It starts by initializing an array to store the leveled z-positions based on the height map data. All input arrays are converted to numpy arrays of type float to ensure consistency. For each line in the height map z-position array, the function identifies valid indices based on non-zero values in the z_mask, which indicates areas of interest. If valid indices are found, it fits a linear polynomial to these positions, evaluates this polynomial across all x positions, and subtracts the resulting curve from the filled height map z-positions to level them. If no valid indices are found, it assigns NaN or a default value to the leveled z-positions for that line. Finally, the function returns the array of leveled z-positions, reflecting adjustments made to align the scan data based on the polynomial fit."
   ]
  },
  {
   "cell_type": "markdown",
   "id": "21e9cb78-7b53-4535-bcfd-2056b228da75",
   "metadata": {},
   "source": [
    "#### Press ▶︎ to Level  3D Scan:"
   ]
  },
  {
   "cell_type": "code",
   "execution_count": 63,
   "id": "2b0ec05b-f873-466c-90a6-ca46c05e31a6",
   "metadata": {
    "has_explanation": false,
    "jupyter": {
     "source_hidden": true
    }
   },
   "outputs": [],
   "source": [
    "print(\"🟧 Running\", end='\\r')\n",
    "leveledScan = levelScan(heightMap, mask, xAxisArray, filledScan)\n",
    "print(\"✅ Success \")"
   ]
  },
  {
   "cell_type": "markdown",
   "id": "d952ca67-3c6c-4a76-843b-5da2c9fe181e",
   "metadata": {},
   "source": [
    "#### Press ▶︎ to Display Leveled Scan :"
   ]
  },
  {
   "cell_type": "code",
   "execution_count": null,
   "id": "1524f8aa-ec8c-4c99-b6db-319d7b5d0414",
   "metadata": {
    "has_explanation": false,
    "jupyter": {
     "source_hidden": true
    }
   },
   "outputs": [],
   "source": [
    "# Create a figure with a specific size\n",
    "fig, ax = plt.subplots(figsize=(1, 8))  # Width, height in inches\n",
    "\n",
    "cax = plt.imshow(leveledScan.astype(float), \n",
    "                    interpolation ='nearest', origin ='lower',cmap='viridis', aspect = 'auto')  # 'viridis' colormap\n",
    "#cbar = plt.colorbar()  # Add a color bar for reference\n",
    "cbar = plt.colorbar(fraction=0.5, pad=0.04) \n",
    "# Set the colorbar label\n",
    "cbar.set_label('Height Value (mm)')\n",
    "\n",
    "# Add x and y axis labels\n",
    "plt.xlabel('Y Axis')\n",
    "plt.ylabel('X Axis')\n",
    "\n",
    "# Hide the x and y ticks\n",
    "plt.xticks([])\n",
    "plt.yticks([])\n",
    "plt.show()"
   ]
  },
  {
   "cell_type": "markdown",
   "id": "f88b3624-a0d9-495e-b241-f6bf1abf0fce",
   "metadata": {},
   "source": [
    "## Calculate Bead Cross Sectional Area:\n",
    "This section calculates the cross sectional area of the printed bead along bead length. The calculateBeadArea function computes the area of beads by integrating the leveled heightmap across the x-positions for each line in a 3D scan. It first ensures all input arrays are numpy arrays of type float and initializes an array to store the bead areas. For each line in the scan, the function identifies bead indices where the z_mask is False and extracts corresponding x and leveled z-positions. It removes any NaN values from these positions and uses numerical integration (trapezoidal rule) to calculate the area under the curve of the leveled z-positions. The function returns an array containing the computed bead areas for each line, with areas set to zero if no valid points were found for integration. The trapezoidal rule is a numerical method used to approximate the definite integral of a function. It works by dividing the area under the curve into a series of trapezoids and summing their areas. For a function $ f(x) $ evaluated at $ n $ points $ x_0, x_1, \\ldots, x_n $ over an interval $[a, b]$, the integral is approximated as:\n",
    "\n",
    "\n",
    "$$\n",
    "\\int_a^b f(x) \\, dx \\approx \\frac{b - a}{2n} \\left[ f(x_0) + 2 \\sum_{i=1}^{n-1} f(x_i) + f(x_n) \\right]\n",
    "$$\n",
    "\n",
    "\n",
    "This formula can be simplified for equally spaced points where $ \\Delta x = \\frac{b - a}{n} $:\n",
    "\n",
    "\n",
    "$$\n",
    "\\int_a^b f(x) \\, dx \\approx \\frac{\\Delta x}{2} \\left[ f(x_0) + 2 \\sum_{i=1}^{n-1} f(x_i) + f(x_n) \\right]\n",
    "$$\n",
    "\n",
    "\n",
    "By using this rule, the area under the curve is estimated with greater accuracy as the number of points $ n $ increases.\n",
    "\n"
   ]
  },
  {
   "cell_type": "markdown",
   "id": "8fa07c06-81c4-4742-89f1-0df3685b4bd3",
   "metadata": {},
   "source": [
    "#### Press ▶︎ to Calculate Bead Cross-Sectional Area:"
   ]
  },
  {
   "cell_type": "code",
   "execution_count": 65,
   "id": "4d42906a-2d19-40ad-bf73-51af73cf808a",
   "metadata": {
    "has_explanation": false,
    "jupyter": {
     "source_hidden": true
    }
   },
   "outputs": [],
   "source": [
    "print(\"🟧 Running\", end='\\r')\n",
    "beadCrossSectionArea = calculateBeadArea(heightMap, mask, xAxisArray, leveledScan)\n",
    "print(\"✅ Success \")"
   ]
  },
  {
   "cell_type": "markdown",
   "id": "17695fa0-3b62-4c26-b105-7ccfdbb28457",
   "metadata": {},
   "source": [
    "#### Press ▶︎ to Display Bead Area Across the Bead Length:"
   ]
  },
  {
   "cell_type": "code",
   "execution_count": null,
   "id": "11508f69-2856-4ad9-8a04-4d2cb9102aab",
   "metadata": {
    "has_explanation": false,
    "jupyter": {
     "source_hidden": true
    }
   },
   "outputs": [],
   "source": [
    "fig = go.Figure()\n",
    "fig.add_trace(go.Scatter(x=yAxisArray, y=beadCrossSectionArea, mode='lines', showlegend=True))\n",
    "# Update layout\n",
    "fig.update_layout(xaxis_title='X Axis (mm)',\n",
    "                  yaxis_title='Bead Area (mm^2)')\n",
    "\n",
    "# Show the plot\n",
    "fig.show()\n"
   ]
  },
  {
   "cell_type": "markdown",
   "id": "7ded5815-f068-4bf3-a8ce-62cc99c38d61",
   "metadata": {},
   "source": [
    "## Resample Bead Area To Fit Feedback Data:\n",
    "The sample spacing varies between the Aerotech feedback and the 3D scan, necessitating resampling of the x spacing to be equal to that of the Aerotech system. The resampleBeadArea function resamples the bead cross-sectional area data based on new axis feedback data points. It starts by converting the input arrays to numeric types, handling non-numeric values by replacing them with NaNs. It then removes any NaN values from the beadArea and axisFeedbackData arrays. An interpolator function is created using the axisScan and beadArea data, with linear interpolation and extrapolation enabled for out-of-bounds values. Finally, the function performs interpolation using the new axisFeedbackData points and returns the interpolated bead area values."
   ]
  },
  {
   "cell_type": "markdown",
   "id": "9f50b58d-0ff7-4a61-8ceb-8c0fc5ed7784",
   "metadata": {},
   "source": [
    "#### Press ▶︎ to Resample Bead Area Array:"
   ]
  },
  {
   "cell_type": "code",
   "execution_count": 67,
   "id": "90f0c0bb-6ad0-4c85-af8f-94f56ebeef9c",
   "metadata": {
    "has_explanation": false,
    "jupyter": {
     "source_hidden": true
    }
   },
   "outputs": [],
   "source": [
    "print(\"🟧 Running\", end='\\r')\n",
    "yAxisArray = [float(x) for x in yAxisArray]\n",
    "yAxisArray = np.array(yAxisArray)+(-1*yAxisArray[0])\n",
    "resampledBeadArea = resampleBeadArea(beadCrossSectionArea,yAxisArray,(xAxisPositionCommand[512:]-xAxisPositionCommand[0])/50000)\n",
    "print(\"✅ Success \")"
   ]
  },
  {
   "cell_type": "markdown",
   "id": "721614f1-0a2c-46d1-a358-118aa10b2714",
   "metadata": {},
   "source": [
    "## Plot Various Feedback Signals Vs. Time:\n",
    "#### Press ▶︎ to Display Plot:"
   ]
  },
  {
   "cell_type": "code",
   "execution_count": null,
   "id": "b0637a07-b728-4097-94fc-c438aa242b8e",
   "metadata": {
    "has_explanation": false,
    "jupyter": {
     "source_hidden": true
    }
   },
   "outputs": [],
   "source": [
    "startOffset = 512\n",
    "# Create a figure with a solid line\n",
    "fig = go.Figure()\n",
    "\n",
    "# Add a solid line trace\n",
    "fig.add_trace(go.Scatter(x=experimentTimeArray[startOffset:]/1000, y=resampledBeadArea, mode='lines', name='Bead Area (mm^2)', showlegend=True))\n",
    "\n",
    "fig.add_trace(go.Scatter(x=experimentTimeArray[startOffset:]/1000, y=(loadCellVoltageSignal[startOffset:]+(-1*loadCellVoltageSignal[startOffset])), mode='lines', name='Load Cell Signal (V)', showlegend=True))\n",
    "\n",
    "fig.add_trace(go.Scatter(x=experimentTimeArray[startOffset:]/1000, y=thermocoupleVoltageSignal[startOffset:], mode='lines', name='Temperature Signal (V)', showlegend=True))\n",
    "\n",
    "fig.add_trace(go.Scatter(x=experimentTimeArray[startOffset:]/1000, y=pressureSensorVoltageSignal[startOffset:], mode='lines', name='Pressure Signal (V)', showlegend=True))\n",
    "\n",
    "# Update layout\n",
    "fig.update_layout(title='Feedback Signals Vs. Time',\n",
    "                  xaxis_title='Time (s)',\n",
    "                  yaxis_title='Value')\n",
    "\n",
    "# Show the plot\n",
    "fig.show()"
   ]
  },
  {
   "cell_type": "markdown",
   "id": "199b6135",
   "metadata": {},
   "source": [
    "## [🏠 Home](../../../welcomePage.ipynb)"
   ]
  }
 ],
 "metadata": {
  "kernelspec": {
   "display_name": "Python 3 (ipykernel)",
   "language": "python",
   "name": "python3"
  },
  "language_info": {
   "codemirror_mode": {
    "name": "ipython",
    "version": 3
   },
   "file_extension": ".py",
   "mimetype": "text/x-python",
   "name": "python",
   "nbconvert_exporter": "python",
   "pygments_lexer": "ipython3",
   "version": "3.12.5"
  }
 },
 "nbformat": 4,
 "nbformat_minor": 5
}
