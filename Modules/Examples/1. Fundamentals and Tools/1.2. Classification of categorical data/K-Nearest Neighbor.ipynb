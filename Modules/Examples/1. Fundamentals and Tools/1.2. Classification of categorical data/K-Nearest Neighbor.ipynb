{
 "cells": [
  {
   "cell_type": "markdown",
   "id": "dd12daa9",
   "metadata": {
    "tags": [
     "auto-generated-toc"
    ]
   },
   "source": [
    "## Table of Contents\n",
    "  - [k-Nearest Neighbors (k-NN)](#k-Nearest-Neighbors-%28k-NN%29)\n",
    "- [Implementation](#Implementation)\n",
    "  - [Visualization](#Visualization)\n",
    "- [🏠 Home](../../../../welcomePage.ipynb)"
   ]
  },
  {
   "cell_type": "markdown",
   "id": "d0af846a-f977-488b-83b4-25d1b5262731",
   "metadata": {},
   "source": [
    "## k-Nearest Neighbors (k-NN)\n",
    "\n",
    "**k-Nearest Neighbors (k-NN)** is a simple, easy-to-implement supervised machine learning algorithm that can be used for both classification and regression tasks. The k-NN algorithm assumes that similar things exist in close proximity. In other words, similar things are near to each other.\n",
    "\n",
    "### Concept\n",
    "\n",
    "k-NN works by finding the distances between a query and all the examples in the data, selecting the specified number `k` nearest neighbors (top k examples with the smallest distances), and performing a majority vote (for classification) or averaging (for regression) on these neighbors.\n",
    "\n",
    "### Steps Involved\n",
    "\n",
    "1. **Calculate Distance:** Compute the distance between the point in question and every other point in the dataset.\n",
    "2. **Find Nearest Neighbors:** Identify the `k` closest points based on these calculated distances.\n",
    "3. **Vote for Labels:** For classification, the label of the new point is determined by a majority vote of the `k` nearest neighbors. For regression, it is the average of the values of the `k` nearest neighbors.\n",
    "\n",
    "### Distance Metrics\n",
    "\n",
    "The choice of distance metric depends on the type of data:\n",
    "- **Euclidean Distance:** Most common for continuous data.\n",
    "- **Manhattan Distance:** Used for ordinal or vector data.\n",
    "- **Hamming Distance:** Used for categorical data.\n",
    "\n",
    "### Hyperparameters\n",
    "\n",
    "- **Number of Neighbors (k):** Determines how many neighbors will influence the classification or regression. Choosing the right `k` is crucial for performance.\n",
    "- **Weight Function:** Typically, neighbors are weighted equally. However, sometimes it might be beneficial to weight neighbors differently based on distance.\n",
    "\n",
    "### Choosing the Right `k`\n",
    "\n",
    "- **Too small `k`:** Makes the model sensitive to noise in the dataset.\n",
    "- **Too large `k`:** Makes the boundaries between classes less distinct.\n",
    "\n",
    "### Applications\n",
    "\n",
    "k-NN is widely used in:\n",
    "- Medical diagnosis,\n",
    "- Pattern recognition,\n",
    "- Recommendation systems (e.g., suggesting similar products).\n"
   ]
  },
  {
   "cell_type": "markdown",
   "id": "b7d38315-7921-498c-874e-611c89f92225",
   "metadata": {},
   "source": [
    "<img src=\"knn_illustration.png\" alt=\"Zhang, Yifei & Chen, Zongsen & Zhang, Shaobo & Wang, Junzhuan. (2023). Color Sensing and Image Reconstruction Using Intelligent Machine Learning Algorithm with PINIP Radial Junction Imager. Symmetry. 15. 2127. 10.3390/sym15122127. \" title=\"Title\">\n"
   ]
  },
  {
   "cell_type": "markdown",
   "id": "fcdcf492",
   "metadata": {},
   "source": [
    "# Implementation"
   ]
  },
  {
   "cell_type": "markdown",
   "id": "b816a8f6",
   "metadata": {},
   "source": [
    "### Import Libraries"
   ]
  },
  {
   "cell_type": "markdown",
   "id": "3adf6785-49d3-4e8d-bb39-d22b61500483",
   "metadata": {},
   "source": [
    "**Press ▶ to import the libraries.**"
   ]
  },
  {
   "cell_type": "code",
   "execution_count": null,
   "id": "2e18b946",
   "metadata": {
    "has_explanation": false,
    "jupyter": {
     "source_hidden": true
    }
   },
   "outputs": [],
   "source": [
    "import pandas as pd\n",
    "import numpy as np\n",
    "import matplotlib.pyplot as plt\n",
    "%matplotlib inline\n",
    "import seaborn as sns\n",
    "\n",
    "import warnings\n",
    "warnings.filterwarnings(\"ignore\")\n",
    "\n",
    "print(\"✅ Libraries are imported.\")"
   ]
  },
  {
   "cell_type": "markdown",
   "id": "2a554417-d6a3-44c0-9b03-1da8de7f0947",
   "metadata": {},
   "source": [
    "### Import data"
   ]
  },
  {
   "cell_type": "markdown",
   "id": "dd7e25ff-ba08-47fd-8b6b-d8c6250500fe",
   "metadata": {},
   "source": [
    "**Press ▶ to load the data.**"
   ]
  },
  {
   "cell_type": "code",
   "execution_count": null,
   "id": "f18721c0",
   "metadata": {
    "has_explanation": false,
    "jupyter": {
     "source_hidden": true
    }
   },
   "outputs": [],
   "source": [
    "import os\n",
    "import pandas as pd\n",
    "import ipywidgets as widgets\n",
    "from IPython.display import display, clear_output\n",
    "\n",
    "# List all .csv and Excel files in the current directory\n",
    "supported_extensions = ['.csv', '.xlsx', '.xls']\n",
    "files = [f for f in os.listdir('./data/') if any(f.endswith(ext) for ext in supported_extensions)]\n",
    "\n",
    "# Create a dropdown widget\n",
    "dropdown = widgets.Dropdown(\n",
    "    options=files,\n",
    "    description='Files:',\n",
    "    disabled=False,\n",
    ")\n",
    "\n",
    "# Create a button widget\n",
    "button = widgets.Button(\n",
    "    description='Select',\n",
    "    disabled=False,\n",
    "    button_style='',\n",
    "    tooltip='Click to select file',\n",
    "    icon='check'\n",
    ")\n",
    "\n",
    "# Output widget to display messages\n",
    "output = widgets.Output()\n",
    "\n",
    "# Function to handle button click\n",
    "def on_button_click(b):\n",
    "    with output:\n",
    "        clear_output()\n",
    "        selected_file = dropdown.value\n",
    "        global data\n",
    "        if selected_file.endswith('.csv'):\n",
    "            data = pd.read_csv('./data/'+selected_file)\n",
    "        elif selected_file.endswith(('.xlsx', '.xls')):\n",
    "            data = pd.read_excel('./data/'+selected_file)\n",
    "        print(f\"File '{selected_file}' uploaded as data.\")\n",
    "\n",
    "# Attach the function to the button widget\n",
    "button.on_click(on_button_click)\n",
    "\n",
    "# Display the dropdown, button widgets, and initial message within the output widget\n",
    "with output:\n",
    "    print(\"Please select a file from the dropdown and click 'Select'.\")\n",
    "display(output)\n",
    "display(dropdown)\n",
    "display(button)"
   ]
  },
  {
   "cell_type": "markdown",
   "id": "ff5f190b-3cd1-4a1c-9930-db2b96680b4a",
   "metadata": {},
   "source": [
    "**Press ▶ to display the data.**"
   ]
  },
  {
   "cell_type": "code",
   "execution_count": null,
   "id": "473d46da",
   "metadata": {
    "has_explanation": false,
    "jupyter": {
     "source_hidden": true
    }
   },
   "outputs": [],
   "source": [
    "display(data.head())\n",
    "print(\"Loading pair plot, please wait...\")\n",
    "sns.pairplot(data=data,hue=data.columns[-1],diag_kind=\"hist\")"
   ]
  },
  {
   "cell_type": "markdown",
   "id": "4b7a6b6b-3c4a-4b07-bbb8-79623d906610",
   "metadata": {},
   "source": [
    "### Select a Target Column"
   ]
  },
  {
   "cell_type": "markdown",
   "id": "93af3f34-42c3-4169-8a51-f44dc31eb731",
   "metadata": {},
   "source": [
    "**Press ▶ to specify the target column.**"
   ]
  },
  {
   "cell_type": "code",
   "execution_count": null,
   "id": "47f97b3a-4c84-499f-961a-f2281ccfe9af",
   "metadata": {
    "has_explanation": false,
    "jupyter": {
     "source_hidden": true
    }
   },
   "outputs": [],
   "source": [
    "import ipywidgets as widgets\n",
    "import pandas as pd\n",
    "\n",
    "# Create a Dropdown widget for column selection\n",
    "dropdown = widgets.Dropdown(\n",
    "    options=data.columns.tolist(),\n",
    "    value=data.columns[0],\n",
    "    description='Select Target Column:',\n",
    "    disabled=False,\n",
    "    layout=widgets.Layout(width='500px'),\n",
    "    style={'description_width': '200px'}\n",
    ")\n",
    "\n",
    "# Create a Button widget\n",
    "button = widgets.Button(\n",
    "    description='Select',\n",
    "    button_style='',  # 'success', 'info', 'warning', 'danger' or ''\n",
    "    tooltip='Click to select the target column as the last column',\n",
    "    icon='check'  # FontAwesome icon names (without 'fa-')\n",
    ")\n",
    "\n",
    "# Create an Output widget for displaying messages\n",
    "output = widgets.Output()\n",
    "\n",
    "# Function to handle button click that rearranges the DataFrame\n",
    "def on_button_clicked(b):\n",
    "    with output:\n",
    "        output.clear_output()\n",
    "        global data\n",
    "        # Get the selected column name\n",
    "        selected_column = dropdown.value\n",
    "        # Reorder the DataFrame columns\n",
    "        new_columns = [col for col in data.columns if col != selected_column] + [selected_column]\n",
    "        data = data[new_columns]\n",
    "        print(f\"Column '{selected_column}' has been moved to the last position.\")\n",
    "\n",
    "# Link the button click event to the function\n",
    "button.on_click(on_button_clicked)\n",
    "\n",
    "# Display the widgets and output\n",
    "display(widgets.VBox([dropdown, button, output]))\n"
   ]
  },
  {
   "cell_type": "markdown",
   "id": "c0c2b968-5ee0-4cba-adac-4b4c6a7d2606",
   "metadata": {},
   "source": [
    "### Data Preprocessing"
   ]
  },
  {
   "cell_type": "markdown",
   "id": "22695549-2974-4c2c-b83a-ada622fee3d3",
   "metadata": {},
   "source": [
    "**Press ▶ to handle nulls, process categorical values, and normalize data.**"
   ]
  },
  {
   "cell_type": "code",
   "execution_count": null,
   "id": "fe55b950-ab29-4f1d-9376-55c6105dd68d",
   "metadata": {
    "has_explanation": false,
    "jupyter": {
     "source_hidden": true
    }
   },
   "outputs": [],
   "source": [
    "import pandas as pd\n",
    "import numpy as np\n",
    "import ipywidgets as widgets\n",
    "from IPython.display import display\n",
    "from sklearn.preprocessing import LabelEncoder, MinMaxScaler\n",
    "\n",
    "df = data.copy()\n",
    "\n",
    "# Widgets for selecting operations and methods\n",
    "fill_method_dropdown = widgets.Dropdown(\n",
    "    options=[('None', None), ('Zero', 'zero'), ('Mean', 'mean'), ('Median', 'median')],\n",
    "    value=None,\n",
    "    description='Fill Method:',\n",
    ")\n",
    "\n",
    "remove_nulls_checkbox = widgets.Checkbox(value=False, description='Remove Nulls')\n",
    "encode_categorical_checkbox = widgets.Checkbox(value=False, description='Encode Categorical')\n",
    "normalize_data_checkbox = widgets.Checkbox(value=False, description='Normalize Data')\n",
    "\n",
    "# Button to apply selected operations\n",
    "apply_button = widgets.Button(description='Apply All', button_style='info')\n",
    "\n",
    "# Button to display data\n",
    "show_data_button = widgets.Button(description='Show Data')\n",
    "\n",
    "# Output area\n",
    "output = widgets.Output()\n",
    "\n",
    "def apply_operations():\n",
    "    global data\n",
    "    with output:\n",
    "        output.clear_output()\n",
    "        # Fill missing values based on selected method\n",
    "        if fill_method_dropdown.value:\n",
    "            if fill_method_dropdown.value == 'zero':\n",
    "                data = data.fillna(0)\n",
    "            elif fill_method_dropdown.value in ['mean', 'median']:\n",
    "                # Apply fill method only to numeric columns\n",
    "                numeric_cols = data.select_dtypes(include=np.number).columns\n",
    "                for column in numeric_cols:\n",
    "                    if data[column].sum() != 0:\n",
    "                        if fill_method_dropdown.value == 'mean':\n",
    "                            mean_value = data[column].mean()\n",
    "                            data[column] = data[column].fillna(mean_value)\n",
    "                        elif fill_method_dropdown.value == 'median':\n",
    "                            median_value = data[column].median()\n",
    "                            data[column] = data[column].fillna(median_value)\n",
    "            print(f\"Missing values filled with {fill_method_dropdown.value}.\")\n",
    "\n",
    "        if remove_nulls_checkbox.value:\n",
    "            data = data.dropna()  # Remove remaining null values\n",
    "            print(\"Remaining null values removed.\")\n",
    "        if encode_categorical_checkbox.value:\n",
    "            # Apply label encoding to categorical columns\n",
    "            label_encoder = LabelEncoder()\n",
    "            categorical_cols = data.select_dtypes(include=['object', 'category']).columns\n",
    "            for col in categorical_cols:\n",
    "                data[col] = label_encoder.fit_transform(data[col].astype(str))\n",
    "            print(\"Categorical data encoded using label encoding.\")\n",
    "        if normalize_data_checkbox.value:\n",
    "            # Normalize numeric columns using MinMaxScaler\n",
    "            scaler = MinMaxScaler()\n",
    "            numeric_cols = data.select_dtypes(include=np.number).columns\n",
    "            data[numeric_cols] = scaler.fit_transform(data[numeric_cols])\n",
    "            print(\"Data normalized.\")\n",
    "\n",
    "def show_data(b):\n",
    "    with output:\n",
    "        output.clear_output()\n",
    "        display(data.head())  # Show the head of the DataFrame\n",
    "\n",
    "apply_button.on_click(lambda b: apply_operations())\n",
    "show_data_button.on_click(show_data)\n",
    "\n",
    "# Layout the widgets\n",
    "widgets.VBox([\n",
    "    widgets.Label('Select Fill Method and Operations:'),\n",
    "    fill_method_dropdown,\n",
    "    remove_nulls_checkbox,\n",
    "    encode_categorical_checkbox,\n",
    "    normalize_data_checkbox,\n",
    "    apply_button,\n",
    "    show_data_button,\n",
    "    output\n",
    "])\n"
   ]
  },
  {
   "cell_type": "markdown",
   "id": "975aee16",
   "metadata": {},
   "source": [
    "### Split data into training and testing"
   ]
  },
  {
   "cell_type": "markdown",
   "id": "6546d889-0e14-4499-b845-727e4b82d1f2",
   "metadata": {},
   "source": [
    "**Press ▶ to split the data into training and testing sets.**"
   ]
  },
  {
   "cell_type": "code",
   "execution_count": null,
   "id": "3ba776f9",
   "metadata": {
    "has_explanation": false,
    "jupyter": {
     "source_hidden": true
    }
   },
   "outputs": [],
   "source": [
    "import pandas as pd\n",
    "from sklearn.model_selection import train_test_split\n",
    "import ipywidgets as widgets\n",
    "from IPython.display import display, clear_output\n",
    "\n",
    "X = data.iloc[:, :-1]  # all rows, all columns except the last one\n",
    "y = data.iloc[:, -1]   # all rows, just the last column\n",
    "# Function to split data and display the shape of the splits\n",
    "\n",
    "X_train, X_test, y_train, y_test = None, None, None, None\n",
    "\n",
    "def split_data(button):\n",
    "    global X_train, X_test, y_train, y_test  # Declare the use of global variables\n",
    "    test_size = test_size_slider.value\n",
    "    X_train, X_test, y_train, y_test = train_test_split(X, y, test_size=test_size, random_state=42)\n",
    "\n",
    "    # Display the output\n",
    "    with out:\n",
    "        clear_output(wait=True)\n",
    "        print(f\"Training set: {X_train.shape[0]} samples\")\n",
    "        print(f\"Test set: {X_test.shape[0]} samples\")\n",
    "\n",
    "# Create output widget\n",
    "out = widgets.Output()\n",
    "\n",
    "\n",
    "# Create slider for test size\n",
    "test_size_slider = widgets.FloatSlider(\n",
    "    value=0.25,  # Default split 75%-25%\n",
    "    min=0.1,\n",
    "    max=0.9,\n",
    "    step=0.05,\n",
    "    description='Test Size:',\n",
    "    readout_format='.2f',  # Display format\n",
    ")\n",
    "\n",
    "# Create an Apply button\n",
    "apply_button = widgets.Button(description=\"Apply Changes\")\n",
    "\n",
    "# Set up button click event to trigger the data split\n",
    "apply_button.on_click(split_data)\n",
    "\n",
    "# Organize widgets in a vertical box\n",
    "widgets_box = widgets.VBox([test_size_slider, apply_button, out])\n",
    "\n",
    "# Display the widgets\n",
    "display(widgets_box)"
   ]
  },
  {
   "cell_type": "markdown",
   "id": "6c50f8eb",
   "metadata": {},
   "source": [
    "### kNN"
   ]
  },
  {
   "cell_type": "markdown",
   "id": "1c48e240-3e3d-4251-9618-9faed83d02a9",
   "metadata": {},
   "source": [
    "### Key Parameters in k-Nearest Neighbors (kNN)\n",
    "\n",
    "The k-Nearest Neighbors (kNN) algorithm is a simple, easy-to-implement supervised machine learning algorithm that can be used to solve both classification and regression problems. However, the choice of parameters and distance measures can significantly affect the performance of the model. Here are key parameters:\n",
    "\n",
    "#### 1. Number of Neighbors (`n_neighbors`)\n",
    "\n",
    "The `n_neighbors` parameter specifies the number of neighbors to use for kneighbors queries. The choice of `n_neighbors` significantly influences the performance of the model. If the number is too small, the model might be too complex and sensitive to noise in the dataset; this leads to overfitting. If it is too large, the neighborhood may include too many points from other classes, leading to underfitting. Therefore, finding a good balance for `n_neighbors` is crucial for the model's performance.\n",
    "\n",
    "#### 2. Power Parameter (`p`)\n",
    "\n",
    "This parameter is used by Minkowski metric, a generalization of the Euclidean and Manhattan distances, denoted by the parameter `p`. When `p = 1`, it is equivalent to using manhattan_distance (l1), and euclidean_distance (l2) for `p = 2`. The choice of `p` affects the way distances are calculated between points. It's important to choose a `p` that matches the geometry of the problem, as different values can lead to different performance of the kNN classifier.\n",
    "\n",
    "#### 3. Metric (`metric`)\n",
    "\n",
    "The `metric` parameter determines the distance metric to use for the tree. The default metric is `minkowski`, and with `p=2` it is equivalent to the standard Euclidean metric. Other commonly used metrics include:\n",
    "- `euclidean`: Usual distance between the two vectors (p=2 case for Minkowski).\n",
    "- `manhattan`: Distance between vectors calculated as the sum of their absolute differences.\n",
    "- `chebyshev`: Distance measured as the maximum difference between values of the two vectors.\n",
    "\n",
    "Choosing the right distance metric is essential because it will define how similarity is calculated between instances. Therefore, this choice can affect the accuracy of the classifier.\n",
    "\n",
    "Each parameter and distance metric plays a crucial role in defining how neighbors are selected and, consequently, how the input data is classified or used in predictions. Proper tuning of these parameters is vital for achieving optimal performance from a kNN model.\n"
   ]
  },
  {
   "cell_type": "markdown",
   "id": "a4d9f6cc-a8de-4e2b-91df-de9c51c55df4",
   "metadata": {},
   "source": [
    "**Press ▶ to train the model.**"
   ]
  },
  {
   "cell_type": "code",
   "execution_count": null,
   "id": "f5fce7b0",
   "metadata": {
    "has_explanation": false,
    "jupyter": {
     "source_hidden": true
    }
   },
   "outputs": [],
   "source": [
    "from sklearn.preprocessing import StandardScaler\n",
    "from sklearn.neighbors import KNeighborsClassifier\n",
    "import ipywidgets as widgets\n",
    "from IPython.display import display\n",
    "\n",
    "# Assuming X_train and y_train, X_test, y_test are already defined\n",
    "\n",
    "\n",
    "# Initialize global variable for KNN classifier\n",
    "knn = None\n",
    "y_pred = None\n",
    "\n",
    "# Function to train KNN and print accuracy\n",
    "def train_knn(button):\n",
    "    global n_neighbors, p, metric, knn, y_pred\n",
    "    knn = KNeighborsClassifier(n_neighbors=n_neighbors, p=p, metric=metric)\n",
    "    knn.fit(X_train, y_train)\n",
    "    train_accuracy = knn.score(X_train, y_train)\n",
    "    test_accuracy = knn.score(X_test, y_test)*100\n",
    "    y_pred = knn.predict(X_test)\n",
    "    # Display the output\n",
    "    with out:\n",
    "        clear_output(wait=True)\n",
    "        print(f'The accuracy of the KNN classifier is {test_accuracy:.1f}% on test data')\n",
    "# Create output widget\n",
    "out = widgets.Output()\n",
    "\n",
    "# Function to update KNN parameters\n",
    "def update_params(change):\n",
    "    global n_neighbors, p, metric\n",
    "    n_neighbors = n_neighbors_slider.value\n",
    "    p = p_slider.value\n",
    "    metric = metric_dropdown.value\n",
    "\n",
    "# Create sliders for KNN parameters\n",
    "n_neighbors_slider = widgets.IntSlider(\n",
    "    value=5,\n",
    "    min=1,\n",
    "    max=15,\n",
    "    step=1,\n",
    "    description='n_neighbors:',\n",
    "    layout=widgets.Layout(width='500px'),\n",
    "    style={'description_width': '200px'}\n",
    ")\n",
    "\n",
    "p_slider = widgets.IntSlider(\n",
    "    value=2,\n",
    "    min=1,\n",
    "    max=5,\n",
    "    step=1,\n",
    "    description='p:',\n",
    "    layout=widgets.Layout(width='500px'),\n",
    "    style={'description_width': '200px'}\n",
    ")\n",
    "\n",
    "# Create dropdown for metric selection\n",
    "metric_dropdown = widgets.Dropdown(\n",
    "    options=['minkowski', 'euclidean', 'manhattan', 'chebyshev'],\n",
    "    value='minkowski',\n",
    "    description='Metric:',\n",
    "    layout=widgets.Layout(width='500px'),\n",
    "    style={'description_width': '200px'}\n",
    ")\n",
    "\n",
    "# Create a button to train the model\n",
    "train_button = widgets.Button(description=\"Train\")\n",
    "\n",
    "# Link parameter widgets to the update_params function\n",
    "n_neighbors_slider.observe(update_params, 'value')\n",
    "p_slider.observe(update_params, 'value')\n",
    "metric_dropdown.observe(update_params, 'value')\n",
    "\n",
    "# Set up button click event to trigger the data split\n",
    "train_button.on_click(train_knn)\n",
    "\n",
    "# Organize widgets in a vertical box\n",
    "widgets_box = widgets.VBox([n_neighbors_slider, p_slider, metric_dropdown, train_button, out])\n",
    "\n",
    "# Display the widgets\n",
    "display(widgets_box)\n"
   ]
  },
  {
   "cell_type": "markdown",
   "id": "e089f7d4-07be-411d-89ae-14ff1165cc7f",
   "metadata": {},
   "source": [
    "**Press ▶ to display the confusion matrix and the classification report.**"
   ]
  },
  {
   "cell_type": "code",
   "execution_count": null,
   "id": "2839fae2",
   "metadata": {
    "has_explanation": false,
    "jupyter": {
     "source_hidden": true
    }
   },
   "outputs": [],
   "source": [
    "from sklearn.metrics import classification_report,confusion_matrix,accuracy_score\n",
    "print(\"Confusion Matrix: \")\n",
    "print(confusion_matrix(y_test,y_pred))\n",
    "\n",
    "print(\"Classification Report: \")\n",
    "print(classification_report(y_test,y_pred))"
   ]
  },
  {
   "cell_type": "markdown",
   "id": "73fa6df5-f7f7-4240-be66-643ea2a69269",
   "metadata": {},
   "source": [
    "## Visualization"
   ]
  },
  {
   "cell_type": "markdown",
   "id": "33981e35-a2e9-47f9-9a5a-6918010a15c4",
   "metadata": {},
   "source": [
    "In classification tasks, the <span style=\"color:red\">red</span> and <span style=\"color:blue\">blue</span> areas typically represent different classes or categories. The <span style=\"color:red\">red</span> area signifies regions where the classifier predicts one class, while the <span style=\"color:blue\">blue</span> area represents regions where it predicts another class, based on the features of the data points in those regions.\n"
   ]
  },
  {
   "cell_type": "markdown",
   "id": "7e3d1eff-9778-4134-acd4-6aa544248e6f",
   "metadata": {},
   "source": [
    "**Press ▶ to visualize the decision boundary.**"
   ]
  },
  {
   "cell_type": "code",
   "execution_count": null,
   "id": "9079b0f2-f2a3-4897-933f-d5c4a242409e",
   "metadata": {
    "has_explanation": false,
    "jupyter": {
     "source_hidden": true
    }
   },
   "outputs": [],
   "source": [
    "import numpy as np\n",
    "import matplotlib.pyplot as plt\n",
    "from matplotlib.colors import ListedColormap\n",
    "from sklearn.neighbors import KNeighborsClassifier\n",
    "from sklearn.preprocessing import StandardScaler, LabelEncoder\n",
    "from sklearn.model_selection import train_test_split\n",
    "import ipywidgets as widgets\n",
    "from IPython.display import display\n",
    "import pandas as pd\n",
    "\n",
    "def plot_decision_regions(X, y, classifier, label_encoder, feature1, feature2, resolution=0.02):\n",
    "    X = X[[feature1, feature2]]  # Take the selected features for visualization\n",
    "\n",
    "    # setup marker generator and color map\n",
    "    markers = ('s', 'x', 'o', '^', 'v')\n",
    "    colors = ['b', 'r', 'lightgreen', 'gray', 'cyan']\n",
    "    cmap = ListedColormap(colors[:len(np.unique(y))])\n",
    "\n",
    "    # plot the decision surface\n",
    "    x1_min, x1_max = X.iloc[:, 0].min() - 1, X.iloc[:, 0].max() + 1\n",
    "    x2_min, x2_max = X.iloc[:, 1].min() - 1, X.iloc[:, 1].max() + 1\n",
    "    xx1, xx2 = np.meshgrid(np.arange(x1_min, x1_max, resolution),\n",
    "                           np.arange(x2_min, x2_max, resolution))\n",
    "    Z = classifier.predict(np.array([xx1.ravel(), xx2.ravel()]).T)\n",
    "    Z = Z.reshape(xx1.shape)\n",
    "    plt.contourf(xx1, xx2, Z, alpha=0.4, cmap=cmap)\n",
    "    plt.xlim(xx1.min(), xx1.max())\n",
    "    plt.ylim(xx2.min(), xx2.max())\n",
    "    \n",
    "    for idx, cl in enumerate(np.unique(y)):\n",
    "        plt.scatter(x=X.loc[y == cl, feature1], y=X.loc[y == cl, feature2],\n",
    "                    alpha=0.8, c=cmap(idx),\n",
    "                    marker=markers[idx], label=label_encoder.inverse_transform([cl])[0])\n",
    "\n",
    "    plt.xlabel(feature1)\n",
    "    plt.ylabel(feature2)\n",
    "    plt.title('KNN Classification with Decision Boundaries')\n",
    "    plt.legend(loc='upper left')\n",
    "\n",
    "# Encoding the labels\n",
    "label_encoder = LabelEncoder()\n",
    "y_encoded = label_encoder.fit_transform(y)\n",
    "\n",
    "# Splitting the data\n",
    "X_train, X_test, y_train, y_test = train_test_split(X, y_encoded, test_size=0.3, random_state=42)\n",
    "\n",
    "# Dropdowns for selecting features\n",
    "feature_selector1 = widgets.Dropdown(\n",
    "    options=X.columns,\n",
    "    description='X Axis:',\n",
    "    disabled=False,\n",
    ")\n",
    "\n",
    "feature_selector2 = widgets.Dropdown(\n",
    "    options=X.columns,\n",
    "    description='Y Axis:',\n",
    "    disabled=False,\n",
    ")\n",
    "\n",
    "button = widgets.Button(description=\"Plot\")\n",
    "\n",
    "output = widgets.Output()\n",
    "\n",
    "def on_button_click(b):\n",
    "    with output:\n",
    "        output.clear_output()\n",
    "        feature1 = feature_selector1.value\n",
    "        feature2 = feature_selector2.value\n",
    "        \n",
    "        if feature1 and feature2:\n",
    "            knn_model = KNeighborsClassifier()\n",
    "            knn_model.fit(X_train[[feature1, feature2]], y_train)\n",
    "            plt.figure(figsize=(10, 5))\n",
    "            plot_decision_regions(X_test, y_test, knn_model, label_encoder, feature1, feature2)\n",
    "            plt.show()\n",
    "        else:\n",
    "            print(\"Please select both features\")\n",
    "\n",
    "button.on_click(on_button_click)\n",
    "\n",
    "display(feature_selector1, feature_selector2, button, output)\n"
   ]
  },
  {
   "cell_type": "markdown",
   "id": "c3aeed11-4480-485c-91cd-d1d94412ebba",
   "metadata": {
    "editable": true,
    "slideshow": {
     "slide_type": ""
    },
    "tags": [
     "home-nav"
    ]
   },
   "source": [
    "### <center>[🏠 Home](../../../../welcomePage.ipynb)</center>"
   ]
  }
 ],
 "metadata": {
  "kernelspec": {
   "display_name": "Python 3 (ipykernel)",
   "language": "python",
   "name": "python3"
  },
  "language_info": {
   "codemirror_mode": {
    "name": "ipython",
    "version": 3
   },
   "file_extension": ".py",
   "mimetype": "text/x-python",
   "name": "python",
   "nbconvert_exporter": "python",
   "pygments_lexer": "ipython3",
   "version": "3.12.5"
  }
 },
 "nbformat": 4,
 "nbformat_minor": 5
}
