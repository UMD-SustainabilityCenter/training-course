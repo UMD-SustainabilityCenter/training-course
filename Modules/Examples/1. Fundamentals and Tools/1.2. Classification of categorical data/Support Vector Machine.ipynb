{
 "cells": [
  {
   "cell_type": "markdown",
   "id": "b9633895",
   "metadata": {},
   "source": [
    "# Model"
   ]
  },
  {
   "cell_type": "markdown",
   "id": "201fff22",
   "metadata": {},
   "source": [
    "## Support Vector Machine (SVM)\n",
    "\n",
    "**Support Vector Machine (SVM)** is a powerful and versatile supervised machine learning algorithm used for classification and regression tasks. SVMs are particularly well-suited for classification of complex but small- or medium-sized datasets.\n",
    "\n",
    "## Concept\n",
    "\n",
    "The main idea behind SVM is to find a hyperplane in an N-dimensional space (N — the number of features) that distinctly classifies the data points. To separate the two classes of data points, there are many possible hyperplanes that could be chosen. The goal is to find a plane that has the maximum margin, i.e., the maximum distance between data points of both classes.\n",
    "\n",
    "## Hyperplane and Margin\n",
    "\n",
    "- **Hyperplane:** This is the decision boundary that separates different classes. In 2D, this hyperplane is a line, but in higher dimensions, it becomes a plane or hyper-plane.\n",
    "- **Margin:** This is the gap between the two lines on the closest data points of different classes. SVM seeks the hyperplane with the largest margin.\n",
    "\n",
    "## Hyperparameters\n",
    "\n",
    "Key hyperparameters in SVM include:\n",
    "- **Kernel:** The function used to map a lower dimensional data into a higher dimensional space. Common kernels include linear, polynomial, radial basis function (RBF), and sigmoid.\n",
    "- **Regularization (C):** The regularization parameter (often denoted by C) tells the SVM optimization how much you want to avoid misclassifying each training example. For large values of C, the optimization will choose a smaller-margin hyperplane if that hyperplane does a better job of getting all the training points classified correctly. Conversely, a very small value of C will cause the optimizer to look for a larger-margin separating hyperplane, even if that hyperplane misclassifies more points.\n",
    "- **Gamma (γ):** For non-linear kernels, this parameter defines how far the influence of a single training example reaches, with low values meaning ‘far’ and high values meaning ‘close’. The gamma parameters can be seen as the inverse of the radius of influence of samples selected by the model as support vectors.\n",
    "\n",
    "## Applications\n",
    "\n",
    "SVMs are used in a variety of applications such as:\n",
    "- Face detection,\n",
    "- Handwriting recognition,\n",
    "- Image classification,\n",
    "- Bioinformatics (e.g., for protein classification andth of the petals and sepals.\n",
    "\n"
   ]
  },
  {
   "cell_type": "markdown",
   "id": "9da26543-ccf5-4acc-8ff8-55b7fd912fe1",
   "metadata": {},
   "source": [
    "<img src=\"svm_illustration.png\" alt=\"SVM Illustration\" title=\"Title\">\n"
   ]
  },
  {
   "cell_type": "markdown",
   "id": "fcdcf492",
   "metadata": {},
   "source": [
    "# Implementation"
   ]
  },
  {
   "cell_type": "markdown",
   "id": "b816a8f6",
   "metadata": {},
   "source": [
    "### Import Libraries"
   ]
  },
  {
   "cell_type": "markdown",
   "id": "820c0e3e-fe4d-4eca-aa3d-ce8e499afd74",
   "metadata": {},
   "source": [
    "**Press ▶ to import the libraries.**"
   ]
  },
  {
   "cell_type": "code",
   "execution_count": null,
   "id": "2e18b946",
   "metadata": {
    "jupyter": {
     "source_hidden": true
    }
   },
   "outputs": [],
   "source": [
    "import pandas as pd\n",
    "import numpy as np\n",
    "import matplotlib.pyplot as plt\n",
    "%matplotlib inline\n",
    "import seaborn as sns\n",
    "\n",
    "import warnings\n",
    "warnings.filterwarnings(\"ignore\")\n",
    "\n",
    "print(\"Libraries are imported.\")"
   ]
  },
  {
   "cell_type": "markdown",
   "id": "2a554417-d6a3-44c0-9b03-1da8de7f0947",
   "metadata": {},
   "source": [
    "### Import data"
   ]
  },
  {
   "cell_type": "markdown",
   "id": "a7f05d59-4ef7-4a75-b621-d5cde504e514",
   "metadata": {},
   "source": [
    "**Press ▶ to load the data.**"
   ]
  },
  {
   "cell_type": "code",
   "execution_count": null,
   "id": "856493dc-ffcf-4e80-bbe7-392667a6d182",
   "metadata": {
    "jupyter": {
     "source_hidden": true
    }
   },
   "outputs": [],
   "source": [
    "import os\n",
    "import pandas as pd\n",
    "import ipywidgets as widgets\n",
    "from IPython.display import display, clear_output\n",
    "\n",
    "# List all .csv and Excel files in the current directory\n",
    "supported_extensions = ['.csv', '.xlsx', '.xls']\n",
    "files = [f for f in os.listdir('./data/') if any(f.endswith(ext) for ext in supported_extensions)]\n",
    "\n",
    "# Create a dropdown widget\n",
    "dropdown = widgets.Dropdown(\n",
    "    options=files,\n",
    "    description='Files:',\n",
    "    disabled=False,\n",
    ")\n",
    "\n",
    "# Create a button widget\n",
    "button = widgets.Button(\n",
    "    description='Select',\n",
    "    disabled=False,\n",
    "    button_style='',\n",
    "    tooltip='Click to select file',\n",
    "    icon='check'\n",
    ")\n",
    "\n",
    "# Output widget to display messages\n",
    "output = widgets.Output()\n",
    "\n",
    "# Function to handle button click\n",
    "def on_button_click(b):\n",
    "    with output:\n",
    "        clear_output()\n",
    "        selected_file = dropdown.value\n",
    "        global data\n",
    "        if selected_file.endswith('.csv'):\n",
    "            data = pd.read_csv('./data/'+selected_file)\n",
    "        elif selected_file.endswith(('.xlsx', '.xls')):\n",
    "            data = pd.read_excel('./data/'+selected_file)\n",
    "        print(f\"File '{selected_file}' uploaded as data.\")\n",
    "\n",
    "# Attach the function to the button widget\n",
    "button.on_click(on_button_click)\n",
    "\n",
    "# Display the dropdown, button widgets, and initial message within the output widget\n",
    "with output:\n",
    "    print(\"Please select a file from the dropdown and click 'Select'.\")\n",
    "display(output)\n",
    "display(dropdown)\n",
    "display(button)"
   ]
  },
  {
   "cell_type": "markdown",
   "id": "2b6ceb9f-5ae3-4c2f-a42c-f328401a4a91",
   "metadata": {},
   "source": [
    "**Press ▶ to display the data.**"
   ]
  },
  {
   "cell_type": "code",
   "execution_count": null,
   "id": "473d46da",
   "metadata": {
    "jupyter": {
     "source_hidden": true
    }
   },
   "outputs": [],
   "source": [
    "display(data.head())\n",
    "print (\"Loading pair plot, please wait...\")\n",
    "sns.pairplot(data=data,hue=data.columns[-1],diag_kind=\"hist\")"
   ]
  },
  {
   "cell_type": "markdown",
   "id": "cfcbfbed-273b-4f81-b518-0c22eec7d87e",
   "metadata": {},
   "source": [
    "### Select Target Column"
   ]
  },
  {
   "cell_type": "markdown",
   "id": "a1e7ba98-33ad-479e-84db-ad89e9af8974",
   "metadata": {},
   "source": [
    "**Press ▶ to specify the target column.**"
   ]
  },
  {
   "cell_type": "code",
   "execution_count": null,
   "id": "33609b5a-997b-410e-9fbc-f9af1a4ecd12",
   "metadata": {
    "jupyter": {
     "source_hidden": true
    }
   },
   "outputs": [],
   "source": [
    "import ipywidgets as widgets\n",
    "import pandas as pd\n",
    "\n",
    "# Create a Dropdown widget for column selection\n",
    "dropdown = widgets.Dropdown(\n",
    "    options=data.columns.tolist(),\n",
    "    value=data.columns[0],\n",
    "    description='Select Column:',\n",
    "    disabled=False,\n",
    "    layout=widgets.Layout(width='500px'),\n",
    "    style={'description_width': '200px'}\n",
    ")\n",
    "\n",
    "# Create a Button widget\n",
    "button = widgets.Button(\n",
    "    description='Select',\n",
    "    button_style='',  # 'success', 'info', 'warning', 'danger' or ''\n",
    "    tooltip='Click to select the target column as the last column',\n",
    "    icon='check'  # FontAwesome icon names (without 'fa-')\n",
    ")\n",
    "\n",
    "# Create an Output widget for displaying messages\n",
    "output = widgets.Output()\n",
    "\n",
    "# Function to handle button click that rearranges the DataFrame\n",
    "def on_button_clicked(b):\n",
    "    with output:\n",
    "        output.clear_output()\n",
    "        global data\n",
    "        # Get the selected column name\n",
    "        selected_column = dropdown.value\n",
    "        # Reorder the DataFrame columns\n",
    "        new_columns = [col for col in data.columns if col != selected_column] + [selected_column]\n",
    "        data = data[new_columns]\n",
    "        print(f\"Column '{selected_column}' has been moved to the last position.\")\n",
    "\n",
    "# Link the button click event to the function\n",
    "button.on_click(on_button_clicked)\n",
    "\n",
    "# Display the widgets and output\n",
    "display(widgets.VBox([dropdown, button, output]))\n"
   ]
  },
  {
   "cell_type": "markdown",
   "id": "7ec773ab-9f12-41b5-af07-2959affd35b2",
   "metadata": {},
   "source": [
    "### Data Preprocessing"
   ]
  },
  {
   "cell_type": "markdown",
   "id": "dcfe1626-40e4-4a6c-b216-050feed92722",
   "metadata": {},
   "source": [
    "**Press ▶ to handle nulls, process categorical values, and normalize data.**"
   ]
  },
  {
   "cell_type": "code",
   "execution_count": null,
   "id": "d3fe3101-9700-4d62-a9cd-82ace4a949ab",
   "metadata": {
    "jupyter": {
     "source_hidden": true
    }
   },
   "outputs": [],
   "source": [
    "import pandas as pd\n",
    "import numpy as np\n",
    "import ipywidgets as widgets\n",
    "from IPython.display import display\n",
    "from sklearn.preprocessing import LabelEncoder, MinMaxScaler\n",
    "\n",
    "df = data.copy()\n",
    "\n",
    "# Widgets for selecting operations and methods\n",
    "fill_method_dropdown = widgets.Dropdown(\n",
    "    options=[('None', None), ('Zero', 'zero'), ('Mean', 'mean'), ('Median', 'median')],\n",
    "    value=None,\n",
    "    description='Fill Method:',\n",
    ")\n",
    "\n",
    "remove_nulls_checkbox = widgets.Checkbox(value=False, description='Remove Nulls')\n",
    "encode_categorical_checkbox = widgets.Checkbox(value=False, description='Encode Categorical')\n",
    "normalize_data_checkbox = widgets.Checkbox(value=False, description='Normalize Data')\n",
    "\n",
    "# Button to apply selected operations\n",
    "apply_button = widgets.Button(description='Apply All', button_style='info')\n",
    "\n",
    "# Button to display data\n",
    "show_data_button = widgets.Button(description='Show Data')\n",
    "\n",
    "# Output area\n",
    "output = widgets.Output()\n",
    "\n",
    "def apply_operations():\n",
    "    global data\n",
    "    with output:\n",
    "        output.clear_output()\n",
    "        # Fill missing values based on selected method\n",
    "        if fill_method_dropdown.value:\n",
    "            if fill_method_dropdown.value == 'zero':\n",
    "                data = data.fillna(0)\n",
    "            elif fill_method_dropdown.value in ['mean', 'median']:\n",
    "                # Apply fill method only to numeric columns\n",
    "                numeric_cols = data.select_dtypes(include=np.number).columns\n",
    "                for column in numeric_cols:\n",
    "                    if data[column].sum() != 0:\n",
    "                        if fill_method_dropdown.value == 'mean':\n",
    "                            mean_value = data[column].mean()\n",
    "                            data[column] = data[column].fillna(mean_value)\n",
    "                        elif fill_method_dropdown.value == 'median':\n",
    "                            median_value = data[column].median()\n",
    "                            data[column] = data[column].fillna(median_value)\n",
    "            print(f\"Missing values filled with {fill_method_dropdown.value}.\")\n",
    "\n",
    "        if remove_nulls_checkbox.value:\n",
    "            data = data.dropna()  # Remove remaining null values\n",
    "            print(\"Remaining null values removed.\")\n",
    "        if encode_categorical_checkbox.value:\n",
    "            # Apply label encoding to categorical columns\n",
    "            label_encoder = LabelEncoder()\n",
    "            categorical_cols = data.select_dtypes(include=['object', 'category']).columns\n",
    "            for col in categorical_cols:\n",
    "                data[col] = label_encoder.fit_transform(data[col].astype(str))\n",
    "            print(\"Categorical data encoded using label encoding.\")\n",
    "        if normalize_data_checkbox.value:\n",
    "            # Normalize numeric columns using MinMaxScaler\n",
    "            scaler = MinMaxScaler()\n",
    "            numeric_cols = data.select_dtypes(include=np.number).columns\n",
    "            data[numeric_cols] = scaler.fit_transform(data[numeric_cols])\n",
    "            print(\"Data normalized.\")\n",
    "\n",
    "def show_data(b):\n",
    "    with output:\n",
    "        output.clear_output()\n",
    "        display(data.head())  # Show the head of the DataFrame\n",
    "\n",
    "apply_button.on_click(lambda b: apply_operations())\n",
    "show_data_button.on_click(show_data)\n",
    "\n",
    "# Layout the widgets\n",
    "widgets.VBox([\n",
    "    widgets.Label('Select Fill Method and Operations:'),\n",
    "    fill_method_dropdown,\n",
    "    remove_nulls_checkbox,\n",
    "    encode_categorical_checkbox,\n",
    "    normalize_data_checkbox,\n",
    "    apply_button,\n",
    "    show_data_button,\n",
    "    output\n",
    "])\n"
   ]
  },
  {
   "cell_type": "markdown",
   "id": "975aee16",
   "metadata": {},
   "source": [
    "### Split data into training and testing"
   ]
  },
  {
   "cell_type": "markdown",
   "id": "439d5421-b18e-45eb-8d94-5c11b0822219",
   "metadata": {},
   "source": [
    "**Press ▶ to split the data into training and testing sets.**"
   ]
  },
  {
   "cell_type": "code",
   "execution_count": null,
   "id": "3ba776f9",
   "metadata": {
    "jupyter": {
     "source_hidden": true
    }
   },
   "outputs": [],
   "source": [
    "import pandas as pd\n",
    "from sklearn.model_selection import train_test_split\n",
    "import ipywidgets as widgets\n",
    "from IPython.display import display, clear_output\n",
    "\n",
    "X = data.iloc[:, :-1]  # all rows, all columns except the last one\n",
    "y = data.iloc[:, -1]   # all rows, just the last column\n",
    "# Function to split data and display the shape of the splits\n",
    "\n",
    "X_train, X_test, y_train, y_test = None, None, None, None\n",
    "\n",
    "def split_data(button):\n",
    "    global X_train, X_test, y_train, y_test  # Declare the use of global variables\n",
    "    test_size = test_size_slider.value\n",
    "    X_train, X_test, y_train, y_test = train_test_split(X, y, test_size=test_size, random_state=42)\n",
    "\n",
    "    # Display the output\n",
    "    with out:\n",
    "        clear_output(wait=True)\n",
    "        print(f\"Training set: {X_train.shape[0]} samples\")\n",
    "        print(f\"Test set: {X_test.shape[0]} samples\")\n",
    "\n",
    "# Create output widget\n",
    "out = widgets.Output()\n",
    "\n",
    "\n",
    "# Create slider for test size\n",
    "test_size_slider = widgets.FloatSlider(\n",
    "    value=0.25,  # Default split 75%-25%\n",
    "    min=0.1,\n",
    "    max=0.9,\n",
    "    step=0.05,\n",
    "    description='Test Size:',\n",
    "    readout_format='.2f',  # Display format\n",
    ")\n",
    "\n",
    "# Create an Apply button\n",
    "apply_button = widgets.Button(description=\"Apply Changes\")\n",
    "\n",
    "# Set up button click event to trigger the data split\n",
    "apply_button.on_click(split_data)\n",
    "\n",
    "# Organize widgets in a vertical box\n",
    "widgets_box = widgets.VBox([test_size_slider, apply_button, out])\n",
    "\n",
    "# Display the widgets\n",
    "display(widgets_box)"
   ]
  },
  {
   "cell_type": "markdown",
   "id": "6b09c7f2",
   "metadata": {},
   "source": [
    "### SVM"
   ]
  },
  {
   "cell_type": "markdown",
   "id": "6841a8a6-d6b8-49dd-b924-9f02e8214940",
   "metadata": {},
   "source": [
    "### Key Parameters in SVM\n",
    "\n",
    "Support Vector Machines (SVM) are a powerful set of supervised learning methods used for classification, regression, and outliers detection. The effectiveness of SVM largely depends on the selection of hyperparameters. Understanding these parameters is crucial for tuning SVMs to achieve the best performance.\n",
    "\n",
    "#### 1. Gamma (`gamma`)\n",
    "\n",
    "The `gamma` parameter defines how far the influence of a single training example reaches, with low values meaning 'far' and high values meaning 'close'. The `gamma` parameters can be seen as the inverse of the radius of influence of samples selected by the model as support vectors. If `gamma` is too large, the radius of the area of influence of the support vectors only includes the support vector itself and no amount of regularization with `C` will be able to prevent overfitting. When `gamma` is very small, the model is too constrained and cannot capture the complexity or \"shape\" of the data. The medium `gamma` values can generalize well which makes it very critical to tune.\n",
    "\n",
    "#### 2. Penalty (`C`)\n",
    "\n",
    "The `C` parameter trades off correct classification of training examples against maximization of the decision function's margin. For larger values of `C`, a smaller margin will be accepted if the decision function classifies all training points correctly. A lower `C` will encourage a larger margin, therefore a simpler decision function, at the cost of training accuracy. In other words, `C` behaves as a regularization parameter in the SVM. \n",
    "\n",
    "#### 3. Random State (`random_state`)\n",
    "\n",
    "The `random_state` parameter is used as a seed to the pseudo random number generator during the shuffling of the data for probability estimates. This is not applicable to all types of SVM, but when it is, it ensures the reproducibility of your results. Keeping a constant `random_state` ensures that your results are consistent between runs.\n",
    "\n",
    "#### 4. Kernel (`kernel`)\n",
    "\n",
    "The kernel type to be used in the algorithm specifies how to transform the input data into a higher-dimensional space. A linear kernel is good when the data is linearly separable (i.e., it can be separated using a single line). Non-linear kernels (like `rbf`, `poly`, and `sigmoid`) allow the algorithm to create more complex boundaries, depending on the nature of the data. Choosing the right kernel and kernel parameters (like `gamma`) is crucial as it can allow the model to fit the dataset better without overfitting.\n",
    "\n",
    "Each of these parameters plays a vital role in the performance of an SVM model, and careful tuning of them is crucial to obtaining a model that generalizes well on unseen data.\n"
   ]
  },
  {
   "cell_type": "markdown",
   "id": "24d70b44-af54-4ab2-9815-7361e1b6f6aa",
   "metadata": {},
   "source": [
    "**Press ▶ to train the model.**"
   ]
  },
  {
   "cell_type": "code",
   "execution_count": null,
   "id": "39a6a825-5f83-4d82-9e0e-ff9e5eaa6c06",
   "metadata": {
    "jupyter": {
     "source_hidden": true
    }
   },
   "outputs": [],
   "source": [
    "from sklearn.preprocessing import StandardScaler\n",
    "from sklearn.svm import SVC\n",
    "import ipywidgets as widgets\n",
    "from IPython.display import display\n",
    "\n",
    "# Assuming X_train and y_train, X_test, y_test are already defined\n",
    "\n",
    "# Standardize the training and test data (assuming X_train and X_test are defined in the global scope)\n",
    "sc = StandardScaler()\n",
    "X_train_std = sc.fit_transform(X_train)\n",
    "X_test_std = sc.transform(X_test)\n",
    "\n",
    "# Initialize global variable for SVC parameters\n",
    "gamma, C, random_state, kernel = 0.1, 1.0, 0, 'rbf'\n",
    "svm = None\n",
    "y_pred = None\n",
    "\n",
    "# Function to train SVC and print accuracy\n",
    "def train_svm(button):\n",
    "    global gamma, C, random_state, kernel, svm, y_pred\n",
    "    svm = SVC(kernel=kernel, random_state=random_state, gamma=gamma, C=C)\n",
    "    svm.fit(X_train_std, y_train)\n",
    "    accuracy = svm.score(X_test_std, y_test) * 100\n",
    "    y_pred = svm.predict(X_test_std)\n",
    "    # Display the output\n",
    "    with out:\n",
    "        clear_output(wait=True)\n",
    "        print(f'The accuracy of the SVM classifier on test data is {accuracy:.1f}%')\n",
    "\n",
    "# Create output widget\n",
    "out = widgets.Output()\n",
    "\n",
    "# Function to update SVC parameters\n",
    "def update_params(change):\n",
    "    global gamma, C, random_state, kernel\n",
    "    gamma = gamma_slider.value\n",
    "    C = C_slider.value\n",
    "    random_state = random_state_text.value\n",
    "    kernel = kernel_dropdown.value\n",
    "\n",
    "# Create sliders for SVC parameters\n",
    "gamma_slider = widgets.FloatLogSlider(\n",
    "    value=0.1,\n",
    "    base=10,\n",
    "    min=-4, # min exponent of base\n",
    "    max=1, # max exponent of base\n",
    "    step=0.1, # exponent step\n",
    "    description='Gamma:',\n",
    "    layout=widgets.Layout(width='500px'),\n",
    "    style={'description_width': '200px'}\n",
    ")\n",
    "\n",
    "C_slider = widgets.FloatLogSlider(\n",
    "    value=1.0,\n",
    "    base=10,\n",
    "    min=-4, # min exponent of base\n",
    "    max=2, # max exponent of base\n",
    "    step=0.1, # exponent step\n",
    "    description='C:',\n",
    "    layout=widgets.Layout(width='500px'),\n",
    "    style={'description_width': '200px'}\n",
    ")\n",
    "\n",
    "# Create integer text box for random state\n",
    "random_state_text = widgets.IntText(\n",
    "    value=0,\n",
    "    description='Random State:',\n",
    "    layout=widgets.Layout(width='500px'),\n",
    "    style={'description_width': '200px'}\n",
    ")\n",
    "\n",
    "# Create dropdown for kernel selection\n",
    "kernel_dropdown = widgets.Dropdown(\n",
    "    options=['linear', 'poly', 'rbf', 'sigmoid', 'precomputed'],\n",
    "    value='rbf',\n",
    "    description='Kernel:',\n",
    "    layout=widgets.Layout(width='500px'),\n",
    "    style={'description_width': '200px'}\n",
    ")\n",
    "\n",
    "# Create a button to train the model\n",
    "train_button = widgets.Button(description=\"Train\")\n",
    "\n",
    "# Link parameter widgets to the update_params function\n",
    "gamma_slider.observe(update_params, 'value')\n",
    "C_slider.observe(update_params, 'value')\n",
    "random_state_text.observe(update_params, 'value')\n",
    "kernel_dropdown.observe(update_params, 'value')\n",
    "\n",
    "# Set up button click event to trigger the data split\n",
    "train_button.on_click(train_svm)\n",
    "\n",
    "# Organize widgets in a vertical box\n",
    "widgets_box = widgets.VBox([gamma_slider, C_slider, random_state_text, kernel_dropdown, train_button, out])\n",
    "\n",
    "# Display the widgets\n",
    "display(widgets_box)\n"
   ]
  },
  {
   "cell_type": "markdown",
   "id": "7473823a-9db4-4a53-8021-b60c73b0505f",
   "metadata": {},
   "source": [
    "**Press ▶ to display the confusion matrix and the classification report.**"
   ]
  },
  {
   "cell_type": "code",
   "execution_count": null,
   "id": "dc164c53",
   "metadata": {
    "jupyter": {
     "source_hidden": true
    }
   },
   "outputs": [],
   "source": [
    "from sklearn.metrics import classification_report,confusion_matrix,accuracy_score\n",
    "print(\"Confusion Matrix: \")\n",
    "print(confusion_matrix(y_test,y_pred))\n",
    "\n",
    "print(\"Classification Report: \")\n",
    "print(classification_report(y_test,y_pred))"
   ]
  },
  {
   "cell_type": "markdown",
   "id": "6f77a188-fcad-4621-920c-e60247220a86",
   "metadata": {},
   "source": [
    "### Visualization"
   ]
  },
  {
   "cell_type": "markdown",
   "id": "399cce45-3e86-49fd-a4b9-e7c27826ca60",
   "metadata": {},
   "source": [
    "In classification tasks, the <span style=\"color:red\">red</span> and <span style=\"color:blue\">blue</span> areas typically represent different classes or categories. The <span style=\"color:red\">red</span> area signifies regions where the classifier predicts one class, while the <span style=\"color:blue\">blue</span> area represents regions where it predicts another class, based on the features of the data points in those regions.\n"
   ]
  },
  {
   "cell_type": "markdown",
   "id": "0b1b4b95-b34f-433b-887c-10e97dadc767",
   "metadata": {},
   "source": [
    "**Press ▶ to visualize the decision boundary.**"
   ]
  },
  {
   "cell_type": "code",
   "execution_count": null,
   "id": "1e7a6aee-f494-4629-8f67-1ae7f2b4fe07",
   "metadata": {
    "jupyter": {
     "source_hidden": true
    }
   },
   "outputs": [],
   "source": [
    "import numpy as np\n",
    "import matplotlib.pyplot as plt\n",
    "from matplotlib.colors import ListedColormap\n",
    "from sklearn.svm import SVC\n",
    "from sklearn.preprocessing import StandardScaler, LabelEncoder\n",
    "from sklearn.model_selection import train_test_split\n",
    "import ipywidgets as widgets\n",
    "from IPython.display import display\n",
    "import pandas as pd\n",
    "\n",
    "def plot_decision_regions(X, y, classifier, label_encoder, feature1, feature2, resolution=0.02):\n",
    "    X = X[[feature1, feature2]]  # Take the selected features for visualization\n",
    "\n",
    "    # setup marker generator and color map\n",
    "    markers = ('s', 'x', 'o', '^', 'v')\n",
    "    colors = ['blue', 'red', 'lightgreen', 'gray', 'cyan']\n",
    "    cmap = ListedColormap(colors[:len(np.unique(y))])\n",
    "\n",
    "    # plot the decision surface\n",
    "    x1_min, x1_max = X.iloc[:, 0].min() - 1, X.iloc[:, 0].max() + 1\n",
    "    x2_min, x2_max = X.iloc[:, 1].min() - 1, X.iloc[:, 1].max() + 1\n",
    "    xx1, xx2 = np.meshgrid(np.arange(x1_min, x1_max, resolution),\n",
    "                           np.arange(x2_min, x2_max, resolution))\n",
    "    Z = classifier.predict(np.array([xx1.ravel(), xx2.ravel()]).T)\n",
    "    Z = Z.reshape(xx1.shape)\n",
    "    plt.contourf(xx1, xx2, Z, alpha=0.4, cmap=cmap)\n",
    "    plt.xlim(xx1.min(), xx1.max())\n",
    "    plt.ylim(xx2.min(), xx2.max())\n",
    "    \n",
    "    for idx, cl in enumerate(np.unique(y)):\n",
    "        plt.scatter(x=X.loc[y == cl, feature1], y=X.loc[y == cl, feature2],\n",
    "                    alpha=0.8, c=cmap(idx),\n",
    "                    marker=markers[idx], label=label_encoder.inverse_transform([cl])[0])\n",
    "\n",
    "    plt.xlabel(feature1)\n",
    "    plt.ylabel(feature2)\n",
    "    plt.title('SVM Classification with Decision Boundaries')\n",
    "    plt.legend(loc='upper left')\n",
    "\n",
    "# Encoding the labels\n",
    "label_encoder = LabelEncoder()\n",
    "y_encoded = label_encoder.fit_transform(y)\n",
    "\n",
    "# Splitting the data\n",
    "X_train, X_test, y_train, y_test = train_test_split(X, y_encoded, test_size=0.3, random_state=42)\n",
    "\n",
    "# Dropdowns for selecting features\n",
    "feature_selector1 = widgets.Dropdown(\n",
    "    options=X.columns,\n",
    "    description='X Axis:',\n",
    "    disabled=False,\n",
    ")\n",
    "\n",
    "feature_selector2 = widgets.Dropdown(\n",
    "    options=X.columns,\n",
    "    description='Y Axis:',\n",
    "    disabled=False,\n",
    ")\n",
    "\n",
    "button = widgets.Button(description=\"Plot\")\n",
    "\n",
    "output = widgets.Output()\n",
    "\n",
    "def on_button_click(b):\n",
    "    with output:\n",
    "        output.clear_output()\n",
    "        feature1 = feature_selector1.value\n",
    "        feature2 = feature_selector2.value\n",
    "        \n",
    "        if feature1 and feature2:\n",
    "            svm_model = SVC()\n",
    "            svm_model.fit(X_train[[feature1, feature2]], y_train)\n",
    "            plt.figure(figsize=(10, 5))\n",
    "            plot_decision_regions(X_test, y_test, svm_model, label_encoder, feature1, feature2)\n",
    "            plt.show()\n",
    "        else:\n",
    "            print(\"Please select both features\")\n",
    "\n",
    "button.on_click(on_button_click)\n",
    "\n",
    "display(feature_selector1, feature_selector2, button, output)\n"
   ]
  }
 ],
 "metadata": {
  "kernelspec": {
   "display_name": "Python 3 (ipykernel)",
   "language": "python",
   "name": "python3"
  },
  "language_info": {
   "codemirror_mode": {
    "name": "ipython",
    "version": 3
   },
   "file_extension": ".py",
   "mimetype": "text/x-python",
   "name": "python",
   "nbconvert_exporter": "python",
   "pygments_lexer": "ipython3",
   "version": "3.12.3"
  }
 },
 "nbformat": 4,
 "nbformat_minor": 5
}
