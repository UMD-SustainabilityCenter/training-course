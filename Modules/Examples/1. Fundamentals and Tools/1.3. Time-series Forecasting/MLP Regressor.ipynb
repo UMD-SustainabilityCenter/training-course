{
 "cells": [
  {
   "cell_type": "markdown",
   "id": "d69ce6f6-d0c4-46c0-9644-9e7cbddf9699",
   "metadata": {},
   "source": [
    "# MLP Regressor"
   ]
  },
  {
   "cell_type": "markdown",
   "id": "357765b3-4478-421a-bb17-0daa8d6186a6",
   "metadata": {},
   "source": [
    "**Multi-Layer Perceptron (MLP) Regressor** is a type of artificial neural network used in supervised learning tasks where the goal is to predict a continuous dependent variable. MLPs are capable of learning complex patterns using multiple layers and neurons.\n",
    "\n",
    "## Concept\n",
    "\n",
    "MLP consists of at least three layers of nodes: an input layer, a hidden layer, and an output layer. Except for the input nodes, each node is a neuron that uses a nonlinear activation function. MLP utilizes a technique called backpropagation for training the network.\n",
    "\n",
    "## Architecture\n",
    "\n",
    "- **Input Layer:** Receives the feature set as inputs which are then passed to the first hidden layer.\n",
    "- **Hidden Layers:** Each hidden layer transforms the inputs from the previous layer based on weights, biases, and activation functions. MLP can have one or more hidden layers.\n",
    "- **Output Layer:** Produces the final output of the network. In the case of regression, it typically has a single neuron for single-target regression or multiple neurons for multi-target regression.\n",
    "\n",
    "## Key Parameters\n",
    "\n",
    "- $n_{\\text{hidden}}$: Number of neurons in the hidden layers.\n",
    "- $\\text{activation}$: The activation function for the neurons, typically ReLU, sigmoid, or tanh.\n",
    "- $\\text{solver}$: The algorithm for weight optimization, such as SGD, Adam, or LBFGS.\n",
    "- $\\text{learning\\_rate}$: Determines the step size at each iteration while moving toward a minimum of a loss function.\n",
    "- $\\text{max\\_iter}$: Maximum number of iterations. The solver iterates until convergence or this number of iterations.\n",
    "- $\\alpha$: L2 penalty (regularization term) parameter. A higher value of $\\alpha$ increases the regularization strength, which helps reduce overfitting but can make the network less sensitive to the training data.\n",
    "\n",
    "\n",
    "## Training Process\n",
    "\n",
    "1. **Forward Propagation:** Compute the predicted output $\\hat{y}$, using the current weights and biases in the network layers.\n",
    "2. **Calculate Loss:** The difference between the actual output $y$ and predicted output $\\hat{y}$ using a loss function, typically Mean Squared Error (MSE) for regression.\n",
    "3. **Backpropagation:** Update the weights and biases in the network in a way that minimizes the loss.\n",
    "\n",
    "## Advantages\n",
    "\n",
    "- Capable of modeling highly non-linear functions.\n",
    "- Flexible to model various types of responses through the choice of activation and loss functions.\n",
    "- Suitable for large datasets and complex feature interactions.\n",
    "\n",
    "## Applications\n",
    "\n",
    "MLP is widely used in:\n",
    "- Predicting energy consumption,\n",
    "- Stock market predictions,\n",
    "- Real estate price forecasting,\n",
    "- Any complex regression tasks in quantitative finance and economics.\n"
   ]
  },
  {
   "cell_type": "markdown",
   "id": "b71e448d-f9a5-473e-bf29-684f4c4c61f6",
   "metadata": {},
   "source": [
    "# Implementation"
   ]
  },
  {
   "cell_type": "markdown",
   "id": "7e5e80ff-10cc-4de5-9672-66c6cc7b6da7",
   "metadata": {},
   "source": [
    "### Import Libraries"
   ]
  },
  {
   "cell_type": "markdown",
   "id": "1b1cdef3-b638-4514-b54a-25f0ac5db396",
   "metadata": {},
   "source": [
    "**Press ▶ to import the libraries.**"
   ]
  },
  {
   "cell_type": "code",
   "execution_count": null,
   "id": "ab575897-5411-47d3-916c-e9a933b41d16",
   "metadata": {
    "jupyter": {
     "source_hidden": true
    }
   },
   "outputs": [],
   "source": [
    "# import pandas as pd\n",
    "import numpy as np\n",
    "import pandas as pd\n",
    "import matplotlib.pyplot as plt\n",
    "import io\n",
    "import ipywidgets as widgets\n",
    "from IPython.display import display, clear_output\n",
    "\n",
    "from sklearn.neural_network import MLPRegressor\n",
    "from sklearn.metrics import mean_squared_error\n",
    "from IPython.display import display, clear_output, HTML\n",
    "\n",
    "import warnings\n",
    "warnings.filterwarnings(\"ignore\")\n",
    "\n",
    "print(\"Libraries are imported.\")"
   ]
  },
  {
   "cell_type": "markdown",
   "id": "31e00fc9-789b-4b07-a89b-23c95941b43a",
   "metadata": {},
   "source": [
    "### Import and show Data"
   ]
  },
  {
   "cell_type": "markdown",
   "id": "c47d875c-fb60-4fa9-9b89-f6179f7b2e58",
   "metadata": {},
   "source": [
    "**Press ▶ to load the data.**"
   ]
  },
  {
   "cell_type": "code",
   "execution_count": null,
   "id": "c17a59e8-9209-4d78-92a2-1f5517e89a06",
   "metadata": {
    "jupyter": {
     "source_hidden": true
    }
   },
   "outputs": [],
   "source": [
    "import os\n",
    "import pandas as pd\n",
    "import ipywidgets as widgets\n",
    "from IPython.display import display, clear_output\n",
    "\n",
    "# List all .csv and Excel files in the current directory\n",
    "supported_extensions = ['.csv', '.xlsx', '.xls']\n",
    "files = [f for f in os.listdir('./Data') if any(f.endswith(ext) for ext in supported_extensions)]\n",
    "\n",
    "# Create a dropdown widget\n",
    "dropdown = widgets.Dropdown(\n",
    "    options=files,\n",
    "    description='Files:',\n",
    "    disabled=False,\n",
    ")\n",
    "\n",
    "# Create a button widget\n",
    "button = widgets.Button(\n",
    "    description='Select',\n",
    "    disabled=False,\n",
    "    button_style='',\n",
    "    tooltip='Click to select file',\n",
    "    icon='check'\n",
    ")\n",
    "\n",
    "# Output widget to display messages\n",
    "output = widgets.Output()\n",
    "\n",
    "# Function to handle button click\n",
    "def on_button_click(b):\n",
    "    with output:\n",
    "        clear_output()\n",
    "        selected_file = dropdown.value\n",
    "        global data\n",
    "        if selected_file.endswith('.csv'):\n",
    "            data = pd.read_csv(\"./Data/\" +selected_file)\n",
    "        elif selected_file.endswith(('.xlsx', '.xls')):\n",
    "            data = pd.read_excel(\"./Data/\" +selected_file)\n",
    "        print(f\"File '{selected_file}' uploaded as data.\")\n",
    "\n",
    "# Attach the function to the button widget\n",
    "button.on_click(on_button_click)\n",
    "\n",
    "# Display the dropdown, button widgets, and initial message within the output widget\n",
    "with output:\n",
    "    print(\"Please select a file from the dropdown and click 'Select'.\")\n",
    "display(output)\n",
    "display(dropdown)\n",
    "display(button)\n",
    "\n"
   ]
  },
  {
   "cell_type": "markdown",
   "id": "8f0a38ec-5abc-45cc-a115-405feb8a6e10",
   "metadata": {},
   "source": [
    "**Press ▶ to display the data.**"
   ]
  },
  {
   "cell_type": "code",
   "execution_count": null,
   "id": "1d8f306d-367a-4061-aa05-d9d3a238d278",
   "metadata": {
    "jupyter": {
     "source_hidden": true
    }
   },
   "outputs": [],
   "source": [
    "display(data.head())\n",
    "print (\"The data is composed of \", data.shape[0], \" rows and \", data.shape[1], \" columns.\")"
   ]
  },
  {
   "cell_type": "markdown",
   "id": "578deddf-ed2d-4f9b-a332-3af1109099e7",
   "metadata": {},
   "source": [
    "### Data Preprocessing"
   ]
  },
  {
   "cell_type": "markdown",
   "id": "22902d6a-7395-4b46-b73d-0ed744e79c07",
   "metadata": {},
   "source": [
    "**Press ▶ to specify the target column.**"
   ]
  },
  {
   "cell_type": "code",
   "execution_count": null,
   "id": "1d5eae02-6b01-4bf6-be71-9b4b2be4c605",
   "metadata": {
    "jupyter": {
     "source_hidden": true
    }
   },
   "outputs": [],
   "source": [
    "import ipywidgets as widgets\n",
    "import pandas as pd\n",
    "\n",
    "# Create a Dropdown widget for column selection\n",
    "dropdown = widgets.Dropdown(\n",
    "    options=data.columns.tolist(),\n",
    "    value=data.columns[0],\n",
    "    description='Select Target Column:',\n",
    "    disabled=False,\n",
    "    layout=widgets.Layout(width='500px'),\n",
    "    style={'description_width': '200px'}\n",
    ")\n",
    "\n",
    "# Create a Button widget\n",
    "button = widgets.Button(\n",
    "    description='Select',\n",
    "    button_style='',  # 'success', 'info', 'warning', 'danger' or ''\n",
    "    tooltip='Click to select the target column as the last column',\n",
    "    icon='check'  # FontAwesome icon names (without 'fa-')\n",
    ")\n",
    "\n",
    "# Create an Output widget for displaying messages\n",
    "output = widgets.Output()\n",
    "\n",
    "# Function to handle button click that rearranges the DataFrame\n",
    "def on_button_clicked(b):\n",
    "    with output:\n",
    "        output.clear_output()\n",
    "        global data\n",
    "        # Get the selected column name\n",
    "        selected_column = dropdown.value\n",
    "        # Reorder the DataFrame columns\n",
    "        new_columns = [col for col in data.columns if col != selected_column] + [selected_column]\n",
    "        data = data[new_columns]\n",
    "        print(f\"Column '{selected_column}' has been moved to the last position.\")\n",
    "\n",
    "# Link the button click event to the function\n",
    "button.on_click(on_button_clicked)\n",
    "\n",
    "# Display the widgets and output\n",
    "display(widgets.VBox([dropdown, button, output]))\n"
   ]
  },
  {
   "cell_type": "markdown",
   "id": "11ea4faa-794e-49e2-aac7-fc4191af50ec",
   "metadata": {},
   "source": [
    "**Press ▶ to create a lagged target column.**"
   ]
  },
  {
   "cell_type": "code",
   "execution_count": null,
   "id": "e9922b25-b967-4b8e-b0e9-695bf4f2be6f",
   "metadata": {
    "jupyter": {
     "source_hidden": true
    }
   },
   "outputs": [],
   "source": [
    "target = data.columns[-1]\n",
    "data['Target_Lag1'] = data.iloc[:, -1].shift(1)\n",
    "\n",
    "data.dropna(inplace=True)"
   ]
  },
  {
   "cell_type": "markdown",
   "id": "42262474-664f-47fd-92c1-a608ec9fb2b1",
   "metadata": {},
   "source": [
    "### Predict Bead Area"
   ]
  },
  {
   "cell_type": "markdown",
   "id": "f71b82f1-16c6-4e08-8975-3ba329e5ec06",
   "metadata": {},
   "source": [
    "## Parameters\n",
    "\n",
    "### Hidden Layer Sizes\n",
    "Hidden layer sizes refer to the number of neurons in each hidden layer. This determines the network's complexity and capacity. More neurons and layers allow the model to learn complex patterns but can increase overfitting risk. Properly configuring hidden layers balances complexity and generalization.\n",
    "\n",
    "### Activation Function\n",
    "The activation function applies a non-linear transformation to each neuron's input. Common functions include ReLU, sigmoid, and tanh. The choice of activation function affects the model's ability to capture non-linear relationships. Selecting the right activation function is crucial for effective learning of data patterns.\n",
    "\n",
    "### L2 Regularization\n",
    "L2 regularization penalizes large weights to prevent overfitting by adding a term to the loss function proportional to the sum of squared weights, controlled by a parameter (alpha). Higher alpha values increase regularization, reducing overfitting risk but potentially causing underfitting. Tuning L2 regularization helps balance bias and variance.\n"
   ]
  },
  {
   "cell_type": "markdown",
   "id": "f9e9662c-d1f0-4474-a85c-8a3f1865e141",
   "metadata": {},
   "source": [
    "**Press ▶ to specify independent variables, train/test split, and the model parameter and to forecast the data.**"
   ]
  },
  {
   "cell_type": "code",
   "execution_count": null,
   "id": "a5a8be3f-b76c-45cd-985d-14dc69879864",
   "metadata": {
    "jupyter": {
     "source_hidden": true
    }
   },
   "outputs": [],
   "source": [
    "# Define widgets with adjusted layout\n",
    "index_range_slider = widgets.IntRangeSlider(\n",
    "    value=[0, min(5000, len(data))],\n",
    "    min=0,\n",
    "    max=len(data),\n",
    "    step=1,\n",
    "    description='Index Range:',\n",
    "    layout=widgets.Layout(width='600px'),  # Increase width for better readability\n",
    "    style={'description_width': '150px'},  # Increase description width\n",
    "    continuous_update=False\n",
    ")\n",
    "\n",
    "feature_select = widgets.SelectMultiple(\n",
    "    options=tuple(col for col in data.columns if col != target),\n",
    "    value=tuple(col for col in data.columns if col != target),\n",
    "    description='Features:',\n",
    "    layout=widgets.Layout(width='600px', height='180px'),  # Increase width and height\n",
    "    style={'description_width': '150px'},  # Increase description width\n",
    "    disabled=False\n",
    ")\n",
    "\n",
    "train_size_slider = widgets.IntSlider(\n",
    "    value=80,\n",
    "    min=50,\n",
    "    max=95,\n",
    "    step=1,\n",
    "    description='Train %:',\n",
    "    layout=widgets.Layout(width='600px'),  # Increase width\n",
    "    style={'description_width': '150px'},  # Increase description width\n",
    "    continuous_update=False\n",
    ")\n",
    "\n",
    "# MLP Regressor parameter sliders\n",
    "hidden_layer_sizes_slider = widgets.IntSlider(\n",
    "    value=100,\n",
    "    min=10,\n",
    "    max=500,\n",
    "    step=10,\n",
    "    description='Hidden Layer Sizes:',\n",
    "    layout=widgets.Layout(width='600px'),\n",
    "    style={'description_width': '150px'},\n",
    "    continuous_update=False\n",
    ")\n",
    "\n",
    "activation_dropdown = widgets.Dropdown(\n",
    "    options=['identity', 'logistic', 'tanh', 'relu'],\n",
    "    value='relu',\n",
    "    description='Activation Function:',\n",
    "    layout=widgets.Layout(width='600px'),\n",
    "    style={'description_width': '150px'},\n",
    "    continuous_update=False\n",
    ")\n",
    "\n",
    "alpha_slider = widgets.FloatSlider(\n",
    "    value=0.0001,\n",
    "    min=0.00001,\n",
    "    max=0.1,\n",
    "    step=0.00001,\n",
    "    description='L2 regularization:',\n",
    "    layout=widgets.Layout(width='600px'),\n",
    "    style={'description_width': '150px'},\n",
    "    continuous_update=False\n",
    ")\n",
    "\n",
    "apply_button = widgets.Button(description=\"Apply Changes\", layout=widgets.Layout(width='800px'))\n",
    "\n",
    "# Define the function to apply changes and update the plots\n",
    "def apply_changes(b):\n",
    "    with output:\n",
    "        clear_output(wait=True)\n",
    "        \n",
    "        # Extract the parameters from widgets\n",
    "        index_range = index_range_slider.value\n",
    "        selected_features = list(feature_select.value)\n",
    "        train_size_pct = train_size_slider.value / 100\n",
    "        hidden_layer_sizes = hidden_layer_sizes_slider.value\n",
    "        activation = activation_dropdown.value\n",
    "        alpha = alpha_slider.value\n",
    "        \n",
    "        # Slice the data\n",
    "        df = data[index_range[0]:index_range[1]]\n",
    "        \n",
    "        # Prepare the data (assuming 'Interpolated Bead Area' is already in `df`)\n",
    "        X = df[selected_features]\n",
    "        y = df[target]\n",
    "        \n",
    "        # Train-test split\n",
    "        train_size = int(len(df) * train_size_pct)\n",
    "        X_train, X_test = X[:train_size], X[train_size:]\n",
    "        y_train, y_test = y[:train_size], y[train_size:]\n",
    "        \n",
    "        # Train the model\n",
    "        model = MLPRegressor(\n",
    "            hidden_layer_sizes=(hidden_layer_sizes,),\n",
    "            activation=activation,\n",
    "            alpha=alpha,\n",
    "            random_state=42,\n",
    "            max_iter=100000\n",
    "        )\n",
    "        model.fit(X_train, y_train)\n",
    "        \n",
    "        # Predict on test data\n",
    "        y_pred = model.predict(X_test)\n",
    "        mse = mean_squared_error(y_test, y_pred)\n",
    "        display(HTML(f'<b>Mean Squared Error: {mse:.5f}</b>'))  # Display MSE in bold\n",
    "        \n",
    "        # Plot predicted vs actual\n",
    "        plt.figure(figsize=(10, 6))\n",
    "        plt.plot(y_train.index, y_train, label='Training', color='green')\n",
    "        plt.plot(y_test.index, y_test, label='Actual', color='blue')\n",
    "        plt.plot(y_test.index, y_pred, label='Predicted', color='red', linestyle='--')\n",
    "        plt.xlabel('Time')\n",
    "        plt.ylabel(target)\n",
    "        plt.title('Actual vs Predicted '+target)\n",
    "        plt.legend()\n",
    "        plt.show()\n",
    "        \n",
    "        # Calculate loss for each point\n",
    "        pointwise_mse_loss = (y_test - y_pred) ** 2\n",
    "        \n",
    "        # Plot the pointwise loss\n",
    "        plt.figure(figsize=(10, 6))\n",
    "        plt.plot(y_test.index, y_test, label='Actual', color='blue')\n",
    "        plt.plot(y_test.index, y_pred, label='Predicted', color='red', linestyle='--')\n",
    "        plt.plot(y_test.index, pointwise_mse_loss, label='Pointwise MSE Loss', color='orange')\n",
    "        plt.xlabel('Time')\n",
    "        plt.ylabel('MSE Loss')\n",
    "        plt.title('Pointwise MSE Loss of Predicted vs Actual '+target)\n",
    "        plt.legend()\n",
    "        plt.show()\n",
    "\n",
    "# Link the apply button to the function\n",
    "apply_button.on_click(apply_changes)\n",
    "\n",
    "# Display the widgets and the output area\n",
    "output = widgets.Output()\n",
    "\n",
    "display(index_range_slider, feature_select, train_size_slider, hidden_layer_sizes_slider, activation_dropdown, alpha_slider, apply_button, output)\n"
   ]
  }
 ],
 "metadata": {
  "kernelspec": {
   "display_name": "Python 3 (ipykernel)",
   "language": "python",
   "name": "python3"
  },
  "language_info": {
   "codemirror_mode": {
    "name": "ipython",
    "version": 3
   },
   "file_extension": ".py",
   "mimetype": "text/x-python",
   "name": "python",
   "nbconvert_exporter": "python",
   "pygments_lexer": "ipython3",
   "version": "3.12.3"
  }
 },
 "nbformat": 4,
 "nbformat_minor": 5
}
