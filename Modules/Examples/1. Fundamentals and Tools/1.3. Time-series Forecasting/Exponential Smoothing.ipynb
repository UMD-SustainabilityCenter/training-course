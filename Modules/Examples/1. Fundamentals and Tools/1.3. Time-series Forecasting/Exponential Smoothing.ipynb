{
 "cells": [
  {
   "cell_type": "markdown",
   "id": "6db5f2fc",
   "metadata": {
    "tags": [
     "auto-generated-toc"
    ]
   },
   "source": [
    "## Table of Contents\n",
    "- [Exponential Smoothing](#Exponential-Smoothing)\n  - [Concept](#Concept)\n  - [Simple Exponential Smoothing](#Simple-Exponential-Smoothing)\n  - [Double Exponential Smoothing](#Double-Exponential-Smoothing)\n  - [Triple Exponential Smoothing (Holt-Winters)](#Triple-Exponential-Smoothing-%28Holt-Winters%29)\n- [Implemetation](#Implemetation)\n- [🏠 Home](../../../../welcomePage.ipynb)"
   ]
  },
  {
   "cell_type": "markdown",
   "id": "fa6ae497-01b1-4e06-9b72-75970514498c",
   "metadata": {},
   "source": [
    "# Exponential Smoothing"
   ]
  },
  {
   "cell_type": "markdown",
   "id": "cbfd81ba-dc31-4a66-a235-9452b56f9978",
   "metadata": {},
   "source": [
    "**Exponential Smoothing** is a time series forecasting method for univariate data that can be extended to support data with a systematic trend or seasonal component. It is widely used in business and economic forecasting.\n",
    "\n",
    "## Concept\n",
    "\n",
    "Exponential Smoothing methods are weighted averages of past observations, but the weights decrease exponentially over time. The most recent observations are given relatively more weight in forecasting than the older observations.\n",
    "\n",
    "## Simple Exponential Smoothing\n",
    "\n",
    "The simplest form of exponential smoothing is given by the formulas:\n",
    "$$\n",
    "\\hat{y}_{t+1} = \\alpha y_t + (1 - \\alpha) \\hat{y}_t\n",
    "$$\n",
    "where:\n",
    "- $\\hat{y}_{t+1}$ is the forecast for the next period,\n",
    "- $y_t$ is the actual value at time t,\n",
    "- $\\hat{y}_t$ is the forecast for period t,\n",
    "- $\\alpha$ is the smoothing parameter (0 < $\\alpha$ < 1).\n",
    "\n",
    "## Double Exponential Smoothing\n",
    "\n",
    "Used when the data show a trend. This method consists of two equations:\n",
    "1. **Level equation**:\n",
    "   $$\n",
    "   l_t = \\alpha y_t + (1 - \\alpha)(l_{t-1} + b_{t-1})\n",
    "   $$\n",
    "2. **Trend equation**:\n",
    "   $$\n",
    "   b_t = \\beta^*(l_t - l_{t-1}) + (1 - \\beta^*)b_{t-1}\n",
    "   $$\n",
    "where:\n",
    "- $l_t$ is the level component,\n",
    "- $b_t$ is the trend component of the model,\n",
    "- $\\beta^*$ is the smoothing parameter for the trend.\n",
    "\n",
    "## Triple Exponential Smoothing (Holt-Winters)\n",
    "\n",
    "This method extends exponential smoothing to capture seasonality. It includes three equations:\n",
    "1. **Level equation**,\n",
    "2. **Trend equation**,\n",
    "3. **Seasonal equation**:\n",
    "   $$\n",
    "   s_t = \\gamma (y_t - l_{t-1} - b_{t-1}) + (1 - \\gamma) s_{t-m}\n",
    "   $$\n",
    "where:\n",
    "- $s_t$ is the seasonal component,\n",
    "- $\\gamma$ is the smoothing parameter for the seasonal component,\n",
    "- $m$ is the number of periods in a season.\n"
   ]
  },
  {
   "cell_type": "markdown",
   "id": "38e7fc17-e767-48b5-aed4-d7057dcb70ad",
   "metadata": {},
   "source": [
    "# Implemetation"
   ]
  },
  {
   "cell_type": "markdown",
   "id": "012a0508-ca33-4200-b351-c4d10dc62f04",
   "metadata": {},
   "source": [
    "### Import Libraries"
   ]
  },
  {
   "cell_type": "markdown",
   "id": "ecd2bd96-4c80-40bf-ac74-3b8b7cbef601",
   "metadata": {},
   "source": [
    "**Press ▶ to import libraries.**"
   ]
  },
  {
   "cell_type": "code",
   "execution_count": null,
   "id": "ab575897-5411-47d3-916c-e9a933b41d16",
   "metadata": {
    "jupyter": {
     "source_hidden": true
    }
   },
   "outputs": [],
   "source": [
    "import pandas as pd\n",
    "import numpy as np\n",
    "import matplotlib.pyplot as plt\n",
    "import io\n",
    "import ipywidgets as widgets\n",
    "from IPython.display import display, clear_output\n",
    "\n",
    "from sklearn.metrics import mean_squared_error\n",
    "from IPython.display import display, clear_output, HTML\n",
    "from statsmodels.tsa.holtwinters import ExponentialSmoothing\n",
    "\n",
    "import warnings\n",
    "warnings.filterwarnings(\"ignore\")\n",
    "\n",
    "print(\"Libraries are imported.\")"
   ]
  },
  {
   "cell_type": "markdown",
   "id": "6cf96aea-8da9-450f-9057-702d62f77201",
   "metadata": {},
   "source": [
    "### Import and show Data"
   ]
  },
  {
   "cell_type": "markdown",
   "id": "4c57d2b1-1719-46aa-a2f8-766ca7c76fc1",
   "metadata": {},
   "source": [
    "**Press ▶ to load the data.**"
   ]
  },
  {
   "cell_type": "code",
   "execution_count": null,
   "id": "c17a59e8-9209-4d78-92a2-1f5517e89a06",
   "metadata": {
    "jupyter": {
     "source_hidden": true
    }
   },
   "outputs": [],
   "source": [
    "import os\n",
    "import pandas as pd\n",
    "import ipywidgets as widgets\n",
    "from IPython.display import display, clear_output\n",
    "\n",
    "# List all .csv and Excel files in the current directory\n",
    "supported_extensions = ['.csv', '.xlsx', '.xls']\n",
    "files = [f for f in os.listdir('./Data') if any(f.endswith(ext) for ext in supported_extensions)]\n",
    "\n",
    "# Create a dropdown widget\n",
    "dropdown = widgets.Dropdown(\n",
    "    options=files,\n",
    "    description='Files:',\n",
    "    disabled=False,\n",
    ")\n",
    "\n",
    "# Create a button widget\n",
    "button = widgets.Button(\n",
    "    description='Select',\n",
    "    disabled=False,\n",
    "    button_style='',\n",
    "    tooltip='Click to select file',\n",
    "    icon='check'\n",
    ")\n",
    "\n",
    "# Output widget to display messages\n",
    "output = widgets.Output()\n",
    "\n",
    "# Function to handle button click\n",
    "def on_button_click(b):\n",
    "    with output:\n",
    "        clear_output()\n",
    "        selected_file = dropdown.value\n",
    "        global data\n",
    "        if selected_file.endswith('.csv'):\n",
    "            data = pd.read_csv(\"./Data/\" +selected_file)\n",
    "        elif selected_file.endswith(('.xlsx', '.xls')):\n",
    "            data = pd.read_excel(\"./Data/\" +selected_file)\n",
    "        print(f\"File '{selected_file}' uploaded as data.\")\n",
    "\n",
    "# Attach the function to the button widget\n",
    "button.on_click(on_button_click)\n",
    "\n",
    "# Display the dropdown, button widgets, and initial message within the output widget\n",
    "with output:\n",
    "    print(\"Please select a file from the dropdown and click 'Select'.\")\n",
    "display(output)\n",
    "display(dropdown)\n",
    "display(button)\n",
    "\n"
   ]
  },
  {
   "cell_type": "markdown",
   "id": "e0f6ec50-16f5-45b0-b94a-caba325d4d39",
   "metadata": {},
   "source": [
    "**Press ▶ to display the data.**"
   ]
  },
  {
   "cell_type": "code",
   "execution_count": null,
   "id": "1ce66328-75c9-4493-81e1-3192b4b20062",
   "metadata": {
    "jupyter": {
     "source_hidden": true
    }
   },
   "outputs": [],
   "source": [
    "display(data.head())\n",
    "print (\"The data is composed of \", data.shape[0], \" rows and \", data.shape[1], \" columns.\")"
   ]
  },
  {
   "cell_type": "markdown",
   "id": "bd6e5449-2102-4409-b04a-b3a3f24658e1",
   "metadata": {},
   "source": [
    "### Predict Bead Area"
   ]
  },
  {
   "cell_type": "markdown",
   "id": "c470aac4-681d-4f87-880d-51becf8221d2",
   "metadata": {},
   "source": [
    "### Smoothing Slope (β)\n",
    "**Definition:** The parameter that controls the rate at which the trend component of the time series is smoothed.\n",
    "\n",
    "**Explanation:** This parameter adjusts how quickly the trend of the time series data responds to changes. A higher β value makes the trend component more responsive to recent changes, while a lower β value makes it smoother and less responsive to recent changes.\n",
    "\n",
    "**Importance:**\n",
    "- **Captures Trend:** Essential for accurately modeling the trend in the time series data, especially when the data shows a clear upward or downward movement over time.\n",
    "- **Improves Forecast Accuracy:** By accurately capturing the trend, the model can make better forecasts, especially for data with a significant trend component.\n",
    "\n",
    "### Smoothing Seasonal (γ)\n",
    "**Definition:** The parameter that controls the rate at which the seasonal component of the time series is smoothed.\n",
    "\n",
    "**Explanation:** This parameter adjusts how quickly the seasonal component of the time series data responds to changes. A higher γ value makes the seasonal component more responsive to recent changes, while a lower γ value makes it smoother and less responsive to recent changes.\n",
    "\n",
    "**Importance:**\n",
    "- **Captures Seasonality:** Crucial for accurately modeling the seasonality in the time series data, especially when the data exhibits regular and predictable patterns over time (e.g., monthly sales data, daily temperature data).\n",
    "- **Enhances Forecast Precision:** By accurately capturing the seasonal patterns, the model can make more precise forecasts, particularly for data with a significant seasonal component.\n",
    "\n",
    "### Summary\n",
    "The Smoothing Slope (β) and Smoothing Seasonal (γ) parameters play vital roles in advanced Exponential Smoothing models by capturing the trend and seasonal components of the time series data, respectively. Selecting appropriate values for these parameters is key to building a robust model that can effectively forecast future values in a time series.\n",
    "\n",
    "Understanding these parameters enables you to:\n",
    "- Identify the appropriate model for your data.\n",
    "- Improve forecast accuracy.\n",
    "- Gain insights into the underlying patterns and structures in your time series data."
   ]
  },
  {
   "cell_type": "markdown",
   "id": "57253e43-86b8-41f7-a3c6-daa52aca07c4",
   "metadata": {},
   "source": [
    "**Press ▶ to set the model parameters and forecast the data.**"
   ]
  },
  {
   "cell_type": "code",
   "execution_count": null,
   "id": "139a13b5-3e01-403b-b39f-4a2768f5aac9",
   "metadata": {},
   "outputs": [],
   "source": [
    "\n",
    "# Define widgets with adjusted layout\n",
    "index_range_slider = widgets.IntRangeSlider(\n",
    "    value=[0, min(500, len(data))],\n",
    "    min=0,\n",
    "    max=len(data),\n",
    "    step=1,\n",
    "    description='Index Range:',\n",
    "    layout=widgets.Layout(width='600px'),  # Increase width for better readability\n",
    "    style={'description_width': '150px'},  # Increase description width\n",
    "    continuous_update=False\n",
    ")\n",
    "\n",
    "train_size_slider = widgets.IntSlider(\n",
    "    value=80,\n",
    "    min=50,\n",
    "    max=95,\n",
    "    step=1,\n",
    "    description='Train %:',\n",
    "    layout=widgets.Layout(width='600px'),  # Increase width\n",
    "    style={'description_width': '150px'},  # Increase description width\n",
    "    continuous_update=False\n",
    ")\n",
    "\n",
    "# Exponential Smoothing parameter sliders\n",
    "alpha_slider = widgets.FloatSlider(\n",
    "    value=0.5,\n",
    "    min=0,\n",
    "    max=1,\n",
    "    step=0.01,\n",
    "    description='Smoothing Level (α):',\n",
    "    layout=widgets.Layout(width='600px'),\n",
    "    style={'description_width': '150px'},\n",
    "    continuous_update=False\n",
    ")\n",
    "\n",
    "beta_slider = widgets.FloatSlider(\n",
    "    value=0.5,\n",
    "    min=0,\n",
    "    max=1,\n",
    "    step=0.01,\n",
    "    description='Smoothing Slope (β):',\n",
    "    layout=widgets.Layout(width='600px'),\n",
    "    style={'description_width': '150px'},\n",
    "    continuous_update=False\n",
    ")\n",
    "\n",
    "gamma_slider = widgets.FloatSlider(\n",
    "    value=0.5,\n",
    "    min=0,\n",
    "    max=1,\n",
    "    step=0.01,\n",
    "    description='Smoothing Seasonal (γ):',\n",
    "    layout=widgets.Layout(width='600px'),\n",
    "    style={'description_width': '170px'},\n",
    "    continuous_update=False\n",
    ")\n",
    "\n",
    "# Slider to control future prediction steps\n",
    "future_steps_slider = widgets.IntSlider(\n",
    "    value=10,\n",
    "    min=0,\n",
    "    max=100,\n",
    "    step=1,\n",
    "    description='Future Steps:',\n",
    "    layout=widgets.Layout(width='600px'),\n",
    "    style={'description_width': '150px'},\n",
    "    continuous_update=False\n",
    ")\n",
    "\n",
    "apply_button = widgets.Button(description=\"Apply Changes\", layout=widgets.Layout(width='800px'))\n",
    "\n",
    "# Define the function to apply changes and update the plots\n",
    "def apply_changes(b):\n",
    "    with output:\n",
    "        clear_output(wait=True)\n",
    "        \n",
    "        # Extract the parameters from widgets\n",
    "        index_range = index_range_slider.value\n",
    "        train_size_pct = train_size_slider.value / 100\n",
    "        alpha = alpha_slider.value\n",
    "        beta = beta_slider.value\n",
    "        gamma = gamma_slider.value\n",
    "        future_steps = future_steps_slider.value\n",
    "        \n",
    "        # Slice the data\n",
    "        df = data[index_range[0]:index_range[1]]\n",
    "        \n",
    "        # Prepare the data\n",
    "        y = df['Interpolated Bead Area']\n",
    "        \n",
    "        # Train-test split\n",
    "        train_size = int(len(df) * train_size_pct)\n",
    "        y_train, y_test = y[:train_size], y[train_size:train_size+future_steps]\n",
    "        \n",
    "        # Fit Exponential Smoothing model on training data\n",
    "        model = ExponentialSmoothing(\n",
    "            y_train,\n",
    "            trend='add',  # You can also try 'mul' for multiplicative trend\n",
    "            seasonal=None,  # Set to 'add' or 'mul' if you have seasonal data\n",
    "            seasonal_periods=None  # Set to the length of your seasonality, if applicable\n",
    "        )\n",
    "        model_fit = model.fit(smoothing_level=alpha, smoothing_slope=beta, smoothing_seasonal=gamma)\n",
    "\n",
    "        # Forecast on the test data and additional future steps\n",
    "        forecast_steps = future_steps\n",
    "        forecast = model_fit.forecast(steps=forecast_steps)\n",
    "        \n",
    "        # Extract predictions for test data\n",
    "        y_pred = forecast[:future_steps]\n",
    "        #future_predictions = forecast[len(y_test):]\n",
    "        \n",
    "        mse = mean_squared_error(y_test, y_pred)\n",
    "        display(HTML(f'<b>Mean Squared Error: {mse:.5f}</b>'))  # Display MSE in bold\n",
    "        \n",
    "        # Plot predicted vs actual\n",
    "        plt.figure(figsize=(10, 6))\n",
    "        plt.plot(y_train.index, y_train, label='Training', color='green')\n",
    "        plt.plot(y_test.index, y_test, label='Actual', color='blue')\n",
    "        plt.plot(y_test.index, y_pred, label='Predicted', color='red', linestyle='--')\n",
    "        plt.axvline(x=y_test.index[-1], color='gray', linestyle='--')  # Mark the end of actual test data\n",
    "        #future_index = range(y_test.index[-1] + 1, y_test.index[-1] + 1 + len(future_predictions))\n",
    "        #plt.plot(future_index, future_predictions, label='Future Predictions', color='green', linestyle='--')\n",
    "        plt.xlabel('Time')\n",
    "        plt.ylabel('Interpolated Bead Area')\n",
    "        plt.title('Actual vs Predicted Interpolated Bead Area')\n",
    "        plt.legend()\n",
    "        plt.show()\n",
    "        \n",
    "        # Calculate loss for each point\n",
    "        pointwise_mse_loss = (y_test.values - y_pred) ** 2  # Match dimension with y_test\n",
    "        \n",
    "        # Plot the pointwise loss\n",
    "        plt.figure(figsize=(10, 6))\n",
    "        plt.plot(y_test.index, y_test, label='Actual', color='blue')\n",
    "        plt.plot(y_test.index, y_pred, label='Predicted', color='red', linestyle='--')\n",
    "        plt.plot(y_test.index, pointwise_mse_loss, label='Pointwise MSE Loss', color='orange')\n",
    "        plt.xlabel('Time')\n",
    "        plt.ylabel('MSE Loss')\n",
    "        plt.title('Pointwise MSE Loss of Predicted vs Actual Interpolated Bead Area')\n",
    "        plt.legend()\n",
    "        plt.show()\n",
    "\n",
    "# Link the apply button to the function\n",
    "apply_button.on_click(apply_changes)\n",
    "\n",
    "# Display the widgets and the output area\n",
    "output = widgets.Output()\n",
    "\n",
    "display(index_range_slider, train_size_slider, alpha_slider, beta_slider, gamma_slider, future_steps_slider, apply_button, output)\n"
   ]
  },
  {
   "cell_type": "markdown",
   "id": "7dbe8921-0acc-4af0-9024-048c79601606",
   "metadata": {
    "editable": true,
    "slideshow": {
     "slide_type": ""
    },
    "tags": [
     "home-nav"
    ]
   },
   "source": [
    "### <center>[🏠 Home](../../../../welcomePage.ipynb)</center>"
   ]
  }
 ],
 "metadata": {
  "kernelspec": {
   "display_name": "Python 3 (ipykernel)",
   "language": "python",
   "name": "python3"
  },
  "language_info": {
   "codemirror_mode": {
    "name": "ipython",
    "version": 3
   },
   "file_extension": ".py",
   "mimetype": "text/x-python",
   "name": "python",
   "nbconvert_exporter": "python",
   "pygments_lexer": "ipython3",
   "version": "3.12.5"
  }
 },
 "nbformat": 4,
 "nbformat_minor": 5
}
