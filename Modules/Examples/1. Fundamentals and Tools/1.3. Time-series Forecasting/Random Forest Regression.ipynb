{
 "cells": [
  {
   "cell_type": "markdown",
   "id": "8e5b2e57",
   "metadata": {
    "tags": [
     "auto-generated-toc"
    ]
   },
   "source": [
    "## Table of Contents\n",
    "- [Random Forest Regression](#Random-Forest-Regression)\n  - [Concept](#Concept)\n  - [How It Works](#How-It-Works)\n  - [Key Parameters](#Key-Parameters)\n  - [Advantages](#Advantages)\n  - [Applications](#Applications)\n- [Implementation](#Implementation)\n  - [Parameters](#Parameters)\n- [🏠 Home](../../../../welcomePage.ipynb)"
   ]
  },
  {
   "cell_type": "markdown",
   "id": "f3b6e2a1-14ec-4075-ae38-ca192f3e144c",
   "metadata": {},
   "source": [
    "# Random Forest Regression"
   ]
  },
  {
   "cell_type": "markdown",
   "id": "8f6d1379-7996-4c2c-9919-39b26f23d440",
   "metadata": {
    "jp-MarkdownHeadingCollapsed": true
   },
   "source": [
    "**Random Forest Regression** is an ensemble learning method for regression that operates by constructing a multitude of decision trees at training time and outputting the mean prediction of the individual trees. Random Forest combines multiple decision trees to increase the overall accuracy and reduce the risk of overfitting.\n",
    "\n",
    "## Concept\n",
    "\n",
    "Random Forest builds multiple decision trees and merges them together to get a more accurate and stable prediction. The ensemble of trees helps to correct for trees that may have overfitted to their sample. It is one of the most powerful and widely used machine learning algorithms due to its simplicity and diversity (applicable to both classification and regression tasks).\n",
    "\n",
    "## How It Works\n",
    "\n",
    "1. **Bootstrap Aggregating (Bagging):** Random Forest uses the bagging technique where it creates multiple datasets from the original dataset by sampling with replacement, and then trains a decision tree on each.\n",
    "2. **Node Splitting:** At each node in the trees, a random subset of the features is considered for splitting. This introduces diversity in the model, reducing the variance and preventing overfitting.\n",
    "3. **Averaging:** For regression tasks, it averages the outputs of different trees to give a final prediction.\n",
    "\n",
    "## Key Parameters\n",
    "\n",
    "- $n_{\\text{estimators}}$: The number of trees in the forest. Typically, the more trees, the better to learn the data. However, adding a lot of trees can slow down the training process considerably.\n",
    "- $\\text{max\\_depth}$: The maximum depth of the trees. Deeper trees learn more detailed data patterns and can be more prone to overfitting.\n",
    "- $\\text{min\\_samples\\_split}$: The minimum number of samples required to split an internal node.\n",
    "- $\\text{min\\_samples\\_leaf}$: The minimum number of samples required to be at a leaf node.\n",
    "\n",
    "## Advantages\n",
    "\n",
    "- Effective in high dimensional spaces and large data sets.\n",
    "- Handles both numerical and categorical data.\n",
    "- Provides a good indicator of the importance of features.\n",
    "\n",
    "## Applications\n",
    "\n",
    "Random Forest is versatile and can be used for:\n",
    "- Predicting housing prices,\n",
    "- Stock market behavior analysis,\n",
    "- Medical diagnosis,\n",
    "- Complex regression tasks in ecological and biological studies."
   ]
  },
  {
   "cell_type": "markdown",
   "id": "e4a888fb-024e-46f2-b6db-a9e6864f3f5d",
   "metadata": {},
   "source": [
    "# Implementation"
   ]
  },
  {
   "cell_type": "markdown",
   "id": "704f68df-3668-4395-b20a-f1dfba8f4ab6",
   "metadata": {},
   "source": [
    "### Import Libraries"
   ]
  },
  {
   "cell_type": "markdown",
   "id": "15943c4a-0339-4dd8-9fda-6200b7437970",
   "metadata": {},
   "source": [
    "**Press ▶ to import the libraries.**"
   ]
  },
  {
   "cell_type": "code",
   "execution_count": null,
   "id": "ab575897-5411-47d3-916c-e9a933b41d16",
   "metadata": {
    "jupyter": {
     "source_hidden": true
    }
   },
   "outputs": [],
   "source": [
    "import pandas as pd\n",
    "import numpy as np\n",
    "import matplotlib.pyplot as plt\n",
    "import io\n",
    "import ipywidgets as widgets\n",
    "from IPython.display import display, clear_output\n",
    "\n",
    "from sklearn.ensemble import RandomForestRegressor\n",
    "from sklearn.metrics import mean_squared_error\n",
    "from IPython.display import display, clear_output, HTML\n",
    "\n",
    "import warnings\n",
    "warnings.filterwarnings(\"ignore\")\n",
    "\n",
    "print(\"Libraries are imported.\")"
   ]
  },
  {
   "cell_type": "markdown",
   "id": "d6f169d9-d1f7-45f8-a64b-db790f0afb1e",
   "metadata": {},
   "source": [
    "### Import and show Data"
   ]
  },
  {
   "cell_type": "markdown",
   "id": "003540c8-ebaf-44fc-a9a1-67a3378923f7",
   "metadata": {},
   "source": [
    "**Press ▶ to load the data.**"
   ]
  },
  {
   "cell_type": "code",
   "execution_count": null,
   "id": "c17a59e8-9209-4d78-92a2-1f5517e89a06",
   "metadata": {
    "jupyter": {
     "source_hidden": true
    }
   },
   "outputs": [],
   "source": [
    "import os\n",
    "import pandas as pd\n",
    "import ipywidgets as widgets\n",
    "from IPython.display import display, clear_output\n",
    "\n",
    "# List all .csv and Excel files in the current directory\n",
    "supported_extensions = ['.csv', '.xlsx', '.xls']\n",
    "files = [f for f in os.listdir('./Data') if any(f.endswith(ext) for ext in supported_extensions)]\n",
    "\n",
    "# Create a dropdown widget\n",
    "dropdown = widgets.Dropdown(\n",
    "    options=files,\n",
    "    description='Files:',\n",
    "    disabled=False,\n",
    ")\n",
    "\n",
    "# Create a button widget\n",
    "button = widgets.Button(\n",
    "    description='Select',\n",
    "    disabled=False,\n",
    "    button_style='',\n",
    "    tooltip='Click to select file',\n",
    "    icon='check'\n",
    ")\n",
    "\n",
    "# Output widget to display messages\n",
    "output = widgets.Output()\n",
    "\n",
    "# Function to handle button click\n",
    "def on_button_click(b):\n",
    "    with output:\n",
    "        clear_output()\n",
    "        selected_file = dropdown.value\n",
    "        global data\n",
    "        if selected_file.endswith('.csv'):\n",
    "            data = pd.read_csv(\"./Data/\" +selected_file)\n",
    "        elif selected_file.endswith(('.xlsx', '.xls')):\n",
    "            data = pd.read_excel(\"./Data/\" +selected_file)\n",
    "        print(f\"File '{selected_file}' uploaded as data.\")\n",
    "\n",
    "# Attach the function to the button widget\n",
    "button.on_click(on_button_click)\n",
    "\n",
    "# Display the dropdown, button widgets, and initial message within the output widget\n",
    "with output:\n",
    "    print(\"Please select a file from the dropdown and click 'Select'.\")\n",
    "display(output)\n",
    "display(dropdown)\n",
    "display(button)\n"
   ]
  },
  {
   "cell_type": "markdown",
   "id": "9158e25d-8a58-4424-8ef8-642334b5f4ff",
   "metadata": {},
   "source": [
    "**Press ▶ to display the data.**"
   ]
  },
  {
   "cell_type": "code",
   "execution_count": null,
   "id": "7667b9bf-b27c-484d-910e-3b1794745197",
   "metadata": {
    "jupyter": {
     "source_hidden": true
    }
   },
   "outputs": [],
   "source": [
    "display(data.head())\n",
    "print (\"The data is composed of \", data.shape[0], \" rows and \", data.shape[1], \" columns.\")"
   ]
  },
  {
   "cell_type": "markdown",
   "id": "545699f9-349b-4e2f-be6a-f02dd9b99c9f",
   "metadata": {},
   "source": [
    "### Data Preprocessing"
   ]
  },
  {
   "cell_type": "markdown",
   "id": "c3baeeb4-4bc7-4609-a993-094c4fe6af5c",
   "metadata": {},
   "source": [
    "**Press ▶ to specify the target column.**"
   ]
  },
  {
   "cell_type": "code",
   "execution_count": null,
   "id": "1d5eae02-6b01-4bf6-be71-9b4b2be4c605",
   "metadata": {
    "jupyter": {
     "source_hidden": true
    }
   },
   "outputs": [],
   "source": [
    "import ipywidgets as widgets\n",
    "import pandas as pd\n",
    "\n",
    "# Create a Dropdown widget for column selection\n",
    "dropdown = widgets.Dropdown(\n",
    "    options=data.columns.tolist(),\n",
    "    value=data.columns[0],\n",
    "    description='Select Target Column:',\n",
    "    disabled=False,\n",
    "    layout=widgets.Layout(width='500px'),\n",
    "    style={'description_width': '200px'}\n",
    ")\n",
    "\n",
    "# Create a Button widget\n",
    "button = widgets.Button(\n",
    "    description='Select',\n",
    "    button_style='',  # 'success', 'info', 'warning', 'danger' or ''\n",
    "    tooltip='Click to select the target column as the last column',\n",
    "    icon='check'  # FontAwesome icon names (without 'fa-')\n",
    ")\n",
    "\n",
    "# Create an Output widget for displaying messages\n",
    "output = widgets.Output()\n",
    "\n",
    "# Function to handle button click that rearranges the DataFrame\n",
    "def on_button_clicked(b):\n",
    "    with output:\n",
    "        output.clear_output()\n",
    "        global data\n",
    "        # Get the selected column name\n",
    "        selected_column = dropdown.value\n",
    "        # Reorder the DataFrame columns\n",
    "        new_columns = [col for col in data.columns if col != selected_column] + [selected_column]\n",
    "        data = data[new_columns]\n",
    "        print(f\"Column '{selected_column}' has been moved to the last position.\")\n",
    "\n",
    "# Link the button click event to the function\n",
    "button.on_click(on_button_clicked)\n",
    "\n",
    "# Display the widgets and output\n",
    "display(widgets.VBox([dropdown, button, output]))\n"
   ]
  },
  {
   "cell_type": "markdown",
   "id": "84e7e8f3-1e84-4b83-b2bf-06745aa6238d",
   "metadata": {},
   "source": [
    "**Press ▶ to create a lagged target column.**"
   ]
  },
  {
   "cell_type": "code",
   "execution_count": null,
   "id": "2180daf1-9298-453f-be5b-9202e4c21acd",
   "metadata": {
    "jupyter": {
     "source_hidden": true
    }
   },
   "outputs": [],
   "source": [
    "target = data.columns[-1]\n",
    "data['Target_Lag1'] = data.iloc[:, -1].shift(1)\n",
    "\n",
    "data.dropna(inplace=True)"
   ]
  },
  {
   "cell_type": "markdown",
   "id": "778bb96e-dd94-4ebf-98dc-a358a1e63f72",
   "metadata": {},
   "source": [
    "### Predict Bead Area"
   ]
  },
  {
   "cell_type": "markdown",
   "id": "5c9e3c61-2267-458e-b760-cbc21b0b75ae",
   "metadata": {},
   "source": [
    "## Parameters\n",
    "\n",
    "### Number of Estimators\n",
    "Number of estimators refers to the number of decision trees in the forest. This parameter controls how many trees are built in the model. More trees generally improve performance and model stability by reducing overfitting but increase computational cost. Properly setting the number of estimators balances accuracy and computational efficiency.\n",
    "\n",
    "### Maximum Depth\n",
    "Maximum depth is the maximum number of levels each tree in the forest can have. This parameter controls the depth of the trees. Deeper trees can capture more detailed patterns but also increase the risk of overfitting. Limiting the maximum depth helps prevent overfitting while capturing essential interactions in the data.\n",
    "\n",
    "### Minimum Split Samples\n",
    "Minimum split samples refer to the minimum number of samples required to split an internal node. This parameter determines the smallest amount of data a node must have to consider splitting. Higher values prevent the model from learning overly specific patterns (overfitting) by ensuring splits are made only when there is sufficient data. Properly tuning this parameter helps maintain a balance between model complexity and generalization.\n"
   ]
  },
  {
   "cell_type": "markdown",
   "id": "16680213-faf9-4fba-af0d-d480ca776441",
   "metadata": {},
   "source": [
    "**Press ▶ to specify independent variables, train/test split, and the model parameter and to forecast the data.**"
   ]
  },
  {
   "cell_type": "code",
   "execution_count": null,
   "id": "f4a4f24b-18d5-4341-a398-29c6e7e1642c",
   "metadata": {},
   "outputs": [],
   "source": [
    "\n",
    "\n",
    "# Define widgets with adjusted layout\n",
    "index_range_slider = widgets.IntRangeSlider(\n",
    "    value=[0, min(500, len(data))],\n",
    "    min=0,\n",
    "    max=len(data),\n",
    "    step=1,\n",
    "    description='Index Range:',\n",
    "    layout=widgets.Layout(width='600px'),  # Increase width for better readability\n",
    "    style={'description_width': '150px'},  # Increase description width\n",
    "    continuous_update=False\n",
    ")\n",
    "\n",
    "feature_select = widgets.SelectMultiple(\n",
    "    options=tuple(col for col in data.columns if col != target),\n",
    "    value=tuple(col for col in data.columns if col != target),\n",
    "    description='Features:',\n",
    "    layout=widgets.Layout(width='600px', height='180px'),  # Increase width and height\n",
    "    style={'description_width': '150px'},  # Increase description width\n",
    "    disabled=False\n",
    ")\n",
    "\n",
    "train_size_slider = widgets.IntSlider(\n",
    "    value=80,\n",
    "    min=50,\n",
    "    max=95,\n",
    "    step=1,\n",
    "    description='Train %:',\n",
    "    layout=widgets.Layout(width='600px'),  # Increase width\n",
    "    style={'description_width': '150px'},  # Increase description width\n",
    "    continuous_update=False\n",
    ")\n",
    "\n",
    "# Random Forest parameter sliders\n",
    "n_estimators_slider = widgets.IntSlider(\n",
    "    value=100,\n",
    "    min=10,\n",
    "    max=500,\n",
    "    step=10,\n",
    "    description='Number of Estimators:',\n",
    "    layout=widgets.Layout(width='600px'),\n",
    "    style={'description_width': '200px'},\n",
    "    continuous_update=False\n",
    ")\n",
    "\n",
    "max_depth_slider = widgets.IntSlider(\n",
    "    value=10,\n",
    "    min=1,\n",
    "    max=50,\n",
    "    step=1,\n",
    "    description='Maximum Depth:',\n",
    "    layout=widgets.Layout(width='600px'),\n",
    "    style={'description_width': '200px'},\n",
    "    continuous_update=False\n",
    ")\n",
    "\n",
    "min_samples_split_slider = widgets.IntSlider(\n",
    "    value=2,\n",
    "    min=2,\n",
    "    max=20,\n",
    "    step=1,\n",
    "    description='Minimum Split Samples:',\n",
    "    layout=widgets.Layout(width='600px'),\n",
    "    style={'description_width': '200px'},\n",
    "    continuous_update=False\n",
    ")\n",
    "\n",
    "apply_button = widgets.Button(description=\"Apply Changes\", layout=widgets.Layout(width='800px'))\n",
    "\n",
    "# Define the function to apply changes and update the plots\n",
    "def apply_changes(b):\n",
    "    with output:\n",
    "        clear_output(wait=True)\n",
    "        \n",
    "        # Extract the parameters from widgets\n",
    "        index_range = index_range_slider.value\n",
    "        selected_features = list(feature_select.value)\n",
    "        train_size_pct = train_size_slider.value / 100\n",
    "        n_estimators = n_estimators_slider.value\n",
    "        max_depth = max_depth_slider.value\n",
    "        min_samples_split = min_samples_split_slider.value\n",
    "        \n",
    "        # Slice the data\n",
    "        df = data[index_range[0]:index_range[1]]\n",
    "        \n",
    "        # Prepare the data (assuming 'Interpolated Bead Area' is already in `df`)\n",
    "        X = df[selected_features]\n",
    "        y = df[target]\n",
    "        \n",
    "        # Train-test split\n",
    "        train_size = int(len(df) * train_size_pct)\n",
    "        X_train, X_test = X[:train_size], X[train_size:]\n",
    "        y_train, y_test = y[:train_size], y[train_size:]\n",
    "        \n",
    "        # Train the model\n",
    "        model = RandomForestRegressor(\n",
    "            n_estimators=n_estimators,\n",
    "            max_depth=max_depth,\n",
    "            min_samples_split=min_samples_split,\n",
    "            random_state=42\n",
    "        )\n",
    "        model.fit(X_train, y_train)\n",
    "        \n",
    "        # Predict on test data\n",
    "        y_pred = model.predict(X_test)\n",
    "        mse = mean_squared_error(y_test, y_pred)\n",
    "        display(HTML(f'<b>Mean Squared Error: {mse:.5f}</b>'))  # Display MSE in bold\n",
    "        \n",
    "        # Plot predicted vs actual\n",
    "        plt.figure(figsize=(10, 6))\n",
    "        plt.plot(y_train.index, y_train, label='Training', color='green')\n",
    "        plt.plot(y_test.index, y_test, label='Actual', color='blue')\n",
    "        plt.plot(y_test.index, y_pred, label='Predicted', color='red', linestyle='--')\n",
    "        plt.xlabel('Time')\n",
    "        plt.ylabel(target)\n",
    "        plt.title('Actual vs Predicted '+target)\n",
    "        plt.legend()\n",
    "        plt.show()\n",
    "        \n",
    "        # Calculate loss for each point\n",
    "        pointwise_mse_loss = (y_test - y_pred) ** 2\n",
    "        \n",
    "        # Plot the pointwise loss\n",
    "        plt.figure(figsize=(10, 6))\n",
    "        plt.plot(y_test.index, y_test, label='Actual', color='blue')\n",
    "        plt.plot(y_test.index, y_pred, label='Predicted', color='red', linestyle='--')\n",
    "        plt.plot(y_test.index, pointwise_mse_loss, label='Pointwise MSE Loss', color='orange')\n",
    "        plt.xlabel('Time')\n",
    "        plt.ylabel('MSE Loss')\n",
    "        plt.title('Pointwise MSE Loss of Predicted vs Actual '+target)\n",
    "        plt.legend()\n",
    "        plt.show()\n",
    "\n",
    "# Link the apply button to the function\n",
    "apply_button.on_click(apply_changes)\n",
    "\n",
    "# Display the widgets and the output area\n",
    "output = widgets.Output()\n",
    "\n",
    "display(index_range_slider, feature_select, train_size_slider, n_estimators_slider, max_depth_slider, min_samples_split_slider, apply_button, output)\n"
   ]
  },
  {
   "cell_type": "markdown",
   "id": "48cffd0e-7536-42c6-8879-1c798b87b51d",
   "metadata": {
    "editable": true,
    "slideshow": {
     "slide_type": ""
    },
    "tags": [
     "home-nav"
    ]
   },
   "source": [
    "### <center>[🏠 Home](../../../../welcomePage.ipynb)</center>"
   ]
  }
 ],
 "metadata": {
  "kernelspec": {
   "display_name": "Python 3 (ipykernel)",
   "language": "python",
   "name": "python3"
  },
  "language_info": {
   "codemirror_mode": {
    "name": "ipython",
    "version": 3
   },
   "file_extension": ".py",
   "mimetype": "text/x-python",
   "name": "python",
   "nbconvert_exporter": "python",
   "pygments_lexer": "ipython3",
   "version": "3.12.5"
  }
 },
 "nbformat": 4,
 "nbformat_minor": 5
}
