{
 "cells": [
  {
   "cell_type": "markdown",
   "id": "edba6848-5d32-42dc-864f-1c509532ba14",
   "metadata": {},
   "source": [
    "# ARIMA"
   ]
  },
  {
   "cell_type": "markdown",
   "id": "14185508-a5d5-4ce4-b0c9-c08212a22d8c",
   "metadata": {},
   "source": [
    "**ARIMA (AutoRegressive Integrated Moving Average)** is a popular statistical method for time series forecasting. ARIMA models are used to understand past data or predict future data points in a series.\n",
    "\n",
    "## Concept\n",
    "\n",
    "ARIMA models are composed of three main components:\n",
    "- **AR (AutoRegressive):** This part uses past values in the time series to predict future values based on a lagged relationship. The AR part involves terms like:\n",
    "  $$\n",
    "  \\phi_1 Y_{t-1} + \\phi_2 Y_{t-2} + \\ldots + \\phi_p Y_{t-p}\n",
    "  $$\n",
    "  where \\( Φ_i \\) represents the coefficients of the lagged observations.\n",
    "- **I (Integrated):** This represents the differencing of raw observations to make the time series stationary, i.e., data values are replaced by the difference between the data values and a previous value. The differencing can be represented as:\n",
    "  $$\n",
    "  (1 - L)^d Y_t\n",
    "  $$\n",
    "  where \\( L \\) is the lag operator, and \\( d \\) is the order of differencing.\n",
    "- **MA (Moving Average):** This involves modeling the error term as a combination of error terms from the past that move with time, expressed as:\n",
    "  $$\n",
    "  \\theta_1 \\epsilon_{t-1} + \\theta_2 \\epsilon_{t-2} + \\ldots + \\theta_q \\epsilon_{t-q}\n",
    "  $$\n",
    "  where \\( θ_i \\) are the coefficients of the moving average terms and \\( ε_t \\) are the error terms.\n",
    "\n",
    "## Model Notation\n",
    "\n",
    "ARIMA models are generally denoted as ARIMA(p, d, q) where:\n",
    "- **p:** The number of lag observations included in the model (lag order).\n",
    "- **d:** The number of times that the raw observations are differenced (degree of differencing).\n",
    "- **q:** The size of the moving average window (order of moving average).\n",
    "\n",
    "## Stationarity\n",
    "\n",
    "A key assumption of ARIMA is that the underlying data must be stationary. Stationarity means that the statistical properties such as mean, variance, and autocorrelation are all constant over time. Non-stationary behaviors can be trends, cycles, random walks, or combinations of the three.\n",
    "\n",
    "## Seasonal ARIMA (SARIMA)\n",
    "\n",
    "For seasonal effects, ARIMA models can be extended to SARIMA which incorporates seasonal elements into the model. These are denoted as SARIMA(p, d, q)(P, D, Q)[s] where:\n",
    "- **P, D, Q** represent the seasonal autoregressive order, differencing order, and moving average order, respectively.\n",
    "- **s:** The number of time steps for a single seasonal period.\n"
   ]
  },
  {
   "cell_type": "markdown",
   "id": "e21b5596-4253-4d7c-a2e7-bc6e396256b0",
   "metadata": {},
   "source": [
    "# Implemetation"
   ]
  },
  {
   "cell_type": "markdown",
   "id": "8340c1be-643a-4936-ac31-b74cdd5617d3",
   "metadata": {},
   "source": [
    "### Import Libraries"
   ]
  },
  {
   "cell_type": "markdown",
   "id": "6ac0a5e6-e690-4221-99c6-758c27b595c7",
   "metadata": {},
   "source": [
    "**Press ▶ to import the libraries.**"
   ]
  },
  {
   "cell_type": "code",
   "execution_count": null,
   "id": "ab575897-5411-47d3-916c-e9a933b41d16",
   "metadata": {
    "jupyter": {
     "source_hidden": true
    }
   },
   "outputs": [],
   "source": [
    "import pandas as pd\n",
    "import numpy as np\n",
    "import matplotlib.pyplot as plt\n",
    "import io\n",
    "import ipywidgets as widgets\n",
    "from IPython.display import display, clear_output\n",
    "\n",
    "from sklearn.metrics import mean_squared_error\n",
    "import matplotlib.pyplot as plt\n",
    "from IPython.display import display, clear_output, HTML\n",
    "from statsmodels.tsa.arima.model import ARIMA\n",
    "\n",
    "import warnings\n",
    "warnings.filterwarnings(\"ignore\")\n",
    "\n",
    "print(\"Libraries are imported.\")"
   ]
  },
  {
   "cell_type": "markdown",
   "id": "e08b85c6-10ec-49d9-9796-8cc4683ae546",
   "metadata": {},
   "source": [
    "### Import and show Data"
   ]
  },
  {
   "cell_type": "markdown",
   "id": "74fb6224-2788-4aaa-8959-941f1611fa5f",
   "metadata": {},
   "source": [
    "**Press ▶ to load the data.**"
   ]
  },
  {
   "cell_type": "code",
   "execution_count": null,
   "id": "2951babb-97c4-4324-b597-450f8faabf32",
   "metadata": {
    "jupyter": {
     "source_hidden": true
    }
   },
   "outputs": [],
   "source": [
    "import os\n",
    "import pandas as pd\n",
    "import ipywidgets as widgets\n",
    "from IPython.display import display, clear_output\n",
    "\n",
    "# List all .csv and Excel files in the current directory\n",
    "supported_extensions = ['.csv', '.xlsx', '.xls']\n",
    "files = [f for f in os.listdir('./Data') if any(f.endswith(ext) for ext in supported_extensions)]\n",
    "\n",
    "# Create a dropdown widget\n",
    "dropdown = widgets.Dropdown(\n",
    "    options=files,\n",
    "    description='Files:',\n",
    "    disabled=False,\n",
    ")\n",
    "\n",
    "# Create a button widget\n",
    "button = widgets.Button(\n",
    "    description='Select',\n",
    "    disabled=False,\n",
    "    button_style='',\n",
    "    tooltip='Click to select file',\n",
    "    icon='check'\n",
    ")\n",
    "\n",
    "# Output widget to display messages\n",
    "output = widgets.Output()\n",
    "\n",
    "# Function to handle button click\n",
    "def on_button_click(b):\n",
    "    with output:\n",
    "        clear_output()\n",
    "        selected_file = dropdown.value\n",
    "        global data\n",
    "        if selected_file.endswith('.csv'):\n",
    "            data = pd.read_csv(\"./Data/\" +selected_file)\n",
    "        elif selected_file.endswith(('.xlsx', '.xls')):\n",
    "            data = pd.read_excel(\"./Data/\" +selected_file)\n",
    "        print(f\"File '{selected_file}' uploaded as data.\")\n",
    "\n",
    "# Attach the function to the button widget\n",
    "button.on_click(on_button_click)\n",
    "\n",
    "# Display the dropdown, button widgets, and initial message within the output widget\n",
    "with output:\n",
    "    print(\"Please select a file from the dropdown and click 'Select'.\")\n",
    "display(output)\n",
    "display(dropdown)\n",
    "display(button)\n",
    "\n"
   ]
  },
  {
   "cell_type": "markdown",
   "id": "10957df2-868f-4bd5-85c1-e942cd6b4bff",
   "metadata": {},
   "source": [
    "**Press ▶ to display the data.**"
   ]
  },
  {
   "cell_type": "code",
   "execution_count": null,
   "id": "c17a59e8-9209-4d78-92a2-1f5517e89a06",
   "metadata": {
    "jupyter": {
     "source_hidden": true
    }
   },
   "outputs": [],
   "source": [
    "display(data.head())\n",
    "print (\"The data is composed of \", data.shape[0], \" rows and \", data.shape[1], \" columns.\")"
   ]
  },
  {
   "cell_type": "markdown",
   "id": "94c9ef90-d83c-4801-9b06-e069ae287da6",
   "metadata": {},
   "source": [
    "### Data Preprocessing"
   ]
  },
  {
   "cell_type": "markdown",
   "id": "bfc434c6-0442-4b8c-a69e-c5e9dd2709e1",
   "metadata": {},
   "source": [
    "**Press ▶ to select the target column.**"
   ]
  },
  {
   "cell_type": "code",
   "execution_count": null,
   "id": "e71bf97b-1936-4f55-88d8-ea664c480db6",
   "metadata": {
    "jupyter": {
     "source_hidden": true
    }
   },
   "outputs": [],
   "source": [
    "import ipywidgets as widgets\n",
    "import pandas as pd\n",
    "\n",
    "# Create a Dropdown widget for column selection\n",
    "dropdown = widgets.Dropdown(\n",
    "    options=data.columns.tolist(),\n",
    "    value=data.columns[0],\n",
    "    description='Select Target Column:',\n",
    "    disabled=False,\n",
    "    layout=widgets.Layout(width='500px'),\n",
    "    style={'description_width': '200px'}\n",
    ")\n",
    "\n",
    "# Create a Button widget\n",
    "button = widgets.Button(\n",
    "    description='Select',\n",
    "    button_style='',  # 'success', 'info', 'warning', 'danger' or ''\n",
    "    tooltip='Click to select the target column as the last column',\n",
    "    icon='check'  # FontAwesome icon names (without 'fa-')\n",
    ")\n",
    "\n",
    "# Create an Output widget for displaying messages\n",
    "output = widgets.Output()\n",
    "\n",
    "# Function to handle button click that rearranges the DataFrame\n",
    "def on_button_clicked(b):\n",
    "    with output:\n",
    "        output.clear_output()\n",
    "        global data\n",
    "        # Get the selected column name\n",
    "        selected_column = dropdown.value\n",
    "        # Reorder the DataFrame columns\n",
    "        new_columns = [col for col in data.columns if col != selected_column] + [selected_column]\n",
    "        data = data[new_columns]\n",
    "        print(f\"Column '{selected_column}' has been moved to the last position.\")\n",
    "\n",
    "# Link the button click event to the function\n",
    "button.on_click(on_button_clicked)\n",
    "\n",
    "# Display the widgets and output\n",
    "display(widgets.VBox([dropdown, button, output]))\n"
   ]
  },
  {
   "cell_type": "markdown",
   "id": "254ae75f-a708-4bc6-bd08-2694c945be95",
   "metadata": {},
   "source": [
    "**Press ▶ to save the target column name.**"
   ]
  },
  {
   "cell_type": "code",
   "execution_count": null,
   "id": "3a9014b1-607e-4aba-8e0a-936d47d899d1",
   "metadata": {
    "jupyter": {
     "source_hidden": true
    }
   },
   "outputs": [],
   "source": [
    "target = data.columns[-1]"
   ]
  },
  {
   "cell_type": "markdown",
   "id": "3f00e88d-9912-461b-a961-7ba58a56300a",
   "metadata": {},
   "source": [
    "## Predict Bead Area"
   ]
  },
  {
   "cell_type": "markdown",
   "id": "df301504-7988-4b88-b415-cb467540cb6b",
   "metadata": {},
   "source": [
    "## Parameters\n",
    "\n",
    "### AR Order (p)\n",
    "**Definition:** The number of lag observations included in the model (also called the lag order).\n",
    "\n",
    "**Explanation:** This parameter captures the relationship between an observation and a number of its lagged observations. For instance, if p = 2, the model will use the previous two observations to predict the current observation.\n",
    "\n",
    "**Importance:**\n",
    "- Helps capture the autocorrelation in the time series.\n",
    "- Useful for understanding the influence of previous observations on the current observation.\n",
    "\n",
    "### Difference Order (d)\n",
    "**Definition:** The number of times that the raw observations are differenced to make the time series stationary.\n",
    "\n",
    "**Explanation:** Differencing involves subtracting the previous observation from the current observation. If d = 1, the model will use the differences between consecutive observations to stabilize the mean of the time series.\n",
    "\n",
    "**Importance:**\n",
    "- Essential for transforming a non-stationary time series into a stationary one.\n",
    "- Helps remove trends and seasonality, making the series easier to model with linear methods.\n",
    "\n",
    "### MA Order (q)\n",
    "**Definition:** The number of lagged forecast errors in the prediction equation (also called the moving average order).\n",
    "\n",
    "**Explanation:** This parameter captures the dependency between an observation and a residual error from a moving average model applied to lagged observations. For example, if q = 1, the model will use the previous forecast error in the prediction of the current observation.\n",
    "\n",
    "**Importance:**\n",
    "- Helps capture the error of the model as a linear combination of error terms from past observations.\n",
    "- Useful for understanding and modeling the residual errors in the time series.\n",
    "\n",
    "## Summary\n",
    "The AR (p), differencing (d), and MA (q) parameters collectively determine the complexity and accuracy of an ARIMA model. Selecting the right combination of these parameters is key to building a robust model that can effectively forecast future values in a time series.\n",
    "\n",
    "Understanding these parameters enables you to:\n",
    "- Identify the appropriate model for your data.\n",
    "- Improve forecast accuracy.\n",
    "- Gain insights into the underlying patterns and structures in your time series data.\n"
   ]
  },
  {
   "cell_type": "markdown",
   "id": "cb6c2056-73d2-49ad-8e3d-d4987a436a23",
   "metadata": {},
   "source": [
    "**Press ▶ to set the model parameters and forecast the data.**"
   ]
  },
  {
   "cell_type": "code",
   "execution_count": null,
   "id": "e7ccd4af-6b52-4d0b-abec-2d0a2a14c65c",
   "metadata": {
    "jupyter": {
     "source_hidden": true
    }
   },
   "outputs": [],
   "source": [
    "window = 100\n",
    "\n",
    "# Define widgets with adjusted layout\n",
    "index_range_slider = widgets.IntRangeSlider(\n",
    "    value=[0, min(500, len(data))],\n",
    "    min=0,\n",
    "    max=len(data),\n",
    "    step=1,\n",
    "    description='Index Range:',\n",
    "    layout=widgets.Layout(width='600px'),  # Increase width for better readability\n",
    "    style={'description_width': '150px'},  # Increase description width\n",
    "    continuous_update=False\n",
    ")\n",
    "\n",
    "train_size_slider = widgets.IntSlider(\n",
    "    value=80,\n",
    "    min=50,\n",
    "    max=95,\n",
    "    step=1,\n",
    "    description='Train %:',\n",
    "    layout=widgets.Layout(width='600px'),  # Increase width\n",
    "    style={'description_width': '150px'},  # Increase description width\n",
    "    continuous_update=False\n",
    ")\n",
    "\n",
    "# ARIMA parameter sliders\n",
    "p_slider = widgets.IntSlider(\n",
    "    value=5,\n",
    "    min=0,\n",
    "    max=10,\n",
    "    step=1,\n",
    "    description='AR Order (p):',\n",
    "    layout=widgets.Layout(width='600px'),\n",
    "    style={'description_width': '150px'},\n",
    "    continuous_update=False\n",
    ")\n",
    "\n",
    "d_slider = widgets.IntSlider(\n",
    "    value=1,\n",
    "    min=0,\n",
    "    max=2,\n",
    "    step=1,\n",
    "    description='Difference Order (d):',\n",
    "    layout=widgets.Layout(width='600px'),\n",
    "    style={'description_width': '150px'},\n",
    "    continuous_update=False\n",
    ")\n",
    "\n",
    "q_slider = widgets.IntSlider(\n",
    "    value=0,\n",
    "    min=0,\n",
    "    max=10,\n",
    "    step=1,\n",
    "    description='MA Order (q):',\n",
    "    layout=widgets.Layout(width='600px'),\n",
    "    style={'description_width': '150px'},\n",
    "    continuous_update=False\n",
    ")\n",
    "\n",
    "# Slider to control future prediction steps\n",
    "future_steps_slider = widgets.IntSlider(\n",
    "    value=10,\n",
    "    min=0,\n",
    "    max=100,\n",
    "    step=1,\n",
    "    description='Future Steps:',\n",
    "    layout=widgets.Layout(width='600px'),\n",
    "    style={'description_width': '150px'},\n",
    "    continuous_update=False)\n",
    "\n",
    "apply_button = widgets.Button(description=\"Apply Changes\", layout=widgets.Layout(width='800px'))\n",
    "\n",
    "# Define the function to apply changes and update the plots\n",
    "def apply_changes(b):\n",
    "    with output:\n",
    "        clear_output(wait=True)\n",
    "        \n",
    "        # Extract the parameters from widgets\n",
    "        index_range = index_range_slider.value\n",
    "        train_size_pct = train_size_slider.value / 100\n",
    "        p = p_slider.value\n",
    "        d = d_slider.value\n",
    "        q = q_slider.value\n",
    "        future_steps = future_steps_slider.value\n",
    "        \n",
    "        # Slice the data\n",
    "        df = data[index_range[0]:index_range[1]]\n",
    "        \n",
    "        # Prepare the data\n",
    "        y = df[target]\n",
    "        \n",
    "        # Train-test split\n",
    "        train_size = int(len(df) * train_size_pct)\n",
    "        y_train, y_test = y[:train_size], y[train_size:train_size+future_steps]\n",
    "        \n",
    "        # Fit ARIMA model on training data\n",
    "        model = ARIMA(y_train, order=(p, d, q))\n",
    "        model_fit = model.fit()\n",
    "\n",
    "        # Forecast on the test data and beyond\n",
    "        forecast_steps = window  # 10 additional future steps\n",
    "        forecast = model_fit.forecast(steps=forecast_steps)\n",
    "        \n",
    "        # Extract predictions for test data\n",
    "        y_pred = forecast[:future_steps]\n",
    "        #future_predictions = forecast[len(y_test):]\n",
    "        \n",
    "        mse = mean_squared_error(y_test, y_pred)\n",
    "        display(HTML(f'<b>Mean Squared Error: {mse:.5f}</b>'))  # Display MSE in bold\n",
    "        \n",
    "        # Plot predicted vs actual\n",
    "        plt.figure(figsize=(10, 6))\n",
    "        plt.plot(y_train.index, y_train, label='Training', color='green')\n",
    "        plt.plot(y_test.index, y_test, label='Actual', color='blue')\n",
    "        plt.plot(y_test.index, y_pred, label='Predicted', color='red', linestyle='--')\n",
    "        plt.axvline(x=y_test.index[-1], color='gray', linestyle='--')  # Mark the end of actual test data\n",
    "        #future_index = range(y_test.index[-1] + 1, y_test.index[-1] + 1 + len(future_predictions))\n",
    "        #plt.plot(future_index, future_predictions, label='Future Predictions', color='green', linestyle='--')\n",
    "        plt.xlabel('Time')\n",
    "        plt.ylabel(target)\n",
    "        plt.title('Actual vs Predicted '+target)\n",
    "        plt.legend()\n",
    "        plt.show()\n",
    "        \n",
    "        # Calculate loss for each point\n",
    "        pointwise_mse_loss = (y_test.values - y_pred) ** 2  # Match dimension with y_test\n",
    "        \n",
    "        # Plot the pointwise loss\n",
    "        plt.figure(figsize=(10, 6))\n",
    "        plt.plot(y_test.index, y_test, label='Actual', color='blue')\n",
    "        plt.plot(y_test.index, y_pred, label='Predicted', color='red', linestyle='--')\n",
    "        plt.plot(y_test.index, pointwise_mse_loss, label='Pointwise MSE Loss', color='orange')\n",
    "        plt.xlabel('Time')\n",
    "        plt.ylabel('MSE Loss')\n",
    "        plt.title('Pointwise MSE Loss of Predicted vs Actual '+target)\n",
    "        plt.legend()\n",
    "        plt.show()\n",
    "\n",
    "# Link the apply button to the function\n",
    "apply_button.on_click(apply_changes)\n",
    "\n",
    "# Display the widgets and the output area\n",
    "output = widgets.Output()\n",
    "\n",
    "display(index_range_slider, train_size_slider, p_slider, d_slider, q_slider, future_steps_slider, apply_button, output)\n"
   ]
  },
  {
   "cell_type": "markdown",
   "id": "956ecee4",
   "metadata": {},
   "source": [
    "## [🏠 Home](../../../welcomePage.ipynb)"
   ]
  }
 ],
 "metadata": {
  "kernelspec": {
   "display_name": "Python 3 (ipykernel)",
   "language": "python",
   "name": "python3"
  },
  "language_info": {
   "codemirror_mode": {
    "name": "ipython",
    "version": 3
   },
   "file_extension": ".py",
   "mimetype": "text/x-python",
   "name": "python",
   "nbconvert_exporter": "python",
   "pygments_lexer": "ipython3",
   "version": "3.11.5"
  }
 },
 "nbformat": 4,
 "nbformat_minor": 5
}
