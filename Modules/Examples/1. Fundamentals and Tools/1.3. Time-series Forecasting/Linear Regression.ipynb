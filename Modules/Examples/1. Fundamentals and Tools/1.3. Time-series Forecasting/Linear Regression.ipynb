{
 "cells": [
  {
   "cell_type": "markdown",
   "metadata": {
    "tags": [
     "auto-generated-toc"
    ]
   },
   "source": [
    "## Table of Contents\n\n- [Multiple Linear Regression](#Multiple-Linear-Regression)\n  - [Formula](#Formula)\n  - [Assumptions](#Assumptions)\n  - [Types](#Types)\n- [Implementation](#Implementation)\n- [🏠 Home](../../welcomePage.ipynb)"
   ]
  },
  {
   "cell_type": "markdown",
   "id": "428706e2-b7a8-46d0-9b9f-2764f2fa7103",
   "metadata": {},
   "source": [
    "# Multiple Linear Regression"
   ]
  },
  {
   "cell_type": "markdown",
   "id": "13c7c859-43f5-42a3-8147-c81c565f2cea",
   "metadata": {},
   "source": [
    "**Linear Regression** is a statistical method used to model the relationship between a dependent variable and one or more independent variables. The goal of linear tip is to find a linear equation that best predicts the dependent variable from the independent variables.\n",
    "\n",
    "## Formula\n",
    "\n",
    "The equation for a linear regression line is:\n",
    "\n",
    "$$\n",
    "y = \\beta_0 + \\beta_1x_1 + \\beta_2x_2 + \\dots + \\beta_nx_n + \\epsilon\n",
    "$$\n",
    "\n",
    "where:\n",
    "-  𝑦  is the dependent variable,\n",
    "-  𝛽_0, 𝛽_1, 𝛽_2, ..., 𝛽_n  are the coefficients,\n",
    "- 𝑋_1, 𝑋_2, ..., 𝑋_n are the independent variables,\n",
    "- 𝜖 is the error term, which accounts for the variability in 𝑦 not explained by the independent variables.\n",
    "\n",
    "## Assumptions\n",
    "\n",
    "Linear regression assumes:\n",
    "1. **Linearity:** The relationship between the predictors and the response is linear.\n",
    "2. **No multicollinearity:** Predictors are not perfectly collinear or highly correlated.\n",
    "3. **Homoscedasticity:** The variance of residual is the same for any value of the predictors.\n",
    "4. **Independence:** Observations are independent of each other.\n",
    "5. **Normality:** For any fixed value of X, Y is normally distributed.\n",
    "\n",
    "## Types\n",
    "\n",
    "There are two main types of linear regression:\n",
    "- **Simple Linear Regression:** Only one independent variable is used to predict the dependent variable. It models the relationship between the dependent variable and one independent variable using a linear equation.\n",
    "- **Multiple Linear Regression:** More than one independent variable is used to predict the dependent variable.\n"
   ]
  },
  {
   "cell_type": "markdown",
   "id": "2d2dd2b1-0eb8-42de-9848-9fcefa057d66",
   "metadata": {},
   "source": [
    "# Implementation"
   ]
  },
  {
   "cell_type": "markdown",
   "id": "73bfc21f-d214-49cb-b218-4da348e61316",
   "metadata": {},
   "source": [
    "### Import Libraries"
   ]
  },
  {
   "cell_type": "markdown",
   "id": "d5017902-47c3-4061-8332-2b001ac7c83c",
   "metadata": {},
   "source": [
    "**Press ▶ to import libraries.**"
   ]
  },
  {
   "cell_type": "code",
   "execution_count": null,
   "id": "ab575897-5411-47d3-916c-e9a933b41d16",
   "metadata": {
    "jupyter": {
     "source_hidden": true
    }
   },
   "outputs": [],
   "source": [
    "import pandas as pd\n",
    "import numpy as np\n",
    "import matplotlib.pyplot as plt\n",
    "import io\n",
    "import ipywidgets as widgets\n",
    "from IPython.display import display, clear_output, HTML\n",
    "\n",
    "from sklearn.model_selection import train_test_split\n",
    "from sklearn.linear_model import LinearRegression\n",
    "from sklearn.metrics import mean_squared_error\n",
    "import matplotlib.pyplot as plt\n",
    "\n",
    "import warnings\n",
    "warnings.filterwarnings(\"ignore\")\n",
    "\n",
    "print(\"Libraries are imported.\")"
   ]
  },
  {
   "cell_type": "markdown",
   "id": "b00d5e42-27fb-4c3f-aa2a-45f1306f56c4",
   "metadata": {},
   "source": [
    "### Import and show Data"
   ]
  },
  {
   "cell_type": "markdown",
   "id": "43c31801-82ac-403a-bfc4-11385c11cbd3",
   "metadata": {},
   "source": [
    "**Press ▶ to load data.**"
   ]
  },
  {
   "cell_type": "code",
   "execution_count": null,
   "id": "c17a59e8-9209-4d78-92a2-1f5517e89a06",
   "metadata": {
    "jupyter": {
     "source_hidden": true
    }
   },
   "outputs": [],
   "source": [
    "import os\n",
    "import pandas as pd\n",
    "import ipywidgets as widgets\n",
    "from IPython.display import display, clear_output\n",
    "\n",
    "# List all .csv and Excel files in the current directory\n",
    "supported_extensions = ['.csv', '.xlsx', '.xls']\n",
    "files = [f for f in os.listdir('./Data') if any(f.endswith(ext) for ext in supported_extensions)]\n",
    "\n",
    "# Create a dropdown widget\n",
    "dropdown = widgets.Dropdown(\n",
    "    options=files,\n",
    "    description='Files:',\n",
    "    disabled=False,\n",
    ")\n",
    "\n",
    "# Create a button widget\n",
    "button = widgets.Button(\n",
    "    description='Select',\n",
    "    disabled=False,\n",
    "    button_style='',\n",
    "    tooltip='Click to select file',\n",
    "    icon='check'\n",
    ")\n",
    "\n",
    "# Output widget to display messages\n",
    "output = widgets.Output()\n",
    "\n",
    "# Function to handle button click\n",
    "def on_button_click(b):\n",
    "    with output:\n",
    "        clear_output()\n",
    "        selected_file = dropdown.value\n",
    "        global data\n",
    "        if selected_file.endswith('.csv'):\n",
    "            data = pd.read_csv(\"./Data/\" +selected_file)\n",
    "        elif selected_file.endswith(('.xlsx', '.xls')):\n",
    "            data = pd.read_excel(\"./Data/\" +selected_file)\n",
    "        print(f\"File '{selected_file}' uploaded as data.\")\n",
    "\n",
    "# Attach the function to the button widget\n",
    "button.on_click(on_button_click)\n",
    "\n",
    "# Display the dropdown, button widgets, and initial message within the output widget\n",
    "with output:\n",
    "    print(\"Please select a file from the dropdown and click 'Select'.\")\n",
    "display(output)\n",
    "display(dropdown)\n",
    "display(button)\n",
    "\n"
   ]
  },
  {
   "cell_type": "markdown",
   "id": "ed7ca6bd-f6fc-4bf0-9618-d25369cdfc4f",
   "metadata": {},
   "source": [
    "**Press ▶ to display the data.**"
   ]
  },
  {
   "cell_type": "code",
   "execution_count": null,
   "id": "4119b76a-b1fd-41d7-9b60-9df11cc272eb",
   "metadata": {
    "jupyter": {
     "source_hidden": true
    }
   },
   "outputs": [],
   "source": [
    "display(data.head())\n",
    "print (\"The data is composed of \", data.shape[0], \" rows and \", data.shape[1], \" columns.\")"
   ]
  },
  {
   "cell_type": "markdown",
   "id": "e412f69e-c5d5-4ba4-ba02-2e339de25b9f",
   "metadata": {},
   "source": [
    "### Data Preprocessing"
   ]
  },
  {
   "cell_type": "markdown",
   "id": "dafe8d94-c3cf-41b9-bd37-abc121fc668a",
   "metadata": {},
   "source": [
    "**Press ▶ to specify the target column.**"
   ]
  },
  {
   "cell_type": "code",
   "execution_count": null,
   "id": "a4d61216-a08b-4430-a3f5-d377cea73aac",
   "metadata": {
    "jupyter": {
     "source_hidden": true
    }
   },
   "outputs": [],
   "source": [
    "import ipywidgets as widgets\n",
    "import pandas as pd\n",
    "\n",
    "# Create a Dropdown widget for column selection\n",
    "dropdown = widgets.Dropdown(\n",
    "    options=data.columns.tolist(),\n",
    "    value=data.columns[0],\n",
    "    description='Select Target Column:',\n",
    "    disabled=False,\n",
    "    layout=widgets.Layout(width='500px'),\n",
    "    style={'description_width': '200px'}\n",
    ")\n",
    "\n",
    "# Create a Button widget\n",
    "button = widgets.Button(\n",
    "    description='Select',\n",
    "    button_style='',  # 'success', 'info', 'warning', 'danger' or ''\n",
    "    tooltip='Click to select the target column as the last column',\n",
    "    icon='check'  # FontAwesome icon names (without 'fa-')\n",
    ")\n",
    "\n",
    "# Create an Output widget for displaying messages\n",
    "output = widgets.Output()\n",
    "\n",
    "# Function to handle button click that rearranges the DataFrame\n",
    "def on_button_clicked(b):\n",
    "    with output:\n",
    "        output.clear_output()\n",
    "        global data\n",
    "        # Get the selected column name\n",
    "        selected_column = dropdown.value\n",
    "        # Reorder the DataFrame columns\n",
    "        new_columns = [col for col in data.columns if col != selected_column] + [selected_column]\n",
    "        data = data[new_columns]\n",
    "        print(f\"Column '{selected_column}' has been moved to the last position.\")\n",
    "\n",
    "# Link the button click event to the function\n",
    "button.on_click(on_button_clicked)\n",
    "\n",
    "# Display the widgets and output\n",
    "display(widgets.VBox([dropdown, button, output]))\n"
   ]
  },
  {
   "cell_type": "markdown",
   "id": "27207af7-73c7-4f87-88c7-38c962bb4168",
   "metadata": {},
   "source": [
    "**Press ▶ to create a lagged target column.**"
   ]
  },
  {
   "cell_type": "code",
   "execution_count": null,
   "id": "3671ef84-3613-4516-92b5-7590e5bfc835",
   "metadata": {
    "jupyter": {
     "source_hidden": true
    }
   },
   "outputs": [],
   "source": [
    "target = data.columns[-1]\n",
    "data['Target_Lag1'] = data.iloc[:, -1].shift(1)\n",
    "\n",
    "\n",
    "data.dropna(inplace=True)"
   ]
  },
  {
   "cell_type": "markdown",
   "id": "ce1d1f1b-0240-4ba0-a085-5ff438b4703b",
   "metadata": {},
   "source": [
    "### Predict Bead Area"
   ]
  },
  {
   "cell_type": "markdown",
   "id": "53e99e5a-6805-4eb0-a2a5-f72f795d32fe",
   "metadata": {},
   "source": [
    "**Press ▶ to specify independent variables and train/test split and to forecast the data.**"
   ]
  },
  {
   "cell_type": "code",
   "execution_count": null,
   "id": "a5a8be3f-b76c-45cd-985d-14dc69879864",
   "metadata": {
    "jupyter": {
     "source_hidden": true
    }
   },
   "outputs": [],
   "source": [
    "# Load your dataset\n",
    "# Assume `data` is your full dataset loaded as a DataFrame\n",
    "# data = pd.read_csv('your_dataset.csv')  # Replace with your data loading code\n",
    "\n",
    "# Define widgets with adjusted layout\n",
    "index_range_slider = widgets.IntRangeSlider(\n",
    "    value=[0, min(7000, len(data))],\n",
    "    min=0,\n",
    "    max=len(data),\n",
    "    step=1,\n",
    "    description='Index Range:',\n",
    "    layout=widgets.Layout(width='600px'),  # Increase width for better readability\n",
    "    style={'description_width': '150px'},  # Increase description width\n",
    "    continuous_update=False\n",
    ")\n",
    "\n",
    "feature_select = widgets.SelectMultiple(\n",
    "    options=tuple(col for col in data.columns if col != target),\n",
    "    value=tuple(col for col in data.columns if col != target),\n",
    "    description='Features:',\n",
    "    layout=widgets.Layout(width='600px', height='180px'),  # Increase width and height\n",
    "    style={'description_width': '150px'},  # Increase description width\n",
    "    disabled=False\n",
    ")\n",
    "\n",
    "train_size_slider = widgets.IntSlider(\n",
    "    value=80,\n",
    "    min=50,\n",
    "    max=95,\n",
    "    step=1,\n",
    "    description='Train %:',\n",
    "    layout=widgets.Layout(width='600px'),  # Increase width\n",
    "    style={'description_width': '150px'},  # Increase description width\n",
    "    continuous_update=False\n",
    ")\n",
    "\n",
    "apply_button = widgets.Button(description=\"Apply Changes\", layout=widgets.Layout(width='800px'))\n",
    "\n",
    "# Define the function to apply changes and update the plots\n",
    "def apply_changes(b):\n",
    "    with output:\n",
    "        clear_output(wait=True)\n",
    "        \n",
    "        # Extract the parameters from widgets\n",
    "        index_range = index_range_slider.value\n",
    "        selected_features = list(feature_select.value)\n",
    "        train_size_pct = train_size_slider.value / 100\n",
    "        \n",
    "        # Slice the data\n",
    "        df = data[index_range[0]:index_range[1]]\n",
    "        \n",
    "        # Prepare the data (assuming 'Interpolated Bead Area' is already in `df`)\n",
    "        X = df[selected_features]\n",
    "        y = df[target]\n",
    "        \n",
    "        # Train-test split\n",
    "        train_size = int(len(df) * train_size_pct)\n",
    "        X_train, X_test = X[:train_size], X[train_size:]\n",
    "        y_train, y_test = y[:train_size], y[train_size:]\n",
    "        \n",
    "        # Train the model\n",
    "        model = LinearRegression()\n",
    "        model.fit(X_train, y_train)\n",
    "        \n",
    "        # Predict on test data\n",
    "        y_pred = model.predict(X_test)\n",
    "        mse = mean_squared_error(y_test, y_pred)\n",
    "        display(HTML(f'<b>Mean Squared Error: {mse:.5f}</b>'))  # Display MSE in bold\n",
    "        \n",
    "        # Plot predicted vs actual\n",
    "        plt.figure(figsize=(10, 6))\n",
    "        plt.plot(y_train.index, y_train, label='Training', color='green')\n",
    "        plt.plot(y_test.index, y_test, label='Actual', color='blue')\n",
    "        plt.plot(y_test.index, y_pred, label='Predicted', color='red', linestyle='--')\n",
    "        plt.xlabel('Time')\n",
    "        plt.ylabel(target)\n",
    "        plt.title('Actual vs Predicted '+target)\n",
    "        plt.legend()\n",
    "        plt.show()\n",
    "        \n",
    "        # Calculate loss for each point\n",
    "        pointwise_mse_loss = (y_test - y_pred) ** 2\n",
    "        \n",
    "        # Plot the pointwise loss\n",
    "        plt.figure(figsize=(10, 6))\n",
    "        plt.plot(y_test.index, y_test, label='Actual', color='blue')\n",
    "        plt.plot(y_test.index, y_pred, label='Predicted', color='red', linestyle='--')\n",
    "        plt.plot(y_test.index, pointwise_mse_loss, label='Pointwise MSE Loss', color='orange')\n",
    "        plt.xlabel('Time')\n",
    "        plt.ylabel('MSE Loss')\n",
    "        plt.title('Pointwise MSE Loss of Predicted vs Actual '+target)\n",
    "        plt.legend()\n",
    "        plt.show()\n",
    "\n",
    "# Link the apply button to the function\n",
    "apply_button.on_click(apply_changes)\n",
    "\n",
    "# Display the widgets and the output area\n",
    "output = widgets.Output()\n",
    "\n",
    "display(index_range_slider, feature_select, train_size_slider, apply_button, output)\n"
   ]
  }
 ],
 "metadata": {
  "kernelspec": {
   "display_name": "Python 3 (ipykernel)",
   "language": "python",
   "name": "python3"
  },
  "language_info": {
   "codemirror_mode": {
    "name": "ipython",
    "version": 3
   },
   "file_extension": ".py",
   "mimetype": "text/x-python",
   "name": "python",
   "nbconvert_exporter": "python",
   "pygments_lexer": "ipython3",
   "version": "3.12.3"
  }
 },
 "nbformat": 4,
 "nbformat_minor": 5
}
