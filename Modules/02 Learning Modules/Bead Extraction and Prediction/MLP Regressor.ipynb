{
 "cells": [
  {
   "cell_type": "markdown",
   "id": "d69ce6f6-d0c4-46c0-9644-9e7cbddf9699",
   "metadata": {},
   "source": [
    "# MLP Regressor"
   ]
  },
  {
   "cell_type": "markdown",
   "id": "357765b3-4478-421a-bb17-0daa8d6186a6",
   "metadata": {},
   "source": [
    "**Multi-Layer Perceptron (MLP) Regressor** is a type of artificial neural network used in supervised learning tasks where the goal is to predict a continuous dependent variable. MLPs are capable of learning complex patterns using multiple layers and neurons.\n",
    "\n",
    "## Concept\n",
    "\n",
    "MLP consists of at least three layers of nodes: an input layer, a hidden layer, and an output layer. Except for the input nodes, each node is a neuron that uses a nonlinear activation function. MLP utilizes a technique called backpropagation for training the network.\n",
    "\n",
    "## Architecture\n",
    "\n",
    "- **Input Layer:** Receives the feature set as inputs which are then passed to the first hidden layer.\n",
    "- **Hidden Layers:** Each hidden layer transforms the inputs from the previous layer based on weights, biases, and activation functions. MLP can have one or more hidden layers.\n",
    "- **Output Layer:** Produces the final output of the network. In the case of regression, it typically has a single neuron for single-target regression or multiple neurons for multi-target regression.\n",
    "\n",
    "## Key Parameters\n",
    "\n",
    "- $n_{\\text{hidden}}$: Number of neurons in the hidden layers.\n",
    "- $\\text{activation}$: The activation function for the neurons, typically ReLU, sigmoid, or tanh.\n",
    "- $\\text{solver}$: The algorithm for weight optimization, such as SGD, Adam, or LBFGS.\n",
    "- $\\text{learning\\_rate}$: Determines the step size at each iteration while moving toward a minimum of a loss function.\n",
    "- $\\text{max\\_iter}$: Maximum number of iterations. The solver iterates until convergence or this number of iterations.\n",
    "- $\\alpha$: L2 penalty (regularization term) parameter. A higher value of $\\alpha$ increases the regularization strength, which helps reduce overfitting but can make the network less sensitive to the training data.\n",
    "\n",
    "\n",
    "## Training Process\n",
    "\n",
    "1. **Forward Propagation:** Compute the predicted output $\\hat{y}$, using the current weights and biases in the network layers.\n",
    "2. **Calculate Loss:** The difference between the actual output $y$ and predicted output $\\hat{y}$ using a loss function, typically Mean Squared Error (MSE) for regression.\n",
    "3. **Backpropagation:** Update the weights and biases in the network in a way that minimizes the loss.\n",
    "\n",
    "## Advantages\n",
    "\n",
    "- Capable of modeling highly non-linear functions.\n",
    "- Flexible to model various types of responses through the choice of activation and loss functions.\n",
    "- Suitable for large datasets and complex feature interactions.\n",
    "\n",
    "## Applications\n",
    "\n",
    "MLP is widely used in:\n",
    "- Predicting energy consumption,\n",
    "- Stock market predictions,\n",
    "- Real estate price forecasting,\n",
    "- Any complex regression tasks in quantitative finance and economics.\n"
   ]
  },
  {
   "cell_type": "markdown",
   "id": "b71e448d-f9a5-473e-bf29-684f4c4c61f6",
   "metadata": {},
   "source": [
    "# Implementation"
   ]
  },
  {
   "cell_type": "markdown",
   "id": "7e5e80ff-10cc-4de5-9672-66c6cc7b6da7",
   "metadata": {},
   "source": [
    "### Import Libraries"
   ]
  },
  {
   "cell_type": "code",
   "execution_count": 4,
   "id": "ab575897-5411-47d3-916c-e9a933b41d16",
   "metadata": {},
   "outputs": [],
   "source": [
    "# import pandas as pd\n",
    "import numpy as np\n",
    "import pandas as pd\n",
    "import matplotlib.pyplot as plt\n",
    "import io\n",
    "import ipywidgets as widgets\n",
    "from IPython.display import display, clear_output\n",
    "\n",
    "from sklearn.neural_network import MLPRegressor\n",
    "from sklearn.metrics import mean_squared_error\n",
    "from IPython.display import display, clear_output, HTML\n",
    "\n",
    "import warnings\n",
    "warnings.filterwarnings(\"ignore\")"
   ]
  },
  {
   "cell_type": "markdown",
   "id": "31e00fc9-789b-4b07-a89b-23c95941b43a",
   "metadata": {},
   "source": [
    "### Import and show Data"
   ]
  },
  {
   "cell_type": "code",
   "execution_count": 5,
   "id": "c17a59e8-9209-4d78-92a2-1f5517e89a06",
   "metadata": {
    "jupyter": {
     "source_hidden": true
    }
   },
   "outputs": [
    {
     "data": {
      "text/html": [
       "<div>\n",
       "<style scoped>\n",
       "    .dataframe tbody tr th:only-of-type {\n",
       "        vertical-align: middle;\n",
       "    }\n",
       "\n",
       "    .dataframe tbody tr th {\n",
       "        vertical-align: top;\n",
       "    }\n",
       "\n",
       "    .dataframe thead th {\n",
       "        text-align: right;\n",
       "    }\n",
       "</style>\n",
       "<table border=\"1\" class=\"dataframe\">\n",
       "  <thead>\n",
       "    <tr style=\"text-align: right;\">\n",
       "      <th></th>\n",
       "      <th>Time</th>\n",
       "      <th>Position Feedback</th>\n",
       "      <th>Velocity Feedback from Axis 1</th>\n",
       "      <th>Velocity Feedback from Axis 2</th>\n",
       "      <th>Temperature</th>\n",
       "      <th>Current Feedback</th>\n",
       "      <th>Interpolated Bead Area</th>\n",
       "    </tr>\n",
       "  </thead>\n",
       "  <tbody>\n",
       "    <tr>\n",
       "      <th>0</th>\n",
       "      <td>0.056</td>\n",
       "      <td>15.567</td>\n",
       "      <td>11.178</td>\n",
       "      <td>6.4952</td>\n",
       "      <td>1.1173</td>\n",
       "      <td>1.2309</td>\n",
       "      <td>1.1184</td>\n",
       "    </tr>\n",
       "    <tr>\n",
       "      <th>1</th>\n",
       "      <td>0.057</td>\n",
       "      <td>15.579</td>\n",
       "      <td>11.257</td>\n",
       "      <td>6.4952</td>\n",
       "      <td>1.1175</td>\n",
       "      <td>1.2735</td>\n",
       "      <td>1.1191</td>\n",
       "    </tr>\n",
       "    <tr>\n",
       "      <th>2</th>\n",
       "      <td>0.058</td>\n",
       "      <td>15.590</td>\n",
       "      <td>11.375</td>\n",
       "      <td>3.2476</td>\n",
       "      <td>1.1175</td>\n",
       "      <td>1.1567</td>\n",
       "      <td>1.1198</td>\n",
       "    </tr>\n",
       "    <tr>\n",
       "      <th>3</th>\n",
       "      <td>0.059</td>\n",
       "      <td>15.601</td>\n",
       "      <td>11.324</td>\n",
       "      <td>6.4952</td>\n",
       "      <td>1.1173</td>\n",
       "      <td>1.2975</td>\n",
       "      <td>1.1205</td>\n",
       "    </tr>\n",
       "    <tr>\n",
       "      <th>4</th>\n",
       "      <td>0.060</td>\n",
       "      <td>15.613</td>\n",
       "      <td>11.285</td>\n",
       "      <td>6.4952</td>\n",
       "      <td>1.1173</td>\n",
       "      <td>1.2168</td>\n",
       "      <td>1.1212</td>\n",
       "    </tr>\n",
       "  </tbody>\n",
       "</table>\n",
       "</div>"
      ],
      "text/plain": [
       "    Time  Position Feedback  Velocity Feedback from Axis 1  \\\n",
       "0  0.056             15.567                         11.178   \n",
       "1  0.057             15.579                         11.257   \n",
       "2  0.058             15.590                         11.375   \n",
       "3  0.059             15.601                         11.324   \n",
       "4  0.060             15.613                         11.285   \n",
       "\n",
       "   Velocity Feedback from Axis 2  Temperature  Current Feedback  \\\n",
       "0                         6.4952       1.1173            1.2309   \n",
       "1                         6.4952       1.1175            1.2735   \n",
       "2                         3.2476       1.1175            1.1567   \n",
       "3                         6.4952       1.1173            1.2975   \n",
       "4                         6.4952       1.1173            1.2168   \n",
       "\n",
       "   Interpolated Bead Area  \n",
       "0                  1.1184  \n",
       "1                  1.1191  \n",
       "2                  1.1198  \n",
       "3                  1.1205  \n",
       "4                  1.1212  "
      ]
     },
     "metadata": {},
     "output_type": "display_data"
    },
    {
     "name": "stdout",
     "output_type": "stream",
     "text": [
      "The data is composed of  295568  rows and  7  columns.\n"
     ]
    }
   ],
   "source": [
    "data = pd.read_csv('./Data/BeadArea.csv')\n",
    "display(data.head())\n",
    "print (\"The data is composed of \", data.shape[0], \" rows and \", data.shape[1], \" columns.\")"
   ]
  },
  {
   "cell_type": "markdown",
   "id": "578deddf-ed2d-4f9b-a332-3af1109099e7",
   "metadata": {},
   "source": [
    "### Data Preprocessing"
   ]
  },
  {
   "cell_type": "code",
   "execution_count": 6,
   "id": "1d5eae02-6b01-4bf6-be71-9b4b2be4c605",
   "metadata": {
    "jupyter": {
     "source_hidden": true
    }
   },
   "outputs": [],
   "source": [
    "data['Lag1'] = data['Interpolated Bead Area'].shift(1)\n",
    "data['Lag2'] = data['Interpolated Bead Area'].shift(2)\n",
    "data['Lag3'] = data['Interpolated Bead Area'].shift(3)\n",
    "data.dropna(inplace=True)"
   ]
  },
  {
   "cell_type": "markdown",
   "id": "42262474-664f-47fd-92c1-a608ec9fb2b1",
   "metadata": {},
   "source": [
    "### Predict Bead Area"
   ]
  },
  {
   "cell_type": "code",
   "execution_count": 7,
   "id": "a5a8be3f-b76c-45cd-985d-14dc69879864",
   "metadata": {
    "jupyter": {
     "source_hidden": true
    }
   },
   "outputs": [
    {
     "data": {
      "application/vnd.jupyter.widget-view+json": {
       "model_id": "43b02ac85e234023b2acf61dc0a17b6d",
       "version_major": 2,
       "version_minor": 0
      },
      "text/plain": [
       "IntRangeSlider(value=(0, 5000), continuous_update=False, description='Index Range:', layout=Layout(width='600p…"
      ]
     },
     "metadata": {},
     "output_type": "display_data"
    },
    {
     "data": {
      "application/vnd.jupyter.widget-view+json": {
       "model_id": "33d66ead0aa7487bb0234944c86b00a2",
       "version_major": 2,
       "version_minor": 0
      },
      "text/plain": [
       "SelectMultiple(description='Features:', index=(0, 1, 2, 3, 4, 5, 6, 7, 8), layout=Layout(height='180px', width…"
      ]
     },
     "metadata": {},
     "output_type": "display_data"
    },
    {
     "data": {
      "application/vnd.jupyter.widget-view+json": {
       "model_id": "e2a8b1e1107747d9b8d3fee604fb8fff",
       "version_major": 2,
       "version_minor": 0
      },
      "text/plain": [
       "IntSlider(value=80, continuous_update=False, description='Train %:', layout=Layout(width='600px'), max=95, min…"
      ]
     },
     "metadata": {},
     "output_type": "display_data"
    },
    {
     "data": {
      "application/vnd.jupyter.widget-view+json": {
       "model_id": "30b65121065f41a09a84f5253f0c8a56",
       "version_major": 2,
       "version_minor": 0
      },
      "text/plain": [
       "IntSlider(value=100, continuous_update=False, description='Hidden Layer Sizes:', layout=Layout(width='600px'),…"
      ]
     },
     "metadata": {},
     "output_type": "display_data"
    },
    {
     "data": {
      "application/vnd.jupyter.widget-view+json": {
       "model_id": "181d07a5b67b4055a4d2529ab90f856f",
       "version_major": 2,
       "version_minor": 0
      },
      "text/plain": [
       "Dropdown(description='Activation Function:', index=3, layout=Layout(width='600px'), options=('identity', 'logi…"
      ]
     },
     "metadata": {},
     "output_type": "display_data"
    },
    {
     "data": {
      "application/vnd.jupyter.widget-view+json": {
       "model_id": "16bd7a3a4b754c4a95009e9c6316a636",
       "version_major": 2,
       "version_minor": 0
      },
      "text/plain": [
       "FloatSlider(value=0.0001, continuous_update=False, description='L2 regularization:', layout=Layout(width='600p…"
      ]
     },
     "metadata": {},
     "output_type": "display_data"
    },
    {
     "data": {
      "application/vnd.jupyter.widget-view+json": {
       "model_id": "ddc8d82226ea455ea6c2e8efc5ae5448",
       "version_major": 2,
       "version_minor": 0
      },
      "text/plain": [
       "Button(description='Apply Changes', layout=Layout(width='800px'), style=ButtonStyle())"
      ]
     },
     "metadata": {},
     "output_type": "display_data"
    },
    {
     "data": {
      "application/vnd.jupyter.widget-view+json": {
       "model_id": "05dd89f326e341508195abc33e874dc2",
       "version_major": 2,
       "version_minor": 0
      },
      "text/plain": [
       "Output()"
      ]
     },
     "metadata": {},
     "output_type": "display_data"
    }
   ],
   "source": [
    "# Define widgets with adjusted layout\n",
    "index_range_slider = widgets.IntRangeSlider(\n",
    "    value=[0, min(5000, len(data))],\n",
    "    min=0,\n",
    "    max=len(data),\n",
    "    step=1,\n",
    "    description='Index Range:',\n",
    "    layout=widgets.Layout(width='600px'),  # Increase width for better readability\n",
    "    style={'description_width': '150px'},  # Increase description width\n",
    "    continuous_update=False\n",
    ")\n",
    "\n",
    "feature_select = widgets.SelectMultiple(\n",
    "    options=['Lag1', 'Lag2', 'Lag3', 'Time', 'Position Feedback', 'Velocity Feedback from Axis 1', 'Velocity Feedback from Axis 2', 'Temperature', 'Current Feedback'],\n",
    "    value=['Lag1', 'Lag2', 'Lag3', 'Time', 'Position Feedback', 'Velocity Feedback from Axis 1', 'Velocity Feedback from Axis 2', 'Temperature', 'Current Feedback'],\n",
    "    description='Features:',\n",
    "    layout=widgets.Layout(width='600px', height='180px'),  # Increase width and height\n",
    "    style={'description_width': '150px'},  # Increase description width\n",
    "    disabled=False\n",
    ")\n",
    "\n",
    "train_size_slider = widgets.IntSlider(\n",
    "    value=80,\n",
    "    min=50,\n",
    "    max=95,\n",
    "    step=1,\n",
    "    description='Train %:',\n",
    "    layout=widgets.Layout(width='600px'),  # Increase width\n",
    "    style={'description_width': '150px'},  # Increase description width\n",
    "    continuous_update=False\n",
    ")\n",
    "\n",
    "# MLP Regressor parameter sliders\n",
    "hidden_layer_sizes_slider = widgets.IntSlider(\n",
    "    value=100,\n",
    "    min=10,\n",
    "    max=500,\n",
    "    step=10,\n",
    "    description='Hidden Layer Sizes:',\n",
    "    layout=widgets.Layout(width='600px'),\n",
    "    style={'description_width': '150px'},\n",
    "    continuous_update=False\n",
    ")\n",
    "\n",
    "activation_dropdown = widgets.Dropdown(\n",
    "    options=['identity', 'logistic', 'tanh', 'relu'],\n",
    "    value='relu',\n",
    "    description='Activation Function:',\n",
    "    layout=widgets.Layout(width='600px'),\n",
    "    style={'description_width': '150px'},\n",
    "    continuous_update=False\n",
    ")\n",
    "\n",
    "alpha_slider = widgets.FloatSlider(\n",
    "    value=0.0001,\n",
    "    min=0.00001,\n",
    "    max=0.1,\n",
    "    step=0.00001,\n",
    "    description='L2 regularization:',\n",
    "    layout=widgets.Layout(width='600px'),\n",
    "    style={'description_width': '150px'},\n",
    "    continuous_update=False\n",
    ")\n",
    "\n",
    "apply_button = widgets.Button(description=\"Apply Changes\", layout=widgets.Layout(width='800px'))\n",
    "\n",
    "# Define the function to apply changes and update the plots\n",
    "def apply_changes(b):\n",
    "    with output:\n",
    "        clear_output(wait=True)\n",
    "        \n",
    "        # Extract the parameters from widgets\n",
    "        index_range = index_range_slider.value\n",
    "        selected_features = list(feature_select.value)\n",
    "        train_size_pct = train_size_slider.value / 100\n",
    "        hidden_layer_sizes = hidden_layer_sizes_slider.value\n",
    "        activation = activation_dropdown.value\n",
    "        alpha = alpha_slider.value\n",
    "        \n",
    "        # Slice the data\n",
    "        df = data[index_range[0]:index_range[1]]\n",
    "        \n",
    "        # Prepare the data (assuming 'Interpolated Bead Area' is already in `df`)\n",
    "        X = df[selected_features]\n",
    "        y = df['Interpolated Bead Area']\n",
    "        \n",
    "        # Train-test split\n",
    "        train_size = int(len(df) * train_size_pct)\n",
    "        X_train, X_test = X[:train_size], X[train_size:]\n",
    "        y_train, y_test = y[:train_size], y[train_size:]\n",
    "        \n",
    "        # Train the model\n",
    "        model = MLPRegressor(\n",
    "            hidden_layer_sizes=(hidden_layer_sizes,),\n",
    "            activation=activation,\n",
    "            alpha=alpha,\n",
    "            random_state=42,\n",
    "            max_iter=100000\n",
    "        )\n",
    "        model.fit(X_train, y_train)\n",
    "        \n",
    "        # Predict on test data\n",
    "        y_pred = model.predict(X_test)\n",
    "        mse = mean_squared_error(y_test, y_pred)\n",
    "        display(HTML(f'<b>Mean Squared Error: {mse:.5f}</b>'))  # Display MSE in bold\n",
    "        \n",
    "        # Plot predicted vs actual\n",
    "        plt.figure(figsize=(10, 6))\n",
    "        plt.plot(y_train.index, y_train, label='Training', color='green')\n",
    "        plt.plot(y_test.index, y_test, label='Actual', color='blue')\n",
    "        plt.plot(y_test.index, y_pred, label='Predicted', color='red', linestyle='--')\n",
    "        plt.xlabel('Time')\n",
    "        plt.ylabel('Interpolated Bead Area')\n",
    "        plt.title('Actual vs Predicted Interpolated Bead Area')\n",
    "        plt.legend()\n",
    "        plt.show()\n",
    "        \n",
    "        # Calculate loss for each point\n",
    "        pointwise_mse_loss = (y_test - y_pred) ** 2\n",
    "        \n",
    "        # Plot the pointwise loss\n",
    "        plt.figure(figsize=(10, 6))\n",
    "        plt.plot(y_test.index, y_test, label='Actual', color='blue')\n",
    "        plt.plot(y_test.index, y_pred, label='Predicted', color='red', linestyle='--')\n",
    "        plt.plot(y_test.index, pointwise_mse_loss, label='Pointwise MSE Loss', color='orange')\n",
    "        plt.xlabel('Time')\n",
    "        plt.ylabel('MSE Loss')\n",
    "        plt.title('Pointwise MSE Loss of Predicted vs Actual Interpolated Bead Area')\n",
    "        plt.legend()\n",
    "        plt.show()\n",
    "\n",
    "# Link the apply button to the function\n",
    "apply_button.on_click(apply_changes)\n",
    "\n",
    "# Display the widgets and the output area\n",
    "output = widgets.Output()\n",
    "\n",
    "display(index_range_slider, feature_select, train_size_slider, hidden_layer_sizes_slider, activation_dropdown, alpha_slider, apply_button, output)\n"
   ]
  },
  {
   "cell_type": "code",
   "execution_count": null,
   "id": "365cf101-5cd1-4c0d-ab57-5f4a22116c4c",
   "metadata": {},
   "outputs": [],
   "source": []
  }
 ],
 "metadata": {
  "kernelspec": {
   "display_name": "Python 3 (ipykernel)",
   "language": "python",
   "name": "python3"
  },
  "language_info": {
   "codemirror_mode": {
    "name": "ipython",
    "version": 3
   },
   "file_extension": ".py",
   "mimetype": "text/x-python",
   "name": "python",
   "nbconvert_exporter": "python",
   "pygments_lexer": "ipython3",
   "version": "3.11.5"
  }
 },
 "nbformat": 4,
 "nbformat_minor": 5
}
