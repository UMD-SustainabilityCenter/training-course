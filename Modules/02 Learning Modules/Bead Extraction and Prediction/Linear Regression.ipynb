{
 "cells": [
  {
   "cell_type": "markdown",
   "id": "428706e2-b7a8-46d0-9b9f-2764f2fa7103",
   "metadata": {},
   "source": [
    "# Multiple Linear Regression"
   ]
  },
  {
   "cell_type": "markdown",
   "id": "13c7c859-43f5-42a3-8147-c81c565f2cea",
   "metadata": {},
   "source": [
    "**Linear Regression** is a statistical method used to model the relationship between a dependent variable and one or more independent variables. The goal of linear tip is to find a linear equation that best predicts the dependent variable from the independent variables.\n",
    "\n",
    "## Formula\n",
    "\n",
    "The equation for a linear regression line is:\n",
    "\n",
    "$$\n",
    "y = \\beta_0 + \\beta_1x_1 + \\beta_2x_2 + \\dots + \\beta_nx_n + \\epsilon\n",
    "$$\n",
    "\n",
    "where:\n",
    "-  𝑦  is the dependent variable,\n",
    "-  𝛽_0, 𝛽_1, 𝛽_2, ..., 𝛽_n  are the coefficients,\n",
    "- 𝑋_1, 𝑋_2, ..., 𝑋_n are the independent variables,\n",
    "- 𝜖 is the error term, which accounts for the variability in 𝑦 not explained by the independent variables.\n",
    "\n",
    "## Assumptions\n",
    "\n",
    "Linear regression assumes:\n",
    "1. **Linearity:** The relationship between the predictors and the response is linear.\n",
    "2. **No multicollinearity:** Predictors are not perfectly collinear or highly correlated.\n",
    "3. **Homoscedasticity:** The variance of residual is the same for any value of the predictors.\n",
    "4. **Independence:** Observations are independent of each other.\n",
    "5. **Normality:** For any fixed value of X, Y is normally distributed.\n",
    "\n",
    "## Types\n",
    "\n",
    "There are two main types of linear regression:\n",
    "- **Simple Linear Regression:** Only one independent variable is used to predict the dependent variable. It models the relationship between the dependent variable and one independent variable using a linear equation.\n",
    "- **Multiple Linear Regression:** More than one independent variable is used to predict the dependent variable.\n",
    "\n",
    "## Applications\n",
    "\n",
    "Linear regression is widely used in various fields including economics, biology, engineering, and social sciences to:\n",
    "- Predict outcomes,\n",
    "- Determine strength of predictors,\n",
    "- Forecast future trends,\n",
    "- Model relationships."
   ]
  },
  {
   "cell_type": "markdown",
   "id": "2d2dd2b1-0eb8-42de-9848-9fcefa057d66",
   "metadata": {},
   "source": [
    "# Implementation"
   ]
  },
  {
   "cell_type": "markdown",
   "id": "73bfc21f-d214-49cb-b218-4da348e61316",
   "metadata": {},
   "source": [
    "### Import Libraries"
   ]
  },
  {
   "cell_type": "code",
   "execution_count": 1,
   "id": "ab575897-5411-47d3-916c-e9a933b41d16",
   "metadata": {
    "jupyter": {
     "source_hidden": true
    }
   },
   "outputs": [],
   "source": [
    "import pandas as pd\n",
    "import numpy as np\n",
    "import matplotlib.pyplot as plt\n",
    "import io\n",
    "import ipywidgets as widgets\n",
    "from IPython.display import display, clear_output, HTML\n",
    "\n",
    "from sklearn.model_selection import train_test_split\n",
    "from sklearn.linear_model import LinearRegression\n",
    "from sklearn.metrics import mean_squared_error\n",
    "import matplotlib.pyplot as plt\n",
    "\n",
    "import warnings\n",
    "warnings.filterwarnings(\"ignore\")"
   ]
  },
  {
   "cell_type": "markdown",
   "id": "b00d5e42-27fb-4c3f-aa2a-45f1306f56c4",
   "metadata": {},
   "source": [
    "### Import and show Data"
   ]
  },
  {
   "cell_type": "code",
   "execution_count": 2,
   "id": "c17a59e8-9209-4d78-92a2-1f5517e89a06",
   "metadata": {
    "jupyter": {
     "source_hidden": true
    }
   },
   "outputs": [
    {
     "data": {
      "text/html": [
       "<div>\n",
       "<style scoped>\n",
       "    .dataframe tbody tr th:only-of-type {\n",
       "        vertical-align: middle;\n",
       "    }\n",
       "\n",
       "    .dataframe tbody tr th {\n",
       "        vertical-align: top;\n",
       "    }\n",
       "\n",
       "    .dataframe thead th {\n",
       "        text-align: right;\n",
       "    }\n",
       "</style>\n",
       "<table border=\"1\" class=\"dataframe\">\n",
       "  <thead>\n",
       "    <tr style=\"text-align: right;\">\n",
       "      <th></th>\n",
       "      <th>Time</th>\n",
       "      <th>Position Feedback</th>\n",
       "      <th>Velocity Feedback from Axis 1</th>\n",
       "      <th>Velocity Feedback from Axis 2</th>\n",
       "      <th>Temperature</th>\n",
       "      <th>Current Feedback</th>\n",
       "      <th>Interpolated Bead Area</th>\n",
       "    </tr>\n",
       "  </thead>\n",
       "  <tbody>\n",
       "    <tr>\n",
       "      <th>0</th>\n",
       "      <td>0.056</td>\n",
       "      <td>15.567</td>\n",
       "      <td>11.178</td>\n",
       "      <td>6.4952</td>\n",
       "      <td>1.1173</td>\n",
       "      <td>1.2309</td>\n",
       "      <td>1.1184</td>\n",
       "    </tr>\n",
       "    <tr>\n",
       "      <th>1</th>\n",
       "      <td>0.057</td>\n",
       "      <td>15.579</td>\n",
       "      <td>11.257</td>\n",
       "      <td>6.4952</td>\n",
       "      <td>1.1175</td>\n",
       "      <td>1.2735</td>\n",
       "      <td>1.1191</td>\n",
       "    </tr>\n",
       "    <tr>\n",
       "      <th>2</th>\n",
       "      <td>0.058</td>\n",
       "      <td>15.590</td>\n",
       "      <td>11.375</td>\n",
       "      <td>3.2476</td>\n",
       "      <td>1.1175</td>\n",
       "      <td>1.1567</td>\n",
       "      <td>1.1198</td>\n",
       "    </tr>\n",
       "    <tr>\n",
       "      <th>3</th>\n",
       "      <td>0.059</td>\n",
       "      <td>15.601</td>\n",
       "      <td>11.324</td>\n",
       "      <td>6.4952</td>\n",
       "      <td>1.1173</td>\n",
       "      <td>1.2975</td>\n",
       "      <td>1.1205</td>\n",
       "    </tr>\n",
       "    <tr>\n",
       "      <th>4</th>\n",
       "      <td>0.060</td>\n",
       "      <td>15.613</td>\n",
       "      <td>11.285</td>\n",
       "      <td>6.4952</td>\n",
       "      <td>1.1173</td>\n",
       "      <td>1.2168</td>\n",
       "      <td>1.1212</td>\n",
       "    </tr>\n",
       "  </tbody>\n",
       "</table>\n",
       "</div>"
      ],
      "text/plain": [
       "    Time  Position Feedback  Velocity Feedback from Axis 1  \\\n",
       "0  0.056             15.567                         11.178   \n",
       "1  0.057             15.579                         11.257   \n",
       "2  0.058             15.590                         11.375   \n",
       "3  0.059             15.601                         11.324   \n",
       "4  0.060             15.613                         11.285   \n",
       "\n",
       "   Velocity Feedback from Axis 2  Temperature  Current Feedback  \\\n",
       "0                         6.4952       1.1173            1.2309   \n",
       "1                         6.4952       1.1175            1.2735   \n",
       "2                         3.2476       1.1175            1.1567   \n",
       "3                         6.4952       1.1173            1.2975   \n",
       "4                         6.4952       1.1173            1.2168   \n",
       "\n",
       "   Interpolated Bead Area  \n",
       "0                  1.1184  \n",
       "1                  1.1191  \n",
       "2                  1.1198  \n",
       "3                  1.1205  \n",
       "4                  1.1212  "
      ]
     },
     "metadata": {},
     "output_type": "display_data"
    },
    {
     "name": "stdout",
     "output_type": "stream",
     "text": [
      "The data is composed of  295568  rows and  7  columns.\n"
     ]
    }
   ],
   "source": [
    "data = pd.read_csv('./Data/BeadArea.csv')\n",
    "display(data.head())\n",
    "print (\"The data is composed of \", data.shape[0], \" rows and \", data.shape[1], \" columns.\")"
   ]
  },
  {
   "cell_type": "markdown",
   "id": "e412f69e-c5d5-4ba4-ba02-2e339de25b9f",
   "metadata": {},
   "source": [
    "### Data Preprocessing"
   ]
  },
  {
   "cell_type": "code",
   "execution_count": 3,
   "id": "1d5eae02-6b01-4bf6-be71-9b4b2be4c605",
   "metadata": {
    "jupyter": {
     "source_hidden": true
    }
   },
   "outputs": [],
   "source": [
    "data['Lag1'] = data['Interpolated Bead Area'].shift(1)\n",
    "data['Lag2'] = data['Interpolated Bead Area'].shift(2)\n",
    "data['Lag3'] = data['Interpolated Bead Area'].shift(3)\n",
    "data.dropna(inplace=True)"
   ]
  },
  {
   "cell_type": "markdown",
   "id": "ce1d1f1b-0240-4ba0-a085-5ff438b4703b",
   "metadata": {},
   "source": [
    "### Predict Bead Area"
   ]
  },
  {
   "cell_type": "code",
   "execution_count": 4,
   "id": "a5a8be3f-b76c-45cd-985d-14dc69879864",
   "metadata": {
    "jupyter": {
     "source_hidden": true
    }
   },
   "outputs": [
    {
     "data": {
      "application/vnd.jupyter.widget-view+json": {
       "model_id": "328b1a294c3a4300a6a6f9b81358774d",
       "version_major": 2,
       "version_minor": 0
      },
      "text/plain": [
       "IntRangeSlider(value=(0, 50000), continuous_update=False, description='Index Range:', layout=Layout(width='600…"
      ]
     },
     "metadata": {},
     "output_type": "display_data"
    },
    {
     "data": {
      "application/vnd.jupyter.widget-view+json": {
       "model_id": "b962f8d6b4f7458aba535938ade47cf9",
       "version_major": 2,
       "version_minor": 0
      },
      "text/plain": [
       "SelectMultiple(description='Features:', index=(0, 1, 2, 3, 4, 5, 6, 7, 8), layout=Layout(height='180px', width…"
      ]
     },
     "metadata": {},
     "output_type": "display_data"
    },
    {
     "data": {
      "application/vnd.jupyter.widget-view+json": {
       "model_id": "a2be48a2d8e34832936ae9262b478b63",
       "version_major": 2,
       "version_minor": 0
      },
      "text/plain": [
       "IntSlider(value=80, continuous_update=False, description='Train %:', layout=Layout(width='600px'), max=95, min…"
      ]
     },
     "metadata": {},
     "output_type": "display_data"
    },
    {
     "data": {
      "application/vnd.jupyter.widget-view+json": {
       "model_id": "f2f96d64bc134d39ab0b52b83d7e60a1",
       "version_major": 2,
       "version_minor": 0
      },
      "text/plain": [
       "Button(description='Apply Changes', layout=Layout(width='800px'), style=ButtonStyle())"
      ]
     },
     "metadata": {},
     "output_type": "display_data"
    },
    {
     "data": {
      "application/vnd.jupyter.widget-view+json": {
       "model_id": "7f1fd9d9ef684a6db4daf54364e8b4b4",
       "version_major": 2,
       "version_minor": 0
      },
      "text/plain": [
       "Output()"
      ]
     },
     "metadata": {},
     "output_type": "display_data"
    }
   ],
   "source": [
    "# Load your dataset\n",
    "# Assume `data` is your full dataset loaded as a DataFrame\n",
    "# data = pd.read_csv('your_dataset.csv')  # Replace with your data loading code\n",
    "\n",
    "# Define widgets with adjusted layout\n",
    "index_range_slider = widgets.IntRangeSlider(\n",
    "    value=[0, 50000],\n",
    "    min=0,\n",
    "    max=len(data),\n",
    "    step=1,\n",
    "    description='Index Range:',\n",
    "    layout=widgets.Layout(width='600px'),  # Increase width for better readability\n",
    "    style={'description_width': '150px'},  # Increase description width\n",
    "    continuous_update=False\n",
    ")\n",
    "\n",
    "feature_select = widgets.SelectMultiple(\n",
    "    options=['Lag1', 'Lag2', 'Lag3', 'Time', 'Position Feedback', 'Velocity Feedback from Axis 1', 'Velocity Feedback from Axis 2', 'Temperature', 'Current Feedback'],\n",
    "    value=['Lag1', 'Lag2', 'Lag3', 'Time', 'Position Feedback', 'Velocity Feedback from Axis 1', 'Velocity Feedback from Axis 2', 'Temperature', 'Current Feedback'],\n",
    "    description='Features:',\n",
    "    layout=widgets.Layout(width='600px', height='180px'),  # Increase width and height\n",
    "    style={'description_width': '150px'},  # Increase description width\n",
    "    disabled=False\n",
    ")\n",
    "\n",
    "train_size_slider = widgets.IntSlider(\n",
    "    value=80,\n",
    "    min=50,\n",
    "    max=95,\n",
    "    step=1,\n",
    "    description='Train %:',\n",
    "    layout=widgets.Layout(width='600px'),  # Increase width\n",
    "    style={'description_width': '150px'},  # Increase description width\n",
    "    continuous_update=False\n",
    ")\n",
    "\n",
    "apply_button = widgets.Button(description=\"Apply Changes\", layout=widgets.Layout(width='800px'))\n",
    "\n",
    "# Define the function to apply changes and update the plots\n",
    "def apply_changes(b):\n",
    "    with output:\n",
    "        clear_output(wait=True)\n",
    "        \n",
    "        # Extract the parameters from widgets\n",
    "        index_range = index_range_slider.value\n",
    "        selected_features = list(feature_select.value)\n",
    "        train_size_pct = train_size_slider.value / 100\n",
    "        \n",
    "        # Slice the data\n",
    "        df = data[index_range[0]:index_range[1]]\n",
    "        \n",
    "        # Prepare the data (assuming 'Interpolated Bead Area' is already in `df`)\n",
    "        X = df[selected_features]\n",
    "        y = df['Interpolated Bead Area']\n",
    "        \n",
    "        # Train-test split\n",
    "        train_size = int(len(df) * train_size_pct)\n",
    "        X_train, X_test = X[:train_size], X[train_size:]\n",
    "        y_train, y_test = y[:train_size], y[train_size:]\n",
    "        \n",
    "        # Train the model\n",
    "        model = LinearRegression()\n",
    "        model.fit(X_train, y_train)\n",
    "        \n",
    "        # Predict on test data\n",
    "        y_pred = model.predict(X_test)\n",
    "        mse = mean_squared_error(y_test, y_pred)\n",
    "        display(HTML(f'<b>Mean Squared Error: {mse:.5f}</b>'))  # Display MSE in bold\n",
    "        \n",
    "        # Plot predicted vs actual\n",
    "        plt.figure(figsize=(10, 6))\n",
    "        plt.plot(y_train.index, y_train, label='Training', color='green')\n",
    "        plt.plot(y_test.index, y_test, label='Actual', color='blue')\n",
    "        plt.plot(y_test.index, y_pred, label='Predicted', color='red', linestyle='--')\n",
    "        plt.xlabel('Time')\n",
    "        plt.ylabel('Interpolated Bead Area')\n",
    "        plt.title('Actual vs Predicted Interpolated Bead Area')\n",
    "        plt.legend()\n",
    "        plt.show()\n",
    "        \n",
    "        # Calculate loss for each point\n",
    "        pointwise_mse_loss = (y_test - y_pred) ** 2\n",
    "        \n",
    "        # Plot the pointwise loss\n",
    "        plt.figure(figsize=(10, 6))\n",
    "        plt.plot(y_test.index, y_test, label='Actual', color='blue')\n",
    "        plt.plot(y_test.index, y_pred, label='Predicted', color='red', linestyle='--')\n",
    "        plt.plot(y_test.index, pointwise_mse_loss, label='Pointwise MSE Loss', color='orange')\n",
    "        plt.xlabel('Time')\n",
    "        plt.ylabel('MSE Loss')\n",
    "        plt.title('Pointwise MSE Loss of Predicted vs Actual Interpolated Bead Area')\n",
    "        plt.legend()\n",
    "        plt.show()\n",
    "\n",
    "# Link the apply button to the function\n",
    "apply_button.on_click(apply_changes)\n",
    "\n",
    "# Display the widgets and the output area\n",
    "output = widgets.Output()\n",
    "\n",
    "display(index_range_slider, feature_select, train_size_slider, apply_button, output)\n"
   ]
  }
 ],
 "metadata": {
  "kernelspec": {
   "display_name": "Python 3 (ipykernel)",
   "language": "python",
   "name": "python3"
  },
  "language_info": {
   "codemirror_mode": {
    "name": "ipython",
    "version": 3
   },
   "file_extension": ".py",
   "mimetype": "text/x-python",
   "name": "python",
   "nbconvert_exporter": "python",
   "pygments_lexer": "ipython3",
   "version": "3.11.5"
  }
 },
 "nbformat": 4,
 "nbformat_minor": 5
}
