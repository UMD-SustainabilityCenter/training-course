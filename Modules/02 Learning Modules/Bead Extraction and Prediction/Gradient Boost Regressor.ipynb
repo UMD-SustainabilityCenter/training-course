{
 "cells": [
  {
   "cell_type": "markdown",
   "id": "bcd4caeb-a06a-402a-83e6-2625d7f1871b",
   "metadata": {},
   "source": [
    "# Gradient Boost Regressor"
   ]
  },
  {
   "cell_type": "markdown",
   "id": "b21eb3c1-0530-4bd7-929c-fce3a30f5730",
   "metadata": {
    "jp-MarkdownHeadingCollapsed": true
   },
   "source": [
    "**Gradient Boosting Regressor** is a powerful ensemble machine learning algorithm that builds models in a stage-wise fashion like other boosting methods do, and it generalizes them by allowing optimization of an arbitrary differentiable loss function.\n",
    "\n",
    "## Concept\n",
    "\n",
    "Gradient Boosting involves three main components:\n",
    "1. **Loss Function to be optimized:** Gradient Boosting is a flexible method that can be used on differentiable loss functions. For regression tasks, it typically uses squared error or absolute error.\n",
    "2. **Weak Learner to make predictions:** Gradient Boosting uses decision trees as the weak learners. Trees are added one at a time, and existing trees in the model are not changed.\n",
    "3. **Additive Model to add weak learners:** Trees are added one at a time, and gradient descent is used to minimize the loss when adding trees.\n",
    "\n",
    "## How It Works\n",
    "\n",
    "The algorithm builds the model in a stage-wise fashion:\n",
    "1. Fit a decision tree to the data, e.g., predict the mean of the target variable.\n",
    "2. Apply the decision tree to the data and calculate the error residuals.\n",
    "3. Fit a new decision tree to the residuals from the previous step.\n",
    "4. Add this new decision tree into the ensemble, update the model.\n",
    "5. Repeat steps 2-4 until a specified number of trees have been added or the loss changes minimally on adding a new tree.\n",
    "\n",
    "## Key Parameters\n",
    "\n",
    "- $n_{\\text{estimators}}$: The number of boosting stages to perform. More stages increase the model complexity.\n",
    "- $\\text{learning\\_rate}$: Shrinks the contribution of each tree by the learning rate. There is a trade-off between learning rate and number of stages.\n",
    "- $\\text{max\\_depth}$: Limits the number of nodes in the decision trees. Used to control over-fitting as higher depth will allow model to learn relations very specific to a particular sample.\n",
    "- $\\text{min\\_samples\\_split}$: The minimum number of samples required to split an internal node.\n",
    "- $\\text{min\\_samples\\_leaf}$: The minimum number of samples required to be at a leaf node.\n",
    "\n",
    "## Advantages\n",
    "\n",
    "- Can handle heterogeneous features (numeric and categorical).\n",
    "- Robust to outliers in output space (via robust loss functions).\n",
    "- Provides predictive score distributions by way of quantile regression.\n",
    "\n",
    "## Applications\n",
    "\n",
    "Gradient Boosting can be used for:\n",
    "- Demand forecasting in retail,\n",
    "- Price prediction in real estate,\n",
    "- Predicting customer lifetime value in various industries.\n"
   ]
  },
  {
   "cell_type": "markdown",
   "id": "732670c9-6652-47ac-85f8-9b230801337b",
   "metadata": {},
   "source": [
    "# Implementation"
   ]
  },
  {
   "cell_type": "markdown",
   "id": "fab76a44-2ba6-4c72-a5ba-3c8013a7e5c2",
   "metadata": {},
   "source": [
    "### Import Libraries"
   ]
  },
  {
   "cell_type": "code",
   "execution_count": 1,
   "id": "ab575897-5411-47d3-916c-e9a933b41d16",
   "metadata": {
    "jupyter": {
     "source_hidden": true
    }
   },
   "outputs": [],
   "source": [
    "import pandas as pd\n",
    "import numpy as np\n",
    "import matplotlib.pyplot as plt\n",
    "import io\n",
    "import ipywidgets as widgets\n",
    "from IPython.display import display, clear_output\n",
    "\n",
    "from sklearn.ensemble import GradientBoostingRegressor\n",
    "from sklearn.metrics import mean_squared_error\n",
    "from IPython.display import display, clear_output, HTML\n",
    "\n",
    "import warnings\n",
    "warnings.filterwarnings(\"ignore\")"
   ]
  },
  {
   "cell_type": "markdown",
   "id": "b603dfa4-0574-4c16-a29a-9d7ac013e13c",
   "metadata": {},
   "source": [
    "### Import and show Data"
   ]
  },
  {
   "cell_type": "code",
   "execution_count": 2,
   "id": "c17a59e8-9209-4d78-92a2-1f5517e89a06",
   "metadata": {
    "jupyter": {
     "source_hidden": true
    }
   },
   "outputs": [
    {
     "data": {
      "text/html": [
       "<div>\n",
       "<style scoped>\n",
       "    .dataframe tbody tr th:only-of-type {\n",
       "        vertical-align: middle;\n",
       "    }\n",
       "\n",
       "    .dataframe tbody tr th {\n",
       "        vertical-align: top;\n",
       "    }\n",
       "\n",
       "    .dataframe thead th {\n",
       "        text-align: right;\n",
       "    }\n",
       "</style>\n",
       "<table border=\"1\" class=\"dataframe\">\n",
       "  <thead>\n",
       "    <tr style=\"text-align: right;\">\n",
       "      <th></th>\n",
       "      <th>Time</th>\n",
       "      <th>Position Feedback</th>\n",
       "      <th>Velocity Feedback from Axis 1</th>\n",
       "      <th>Velocity Feedback from Axis 2</th>\n",
       "      <th>Temperature</th>\n",
       "      <th>Current Feedback</th>\n",
       "      <th>Interpolated Bead Area</th>\n",
       "    </tr>\n",
       "  </thead>\n",
       "  <tbody>\n",
       "    <tr>\n",
       "      <th>0</th>\n",
       "      <td>0.056</td>\n",
       "      <td>15.567</td>\n",
       "      <td>11.178</td>\n",
       "      <td>6.4952</td>\n",
       "      <td>1.1173</td>\n",
       "      <td>1.2309</td>\n",
       "      <td>1.1184</td>\n",
       "    </tr>\n",
       "    <tr>\n",
       "      <th>1</th>\n",
       "      <td>0.057</td>\n",
       "      <td>15.579</td>\n",
       "      <td>11.257</td>\n",
       "      <td>6.4952</td>\n",
       "      <td>1.1175</td>\n",
       "      <td>1.2735</td>\n",
       "      <td>1.1191</td>\n",
       "    </tr>\n",
       "    <tr>\n",
       "      <th>2</th>\n",
       "      <td>0.058</td>\n",
       "      <td>15.590</td>\n",
       "      <td>11.375</td>\n",
       "      <td>3.2476</td>\n",
       "      <td>1.1175</td>\n",
       "      <td>1.1567</td>\n",
       "      <td>1.1198</td>\n",
       "    </tr>\n",
       "    <tr>\n",
       "      <th>3</th>\n",
       "      <td>0.059</td>\n",
       "      <td>15.601</td>\n",
       "      <td>11.324</td>\n",
       "      <td>6.4952</td>\n",
       "      <td>1.1173</td>\n",
       "      <td>1.2975</td>\n",
       "      <td>1.1205</td>\n",
       "    </tr>\n",
       "    <tr>\n",
       "      <th>4</th>\n",
       "      <td>0.060</td>\n",
       "      <td>15.613</td>\n",
       "      <td>11.285</td>\n",
       "      <td>6.4952</td>\n",
       "      <td>1.1173</td>\n",
       "      <td>1.2168</td>\n",
       "      <td>1.1212</td>\n",
       "    </tr>\n",
       "  </tbody>\n",
       "</table>\n",
       "</div>"
      ],
      "text/plain": [
       "    Time  Position Feedback  Velocity Feedback from Axis 1  \\\n",
       "0  0.056             15.567                         11.178   \n",
       "1  0.057             15.579                         11.257   \n",
       "2  0.058             15.590                         11.375   \n",
       "3  0.059             15.601                         11.324   \n",
       "4  0.060             15.613                         11.285   \n",
       "\n",
       "   Velocity Feedback from Axis 2  Temperature  Current Feedback  \\\n",
       "0                         6.4952       1.1173            1.2309   \n",
       "1                         6.4952       1.1175            1.2735   \n",
       "2                         3.2476       1.1175            1.1567   \n",
       "3                         6.4952       1.1173            1.2975   \n",
       "4                         6.4952       1.1173            1.2168   \n",
       "\n",
       "   Interpolated Bead Area  \n",
       "0                  1.1184  \n",
       "1                  1.1191  \n",
       "2                  1.1198  \n",
       "3                  1.1205  \n",
       "4                  1.1212  "
      ]
     },
     "metadata": {},
     "output_type": "display_data"
    },
    {
     "name": "stdout",
     "output_type": "stream",
     "text": [
      "The data is composed of  295568  rows and  7  columns.\n"
     ]
    }
   ],
   "source": [
    "data = pd.read_csv('./Data/BeadArea.csv')\n",
    "display(data.head())\n",
    "print (\"The data is composed of \", data.shape[0], \" rows and \", data.shape[1], \" columns.\")"
   ]
  },
  {
   "cell_type": "markdown",
   "id": "adb45030-83ad-4741-972d-4c93da7d9361",
   "metadata": {},
   "source": [
    "### Data Preprocessing"
   ]
  },
  {
   "cell_type": "code",
   "execution_count": 3,
   "id": "1d5eae02-6b01-4bf6-be71-9b4b2be4c605",
   "metadata": {
    "jupyter": {
     "source_hidden": true
    }
   },
   "outputs": [],
   "source": [
    "data['Lag1'] = data['Interpolated Bead Area'].shift(1)\n",
    "data['Lag2'] = data['Interpolated Bead Area'].shift(2)\n",
    "data['Lag3'] = data['Interpolated Bead Area'].shift(3)\n",
    "data.dropna(inplace=True)"
   ]
  },
  {
   "cell_type": "markdown",
   "id": "45d9fda3-19cc-4104-8e05-1ca71cba5fac",
   "metadata": {},
   "source": [
    "### Predict Bead Area"
   ]
  },
  {
   "cell_type": "code",
   "execution_count": 4,
   "id": "a5a8be3f-b76c-45cd-985d-14dc69879864",
   "metadata": {
    "jupyter": {
     "source_hidden": true
    }
   },
   "outputs": [
    {
     "data": {
      "application/vnd.jupyter.widget-view+json": {
       "model_id": "14775300a7ed4c51a2e1ab0722bb6cf7",
       "version_major": 2,
       "version_minor": 0
      },
      "text/plain": [
       "IntRangeSlider(value=(0, 500), continuous_update=False, description='Index Range:', layout=Layout(width='600px…"
      ]
     },
     "metadata": {},
     "output_type": "display_data"
    },
    {
     "data": {
      "application/vnd.jupyter.widget-view+json": {
       "model_id": "9d7459d5112a41bdb6073301b4b99343",
       "version_major": 2,
       "version_minor": 0
      },
      "text/plain": [
       "SelectMultiple(description='Features:', index=(0, 1, 2, 3, 4, 5, 6, 7, 8), layout=Layout(height='180px', width…"
      ]
     },
     "metadata": {},
     "output_type": "display_data"
    },
    {
     "data": {
      "application/vnd.jupyter.widget-view+json": {
       "model_id": "1e88b6ea0bbb4ef2bcf8ea1d1a00dfc8",
       "version_major": 2,
       "version_minor": 0
      },
      "text/plain": [
       "IntSlider(value=80, continuous_update=False, description='Train %:', layout=Layout(width='600px'), max=95, min…"
      ]
     },
     "metadata": {},
     "output_type": "display_data"
    },
    {
     "data": {
      "application/vnd.jupyter.widget-view+json": {
       "model_id": "f598ddeba31e443c96298d3a0aaaffc1",
       "version_major": 2,
       "version_minor": 0
      },
      "text/plain": [
       "IntSlider(value=100, continuous_update=False, description='Number of Estimators:', layout=Layout(width='600px'…"
      ]
     },
     "metadata": {},
     "output_type": "display_data"
    },
    {
     "data": {
      "application/vnd.jupyter.widget-view+json": {
       "model_id": "e1d6d31327154dd49482acaec70b00ca",
       "version_major": 2,
       "version_minor": 0
      },
      "text/plain": [
       "IntSlider(value=3, continuous_update=False, description='Maximum Depth:', layout=Layout(width='600px'), max=20…"
      ]
     },
     "metadata": {},
     "output_type": "display_data"
    },
    {
     "data": {
      "application/vnd.jupyter.widget-view+json": {
       "model_id": "aa390fed9ad24f419b6214fc333a1614",
       "version_major": 2,
       "version_minor": 0
      },
      "text/plain": [
       "FloatSlider(value=0.1, continuous_update=False, description='Learning Rate:', layout=Layout(width='600px'), ma…"
      ]
     },
     "metadata": {},
     "output_type": "display_data"
    },
    {
     "data": {
      "application/vnd.jupyter.widget-view+json": {
       "model_id": "3f510d8ab4754a6f907e1c155ba8ab5b",
       "version_major": 2,
       "version_minor": 0
      },
      "text/plain": [
       "Button(description='Apply Changes', layout=Layout(width='800px'), style=ButtonStyle())"
      ]
     },
     "metadata": {},
     "output_type": "display_data"
    },
    {
     "data": {
      "application/vnd.jupyter.widget-view+json": {
       "model_id": "c36fc31766af4169a0c22976717e0971",
       "version_major": 2,
       "version_minor": 0
      },
      "text/plain": [
       "Output()"
      ]
     },
     "metadata": {},
     "output_type": "display_data"
    }
   ],
   "source": [
    "\n",
    "# Define widgets with adjusted layout\n",
    "index_range_slider = widgets.IntRangeSlider(\n",
    "    value=[0, min(500, len(data))],\n",
    "    min=0,\n",
    "    max=len(data),\n",
    "    step=1,\n",
    "    description='Index Range:',\n",
    "    layout=widgets.Layout(width='600px'),  # Increase width for better readability\n",
    "    style={'description_width': '150px'},  # Increase description width\n",
    "    continuous_update=False\n",
    ")\n",
    "\n",
    "feature_select = widgets.SelectMultiple(\n",
    "    options=['Lag1', 'Lag2', 'Lag3', 'Time', 'Position Feedback', 'Velocity Feedback from Axis 1', 'Velocity Feedback from Axis 2', 'Temperature', 'Current Feedback'],\n",
    "    value=['Lag1', 'Lag2', 'Lag3', 'Time', 'Position Feedback', 'Velocity Feedback from Axis 1', 'Velocity Feedback from Axis 2', 'Temperature', 'Current Feedback'],\n",
    "    description='Features:',\n",
    "    layout=widgets.Layout(width='600px', height='180px'),  # Increase width and height\n",
    "    style={'description_width': '150px'},  # Increase description width\n",
    "    disabled=False\n",
    ")\n",
    "\n",
    "train_size_slider = widgets.IntSlider(\n",
    "    value=80,\n",
    "    min=50,\n",
    "    max=95,\n",
    "    step=1,\n",
    "    description='Train %:',\n",
    "    layout=widgets.Layout(width='600px'),  # Increase width\n",
    "    style={'description_width': '150px'},  # Increase description width\n",
    "    continuous_update=False\n",
    ")\n",
    "\n",
    "# Gradient Boosting parameter sliders\n",
    "n_estimators_slider = widgets.IntSlider(\n",
    "    value=100,\n",
    "    min=10,\n",
    "    max=500,\n",
    "    step=10,\n",
    "    description='Number of Estimators:',\n",
    "    layout=widgets.Layout(width='600px'),\n",
    "    style={'description_width': '160px'},\n",
    "    continuous_update=False\n",
    ")\n",
    "\n",
    "max_depth_slider = widgets.IntSlider(\n",
    "    value=3,\n",
    "    min=1,\n",
    "    max=20,\n",
    "    step=1,\n",
    "    description='Maximum Depth:',\n",
    "    layout=widgets.Layout(width='600px'),\n",
    "    style={'description_width': '150px'},\n",
    "    continuous_update=False\n",
    ")\n",
    "\n",
    "learning_rate_slider = widgets.FloatSlider(\n",
    "    value=0.1,\n",
    "    min=0.01,\n",
    "    max=1,\n",
    "    step=0.01,\n",
    "    description='Learning Rate:',\n",
    "    layout=widgets.Layout(width='600px'),\n",
    "    style={'description_width': '150px'},\n",
    "    continuous_update=False\n",
    ")\n",
    "\n",
    "apply_button = widgets.Button(description=\"Apply Changes\", layout=widgets.Layout(width='800px'))\n",
    "\n",
    "# Define the function to apply changes and update the plots\n",
    "def apply_changes(b):\n",
    "    with output:\n",
    "        clear_output(wait=True)\n",
    "        \n",
    "        # Extract the parameters from widgets\n",
    "        index_range = index_range_slider.value\n",
    "        selected_features = list(feature_select.value)\n",
    "        train_size_pct = train_size_slider.value / 100\n",
    "        n_estimators = n_estimators_slider.value\n",
    "        max_depth = max_depth_slider.value\n",
    "        learning_rate = learning_rate_slider.value\n",
    "        \n",
    "        # Slice the data\n",
    "        df = data[index_range[0]:index_range[1]]\n",
    "        \n",
    "        # Prepare the data (assuming 'Interpolated Bead Area' is already in `df`)\n",
    "        X = df[selected_features]\n",
    "        y = df['Interpolated Bead Area']\n",
    "        \n",
    "        # Train-test split\n",
    "        train_size = int(len(df) * train_size_pct)\n",
    "        X_train, X_test = X[:train_size], X[train_size:]\n",
    "        y_train, y_test = y[:train_size], y[train_size:]\n",
    "        \n",
    "        # Train the model\n",
    "        model = GradientBoostingRegressor(\n",
    "            n_estimators=n_estimators,\n",
    "            max_depth=max_depth,\n",
    "            learning_rate=learning_rate,\n",
    "            random_state=42\n",
    "        )\n",
    "        model.fit(X_train, y_train)\n",
    "        \n",
    "        # Predict on test data\n",
    "        y_pred = model.predict(X_test)\n",
    "        mse = mean_squared_error(y_test, y_pred)\n",
    "        display(HTML(f'<b>Mean Squared Error: {mse:.5f}</b>'))  # Display MSE in bold\n",
    "        \n",
    "        # Plot predicted vs actual\n",
    "        plt.figure(figsize=(10, 6))\n",
    "        plt.plot(y_train.index, y_train, label='Training', color='green')\n",
    "        plt.plot(y_test.index, y_test, label='Actual', color='blue')\n",
    "        plt.plot(y_test.index, y_pred, label='Predicted', color='red', linestyle='--')\n",
    "        plt.xlabel('Time')\n",
    "        plt.ylabel('Interpolated Bead Area')\n",
    "        plt.title('Actual vs Predicted Interpolated Bead Area')\n",
    "        plt.legend()\n",
    "        plt.show()\n",
    "        \n",
    "        # Calculate loss for each point\n",
    "        pointwise_mse_loss = (y_test - y_pred) ** 2\n",
    "        \n",
    "        # Plot the pointwise loss\n",
    "        plt.figure(figsize=(10, 6))\n",
    "        plt.plot(y_test.index, y_test, label='Actual', color='blue')\n",
    "        plt.plot(y_test.index, y_pred, label='Predicted', color='red', linestyle='--')\n",
    "        plt.plot(y_test.index, pointwise_mse_loss, label='Pointwise MSE Loss', color='orange')\n",
    "        plt.xlabel('Time')\n",
    "        plt.ylabel('MSE Loss')\n",
    "        plt.title('Pointwise MSE Loss of Predicted vs Actual Interpolated Bead Area')\n",
    "        plt.legend()\n",
    "        plt.show()\n",
    "\n",
    "# Link the apply button to the function\n",
    "apply_button.on_click(apply_changes)\n",
    "\n",
    "# Display the widgets and the output area\n",
    "output = widgets.Output()\n",
    "\n",
    "display(index_range_slider, feature_select, train_size_slider, n_estimators_slider, max_depth_slider, learning_rate_slider, apply_button, output)\n"
   ]
  }
 ],
 "metadata": {
  "kernelspec": {
   "display_name": "Python 3 (ipykernel)",
   "language": "python",
   "name": "python3"
  },
  "language_info": {
   "codemirror_mode": {
    "name": "ipython",
    "version": 3
   },
   "file_extension": ".py",
   "mimetype": "text/x-python",
   "name": "python",
   "nbconvert_exporter": "python",
   "pygments_lexer": "ipython3",
   "version": "3.11.5"
  }
 },
 "nbformat": 4,
 "nbformat_minor": 5
}
