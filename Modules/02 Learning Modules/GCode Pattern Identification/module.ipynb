{
 "cells": [
  {
   "cell_type": "markdown",
   "id": "77eb6355-7798-41d3-a682-75fb76d5c015",
   "metadata": {},
   "source": [
    "# Analysis of 3D Printing Infill Patterns\n",
    "\n",
    "#### Problem\n",
    "In the realm of 3D printing, a significant uncertainty arises post-sintering due to the variability in infill patterns. These variations can affect the mechanical properties and dimensional accuracy of the printed objects, making it crucial to understand the exact impact of different infill configurations.\n",
    "\n",
    "#### Objective\n",
    "The primary goal of this module is to extract detailed features from G-code that describe infill patterns. By identifying and quantifying these features, we can better predict and understand their effects on the final printed product.\n",
    "\n",
    "#### Method\n",
    "To achieve this, we will:\n",
    "1. **Plot the Layers**: Visualize each layer from the G-code to precisely see how the infill patterns are laid out.\n",
    "2. **Feature Extraction**: Perform detailed feature extraction on these visual representations, focusing on quantifying the areas of infill in square millimeters (mm²). This will provide concrete data on how infill density and configuration vary throughout the print."
   ]
  },
  {
   "cell_type": "markdown",
   "id": "9f15b4eb-dbf6-4d06-9fd1-e1f57ac88797",
   "metadata": {},
   "source": [
    "### Interactive Selection of Infill Patterns and Percentages\n",
    "\n",
    "In the cell below, you have the capability to select any infill pattern from a dropdown menu and adjust the infill percentage according to your needs. This interactive setup allows you to observe and analyze how different infill patterns and their corresponding densities affect the printing process across various layers. Explore various combinations to see if and how changes in infill pattern and percentage influence the structural and visual aspects of the print through different layers.\n"
   ]
  },
  {
   "cell_type": "markdown",
   "id": "f2bb4c79-d1ba-4feb-817f-23282d8a4042",
   "metadata": {},
   "source": [
    "#### Press <font color = '#2195F2'>**Play**</font> to select pattern shape and infill density"
   ]
  },
  {
   "cell_type": "code",
   "execution_count": null,
   "id": "7cf8a0de",
   "metadata": {
    "jupyter": {
     "source_hidden": true
    },
    "tags": []
   },
   "outputs": [],
   "source": [
    "import os\n",
    "from functions import*\n",
    "from ipywidgets import interact_manual, Dropdown\n",
    "data = None\n",
    "# Directory path where patterns are stored\n",
    "patterns_folder = './patterns'\n",
    "\n",
    "# List of all possible pattern names and infill percentages\n",
    "pattern_names = [\n",
    "    'Cross', 'Grid', 'Gyroid', 'Octet', 'QuarterCube',\n",
    "    'Triangle', 'TriHex', 'ZigZag'\n",
    "]\n",
    "\n",
    "infill_percentages = ['10%', '25%', '40%', '50%', '60%', '75%', '90%', '100%']\n",
    "\n",
    "# Function to load data based on selected pattern name and infill percentage\n",
    "def load_data(pattern_name, infill_percentage):\n",
    "    global data\n",
    "    # Standardize the pattern name to match the file naming convention\n",
    "    pattern_name_formatted = pattern_name.lower().replace(' ', '').replace('quartercubic', 'quartercube')\n",
    "    \n",
    "    # Remove the '%' character from the infill percentage\n",
    "    infill_percentage_value = int(infill_percentage.replace('%', '')) / 100.0\n",
    "    infill_percentage_formatted = f\"{infill_percentage_value:.2f}\"\n",
    "    \n",
    "    # Construct the filename using the adjusted pattern name and infill percentage\n",
    "    file_name = f\"{pattern_name_formatted}_{infill_percentage_formatted}.gcode\"\n",
    "    file_path = os.path.join(patterns_folder, file_name)\n",
    "    data = parse_gcode(file_path, slicer_type = 'cura') # can also be 'prusa'\n",
    "\n",
    "\n",
    "# Dropdown widgets for pattern name and infill percentage\n",
    "pattern_dropdown = Dropdown(options=pattern_names, description='Pattern Name:')\n",
    "infill_dropdown = Dropdown(options=infill_percentages, description='Infill Percentage:')\n",
    "\n",
    "# Interact_manual to tie widgets with data loading function\n",
    "interact_manual(load_data, pattern_name=pattern_dropdown, infill_percentage=infill_dropdown, button_description=\"Load File\");"
   ]
  },
  {
   "cell_type": "markdown",
   "id": "10964d4e-a734-4272-902f-87c17fd2aab6",
   "metadata": {},
   "source": [
    "#### Press <font color = '#2195F2'>**Play**</font> to observe different orientations associated with patterns\n",
    "(Adjust the layer height using the provided slider to observe any changes in the infill pattern's impact on the print across different layer heights)"
   ]
  },
  {
   "cell_type": "code",
   "execution_count": null,
   "id": "134d03a8-c570-41f7-b10d-3f70ef89d781",
   "metadata": {
    "jupyter": {
     "source_hidden": true
    },
    "tags": []
   },
   "outputs": [],
   "source": [
    "import matplotlib.pyplot as plt\n",
    "import pandas as pd\n",
    "from ipywidgets import interact, Dropdown\n",
    "\n",
    "# Filtered unique Z values where E > 0\n",
    "z_values = sorted(data.loc[data['E'] > 0, 'Z'].unique())\n",
    "\n",
    "# Function to plot based on selected Z value\n",
    "def plot_layer(z_value):\n",
    "    fig = plt.figure(figsize=(5, 5))\n",
    "    ax = fig.add_subplot(111)\n",
    "    ax.axis('off')\n",
    "\n",
    "    for i in range(len(data) - 1):\n",
    "        if data['E'].iloc[i] > 0 and data['Z'].iloc[i] == z_value:\n",
    "            x_values = [data['X'].iloc[i], data['X'].iloc[i + 1]]\n",
    "            y_values = [data['Y'].iloc[i], data['Y'].iloc[i + 1]]\n",
    "            ax.plot(x_values, y_values, color='black', linewidth=5.6693)\n",
    "\n",
    "    ax.set_title(f'Layer Z = {z_value}')\n",
    "    ax.set_aspect(aspect='equal')\n",
    "    plt.show()\n",
    "\n",
    "# Dropdown widget for selecting Z values\n",
    "dropdown = Dropdown(options=z_values, description='Select Z value:')\n",
    "\n",
    "# Interact to tie widget with plotting function\n",
    "interact(plot_layer, z_value=dropdown);"
   ]
  },
  {
   "cell_type": "markdown",
   "id": "a0311e38-5d20-47e0-b2ca-0518538e0015",
   "metadata": {},
   "source": [
    "### Approaches to Extracting Infill Pattern Effects\n",
    "\n",
    "This module explores the impact of infill patterns using two distinct data mechanisms to extract and analyze features:\n",
    "\n",
    "- **Image Extraction**: We first extract images of each layer's infill pattern. This visual representation allows for precise analysis and comparison across layers.\n",
    "- **Using OpenCV**: These images are processed using OpenCV, a robust image processing library in Python. This facilitates advanced manipulations and analyses of the infill patterns.\n",
    "\n",
    "#### Key Objectives of This Module:\n",
    "- **Detecting Overlapping Regions**: Identify and analyze overlapping regions of interest between consecutive layers. This helps in understanding the continuity and structural integrity provided by the infill patterns.\n",
    "- **Gravity Impact Analysis**: Determine the regions of layers that are subjected to gravity and not supported by the layer underneath. This analysis is crucial for assessing potential weaknesses or failures in the print structure."
   ]
  },
  {
   "cell_type": "markdown",
   "id": "dcb6313b-5103-43c5-ae38-3e82d869459d",
   "metadata": {},
   "source": [
    "#### Press <font color = '#2195F2'>**Play**</font> to run pattern feature generation"
   ]
  },
  {
   "cell_type": "code",
   "execution_count": null,
   "id": "d6f7d12a-a8b9-4cf0-9db6-49c2509615b0",
   "metadata": {
    "jupyter": {
     "source_hidden": true
    },
    "tags": []
   },
   "outputs": [],
   "source": [
    "import matplotlib.pyplot as plt\n",
    "import numpy as np\n",
    "import cv2\n",
    "import pandas as pd\n",
    "from io import BytesIO\n",
    "from ipywidgets import SelectMultiple, RadioButtons, VBox, Button, Output\n",
    "from IPython.display import display, clear_output, Image\n",
    "\n",
    "def plot_layer_image(z_value):\n",
    "    \"\"\"Generates and returns an image for a given layer.\"\"\"\n",
    "    fig, ax = plt.subplots(figsize=(5, 5))\n",
    "    ax.axis('off')\n",
    "    layer_data = data[(data['Z'] == z_value) & (data['E'] > 0)]\n",
    "    for i in range(len(layer_data) - 1):\n",
    "        x_values = [layer_data['X'].iloc[i], layer_data['X'].iloc[i + 1]]\n",
    "        y_values = [layer_data['Y'].iloc[i], layer_data['Y'].iloc[i + 1]]\n",
    "        ax.plot(x_values, y_values, color='black', linewidth=5.6693)\n",
    "    ax.set_aspect('equal')\n",
    "    fig.tight_layout(pad=-1.5)\n",
    "    \n",
    "    buf = BytesIO()\n",
    "    plt.savefig(buf, format='png')\n",
    "    buf.seek(0)\n",
    "    img_array = np.frombuffer(buf.getvalue(), dtype=np.uint8)\n",
    "    buf.close()\n",
    "    plt.close(fig)\n",
    "    \n",
    "    image = cv2.imdecode(img_array, cv2.IMREAD_GRAYSCALE)\n",
    "    _, binary_image = cv2.threshold(image, 240, 255, cv2.THRESH_BINARY_INV)\n",
    "    \n",
    "    return binary_image\n",
    "\n",
    "def add_layers(layers):\n",
    "    \"\"\"Adds images of multiple layers.\"\"\"\n",
    "    if not layers:\n",
    "        return None\n",
    "    base_image = plot_layer_image(layers[0])\n",
    "    for z_value in layers[1:]:\n",
    "        image = plot_layer_image(z_value)\n",
    "        base_image = cv2.bitwise_or(base_image, image)\n",
    "    return base_image\n",
    "\n",
    "def subtract_layers(layers):\n",
    "    \"\"\"Subtracts images of multiple layers.\"\"\"\n",
    "    if not layers:\n",
    "        return None\n",
    "    base_image = plot_layer_image(layers[0])\n",
    "    for z_value in layers[1:]:\n",
    "        image = plot_layer_image(z_value)\n",
    "        base_image = cv2.bitwise_and(base_image, cv2.bitwise_not(image))\n",
    "    return base_image\n",
    "\n",
    "# Widgets\n",
    "layers_dropdown = SelectMultiple(options=sorted(data['Z'].unique()), description='Select Layers:')\n",
    "operation_select = RadioButtons(options=['add', 'subtract'], description='Operation:')\n",
    "run_button = Button(description=\"Process Layers\")\n",
    "output = Output()\n",
    "\n",
    "vbox = VBox([layers_dropdown, operation_select, run_button, output])\n",
    "display(vbox)\n",
    "\n",
    "def on_button_clicked(b):\n",
    "    with output:\n",
    "        clear_output(wait=True)  # Clears the previous output to keep the output clean\n",
    "        layers = list(layers_dropdown.value)\n",
    "        if not layers:\n",
    "            print(\"No layers selected.\")\n",
    "            return\n",
    "        \n",
    "        if operation_select.value == 'add':\n",
    "            result_image = add_layers(layers)\n",
    "        elif operation_select.value == 'subtract':\n",
    "            result_image = subtract_layers(layers)\n",
    "        \n",
    "        if result_image is not None:\n",
    "            result_image = cv2.bitwise_not(result_image)  # Invert the colors\n",
    "            _, buffer = cv2.imencode('.png', result_image)\n",
    "            display(Image(data=buffer))\n",
    "    \n",
    "run_button.on_click(on_button_clicked);"
   ]
  },
  {
   "cell_type": "markdown",
   "id": "c604a92c-3d26-4fa9-bc02-b5d2e55793c2",
   "metadata": {},
   "source": [
    "### Analysis of Extracted Data\n",
    "\n",
    "This data was extracted from all infill patterns, providing critical insights into the structural aspects of 3D printed objects:\n",
    "- **Impact of Gravity**: The features extracted help us understand that regions subjected to gravity without support from the layer below can be problematic, potentially leading to weaknesses in the structure.\n",
    "- **Benefits of Overlap**: Increased overlap between layers is beneficial as it provides additional support in multiple directions, enhancing the strength and stability of the part.\n",
    "\n",
    "The chart below illustrates how different infill patterns and densities affect these extracted features, offering a visual representation of the impact on structural integrity and support across layers.\n"
   ]
  },
  {
   "cell_type": "markdown",
   "id": "e13f8d6e-cb0d-4f06-9326-52adeff8cc3b",
   "metadata": {},
   "source": [
    "#### Press <font color = '#2195F2'>**Play**</font> to run data analysis and compare pattern data"
   ]
  },
  {
   "cell_type": "code",
   "execution_count": null,
   "id": "b84ecd4d-da5a-4af5-ab76-68096fd2d76e",
   "metadata": {
    "jupyter": {
     "source_hidden": true
    },
    "tags": []
   },
   "outputs": [],
   "source": [
    "import pandas as pd\n",
    "import os\n",
    "import re\n",
    "import matplotlib.pyplot as plt\n",
    "import ipywidgets as widgets\n",
    "from IPython.display import display\n",
    "\n",
    "# Sample directory containing your CSV files\n",
    "data_folder = 'values'\n",
    "\n",
    "# List of all CSV filenames\n",
    "csv_files_list = [file for file in os.listdir(data_folder) if file.endswith('.csv')]\n",
    "\n",
    "# Define a pattern to extract parts of the filenames\n",
    "filename_pattern = re.compile(r'^(?P<pattern_name>[a-z]+)_?(?P<infill_percentage>\\d+)%_(?P<action_type>\\w+)\\.csv$')\n",
    "\n",
    "# List to hold extracted data\n",
    "csv_data = []\n",
    "\n",
    "# Extract data from filenames\n",
    "for filename in csv_files_list:\n",
    "    match = filename_pattern.match(filename)\n",
    "    if match:\n",
    "        # Extract pattern name, infill percentage, and action type from each filename\n",
    "        csv_data.append({\n",
    "            'filename': filename,\n",
    "            'pattern_name': match.group('pattern_name'),\n",
    "            'infill_percentage': int(match.group('infill_percentage')),\n",
    "            'action_type': match.group('action_type')\n",
    "        })\n",
    "\n",
    "# Create a DataFrame\n",
    "df_csv_data = pd.DataFrame(csv_data)\n",
    "\n",
    "# Function to load data from CSV\n",
    "def load_csv_data(filename):\n",
    "    # Load the data\n",
    "    return pd.read_csv(f'values/{filename}')\n",
    "\n",
    "# Plotting function\n",
    "def plot_csv_data(pattern_names, infill_percentages, action_types):\n",
    "    plt.figure(figsize=(10, 6))  # Set the figure size\n",
    "\n",
    "    for index, row in df_csv_data.iterrows():\n",
    "        if row['pattern_name'] in pattern_names and row['infill_percentage'] in infill_percentages and row['action_type'] in action_types:\n",
    "            temp_df = load_csv_data(row['filename'])\n",
    "            # Assuming the single column of values is named 'values'\n",
    "            # You might need to adjust this if the column has a different name\n",
    "            plt.plot(temp_df.index, temp_df[temp_df.columns[0]], label=f\"{row['pattern_name']} {row['infill_percentage']}% {row['action_type']}\")\n",
    "\n",
    "    plt.title('Plot of CSV Data')\n",
    "    plt.xlabel('Layer')\n",
    "    plt.ylabel('Area mm2')\n",
    "    plt.grid(True)\n",
    "\n",
    "    # Adjust legend to be outside to the right\n",
    "    plt.legend(bbox_to_anchor=(1.05, 1), loc='upper left')\n",
    "\n",
    "    plt.show()\n",
    "\n",
    "# Widget setup\n",
    "pattern_widget = widgets.SelectMultiple(options=list(df_csv_data['pattern_name'].unique()), description=\"Patterns\")\n",
    "infill_widget = widgets.SelectMultiple(options=list(df_csv_data['infill_percentage'].unique()), description=\"Infill %\")\n",
    "action_widget = widgets.SelectMultiple(options=list(df_csv_data['action_type'].unique()), description=\"Action Type\")\n",
    "\n",
    "ui = widgets.HBox([pattern_widget, infill_widget, action_widget])\n",
    "out = widgets.interactive_output(plot_csv_data, {'pattern_names': pattern_widget, 'infill_percentages': infill_widget, 'action_types': action_widget})\n",
    "\n",
    "display(ui, out)\n"
   ]
  }
 ],
 "metadata": {
  "kernelspec": {
   "display_name": "Python 3 (ipykernel)",
   "language": "python",
   "name": "python3"
  },
  "language_info": {
   "codemirror_mode": {
    "name": "ipython",
    "version": 3
   },
   "file_extension": ".py",
   "mimetype": "text/x-python",
   "name": "python",
   "nbconvert_exporter": "python",
   "pygments_lexer": "ipython3",
   "version": "3.10.9"
  }
 },
 "nbformat": 4,
 "nbformat_minor": 5
}
