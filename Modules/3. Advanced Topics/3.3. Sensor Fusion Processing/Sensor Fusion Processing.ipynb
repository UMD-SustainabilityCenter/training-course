{
 "cells": [
  {
   "cell_type": "markdown",
   "id": "9e92fd9b-bc45-4e56-8d3e-463f6b716a8c",
   "metadata": {},
   "source": [
    "# A feature-level multi-sensor fusion approach for in-situ quality monitoring of selective laser melting"
   ]
  },
  {
   "cell_type": "markdown",
   "id": "8dc9f0d9-161d-4cdd-ac3c-b237d7cbcfa7",
   "metadata": {},
   "source": [
    "## Objective"
   ]
  },
  {
   "cell_type": "markdown",
   "id": "6004249d-7275-4b9e-9811-054be0a31069",
   "metadata": {},
   "source": [
    "**The objective of this work is to develop a model that can classify the quality of parts based on the the collected acoustic and optical signals.**\n",
    "\n",
    "Selective laser melting (SLM) is a widely utilized technique in additive manufacturing for creating metal components with intricate geometries and high precision. However, its practical adoption is limited by inconsistent process reproducibility and unreliable product quality. This highlights the urgent need for in-situ quality monitoring and real-time process control. A feature-level multi-sensor fusion method is introduced, combining acoustic emission signals with photodiode signals for in-situ quality monitoring in SLM's intelligence-driven production. An off-axis monitoring system with a microphone and photodiode captures process signatures during building. Based on 2D porosity and 3D density measurements, the collected acoustic and optical signals are categorized to indicate part quality. Considering laser scanning data, a method is developed to transform 1D signals into 2D images, which are then used to train a convolutional neural network to extract and merge features from both sensors. Compared to several baseline models, the proposed multi-sensor fusion method delivers superior performance in quality monitoring.\n",
    "\n",
    "\n",
    "### Feedstock materials and experimental setup\n",
    "\n",
    "316 L stainless steel powders with a size distribution between 15 and 37 μm were used in this work. Experiments were conducted in an inhouse SLM machine (FastForm-140) equipped with a fiber laser, operating in a continuous mode and producing a maximum 250 $W$ nominal output power. The range of the scanning speed is $0–7 m/s$, and the powder bed could be preheated to $200^◦C$. The maximum build part volume of the machine is $120 ×120 ×120 mm^3$. The airborne acoustic emission signal of the process zone is captured by a free-field standard microphone (G.R.A.S. 46AE 1/2′′CCP), with a frequency range of 3.15 Hz–20 kHz (±2 $dB$) and a sensitivity of 50 $mV/Pa$. The light intensity signal in the wavelength range of 500–1700 nm emitted during the building process is collected by a photodiode (C10439-11). The selected photodiode is an InGaAs type of photodiode with a $Φ3$ mm photosensitive area.\n",
    "\n",
    "<img src=\"code/figures/3.png\" alt=\"Drawing\" style=\"width: 400px;\" title=\" Experimental setup and a schematic representation of the SLM system\"/>\n",
    "\n",
    "### Porosity measurement\n",
    "\n",
    "In the experiments, three samples with the same size of 10 mm ×10 mm ×5 mm were built under each process condition. One of the three parts was randomly selected to measure the porosity. Since it is difficult to observe all build layers for porosity, four cross-sections perpendicular to the building direction were observed and measured. The average porosity of these sections, spaced about 300 μm apart, was calculated. Each cross-section was analyzed using a metallographic microscope, with five local regions observed at 50x magnification. The captured images were analyzed for porosity using ImageJ software, and the sum porosity of the five regions was used as the final porosity for each layer.\n",
    "\n",
    "<img src=\"code/figures/4.png\" alt=\"Drawing\" style=\"width: 400px;\" title=\" Experimental setup and a schematic representation of the SLM system\"/>\n",
    "\n",
    "<img src=\"code/figures/5.png\" alt=\"Drawing\" style=\"width: 800px;\" title=\" Experimental setup and a schematic representation of the SLM system\"/>"
   ]
  },
  {
   "cell_type": "markdown",
   "id": "356ca9ad-aea9-4329-b544-3d0ef41cb110",
   "metadata": {},
   "source": [
    "## Proposed Model"
   ]
  },
  {
   "cell_type": "markdown",
   "id": "88fc05aa-46a5-4792-a30e-2711c2452778",
   "metadata": {},
   "source": [
    "In this work, a feature-level multi-sensor fusion method by combining acoustic emission signals and photodiode signals is developed for in-situ quality monitoring. The proposed approach primarily consists of three steps: data acquisition and preprocessing, signal-to-image mapping, and CNN-based feature fusion and quality monitoring.\n",
    "\n",
    "<img src=\"code/figures/proposed_model.png\" alt=\"Drawing\" style=\"width: 600px;\" title=\" Experimental setup and a schematic representation of the SLM system\"/>"
   ]
  },
  {
   "cell_type": "markdown",
   "id": "70dd630e-6901-4c5b-934f-d8140cdf35c6",
   "metadata": {},
   "source": [
    "## Data Preprocessing and Signal-to-image Mapping"
   ]
  },
  {
   "cell_type": "markdown",
   "id": "30001711-09e9-4f25-bbdf-6dbe93700eda",
   "metadata": {},
   "source": [
    "### Photodiode raw data preprocessing and Signal-to-image Mapping\n",
    "To implement this method, redirect to [photodiode data preprocessing](code/photodiode_preprocess.ipynb)."
   ]
  },
  {
   "cell_type": "markdown",
   "id": "b0ab3699-1c7f-4583-9950-e8053914d6cc",
   "metadata": {},
   "source": [
    "### Microphone raw data preprocessing and Signal-to-image Mapping\n",
    "To implement this method, redirect to [microphone data preprocessing](code/microphone_preprocess.ipynb)."
   ]
  },
  {
   "cell_type": "markdown",
   "id": "0e105a82-27cf-4445-804e-2b3bf4882b06",
   "metadata": {},
   "source": [
    "## Model Training"
   ]
  },
  {
   "cell_type": "markdown",
   "id": "75765758-d254-4966-b19d-d4156231604a",
   "metadata": {},
   "source": [
    "### CNN model training\n",
    "To implement this method, redirect to [CNN model training](code/cnn_training.ipynb)."
   ]
  },
  {
   "cell_type": "markdown",
   "id": "71e6ce0f",
   "metadata": {},
   "source": [
    "## [🏠 Home](../../../welcomePage.ipynb)"
   ]
  }
 ],
 "metadata": {
  "kernelspec": {
   "display_name": "Python 3 (ipykernel)",
   "language": "python",
   "name": "python3"
  },
  "language_info": {
   "codemirror_mode": {
    "name": "ipython",
    "version": 3
   },
   "file_extension": ".py",
   "mimetype": "text/x-python",
   "name": "python",
   "nbconvert_exporter": "python",
   "pygments_lexer": "ipython3",
   "version": "3.11.9"
  }
 },
 "nbformat": 4,
 "nbformat_minor": 5
}
