{
 "cells": [
  {
   "cell_type": "markdown",
   "id": "a12d914f",
   "metadata": {
    "tags": [
     "auto-generated-toc"
    ]
   },
   "source": [
    "## Table of Contents\n",
    "- [G7: Digital Engineering Practice](#G7%3A-Digital-Engineering-Practice)\n",
    "  - [7.1 User Stories](#7.1-User-Stories)\n",
    "- [🏠 Home](../../welcomePage.ipynb)"
   ]
  },
  {
   "cell_type": "markdown",
   "id": "4d8e649b-776e-4791-839e-7b8cd33c54da",
   "metadata": {},
   "source": [
    "## Practice Modules\n",
    "These practice modules demonstrate practical engineering applications of digital technologies.\n",
    "\n",
    "#####  2.2. Predictive Maintenance Module\n",
    "\n",
    "- [Predictive Maintenance Module](../../Modules/Examples/2.%20Learning%20Modules/2.2.%20Predictive%20Maintenance%20Module/Predictive%20Maintenance%20Module.ipynb)\n",
    "\n",
    "#####  2.3. Cost Estimation Analysis\n",
    "\n",
    "- [Cost Estimation using GCode](../../Modules/Examples/2.%20Learning%20Modules/2.3.%20Cost%20Estimation%20Analysis/Cost%20Estimation%20using%20GCode.ipynb)\n",
    "\n",
    "#####  2.4. Effect of Infill Patterns on Sintering\n",
    "\n",
    "- [Effect of Infill Patterns on Sintering](../../Modules/Examples/2.%20Learning%20Modules/2.4.%20Effect%20of%20Infill%20Patterns%20on%20Sintering/Effect%20of%20Infill%20Patterns%20on%20Sintering.ipynb)\n",
    "\n",
    "#####  2.5. Height Map Feature Extraction\n",
    "\n",
    "- [3D Scan Feature Extraction](../../Modules/Examples/2.%20Learning%20Modules/2.5.%20Height%20Map%20Feature%20Extraction/3D%20Scan%20Feature%20Extraction.ipynb)\n",
    "\n",
    "#####  2.6. Model Predictive Control\n",
    "\n",
    "- [Model Predictive Control](../../Modules/Examples/2.%20Learning%20Modules/2.6.%20Model%20Predictive%20Control/Model%20Predictive%20Control.ipynb)\n",
    "\n",
    "#####  2.7. Digital Twin Lithium-Ion Battery\n",
    "\n",
    "- [Digital Twin Lithium-Ion](../../Modules/Examples/2.%20Learning%20Modules/2.7.%20Digital%20Twin%20Lithium-Ion%20Battery/Digital%20Twin%20Lithium-Ion.ipynb)\n",
    "\n",
    "#####  2.8. Digital Twin for Smart Scanning\n",
    "\n",
    "- [Digital Twin for Smart Scanning](../../Modules/Examples/2.%20Learning%20Modules/2.8.%20Digital%20Twin%20for%20Smart%20Scanning/Digital%20Twin%20for%20Smart%20Scanning.ipynb)"
   ]
  },
  {
   "cell_type": "markdown",
   "id": "a231865c",
   "metadata": {
    "tags": [
     "Bottom Navigation"
    ]
   },
   "source": [
    "### <center>[◀︎ Module 6](Module6.ipynb)     [🏠 Home](../../welcomePage.ipynb)     [Module 8 ▶︎](Module8.ipynb)</center>"
   ]
  }
 ],
 "metadata": {
  "kernelspec": {
   "display_name": "Python 3 (ipykernel)",
   "language": "python",
   "name": "python3"
  },
  "language_info": {
   "codemirror_mode": {
    "name": "ipython",
    "version": 3
   },
   "file_extension": ".py",
   "mimetype": "text/x-python",
   "name": "python",
   "nbconvert_exporter": "python",
   "pygments_lexer": "ipython3",
   "version": "3.11.6"
  },
  "widgets": {
   "application/vnd.jupyter.widget-state+json": {
    "state": {},
    "version_major": 2,
    "version_minor": 0
   }
  }
 },
 "nbformat": 4,
 "nbformat_minor": 5
}
