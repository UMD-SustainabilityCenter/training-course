{
 "cells": [
  {
   "cell_type": "markdown",
   "id": "ebf78df0-cd35-45b5-a279-be65648a21b0",
   "metadata": {},
   "source": [
    "## Table of Contents\n",
    "* [Module 7: Digital Engineering Practice](#Module-7:-Digital-Engineering-Practice)\n",
    "    * [User Stories](#User-Stories:)\n",
    "        * Levi's Demo\n",
    "        * [Sensor Fusion Processing](3.%20Advanced%20Topics/3.3.%20Sensor%20Fusion%20Processing/Sensor%20Fusion%20Processing.ipynb)\n",
    "        * [Predictive Maintenance Module](2.%20Learning%20Modules/2.2.%20Predictive%20Maintenance%20Module/Predictive%20Maintenance%20Module.ipynb)\n",
    "    * [Future Plan: Prescriptive models](#Future-Plan:-Prescriptive-models)\n",
    "    * [Assessment](#Assessment:)\n",
    "        * [Take a quiz](http://example.com/quiz)\n",
    "#### [🏠 Home](../../welcomePage.ipynb)"
   ]
  },
  {
   "cell_type": "markdown",
   "id": "6cc8f19d-2505-499c-88be-76574f424ce7",
   "metadata": {},
   "source": [
    "### Module 7: Digital Engineering Practice\n",
    "\n",
    "#### User Stories:\n",
    "\n",
    "- Hybrid Additive/Subtractive Process - Closed loop hybrid additive/subtractive process enabled by in situ IoT 3D scanner\n",
    "\n",
    "- Chatter and Vibration Detection for 5-axis Milling - In situ sensor selection\n",
    "\n",
    "- [Sensor Fusion Processing](3.%20Advanced%20Topics/3.3.%20Sensor%20Fusion%20Processing/Sensor%20Fusion%20Processing.ipynb) - Selective laser melting (SLM) combines acoustic and photodiode signals for improved in-situ quality monitoring, significantly enhancing metal manufacturing reliability and precision through advanced sensor data analysis.\n",
    "\n",
    "- [Predictive Maintenance Module](\n",
    "2.%20Learning%20Modules/2.2.%20Predictive%20Maintenance%20Module/Predictive%20Maintenance%20Module.ipynb) - Predictive maintenance is a prospective approach to maintenance that predicts equipment failures before they occur, minimizing downtime and maximizing productivity. Predictive maintenance models can identify patterns indicative of potential issues by analyzing historical data, such as sensor measurements and equipment performance. This allows maintenance teams to schedule repairs or replacements in advance, reducing costs associated with unplanned downtime and improving overall operational efficiency.\n",
    "\n",
    "<center>\n",
    "    <img src=\"../img/PredictiveMaintenance.jpg\" alt=\"Alt text\" width=\"600\">\n",
    "</center>\n",
    "\n",
    "#### Assessment:\n",
    "- [Take a quiz](http://example.com/quiz)"
   ]
  },
  {
   "cell_type": "markdown",
   "id": "323c4d63-1039-4c49-916a-fa0895177391",
   "metadata": {},
   "source": [
    "### <center>[◀︎ Module 6](Module6.ipynb)     [🏠 Home](../../welcomePage.ipynb)     [Module 8 ▶︎](Module8.ipynb)</center>\n"
   ]
  }
 ],
 "metadata": {
  "kernelspec": {
   "display_name": "Python 3 (ipykernel)",
   "language": "python",
   "name": "python3"
  },
  "language_info": {
   "codemirror_mode": {
    "name": "ipython",
    "version": 3
   },
   "file_extension": ".py",
   "mimetype": "text/x-python",
   "name": "python",
   "nbconvert_exporter": "python",
   "pygments_lexer": "ipython3",
   "version": "3.12.5"
  }
 },
 "nbformat": 4,
 "nbformat_minor": 5
}
