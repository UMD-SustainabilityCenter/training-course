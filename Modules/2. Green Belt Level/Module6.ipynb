{
 "cells": [
  {
   "cell_type": "markdown",
   "id": "848f17f1-830d-45f0-abbe-d0570254fc52",
   "metadata": {},
   "source": [
    "## Table of Contents\n",
    "* [Module 6: Digital Twins](#Module-6:-Digital-Twins)\n",
    "    * [Concepts](#Concepts:)\n",
    "    * [User Stories](#User-Stories:)\n",
    "        * [Digital Twin for Smart Scanning](2.%20Learning%20Modules/2.8.%20Digital%20Twin%20for%20Smart%20Scanning/Digital%20Twin%20for%20Smart%20Scanning.ipynb)\n",
    "    * [Assessment](#Assessment:)\n",
    "        * [Take a quiz](http://example.com/quiz)\n",
    "#### [🏠 Home](../../welcomePage.ipynb)"
   ]
  },
  {
   "cell_type": "markdown",
   "id": "cba262dc-de98-456e-8c35-c639c016de01",
   "metadata": {},
   "source": [
    "## Module 6: Digital Twins\n",
    "As what we learned in the Yellow belt level, we have the definition of digital twins as:\n",
    "\n",
    "**A digital twin is a set of virtual information constructs that mimics the structure, context, and behavior of a natural, engineered, or social system (or system-of-systems), is dynamically updated with data from its physical twin, has a predictive capability, and informs decisions that realize value. The bidirectional interaction between the virtual and the physical is central to the digital twin**\n",
    "\n",
    "To build a digital twin, the following enabling techniques are essential.\n",
    "### Digital Modeling:\n",
    "- **Digital Modeling** Modeling plays an essential role in digital twins by creating a digital replica of the physical entity of interest. According to the purpose and complexity of different modeling methods, we classify them into the following five categories.\n",
    "  * Geometric modeling: The commonly used techniques for geometric modeling include: solid modeling using computer-aided design software, laser scanning which is also commonly referred to as light detection and ranging (LiDAR), and other techniques, such as virtual reality (VR), augmented reality (AR), mixed reality (MR), have also been explored as viable methods of constructing digital replicas of various physical entities.\n",
    "<center>\n",
    "    <img src=\"Module 6 Content/40.jpg\" alt=\"Alt text\" width=\"650\">\n",
    "</center> \n",
    "\n",
    "  * Physics‐based modeling: In computer-aided engineering (CAE), engineers and researchers use software packages to formulate mathematical models consisting of PDEs that describe the underlying physics, initial conditions, and boundary conditions.\n",
    "  * Data‐driven modeling: Digital models that are constructed based on data using machine learning or statistical models.\n",
    "  * Physics‐informed ML: For some aspects of the physics in digital twins, both data from first-principle (or physics-based) simulations and data collected from a physical system may be available. When both physics and data are present, physics-based simulations and data-driven models can be integrated, resulting in hybrid physics-ML approaches for modeling physical systems.\n",
    "  * System modeling: A physical system usually consists of many subsystems and components that interact with each other in a variety of means. It is, therefore, important to model the high-level interactions and the overall interconnection structure among different components in the physical system. The commonly used techniques include unified modeling language and systems modeling language (sysML).\n",
    "\n",
    "### Data Transmission:\n",
    "- **Data Transmission:** The process of data transmission and real-time communication can be divided into data sensing and measurement, data storage, data processing, data fusion, and data transmission, as shown in the figure below. To percept the complex system in the real world, such as geometry, shape, physical property, and the mechanical accuracy, various digital twins have implemented different sensing and measurement technologies, includ- ing IoT, edge computing, image recognition measurement, particle sensing technology, and so on. \n",
    "\n",
    "<center>\n",
    "    <img src=\"Module 6 Content/Data_trans.png\" alt=\"Alt text\" width=\"650\">\n",
    "</center>\n",
    "\n",
    "### Physical to Virtual:\n",
    "- **Physical to Virtual:** It is a updating engine that updates the state of the digital model based on the sensor data. The commonly used techniques include the following.\n",
    "    * Using physical measurements as input to the virtual space: It is a straightforward way of connecting the physical space with the virtual space, where physical measurements are used as inputs of the digital model.\n",
    "    * Probabilistic model updating: The states of the digital model are updated using probabilistic methods based on meausrements from the physical system.\n",
    "    * ML model updating: ML model updating will prevent severe performance degradation of a trained and deployed ML model. The timely update of the ML model is also the key to ensuring a consistent and acceptable predictive performance in characterizing the trend of quantities of interest associated with physical assets. \n",
    "    * Fault diagnostics: Fault diagnostics is focused on identifying the presence (fault detection), location (fault localization), type (fault identification) and possibly severity (fault severity assessment) of damage/defects representative of the system’s current health state.\n",
    "    * Ontology‐based reasoning: Ontology maps and knowledge graphs provide a straightforward way to represent empirical knowledge in a structured manner.\n",
    "\n",
    "### Virtual to Physical:\n",
    "- **Virtual to Physical:** It is a predicting engine which predicts status of the physical system and provide actionable decision to the physical system. The updated digital/virtual models are employed to predict the future state of the physical system using the prediction engine, thereby enabling predictive decision-making feeding back to the physical system through actuators (control, maintenance, path planning, etc.). The commonly used methods are summarized as follows.\n",
    "    * Model predictive control: MPC is an essential component for smart manufacturing, which enables not only the optimal use of resources for high-quality products, and but also quick production responses to changes in market demands and supply chains.\n",
    "    * Failure prognostics and predictive maintenance: Failure prognostics is tasked with tracking the time evolution of fault properties and projecting their progression into the future to yield an updated estimate of the physical system’s health state or remaining useful life. Predictive maintenance can then be performed to optimize the maintenance activity of the physical system.\n",
    "    * Real‐time perception and decision‐making: Various ML techniques can be used to facilitate real-time or near real-time (sometimes termed just-in-time) perception and decision-making. \n",
    "\n",
    "#### User Story 1:\n",
    "**Levi's example here.**\n",
    "\n",
    "#### User Story 2:\n",
    "- [Digital Twins for Selective laser melting (SLM) Process Control](2.%20Learning%20Modules/2.8.%20Digital%20Twin%20for%20Smart%20Scanning/Digital%20Twin%20for%20Smart%20Scanning.ipynb) - Selective laser melting (SLM) is a widely utilized technique in additive manufacturing for creating metal components with intricate geometries and high precision. However, its practical adoption is limited by inconsistent process reproducibility and unreliable product quality. This highlights the urgent need for in-situ quality monitoring and real-time process control. A feature-level multi-sensor fusion method is introduced, combining acoustic emission signals with photodiode signals for in-situ quality monitoring in SLM's intelligence-driven production. An off-axis monitoring system with a microphone and photodiode captures process signatures during building. Based on 2D porosity and 3D density measurements, the collected acoustic and optical signals are categorized to indicate part quality. Considering laser scanning data, a method is developed to transform 1D signals into 2D images, which are then used to train a convolutional neural network to extract and merge features from both sensors. Compared to several baseline models, the proposed multi-sensor fusion method delivers superior performance in quality monitoring.\n",
    "\n",
    "<center>\n",
    "    <img src=\"Module 6 Content/1.png\" alt=\"Alt text\" width=\"500\">\n",
    "</center>\n",
    "\n",
    "- **Digital Modeling:** For this particular application, the digital model is constructed using machine learning models based on data. In particular, a feature-level multi-sensor fusion method based on 2D CNN is developed for quality monitoring using the acoustic and photodiode monitoring data as the inputs and the quality of the 3D printed product as output.\n",
    "- **Data Transmission:** As illustrated in the figure above, the data is collected using a microphone and a photodiode. The data is then tranmitted to a monitoring system through a data acquisition card. The following figures show some examples of the raw monitoring data.\n",
    "\n",
    "<center>\n",
    "    <img src=\"Module 6 Content/Raw1.png\" alt=\"Alt text\" width=\"500\">\n",
    "</center>\n",
    "\n",
    "<center>\n",
    "    <img src=\"Module 6 Content/Raw2.png\" alt=\"Alt text\" width=\"500\">\n",
    "</center>\n",
    "\n",
    "- **Physical to Virtual:** For this particular application, the connection between the physical system and the virtual twin is established through fault diagnostics. In fault diagnostics, the monitoring data of the manufacturing process is used to identify the presence (fault detection) and type (fault identification) and possibly severity (fault severity assessment) of damage/defects representative of the system’s current health state.\n",
    "- **Virtual to Physical:** Based on the facult diagnostics of the manufacturing process, model-predictive control can then be implemented to close the loop of digital twin to improve the quality of the manufacturing process.\n",
    "#### Assessment:\n",
    "- [Take a quiz](http://example.com/quiz)"
   ]
  },
  {
   "cell_type": "markdown",
   "id": "de4bf3cc-fe67-42a4-9849-8e451f8a914b",
   "metadata": {},
   "source": [
    "### <center>[◀︎ Module 5](Module5.ipynb)     [🏠 Home](../../welcomePage.ipynb)     [Module 7 ▶︎](Module7.ipynb)</center>\n"
   ]
  }
 ],
 "metadata": {
  "kernelspec": {
   "display_name": "Python 3 (ipykernel)",
   "language": "python",
   "name": "python3"
  },
  "language_info": {
   "codemirror_mode": {
    "name": "ipython",
    "version": 3
   },
   "file_extension": ".py",
   "mimetype": "text/x-python",
   "name": "python",
   "nbconvert_exporter": "python",
   "pygments_lexer": "ipython3",
   "version": "3.11.6"
  }
 },
 "nbformat": 4,
 "nbformat_minor": 5
}
