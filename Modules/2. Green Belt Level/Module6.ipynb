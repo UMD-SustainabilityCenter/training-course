{
 "cells": [
  {
   "cell_type": "markdown",
   "id": "3f632e96",
   "metadata": {
    "tags": [
     "auto-generated-toc"
    ]
   },
   "source": [
    "## Table of Contents\n",
    "- [G6 Digital Twins](#G6-Digital-Twins)\n",
    "  - [6.1 Digital Modeling](#6.1-Digital-Modeling)\n",
    "  - [6.2 Data Transmission](#6.2-Data-Transmission)\n",
    "  - [6.3 Physical to Virtual](#6.3-Physical-to-Virtual)\n",
    "  - [6.4 Virtual to Physical](#6.4-Virtual-to-Physical)\n",
    "  - [6.5 User Story 1](#6.5-User-Story-1)\n",
    "  - [6.6 User Story 2](#6.6-User-Story-2)\n",
    "- [🏠 Home](../../welcomePage.ipynb)"
   ]
  },
  {
   "cell_type": "markdown",
   "id": "cba262dc-de98-456e-8c35-c639c016de01",
   "metadata": {},
   "source": [
    "# G6 Digital Twins\n",
    "As what we learned in the Yellow belt level, we have the definition of digital twins as:\n",
    "\n",
    "**A digital twin is a set of virtual information constructs that mimics the structure, context, and behavior of a natural, engineered, or social system (or system-of-systems), is dynamically updated with data from its physical twin, has a predictive capability, and informs decisions that realize value. The bidirectional interaction between the virtual and the physical is central to the digital twin**\n",
    "\n",
    "To build a digital twin, the following enabling techniques are essential.\n",
    "## 6.1 Digital Modeling\n",
    "- **Digital Modeling** Modeling plays an essential role in digital twins by creating a digital replica of the physical entity of interest. According to the purpose and complexity of different modeling methods, we classify them into the following five categories.\n",
    "  * Geometric modeling: The commonly used techniques for geometric modeling include: solid modeling using computer-aided design software, laser scanning which is also commonly referred to as light detection and ranging (LiDAR), and other techniques, such as virtual reality (VR), augmented reality (AR), mixed reality (MR), have also been explored as viable methods of constructing digital replicas of various physical entities.\n",
    "<center>\n",
    "    <img src=\"Module 6 Content/40.jpg\" alt=\"Alt text\" width=\"500\">\n",
    "</center> \n",
    "\n",
    "  * Physics‐based modeling: In computer-aided engineering (CAE), engineers and researchers use software packages to formulate mathematical models consisting of PDEs that describe the underlying physics, initial conditions, and boundary conditions.\n",
    "  * Data‐driven modeling: Digital models that are constructed based on data using machine learning or statistical models.\n",
    "  * Physics‐informed ML: For some aspects of the physics in digital twins, both data from first-principle (or physics-based) simulations and data collected from a physical system may be available. When both physics and data are present, physics-based simulations and data-driven models can be integrated, resulting in hybrid physics-ML approaches for modeling physical systems.\n",
    "  * System modeling: A physical system usually consists of many subsystems and components that interact with each other in a variety of means. It is, therefore, important to model the high-level interactions and the overall interconnection structure among different components in the physical system. The commonly used techniques include unified modeling language and systems modeling language (sysML).\n",
    "\n",
    "## 6.2 Data Transmission\n",
    "- **Data Transmission:** The process of data transmission and real-time communication can be divided into data sensing and measurement, data storage, data processing, data fusion, and data transmission, as shown in the figure below. To percept the complex system in the real world, such as geometry, shape, physical property, and the mechanical accuracy, various digital twins have implemented different sensing and measurement technologies, includ- ing IoT, edge computing, image recognition measurement, particle sensing technology, and so on. \n",
    "\n",
    "<center>\n",
    "    <img src=\"Module 6 Content/Data_trans.png\" alt=\"Alt text\" width=\"650\">\n",
    "</center>\n",
    "\n",
    "## 6.3 Physical to Virtual\n",
    "- **Physical to Virtual:** It is a updating engine that updates the state of the digital model based on the sensor data. The commonly used techniques include the following.\n",
    "    * Using physical measurements as input to the virtual space: It is a straightforward way of connecting the physical space with the virtual space, where physical measurements are used as inputs of the digital model.\n",
    "    * Probabilistic model updating: The states of the digital model are updated using probabilistic methods based on meausrements from the physical system.\n",
    "    * ML model updating: ML model updating will prevent severe performance degradation of a trained and deployed ML model. The timely update of the ML model is also the key to ensuring a consistent and acceptable predictive performance in characterizing the trend of quantities of interest associated with physical assets. \n",
    "    * Fault diagnostics: Fault diagnostics is focused on identifying the presence (fault detection), location (fault localization), type (fault identification) and possibly severity (fault severity assessment) of damage/defects representative of the system’s current health state.\n",
    "    * Ontology‐based reasoning: Ontology maps and knowledge graphs provide a straightforward way to represent empirical knowledge in a structured manner.\n",
    "\n",
    "## 6.4 Virtual to Physical\n",
    "- **Virtual to Physical:** It is a predicting engine which predicts status of the physical system and provide actionable decision to the physical system. The updated digital/virtual models are employed to predict the future state of the physical system using the prediction engine, thereby enabling predictive decision-making feeding back to the physical system through actuators (control, maintenance, path planning, etc.). The commonly used methods are summarized as follows.\n",
    "    * Model predictive control: MPC is an essential component for smart manufacturing, which enables not only the optimal use of resources for high-quality products, and but also quick production responses to changes in market demands and supply chains.\n",
    "    * Failure prognostics and predictive maintenance: Failure prognostics is tasked with tracking the time evolution of fault properties and projecting their progression into the future to yield an updated estimate of the physical system’s health state or remaining useful life. Predictive maintenance can then be performed to optimize the maintenance activity of the physical system.\n",
    "    * Real‐time perception and decision‐making: Various ML techniques can be used to facilitate real-time or near real-time (sometimes termed just-in-time) perception and decision-making. \n",
    "\n",
    "## 6.5 User Story 1\n",
    "As described in the yellow belt level, this user story demonstrates digital twin principles by integrating additive manufacturing, laser scanning, and subtractive machining into a cohesive workflow. Initially, a precise 3D CAD model is created and exported as an STL file, which is then sliced and printed via additive manufacturing (3D printing). Due to inherent inaccuracies in the additive process, the resulting physical part often deviates from the exact dimensions specified in the CAD model. To address this, a Gocator laser scanner captures a precise 3D profile of the printed part. The scanned data is compared against the original STL model to detect any deviations or errors. Areas found to exceed tolerance limits—manifesting as protrusions or inaccuracies—are identified and marked for correction. The next stage involves generating an optimized machining path specifically targeting these out-of-tolerance areas. Dedicated algorithms process the scanned data and produce precise cutting coordinates to remove only the protruding sections. These coordinates are then translated into machine-readable G-code instructions. The final subtractive machining step utilizes these instructions, allowing a CNC-capable 3D printer equipped with appropriate cutting tools to accurately mill and correct the identified deviations, ultimately producing a final part that closely adheres to its original CAD specifications.\n",
    "\n",
    "<center>\n",
    "    <img src=\"Module 6 Content/A_S_S_1.png\" alt=\"Alt text\" width=\"500\">\n",
    "</center> \n",
    "\n",
    "### <font color = '#646464'>6.5.1 Digital Modeling</font>\n",
    "For this particular application, the digital model is constructed by importing STL file and creating 3D reference model. It involves taking a cross section to create a refrence plane\n",
    "creating a boundary off of the exterior profile from refrence plane, and computing the X, Y, and Z offset to find the parts location on printing bed and height of model.\n",
    "### <font color = '#646464'>6.5.2 Data Transmission</font>\n",
    "The data transmission of this user story is conducted through uploading the scan data to the solver and then process the scanner data. It involves loading in scanned data as plain text then cleaning up data so that we are left with only the X,Y, and heightmap. After that, we drop all of the rows and columns that are left blank to reduce file size. Details of data processing can be found in the black-belt module. The following is an example of the scan data.\n",
    "\n",
    "<center>\n",
    "    <img src=\"Module 6 Content/A_S_S_2.png\" alt=\"Alt text\" width=\"500\">\n",
    "</center> \n",
    "\n",
    "### <font color = '#646464'>6.5.3 Physical to Virtual</font>\n",
    "To connect physical system with the virtual model, we create a boundary based off of the scanner data and overlaying it with the boundary based off of the original part file. It starts with creating a boundary from the exterior shape of the scanned data and then overlays the scanned boundary with the original STL boundary created previously. We color code overlaping sections to identify defective sections. An example is shown below.\n",
    "\n",
    "<center>\n",
    "    <img src=\"Module 6 Content/A_S_S_4.png\" alt=\"Alt text\" width=\"500\">\n",
    "</center> \n",
    "\n",
    "### <font color = '#646464'>6.5.4 Virtual to Physical</font>\n",
    "Based on the comparison between the STL file and the scanning, for virtual to physical, we take the identified defective sections of the original boundary and offset them by the cutting tools radius creating a cutting segment. We then take the non-defective sections of the original boundary and offset them by the cutting tools diameter creating a clearence segment, and store these in two seperate arrays for cutting path generation. The goal through the feedback is to reduce the defects in the subtractive manufacturing process.\n",
    "\n",
    "## 6.6 User Story 2\n",
    "[Digital Twins for Selective laser melting (SLM) Process Control](../../Modules/Examples/2.%20Learning%20Modules/2.8.%20Digital%20Twin%20for%20Smart%20Scanning/Digital%20Twin%20for%20Smart%20Scanning.ipynb) - Selective laser melting (SLM) is a widely utilized technique in additive manufacturing for creating metal components with intricate geometries and high precision. However, its practical adoption is limited by inconsistent process reproducibility and unreliable product quality. This highlights the urgent need for in-situ quality monitoring and real-time process control. A feature-level multi-sensor fusion method is introduced, combining acoustic emission signals with photodiode signals for in-situ quality monitoring in SLM's intelligence-driven production. An off-axis monitoring system with a microphone and photodiode captures process signatures during building. Based on 2D porosity and 3D density measurements, the collected acoustic and optical signals are categorized to indicate part quality. Considering laser scanning data, a method is developed to transform 1D signals into 2D images, which are then used to train a convolutional neural network to extract and merge features from both sensors. Compared to several baseline models, the proposed multi-sensor fusion method delivers superior performance in quality monitoring. For this user story, the four components (i.e., digital modeling, data transmission, physical to virtual, and virtual to physical) of the digital twin are explained as follows.\n",
    "\n",
    "<center>\n",
    "    <img src=\"Module 6 Content/1.png\" alt=\"Alt text\" width=\"500\">\n",
    "</center>\n",
    "\n",
    "### 6.6.1 Digital Modeling \n",
    "For this particular application, the digital model is constructed using machine learning models based on data. In particular, a feature-level multi-sensor fusion method based on 2D CNN is developed for quality monitoring using the acoustic and photodiode monitoring data as the inputs and the quality of the 3D printed product as output.\n",
    "### 6.6.2 Data Transmission\n",
    "As illustrated in the figure above, the data is collected using a microphone and a photodiode. The data is then tranmitted to a monitoring system through a data acquisition card. The following figures show some examples of the raw monitoring data.\n",
    "\n",
    "<center>\n",
    "    <img src=\"Module 6 Content/Raw1.png\" alt=\"Alt text\" width=\"500\">\n",
    "</center>\n",
    "\n",
    "<center>\n",
    "    <img src=\"Module 6 Content/Raw2.png\" alt=\"Alt text\" width=\"500\">\n",
    "</center>\n",
    "\n",
    "### 6.6.3 Physical to Virtual\n",
    "For this particular application, the connection between the physical system and the virtual twin is established through fault diagnostics. In fault diagnostics, the monitoring data of the manufacturing process is used to identify the presence (fault detection) and type (fault identification) and possibly severity (fault severity assessment) of damage/defects representative of the system’s current health state.\n",
    "### 6.6.4 Virtual to Physical\n",
    "Based on the facult diagnostics of the manufacturing process, model-predictive control can then be implemented to close the loop of digital twin to improve the quality of the manufacturing process."
   ]
  },
  {
   "cell_type": "markdown",
   "id": "2664c7e5",
   "metadata": {
    "tags": [
     "Bottom Navigation"
    ]
   },
   "source": [
    "### <center>[◀︎ Module 5](Module5.ipynb)     [🏠 Home](../../welcomePage.ipynb)     [Module 7 ▶︎](Module7.ipynb)</center>"
   ]
  }
 ],
 "metadata": {
  "kernelspec": {
   "display_name": "Python 3 (ipykernel)",
   "language": "python",
   "name": "python3"
  },
  "language_info": {
   "codemirror_mode": {
    "name": "ipython",
    "version": 3
   },
   "file_extension": ".py",
   "mimetype": "text/x-python",
   "name": "python",
   "nbconvert_exporter": "python",
   "pygments_lexer": "ipython3",
   "version": "3.12.5"
  },
  "widgets": {
   "application/vnd.jupyter.widget-state+json": {
    "state": {},
    "version_major": 2,
    "version_minor": 0
   }
  }
 },
 "nbformat": 4,
 "nbformat_minor": 5
}
