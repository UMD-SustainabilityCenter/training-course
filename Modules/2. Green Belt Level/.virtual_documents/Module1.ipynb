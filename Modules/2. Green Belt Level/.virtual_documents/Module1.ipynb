





import pandas as pd

# Load the dataset
df = pd.read_csv('Module1/predictive_maintenance.csv')

# View Dataset
df.head()





# Inspect data for common issues
df.info()








# Generate summary statistics
df.describe()








import matplotlib.pyplot as plt

# Scatter plot of Air temperature vs Process temperature
plt.figure(figsize=(10, 6))
plt.scatter(df['Air temperature [K]'], df['Process temperature [K]'], alpha=1, s = 4)
# plt.title('Relationship between Air Temperature and Process Temperature')
plt.xlabel('Air Temperature [K]')
plt.ylabel('Process Temperature [K]')
plt.grid(True)
plt.show()





import matplotlib.pyplot as plt

# Set global font properties for all matplotlib plots
plt.rcParams['font.family'] = 'Times New Roman'
plt.rcParams['font.size'] = 10  # Set a default smaller font size


# Calculate the counts of each failure type
failure_counts = df['Failure Type'].value_counts()

# Calculate the percentage for each failure type
failure_percentages = (failure_counts / failure_counts.sum()) * 100

# Create the bar plot
plt.figure(figsize=(10, 6))
bars = plt.bar(failure_counts.index, failure_counts, color='skyblue')

# Add percentage labels on top of the bars
for bar, percentage in zip(bars, failure_percentages):
    plt.text(bar.get_x() + bar.get_width() / 2, bar.get_height(), f'{percentage:.1f}%', 
             ha='center', va='bottom', fontsize=10)

plt.title('Counts of Different Failure Types')
# plt.xlabel('Failure Type')
plt.ylabel('Count')
plt.grid(axis='y')
plt.show()





# Option 1: Delete rows with missing data

# Drop rows with any missing values
cleaned_df = df.dropna()

# We inspect the data again
cleaned_df.info()
data = cleaned_df.copy()





import pandas as pd

# Fill numerical columns with mean
df_numeric = df.select_dtypes(include=['float64', 'int64'])
df_filled_numeric = df_numeric.fillna(df_numeric.mean())

# Fill categorical columns with mode
df_categorical = df.select_dtypes(include=['object'])
df_filled_categorical = df_categorical.apply(lambda x: x.fillna(x.mode()[0]))

# Combine the filled numerical and categorical DataFrames
df_filled = pd.concat([df_filled_numeric, df_filled_categorical], axis=1)

df_filled
data = df_filled.copy()








import pandas as pd
from sklearn.preprocessing import LabelEncoder, OneHotEncoder

# Label Encoding for Failure Type
label_encoder = LabelEncoder()
data['No Failure Encoded'] = label_encoder.fit_transform(data['Failure Type'])

# One-Hot Encoding for Type
data_encoded = pd.get_dummies(data, columns=['Type'], prefix='Type')

# Display the updated DataFrame
data_encoded





# Dropping unnecessary columns
columns_to_drop = ['UDI', 'Failure Type']
data_encoded_cleaned = data_encoded.drop(columns=columns_to_drop)

# Display the updated DataFrame
data_encoded_cleaned
