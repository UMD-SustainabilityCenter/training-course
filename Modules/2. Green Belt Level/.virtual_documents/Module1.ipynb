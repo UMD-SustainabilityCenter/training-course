








import pandas as pd

# Load the dataset
df = pd.read_csv('Module1/predictive_maintenance.csv')

# View Dataset
df.head()





# Inspect data for common issues
df.info()








# Generate summary statistics
df.describe()








import matplotlib.pyplot as plt

# Scatter plot of Air temperature vs Process temperature
plt.figure(figsize=(10, 6))
plt.scatter(df['Air temperature [K]'], df['Process temperature [K]'], alpha=1, s = 5)
plt.title('Relationship between Air Temperature and Process Temperature')
plt.xlabel('Air Temperature [K]')
plt.ylabel('Process Temperature [K]')
plt.grid(True)
plt.show()





# Option 1: Delete rows with missing data

# Drop rows with any missing values
cleaned_df = df.dropna()

# We inspect the data again
cleaned_df.info()


# Option 2: Replace missing data with Mean or Median of that Feature

# Fill missing values with the mean of the column
df_filled_mean = df.fillna(df.mean())

# We inspect the data again
df_filled_mean.info()



