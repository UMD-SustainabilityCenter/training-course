

















import cv2
import numpy as np
import os
from PIL import Image, ImageDraw
import io
import matplotlib.cm as cm
from IPython.display import display
from ipywidgets import IntSlider, IntText, HTML, VBox, HBox, Image as ImageWidget

# === SETTINGS ===
video_path = 'Module 4 Content/Data/Thermal Video.mp4'  # Change to your actual video file
min_temp = 30
max_temp = 160
colormap = cm.rainbow

# === STEP 1: Load video and convert to frames ===
cap = cv2.VideoCapture(video_path)
frames = []

while cap.isOpened():
    ret, frame = cap.read()
    if not ret:
        break
    gray = cv2.cvtColor(frame, cv2.COLOR_BGR2GRAY)
    frames.append(gray)

cap.release()
print(f"Loaded {len(frames)} frames.")

# === STEP 2: Convert frame to PNG with marker ===
def array_to_png_with_marker(data, x, y, cmap=colormap, vmin=min_temp, vmax=max_temp):
    normed = np.clip((data - vmin) / (vmax - vmin), 0, 1)
    colored = (cmap(normed)[:, :, :3] * 255).astype(np.uint8)
    img = Image.fromarray(colored)
    draw = ImageDraw.Draw(img)

    # Grid (optional)
    for i in range(0, img.width, 100):
        draw.line([(i, 0), (i, img.height)], fill=(100, 100, 100), width=1)
    for j in range(0, img.height, 100):
        draw.line([(0, j), (img.width, j)], fill=(100, 100, 100), width=1)

    # Marker
    if 0 <= x < img.width and 0 <= y < img.height:
        draw.line([(x - 5, y), (x + 5, y)], fill=(255, 255, 255), width=1)
        draw.line([(x, y - 5), (x, y + 5)], fill=(255, 255, 255), width=1)

    with io.BytesIO() as output:
        img.save(output, format='PNG')
        return output.getvalue()

# === STEP 3: Widgets for interaction ===
frame_slider = IntSlider(value=0, min=0, max=len(frames)-1, description='Frame')
x_coord = IntText(value=0, description='X:')
y_coord = IntText(value=0, description='Y:')
temperature_display = HTML(value="Select a pixel to see temperature.")
image_widget = ImageWidget(layout={'width': '50%'})

# === STEP 4: Update UI functions ===
def update_display(*args):
    idx = frame_slider.value
    x, y = x_coord.value, y_coord.value
    data = frames[idx]

    # Normalize to temperature
    data_norm = min_temp + (max_temp - min_temp) * (data - data.min()) / (data.max() - data.min())

    # Get temp value
    if 0 <= x < data.shape[1] and 0 <= y < data.shape[0]:
        temp = data_norm[y, x]
        temperature_display.value = f"Pixel ({x}, {y}) → Temperature: <b>{temp:.2f}°C</b>"
    else:
        temperature_display.value = "Coordinates out of bounds."

    image_widget.value = array_to_png_with_marker(data_norm, x, y)

# Link all widgets to update the display
frame_slider.observe(update_display, names='value')
x_coord.observe(update_display, names='value')
y_coord.observe(update_display, names='value')

# Initial display
update_display()

# === STEP 5: Layout and display ===
ui = VBox([
    frame_slider,
    HBox([x_coord, y_coord]),
    temperature_display,
    image_widget
])
display(ui)












import pandas as pd
# Function to extract temperatures for a specific pixel (x, y) across all frames
def extract_pixel_temperatures(x, y, filtered_data):
    for frame_idx, frame_data in enumerate(filtered_data):
        if 0 <= x < frame_data.shape[1] and 0 <= y < frame_data.shape[0]:
            temperature = frame_data[y, x]
            data.append((x, y, frame_idx, temperature))
    return data
x = x_coord.value
y = y_coord.value
pixel_temperatures = extract_pixel_temperatures(x, y, filtered_images)

# Display the results in a DataFrame
df = pd.DataFrame(pixel_temperatures, columns=['X', 'Y', 'Frame Number', 'Temperature'])

# Display the DataFrame
df






import matplotlib.pyplot as plt
import ipywidgets as widgets
from IPython.display import display, clear_output

# Define the function to plot based on user input
def plot_temperature(x_value, y_value):
    plt.figure(figsize=(8, 6))  # Adjust figure size as needed
    plt.plot(df.loc[(df['X'] == x_value) & (df['Y'] == y_value), "Temperature"])
    plt.xlabel('Index')  # Adjust as needed
    plt.ylabel('Temperature')  # Adjust as needed
    plt.title(f'Temperature Plot for X={x_value}, Y={y_value}')
    plt.grid(True)
    plt.savefig('temp.png')
    plt.show()
    #plt.savefig('temp.png')

# Create ipywidgets for user input
x_widget = widgets.Text(description='X:')
y_widget = widgets.Text(description='Y:')
button = widgets.Button(description="Plot")
output_widget = widgets.Output()

# Define a function to update the output widget with the plot
def on_button_clicked(b):
    with output_widget:
        clear_output()  # Clear previous output
        try:
            x_value = int(x_widget.value)  # Assuming X is numeric
            y_value = int(y_widget.value)  # Assuming Y is numeric
            plot_temperature(x_value, y_value)
        except ValueError:
            print("Please enter valid numeric values for X and Y.")

# Attach the button click event to the function
button.on_click(on_button_clicked)

# Display the widgets and output
display(widgets.HBox([x_widget, y_widget, button]))
display(output_widget)



from IPython.display import display, Video
display(Video("Module 4 Content/Thermal Video.mp4" , embed=True,  width=640, height=480))








from IPython.display import display, Video
display(Video("Module 4 Content/Thermal Simulation.mp4" , embed=True,  width=640, height=480))



