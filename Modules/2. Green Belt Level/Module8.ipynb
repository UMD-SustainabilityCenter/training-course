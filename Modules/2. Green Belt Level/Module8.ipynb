{
 "cells": [
  {
   "cell_type": "markdown",
   "id": "046b119b",
   "metadata": {
    "tags": [
     "auto-generated-toc"
    ]
   },
   "source": [
    "## Table of Contents\n",
    "- [G8 Digital Engineering Challenges](#G8-Digital-Engineering-Challenges)\n",
    "- [🏠 Home](../../welcomePage.ipynb)"
   ]
  },
  {
   "cell_type": "markdown",
   "id": "8c2efc76-0099-4be1-b5c3-5ff12419a545",
   "metadata": {},
   "source": [
    "# G8 Digital Engineering Challenges\n",
    "\n",
    "Engineers, staff, and contractors primarily use tools to produce engineered systems such as integrated circuits, spacecraft, and software that meet stakeholder needs. Increasingly, those tools are computer-based and therefore dependent on a wide range of commercially and freely available computer software and hardware. Digital Engineering (DE), in particular, is an effort to complete this transition and rely solely on a digitized Authoritative Source of Truth (ASoT) for the system-of-interest (SoI) to support engineering and associated activities throughout the system development life cycle. However, due to the heterogeneity and other complexity factors of these computer-aided engineering (CAE) and ancillary tools, the achievement of DE is hindered by integration and usability challenges.\n",
    "\n",
    "Many deficiencies in computing systems are tolerated because workarounds are available and then implemented, further entrenching their intractability. The intractability of DE is due to the high number of computing components and interfaces, the decentralized and inconsistent evolution of those components, and, in particular, a profound lack of a cohesive system architecture model that systems engineers and other stakeholders can use to inspect, analyze, validate, verify, and modify the complex digital system.\n",
    "\n",
    "Seamless model-based development promises to elevate software development to higher levels of abstraction by providing integrated chains of models covering all phases from requirements to system design and verification. In seamless model-based development, modeling is not just an implementation method but also a paradigm that supports the entire development and maintenance life cycle.\n",
    "\n",
    "There are tools becoming available such as SYSML (See Below) that can facilitate the integration of this heterogeneous tools. However, they are in their early stage of developement and the adoption is challenging because of lack of resources. Training material needs to be developed so that practitioners can adopt this platform for digital transformation.\n",
    "\n",
    "[SYSML Website](https://www.omgsysml.org/)\n",
    "\n",
    "<center>\n",
    "    <img src=\"../../img/GPSS.jpg\" alt=\"GPSS Diagram\" width=\"500\">\n",
    "</center>\n"
   ]
  },
  {
   "cell_type": "markdown",
   "id": "ca3a808e",
   "metadata": {
    "tags": [
     "Bottom Navigation"
    ]
   },
   "source": [
    "### <center>[◀︎ Module 7](Module7.ipynb)     [🏠 Home](../../welcomePage.ipynb)     [Exam ▶︎](Exam.ipynb)</center>"
   ]
  }
 ],
 "metadata": {
  "kernelspec": {
   "display_name": "Python 3 (ipykernel)",
   "language": "python",
   "name": "python3"
  },
  "language_info": {
   "codemirror_mode": {
    "name": "ipython",
    "version": 3
   },
   "file_extension": ".py",
   "mimetype": "text/x-python",
   "name": "python",
   "nbconvert_exporter": "python",
   "pygments_lexer": "ipython3",
   "version": "3.11.6"
  },
  "widgets": {
   "application/vnd.jupyter.widget-state+json": {
    "state": {},
    "version_major": 2,
    "version_minor": 0
   }
  }
 },
 "nbformat": 4,
 "nbformat_minor": 5
}
