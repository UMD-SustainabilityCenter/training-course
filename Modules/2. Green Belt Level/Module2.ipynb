{
 "cells": [
  {
   "cell_type": "markdown",
   "id": "c119fea2",
   "metadata": {
    "tags": [
     "auto-generated-toc"
    ]
   },
   "source": [
    "## Table of Contents\n",
    "- [G2 Model Based Definition](#G2-Model-Based-Definition)\n",
    "- [2.1 Model Based Approaches](#Model-Based-Approaches)\n",
    "- [2.2 Model-based definition (MBD)](#Model-based-definition-%28MBD%29)\n",
    "- [🏠 Home](../../welcomePage.ipynb)"
   ]
  },
  {
   "cell_type": "markdown",
   "id": "fb11d846-d9ec-4a01-8f09-91c78ef9727f",
   "metadata": {},
   "source": [
    "# 2.1 Model Based Approaches\n",
    "\n",
    "#### Model-based means using 3D models and software to define products and their components. Model-based approaches can include\n",
    "- Model-based definition (MBD):\n",
    "Uses 3D digital models containing both geometrical and non-geometrical information to communicate all the information needed to design and manufacture a product. This digital master model serves as a single source of truth throughout the entire product development process. MBD models can be used by many stakeholders, including design, engineering, manufacturing, and quality control. MBD can improve accuracy, collaboration, and productivity, and reduce costs. \n",
    "\n",
    "- Model-based design (MBD):\n",
    "Is a visual and mathematical method for designing complex systems by using software models to simulate and understand how a physical system will behave. MBD models can be used to study a wide range of systems, including electrical, mechanical, thermal, hydraulic, pneumatic, and optical systems. \n",
    "\n",
    "- Model-based enterprise (MBE):\n",
    "Uses model-based definitions throughout a product's life cycle. MBE can improve communication and collaboration, and reduce reliance on costly prototyping.\n",
    "\n",
    "- Model Based System Engineering (MBSE):\n",
    " It represents the methodology to perform & support system engineering activities such as system requirements, design, analysis, verification and validation. Systems Modeling Language (SysML) and MBSE can address today’s challenges of managing complex systems, maintaining and mapping of system and software architecture and changing requirements impacting the behavior.\n",
    "\n",
    "## 2. Model-based definition (MBD) Elaborated\n",
    "Put simply, MBD is the use of 3D models that contain all relevant product data. With MBD, every step in the production process uses 3D data. It allows one to aim to automate as much programming as possible in computer-aided manufacturing (CAM) – Model Based Manufacturing (MBM) – and metrology – Model Based Inspection (MBI). This not only minimises human error, but also improves product quality and optimises every step of the production process, from design and manufacturing to programming and inspection.\n",
    "\n",
    "MBD starts with the design department delivering an optimal 3D CAD file, called a functional engineering model (FEM). The FEM needs to be a 100% accurate model of the actual steel part. Crucially, it should also include all the product manufacturing information (PMI). All information necessary to build a tool should be added to the FEM, such as preload, venting gaps, mounting clearances and so on. The FEM should be 100% nominal, which means no unsymmetrical tolerances; only +/- tolerances can be used.\n",
    "\n",
    "<center>\n",
    "    <img src=\"Module 2 Content/ToolAssembly.jpg\" alt=\"Alt text\" width=\"400\"> \n",
    "</center>\n",
    "\n",
    "### Adding PMI to the Functional Engineering Model\n",
    "\n",
    "One way of adding Product Manufacturing Information to the FEM is to use a colour coding system that creates different appearance states (i.e. visualisations in the CAD application) for different types of information. One appearance state shows the colours indicating the required tolerances. Each surface area is assigned its own colour, which corresponds to the tolerance given to the surface. A second appearance state displays the assigned surface finishes, such as electrical discharge machining (EDM) texture or Plastics Industry Association (previously SPI) standard finish.\n",
    "\n",
    "<center>\n",
    "    <img src=\"Module 2 Content/Tolerances.jpg\" alt=\"Alt text\" width=\"450\"><img src=\"Module 2 Content/Programing.jpg\" alt=\"Alt text\" width=\"400\"> \n",
    "</center>\n",
    "\n",
    "While designing the FEM, the tool designer can add the required colour (i.e. tolerance and/or surface finish) to the model right away. Immediately adding the information during the tool design removes the risk of such errors occurring and significantly reduces drawing failures due to human error. In the new MBD approach, the FEM has all the necessary information to start programming and  makes it possible to start the manufacturing phase sooner.\n",
    "\n",
    "The LTE (LOGISTIC TECHNICAL ENGINEERING) team prepares the workflow of the manufacturing departments. They determine the production steps necessary to manufacture the FEM (i.e. the actual steel components used for mould assembly). To do this, the LTE team also uses the MBD strategy and prepares 3D CAD manufacturing models. These manufacturing models are based on and linked to the FEM. Any modifications to the “parent” FEM will automatically be applied to “child” manufacturing models as well. The LTE team has full control over the manufacturing models, but cannot make any changes to the original FEM.\n",
    "\n",
    "A big advantage of this working method is that the workflow is captured within the 3D CAD files and stored in the data management system covered by version management. This allows any replacement or repeat work to be started very quickly and ensures the same manufacturing strategy will be used to create identical parts.\n",
    "\n",
    "<center>\n",
    "    <img src=\"Module 2 Content/workflow.jpg\" alt=\"Alt text\" width=\"400\"> \n",
    "</center>\n",
    "\n",
    "Automated programming is possible because the PMI data has been added to the FEM during the design phase. CAM programs cannot read PMI data on 2D drawings. But, by reading the embedded PMI data, CAM software can determine the tolerances that have been assigned to the holes, chambers, outer boundary and other features in the FEM. Using that PMI, the software can determine the optimal standard strategy for tools to manufacture the cores and cavities.\n",
    "\n",
    "The goal of this new way of working is not to reduce the number of program engineers, but to create more CAM programs with the same number of people. Over the years, it has become clear that CAM capacity determines the output of the manufacturing departments. With MBD, it should be possible to increase output and create extra machine hours.\n",
    "\n",
    "For automated activities, one can work with minimally annotated files, meaning just a coloured 3D file showing the applied colours for tolerances and surface finishes, as well as some specific notes. In the viewable file, buttons are created to highlight colours that indicate a tolerance or surface finish, which helps improve readability and reduces human error. The operator can measure real dimensions within the 3D file.\n",
    "\n",
    "The second option is to create fully annotated files showing visual PMI data. This tends to be easier for non-automated activities, as the operators are provided with dimensions and notes on the viewable file, meaning that the operators do not need to measure in the FEM to find the manufacturing information they need.\n",
    "<center>\n",
    "    <img src=\"Module 2 Content/anotation.jpg\" alt=\"Alt text\" width=\"400\"> \n",
    "</center>\n",
    "\n",
    "All the advantages of CAM programming apply to metrology as well, where automated programming also increases efficiency significantly. As in previous steps, a 3D CAD file is prepared (the MBI file). The MBI file is also a “child” of the FEM and it re-uses the PMI data from the colour-coded FEM model. All metrology points are added to the MBI file, and standard datum plans are used to align it with the actual components.\n",
    "\n",
    "<center>\n",
    "    <img src=\"Module 2 Content/CMM.png\" alt=\"Alt text\" width=\"400\"> \n",
    "</center>\n",
    "\n",
    "Because geometrical tolerances have been added to the FEM through colour coding, it is no longer necessary to apply geometric dimensioning and tolerancing as notes. By staying within the boundaries of the geometrical tolerances, requirements in terms of parallelism or squareness will also be covered.\n",
    "\n",
    "<center>\n",
    "    <img src=\"Module 2 Content/CMM-report.png\" alt=\"Alt text\" width=\"400\"> \n",
    "</center>\n",
    "\n",
    "The metrology points required to measure the FEM are also added to the MBI file. Next, the co-ordinate measuring machine uses these metrology points in the MBI file to generate the metrology reports. Because these metrology points are also part of the FEM, they are stored in the data-management system and controlled with version management. This ensures identical metrology output for any repeat or replacement work in the future.\n",
    "\n"
   ]
  },
  {
   "cell_type": "markdown",
   "id": "0851c253",
   "metadata": {
    "tags": [
     "Bottom Navigation"
    ]
   },
   "source": [
    "### <center>[◀︎ Module 1](Module1.ipynb)     [🏠 Home](../../welcomePage.ipynb)     [Module 3 ▶︎](Module3.ipynb)</center>"
   ]
  }
 ],
 "metadata": {
  "kernelspec": {
   "display_name": "Python 3 (ipykernel)",
   "language": "python",
   "name": "python3"
  },
  "language_info": {
   "codemirror_mode": {
    "name": "ipython",
    "version": 3
   },
   "file_extension": ".py",
   "mimetype": "text/x-python",
   "name": "python",
   "nbconvert_exporter": "python",
   "pygments_lexer": "ipython3",
   "version": "3.11.6"
  },
  "widgets": {
   "application/vnd.jupyter.widget-state+json": {
    "state": {},
    "version_major": 2,
    "version_minor": 0
   }
  }
 },
 "nbformat": 4,
 "nbformat_minor": 5
}
