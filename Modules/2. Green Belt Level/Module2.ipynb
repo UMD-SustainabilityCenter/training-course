{
 "cells": [
  {
   "cell_type": "markdown",
   "metadata": {
    "tags": [
     "auto-generated-toc"
    ]
   },
   "source": [
    "## Table of Contents\n",
    "- [G2 Model Based Definition](#G2-Model-Based-Definition)\n  - [2.1 Introduction](#2.1-Introduction)\n  - [2.3 User Stories](#2.3-User-Stories)\n- [Model Based Approaches](#Model-Based-Approaches)\n  - [Model-based definition (MBD)](#Model-based-definition-%28MBD%29)\n- [🏠 Home](../../welcomePage.ipynb)"
   ]
  },
  {
   "cell_type": "markdown",
   "id": "fa26689c-ad63-42a0-8589-5b3d809762cc",
   "metadata": {
    "editable": true,
    "slideshow": {
     "slide_type": ""
    },
    "tags": []
   },
   "source": [
    "# G2 Model Based Definition\n",
    "## 2.1 Introduction\n",
    "Model-based definition (MBD) is a process that uses 3D models within CAD software to define product assemblies and individual components comprehensively. The model is annotated with non-geometric information, such as dimensions, materials, finishes, tolerances, and symbols, that are important for manufacturing and inspection. The model becomes the source of authority for all engineering activities and is used in downstream processes like manufacturing, inspection, and assembly. MBD can offer several benefits, including: (a) Reduced engineering documentation time: Compared to drawing-centric workflows, MBD can reduce the time spent on engineering documentation, (b) More efficient drafting process: When designers designate critical dimensions, weld callouts, and notes in the model before passing it on to drafters, there's less back-and-forth between the two, allowing drafters to have all the information they need as soon as it's ready, (c) Improved communication and collaboration: MBD can improve communication and collaboration among stakeholders, and (d) Cost savings: efficiencies gained through MBD lead to substantial cost savings.\n",
    "\n",
    "<center>\n",
    "<img src=\"../../img/05.jpg\" alt=\"Alt text\" width=\"500\"></center>"
   ]
  },
  {
   "cell_type": "markdown",
   "id": "4f64885a-7ef4-4c9b-9e09-215dc340e389",
   "metadata": {},
   "source": [
    "### 2.2 Concepts\n",
    "- **Conceptual Model:** A conceptual model is an abstract representation of a system or process, designed to help understand, predict, or communicate its essential features. It often involves diagrams, flowcharts, or other visual tools to outline the relationships and interactions within the system, without diving into detailed specifics.\n",
    "\n",
    "- **Fully Defined Model:** A fully defined model includes all the specific details necessary for implementation or analysis. In engineering and design, this means all dimensions, materials, tolerances, and other parameters are specified, allowing for accurate manufacturing, simulation, or evaluation.\n",
    "\n",
    "- **CAD/Scanning Tools:** CAD (Computer-Aided Design) tools are software applications used to create, modify, analyze, or optimize a design. These tools enable the creation of detailed 2D or 3D models of physical objects, which can be used for engineering, manufacturing, and simulation purposes. \n",
    "    \n",
    "    Scanning tools, often used in conjunction with CAD, capture the physical dimensions and features of real-world objects to create precise digital representations.\n",
    "\n",
    "    <img src=\"../../img/17.jpg\" alt=\"Alt text\" width=\"300\">\n",
    "\n",
    "- **CAM Tools:** CAM (Computer-Aided Manufacturing) tools use CAD data to control and automate manufacturing processes. These tools generate the instructions (such as G-code) that guide machinery in fabricating parts, ensuring precision and efficiency in production. CAM tools integrate design and manufacturing processes, facilitating the transition from digital models to physical products.\n",
    "\n",
    "    <img src=\"../../img/18.jpg\" alt=\"Alt text\" width=\"300\">\n",
    "    \n",
    "<center>\n",
    "<img src=\"../../img/Model Based Definition.svg\" alt=\"Alt text\" width=\"500\"></center>"
   ]
  },
  {
   "cell_type": "markdown",
   "id": "f5188cfc-8b5f-46fc-b58f-030cfd13fdea",
   "metadata": {},
   "source": [
    "## 2.3 User Stories\n",
    "#### The \"M\" Block\n",
    "\n",
    "<center>\n",
    "<img src=\"../../img/Model Based Engineering Example.jpg\" alt=\"Model Based Engineering Example\" width=\"800 uw\">\n",
    "</center>\n",
    "\n",
    "Standard CAD formats can store data such as dimentions, tolerance, material, and manufacturing method. Projects using a model based definition need to store more information than what standard CAD formats allow. This 'M' block model was designed for a model based definition. It contains the standard CAD information such as dimentions, tolerance, material, and manufacturing method; but it also contains information about the manufacturing process such as the maximum recored deviation or final dimentions. It also contains sensor information from the manufacturing process, such as motor current feedback, and 3D scan data. It can also store data for non engineering needs such as final cost, packaging requirements, and final customer.\n",
    "\n",
    "To achieve this we created our own file format (.mbe) that stores all this data. The benefit of this format is you can load a specific part of the file when needed. If the engineers need to view the 3d scan, they open the .mbe file and the program will only load the 3D scan it wont load the other information. If sales people need to view the final cost they can select the .mbe file and their program will only load the infromation necessary for sales. The .mbe file is the authoritative source of the product defiition."
   ]
  },
  {
   "cell_type": "markdown",
   "id": "fb11d846-d9ec-4a01-8f09-91c78ef9727f",
   "metadata": {},
   "source": [
    "# Model Based Approaches\n",
    "\n",
    "#### Model-based means using 3D models and software to define products and their components. Model-based approaches can include\n",
    "- Model-based definition (MBD):\n",
    "Uses 3D digital models containing both geometrical and non-geometrical information to communicate all the information needed to design and manufacture a product. This digital master model serves as a single source of truth throughout the entire product development process. MBD models can be used by many stakeholders, including design, engineering, manufacturing, and quality control. MBD can improve accuracy, collaboration, and productivity, and reduce costs. \n",
    "\n",
    "- Model-based design (MBD):\n",
    "Is a visual and mathematical method for designing complex systems by using software models to simulate and understand how a physical system will behave. MBD models can be used to study a wide range of systems, including electrical, mechanical, thermal, hydraulic, pneumatic, and optical systems. \n",
    "\n",
    "- Model-based enterprise (MBE):\n",
    "Uses model-based definitions throughout a product's life cycle. MBE can improve communication and collaboration, and reduce reliance on costly prototyping.\n",
    "\n",
    "- Model Based System Engineering (MBSE):\n",
    " It represents the methodology to perform & support system engineering activities such as system requirements, design, analysis, verification and validation. Systems Modeling Language (SysML) and MBSE can address today’s challenges of managing complex systems, maintaining and mapping of system and software architecture and changing requirements impacting the behavior.\n",
    "\n",
    "## Model-based definition (MBD)\n",
    "Put simply, MBD is the use of 3D models that contain all relevant product data. With MBD, every step in the production process uses 3D data. It allows one to aim to automate as much programming as possible in computer-aided manufacturing (CAM) – Model Based Manufacturing (MBM) – and metrology – Model Based Inspection (MBI). This not only minimises human error, but also improves product quality and optimises every step of the production process, from design and manufacturing to programming and inspection.\n",
    "\n",
    "MBD starts with the design department delivering an optimal 3D CAD file, called a functional engineering model (FEM). The FEM needs to be a 100% accurate model of the actual steel part. Crucially, it should also include all the product manufacturing information (PMI). All information necessary to build a tool should be added to the FEM, such as preload, venting gaps, mounting clearances and so on. The FEM should be 100% nominal, which means no unsymmetrical tolerances; only +/- tolerances can be used.\n",
    "\n",
    "<center>\n",
    "    <img src=\"Module 2 Content/ToolAssembly.jpg\" alt=\"Alt text\" width=\"400\"> \n",
    "</center>\n",
    "\n",
    "### Adding PMI to the Functional Engineering Model\n",
    "\n",
    "One way of adding Product Manufacturing Information to the FEM is to use a colour coding system that creates different appearance states (i.e. visualisations in the CAD application) for different types of information. One appearance state shows the colours indicating the required tolerances. Each surface area is assigned its own colour, which corresponds to the tolerance given to the surface. A second appearance state displays the assigned surface finishes, such as electrical discharge machining (EDM) texture or Plastics Industry Association (previously SPI) standard finish.\n",
    "\n",
    "<center>\n",
    "    <img src=\"Module 2 Content/Tolerances.jpg\" alt=\"Alt text\" width=\"450\"><img src=\"Module 2 Content/Programing.jpg\" alt=\"Alt text\" width=\"400\"> \n",
    "</center>\n",
    "\n",
    "While designing the FEM, the tool designer can add the required colour (i.e. tolerance and/or surface finish) to the model right away. Immediately adding the information during the tool design removes the risk of such errors occurring and significantly reduces drawing failures due to human error. In the new MBD approach, the FEM has all the necessary information to start programming and  makes it possible to start the manufacturing phase sooner.\n",
    "\n",
    "The LTE (LOGISTIC TECHNICAL ENGINEERING) team prepares the workflow of the manufacturing departments. They determine the production steps necessary to manufacture the FEM (i.e. the actual steel components used for mould assembly). To do this, the LTE team also uses the MBD strategy and prepares 3D CAD manufacturing models. These manufacturing models are based on and linked to the FEM. Any modifications to the “parent” FEM will automatically be applied to “child” manufacturing models as well. The LTE team has full control over the manufacturing models, but cannot make any changes to the original FEM.\n",
    "\n",
    "A big advantage of this working method is that the workflow is captured within the 3D CAD files and stored in the data management system covered by version management. This allows any replacement or repeat work to be started very quickly and ensures the same manufacturing strategy will be used to create identical parts.\n",
    "\n",
    "<center>\n",
    "    <img src=\"Module 2 Content/workflow.jpg\" alt=\"Alt text\" width=\"400\"> \n",
    "</center>\n",
    "\n",
    "Automated programming is possible because the PMI data has been added to the FEM during the design phase. CAM programs cannot read PMI data on 2D drawings. But, by reading the embedded PMI data, CAM software can determine the tolerances that have been assigned to the holes, chambers, outer boundary and other features in the FEM. Using that PMI, the software can determine the optimal standard strategy for tools to manufacture the cores and cavities.\n",
    "\n",
    "The goal of this new way of working is not to reduce the number of program engineers, but to create more CAM programs with the same number of people. Over the years, it has become clear that CAM capacity determines the output of the manufacturing departments. With MBD, it should be possible to increase output and create extra machine hours.\n",
    "\n",
    "For automated activities, one can work with minimally annotated files, meaning just a coloured 3D file showing the applied colours for tolerances and surface finishes, as well as some specific notes. In the viewable file, buttons are created to highlight colours that indicate a tolerance or surface finish, which helps improve readability and reduces human error. The operator can measure real dimensions within the 3D file.\n",
    "\n",
    "The second option is to create fully annotated files showing visual PMI data. This tends to be easier for non-automated activities, as the operators are provided with dimensions and notes on the viewable file, meaning that the operators do not need to measure in the FEM to find the manufacturing information they need.\n",
    "<center>\n",
    "    <img src=\"Module 2 Content/anotation.jpg\" alt=\"Alt text\" width=\"400\"> \n",
    "</center>\n",
    "\n",
    "All the advantages of CAM programming apply to metrology as well, where automated programming also increases efficiency significantly. As in previous steps, a 3D CAD file is prepared (the MBI file). The MBI file is also a “child” of the FEM and it re-uses the PMI data from the colour-coded FEM model. All metrology points are added to the MBI file, and standard datum plans are used to align it with the actual components.\n",
    "\n",
    "<center>\n",
    "    <img src=\"Module 2 Content/CMM.png\" alt=\"Alt text\" width=\"400\"> \n",
    "</center>\n",
    "\n",
    "Because geometrical tolerances have been added to the FEM through colour coding, it is no longer necessary to apply geometric dimensioning and tolerancing as notes. By staying within the boundaries of the geometrical tolerances, requirements in terms of parallelism or squareness will also be covered.\n",
    "\n",
    "<center>\n",
    "    <img src=\"Module 2 Content/CMM-report.png\" alt=\"Alt text\" width=\"400\"> \n",
    "</center>\n",
    "\n",
    "The metrology points required to measure the FEM are also added to the MBI file. Next, the co-ordinate measuring machine uses these metrology points in the MBI file to generate the metrology reports. Because these metrology points are also part of the FEM, they are stored in the data-management system and controlled with version management. This ensures identical metrology output for any repeat or replacement work in the future.\n",
    "\n",
    "### MBD Data for Assembly\n",
    "\n",
    "<center>\n",
    "    <img src=\"Module 2 Content/Assembly1.jpg\" alt=\"Alt text\" width=\"800\"> \n",
    "</center>\n",
    "\n",
    "### Model based definition for assembly object DT information\n",
    "\n",
    "Model-based definition (MBD) for assembly object information adopts the CAD model as the carrier to integrate, organize, and express the information required for product assembly. The DT model of total element information for complex mechanical product assembly is constructed by combining MBD and DT technology. The assembly object information integration through MBD can be summarized as information integration by production stage and information integration by model structure as shown below. As the only data source for the whole process of product assembly, MBD can effectively solve the problem of information separation between the design, manufacturing, and assembly of complex mechanical products and improve the application reliability of DT-based intelligent assembly technology.\n",
    "\n",
    "<center>\n",
    "    <img src=\"Module 2 Content/MBD_assembly.webp\" alt=\"Alt text\" width=\"800\"> \n",
    "</center>"
   ]
  },
  {
   "cell_type": "markdown",
   "id": "a3f13b81",
   "metadata": {
    "tags": [
     "Bottom Navigation"
    ]
   },
   "source": [
    "### <center>[◀︎ Module 1](Module1.ipynb)     [🏠 Home](../../welcomePage.ipynb)     [Module 3 ▶︎](Module3.ipynb)</center>"
   ]
  }
 ],
 "metadata": {
  "kernelspec": {
   "display_name": "Python 3 (ipykernel)",
   "language": "python",
   "name": "python3"
  },
  "language_info": {
   "codemirror_mode": {
    "name": "ipython",
    "version": 3
   },
   "file_extension": ".py",
   "mimetype": "text/x-python",
   "name": "python",
   "nbconvert_exporter": "python",
   "pygments_lexer": "ipython3",
   "version": "3.12.3"
  },
  "widgets": {
   "application/vnd.jupyter.widget-state+json": {
    "state": {},
    "version_major": 2,
    "version_minor": 0
   }
  }
 },
 "nbformat": 4,
 "nbformat_minor": 5
}
