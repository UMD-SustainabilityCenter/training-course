{
 "cells": [
  {
   "cell_type": "markdown",
   "id": "bdef5714",
   "metadata": {
    "tags": [
     "auto-generated-toc"
    ]
   },
   "source": [
    "## Table of Contents\n",
    "- [G4 Practical Data-Driven Modeling and Optimization](#G4-Practical-Data-Driven-Modeling-and-Optimization)\n",
    "  - [4.1 Objective](#4.1-Objective)\n",
    "  - [4.2 Role of Modeling and Simulation in Sheet Metal Stamping](#4.2-Role-of-Modeling-and-Simulation-in-Sheet-Metal-Stamping)\n",
    "  - [4.3 Applying Machine Learning to Manufacturing Data: Effect of Trimming Process Parameters](#4.3-Applying-Machine-Learning-to-Manufacturing-Data%3A-Effect-of-Trimming-Process-Parameters)\n",
    "- [🏠 Home](../../welcomePage.ipynb)"
   ]
  },
  {
   "cell_type": "markdown",
   "id": "73269cca-06f1-4339-aa53-063e45787590",
   "metadata": {},
   "source": [
    "# G4 Practical Data-Driven Modeling and Optimization"
   ]
  },
  {
   "cell_type": "markdown",
   "id": "05740b51-4d3b-4587-923e-2102c6e462ca",
   "metadata": {},
   "source": [
    "## 4.1 Objective\n",
    "Equip learners with hands-on skills to analyze simulation outputs, apply machine learning models to manufacturing datasets, and optimize designs or processes using these insights."
   ]
  },
  {
   "cell_type": "markdown",
   "id": "15b5db1a-3211-4702-b33c-ba8c33d33695",
   "metadata": {},
   "source": [
    "### <font color = '#646464'>4.1.1 Work with simulation outputs: Automotive Stamping</font>\n",
    "   \n",
    "   By completing this case study on automotive stamping, you will be able to analyze the results of a finite element analysis (FEA) simulation, identify areas for improvement in the stamping process, and understand the importance of integrating FEA analysis with machine learning and optimization techniques to improve manufacturing processes. Specifically, learners will be able to:\n",
    "   \n",
    "   - Interpret FEA simulation results, including stress and strain distributions, and punch force calculations.\n",
    "   - Identify potential causes of defects, such as wrinkling and tearing, and propose modifications to the die design, process parameters, or material properties to improve the stamping process.\n",
    "   - Recognize the value of integrating FEA analysis with machine learning and optimization techniques to optimize manufacturing processes and improve product quality.\n",
    "\n",
    "Approximately 10 – 30% of every automobile is manufactured using stamping processes. The objective of stamping is to deform a flat metal sheet (blank) that is fed from a coil and modify its geometry and physical properties, to obtain complex 3D parts through the use of punches and cutting dies, as illustrated in the Figure below.\n",
    "\n",
    "### <font color = '#646464'>4.1.2 Understanding the Process:</font>\n",
    "\n",
    "Sheet metal stamping is categorized as a **cold-working process**, meaning that the material is deformed at temperatures below its recrystallization temperature. This process is commonly used to produce complex geometries, such as a car hood, where multiple stamping operations are often required to transform the initial flat sheet into the desired shape. One of the key challenges in performing these operations is to plastically deform the material without causing it to fail.\n",
    "\n",
    "In automotive manufacturing, stamping is an essential process used to produce metal components for vehicles. The sheet metal is placed into a die set, and through the application of force, it is shaped into the desired form. Stamping can be a very precise process, but it is susceptible to defects such as wrinkles, tears, or uneven thickness. These defects can affect the overall strength, quality, and appearance of the final product.\n",
    "\n",
    "Traditionally, **sheet metal forming** relied heavily on experience-based knowledge. Engineers accumulated expertise over time, often through trial and error, resulting in a wealth of practical knowledge. However, with advancements in **computer-aided engineering (CAE)** modeling, the process of designing and optimizing sheet metal forming has become more quantitative, allowing engineers to predict outcomes with higher accuracy and reduce reliance on trial and error.\n",
    "\n",
    "To minimize these issues, advanced tools like **Finite Element Analysis (FEA)** are used. FEA is a computational technique that allows engineers to simulate how the metal will behave when subjected to the forces involved in stamping. This can help in predicting stresses, strains, and deformations across the metal surface. By interpreting these results, engineers can modify die designs, material properties, or process parameters to reduce defects and improve quality.\n",
    "\n",
    "### <font color = '#646464'>4.1.3 Integrating Machine Learning and Optimization:</font>\n",
    "While FEA simulations provide critical insights into the behavior of the material during the stamping process, machine learning and optimization techniques can further enhance this process. Machine learning algorithms can be used to analyze vast amounts of simulation data, identifying patterns and correlations that human analysts might overlook. These insights can lead to more informed decisions about design modifications or process adjustments.\n",
    "\n",
    "Optimization techniques, such as **genetic algorithms** or **gradient-based optimization**, can also be applied to automatically suggest optimal design parameters. This can involve adjusting die geometry, material choices, or operational settings to minimize defects and maximize efficiency, leading to better product quality and lower manufacturing costs.\n",
    "\n",
    "In this case study, you will not only interpret FEA results but also explore how integrating these simulations with machine learning and optimization methods can result in a more effective manufacturing process. This combination of traditional engineering methods with modern data-driven approaches is key to staying competitive in the ever-evolving field of manufacturing.\n",
    "\n",
    "<center>\n",
    "  <img src=\"Module 4 Content/img1.png\" alt=\"Quantitative vs Qualitative Data\" width=\"500\"/>\n",
    "</center>"
   ]
  },
  {
   "cell_type": "markdown",
   "id": "1004cff4-5ef3-4d3e-a9e7-1d6b04cc42bd",
   "metadata": {},
   "source": [
    "### <font color = '#646464'>4.1.4 Key Process Parameters in Sheet Metal Stamping</font>\n",
    "\n",
    "The **sheet metal stamping process** involves several critical parameters, which can be classified into five main categories. Understanding and controlling these parameters is essential for ensuring a high-quality final product:\n",
    "\n",
    "1. **Material Properties and Characterization**: \n",
    "   The material used in the stamping process significantly affects its behavior under deformation. Properties such as yield strength, tensile strength, and ductility determine how easily the material can be deformed without failure. In simulation, material models are used to accurately represent the behavior of different materials, allowing engineers to predict how each material will perform under the applied forces.\n",
    "\n",
    "2. **Tooling and Equipment**: \n",
    "   The design and material selection of tools used in the stamping process, such as dies and punches, are essential to the success of the operation. The simulation of tool interactions with the material is key to understanding the forces involved and optimizing the tool design for better performance.\n",
    "\n",
    "3. **Friction and Lubrication at the Tool/Workpiece Interface**: \n",
    "   The interaction between the tool and the material plays a critical role in the forming process. Friction can influence material flow, tool wear, and the quality of the final product. Simulation tools allow for the modeling of these interactions, enabling engineers to optimize lubrication and reduce friction for better material flow and surface finish.\n",
    "\n",
    "4. **Deformation Zone and Mechanics of Deformation**: \n",
    "   In sheet metal forming, the deformation zone is where the material undergoes significant plastic deformation. The mechanics of this deformation—such as strain rate, strain hardening, and flow stress—must be understood to avoid material failure. FEA simulation can model the behavior of the material in the deformation zone, allowing engineers to visualize how forces are distributed and make necessary adjustments.\n",
    "\n",
    "5. **Product Geometry and Properties**: \n",
    "   The final product’s geometry and material properties are influenced by the tooling, material, and process parameters. Simulation helps to predict and control these properties, ensuring that the final part meets the desired specifications for strength, durability, and appearance."
   ]
  },
  {
   "cell_type": "markdown",
   "id": "60c1a6b5-5f93-4f3d-934e-b551bbea2aa6",
   "metadata": {},
   "source": [
    "### <font color = '#646464'>4.1.5 Summary of Key Process Variables Impacting Material Flow</font>\n",
    "The material flow during sheet metal stamping is influenced by several factors, including material properties, tool design, friction, and deformation mechanics. Table 1 (which would provide detailed process variables) summarizes the key factors that affect material flow and thus the final product’s quality.\n",
    "\n",
    "Incorporating **modeling and simulation** into the design and optimization of sheet metal stamping processes allows engineers to make more informed decisions, leading to better product quality, reduced waste, and more efficient manufacturing. By using advanced simulations, the complexities of the process can be understood and controlled, helping to prevent defects such as wrinkles, tearing, or inconsistent thickness, and ultimately ensuring the success o"
   ]
  },
  {
   "cell_type": "markdown",
   "id": "af78da77-9902-40d9-99ce-3af5e85d11b4",
   "metadata": {},
   "source": [
    "#### Table 1: Key Process Variables Impacting Material Flow\r\n",
    "\r\n",
    "| **Category**                | **Key Process Variables**                                                                                         |\r\n",
    "|-----------------------------|--------------------------------------------------------------------------------------------------------------------|\r\n",
    "| **Sheet Metal Properties**   | Material composition, deformation history, temperature.                                                            |\r\n",
    "|                             | Yield and tensile strengths, hardness.                                                                             |\r\n",
    "|                             | Flow stress for different loading conditions (different strains, strain rates, temperatures, microstructures).     |\r\n",
    "|                             | Mechanical anisotropy.                                                                                             |\r\n",
    "|                             | Ductility as a function of process temperature, strain rate, and applied load.                                     |\r\n",
    "| **Tool/Equipment**           | Geometric attributes and surface finish of the tool.                                                              |\r\n",
    "|                             | Tool material and properties.                                                                                      |\r\n",
    "|                             | Force applied by the tool.                                                                                         |\r\n",
    "| **Tool/Material Interface**  | Friction at the tool/material interface.                                                                           |\r\n",
    "|                             | Lubricant type, temperature, and film thickness.                                                                   |\r\n",
    "|                             | Lubricant thermal properties.                                                                                      |\r\n",
    "| **Zone of Deformation**      | Deformation mechanisms.                                                                                           |\r\n",
    "|                             | Material flow, velocity of flow.                                                                                   |\r\n",
    "|                             | Stress, strain, and damage profiles post-deformation.                                                              |\r\n",
    "| **Product Geometry and Properties** | Final product geometry (dimensions, thickness uniformity, surface finish, and tolerances).                     |\r\n",
    "|                             | Final product mechanical properties.                                                                               |\r\n"
   ]
  },
  {
   "cell_type": "markdown",
   "id": "26b8380f-6c47-4ce2-a3c3-27e53cdce682",
   "metadata": {},
   "source": [
    "#### Stamping Process Overview\r\n",
    "\r\n",
    "The stamping process typically consists of the following steps:\r\n",
    "\r\n",
    "1. **Blanking**: A metal sheet, known as a blank, is cut to the desired size using a shear or laser cutting machine.\r\n",
    "2. **Drawing**: The blank is then placed on a die, which is mounted on a press machine. The press machine applies pressure to the blank, causing it to be drawn into the die cavity.\r\n",
    "3. **Forming**: The blank is then formed into the desired shape using a combination of pressure and heat.\r\n",
    "4. **Piercing**: Holes are pierced in the formed part using a piercing die.\r\n",
    "5. **Trimming**: The excess metal around the edges of the part is trimmed using a trimming# die.\r\n",
    "\r\n",
    "### Stamping Process Challenges\r\n",
    "\r\n",
    "The stamping process can be challenging due to several factors, including:\r\n",
    "\r\n",
    "- **Material properties**: The properties of the metal sheet, such as its strength, ductility, and surface finish, can affect the stamping process.\r\n",
    "- **Die design**: The design of the die can affect the accuracy and quality of the stamped part.\r\n",
    "- **Process parameters**: The process parameters, such as the press speed, pressure, and temperature, can affect the shase to improve the final product.\r\n"
   ]
  },
  {
   "cell_type": "markdown",
   "id": "0a2c6cad-ba4a-4b8c-af4f-745453cec7cb",
   "metadata": {},
   "source": [
    "## 4.2 Role of Modeling and Simulation in Sheet Metal Stamping\n",
    "The introduction of **modeling and simulation** has revolutionized the way engineers approach sheet metal forming. **Finite Element Analysis (FEA)** is particularly valuable in this field, enabling the prediction of material behavior under various conditions during the forming process. Through FEA, engineers can simulate the forces, material flow, and stresses experienced by the metal as it undergoes deformation, making it possible to optimize the stamping process and ensure that material failure does not occur.\n",
    "\n",
    "For example, by simulating the **material flow: in Muffler Housing** during the stamping process, engineers can identify areas where excessive thinning or thickening might occur, which could lead to defects like tearing or wrinkling. With simulation, these issues can be identified and corrected in the design phase, reducing the need for costly physical prototypes and enabling better control over the manufacturing process."
   ]
  },
  {
   "cell_type": "markdown",
   "id": "58bf58ae-dbe7-47dc-8644-fd88f4d6b302",
   "metadata": {},
   "source": [
    "### <font color = '#646464'>4.2.1 Muffler Housing Forming Simulation</font>\n",
    "\n",
    "A muffler housing, also known as a muffler shell or exhaust muffler housing, is a critical component of a vehicle's exhaust system. Its primary function is to encase the muffler, which is responsible for reducing the noise emitted by the vehicle's engine. The muffler housing is typically a cylindrical or oval-shaped component made of steel, stainless steel, or other durable materials. \n",
    "\n",
    "The muffler housing provides a protective shell for the muffler, helping to reduce the noise emitted by the vehicle's engine by dissipating sound waves. It is also designed to optimize exhaust gas flow, ensuring that gases are efficiently expelled from the vehicle.\n",
    "\n",
    "Muffler housings are typically manufactured using a combination of processes. The muffler housing is **stamped** from a sheet of metal using a die, and the stamped components are then **welded** together to form the housing. Additional forming processes, such as bending or flanging, may also be used to achieve the desired shape."
   ]
  },
  {
   "cell_type": "markdown",
   "id": "49005ac7-2f5d-440d-a483-84ca7ac0428a",
   "metadata": {},
   "source": [
    "### <font color = '#646464'>4.2.2 Results and Discussion</font>\n",
    "\n",
    "To analyze the deep drawing process of the muffler housing, a **finite element analysis (FEA)** simulation was conducted using an explicit scheme with automatic remeshing and mass scaling. The simulation model consisted of four primary components: the metal blank, the punch, the die, and the holder. \n",
    "\n",
    "- The **metal blank** was represented using shell elements, while the other components (the punch, die, and holder) were modeled as rigid bodies.\n",
    "- Initially, a coarse mesh was applied to the simulation, which was then automatically refined throughout the simulation process to enhance accuracy. \n",
    "\n",
    "This FEA simulation provides valuable insights into the behavior of the material during the stamping process, allowing for optimization of the die design and process parameters to ensure the quality and efficiency of the muffler housing production. By simulating the deep drawing process, the results help identify potential issues such as thinning or tearing of the material, which can be corrected in the design phase to improve the final product.\n",
    "\n",
    "<center>\n",
    "  <img src=\"Module 4 Content/img2.png\" alt=\"Quantitative vs Qualitative Data\" width=\"500\"/>\n",
    "</center>"
   ]
  },
  {
   "cell_type": "markdown",
   "id": "79e23818-6a21-4fb0-bde9-3a9d72bbedc0",
   "metadata": {},
   "source": [
    "The material properties of the metal blank played a crucial role in the forming process. To assess its behavior, the Forming Limit Curve (FLC) was utilized, providing insight into the relationship between major and minor strains. This allowed for an evaluation of the material's ability to withstand deformation before failure."
   ]
  },
  {
   "cell_type": "markdown",
   "id": "0902919a-59c6-454a-91ee-daeaf3d9a434",
   "metadata": {},
   "source": [
    "<center>\n",
    "<img src=\"Module 4 Content/img3.png\" alt=\"Quantitative vs Qualitative Data\" width=\"500\"/>\n",
    "<img src=\"Module 4 Content/img4.png\" alt=\"Quantitative vs Qualitative Data\" width=\"500\"/>\n",
    "<img src=\"Module 4 Content/img5.png\" alt=\"Quantitative vs Qualitative Data\" width=\"500\"/>\n",
    "<img src=\"Module 4 Content/img6.png\" alt=\"Quantitative vs Qualitative Data\" width=\"500\"/>\n",
    "</center>"
   ]
  },
  {
   "cell_type": "markdown",
   "id": "16002486-ba5c-4976-a986-4a0b67b3ed24",
   "metadata": {},
   "source": [
    "#### Forming Limit Diagram (FLD) and Strain Distribution Analysis\r\n",
    "\r\n",
    "By analyzing the **Forming Limit Diagram (FLD)** and strain distribution plot, we assessed the extent of thickness reduction and the potential for cracking. The results indicated no signs of cracks or risks of cracking, confirming the material's suitability for this forming operation. Additionally, the material exhibited low thinning values, which validated the initial assumptions about its formability. \r\n",
    "\r\n",
    "Apart from thinning, another critical observation was the thickening of the specimen in certain regions. The simulation revealed multiple **wrinkled areas**, as well as regions prone to wrinkling. By cross-referencing the thickness reduction plot with the FLD results, it was confirmed that **wrinkling failures** coincided with areas of localized thickening. However, a closer inspection of the model's geometry revealed discrepancies between the predicted wrinkling locations and the actual model surface. Some regions flagged as wrinkling-prone did not correspond to physical deformations on the part. \r\n",
    "\r\n",
    "This suggests that while the **Forming Limit Diagram** is a valuable tool for assessing formability, it should be used cautiously when evaluating wrinkling, as it may not always accurately capture these defects. Additional geometric analysis is recommended to confirm the presence of wrinkles and refine the evaluation prrwise be missed through traditional analysis.\r\n"
   ]
  },
  {
   "cell_type": "markdown",
   "id": "279fb4ca-cba7-404c-9fc4-56f7369fe4c0",
   "metadata": {},
   "source": [
    "## 4.3 Applying Machine Learning to Manufacturing Data: Effect of Trimming Process Parameters\n",
    "\n",
    "\n",
    "In this case study, we will explore the application of **machine learning** to manufacturing data, specifically focusing on the effect of trimming process parameters on the quality of muffler housings. \n",
    "\n",
    "The **trimming process** is a critical step in the manufacturing of sheet metal parts. This process involves removing excess material from the edges of a blank to achieve the desired shape and size. The trimming process typically begins with the loading of the blank onto a trimming machine, which is equipped with a cutting tool. The blank is then aligned with the cutting tool to ensure accurate trimming. Once aligned, the cutting tool is activated, and the excess material is removed from the edges of the blank. Finally, the trimmed blank is unloaded from the trimming machine.\n",
    "\n",
    "The trimming process is influenced by several parameters, including:\n",
    "- **Trimming speed**: The speed at which the cutting tool moves along the edge of the blank.\n",
    "- **Trimming pressure**: The pressure applied to the cutting tool to ensure accurate trimming.\n",
    "- **Trimming angle**: The angle at which the cutting tool approaches the edge of the blank.\n",
    "- **Geometry of the cutting tool**: This can also affect the trimming process, influencing the quality of the cut.\n"
   ]
  },
  {
   "cell_type": "markdown",
   "id": "636e96ba-3651-4e5e-bf25-d4c94292dec4",
   "metadata": {},
   "source": [
    "### <font color = '#646464'>4.3.1.Challenges in the Trimming Process</font>\n",
    "The trimming process can be challenging due to several factors:\n",
    "- **Material properties**: Different materials respond differently to the cutting tool, which can influence the quality of the cut.\n",
    "- **Variability in process parameters**: Variability in trimming speed, pressure, and angle can lead to inconsistencies in the final product.\n",
    "- **Tool wear and tear**: Over time, tools wear down, affecting the accuracy and quality of the trimmed blank.\n",
    "\n",
    "To effectively resolve the problem of early fracture in some trimmed metallic sheets under stamping operations, it is important to understand the mechanisms of **fracture** that control the shearing operation. When the tools are in contact with the blank, a region of intense shear stress develops, referred to as the **plastic zone**. This is accompanied by bending caused by the offset loading, which ultimately leads to failure. The extent of the plastic zone depends on material properties and the trimming process parameters.\n",
    "\n",
    "The **quality of the sheared edge** depends on the extent of the plastic zone, which is influenced by trimming parameters such as clearance (the distance between the upper and lower tool), edge geometries of the tools, cutting angle, and scrap support. The geometry of the sheared edge has several distinct features, including:\n",
    "- **Rollover**: Formed by plastic deformation of the sheet under compressive load from the upper tool.\n",
    "- **Burnish**: A smooth and flat area resulting from high shear deformation.\n",
    "- **Fracture**: Cracks that initiate at the tool edges and propagate, forming a rough fracture area.\n",
    "- **Burr**: Formed when a large plastic zone size is created, particularly with ductile materials.\n",
    "\n",
    "The formation of the sheared edge’s geometrical features occurs in four distinctive stages:\n",
    "1. **Rollover**: Plastic deformation of the sheet under compressive load from the upper tool.\n",
    "2. **Burnish**: The upper tool creates a high shear deformation zone, resulting in a smooth, flat area.\n",
    "3. **Fracture**: As the tool continues to move, cracks initiate at the edge of the tools and propagate.\n",
    "4. **Burr**: For some trimming conditions, particularly with ductile materials, a burr zone is formed if the plastic zone is large enough."
   ]
  },
  {
   "cell_type": "markdown",
   "id": "11ab2222-7e8c-4fa1-b9b5-84d400935e5d",
   "metadata": {},
   "source": [
    "<center>\n",
    "<img src=\"Module 4 Content/img7.png\" alt=\"Quantitative vs Qualitative Data\" width=\"800\"/>\n",
    "</center>"
   ]
  },
  {
   "cell_type": "markdown",
   "id": "21c37edd-9836-4520-85a1-d2c31851a8eb",
   "metadata": {},
   "source": [
    "In this study, five trimming parameters were investigated, namely, the **clearance**, the **upper tool edge radius**, the **lower tool edge radius**, and the **presence of support**. The **support** is a polymer block installed flush with the lower tool’s upper surface and used to resist the offal rotation. The upper trimming tool and lower trimming tool radii represent the sharpness of the tools’ cutting edges.\r\n",
    "\r\n",
    "**Table 1** details the test matrix. Six repetitions for every combination of parameters were performed; five specimens were used for tensile characterization and one for microstructural analysis. Two values of the clearance were chosen in this study, 10% and 30%. The trimming operations were performed either with or without support\n",
    "#### Table 1: Test Matrix for Trimming Parameters\n",
    "\n",
    "| **Parameters**        | **Levels**                                   |\n",
    "|-----------------------|----------------------------------------------|\n",
    "| **Upper tool shape**   | 1.3μm, 29.4μm, 101.9μm                      |\n",
    "| **Lower tool shape**   | 1.1μm, 15.3μm, 39.6μm, 53.5μm, 102.5μm      |\n",
    "| **Clearance**          | 10%, 30%                                     |\n",
    "| **Support**            | Yes, No                                      |\n",
    "| **Direction**          | TD                                           |\n",
    "| **Repetition**         | 5+1                                          |\n",
    "| **Total**              | 360                                          |\n",
    ".\r\n"
   ]
  },
  {
   "cell_type": "markdown",
   "id": "7445dbdc-5ced-44e3-b7ed-b6bb0a87f0fb",
   "metadata": {},
   "source": [
    "### <font color = '#646464'>4.3.2 Results and Discussion</font>\r\n",
    "\r\n",
    "The metallographic images of the trimmed edges for every investigated condition were observed along the **Rolling Direction (RD)** and the **Normal to the rolling Direction (through thickness)** (ND) plane. **Figure 2** presents the microstructure of the trimmed edge resulting from 60 different trimming conditions. This figure provides a clear visual of the evolution of the trimmed edge quality with the different trimming conditions.\r\n",
    "\r\n",
    "The **rollover** and the **burr length** are used to qualitatively assess the extent of the plastic zone developed during trimming and the damage induced to the trimmed edge surface. For high sharpness upper tool edge and no support, we observe that the length of both the rollover and the burr are the smallest among all the trimming conditions. Furthermore, the specimens trimmed under those conditions presented the highest total elongation.\r\n",
    "\r\n",
    "Additionally, for the dullest upper tool, clearance of 30% and no support, we can observe that the length of both the rollover and the burr are the largest among all the trimming conditions. Hence, the specimens trimmed under those conditions presented the lowest total elongation.\r\n",
    "\r\n",
    "Therefore, we can note the existence of a strong correlation between the **rollover** and **burr lengths** and the damage induced to the trimmed edge surface. Estimating damage induced to the trimmed edge surface can be very useful for optimizing the trimming process parameters.\r\n"
   ]
  },
  {
   "cell_type": "markdown",
   "id": "11228660-40c4-4237-b07a-a9532fe7f8f3",
   "metadata": {},
   "source": [
    "<center>\n",
    "<img src=\"Module 4 Content/img8.png\" alt=\"Quantitative vs Qualitative Data\" width=\"500\"/>\n",
    "</center>"
   ]
  },
  {
   "cell_type": "markdown",
   "id": "2833cb92-3aff-41ef-a58c-7d1a13daed26",
   "metadata": {},
   "source": [
    "### <font color = '#646464'>4.3.3 Generalized Linear Model Regression Analysis</font>\r\n",
    "\r\n",
    "**Generalized linear model regression** was used to further investigate the relationship between the **edge stretch**, **edge geometry**, and **trimming process parameters**, as well as to identify the significant processing and edge geometry parameters and their interactions. \r\n",
    "\r\n",
    "#### Approach Breakdown\n",
    "- In the **first approach**, only controllable factors (e.g., the trimming conditions of clearance, support, and upper and lower tool radii) were considered.\r\n",
    "- In the **second approach**, the edge-geometry parameters (rollover, burnish, fracture, and burr) were considered.\r\n",
    "- Finally, in the **third approach**, both sets of factors (trimming process parameters and edge geometry parameters) were included.\r\n",
    "\r\n",
    "A **stepwise variable selection method**, combining forward and backward passes, was utilized to select the factors and interactions with the most predictive power. \r\n",
    "\r\n",
    "**Tables 1, 2, and 3** summarize the explanatory variables, the variables considered in each regression step, and the resultant coefficient of determination, **R²**.\r\n",
    "\r\n",
    "#### Results\n",
    "Selecting the trimming process parameters as explanatory variables without interactions achieved an **R² of 57.18%** (Table 4). This **R² value** is low, and hence the corresponding regression model did not describe the dataset accurately.\r\n",
    "\r\n",
    "Upon inclusion of the interactions and second-order terms, **R² increased to 71.94%**. The resulting regression model representing the **total elongation** as a function of the most significant parameters has:\r\n",
    "- Four main effects,\r\n",
    "- Four interactions, and\r\n",
    "- One second-order term.\r\n"
   ]
  },
  {
   "cell_type": "markdown",
   "id": "6a69c023-c6f9-4850-aac7-bd44afb4a736",
   "metadata": {},
   "source": [
    "#### Table 1: Results of the Stepwise Least Square Regression Analysis Considering Only the Trimming Conditions\r\n",
    "\r\n",
    "| **Considered Explanatory Variables**                                  | **Step 1 Considered Variables**            | **R² in %** | **Step 2 Considered Variables**           | **R² in %** | **Last Step Considered Variables**                    | **R² in %** |\r\n",
    "|----------------------------------------------------------------------|-------------------------------------------|-------------|-------------------------------------------|-------------|-----------------------------------------------------|-------------|\r\n",
    "| **Trimming condition (clearance, support, upper tool, lower tool)**   | Clearance                                 | 26.53       | Clearance                                 | 45.68       | Clearance, Upper, Support, Lower                   | 57.18       |\r\n",
    "| **Trimming condition with interactions and second-order terms**      | Upper, Clearance                          | 45.63       | Upper, Clearance, Upper * Clearance, Support| 64.84       | Upper, Clearance, Support, Upper * Support, Lower, Upper * Lower, Upper * Upper, Lower * Support, Lower * Clearance | 71.94   for the trimming with support.\r\n"
   ]
  },
  {
   "cell_type": "markdown",
   "id": "88d5777f-56fe-4b93-b01f-4dc5329bb6ec",
   "metadata": {},
   "source": [
    "#### Table 2: Results of the Stepwise Least Square Regression Analysis Considering Only the Surface Geometry Parameters\n",
    "\n",
    "| **Considered Explanatory Variables**                                   | **Step 1 Considered Variables**         | **R² in %** | **Step 2 Considered Variables**        | **R² in %** | **Last Step Considered Variables**                               | **R² in %** |\n",
    "|------------------------------------------------------------------------|----------------------------------------|-------------|----------------------------------------|-------------|-----------------------------------------------------------------|-------------|\n",
    "| **Surface geometry parameters (rollover, burnish, fracture, burr, roughness) without interactions and second-order terms** | Burr                                    | 63.46       | Burr, Rollover                         | 77.76       | Burr, Rollover, Fracture                                          | 78.94       |\n",
    "| **Surface geometry parameters with interactions and second-order terms** | Rollover, Burr                          | 79.41       | Rollover, Burr, Burr * Rollover        | 80.20       | Rollover, Burr, Burr * Rollover, Fracture, Rollover * Fracture, Roughness, Rollover * Roughness | 80.40       |"
   ]
  },
  {
   "cell_type": "markdown",
   "id": "f55c96ff-791e-46f7-88f8-df429391b55b",
   "metadata": {},
   "source": [
    "#### Table 3: Results of the Stepwise Least Square Regression Analysis Considering Both Trimming Conditions and Surface Geometry Parameters\n",
    "\n",
    "| **Considered Explanatory Variables**                                     | **Step 1 Considered Variables**           | **R² in %** | **Step 2 Considered Variables**          | **R² in %** | **Last Step Considered Variables**                                                       | **R² in %** |\n",
    "|---------------------------------------------------------------------------|------------------------------------------|-------------|------------------------------------------|-------------|----------------------------------------------------------------------------------------|-------------|\n",
    "| **Trimming condition and surface geometry parameters without interactions and second-order terms** | Burr                                      | 63.46       | Burr, Rollover                           | 77.76       | Burr, Rollover, Fracture, Upper, Clearance                                             | 79.28       |\n",
    "| **Trimming condition and surface geometry parameters with interactions and second-order terms** | Rollover, Burr                            | 79.41       | Rollover, Burr, Burr * Rollover          | 80.63       | Burr, Rollover, Burr * Rollover, Burnish, Upper, Burnish * Upper, Clearance, Roughness, Rollover * Clearance, Upper * Upper, Lower, Lower * Roughness, Clearance * Roughness | 82.90       |"
   ]
  },
  {
   "cell_type": "markdown",
   "id": "3c834e53-1fc5-4763-8908-847c859d0dd8",
   "metadata": {},
   "source": [
    "#### Burr Size as a Predictor of Elongation\n",
    "\n",
    "The previous results show that the **burr size** is the most significant factor for predicting elongation. The distribution of burr size versus elongation is shown in **Figure 3.a**. To gain further insight into the relevance of burr size for predicting total elongation, the experimental data is presented separately for the conventional and with-support trimming in **Figures 3.b** and **3.c**, respectively. \n",
    "\n",
    "It is evident that the data points in **Figure 3.b** form a narrower scatter around the red line. The linear regression between the burr size data and the total elongation resulted in an increase of the **R²** to **75.27%** for the conventional trimming data, while a decrease of **R²** to **52.40%** was found for the trimming with support.\n"
   ]
  },
  {
   "cell_type": "markdown",
   "id": "07f335ea-0031-4489-82b0-6f5a83a1d7ad",
   "metadata": {},
   "source": [
    "<center>\n",
    "<img src=\"Module 4 Content/img9.png\" alt=\"Quantitative vs Qualitative Data\" width=\"300\"/>\n",
    "<img src=\"Module 4 Content/img10.png\" alt=\"Quantitative vs Qualitative Data\" width=\"300\"/>\n",
    "<img src=\"Module 4 Content/img11.png\" alt=\"Quantitative vs Qualitative Data\" width=\"300\"/>\n",
    "</center>"
   ]
  },
  {
   "cell_type": "markdown",
   "id": "321be910-5b51-463f-9d83-dff8102131f1",
   "metadata": {},
   "source": [
    "#### Direct Relation Between Controllable Parameters and Total Elongation\r\n",
    "\r\n",
    "In practice, it is preferable to find a direct relation between controllable parameters and the **total elongation to fracture**. **Clearance** was found to be the most significant controllable regression variable, resulting in an **R²** equal to **26.53%**, which is relatively low. \r\n",
    "\r\n",
    "Furthermore, a regression equation involving several trimming condition parameters with interactions and second-order terms was found to fit the total elongation with an **R²** equal to **71.94%**. This equation is considered to provide an acceptable regression of the presented data points. However, the capability for extrapolation needs to be validated by running additional tests outside the experimental data range investigated in this work.\r\n",
    "\r\n",
    "The effect of interactions between trimming process parameters on the total elongation is studied in **Figure 4**, separately for the **without-support** (**Fig. 4.b**) and **with-support** (**Fig. 4.a**) conditions. Three interactions are considered and presented in the subplots: **upper & lower**, **upper & clearance**, and **lower & clearathe **lower tool radius**.\r\n"
   ]
  },
  {
   "cell_type": "markdown",
   "id": "862743bf-e0d0-41f3-84e1-6ae21f406f1a",
   "metadata": {},
   "source": [
    "<center>\n",
    "<img src=\"Module 4 Content/img12.png\" alt=\"Quantitative vs Qualitative Data\" width=\"500\"/>\n",
    "    \n",
    "<img src=\"Module 4 Content/img13.png\" alt=\"Quantitative vs Qualitative Data\" width=\"500\"/>\n",
    "</center>"
   ]
  },
  {
   "cell_type": "markdown",
   "id": "5b7dd000-818b-49d4-bf5b-ec19e55bf253",
   "metadata": {},
   "source": [
    "#### Support Conditions Analysis (Fig. 4.a)\n",
    "\n",
    "The support conditions are analyzed in **Fig. 4.a**. It is noticed that the **upper tool radius** has a weak effect on elongation, while the **lower tool radius** and the **clearance** have a stronger effect. There are also apparent interactions between the **upper and lower radii** as well as between the **clearance and the upper radii**, which may be partly a data fitting artifact. \n",
    "\n",
    "Nevertheless, it is clear from the **upper vs. lower radii plot** that the most detrimental combination for trimming with support is a **dull upper tool** paired with an even duller **\n"
   ]
  },
  {
   "cell_type": "markdown",
   "id": "4c14cd37-b141-4189-a737-e05fb91704ab",
   "metadata": {},
   "source": [
    "### Conventional Trimming Conditions Analysis (Fig. 4.b)\n",
    "\n",
    "Conventional trimming conditions are analyzed in **Fig. 4.b**. Almost linear surfaces (planes) are observed in all three plots, indicating weak interactions between these factors. It can also be seen that the total elongation is more sensitive to the **upper tool radius** than to the **lower tool radius**."
   ]
  },
  {
   "cell_type": "markdown",
   "id": "e4174463",
   "metadata": {
    "tags": [
     "Bottom Navigation"
    ]
   },
   "source": [
    "### <center>[◀︎ Module 3](Module3.ipynb)     [🏠 Home](../../welcomePage.ipynb)     [Module 5 ▶︎](Module5.ipynb)</center>"
   ]
  }
 ],
 "metadata": {
  "kernelspec": {
   "display_name": "Python 3 (ipykernel)",
   "language": "python",
   "name": "python3"
  },
  "language_info": {
   "codemirror_mode": {
    "name": "ipython",
    "version": 3
   },
   "file_extension": ".py",
   "mimetype": "text/x-python",
   "name": "python",
   "nbconvert_exporter": "python",
   "pygments_lexer": "ipython3",
   "version": "3.12.5"
  },
  "widgets": {
   "application/vnd.jupyter.widget-state+json": {
    "state": {},
    "version_major": 2,
    "version_minor": 0
   }
  }
 },
 "nbformat": 4,
 "nbformat_minor": 5
}
