{
 "cells": [
  {
   "cell_type": "markdown",
   "id": "52f87ed6-0545-429f-8628-0126c03e82e9",
   "metadata": {},
   "source": [
    "# <font color = 'red'>1. *Introduction to Digital Engineering and Data*"
   ]
  },
  {
   "cell_type": "markdown",
   "id": "40a9a76e-50e2-41d3-9874-d4988eab1c18",
   "metadata": {},
   "source": [
    "## *1.1 Definition of Data*\n",
    "\n",
    "Data refers to raw, unorganized facts, figures, and symbols that are collected and stored for reference or analysis. It represents the fundamental building blocks used to create information and knowledge. Data can be quantitative (numerical) or qualitative (descriptive) and comes from various sources such as sensors, surveys, transactions, and observations. It can exist in multiple formats, including text, numbers, images, audio, and video."
   ]
  },
  {
   "cell_type": "markdown",
   "id": "742e1d12-7ba5-42f0-b006-ebd5b1937f64",
   "metadata": {},
   "source": [
    "## *1.2 Importance of Data in Digital Engineering*\n",
    "Data plays a crucial role in Digital Engineering as it drives informed decision-making, improves efficiency, and enables predictive and prescriptive analytics. By leveraging data, engineers can create accurate digital twins, optimize processes, reduce downtime, enhance product quality, and innovate faster. Key benefits of data in Digital Engineering include:\n",
    "1. Improved accuracy and precision in design and manufacturing through real-time data and digital twins\n",
    "2. Enhanced ability to monitor and control processes in real-time using digital twins and IoT devices\n",
    "3. Facilitated collaboration and communication among teams by sharing data and insights\n",
    "4. Enabled predictive maintenance and proactive issue resolution through data analytics and digital twins\n",
    "5. Supported innovation through data-driven insights and trends identified by digital twins"
   ]
  },
  {
   "cell_type": "markdown",
   "id": "bd4a8481-70fd-436d-9c88-cbaf9cd9eb1b",
   "metadata": {},
   "source": [
    "# <font color = 'red'>*2. Types of Data in Digital Engineering*"
   ]
  },
  {
   "cell_type": "markdown",
   "id": "8d43ac34-6f35-4332-96e4-3f4b06b7163d",
   "metadata": {},
   "source": [
    "## *2.1 Structured vs. Unstructured Data*"
   ]
  },
  {
   "cell_type": "markdown",
   "id": "0ece138b-b1b5-4bac-a392-39bf98093f03",
   "metadata": {},
   "source": [
    "### *2.1.1 Structured Data*\n",
    "\n",
    "**Definition**: Structured data is organized, easily searchable, and typically stored in relational databases or spreadsheets. It follows a predefined format or schema, making it simple to manage and analyze using traditional data processing techniques.\n",
    "\n",
    "**Characteristics**:\n",
    "- **Schema-Defined**: Structured data adheres to a specific schema, which defines the structure, such as tables, columns, and data types.\n",
    "- **Easily Searchable**: Due to its organized format, structured data can be easily queried using SQL (Structured Query Language) and other database query languages.\n",
    "- **Quantitative**: Often consists of numerical values, dates, and categorical data that can be used for statistical analysis and reporting.\n",
    "\n",
    "**Applications in Manufacturing**:\n",
    "- **Quality Control**: Real-time monitoring of sensor data to detect defects and variances in the manufacturing process.\n",
    "- **Maintenance**: Analyzing equipment performance data to predict and schedule maintenance activities, reducing downtime.\n",
    "- **Production Optimization**: Using operational data to optimize production schedules and resource allocation for maximum efficiency.\n",
    "\n",
    "**Examples**:\n",
    "- **Sensor Data**: Temperature, pressure, and humidity readings collected from sensors.\n",
    "- **Operational Data**: Production rates, machine status, and energy consumption recorded in a manufacturing process.\n",
    "- **Transactional Data**: Sales records, inventory levels, and financial transactions stored in an enterprise database.\n",
    "- **Customer Data**: Customer information such as names, addresses, and purchase history stored in a CRM (Customer Relationship Management) system.\n",
    "\n",
    "\n",
    "<center> <img src=\"Module1/Structured Data.svg\" alt=\"Description\" width=\"600\"/> </center>"
   ]
  },
  {
   "cell_type": "markdown",
   "id": "214172b6-03f2-4f57-9704-3e05f76ff981",
   "metadata": {},
   "source": [
    "<font color='#0024CC'>\n",
    "    \n",
    "#### Example 1\n",
    "\n",
    "This dataset is an example of structured data because it is organized into a clear and consistent tabular format with defined columns and data types. The data is easy to search, manage, and analyze. Here's what the data includes:\n",
    "\n",
    "- **Timestamp**: Date and time when the data was recorded (categorical).\n",
    "- **Machine_ID**: Unique identifier for each machine (categorical).\n",
    "- **Temperature (°C)**: Temperature of the machine in degrees Celsius (numerical).\n",
    "- **Pressure (Pa)**: Pressure within the machine in Pascals (numerical).\n",
    "- **Vibration (mm/s)**: Vibration level of the machine in millimeters per second (numerical).\n",
    "- **Material_Strength (MPa)**: Strength of the material being processed in megapascals (numerical).\n",
    "- **Load_Capacity (kg)**: Load capacity of the machine in kilograms (numerical).\n",
    "- **Operational_State**: Operational state of the machine (e.g., running, idle, maintenance) (categorical).\n",
    "- **Power_Consumption (W)**: Power consumption of the machine in watts (numerical).\n",
    "- **Fault_Indicator**: Binary indicator of machine faults (0 = no fault, 1 = fault) (categorical).\n",
    "\n",
    "The data includes both numerical values (e.g., temperature, pressure) and categorical data (e.g., operational state, fault indicator). This organization makes it easy to analyze and draw insights to improve manufacturing processes.\n",
    "</font>"
   ]
  },
  {
   "cell_type": "markdown",
   "id": "79c1916d-20f4-457c-84a3-0797a8b6f82a",
   "metadata": {},
   "source": [
    "<font color = 'red'>Comment: Add an interactive task to select two columns and find their relationship."
   ]
  },
  {
   "cell_type": "code",
   "execution_count": null,
   "id": "851fbfb5-09ac-4ca6-9cfb-ba959756bb98",
   "metadata": {},
   "outputs": [],
   "source": [
    "import pandas as pd\n",
    "data = pd.read_csv('Module1/machine_data.csv')\n",
    "data.head(10)"
   ]
  },
  {
   "cell_type": "markdown",
   "id": "927a66fe-c4da-4b02-a206-b0d95d7c4bb3",
   "metadata": {},
   "source": [
    "<font color='#0024CC'>\n",
    "\n",
    "#### Example 2\n",
    "\n",
    "This dataset is an example of structured maintenance logs because it is organized into a clear and consistent tabular format with defined columns and data types. The data is easy to search, manage, and analyze. Here's what the data includes:\n",
    "\n",
    "- **Timestamp**: Date and time when the maintenance was performed (categorical).\n",
    "- **Machine_ID**: Unique identifier for each machine (categorical).\n",
    "- **Issue_Description**: Description of the issue detected during maintenance (categorical).\n",
    "- **Action_Taken**: The action taken to resolve the issue (categorical).\n",
    "\n",
    "The data includes categorical values for timestamps, machine IDs, issue descriptions, and actions taken. This organization makes it easy to analyze and draw insights to optimize maintenance schedules, predict future maintenance needs, and improve overall equipment efficiency.\n",
    "</font>\n"
   ]
  },
  {
   "cell_type": "code",
   "execution_count": null,
   "id": "8f69c98c-1651-4288-982b-44e206bc9e7f",
   "metadata": {},
   "outputs": [],
   "source": [
    "import pandas as pd\n",
    "data = pd.read_csv('Module1/maintenance_logs.csv')\n",
    "data.head(10)"
   ]
  },
  {
   "cell_type": "markdown",
   "id": "81394f05-4305-4ea6-b7f0-7580049a17ee",
   "metadata": {},
   "source": [
    "### *2.1.2 Unstructured Data*\n",
    "\n",
    "**Definition**: Unstructured data is raw and unorganized, lacking a predefined format or schema. It can come in various forms, including text, images, videos, and audio files. Unstructured data is more challenging to manage and analyze using traditional data processing techniques, but it holds valuable insights.\n",
    "\n",
    "**Characteristics**:\n",
    "- **No Fixed Schema**: Unstructured data does not adhere to a specific schema, making it more flexible but harder to organize and analyze.\n",
    "- **Diverse Formats**: Can be in various formats such as text documents, emails, social media posts, images, videos, and audio recordings.\n",
    "- **Qualitative**: Often consists of qualitative information that requires advanced analytics techniques, such as natural language processing (NLP) and image recognition, to extract meaningful insights.\n",
    "\n",
    "**Applications in Manufacturing**:\n",
    "- **Defect Detection**: Analyzing images and videos from quality inspections to identify defects and improve product quality.\n",
    "- **Customer Feedback**: Mining text data from customer reviews and social media posts to understand customer preferences and improve products.\n",
    "- **Safety Monitoring**: Using audio and video data from surveillance systems to monitor safety compliance and detect potential hazards.\n",
    "\n",
    "<center> <img src=\"Module 1/Unstructured Data.svg\" alt=\"Description\" width=\"500\"/> </center>"
   ]
  },
  {
   "cell_type": "markdown",
   "id": "a9c25498-4822-4514-908e-e37eb862d433",
   "metadata": {},
   "source": [
    "<font color='#0024CC'>\n",
    "\n",
    "#### Example 3\n",
    "\n",
    "Image data is a form of unstructured data, often used in quality control, design, and diagnostic tasks. Digital images provide valuable insights into product conditions, system performance, and design iterations.\n",
    "\n",
    "In this example, we'll visualize 9 images recorded during a 3D printer operation to detect errors or failures during the printing process.\n",
    "</font>\n"
   ]
  },
  {
   "cell_type": "code",
   "execution_count": null,
   "id": "ef9bf59f-0932-4901-b3cd-437dfbe0dcd8",
   "metadata": {},
   "outputs": [],
   "source": [
    "import matplotlib.pyplot as plt\n",
    "import matplotlib.image as mpimg\n",
    "import os\n",
    "\n",
    "# Define the folder where images are stored\n",
    "image_folder = './Module1/imagetype data'\n",
    "\n",
    "# Create a figure with 3x3 subplots\n",
    "fig, axes = plt.subplots(3, 3, figsize=(5, 5))\n",
    "\n",
    "# List all image filenames in the folder\n",
    "image_files = os.listdir(image_folder)\n",
    "\n",
    "# Loop through the subplots and images\n",
    "for i, ax in enumerate(axes.flat):\n",
    "    if i < len(image_files):\n",
    "        # Read the image\n",
    "        img_path = os.path.join(image_folder, image_files[i])\n",
    "        img = mpimg.imread(img_path)\n",
    "        \n",
    "        # Display the image in the corresponding subplot\n",
    "        ax.imshow(img)\n",
    "        ax.axis('off')  # Hide axes\n",
    "        ax.set_title(f'Stage {i+1}')\n",
    "    else:\n",
    "        # If there are fewer than 9 images, hide remaining axes\n",
    "        ax.axis('off')\n",
    "\n",
    "# Adjust layout for better spacing\n",
    "plt.tight_layout()\n",
    "plt.show()"
   ]
  },
  {
   "cell_type": "markdown",
   "id": "44a2c475-cae7-47d2-a605-6e289b113c32",
   "metadata": {},
   "source": [
    "# <font color = 'red'>*3. Data Collection Methods*"
   ]
  },
  {
   "cell_type": "markdown",
   "id": "d73d356d-13f0-4e3f-95e1-0081505548b8",
   "metadata": {},
   "source": [
    "#### *1. Sensors and IoT Devices*\n",
    "Sensors and IoT devices automatically collect real-time data from equipment and environments. They provide immediate insights into operations and enable predictive maintenance by identifying potential issues early, improving overall efficiency and reducing downtime.\n",
    "\n",
    "<center> <img src=\"Module1/Temperature Sensor Data.png\" alt=\"Description\" width=\"700\"/> </center>"
   ]
  },
  {
   "cell_type": "markdown",
   "id": "3752da94-7bc7-4639-a40d-57116692289e",
   "metadata": {},
   "source": [
    "#### *2. Manual Data Entry*\n",
    "Manual data entry involves human operators recording data into systems. This method captures detailed and qualitative information that sensors may not detect, making it essential for scenarios where automation is not feasible and detailed documentation is required."
   ]
  },
  {
   "cell_type": "markdown",
   "id": "78ad171a-03af-489d-81aa-6611d0f13548",
   "metadata": {},
   "source": [
    "#### *3. Data Logging Systems*\n",
    "Data logging systems continuously and automatically record data over time. These systems ensure consistent data collection, facilitate historical analysis for trend identification, and help maintain data integrity by reducing the risk of human error."
   ]
  },
  {
   "cell_type": "markdown",
   "id": "3626c31e-1e1d-4888-a90a-de2926e44568",
   "metadata": {},
   "source": [
    "#### *4. CAD Metadata*\n",
    "Computer-Aided Design (CAD) metadata includes detailed information about the design and specifications of manufactured parts. This metadata captures dimensions, tolerances, material properties, and other design attributes, providing a comprehensive digital representation that is crucial for quality control, process optimization, and building digital twins.\n",
    "\n",
    "<center> <img src=\"Module1/CAD Metadata.png\" alt=\"Description\" width=\"500\"/> </center>"
   ]
  },
  {
   "cell_type": "markdown",
   "id": "e5d0645e-2127-4d43-9d74-5081a8c4f071",
   "metadata": {},
   "source": [
    "# <font color = 'red'>*4. Data Management and Storage*\n",
    "\n",
    "<center> <img src=\"Module1/Data Storage.svg\" alt=\"Description\" width=\"500\"/> </center>"
   ]
  },
  {
   "cell_type": "markdown",
   "id": "cdf66de7-7512-45e4-9eb8-2987426b6282",
   "metadata": {},
   "source": [
    "#### *1. Data Storage Solutions*\n",
    "Data storage solutions are essential for managing and storing large volumes of data generated in manufacturing processes. These solutions include databases, data warehouses, and cloud storage. Databases provide structured storage for easy querying and retrieval of data. Data warehouses aggregate data from multiple sources, enabling comprehensive analysis and reporting. Cloud storage offers scalable and flexible storage options, ensuring data is accessible from anywhere and can be easily integrated with other cloud-based services."
   ]
  },
  {
   "cell_type": "markdown",
   "id": "658ef7be-7f8c-4867-b626-bb73801e980e",
   "metadata": {},
   "source": [
    "#### *2. Data Integration and Interoperability*\n",
    "Data integration and interoperability involve combining data from various sources and ensuring that different systems can work together seamlessly. This is crucial for creating a unified view of the manufacturing process and enabling accurate data analysis. Effective data integration helps in breaking down data silos, ensuring that all relevant information is available for decision-making and process optimization."
   ]
  },
  {
   "cell_type": "markdown",
   "id": "e81a691f-f387-4706-96d5-dfc77ba4939c",
   "metadata": {},
   "source": [
    "#### *3. Ensuring Data Quality and Integrity*\n",
    "Ensuring data quality and integrity is vital for making informed decisions and maintaining trust in the data being used. This involves implementing processes and tools to clean, validate, and manage data. Data quality measures include removing duplicates, correcting errors, and ensuring consistency across datasets. Data integrity ensures that the data remains accurate and reliable over time, preventing issues such as data corruption or unauthorized access."
   ]
  },
  {
   "cell_type": "markdown",
   "id": "65dc4365-4177-4eef-a9e1-37da4d0701f8",
   "metadata": {},
   "source": [
    "# <font color = 'red'>*5. Data Practical Examples and Challenges*\n",
    "\n",
    "In digital engineering, the quality of data is critical for ensuring accurate analysis and reliable decision-making. However, various challenges can arise when working with data. These challenges can negatively impact the integrity of results, making it important to address issues like missing values, noise, outliers, inconsistent formats, and duplicates."
   ]
  },
  {
   "cell_type": "markdown",
   "id": "664fa5a5-e5bd-46ca-afed-66effb914934",
   "metadata": {},
   "source": [
    "1. ***Missing Values*** \n",
    "\n",
    "Missing data is a common issue, where certain data points are not recorded or are unavailable. This can happen due to sensor malfunctions, human error, or data transmission failures. Missing values can lead to biased analyses and reduce the accuracy of models and predictions.  \n",
    "\n",
    "In digital engineering, missing values are a common challenge. They occur when certain data points are not recorded or are unavailable due to issues like sensor malfunctions or data transmission failures. Missing values can cause problems, especially when making decisions based on incomplete data. \n",
    "\n",
    "<font color='#0024CC'>\n",
    "    \n",
    "- **Example**:  In manufacturing, for example, missing sensor data can result in inaccurate predictive maintenance models or faulty process optimizations.\n",
    "\n",
    "\n",
    "</font>"
   ]
  },
  {
   "cell_type": "code",
   "execution_count": null,
   "id": "bfb0caa9-2b96-40b7-a20a-d518bc8e0caf",
   "metadata": {},
   "outputs": [],
   "source": [
    "import matplotlib.pyplot as plt\n",
    "import numpy as np\n",
    "import pandas as pd\n",
    "\n",
    "# Generate synthetic temperature data\n",
    "np.random.seed(42)\n",
    "num_rows = 150\n",
    "timestamps = pd.date_range(start=\"2024-01-01\", periods=num_rows, freq=\"h\")\n",
    "temperature = np.random.normal(loc=70, scale=5, size=num_rows)  # Temperature data with normal distribution\n",
    "\n",
    "# Introduce missing values at random indices\n",
    "missing_indices = np.random.choice(range(40, 100), size=50, replace=False)\n",
    "temperature_with_missing = temperature.copy()\n",
    "temperature_with_missing[missing_indices] = np.nan  # Set those indices to NaN (missing)\n",
    "\n",
    "# Create a DataFrame to hold the data\n",
    "data = pd.DataFrame({\n",
    "    'Timestamp': timestamps,\n",
    "    'Temperature (°C)': temperature_with_missing\n",
    "})\n",
    "\n",
    "# Plot the temperature data\n",
    "plt.figure(figsize=(4, 3))\n",
    "plt.plot(data['Timestamp'], data['Temperature (°C)'], label='Temperature (°C)', color='tab:red', linewidth = 0.4)\n",
    "\n",
    "# Labels and title\n",
    "plt.xlabel('Time')\n",
    "plt.ylabel('Temperature (°C)')\n",
    "plt.title('Temperature Data with Missing Values')\n",
    "plt.xticks(rotation=45)\n",
    "#plt.legend()\n",
    "plt.tight_layout()\n",
    "plt.show()"
   ]
  },
  {
   "cell_type": "markdown",
   "id": "3b379de8-c76a-4f14-a5ba-c39c94805de8",
   "metadata": {},
   "source": [
    "2. ***Noise and Outliers*** \n",
    "   Noise refers to random variations or errors in data that do not represent true information. Outliers are data points that differ significantly from the rest of the data and can skew results if not addressed. Both noise and outliers need to be detected and treated to avoid distortion of analysis.\n",
    "\n",
    "<font color='#0024CC'>\n",
    "\n",
    "- **Example**: When monitoring vibration using a sensor, the normal operating range might be between 18 and 22 units, with occasional slight fluctuations due to environmental factors. However, due to sensor malfunctions, there may be sudden spikes or drops in vibration readings, such as values of 50, -10, 40, or -15 units. These readings are not reflective of actual vibration but are outliers caused by issues with the sensor.\n",
    "\n",
    "</font>"
   ]
  },
  {
   "cell_type": "code",
   "execution_count": null,
   "id": "cec5f109-cdc3-47a8-b840-e483f14b134f",
   "metadata": {},
   "outputs": [],
   "source": [
    "import numpy as np\n",
    "import matplotlib.pyplot as plt\n",
    "import pandas as pd\n",
    "\n",
    "# Set seed for reproducibility\n",
    "np.random.seed(42)\n",
    "\n",
    "# Generate time data\n",
    "time = np.arange(0, 1000, 1)\n",
    "\n",
    "# Simulate sensor data (e.g., Vibration)\n",
    "Vibration = 20 + np.sin(time / 50) * 5 + np.random.normal(size=time.size)\n",
    "\n",
    "# Introduce more outliers due to sensor malfunctions\n",
    "outlier_indices = [50, 100, 150, 200, 210, 230, 500, 600, 800, 850, 900]\n",
    "outlier_values = [50, -10, 60, -15, 70, -20, 40, -25, 45, -30, 55]\n",
    "Vibration[outlier_indices] = outlier_values\n",
    "\n",
    "# Create a DataFrame\n",
    "data = pd.DataFrame({\n",
    "    'Time': time,\n",
    "    'Vibration': Vibration\n",
    "})\n",
    "\n",
    "# Plot sensor data\n",
    "plt.figure(figsize=(4, 4))\n",
    "plt.plot(data['Time'], data['Vibration'], label='Vibration', color='blue', linewidth=0.3)\n",
    "plt.scatter(data['Time'][outlier_indices], data['Vibration'][outlier_indices], color='red', label='Outliers', marker = 'x')\n",
    "# plt.title('Sensor Data with Outliers')\n",
    "plt.xlabel('Time')\n",
    "plt.ylabel('Vibration')\n",
    "plt.legend()\n",
    "plt.show()"
   ]
  },
  {
   "cell_type": "markdown",
   "id": "d7831ed5-0418-42a2-9c28-89ebc45681e3",
   "metadata": {},
   "source": [
    "3. ***Inconsistent Formats and Duplicates***  \n",
    "   Inconsistent data formats, where the same type of data is stored in different ways, can complicate data processing and integration. Similarly, duplicate records can create redundancy and inaccuracies in the analysis. Ensuring consistency in formats and eliminating duplicates is essential for accurate data processing and analysis.\n",
    "   \n",
    "<font color='#0024CC'>\n",
    "    \n",
    "   - **Example**: Inventory inconsistency happens when different people or systems record the same product in different ways, such as using different names (e.g., \"gearbox model A\" vs. \"GearboxModelA\") or units (e.g., \"pcs\" vs. \"pieces\"). This can also include duplicate entries or versions of the same product. In digital engineering, this inconsistency can lead to confusion, errors in tracking, and difficulty in analyzing data, as it becomes harder to reliably count, update, or integrate inventory across systems, potentially causing delays or mistakes in production and planning.\n",
    "\n",
    "In our inventory data, inconsistency and duplicates occur in both the **product names** and **quantities**. For example, the product \"gearbox model A\" is listed with different formats such as `\"gearbox model A\"`, `\"Gearbox Model A\"`, `\"gear-box model A\"`, and `\"GearboxA\"`, all of which represent the same item but are written differently. This inconsistency makes it difficult to track the total quantity of this product. Similarly, there are duplicates in product names, such as `\"bearing 123\"` appearing three times with different formatting (`\"bearing_123\"`, `\"Bearing 123\"`, and `\"Bearing_123\"`) and `\"motor model X\"` listed twice with slightly different names (`\"motor model X\"` and `\"motor_x\"`). These inconsistencies and duplicates lead to incorrect aggregation of quantities, making it hard to accurately manage inventory and potentially causing errors in production planning or inventory reports.\n",
    "\n",
    "</font>"
   ]
  },
  {
   "cell_type": "code",
   "execution_count": null,
   "id": "cb243e20-3c8d-4f68-81e7-448d65f2df71",
   "metadata": {},
   "outputs": [],
   "source": [
    "import pandas as pd\n",
    "import numpy as np\n",
    "\n",
    "# Simulating product inventory data with inconsistent naming, units, and quantities\n",
    "np.random.seed(42)\n",
    "\n",
    "# Simulated product names with inconsistencies in formatting\n",
    "product_names = [\n",
    "    'gearbox model A', 'Gearbox Model A', 'gear-box model A', 'GearboxA', \n",
    "    'motor model X', 'motor model X', 'motor_x', 'Motor Model X', \n",
    "    'bearing_123', 'Bearing 123', 'bearing 123', 'Bearing_123', \n",
    "    'circuit board', 'circuitBoard', 'circuit board', 'circuit-board',\n",
    "    'piston model 3', 'piston_3', 'Piston Model 3', 'Piston-3', \n",
    "    'valve model v1', 'valve_v1', 'Valve Model v1', 'valve-model-v1', \n",
    "    'gearbox model B', 'Gearbox Model B', 'gear-box model B', 'GearboxB', \n",
    "    'valve model v2', 'Valve model V2'\n",
    "]\n",
    "\n",
    "# Simulated quantity data with some inconsistencies (e.g., quantities are not always realistic)\n",
    "quantity = np.random.randint(5, 100, size=30)  # Random quantity between 5 and 100\n",
    "\n",
    "# Create a DataFrame to simulate the inconsistent inventory data\n",
    "data = pd.DataFrame({\n",
    "    'Product_Name': product_names,\n",
    "    'Quantity': quantity\n",
    "})\n",
    "\n",
    "data"
   ]
  }
 ],
 "metadata": {
  "kernelspec": {
   "display_name": "Python 3 (ipykernel)",
   "language": "python",
   "name": "python3"
  },
  "language_info": {
   "codemirror_mode": {
    "name": "ipython",
    "version": 3
   },
   "file_extension": ".py",
   "mimetype": "text/x-python",
   "name": "python",
   "nbconvert_exporter": "python",
   "pygments_lexer": "ipython3",
   "version": "3.12.3"
  }
 },
 "nbformat": 4,
 "nbformat_minor": 5
}
