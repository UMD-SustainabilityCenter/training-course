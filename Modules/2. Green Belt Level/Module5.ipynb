{
 "cells": [
  {
   "cell_type": "markdown",
   "id": "22277191",
   "metadata": {
    "tags": [
     "auto-generated-toc"
    ]
   },
   "source": [
    "## Table of Contents\n",
    "- [G5: Model Based Process Control](#G5%3A-Model-Based-Process-Control)\n",
    "  - [5.1 Definition](#5.1-Definition)\n",
    "  - [5.2 Concepts](#5.2-Concepts)\n",
    "  - [5.3 User Stories](#5.3-User-Stories)\n",
    "- [🏠 Home](../../welcomePage.ipynb)"
   ]
  },
  {
   "cell_type": "markdown",
   "id": "4a6389a8-0160-4eef-bca7-d82fb66e2870",
   "metadata": {},
   "source": [
    "# G5: Model Based Process Control\n"
   ]
  },
  {
   "cell_type": "code",
   "execution_count": 1,
   "id": "42540be1-e602-44ff-86b3-14899b6db161",
   "metadata": {
    "has_explanation": false,
    "jupyter": {
     "source_hidden": true
    }
   },
   "outputs": [
    {
     "ename": "NameError",
     "evalue": "name 'Example' is not defined",
     "output_type": "error",
     "traceback": [
      "\u001b[0;31m---------------------------------------------------------------------------\u001b[0m",
      "\u001b[0;31mNameError\u001b[0m                                 Traceback (most recent call last)",
      "Cell \u001b[0;32mIn[1], line 1\u001b[0m\n\u001b[0;32m----> 1\u001b[0m \u001b[43mExample\u001b[49m \n",
      "\u001b[0;31mNameError\u001b[0m: name 'Example' is not defined"
     ]
    }
   ],
   "source": [
    "Example "
   ]
  },
  {
   "cell_type": "markdown",
   "id": "50148ca2-afd5-4403-a521-da61a20b097c",
   "metadata": {},
   "source": [
    "## 5.1 Definition\n",
    "Model-based process control is a mathematical and visual technique to addressing the challenges associated with designing complex control. This technique involves two key aspects. (a) The control analysis, representing the modeling and simulation aspects of the system including tuning and configuration, and automatic code generation. Each block of the model contains mathematical equations that emulate the behavior of the physical system. (b) The system and software, representing continuous validation and verification through testing, and deployment of the system. In this regard, when model-based control is used efficiently, it offers a single design platform to enhance overall system design. Through virtual prototyping, system engineers can easily see whether the whole system is working as intended, even before the hardware is manufactured and available for testing.\n",
    "\n",
    "\n",
    "## 5.2 Concepts\n",
    "<center>\n",
    "    <img src=\"../../img/03.jpg\" alt=\"Alt text\" width=\"400\">\n",
    "</center>\n",
    "\n",
    "\n",
    "## 5.3 User Stories\n",
    "- [Model Predictive Control](../../Modules/Examples/2.%20Learning%20Modules/2.6.%20Model%20Predictive%20Control/Model%20Predictive%20Control.ipynb) - This module demonstrates calculating a single time step's move trajectory using the same system as the Dahlin controller."
   ]
  },
  {
   "cell_type": "markdown",
   "id": "73211056-3bf2-475e-8fbc-12ff7418d492",
   "metadata": {},
   "source": [
    "## Example: PID control versus full state feedback control"
   ]
  },
  {
   "cell_type": "markdown",
   "id": "f117b684-211e-4b08-9c8a-cd77996b3e94",
   "metadata": {},
   "source": [
    "<center>\n",
    "    <img src=\"../img/Module5_Portable-steam-generator.png\" alt=\"The image shows a portable steam generator CAD model with internal view of the steam pipes and tank.\" width=\"500\">\n",
    "</center>\n",
    "Application: Pumped fluid storage is a common method to \"even out\" the fluctuating demand for a fluid such as a coolant or process water.\n",
    "A cooling example is the liquid cooling of a portable generator. \n",
    "The generator may be automatically throttled up or down in power due to fluctuating demand and to conserve fuel and prolong runtime.\n",
    "This throttling necessitates control of the flow rate of coolant.\n",
    "Similarly, a process water example of evening out flow is in the feeding of water into a once-through steam generator for enhanced oil recovery (EOR) or creation of an enhanced geothermal system (EGS).\n",
    "In these techniques, the steam generator, shown above, is brought to a site for injection of the produced steam into a well in the ground.\n",
    "An energy source boils the water to produce steam and supplies the steam at a specified pressure and flow rate to the application such as an underground oil formation or  geothermal energy formation under development.\n",
    "Steam demand, and hence process water demand, may fluctuate due to physical conditions in the underground formation or due to the operating state of the steam generator."
   ]
  },
  {
   "cell_type": "markdown",
   "id": "4b2b2f8d-e15d-4891-8102-44240ac2a27e",
   "metadata": {},
   "source": [
    "In a pumped fluid storage application, a pump supplies water to a network of two cylindrical tanks for fluid storage or delivery to a process with variable demand. The pump injects water into the larger fluid tank, which is connected to a smaller tank by a shutoff valve (maintained in the open position during process operation).\n",
    "The smaller tank is connected to the process by another shutoff valve (also maintained in the open position during process operation).\n",
    "We will use $q$ for flow rate, $h$ for height of water in a tank, $A$ for tank cross-sectional area, and $R$ for hydraulic flow resistance. \n",
    "Flow resistance is defined as pressure divided by flow rate, $R = \\Delta P / q$, in which $\\Delta P$ is the fluid's pressure drop across the hydraulic element, such as a valve, in the direction of flow.\n",
    "We assign an inlet flow rate $q_\\text{input}$ from the pump into the larger tank, labeled tank 1.\n",
    "The valve between tanks 1 and 2 is labeled with flow resistance $R_1$ and flow rate $q$.\n",
    "The smaller tank is labeled tank 2.\n",
    "The valve after tank 2 is labeled with flow resistance $R_2$ and flow rate $q_\\text{output}$.\n",
    "\n",
    "A model based control approach is sought to decide how to operate the pump (how to specify flow rate $q_\\text{input}(t)$ so that the output flow rate $q_\\text{output}(t)$ achieves the desired output flow rate $q_\\text{output, desired}(t)$. This control approach can use sensors to sense the height of water ${h}_1(t)$ or ${h}_2(t)$ in either tank or the flow rate $q(t)$ between tanks.\n",
    "\n",
    "The volume of water in tank 1 is $A_1 h_1$, and likewise, the volume of water in tank 2 is $A_2 h_2$.\n",
    "By conservation of volume, the net flow of water into tank 1 is $q_\\text{input} - q$. This must equal the rate of change of the volume of water in tank 1, which is $\\frac{d}{dt}\\left(A_1 h_1\\right) = A_1 \\dot{h}_1$.\n",
    "Notice that the overdot indicates a time rate of change, and that the cross-sectional area of the tank is not changing in time while the height of the water column in the tank is changing in time.\n",
    "You might pronounce $\\dot{h}_1$ as \"H one dot\".\n",
    "For tank 2, the net flow of water into tank 2 is $q - q_\\text{output}$.\n",
    "So we have two differential equations governing our system:\n",
    "$$q_\\text{input} - q = A_1 \\dot{h}_1$$\n",
    "and\n",
    "$$q - q_\\text{output} = A_2 \\dot{h}_2$$\n",
    "Our dynamic system is not yet complete as we must relate $q$ to some combination of the input signals $q_\\text{input}$ and $q_\\text{output}$ or state variables ${h}_1$ and ${h}_2$.\n",
    "We get this equation from the definition the flow resistance for the valve between the tanks.\n",
    "We need to know the pressure drop between the tanks.\n",
    "In each tank, the pressure at the bottom of the tank is $P = \\rho g h$, in which $\\rho$ is the density of the fluid, water, and $g$ is the acceleration due to gravity.\n",
    "So the pressure difference from the bottom of tank 1 to the bottom of tank 2 is $\\Delta P = \\rho g \\left(h_1 - h_2\\right)$.\n",
    "We now have an equation for $q$, which is $\\Delta P = \\rho g \\left(h_1 - h_2\\right) = q R_1$.\n",
    "We isolate $q$ as:\n",
    "$$q = \\frac{\\rho g}{R_1} \\left(h_1 - h_2\\right)$$\n",
    "We substitute this $q$ into our system of two differential equations as:\n",
    "$$q_\\text{input} - \\frac{\\rho g}{R_1}h_1 + \\frac{\\rho g}{R_1}h_2 = A_1 \\dot{h}_1$$\n",
    "$$\\frac{\\rho g}{R_1}h_1 - \\frac{\\rho g}{R_1}h_2 - q_\\text{output} = A_2 \\dot{h}_2$$\n",
    "\n",
    "It would appear that we can control both water column heights using both of the input signals.\n",
    "However, the objective is to supply a specified (desired) flow rate of water at a specified pressure.\n",
    "Let's examine the second valve (the valve between tank 2 and the outlet that feeds water into the process).\n",
    "The flow resistance equation for this valve is $\\Delta P = R_2 q_\\text{output}$. \n",
    "We know the pressure at the bottom of tank 2 is $\\rho g h_2$. \n",
    "The pressure of the water at the outlet should be the process's desired pressure, $P_\\text{output}$, which we will assume to be a static variable (consant in time).\n",
    "Without loss of generality, let us assume this is the ambient pressure $P_\\text{output} = 0$.\n",
    "So, the flow resistance equation for the valve becomes:\n",
    "$$\\rho g h_2 = R_2 q_\\text{output}$$\n",
    "This means that $h_2(t)$ and $q_\\text{output}(t)$ cannot be independently controlled.\n",
    "The value of one determines the value of the other through the preceding equation.\n",
    "So our system of two differential equations can be combined into one in which one of the tank height variables is eliminated.\n",
    "The other tank height variable can be eliminated by using the relationship between $h_2(t)$ and $q_\\text{output}(t)$, giving the following differential equation from $q_\\text{input}(t)$ to $q_\\text{output}(t)$.\n",
    "$$\\ddot{q}_\\text{output}\\left[A_1 A_2 \\frac{R_1}{\\rho g} \\frac{R_2}{\\rho g} \\right] + \\dot{q}_\\text{output}\\left[A_1 \\frac{R_1}{\\rho g} + A_2 \\frac{R_2}{\\rho g} + A_1 \\frac{R_2}{\\rho g} \\right] + q_\\text{output}\\left[ 1 \\right] = q_\\text{input}$$\n",
    "In this equation, the double dot notation above a variable indicates a second derivative with respect to time.\n",
    "Also, square brackets are used so as to avoid confusion with the notation for functions of time.\n",
    "We see that the system is a second-order system in the output variable $q_\\text{output}(t)$. \n",
    "We can design a closed-loop controller for this second order system, which will result in a different transfer function for the closed-loop control system.\n",
    "\n",
    "Let's use new variables to simplify the coefficients of the system:\n",
    "$$a = A_1 A_2 \\frac{R_1}{\\rho g} \\frac{R_2}{\\rho g}$$\n",
    "$$b = A_1 \\frac{R_1}{\\rho g} + A_2 \\frac{R_2}{\\rho g} + A_1 \\frac{R_2}{\\rho g}$$\n",
    "$$c = 1$$\n",
    "So that the second order system is:\n",
    "$$\\ddot{q}_\\text{output}\\left[a \\right] + \\dot{q}_\\text{output}\\left[b \\right] + q_\\text{output}\\left[ c \\right] = q_\\text{input}$$\n",
    "with transfer function:\n",
    "$$\\frac{Q_\\text{output}}{Q_\\text{input}}(s) = \\frac{1}{as^2+bs+c} $$\n",
    "\n",
    "When a closed loop controller with proportional gain $K$ is used, the closed loop transfer function becomes:\n",
    "$$\\frac{Q_\\text{output}}{Q_\\text{output,desired}}(s) = \\frac{K}{as^2+bs+c+K} $$\n",
    "\n",
    "One approach for designing this control system (the approach we used in the yellow belt level of this module) was to design a second order transfer function to have the damping ratio $\\zeta$ and natural frequency $\\omega_n$ which we specify.\n",
    "This is a valid approach once again.\n",
    "It would involve writing the transfer function as:\n",
    "$$\\frac{Q_\\text{output}}{Q_\\text{input}}(s) = \\frac{\\frac{K}{a}}{s^2+\\frac{b}{a}s+\\frac{c+K}{a}} $$\n",
    "Then equating the denominator $s^2+\\frac{b}{a}s+\\frac{c+K}{a} = s^2+2\\zeta\\omega_n s+\\omega_n^2$.\n",
    "From there, algebra gives:\n",
    "$$\\omega_n = \\sqrt{\\frac{c+K}{a}}$$\n",
    "$$\\zeta = \\frac{b}{2a\\omega_n} = \\frac{b}{2a}\\sqrt{\\frac{a}{c+K}} $$\n",
    "The speed of response is approximated by the time constant for a second order system $\\tau \\approx \\frac{1}{\\zeta\\omega}$.\n",
    "For this system,\n",
    "$$\\tau \\approx \\frac{1}{\\frac{b}{2a\\omega_n}\\omega_n} = \\frac{2a}{b} $$\n",
    "So the speed of response doesn't depend on $K$ in this analysis, but rather on the design parameters that set $a$ and $b$ such as the cross-sectional areas of the two tanks and the flow resistances of the two valves.\n",
    "We see that the choice of $K$ specifies the damping ratio $\\zeta$, and so the level of overshoot and oscillation of a step response.\n",
    "In general, these ranges for $\\zeta$ describe the systems step response:\n",
    "* $\\zeta>1$: overdamped system with no overshoot or oscillation, but slow response\n",
    "* $\\zeta=1$: critically damped system with no overshoot and no oscillation\n",
    "* $0.7<\\zeta<1$: underdamped system with faster response and slight overshoot without oscillation\n",
    "* $0<\\zeta<0.7$: underdamped system with fastest response but significant overshoot and oscillation\n",
    "* $\\zeta=0$: marginally stable system with undamped oscillating response. This is not physcially realizable as the slightest perturbation will cause the system to move into either the stable ($\\zeta>0$) or unstable ($\\zeta<0$) regime.\n",
    "* $\\zeta<0$: unstable system whose step response grows to infitinty, possibly with oscillations between large postive and large negative values.\n",
    "\n",
    "We can also specify the static gain of the system by evaluating its transfer function for $s=0$, giving $\\frac{K}{c+K}$. \n",
    "We see that the static gain is near 1 (unity) when $K\\gg c$ (meaning $K$ is far greater than $c$), giving low error at steady state.\n",
    "However, low values of $K$ relative to $c$ will have a static gain below 1 and thus will have significant steady state error between the demanded and actual water flow rate.\n",
    "\n",
    "Let's examine the step response of the system in a simulation of system performance.\n",
    "m"
   ]
  },
  {
   "cell_type": "markdown",
   "id": "5f90dac3-a27b-4c66-90a8-93014dd0f57d",
   "metadata": {},
   "source": [
    "Simulation of system performance\n",
    "\n",
    "Set the model parameters\n",
    "Tank 1 has radius 2 meters.\n",
    "Tank 2 has radius 3 meters.\n",
    "Valve $R_1$ has resistance of 10 s/m^2 in pressure head units. \n",
    "Valve $R_2$ has resistance of 20 s/m^2 in pressure head units. "
   ]
  },
  {
   "cell_type": "code",
   "execution_count": 2,
   "id": "c5632616-1abc-427e-8275-eb827b844eea",
   "metadata": {
    "has_explanation": false,
    "jupyter": {
     "source_hidden": true
    }
   },
   "outputs": [
    {
     "name": "stdout",
     "output_type": "stream",
     "text": [
      "A_1 = 12.6 meters-squared\n",
      "A_2 = 28.3 meters-squared\n",
      "R_1 = 9.81e+04 pascal-seconds per meter-cubed\n",
      "R_2 = 1.96e+05 pascal-seconds per meter-cubed\n",
      "model parameters are loaded\n",
      "a = 7.11e+04 seconds-squared\n",
      "b = 942 seconds\n",
      "c = 1, unitless\n"
     ]
    }
   ],
   "source": [
    "import math\n",
    "#set model parameters\n",
    "ρ = 1000 #density of water in kilograms per meter-cubed (you can type greek letters by typing \\rho or \\pi and pressing tab after the last letter)\n",
    "g = 9.80655 #gravitaitonal acceleration at sea level in meters per second-squared \n",
    "A_1 = 2**2*math.pi #area of tank 1 in meters-squared\n",
    "A_2 = 3**2*math.pi #area of tank 1 in meters-squared\n",
    "R_1 = 10*ρ*g # hydraulic resistance of first valve in pascal-seconds per meter-cubed\n",
    "R_2 = 20*ρ*g # hydraulic resistance of second valve in pascal-seconds per meter-cubed\n",
    "print(f'A_1 = {A_1:0.3g} meters-squared') #notice that the format specifier with 0.3g gives 3 significant digits. Notice the f before the string as well.\n",
    "print(f'A_2 = {A_2:0.3g} meters-squared')\n",
    "print(f'R_1 = {R_1:0.3g} pascal-seconds per meter-cubed')\n",
    "print(f'R_2 = {R_2:0.3g} pascal-seconds per meter-cubed')\n",
    "\n",
    "print('model parameters are loaded')\n",
    "\n",
    "#compute system parameters\n",
    "a = A_1*A_2*R_1/ρ/g*R_2/ρ/g\n",
    "b = A_1*R_1/ρ/g+A_2*R_2/ρ/g+ A_1*R_2/ρ/g\n",
    "c = 1\n",
    "print(f'a = {a:0.3g} seconds-squared')\n",
    "print(f'b = {b:0.3g} seconds')\n",
    "print(f'c = {c:0.3g}, unitless')"
   ]
  },
  {
   "cell_type": "markdown",
   "id": "236ae3b2-5c63-41a0-a2c9-68325c0af5d3",
   "metadata": {},
   "source": [
    "Set the proportional error gain to see the step response in the next code block. Notice that the slider is on a logarithmic scale."
   ]
  },
  {
   "cell_type": "code",
   "execution_count": 3,
   "id": "e8755ee9-30d6-45c4-acfe-3d696359a31c",
   "metadata": {
    "has_explanation": false,
    "jupyter": {
     "source_hidden": true
    }
   },
   "outputs": [
    {
     "data": {
      "application/vnd.jupyter.widget-view+json": {
       "model_id": "531bbdc33d404dbe8f91bbc5974090da",
       "version_major": 2,
       "version_minor": 0
      },
      "text/plain": [
       "FloatLogSlider(value=5.0, description='Gain K:', min=-2.0, readout_format='.3f', step=0.001)"
      ]
     },
     "metadata": {},
     "output_type": "display_data"
    }
   ],
   "source": [
    "#Set gain K to see performance\n",
    "from ipywidgets import interact,interactive,widgets\n",
    "from IPython.display import display\n",
    "\n",
    "gainK = 5\n",
    "# text_widget = widgets.Text(description=\"Variable:\")\n",
    "gainKSlider = widgets.FloatLogSlider(\n",
    "    value=gainK,\n",
    "    min=-2,\n",
    "    max=4,\n",
    "    step=0.001,\n",
    "    description=\"Gain K:\",\n",
    "    disabled=False,\n",
    "    continuous_update=True,\n",
    "    orientation='horizontal',\n",
    "    readout=True,\n",
    "    readout_format='.3f',\n",
    ")\n",
    "\n",
    "\n",
    "def update_variable(change):\n",
    "    global gainK\n",
    "    gainK = change.new\n",
    "    # print(f\"Variable updated to: {my_variable}\")\n",
    "\n",
    "gainKSlider.observe(update_variable, names='value')\n",
    "display(gainKSlider)"
   ]
  },
  {
   "cell_type": "code",
   "execution_count": 4,
   "id": "e340bebf-588c-4f20-abc1-1c50a283068c",
   "metadata": {
    "has_explanation": false,
    "jupyter": {
     "source_hidden": true
    }
   },
   "outputs": [
    {
     "name": "stdout",
     "output_type": "stream",
     "text": [
      "ω_n = 0.00919 radians-per-second\n",
      "ζ = 0.722, unitless\n"
     ]
    },
    {
     "data": {
      "image/png": "[encoded data removed]",
      "text/plain": [
       "<Figure size 640x480 with 1 Axes>"
      ]
     },
     "metadata": {},
     "output_type": "display_data"
    }
   ],
   "source": [
    "#plot the step response\n",
    "import numpy as np\n",
    "import matplotlib.pyplot as plt\n",
    "import control\n",
    "\n",
    "K = gainKSlider.value\n",
    "ω_n = math.sqrt((c+K)/a)\n",
    "ζ = (b)/(2*a*ω_n)\n",
    "print(f'ω_n = {ω_n:0.3g} radians-per-second')\n",
    "print(f'ζ = {ζ:0.3g}, unitless')\n",
    "\n",
    "# Define the transfer function\n",
    "num = [K]  # Numerator coefficients\n",
    "den = [a, b, c+K]  # Denominator coefficients\n",
    "\n",
    "# alternative calculation for a second order system:\n",
    "# num = omega_n**2\n",
    "# den = [1, 2*zetaSlider.value*omega_n, omega_n**2]\n",
    "\n",
    "tf = control.TransferFunction(num, den)\n",
    "\n",
    "# Calculate the step response\n",
    "t, y = control.step_response(tf)\n",
    "\n",
    "# Plot the step response\n",
    "plt.plot(t, y)\n",
    "plt.xlabel(\"Time in seconds\")\n",
    "plt.ylabel(r\"Amplitude (ratio of output to desired flow rate $q_\\text{output}(t)$)\") #notice the r before the string for a raw string to allow for LaTeX math notation inside the dollar signs\n",
    "plt.title(rf\"Step Response for Proportional Gain $K = {K:0.3g}$\")\n",
    "plt.grid(True)\n",
    "plt.show()"
   ]
  },
  {
   "cell_type": "markdown",
   "id": "55365b5d-f86a-4c9d-83ab-927a899d5083",
   "metadata": {},
   "source": [
    "What does your experimentation show?\n",
    "* for $K \\approx 5$, the step response looks like a first order system with $\\zeta \\approx 0.7$. It also has a steady state error above 15% as the step response settles to around 0.85. Most of the response is settled by 800 seconds.\n",
    "* for $K\\ll 5$, the step response gets much slower. This is an overdamped system\n",
    "* for $K\\gg 5$, the step response oscillates, giving the problem of overshoot and a long settling time. The steady state error improves (the step response amplitude after settling) gets closer to 1.0. Even a high gain doesn't cause the settling time to decrease from what it was for $K \\approx 5$.\n",
    "\n",
    "\n",
    "This simulation is neat, and it lets us see the response time, but it has some caveats.\n",
    "Unfortunately, the simulation does not know about physical limitations.\n",
    "We have put no code into our simulation to tell it that the tank height cannot go below 0 or above some maximum value.\n",
    "We have put no code into our simulation to tell it that the pump has a minimum and maximum flow rate.\n",
    "It is quite possible that our simulation is assuming that the pumping flow rate can go negative."
   ]
  },
  {
   "cell_type": "markdown",
   "id": "92d29566-0fe3-449a-af90-4334e5d3c578",
   "metadata": {},
   "source": [
    "PID controller"
   ]
  },
  {
   "cell_type": "markdown",
   "id": "5c02d010-2977-4807-8afa-853d43abc9d3",
   "metadata": {},
   "source": [
    "Let's implement a PI controller, using the two most common terms of the PID controller.\n",
    "The integral term is just one term beyond what we've already simulated.\n",
    "The integral term is known to eliminate steady state error when properly tuned.\n",
    "\n",
    "We need the differential equation and then transfer function for our PI controller.\n",
    "The differential equation is:\n",
    "$$u = K_p e + K_i \\int e\\,dt$$\n",
    "As a transfer function, this is \n",
    "$$\\frac{U}{E}(s) = K_p + \\frac{K_i}{s}$$\n",
    "We can can update our closed loop transfer function \n",
    "$$\\frac{Q_\\text{output}}{Q_\\text{input}}(s) = \\frac{K}{as^2+bs+c+K} $$\n",
    "from our earlier analysis with controller gain $K$, now replacing $K$ with $K_p + \\frac{K_i}{s}$.\n",
    "This gives:\n",
    "$$\\frac{Q_\\text{output}}{Q_\\text{input}}(s) = \\frac{K_p + \\frac{K_i}{s}}{as^2+bs+c+K_p+\\frac{K_i}{s}} $$\n",
    "Which can be written\n",
    "$$\\frac{Q_\\text{output}}{Q_\\text{input}}(s) = \\frac{K_p s + {K_i}}{as^3+bs^2+\\left(c+K_p\\right)s+{K_i}} $$\n",
    "Our previous analysis approach of treating the system as a second-order system to be tuned will not work for this PI controller as the system is now third order.\n",
    "We can simulate it by identifying the coefficients of the numerator and denominator.\n",
    "The numerator has coefficients $K_p$ and $K_i$, which you can see in the code.\n",
    "The denominator has coefficients $a$, $b$, $c+K_p$, and $K_i$, also visible in the code."
   ]
  },
  {
   "cell_type": "code",
   "execution_count": 5,
   "id": "9ffb24ca-8fc5-4004-8903-9326887901dd",
   "metadata": {
    "has_explanation": false,
    "jupyter": {
     "source_hidden": true
    }
   },
   "outputs": [
    {
     "data": {
      "application/vnd.jupyter.widget-view+json": {
       "model_id": "f4bc35eee982487099905f665f9a46ed",
       "version_major": 2,
       "version_minor": 0
      },
      "text/plain": [
       "FloatLogSlider(value=5.0, description='Gain K_p:', min=-2.0, step=0.001)"
      ]
     },
     "metadata": {},
     "output_type": "display_data"
    },
    {
     "data": {
      "application/vnd.jupyter.widget-view+json": {
       "model_id": "f18aa0d12e2f47e2a1f027af53b65905",
       "version_major": 2,
       "version_minor": 0
      },
      "text/plain": [
       "FloatLogSlider(value=0.01, description='Gain K_i:', max=2.0, min=-4.0, step=0.0001)"
      ]
     },
     "metadata": {},
     "output_type": "display_data"
    }
   ],
   "source": [
    "#Set gains K_p and K_i to see performance\n",
    "from ipywidgets import interact,interactive,widgets\n",
    "from IPython.display import display\n",
    "\n",
    "gainKP = 5\n",
    "gainKI = 0.01\n",
    "\n",
    "gainKPSlider = widgets.FloatLogSlider(\n",
    "    value=gainKP,\n",
    "    min=-2,\n",
    "    max=4,\n",
    "    step=0.001,\n",
    "    description=\"Gain K_p:\",\n",
    "    disabled=False,\n",
    "    continuous_update=True,\n",
    "    orientation='horizontal',\n",
    "    readout=True,\n",
    "    readout_format='.3g',\n",
    ")\n",
    "gainKISlider = widgets.FloatLogSlider(\n",
    "    value=gainKI,\n",
    "    min=-4,\n",
    "    max=2,\n",
    "    step=0.0001,\n",
    "    description=\"Gain K_i:\",\n",
    "    disabled=False,\n",
    "    continuous_update=True,\n",
    "    orientation='horizontal',\n",
    "    readout=True,\n",
    "    readout_format='.3g',\n",
    ")\n",
    "\n",
    "\n",
    "def update_variable_K_p(change):\n",
    "    global gainKP\n",
    "    gainKP = change.new\n",
    "\n",
    "def update_variable_K_i(change):\n",
    "    global gainKI\n",
    "    gainKI = change.new\n",
    "\n",
    "gainKPSlider.observe(update_variable_K_p, names='value')\n",
    "display(gainKPSlider)\n",
    "\n",
    "gainKISlider.observe(update_variable_K_i, names='value')\n",
    "display(gainKISlider)"
   ]
  },
  {
   "cell_type": "code",
   "execution_count": 6,
   "id": "388ec8f7-138e-444c-9d88-8e27468ed02d",
   "metadata": {
    "has_explanation": false
   },
   "outputs": [
    {
     "name": "stdout",
     "output_type": "stream",
     "text": [
      "K_p = 5, unitless\n",
      "K_i = 0.01, 1/seconds\n"
     ]
    },
    {
     "data": {
      "image/png": "[encoded data removed]",
      "text/plain": [
       "<Figure size 640x480 with 1 Axes>"
      ]
     },
     "metadata": {},
     "output_type": "display_data"
    }
   ],
   "source": [
    "#plot the step response\n",
    "import numpy as np\n",
    "import matplotlib.pyplot as plt\n",
    "import control\n",
    "\n",
    "K_p = gainKPSlider.value\n",
    "K_i = gainKISlider.value\n",
    "\n",
    "print(f'K_p = {K_p:0.4g}, unitless')\n",
    "print(f'K_i = {K_i:0.4g}, 1/seconds')\n",
    "\n",
    "# Define the transfer function\n",
    "num = [K_p, K_i]  # Numerator coefficients\n",
    "den = [a, b, c+K_p, K_i]  # Denominator coefficients\n",
    "\n",
    "# alternative calculation for a second order system:\n",
    "# num = omega_n**2\n",
    "# den = [1, 2*zetaSlider.value*omega_n, omega_n**2]\n",
    "\n",
    "tf = control.TransferFunction(num, den)\n",
    "\n",
    "# Calculate the step response\n",
    "t, y = control.step_response(tf)\n",
    "\n",
    "# Plot the step response\n",
    "plt.plot(t, y)\n",
    "plt.xlabel(\"Time in seconds\")\n",
    "plt.ylabel(r\"Amplitude (ratio of output to desired flow rate $q_\\text{output}(t)$)\") #notice the r before the string for a raw string to allow for LaTeX math notation inside the dollar signs\n",
    "plt.title(rf\"Step Response for PI Gains $K_p = {K_p:0.4g}$, $K_i = {K_i:0.4g}$\")\n",
    "plt.grid(True)\n",
    "plt.show()"
   ]
  },
  {
   "cell_type": "markdown",
   "id": "1e9186bf-0fd5-4ff6-94a7-ed2e98c614a5",
   "metadata": {},
   "source": [
    "You will see that you can get much improved step responses compared to the earlier controller that lacked an integral term.\n",
    "For one, the settled amplitude of the step response goes to 1, which means zero steady state error.\n",
    "However, too high of a $K_i$ gain will drive the system unstable, meaning it won't settle in a step response and will instead blow up to a large positive or neative value.\n",
    "In fact, the ratio of $K_p$ to $K_i$ matters to stability and performance (speed of resposnse, speed of settling).\n",
    "\n",
    "Again remember that our simulation does not saturate (or clip) the actuator to a maximum or minimum pump flow rate as would be required for physically implementing these designs."
   ]
  },
  {
   "cell_type": "markdown",
   "id": "def84c52-aedd-41e2-a7ad-eaffed2d1000",
   "metadata": {},
   "source": [
    "## State Space System Model and Full State Feedback Control\n",
    "We've derived this dynamic system model:\n",
    "$$q_\\text{input} - \\frac{\\rho g}{R_1}h_1 + \\frac{\\rho g}{R_1}h_2 = A_1 \\dot{h}_1$$\n",
    "$$\\frac{\\rho g}{R_1}h_1 - \\frac{\\rho g}{R_1}h_2 - q_\\text{output} = A_2 \\dot{h}_2$$\n",
    "And this equation relating signal $h_2(t)$ to output $q_\\text{output}(t)$: \n",
    "$$\\rho g h_2 = R_2 q_\\text{output}$$\n",
    "Let's algebraically substitue away $h_2$ from our model, giving\n",
    "$$A_1 \\dot{h}_1 = q_\\text{input} - \\frac{\\rho g}{R_1}h_1 + \\frac{R_2}{R_1}q_\\text{output} $$\n",
    "$$\\frac{A_2 R_2}{\\rho g}\\dot q_\\text{output} = \\frac{\\rho g}{R_1}h_1 - \\frac{R_2}{R_1}q_\\text{output} - q_\\text{output}$$\n",
    "Additional algebra gives:\n",
    "$$\\dot q_\\text{output} =  - \\frac{\\rho g\\left(R_1+R_2\\right)}{A_2 R_1 R_2}q_\\text{output} + \\frac{\\left(\\rho g\\right)^2}{A_2 R_1 R_2}h_1$$\n",
    "$$\\dot{h}_1 = \\frac{R_2}{A_1 R_1}q_\\text{output} - \\frac{\\rho g}{A_1 R_1}h_1 + \\frac{1}{A_1}q_\\text{input} $$\n",
    "This fits the **state space** form of writing two linear differential equations:\n",
    "$$\n",
    "\\begin{bmatrix}\n",
    "\\dot q_\\text{output} \\\\\n",
    "\\dot{h}_1\n",
    "\\end{bmatrix} \n",
    "= \n",
    "\\begin{bmatrix}\n",
    "a_{11} & a_{12}  \\\\\n",
    "a_{21} & a_{22} \n",
    "\\end{bmatrix} \n",
    "\\begin{bmatrix}\n",
    "q_\\text{output} \\\\\n",
    "h_1\n",
    "\\end{bmatrix} \n",
    "+\n",
    "\\begin{bmatrix}\n",
    "b_{11}  \\\\\n",
    "b_{21} \n",
    "\\end{bmatrix} \n",
    "\\begin{bmatrix}\n",
    "q_\\text{input} \\\\\n",
    "0\n",
    "\\end{bmatrix} \n",
    "$$\n",
    "Recalling the multiplication of matrices, we see that our system of two differential equations fits:\n",
    "$$\n",
    "\\begin{bmatrix}\n",
    "\\dot q_\\text{output} \\\\\n",
    "\\dot{h}_1\n",
    "\\end{bmatrix} \n",
    "= \n",
    "\\begin{bmatrix}\n",
    "- \\frac{\\rho g\\left(R_1+R_2\\right)}{A_2 R_1 R_2} & \\frac{\\left(\\rho g\\right)^2}{A_2 R_1 R_2} \\\\\n",
    "\\frac{R_2}{A_1 R_1} & - \\frac{\\rho g}{A_1 R_1} \n",
    "\\end{bmatrix} \n",
    "\\begin{bmatrix}\n",
    "q_\\text{output} \\\\\n",
    "h_1\n",
    "\\end{bmatrix}\n",
    "+\n",
    "\\begin{bmatrix}\n",
    "0 \\\\\n",
    "\\frac{1}{A_1}\n",
    "\\end{bmatrix} \n",
    "\\begin{bmatrix}\n",
    "q_\\text{input} \\\\\n",
    "0\n",
    "\\end{bmatrix} \n",
    "$$\n",
    "So that \n",
    "$$a_{11} = - \\frac{\\rho g\\left(R_1+R_2\\right)}{A_2 R_1 R_2}$$\n",
    "$$a_{12} = \\frac{\\left(\\rho g\\right)^2}{A_2 R_1 R_2}$$\n",
    "$$a_{21} = \\frac{R_2}{A_1 R_1}$$\n",
    "$$a_{22} = - \\frac{\\rho g}{A_1 R_1}$$\n",
    "$$b_{21} = \\frac{1}{A_1}$$\n",
    "\n",
    "We define a state vector \n",
    "$$ \\boldsymbol{x} = \n",
    "\\begin{bmatrix}\n",
    "q_\\text{output} \\\\\n",
    "h_1\n",
    "\\end{bmatrix} $$\n",
    "and input vector\n",
    "$$ \\boldsymbol{u} = \n",
    "\\begin{bmatrix}\n",
    "q_\\text{input} \\\\\n",
    "0\n",
    "\\end{bmatrix}  $$\n",
    "And matrices:\n",
    "$$ \\boldsymbol{A} =\n",
    "\\begin{bmatrix}\n",
    "a_{11} & a_{12}  \\\\\n",
    "a_{21} & a_{22} \n",
    "\\end{bmatrix} \n",
    "$$\n",
    "$$ \\boldsymbol{B} =\n",
    "\\begin{bmatrix}\n",
    "b_{11} \\\\\n",
    "b_{21} \n",
    "\\end{bmatrix} \n",
    "$$\n",
    "\n",
    "Let's now determine the numerical value of the $\\boldsymbol{A}$ and $\\boldsymbol{B}$ matrices."
   ]
  },
  {
   "cell_type": "code",
   "execution_count": 7,
   "id": "bfa60115-245d-4ebb-a124-6e2930b3052a",
   "metadata": {
    "has_explanation": false,
    "jupyter": {
     "source_hidden": true
    }
   },
   "outputs": [
    {
     "name": "stdout",
     "output_type": "stream",
     "text": [
      "The A matrix is \n",
      "[[-0.00530516  0.00017684]\n",
      " [ 0.15915494 -0.00795775]].\n",
      "The B matrix is \n",
      "[[0.        ]\n",
      " [0.07957747]].\n"
     ]
    }
   ],
   "source": [
    "import numpy as np\n",
    "a_11 = - (ρ*g*(R_1+R_2))/(A_2*R_1*R_2)\n",
    "a_12 = ((ρ*g)**2)/(A_2*R_1*R_2)\n",
    "a_21 = R_2/(A_1*R_1)\n",
    "a_22 = - (ρ*g)/(A_1*R_1)\n",
    "\n",
    "b_11 = 0\n",
    "b_21 = 1/A_1\n",
    "\n",
    "\n",
    "A_matrix = np.array([[a_11, a_12], [a_21, a_22]])\n",
    "print(f\"The A matrix is \\n{A_matrix}.\")\n",
    "B_matrix = np.array([[b_11], [b_21]])\n",
    "print(f\"The B matrix is \\n{B_matrix}.\")\n"
   ]
  },
  {
   "cell_type": "markdown",
   "id": "283c4bd4-5575-4c2e-add3-bfd3d7115606",
   "metadata": {},
   "source": [
    "Of course, each of these numbers has a dimension and a unit. \n",
    "It is customary for control engineers to only present the value, but it would be better to carry the units aound to prevent errors."
   ]
  },
  {
   "cell_type": "code",
   "execution_count": 8,
   "id": "69bc588b-e152-4920-85bd-69d70d13288c",
   "metadata": {
    "has_explanation": false
   },
   "outputs": [
    {
     "name": "stdout",
     "output_type": "stream",
     "text": [
      "The controllability matrix Co is \n",
      "[[ 0.00000000e+00  1.40723866e-05]\n",
      " [ 7.95774715e-02 -6.33257398e-04]].\n",
      "Rank of Co: 2\n",
      "The system is controllable\n"
     ]
    }
   ],
   "source": [
    "Co = control.ctrb(A_matrix, B_matrix)\n",
    "\n",
    "# Print the controllability matrix\n",
    "print(f\"The controllability matrix Co is \\n{Co}.\")\n",
    "\n",
    "# Check the rank of the controllability matrix\n",
    "rank_Co = np.linalg.matrix_rank(Co)\n",
    "print(f\"Rank of Co: {rank_Co}\")\n",
    "\n",
    "# Determine controllability\n",
    "n = A_matrix.shape[0] # System order (number of states)\n",
    "if rank_Co == n:\n",
    "  print(\"The system is controllable\")\n",
    "else:\n",
    "  print(\"The system is not controllable\")"
   ]
  },
  {
   "cell_type": "markdown",
   "id": "8846e38e-e31e-40e1-bf79-ac43bbc5f755",
   "metadata": {},
   "source": [
    "Since the system is controllable, we can use a pole placement method to set the two poles of our system.\n",
    "Let's place both poles around $s=-0.01$, meaning that the closed loop system will have the transient response of a faster system without oscillation."
   ]
  },
  {
   "cell_type": "code",
   "execution_count": 21,
   "id": "11d678f8-dc59-4dc6-acfe-09d6eda01b6e",
   "metadata": {
    "has_explanation": false
   },
   "outputs": [
    {
     "name": "stdout",
     "output_type": "stream",
     "text": [
      "Gain matrix K:\n",
      " [[3.56629614 0.08466087]]\n",
      "Closed-loop poles:\n",
      " [-0.01       -0.01000001]\n"
     ]
    }
   ],
   "source": [
    "# Define the open loop transfer function\n",
    "# num = [1]\n",
    "# den = [a, b, c]\n",
    "# G = control.TransferFunction(num, den)\n",
    "\n",
    "# # Calculate the poles of the open loop transfer function\n",
    "# poles = control.poles(G)\n",
    "\n",
    "# # Plot the root locus\n",
    "# rlist, klist = control.root_locus(G, plot=True)\n",
    "\n",
    "# # Show the plot\n",
    "# plt.show()\n",
    "\n",
    "\n",
    "from scipy.signal import place_poles\n",
    "# Desired pole locations\n",
    "desired_poles = np.array([-0.01, -(0.01*(1+1e-6))]) #the function won't let me use the same value for each pole, so I make the values slightly different\n",
    "\n",
    "# Calculate the gain matrix K\n",
    "results = place_poles(A_matrix, B_matrix, desired_poles)\n",
    "K_gain_matrix = results.gain_matrix\n",
    "\n",
    "# Verify the closed-loop poles\n",
    "A_cl = A_matrix - B_matrix @ K_gain_matrix\n",
    "closed_loop_poles = np.linalg.eigvals(A_cl)\n",
    "\n",
    "print(\"Gain matrix K:\\n\", K_gain_matrix)\n",
    "print(\"Closed-loop poles:\\n\", closed_loop_poles)"
   ]
  },
  {
   "cell_type": "markdown",
   "id": "12c04b5f-535c-4b92-8a9e-24fd07598c7c",
   "metadata": {},
   "source": [
    "The full state feedback gain matrix is to be used to compute the input:\n",
    "$$\\boldsymbol{u} = \\boldsymbol{K}\\boldsymbol{x} $$\n",
    "So each element of $\\boldsymbol{u}$ is related to one or more elements of the state vector $\\boldsymbol{x}$ through the matrix entries in the gain matrix $\\boldsymbol{K}$.\n",
    "This answers the question of how to control the pump flow rate $q_\\text{input}$, which is an element of $\\boldsymbol{u}$.\n",
    "The answer is to invest in two sensors.\n",
    "One sensor measures $h_1(t)$ and the other sensor measures $q_\\text{output}(t)$.\n",
    "In fact, since we know the static relationship between $h_2(t)$ and $q_\\text{output}(t)$, we can use a sensor on $h_2(t)$ to give a proxy measurement for $q_\\text{output}(t)$.\n",
    "These sensors can be flowmeters (for $q$ variables) or water column height sensors (for $h$ variables).\n",
    "There are multiple types of sensors to measure either of those types of variables, each sensor type with its own physical working principle, pros, and cons.\n",
    "\n",
    "Let's now simulate the step response of our closed loop system using this tuned full state feedback control."
   ]
  },
  {
   "cell_type": "code",
   "execution_count": 22,
   "id": "12fc8450-1624-4603-94b2-c7c5fd6c4a4e",
   "metadata": {
    "has_explanation": false
   },
   "outputs": [
    {
     "data": {
      "image/png": "[encoded data removed]",
      "text/plain": [
       "<Figure size 640x480 with 1 Axes>"
      ]
     },
     "metadata": {},
     "output_type": "display_data"
    }
   ],
   "source": [
    "# Define state-space matrices\n",
    "A = A_matrix - B_matrix @ K_gain_matrix\n",
    "B = B_matrix\n",
    "C = np.array([[1, 0]]) #we want to see only q_output\n",
    "D = np.array([[0]])\n",
    "\n",
    "# Create state-space object\n",
    "sys = control.ss(A, B, C, D)\n",
    "\n",
    "# Simulate step response\n",
    "T, yout = control.step_response(sys)\n",
    "\n",
    "# Plot step response\n",
    "plt.plot(T, yout)\n",
    "plt.xlabel(\"Time (s)\")\n",
    "plt.ylabel(\"Output\")\n",
    "plt.title(\"Step Response of State-Space System\")\n",
    "plt.grid(True)\n",
    "plt.show()"
   ]
  },
  {
   "cell_type": "markdown",
   "id": "1489e394-2ca7-408f-adaa-1c382be93e18",
   "metadata": {},
   "source": [
    "Observations\n",
    "This response, which we were able to design by placing poles, is definitely faster than the PI controller implmentation.\n",
    "Is it feasible? we would have to check our input signal for saturation at actuator limits to know this.\n",
    "\n",
    "Now you try: adjust the pole, design the controller and simulate the step response."
   ]
  },
  {
   "cell_type": "code",
   "execution_count": 23,
   "id": "c074ed39-e56e-4739-a19c-3b4fc8380f03",
   "metadata": {
    "has_explanation": false
   },
   "outputs": [
    {
     "data": {
      "application/vnd.jupyter.widget-view+json": {
       "model_id": "98dd9bed4f7948338fc9048c573c296a",
       "version_major": 2,
       "version_minor": 0
      },
      "text/plain": [
       "FloatLogSlider(value=100.0, description='Target τ:', max=5.0, min=1.0)"
      ]
     },
     "metadata": {},
     "output_type": "display_data"
    }
   ],
   "source": [
    "#Set pole values to see performance\n",
    "from ipywidgets import interact,interactive,widgets\n",
    "from IPython.display import display\n",
    "\n",
    "targetTimeConstantSeconds =100\n",
    "\n",
    "targetTimeConstantSlider = widgets.FloatLogSlider(\n",
    "    value=targetTimeConstantSeconds,\n",
    "    min=1,\n",
    "    max=5,\n",
    "    step=0.1,\n",
    "    description=\"Target τ:\",\n",
    "    disabled=False,\n",
    "    continuous_update=True,\n",
    "    orientation='horizontal',\n",
    "    readout=True,\n",
    "    readout_format='.3g',\n",
    ")\n",
    "\n",
    "\n",
    "def update_variable_targetTimeConstant(change):\n",
    "    global targetTimeConstantSeconds\n",
    "    targetTimeConstantSeconds = change.new\n",
    "\n",
    "targetTimeConstantSlider.observe(update_variable_targetTimeConstant, names='value')\n",
    "display(targetTimeConstantSlider)\n"
   ]
  },
  {
   "cell_type": "code",
   "execution_count": 24,
   "id": "ac7b114c-ae1b-41cc-ae9d-42736b226728",
   "metadata": {
    "has_explanation": false
   },
   "outputs": [
    {
     "name": "stdout",
     "output_type": "stream",
     "text": [
      "The target time constant in seconds is 100.\n",
      "Gain matrix K:\n",
      " [[17.34479505  0.33598791]]\n",
      "Closed-loop poles:\n",
      " [-0.01999998 -0.02      ]\n"
     ]
    },
    {
     "data": {
      "image/png": "[encoded data removed]",
      "text/plain": [
       "<Figure size 640x480 with 1 Axes>"
      ]
     },
     "metadata": {},
     "output_type": "display_data"
    }
   ],
   "source": [
    "print(f\"The target time constant in seconds is {targetTimeConstantSeconds:0.3g}.\")\n",
    "\n",
    "# Desired pole locations\n",
    "desired_poles = np.array([-2/targetTimeConstantSeconds, -2/(targetTimeConstantSeconds*(1+1e-6))]) #the function won't let me use the same value for each pole, so I make the values slightly different\n",
    "\n",
    "# Calculate the gain matrix K\n",
    "results = place_poles(A_matrix, B_matrix, desired_poles)\n",
    "K_gain_matrix = results.gain_matrix\n",
    "\n",
    "# Verify the closed-loop poles\n",
    "A_cl = A_matrix - B_matrix @ K_gain_matrix\n",
    "closed_loop_poles = np.linalg.eigvals(A_cl)\n",
    "\n",
    "print(\"Gain matrix K:\\n\", K_gain_matrix)\n",
    "print(\"Closed-loop poles:\\n\", closed_loop_poles)\n",
    "\n",
    "# Define state-space matrices\n",
    "A = A_matrix - B_matrix @ K_gain_matrix\n",
    "B = B_matrix\n",
    "C = np.array([[1, 0]]) #we want to see only q_output\n",
    "D = np.array([[0]])\n",
    "\n",
    "# Create state-space object\n",
    "sys = control.ss(A, B, C, D)\n",
    "\n",
    "# Simulate step response\n",
    "T, yout = control.step_response(sys)\n",
    "\n",
    "# Plot step response\n",
    "plt.plot(T, yout)\n",
    "plt.xlabel(\"Time (s)\")\n",
    "plt.ylabel(\"Output\")\n",
    "plt.title(\"Step Response of State-Space System\")\n",
    "plt.grid(True)\n",
    "plt.show()"
   ]
  },
  {
   "cell_type": "markdown",
   "id": "53690c5e",
   "metadata": {
    "tags": [
     "Bottom Navigation"
    ]
   },
   "source": [
    "### <center>[◀︎ Module 4](Module4.ipynb)     [🏠 Home](../../welcomePage.ipynb)     [Module 6 ▶︎](Module6.ipynb)</center>"
   ]
  },
  {
   "cell_type": "code",
   "execution_count": null,
   "id": "40847789-f1ad-40bd-9a28-26281406a476",
   "metadata": {},
   "outputs": [],
   "source": []
  }
 ],
 "metadata": {
  "kernelspec": {
   "display_name": "Python 3 (ipykernel)",
   "language": "python",
   "name": "python3"
  },
  "language_info": {
   "codemirror_mode": {
    "name": "ipython",
    "version": 3
   },
   "file_extension": ".py",
   "mimetype": "text/x-python",
   "name": "python",
   "nbconvert_exporter": "python",
   "pygments_lexer": "ipython3",
   "version": "3.11.6"
  }
 },
 "nbformat": 4,
 "nbformat_minor": 5
}
