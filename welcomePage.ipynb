{
 "cells": [
  {
   "cell_type": "markdown",
   "id": "7e137eaa-995a-466c-93a4-a6064465e7bb",
   "metadata": {},
   "source": [
    "# Course: Introduction to Digital Engineering"
   ]
  },
  {
   "cell_type": "markdown",
   "id": "c58e1189-8437-4fb6-b2e5-ad8d015a6bad",
   "metadata": {},
   "source": [
    "## Introduction\n",
    "Digital engineering can be defined as an integrated digital approach that uses authoritative sources of systems data and models as a continuum across disciplines to support lifecycle activities from concept through disposal. Technically, digital engineering is the construction of digital (computer) models that represent every characteristic of a complex product or system that is to be developed. Digital engineering is designed for hardware-intensive lifecycle management, but its utility encompasses software, as well. Most complex systems depend on multiple subsystems operating simultaneously and in concert. This is known as a system of systems (SoS) and occurs in both software and hardware-intensive systems. While integration challenges exist for both hardware and software SoS, the management and scheduling of hardware and software integration can look vastly different."
   ]
  },
  {
   "cell_type": "markdown",
   "id": "b4a7cbc6-2f0b-469f-9ade-407678e2f842",
   "metadata": {},
   "source": [
    "<center>\n",
    "    <img src=\"img/01.jpg\" alt=\"Alt text\" width=\"900\">\n",
    "</center>\n"
   ]
  },
  {
   "cell_type": "markdown",
   "id": "e341715d-9d16-4181-844e-a4ae2ae95270",
   "metadata": {},
   "source": [
    "Digital engineering is sometimes referred to as “digital thread” which is understood as a more encompassing term, though the novelty of both terms has created some dispute over their exact overlap. Both digital thread and digital engineering are an extension of product lifecycle management, a common practice in industry that involves the creation and storage of a system's lifecycle artifacts, in digital form, and which can be modified as the system evolves throughout its lifecycle. Digital thread and digital engineering both involve a single source of truth, referred to as the authoritative source of truth (ASoT), which contain artifacts maintained in a single repository, and stakeholders work from the same models rather than copies of models. The emerging processes of digital thread and digital engineering aim to address the difficulties of managing complex and evolving technologies over their lifecycles.\n",
    "\n",
    "Digital engineering has an ambitious scope: managing the entire lifecycle of a system of systems, including hardware systems as well as the software components. Digital engineering's emphasis on simulation and modeling has benefits in the hardware realm, in addition to software engineering. Digital engineering heavily promotes the use of virtual models in tandem or in advance of constructing physical models, to improve efficiency, efficacy, and success. In fact, digital engineering is an offshoot of Model-Based Systems Engineering (MBSE) and its goal is to accelerate the development of complex products, systems, and sub-systems by overcoming the established engineering disciplines, while addressing each engineering problem. \n",
    "\n",
    "One example of the application of digital engineering is the digital twin, which is a software simulation of the operation of a physical system. The physical system often employs software, so the digital twin is potentially also simulating software. Digital twins can be used to reduce the time, money, and power required to test and iterate on the design of novel technologies. In its current state, digital engineering is new and relatively unrecognized as an industry term.  The introduction of new standards and practices from digital engineering may come full-circle and influence the way that software is currently built, placing a larger emphasis on the modeling and simulation of software systems.\n",
    "\n",
    "The objective of this training course is to familiarize the audience with the concepts and tools necessary for digital engineering as well as the current challenges in practicing it. In contrast to traditional text-based course material. we developed a Jupyter notebook where we can demonstrate the concepts and tools while providing the opportunity to the participants to practice these concepts at their own level and pace on an open-source platform. These modules aim to cater to different audiences (novice, learners and practitioners) depending upon their experience and interest. "
   ]
  },
  {
   "cell_type": "markdown",
   "id": "695381ea-a931-4e47-9deb-45a65e2559ac",
   "metadata": {},
   "source": [
    "**Quick tour:** JupyterLab and Tools"
   ]
  },
  {
   "attachments": {},
   "cell_type": "markdown",
   "id": "e61ac0b4-c617-42be-8144-2b79d6900b95",
   "metadata": {},
   "source": [
    "### Module 1: Data !!!!!!!\n",
    "To begin a successful digital engineering journey, one must recognize that data is the linchpin, the fuel that propels this transformation. It’s not just about adopting the latest digital technologies; it’s about making data-driven decisions. Data can be collected anywhere and everywhere, but the utility of digital engineering is as good as data quantity and quality. It’s the compass that guides the transformation. By putting data at the forefront, one can make informed decisions, innovate products, enhance services, and automate the processes efficiently.\n",
    "\n",
    "<center>\n",
    "<img src=\"img/05.jpg\" alt=\"Alt text\" width=\"500\">\n",
    "</center>\n",
    "\n",
    "#### Concepts:\n",
    "- Data sources\n",
    "- IoT\n",
    "- Data cleansing\n",
    "- Data storage, security, and accessibility\n",
    "- Data Usage\n",
    "\n",
    "#### User Stories:\n",
    "#### Aerotech Data Collection Platform:\n",
    "- [Aerotech Data Collection](Modules/3.%20Advanced%20Topics/3.1.%20Aerotech%20Data%20Collection%20Platform/Aerotech%20Data%20Collection.ipynb) - no description\n",
    "\n",
    "#### Assessment:\n",
    "- [Take a quiz](http://example.com/quiz)\n"
   ]
  },
  {
   "cell_type": "markdown",
   "id": "c3489b71-5417-43ec-9d03-93249a09856c",
   "metadata": {},
   "source": [
    "### Module 2: Model based definition\n",
    "\n",
    "Model-based definition (MBD) is a process that uses 3D models in 3D CAD software to define product assemblies and individual components. The model is annotated with non-geometric information, such as dimensions, materials, finishes, tolerances, and symbols, that are important for manufacturing and inspection. The model becomes the source of authority for all engineering activities and is used in downstream processes like manufacturing, inspection, and assembly. MBD can offer several benefits, including: (a) Reduced engineering documentation time: Compared to drawing-centric workflows, MBD can reduce the time spent on engineering documentation, (b) More efficient drafting process: When designers designate critical dimensions, weld callouts, and notes in the model before passing it on to drafters, there's less back-and-forth between the two, allowing drafters to have all the information they need as soon as it's ready, (c) Improved communication and collaboration: MBD can improve communication and collaboration, and (d) Cost savings: MBD can lead to cost savings.\n",
    "\n",
    "<center>\n",
    "<img src=\"img/04.jpg\" alt=\"Alt text\" width=\"300\"></center>\n",
    "\n",
    "#### Concepts:\n",
    "- Conceptual model\n",
    "- Fully defined model\n",
    "  - CAD/Scanning tools\n",
    "  - CAM tools\n",
    "- Model Schema\n",
    "#### User Stories:\n",
    "#### <font color = 'red'>Add Max's \"M\" Demo\n",
    "\n",
    "#### Summary MBD:\n",
    "- Is the authoritative source of the product definition\n",
    "- Fully replaces a traditional drawing\n",
    "- Can be delivered in a true CAD neutral package\n",
    "\n",
    "#### Assessment:\n",
    "- [Take a quiz](http://example.com/quiz)"
   ]
  },
  {
   "cell_type": "markdown",
   "id": "37fbe9dd-6b11-4e99-a79d-259c618d36d3",
   "metadata": {},
   "source": [
    "### Module 3: Model Based Enterprise/Engineering (MBE)\n",
    "Historically, the industry used drawings to communicate requirements for the manufacturing of components and systems. Decentralization of manufacturing systems has amplified the problem of collecting and communicating the product and process specifications needed to make decisions about design, production, and supply chain tasks while delivering products to market. Moving away from a reliance on drawings to a computer-based technology to design, price, and manufacture items in a world where digital information is king is at the heart of MBE. MBE is a fully integrated and collaborative environment founded on 3D product definition detailed and shared across the enterprise; to enable rapid, seamless, and affordable deployment of products from concept to disposal. The foundational elements of MBE are: A single digital master data set containing the 3D model and all needed product data in a managed secure and controlled environment that supports maximum data reuse for all aspects of acquisition, maintenance, and operations.\n",
    "\n",
    "#### Concepts:\n",
    "- Authoritative source of truth (ASoT)\n",
    "\n",
    "<img src=\"img/06.jpg\" alt=\"Alt text\" width=\"200\">\n",
    "\n",
    "- Configuration management (CM)\n",
    "\n",
    "<img src=\"img/07.jpg\" alt=\"Alt text\" width=\"100\">\n",
    "\n",
    "- Product Lifecycle Management (PLM)\n",
    "\n",
    "<img src=\"img/08.jpg\" alt=\"Alt text\" width=\"400\">\n",
    "\n",
    "#### User Stories:\n",
    "#### Cost Estimation Analysis\n",
    "\n",
    "- [Cost Estimation using GCode](Modules/2.%20Learning%20Modules/2.3.%20Cost%20Estimation%20Analysis/Cost%20Estimation%20using%20GCode.ipynb) - no description\n",
    "\n",
    "#### Summary MBE:\n",
    "- Data: Refers to the source data itself.\n",
    "- Management: Refers to the need to organize the massive amounts of data. This can be applied to the overall data set or down to the organizational schema used in the annotated models making up the Model Based Definition (MBD).\n",
    "- Secure & Controlled: Refers to the ability to control access and secure the data once it has been managed.\n",
    "\n",
    "#### Assessment:\n",
    "- [Take a quiz](http://example.com/quiz)"
   ]
  },
  {
   "cell_type": "markdown",
   "id": "20197ea0-c0d1-475d-bc21-b5058b15cdfd",
   "metadata": {},
   "source": [
    "### Module 4: Modeling and Simulation\n",
    "Modeling and simulation are the use of models (e.g., physical, mathematical, behavioral, or logical representation of a system, entity, phenomenon, or process) as a basis for simulations to develop data utilized for managerial or technical decision making.\n",
    "<center>\n",
    "<img src=\"img/09.jpg\" alt=\"Alt text\" width=\"400\">\n",
    "</center>\n",
    "\n",
    "#### Concepts:\n",
    "- Traditional Engineering Analysis\n",
    "  - FEA\n",
    "  - Multi-physics Models\n",
    "- Data driven models\n",
    "- Physics based data models\n",
    "- Generative models\n",
    "- System Models\n",
    "\n",
    "#### User Stories:\n",
    "####  Material Properties in Finite Element Analysis:\n",
    "- [Material Properties FEA](Modules/3.%20Advanced%20Topics/3.2.%20Material%20Properties%20Finite%20Element%20Analysis/Material%20Properties%20FEA.ipynb) - no description\n",
    "\n",
    "#### Assessment:\n",
    "- [Take a quiz](http://example.com/quiz)\n",
    "\n"
   ]
  },
  {
   "cell_type": "markdown",
   "id": "dc016e99-dcba-4564-84ed-e178a9e6ecb6",
   "metadata": {},
   "source": [
    "### Module 5: Model Based Process Control\n",
    "\n",
    "Model-based control is a mathematical and visual technique of tackling problems associated with designing complex control. One aspect is the control analysis, representing the modeling and simulation aspects of the system including tuning and configuration, and automatic code generation. Each block of the model contains mathematics that allows it to emulate the behavior of the physical system. The other aspect is the system and software, representing continuous validation and verification through testing, and deployment of the system. In this regard, when model-based control is used efficiently, it offers a single design platform to enhance overall system design. Through virtual prototyping, system engineers can easily see whether the whole system is working as intended, even before the hardware is manufactured and available for testing.\n",
    "\n",
    "<center>\n",
    "    <img src=\"img/03.jpg\" alt=\"Alt text\" width=\"400\">\n",
    "</center>\n",
    "\n",
    "\n",
    "#### Model Predictive Control\n",
    "- [Model Predictive Control](Modules/2.%20Learning%20Modules/2.6%20Model%20Predictive%20Control/Model%20Predictive%20Control.ipynb) - no description"
   ]
  },
  {
   "cell_type": "markdown",
   "id": "f02938ae-9966-491d-95be-bf54479dda2c",
   "metadata": {},
   "source": [
    "### Module 6: Digital Twins\n",
    "A digital twin is a virtual model of a real-world object, system, or process that can be used for simulation, testing, monitoring, and maintenance. Digital twins can span the entire lifecycle of an object and use real-time data from sensors to simulate behavior and monitor operations. They can also use machine learning and reasoning to help make decisions.\n",
    "\n",
    "<center>\n",
    "    <img src=\"img/10.jpg\" alt=\"Alt text\" width=\"400\">\n",
    "</center>\n",
    "\n",
    "#### Concepts:\n",
    "- Product Twin\n",
    "- System Twin\n",
    "- Process Twin\n",
    "- Factory Twin\n",
    "- Supply Chain Twin\n",
    "- Service Twin\n",
    "- Simulation/Validation using digital twins\n",
    "\n",
    "#### User Stories:\n",
    "#### <font color = 'red'>Add Demo\n",
    "\n",
    "<center>\n",
    "    <img src=\"img/02.jpg\" alt=\"Alt text\" width=\"400\">\n",
    "</center>\n",
    "\n",
    "#### Assessment:\n",
    "- [Take a quiz](http://example.com/quiz)"
   ]
  },
  {
   "cell_type": "markdown",
   "id": "1411a259-d14f-4f0b-a1a0-02dafefdcbf9",
   "metadata": {},
   "source": [
    "### Module 7: Digital Engineering Practice\n",
    "\n",
    "#### User Stories:\n",
    "\n",
    "#### <font color = 'red'>Add Levi's Demo\n",
    "\n",
    "#### Sensor Fusion Processing:\n",
    "- [Sensor Fusion Processing](Modules/3.%20Advanced%20Topics/3.3.%20Sensor%20Fusion%20Processing/Sensor%20Fusion%20Processing.ipynb) - no description\n",
    "\n",
    "#### Height Map Feature Extraction:\n",
    "- [3D Scan Feature Extraction](Modules/2.%20Learning%20Modules/2.5.%20Height%20Map%20Feature%20Extraction/3D%20Scan%20Feature%20Extraction.ipynb) - no description\n",
    "\n",
    "#### <font color = 'red'>Coming Soon: Predictive Maintenance\n",
    "\n",
    "#### <font color = 'red'>Coming Soon: Prescriptive models"
   ]
  },
  {
   "cell_type": "markdown",
   "id": "13b2dd4e-c4a4-43e8-b6ae-4e35e6b9084a",
   "metadata": {},
   "source": [
    "### Module 8: Digital Engineering Challenges \n",
    "\n",
    "Digital engineering has an ambitious scope: managing the entire lifecycle of a system of systems, including hardware systems as well as the software components. Many challenges exist for fully implementing digital engineering in government and industry. The most critical ones are interface and connectivity in the digital thread."
   ]
  },
  {
   "cell_type": "markdown",
   "id": "54381e58-c4ef-4038-acbb-41a5c03abb12",
   "metadata": {},
   "source": [
    "Course Evaluation: [Take Survey](http://example.com/quiz)"
   ]
  },
  {
   "cell_type": "markdown",
   "id": "4d817352-7e69-4aca-bd43-a81f632211ab",
   "metadata": {},
   "source": [
    "##  Modules\n",
    "\n",
    "###  1. Fundamentals and Tools\n",
    "\n",
    "####  1.1. Machine Learning Linear Regression\n",
    "\n",
    "- [Linear Regression](Modules/1.%20Fundamentals%20and%20Tools/1.1.%20Machine%20Learning%20Linear%20Regression/Linear%20Regression.ipynb) - no description\n",
    "\n",
    "####  1.2. Machine Learning Classification\n",
    "\n",
    "- [Classification](Modules/1.%20Fundamentals%20and%20Tools/1.2.%20Machine%20Learning%20Classification/Classification.ipynb) - no description\n",
    "\n",
    "- [SVM](Modules/1.%20Fundamentals%20and%20Tools/1.2.%20Machine%20Learning%20Classification/SVM.ipynb) - no description\n",
    "\n",
    "- [XGBoost](Modules/1.%20Fundamentals%20and%20Tools/1.2.%20Machine%20Learning%20Classification/XGBoost.ipynb) - no description\n",
    "\n",
    "- [k-NN](Modules/1.%20Fundamentals%20and%20Tools/1.2.%20Machine%20Learning%20Classification/k-NN.ipynb) - no description\n",
    "\n",
    "###  2. Learning Modules\n",
    "\n",
    "####  2.1. 3D Printing Image Processing\n",
    "\n",
    "- [module](Modules/2.%20Learning%20Modules/2.1.%203D%20Printing%20Image%20Processing/module.ipynb) - no description\n",
    "\n",
    "####  2.2. Bead Extraction and Prediction\n",
    "\n",
    "- [ARIMA](Modules/2.%20Learning%20Modules/2.2.%20Bead%20Extraction%20and%20Prediction/ARIMA.ipynb) - no description\n",
    "\n",
    "- [Bead Extraction](Modules/2.%20Learning%20Modules/2.2.%20Bead%20Extraction%20and%20Prediction/Bead%20Extraction.ipynb) - no description\n",
    "\n",
    "- [Exponential Smoothing](Modules/2.%20Learning%20Modules/2.2.%20Bead%20Extraction%20and%20Prediction/Exponential%20Smoothing.ipynb) - no description\n",
    "\n",
    "- [Gradient Boost Regressor](Modules/2.%20Learning%20Modules/2.2.%20Bead%20Extraction%20and%20Prediction/Gradient%20Boost%20Regressor.ipynb) - no description\n",
    "\n",
    "- [Linear Regression](Modules/2.%20Learning%20Modules/2.2.%20Bead%20Extraction%20and%20Prediction/Linear%20Regression.ipynb) - no description\n",
    "\n",
    "- [MLP Regressor](Modules/2.%20Learning%20Modules/2.2.%20Bead%20Extraction%20and%20Prediction/MLP%20Regressor.ipynb) - no description\n",
    "\n",
    "- [Random Forest Regression](Modules/2.%20Learning%20Modules/2.2.%20Bead%20Extraction%20and%20Prediction/Random%20Forest%20Regression.ipynb) - no description\n",
    "\n",
    "####  2.3. Cost Estimation Analysis\n",
    "\n",
    "- [Cost Estimation using GCode](Modules/2.%20Learning%20Modules/2.3.%20Cost%20Estimation%20Analysis/Cost%20Estimation%20using%20GCode.ipynb) - no description\n",
    "\n",
    "####  2.4. Effect of Infill Patterns on Sintering\n",
    "\n",
    "- [Effect of Infill Patterns on Sintering](Modules/2.%20Learning%20Modules/2.4.%20Effect%20of%20Infill%20Patterns%20on%20Sintering/Effect%20of%20Infill%20Patterns%20on%20Sintering.ipynb) - no description\n",
    "\n",
    "####  2.5. Height Map Feature Extraction\n",
    "\n",
    "- [3D Scan Feature Extraction](Modules/2.%20Learning%20Modules/2.5.%20Height%20Map%20Feature%20Extraction/3D%20Scan%20Feature%20Extraction.ipynb) - no description\n",
    "\n",
    "####  2.6 Model Predictive Control\n",
    "\n",
    "- [Model Predictive Control](Modules/2.%20Learning%20Modules/2.6%20Model%20Predictive%20Control/Model%20Predictive%20Control.ipynb) - no description\n",
    "\n",
    "###  3. Advanced Topics\n",
    "\n",
    "####  3.1. Aerotech Data Collection Platform\n",
    "\n",
    "- [Aerotech Data Collection](Modules/3.%20Advanced%20Topics/3.1.%20Aerotech%20Data%20Collection%20Platform/Aerotech%20Data%20Collection.ipynb) - no description\n",
    "\n",
    "####  3.2. Material Properties Finite Element Analysis\n",
    "\n",
    "- [Material Properties FEA](Modules/3.%20Advanced%20Topics/3.2.%20Material%20Properties%20Finite%20Element%20Analysis/Material%20Properties%20FEA.ipynb) - no description\n",
    "\n",
    "####  3.3. Sensor Fusion Processing\n",
    "\n",
    "- [Sensor Fusion Processing](Modules/3.%20Advanced%20Topics/3.3.%20Sensor%20Fusion%20Processing/Sensor%20Fusion%20Processing.ipynb) - no description"
   ]
  }
 ],
 "metadata": {
  "kernelspec": {
   "display_name": "Python 3 (ipykernel)",
   "language": "python",
   "name": "python3"
  },
  "language_info": {
   "codemirror_mode": {
    "name": "ipython",
    "version": 3
   },
   "file_extension": ".py",
   "mimetype": "text/x-python",
   "name": "python",
   "nbconvert_exporter": "python",
   "pygments_lexer": "ipython3",
   "version": "3.10.9"
  }
 },
 "nbformat": 4,
 "nbformat_minor": 5
}
