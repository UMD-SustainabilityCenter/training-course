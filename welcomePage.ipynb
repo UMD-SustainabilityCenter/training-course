{
 "cells": [
  {
   "cell_type": "markdown",
   "id": "f2dd3480-7fa9-4fac-8953-a3554c107207",
   "metadata": {},
   "source": [
    "## Test File\n",
    "This file should be automatically download when jupyter server starts up.\n",
    "\n",
    "It just clones an entire git repo\n",
    "\n",
    "## Updating Course Files\n",
    "To update the course files click [this link](https://jupyter.tothemax.pro/hub/user-redirect/git-pull?repo=https%3A%2F%2Fgithub.com%2FUMD-SustainabilityCenter%2Ftraining-course&urlpath=lab%2Ftree%2Ftraining-course%2Fintro.ipynb&branch=main) or restart your JupyterLab server"
   ]
  }
 ],
 "metadata": {
  "kernelspec": {
   "display_name": "Python 3 (ipykernel)",
   "language": "python",
   "name": "python3"
  },
  "language_info": {
   "codemirror_mode": {
    "name": "ipython",
    "version": 3
   },
   "file_extension": ".py",
   "mimetype": "text/x-python",
   "name": "python",
   "nbconvert_exporter": "python",
   "pygments_lexer": "ipython3",
   "version": "3.12.4"
  }
 },
 "nbformat": 4,
 "nbformat_minor": 5
}
