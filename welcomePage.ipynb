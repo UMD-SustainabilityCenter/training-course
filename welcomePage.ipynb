{
 "cells": [
  {
   "cell_type": "markdown",
   "metadata": {},
   "source": [
    "<center> <img src=\"img/UMD-Wordmark.jpg\" alt=\"Alt text\" width=\"40%\"> </center>\n",
    "\n",
    "### <center>Sustainability Center Training Course</center>"
   ]
  },
  {
   "cell_type": "markdown",
   "metadata": {
    "jp-MarkdownHeadingCollapsed": true
   },
   "source": [
    "## Welcome\n",
    "\n",
    "<font color = 'red'>*Add Explanation on how to use course. Can be video or text*"
   ]
  },
  {
   "cell_type": "markdown",
   "metadata": {},
   "source": [
    "## Modules\n",
    "\n",
    "### <font color = '#B8860B'>1. Yellow Belt Level\n",
    "\n",
    "- **[Module 1 - Ayoub](Modules/1.%20Yellow%20Belt%20Level/Module1.ipynb) - Data** - Understand what data is and why it’s important in digital engineering.  \n",
    "(*Introduction to basic data types (e.g., integer, string, Boolean), data collection methods, and basic data usage in engineering contexts.*)\n",
    "\n",
    "- **[Module 2 - Mohanty](Modules/1.%20Yellow%20Belt%20Level/Module2.ipynb) - Model Based Definition (MBD)** - Familiarize with model-based definitions and their purpose in engineering.  \n",
    "(*Overview of what a model-based definition is, including basic terms and concepts like 3D CAD models, annotations, and tolerances.*)\n",
    "\n",
    "- **[Module 3 - Chehade](Modules/1.%20Yellow%20Belt%20Level/Module3.ipynb) - Model Based Enterprise (MBE)** - Understand what MBE is and why it’s valuable.  \n",
    "(*Introduction to MBE concepts and benefits, such as data integration, digital thread, and lifecycle management.*)\n",
    "\n",
    "- **[Module 4 - Ayoub](Modules/1.%20Yellow%20Belt%20Level/Module4.ipynb) - Modeling and Simulation** - Understand the basics of modeling and simulation.  \n",
    "(*Overview of modeling types (e.g., static vs. dynamic models), simple simulations, and their purposes in engineering.*)\n",
    "\n",
    "- **[Module 5 - Pannier](Modules/1.%20Yellow%20Belt%20Level/Module5.ipynb) - Model Based Process Control** - Understand how process data can be collected and used to improve performance.  \n",
    "(*Introduction to process data collection methods, such as sensors, and the basics of process monitoring.*)\n",
    "\n",
    "- **[Module 6 - Hu](Modules/1.%20Yellow%20Belt%20Level/Module6.ipynb) - Digital Twins** - Understand what a digital twin is and the concept’s basics.  \n",
    "(*Define digital twins, common applications, and how they relate to physical assets in engineering.*)\n",
    "\n",
    "- **[Module 7 - All](Modules/1.%20Yellow%20Belt%20Level/Module7.ipynb) - Digital Engineering Practice** - Identify the foundational elements of digital engineering.  \n",
    "(*Introduction to digital engineering principles, such as CAD, PLM (Product Lifecycle Management), and basic software used in the field.*)\n",
    "\n",
    "- **[Module 8 - All, refer to NFS proposal and derive contets from there](Modules/1.%20Yellow%20Belt%20Level/Module8.ipynb) - Digital Engineering Challenges** - Equip students with problem-solving techniques for basic digital engineering challenges.  \n",
    "(*Address common issues in digital engineering, such as data compatibility and communication challenges.*)\n",
    "\n",
    "### <font color = '#006400'>2. Green Belt Level\n",
    "\n",
    "- **[Module 1](Modules/2.%20Green%20Belt%20Level/Module1.ipynb) - Data** - Recognize and use different data types for engineering applications.  \n",
    "(*Study data structures (e.g., lists, dictionaries), data formatting (CSV, JSON), and simple data analysis using tools like Excel or basic scripts.*)\n",
    "\n",
    "- **[Module 2](Modules/2.%20Green%20Belt%20Level/Module2.ipynb) - Model Based Definition (MBD)** - Interact with and use MBD in simple engineering tasks.  \n",
    "(*Hands-on experience with MBD systems, learning to interpret and use CAD annotations, dimensions, and simple assembly views for engineering components.*)\n",
    "\n",
    "- **[Module 3](Modules/2.%20Green%20Belt%20Level/Module3.ipynb) - Model Based Enterprise (MBE)** - Learn how MBE integrates with various business practices.  \n",
    "(*Exploration of MBE workflows in engineering, focusing on collaborative tools and MBE’s role in business operations like supply chain and quality management.*)\n",
    "\n",
    "- **[Module 4](Modules/2.%20Green%20Belt%20Level/Module4.ipynb) - Modeling and Simulation** - Explore different modeling tools and perform basic simulations.  \n",
    "(*Hands-on activities with common modeling tools, running simple simulations, and interpreting results for engineering decision-making.*)\n",
    "\n",
    "- **[Module 5](Modules/2.%20Green%20Belt%20Level/Module5.ipynb) - Model Based Process Control** - Explore how process modeling can lead to process improvements.  \n",
    "(*Use simple process models to analyze data trends, and introduce predictive maintenance concepts using basic data analysis tools.*)\n",
    "\n",
    "- **[Module 6](Modules/2.%20Green%20Belt%20Level/Module6.ipynb) - Digital Twins** - Evaluate the utility of a digital twin in specific scenarios.  \n",
    "(*Study and interact with basic digital twin examples, understanding how to create, monitor, and use them for simple engineering systems.*)\n",
    "\n",
    "- **[Module 7](Modules/2.%20Green%20Belt%20Level/Module7.ipynb) - Digital Engineering Practice** - Apply digital engineering principles to solve practical problems.  \n",
    "(*Learn about data management, version control, and workflow optimization using practical tools and simple software integration.*)\n",
    "\n",
    "- **[Module 8](Modules/2.%20Green%20Belt%20Level/Module8.ipynb) - Digital Engineering Challenges** - Provide strategies to solve intermediate-level digital engineering problems.  \n",
    "(*Troubleshoot digital engineering workflows, such as data sharing issues, software incompatibility, and basic cybersecurity concerns.*)\n",
    "\n",
    "### <font color = '#000000'>3. Black Belt Level\n",
    "\n",
    "- **[Module 1](Modules/3.%20Black%20Belt%20Level/Module1.ipynb) - Data** - Apply data processing and analysis to solve engineering problems.  \n",
    "(*Introduction to data processing and analysis using Python (pandas library, data cleaning, basic statistics) to extract insights from engineering datasets.*)\n",
    "\n",
    "- **[Module 2](Modules/3.%20Black%20Belt%20Level/Module2.ipynb) - Model Based Definition (MBD)** - Integrate MBD into complex engineering workflows.  \n",
    "(*Deep dive into advanced MBD functionalities, creating model-based definitions, and using MBD for detailed analysis and collaborative workflows.*)\n",
    "\n",
    "- **[Module 3](Modules/3.%20Black%20Belt%20Level/Module3.ipynb) - Model Based Enterprise (MBE)** - Drive MBE adoption within complex organizational settings.  \n",
    "(*Analyze case studies on MBE implementation, strategies for MBE integration in large enterprises, and potential business benefits such as reducing cycle times and improving data transparency.*)\n",
    "\n",
    "- **[Module 4](Modules/3.%20Black%20Belt%20Level/Module4.ipynb) - Modeling and Simulation** - Perform complex simulations to drive engineering decisions.  \n",
    "(*Advanced simulation techniques (e.g., finite element analysis), evaluating simulation results, and applying simulations in real-world engineering scenarios.*)\n",
    "\n",
    "- **[Module 5](Modules/3.%20Black%20Belt%20Level/Module5.ipynb) - Model Based Process Control** - Design and optimize process control systems using advanced data models.  \n",
    "(*Develop and implement process models to optimize performance, including advanced techniques like real-time monitoring, predictive analytics, and feedback loops.*)\n",
    "\n",
    "- **[Module 6](Modules/3.%20Black%20Belt%20Level/Module6.ipynb) - Digital Twins** - Develop and deploy digital twins for complex systems.  \n",
    "(*Explore advanced digital twin concepts, such as real-time data integration, IoT sensor data, and lifecycle management, and assess their impact on engineering projects.*)\n",
    "\n",
    "- **[Module 7](Modules/3.%20Black%20Belt%20Level/Module7.ipynb) - Digital Engineering Practice** - Lead digital engineering practices in an organizational setting.  \n",
    "(*Advanced use of digital engineering platforms, designing complex workflows, integrating cross-departmental digital engineering practices, and evaluating outcomes.*)\n",
    "\n",
    "- **[Module 8](Modules/3.%20Black%20Belt%20Level/Module8.ipynb) - Digital Engineering Challenges** - Develop solutions for complex and emerging digital engineering challenges.  \n",
    "(*Address advanced challenges like scalability, integration with legacy systems, and strategies for digital transformation, including managing data security and governance.*)\n"
   ]
  }
 ],
 "metadata": {
  "kernelspec": {
   "display_name": "Python 3 (ipykernel)",
   "language": "python",
   "name": "python3"
  },
  "language_info": {
   "codemirror_mode": {
    "name": "ipython",
    "version": 3
   },
   "file_extension": ".py",
   "mimetype": "text/x-python",
   "name": "python",
   "nbconvert_exporter": "python",
   "pygments_lexer": "ipython3",
   "version": "3.12.7"
  }
 },
 "nbformat": 4,
 "nbformat_minor": 4
}
