{
 "cells": [
  {
   "cell_type": "markdown",
   "id": "d6578108-d1dd-467c-a70d-887fb0c90511",
   "metadata": {},
   "source": [
    "<center> <img src=\"img/UMD-Wordmark.jpg\" alt=\"Alt text\" width=\"40%\"> </center>\n",
    "\n",
    "### <center>Sustainability Center Training Course</center>"
   ]
  },
  {
   "cell_type": "markdown",
   "metadata": {
    "tags": [
     "auto-generated-toc"
    ]
   },
   "source": [
    "## Table of Contents\n\n  - [Table of Contents](#Table-of-Contents)\n- [Welcome](#Welcome)\n  - [Introduction](#Introduction)\n  - [Fundamentals of Digital Engineering](#Fundamentals-of-Digital-Engineering)\n- [Modules](#Modules)\n- [🏠 Home](../../welcomePage.ipynb)"
   ]
  },
  {
   "cell_type": "markdown",
   "id": "fad2b3fa-5469-4ac2-a9d5-bb1550bae7fe",
   "metadata": {
    "editable": true,
    "slideshow": {
     "slide_type": ""
    },
    "tags": []
   },
   "source": [
    "# Welcome\n",
    "\n",
    "<center> <img src=\"img/Animation2.gif\" alt=\"Alt text\" width=\"40%\"> </center>"
   ]
  },
  {
   "cell_type": "markdown",
   "id": "7e137eaa-995a-466c-93a4-a6064465e7bb",
   "metadata": {
    "editable": true,
    "slideshow": {
     "slide_type": ""
    },
    "tags": []
   },
   "source": [
    "## Introduction\n",
    "Digital engineering (DE) is a technology that can\n",
    "- increase the visibility of what is most urgent and important,\n",
    "- identify how changes that are introduced affect a whole system, as well as parts of it, and\n",
    "- enable stakeholders of a system to retrieve timely information about the status of a product moving through the development lifecycle at any point in time.\n",
    " \n",
    "**Digital Perspective:** DE was initially conceived as the methodology and implementation for designing and establishing digital products or systems.  \n",
    "\n",
    "<center>\n",
    "    <img src=\"img/19 2.jpg\" alt=\"Alt text\" width=\"500\">\n",
    "</center>\n",
    "\n",
    "\n",
    "**System engineering (SE) perspective:** How modern digital approaches facilitate the development of, from text-based systems engineering (document-centric) to model-based systems engineering (model-centric).\n",
    "\n",
    "<center>\n",
    "    <img src=\"img/20.jpg\" alt=\"Alt text\" width=\"600\">\n",
    "</center>\n",
    "\n",
    "**Continues to evolve:** The varying colors of these keywords indicate shifts in thematic focus over time. Earlier approaches primarily concentrated on the use of digital technologies to address issues during the design phase, and keywords such as “CAD”, “CAE”, “FEM”, “design” were more frequently used in this phase. With the development of information technology, the dominant trends have naturally shifted towards more advanced digital technologies and systematic approaches. Recently, keywords like “digital twin”, “artificial intelligence”, “systems engineering”, and “model-based systems engineering” have become prevalent topics of discussion.\n",
    "\n",
    "<center>\n",
    "    <img src=\"img/21.jpg\" alt=\"Alt text\" width=\"900\">\n",
    "</center>\n",
    "\n",
    "**Expected Benefits:** DE holds great expectations and benefits: (1) costs minimization; (2) global optimizations facilitation; and (3) prompt rapid responses to requirements.\n",
    "\n",
    "<center>\n",
    "    <img src=\"img/22.jpg\" alt=\"Alt text\" width=\"400\">\n",
    "</center>\n",
    "\n"
   ]
  },
  {
   "cell_type": "markdown",
   "id": "003518cd-87b3-42d0-8dff-baa743fb8b56",
   "metadata": {},
   "source": [
    "Digital Engineering can help anyone in the entire enterprise, starting from managment and procurement to designers and engineers. Here is an example to show how Digital Engineering can be used by anyone\n",
    "\n",
    "<center>\n",
    "    <img src=\"img/26.jpg\" alt=\"Alt text\" width=\"500\">\n",
    "</center>"
   ]
  },
  {
   "cell_type": "code",
   "execution_count": null,
   "id": "d2a270b4-3a59-4e65-9545-2c8ab09999ae",
   "metadata": {
    "has_explanation": false,
    "jupyter": {
     "source_hidden": true
    }
   },
   "outputs": [],
   "source": [
    "import ipywidgets as widgets\n",
    "from IPython.display import display, HTML\n",
    "from PIL import Image\n",
    "from fpdf import FPDF\n",
    "from base64 import b64encode\n",
    "import os\n",
    "import io\n",
    "import json  # PyMuPDF\n",
    "# import myFunctions as myFn\n",
    "\n",
    "\n",
    "# Create functions to be used later\n",
    "def setYpos(currentSection, lastYpos, currentYpos, is_LR):\n",
    "    lastYpos[is_LR] = currentYpos\n",
    "    return lastYpos\n",
    "\n",
    "def printPositionDebug(pos_debug, lastYpos, currentYpos, curretSection, sectionName, is_LR):\n",
    "    LR_def = [\"Left\", \"Right\"]\n",
    "\n",
    "    if pos_debug == 1:\n",
    "        print(\"\")\n",
    "        print(f\"🏃 Position Debug -- Section: {sectionName}\")\n",
    "        print(f\"Current Section: {curretSection}\")\n",
    "        print(f\"Current Side: {LR_def[is_LR]}\")\n",
    "        print(f\"End Y Position: {currentYpos}\")\n",
    "        print(f\"Last Y Position\\n   Left: {lastYpos[0]}  |  Right: {lastYpos[1]}\")\n",
    "        print(\"\")\n",
    "\n",
    "def list_mbd_subfolders(parent_folder):\n",
    "    \"\"\"\n",
    "    Lists all first-layer subfolders in the specified directory that have '.mbd' in their names.\n",
    "\n",
    "    Args:\n",
    "        parent_folder (str): Path to the parent folder.\n",
    "\n",
    "    Returns:\n",
    "        list: A list of subfolder paths with '.mbd' in their names.\n",
    "    \"\"\"\n",
    "    if not os.path.isdir(parent_folder):\n",
    "        print(f\"The provided path '{parent_folder}' is not a valid directory.\")\n",
    "        return []\n",
    "\n",
    "    # Get all first-layer subdirectories\n",
    "    subfolders = [\n",
    "        # os.path.join(parent_folder, subfolder)\n",
    "        subfolder\n",
    "        for subfolder in os.listdir(parent_folder)\n",
    "        if os.path.isdir(os.path.join(parent_folder, subfolder)) and '.mbd' in subfolder\n",
    "    ]\n",
    "\n",
    "    return subfolders\n",
    "\n",
    "# Set File Locations\n",
    "MBD_Location = \"example_resources/MBD_Files\"\n",
    "mbdFileList = list_mbd_subfolders(MBD_Location)\n",
    "\n",
    "# Create a text box\n",
    "text_box = widgets.Textarea(\n",
    "    value='',\n",
    "    placeholder='Type notes...',\n",
    "    description='Notes:',\n",
    "    disabled=False\n",
    ")\n",
    "\n",
    "# Variable to store the resulting text\n",
    "resulting_text = ''\n",
    "\n",
    "def update_text(change):\n",
    "    global resulting_text\n",
    "    resulting_text = change['new']\n",
    "    # print(f\"Updated Text: {resulting_text}\")\n",
    "\n",
    "# Attach the update function to the text box\n",
    "text_box.observe(update_text, names='value')\n",
    "\n",
    "# Create a dropdown menu\n",
    "dropdown = widgets.Dropdown(\n",
    "    options=mbdFileList,\n",
    "    value=mbdFileList[0],\n",
    "    description='MBD File:',\n",
    "    disabled=False\n",
    ")\n",
    "\n",
    "# Variable to store the selected dropdown value\n",
    "selected_option = mbdFileList[0]\n",
    "def update_selection(change):\n",
    "    global selected_option    \n",
    "    selected_option = change['new']\n",
    "    # print(f\"Option selected: {selected_option}\")\n",
    "\n",
    "# Attach the update function to the dropdown\n",
    "dropdown.observe(update_selection, names='value')\n",
    "\n",
    "# Display the widget\n",
    "display(dropdown, text_box)"
   ]
  },
  {
   "cell_type": "code",
   "execution_count": null,
   "id": "0d670ee9-d145-4b5f-9eab-786e141b83af",
   "metadata": {
    "has_explanation": false,
    "jupyter": {
     "source_hidden": true
    }
   },
   "outputs": [],
   "source": [
    "# A4 Dimentions\n",
    "w = 210\n",
    "h = 297\n",
    "\n",
    "notes = resulting_text\n",
    "outputFile = selected_option.replace(\".mbd\", \".pdf\")\n",
    "\n",
    "# partFile = \"mBlock.mbd\"\n",
    "# partFile = \"iceCleat.mbd\"\n",
    "\n",
    "partFile = MBD_Location + \"/\" + selected_option\n",
    "\n",
    "# Import MBD Data\n",
    "with open(f\"{partFile}/info.json\", \"r\") as file:\n",
    "    partData = json.load(file)\n",
    "\n",
    "# Setup Document Vairables\n",
    "docFont = \"dejavu-sans\"\n",
    "verticalSectionSpacing = 10\n",
    "cellWidth = (w-20)/2-10\n",
    "cellHeight = 8\n",
    "smallSpacerHeight = 3\n",
    "\n",
    "xPos = (10, (w-20)/2+20)\n",
    "lastYpos = (0,0)\n",
    "\n",
    "currentSection = 0\n",
    "\n",
    "try:\n",
    "    partName = partData[\"general_properties\"][\"name\"]\n",
    "    partID = partData[\"general_properties\"][\"part_id\"]\n",
    "except:\n",
    "    print(f\"🛑 Part Name or Part ID Missing 🛑\")\n",
    "\n",
    "header_start_page = 1\n",
    "footer_start_page = 0\n",
    "\n",
    "# Debug Enables\n",
    "border_enable = False\n",
    "pos_debug = False\n",
    "column_choice_debug = False\n",
    "\n",
    "output_real_file = False\n",
    "\n",
    "# Setup FPDF Objects\n",
    "class FPDF(FPDF):\n",
    "    \n",
    "    # Header\n",
    "    def header(self):\n",
    "        pageNum = self.page_no()\n",
    "        if pageNum > header_start_page:\n",
    "            self.set_font(docFont, \"\", 10)\n",
    "            self.cell(0,5,f\"{partID} [{partName}]\", border=border_enable, align=\"R\")\n",
    "            self.image(\"example_resources/Images/UM-Dearborn_Logo-horizontal-RGB.png\", h=5, x=10)\n",
    "            self.set_xy(10,30)\n",
    "            \n",
    "    # Footer\n",
    "    def footer(self):\n",
    "        pageNum = self.page_no()\n",
    "        footer_height = 5\n",
    "        footer_font_size = 10\n",
    "\n",
    "        if pageNum > footer_start_page:\n",
    "            self.set_font(docFont, \"\", footer_font_size)\n",
    "            self.set_y(-10-footer_height)\n",
    "            self.cell((w-20)/3, footer_height,f\"Page: {str(pageNum-footer_start_page)}\", border=border_enable)\n",
    "            self.cell((w-20)/3, footer_height,f\"{partID} [{partName}]\", border=border_enable, align=\"C\")\n",
    "            self.cell((w-20)/3, footer_height,\"Data Sheet\", border=border_enable, align=\"R\")\n",
    "    \n",
    "    # Section Title\n",
    "    def section_title(self, text, spacer_below_height):\n",
    "        self.set_fill_color(0, 39, 76)\n",
    "        self.set_font(docFont, \"\", 14)\n",
    "        global is_LR\n",
    "\n",
    "        # Determine if new cell should be left or right\n",
    "        if lastYpos[0] == lastYpos[1]:\n",
    "            self.set_xy(xPos[currentSection % 2], lastYpos[currentSection % 2])\n",
    "            is_LR = currentSection % 2\n",
    "\n",
    "            # Debug for column choice\n",
    "            if column_choice_debug == True:\n",
    "                print(\"\")\n",
    "                print(f'💈 Column Choice Debug -- Section: {text}')\n",
    "                print(f'Columns are Identical in Length Chose: {currentSection % 2} out of {lastYpos}')\n",
    "                print(\"\")\n",
    "        else:\n",
    "            shortestColumn = lastYpos.index(min(lastYpos))\n",
    "            self.set_xy(xPos[shortestColumn], lastYpos[shortestColumn])\n",
    "            is_LR = shortestColumn\n",
    "\n",
    "            # Debug for column choice\n",
    "            if column_choice_debug == True:\n",
    "                print(\"\")\n",
    "                print(f'💈 Column Choice Debug -- Section: {text}')\n",
    "                print(f'Column {shortestColumn} is the shortest at {lastYpos[shortestColumn]} out of {lastYpos}')\n",
    "                print(\"\")\n",
    "        \n",
    "        # Set Font Settings for Section Title\n",
    "        self.set_text_color(255, 202, 5)\n",
    "        self.cell(cellWidth, cellHeight, \"\", border=border_enable, new_x=\"LEFT\", new_y=\"NEXT\")\n",
    "        self.cell(cellWidth, cellHeight, text, fill=True, align=\"C\", border=border_enable, new_x=\"LEFT\", new_y=\"NEXT\")\n",
    "        \n",
    "        # Spacer below section title\n",
    "        self.cell(cellWidth, spacer_below_height, \"\", border=border_enable, new_x=\"LEFT\", new_y=\"NEXT\")\n",
    "        \n",
    "        # Reset Font for normal text\n",
    "        self.set_text_color(0, 0, 0)\n",
    "        self.set_font(docFont, \"\", 12)\n",
    "\n",
    "    # Empty Section Title (For images and other non text based sections)\n",
    "    def no_section_title(self):\n",
    "        global is_LR\n",
    "        self.set_fill_color(0, 39, 76)\n",
    "        self.set_text_color(255, 202, 5)\n",
    "        \n",
    "        # Determine if new cell should be left or right\n",
    "        if lastYpos[0] == lastYpos[1]:\n",
    "            self.set_xy(xPos[currentSection % 2], lastYpos[currentSection % 2])\n",
    "            is_LR = currentSection % 2\n",
    "\n",
    "            # Debug for column choice\n",
    "            if column_choice_debug == True:\n",
    "                print(\"\")\n",
    "                print(\"💈 Column Choice Debug -- Titleless Section\")\n",
    "                print(f'Columns are Identical in Length Chose: {currentSection % 2} out of {lastYpos}')\n",
    "                print(\"\")\n",
    "        else:\n",
    "            shortestColumn = lastYpos.index(min(lastYpos))\n",
    "            self.set_xy(xPos[shortestColumn], lastYpos[shortestColumn])\n",
    "            is_LR = shortestColumn\n",
    "\n",
    "            # Debug for column choice\n",
    "            if column_choice_debug == True:\n",
    "                print(\"\")\n",
    "                print(\"💈 Column Choice Debug -- Titleless Section\")\n",
    "                print(f'Column {shortestColumn} is the shortest at {lastYpos[shortestColumn]} out of {lastYpos}')\n",
    "                print(\"\")\n",
    "            \n",
    "        self.cell(cellWidth, cellHeight, \"\", border=border_enable, new_x=\"LEFT\", new_y=\"NEXT\") # Blank Cell\n",
    "\n",
    "# Enable FPDF\n",
    "pdf = FPDF(\"P\", \"mm\", format=(w,h))\n",
    "\n",
    "# Setup Fonts and Fallback Fonts\n",
    "pdf.add_font(fname=\"example_resources/Fonts/TwitterColorEmoji-SVGinOT.ttf\")\n",
    "pdf.add_font(family=\"dejavu-sans\", style=\"\", fname=\"example_resources/Fonts/DejaVuSans.ttf\")\n",
    "pdf.add_font(family=\"dejavu-sans\", style=\"b\", fname=\"example_resources/Fonts/DejaVuSans-Bold.ttf\")\n",
    "pdf.set_fallback_fonts([\"TwitterColorEmoji-SVGinOT\", \"dejavu-sans\"])\n",
    "\n",
    "pdf.set_font(docFont, \"\", 16)\n",
    "\n",
    "## Page 1\n",
    "pdf.add_page()\n",
    "\n",
    "## Title\n",
    "title_string = f\"{partID} [{partName}]\"\n",
    "title_font_size = 25\n",
    "pdf.set_text_color(0, 39, 76)\n",
    "pdf.set_font(docFont, \"b\", title_font_size)\n",
    "\n",
    "# Check to see how long title is and change font size accordingly\n",
    "if pdf.get_string_width(title_string) <= 140:\n",
    "    pdf.set_x(10)\n",
    "elif pdf.get_string_width(title_string) >= (w-40):\n",
    "    pdf.set_x(30)\n",
    "    title_length = pdf.get_string_width(title_string)\n",
    "    # Find new font size to make sure it will fit in title block\n",
    "    while title_length >= (w-40):\n",
    "        title_font_size += -1\n",
    "        pdf.set_font(docFont, \"b\", title_font_size)\n",
    "        title_length = pdf.get_string_width(title_string)\n",
    "        if title_font_size <= 12.5:\n",
    "            break\n",
    "else:\n",
    "    pdf.set_x(30)\n",
    "    \n",
    "pdf.multi_cell(0, 25/2, title_string, border=border_enable, align=\"C\", max_line_height=title_font_size/2)\n",
    "\n",
    "## Subtitle\n",
    "pdf.set_font(docFont, \"\", 18)\n",
    "pdf.set_y(21)\n",
    "pdf.cell(0,9,\"Data Sheet\", border=border_enable, align=\"C\", new_x=\"LEFT\", new_y=\"NEXT\")\n",
    "# UMDearborn Logo\n",
    "image = \"example_resources/Images/UM-Dearborn_Logo-RGB.png\"\n",
    "pdf.image(image, h=20 , x=10, y=10)\n",
    "\n",
    "lastYpos = [pdf.get_y(),pdf.get_y()]\n",
    "\n",
    "pdf.set_text_color(0, 0, 0)\n",
    "pdf.set_x(10)\n",
    "\n",
    "## Sedctions\n",
    "\n",
    "# Applications Secion\n",
    "try:\n",
    "    partApplications = partData[\"general_properties\"][\"applications\"]\n",
    "except:\n",
    "    print(\"⚠️ general_properties: appliacations not found, skipping ⚠️\")\n",
    "else:\n",
    "    pdf.section_title(\"Applications\", smallSpacerHeight)\n",
    "\n",
    "    text = \"\"\n",
    "\n",
    "    for i in partApplications:\n",
    "        if i == partApplications[0]:\n",
    "            text = text + \"  -  \" + i\n",
    "        else:\n",
    "            text = text + \"\\n\" + \"  -  \" + i  \n",
    "        \n",
    "    pdf.multi_cell(cellWidth, 6, text, border=border_enable, new_x=\"LEFT\", new_y=\"NEXT\")\n",
    "    \n",
    "    printPositionDebug(pos_debug, lastYpos, pdf.get_y(), currentSection, \"Applications\", is_LR)\n",
    "    lastYpos = setYpos(currentSection, lastYpos, pdf.get_y(), is_LR)\n",
    "    currentSection += 1\n",
    "\n",
    "# Image\n",
    "try:\n",
    "    partImage = partData[\"general_properties\"][\"image\"]\n",
    "except:\n",
    "    print(\"⚠️ general_properties: image not found, skipping ⚠️\")\n",
    "else:\n",
    "    pdf.no_section_title()\n",
    "\n",
    "    pdf.image(f\"{partFile}/{partImage}\", w=(w-20)/2-30, x = xPos[currentSection % 2]+10)\n",
    "\n",
    "    printPositionDebug(pos_debug, lastYpos, pdf.get_y(), currentSection, \"Image\", is_LR)\n",
    "    lastYpos = setYpos(currentSection, lastYpos, pdf.get_y(), is_LR)\n",
    "    currentSection += 1\n",
    "\n",
    "# Description\n",
    "try:\n",
    "    partDescription = partData[\"general_properties\"][\"description\"]\n",
    "except:\n",
    "    print(\"⚠️ gneral_properties: description not found, skipping ⚠️\")\n",
    "else:\n",
    "    pdf.section_title(\"Description\", smallSpacerHeight)\n",
    "    \n",
    "    pdf.multi_cell(cellWidth, 5, partDescription, align=\"J\", border=border_enable)\n",
    "\n",
    "    printPositionDebug(pos_debug, lastYpos, pdf.get_y(), currentSection, \"Description\", is_LR)\n",
    "    lastYpos = setYpos(currentSection, lastYpos, pdf.get_y(), is_LR)\n",
    "    currentSection += 1\n",
    "\n",
    "# Physical Properties\n",
    "try:\n",
    "    partPhysicalProperties = partData[\"physical_properties\"]\n",
    "except:\n",
    "    print(\"⚠️ physical_properties not found, skipping ⚠️\")\n",
    "else:\n",
    "    pdf.section_title(\"Physical Properties\", smallSpacerHeight)\n",
    "\n",
    "    # Material\n",
    "    try:\n",
    "        partMaterial = partPhysicalProperties[\"material\"]\n",
    "    except:\n",
    "        print(\"⚠️ Part Material Missing ⚠️\")\n",
    "    else:\n",
    "        pdf.cell(cellWidth, 5, f\"Material = {partMaterial}\", border=border_enable, new_x=\"LEFT\", new_y=\"NEXT\")\n",
    "\n",
    "    # Mass\n",
    "    try:\n",
    "        partMass = partPhysicalProperties[\"mass\"]\n",
    "        partMassUnit = partPhysicalProperties[\"mass_unit\"]\n",
    "    except:\n",
    "        print(\"⚠️ Part Mass or Mass Unit Missing ⚠️\")\n",
    "    else:\n",
    "        pdf.cell(cellWidth, 5, f\"Mass = {partMass} [{partMassUnit}]\", border=border_enable, new_x=\"LEFT\", new_y=\"NEXT\")\n",
    "\n",
    "    # Volume\n",
    "    try:\n",
    "        partVolume = partPhysicalProperties[\"volume\"]\n",
    "        partVolumeUnit = partPhysicalProperties[\"volume_unit\"]\n",
    "    except:\n",
    "        print(\"⚠️ Part Volume or Volume Unit Missing ⚠️\")\n",
    "    else:\n",
    "        pdf.cell(cellWidth, 5, f\"Volume = {partVolume} [{partVolumeUnit}]\", border=border_enable, new_x=\"LEFT\", new_y=\"NEXT\")\n",
    "\n",
    "    # Hardness\n",
    "    try:\n",
    "        partHardness = partPhysicalProperties[\"hardness\"]\n",
    "        partHardnessUnit = partPhysicalProperties[\"hardness_unit\"]\n",
    "    except:\n",
    "        print(\"⚠️ Part Hardness or Hardness Unit Missing ⚠️\")\n",
    "    else:\n",
    "        pdf.cell(cellWidth, 5, f\"Hardness = {partHardness} [{partHardnessUnit}]\", border=border_enable, new_x=\"LEFT\", new_y=\"NEXT\")\n",
    "    \n",
    "    printPositionDebug(pos_debug, lastYpos, pdf.get_y(), currentSection, \"Physical Properties\", is_LR)\n",
    "    lastYpos = setYpos(currentSection, lastYpos, pdf.get_y(), is_LR)\n",
    "    currentSection += 1\n",
    "\n",
    "\n",
    "# Manufacturing Properties\n",
    "try:\n",
    "    partManufacturingProperties = partData[\"manufacturing_properties\"]\n",
    "except:\n",
    "    print(\"⚠️ manufacturing_properties not found, skipping ⚠️\")\n",
    "else:\n",
    "    pdf.section_title(\"Maufacturing Properties\", smallSpacerHeight)\n",
    "\n",
    "    # Method\n",
    "    try:\n",
    "        manufacturingMethod = partManufacturingProperties[\"method\"]\n",
    "    except:\n",
    "        print(\"⚠️ Manufacturing Method Missing ⚠️\")\n",
    "    else:\n",
    "        pdf.cell(cellWidth, 5, f\"Process = {manufacturingMethod}\", border=border_enable, new_x=\"LEFT\", new_y=\"NEXT\")\n",
    "\n",
    "    # Waste Percent\n",
    "    try:\n",
    "        manufacturingWaste = partManufacturingProperties[\"waste_percent\"]\n",
    "    except:\n",
    "        print(\"⚠️ Manufacturing Waste Percent Missing ⚠️\")\n",
    "    else:\n",
    "        pdf.cell(cellWidth, 5, f\"Waste = {manufacturingWaste}\", border=border_enable, new_x=\"LEFT\", new_y=\"NEXT\")\n",
    "\n",
    "    # Scrap Rate\n",
    "    try:\n",
    "        manufacturingScrap = partManufacturingProperties[\"scrap_rate\"]\n",
    "    except:\n",
    "        print(\"⚠️ Manufacturing Scrap Rate Missing ⚠️\")\n",
    "    else:\n",
    "        pdf.cell(cellWidth, 5, f\"Scrap = {manufacturingScrap}\", border=border_enable, new_x=\"LEFT\", new_y=\"NEXT\")\n",
    "\n",
    "    # Hardness\n",
    "    try:\n",
    "        manufacturingCarbonFootprint = partManufacturingProperties[\"carbon_footprint\"]\n",
    "        manufacturingCarbonFootprintUnit = partManufacturingProperties[\"carbon_footprint_unit\"]\n",
    "    except:\n",
    "        print(\"⚠️ Carborn Footprint or Carbon Footprint Unit Missing ⚠️\")\n",
    "    else:\n",
    "        pdf.cell(cellWidth, 5, f\"Carbon Footprint = {manufacturingCarbonFootprint} [{manufacturingCarbonFootprintUnit}]\", border=border_enable, new_x=\"LEFT\", new_y=\"NEXT\")\n",
    "   \n",
    "    printPositionDebug(pos_debug, lastYpos, pdf.get_y(), currentSection, \"Maunfacturing Properties\", is_LR)\n",
    "    lastYpos = setYpos(currentSection, lastYpos, pdf.get_y(), is_LR)\n",
    "    currentSection += 1\n",
    "\n",
    "\n",
    "# Notes\n",
    "try:\n",
    "    notes = notes\n",
    "except:\n",
    "    print(\"😡 You messed with the code 😡\\n😡 The notes are missing 😡\")\n",
    "else:\n",
    "    pdf.section_title(\"Notes\", smallSpacerHeight)\n",
    "    pdf.multi_cell(cellWidth, 5, notes, border=border_enable, align=\"L\")\n",
    "\n",
    "    printPositionDebug(pos_debug, lastYpos, pdf.get_y(), currentSection, \"Notes\", is_LR)\n",
    "    lastYpos = setYpos(currentSection, lastYpos, pdf.get_y(), is_LR)\n",
    "    currentSection += 1\n",
    "\n",
    "# # Add Second Page\n",
    "# pdf.add_page()\n",
    "\n",
    "# Output PDF file and write file to variable for display\n",
    "pdf_bytes = pdf.output()\n",
    "print(f\"✅ PDF Generation Successful\")\n",
    "\n",
    "if output_real_file == True:\n",
    "    pdf.output(outputFile)\n",
    "    print(f\"✅ Output Location: './{outputFile}'\")\n",
    "\n",
    "# New PDF Display\n",
    "DisplayWidth, DisplayHeight = 800, 750\n",
    "base64_pdf = b64encode(pdf_bytes).decode(\"utf-8\")\n",
    "display(HTML(f'<embed height=\"{DisplayHeight}\" src=\"data:application/pdf;base64,{base64_pdf}\" type=\"application/pdf\" width=\"{DisplayWidth}\"/>'))\n",
    "\n",
    "# # Old PDF Display\n",
    "# pdf_path = outputFile  # Replace with your PDF file path\n",
    "# viewer = myFn.PDFViewer(pdf_path)\n",
    "# viewer.show()"
   ]
  },
  {
   "cell_type": "markdown",
   "id": "4b181fa3-0543-45a3-9ffb-6de1f2ee783d",
   "metadata": {},
   "source": [
    "Here is another example of how another person can analize data while another person is generating a report\n",
    "\n",
    "#### This example demonstrates how to run interactive modules on our JupyterHub platform. Press ▶️ to begin the interactive session and insert your name."
   ]
  },
  {
   "cell_type": "code",
   "execution_count": null,
   "id": "e12cb422-4fae-4403-938c-ceac57f8b02f",
   "metadata": {
    "has_explanation": false,
    "jupyter": {
     "source_hidden": true
    }
   },
   "outputs": [],
   "source": [
    "import numpy as np\n",
    "import matplotlib.pyplot as plt\n",
    "from sklearn.preprocessing import PolynomialFeatures\n",
    "from sklearn.linear_model import LinearRegression\n",
    "from ipywidgets import interact, FloatSlider, IntSlider\n",
    "import ipywidgets as widgets\n",
    "from IPython.display import display, FileLink\n",
    "import os\n",
    "from ipywidgets import fixed\n",
    "\n",
    "print('Code Running...')\n",
    "user_name = 'Unknown'\n",
    "\n",
    "# Create a text input widget\n",
    "name_input = widgets.Text(\n",
    "    value='',\n",
    "    placeholder='Type your name here',\n",
    "    description='Insert Name',\n",
    "    disabled=False\n",
    ")\n",
    "\n",
    "# Create an output widget\n",
    "output = widgets.Output()\n",
    "\n",
    "# Function to update the global variable and clear output\n",
    "def update_name(change):\n",
    "    global user_name\n",
    "    user_name = change['new']\n",
    "    with output:\n",
    "        output.clear_output()  # Clear the previous output\n",
    "        print(f\"Name '{user_name}' will be provided to the following code cell.\")\n",
    "\n",
    "# Linking the text widget to the update function\n",
    "name_input.observe(update_name, names='value')\n",
    "\n",
    "# Display the text input widget and output widget\n",
    "display(name_input, output)"
   ]
  },
  {
   "cell_type": "code",
   "execution_count": null,
   "id": "016cefe0-f59e-4b4e-99b8-7bd3ba95aa95",
   "metadata": {
    "has_explanation": false,
    "jupyter": {
     "source_hidden": true
    }
   },
   "outputs": [],
   "source": [
    "import numpy as np\n",
    "import matplotlib.pyplot as plt\n",
    "from sklearn.preprocessing import PolynomialFeatures\n",
    "from sklearn.linear_model import LinearRegression\n",
    "from ipywidgets import interact, IntSlider, FloatSlider\n",
    "print('You can adjust the Line Degree of Complexity, and the Noise Level in Data Generated\\n\\nDrag Slider and Interact !')\n",
    "# Initialize x data\n",
    "x = np.linspace(-3, 3, 50)\n",
    "np.random.seed(0)  # Set a fixed seed for reproducibility\n",
    "\n",
    "# Function to generate data\n",
    "def generate_data(noise, x=x):\n",
    "    return x**2 + np.random.randn(50) * noise\n",
    "\n",
    "# Cache the initial data\n",
    "initial_noise = 0.8  # Initial noise level\n",
    "y = generate_data(initial_noise)  # Initial data generation\n",
    "\n",
    "# Function to plot polynomial regression\n",
    "def plot_poly_regression(degree, y):\n",
    "    # Reshape x for sklearn compatibility\n",
    "    X = x[:, np.newaxis]\n",
    "    \n",
    "    # Create polynomial features\n",
    "    poly = PolynomialFeatures(degree=degree)\n",
    "    X_poly = poly.fit_transform(X)\n",
    "    \n",
    "    # Fit a linear model\n",
    "    model = LinearRegression()\n",
    "    model.fit(X_poly, y)\n",
    "    \n",
    "    # Predict and plot\n",
    "    y_pred = model.predict(X_poly)\n",
    "    plt.figure(figsize=(5, 5))\n",
    "    \n",
    "    \n",
    "    # Adding the user's name as a transparent text in the background\n",
    "    plt.text(0.5, 0.92, user_name + '\\'s Plot', fontsize=22, color='#2F65A7', ha='center', va='center',\n",
    "             alpha=1, transform=plt.gca().transAxes)  # Using axis transform for relative positioning\n",
    "    plt.scatter(x, y, color='#006EB2', label='Data points')\n",
    "    plt.plot(x, y_pred, color='#9A3324', label=f'Polynomial Degree {degree}', linewidth=2)\n",
    "    plt.ylim([-40 - 10, 40 + 10])\n",
    "    # plt.title(f\"Polynomial Degree {degree} Fit with Noise Level {initial_noise}\")\n",
    "    # plt.legend()\n",
    "    plt.grid(True)\n",
    "    plt.show()\n",
    "\n",
    "# Widgets for degree and noise adjustment\n",
    "degree_slider = IntSlider(value=1, min=1, max=15, step=1, description=\"Degree\")\n",
    "noise_slider = FloatSlider(value=initial_noise, min=0.1, max=10, step=0.1, description=\"Noise Level\")\n",
    "\n",
    "# Track the previous noise level to decide whether to regenerate data\n",
    "previous_noise = initial_noise\n",
    "\n",
    "def interactive_update(degree, noise):\n",
    "    global y, previous_noise\n",
    "    if noise != previous_noise:\n",
    "        y = generate_data(noise)  # Regenerate data if noise level has changed\n",
    "        previous_noise = noise\n",
    "    plot_poly_regression(degree, y)\n",
    "\n",
    "# Interactive widget setup\n",
    "interact(interactive_update,\n",
    "         degree=degree_slider,\n",
    "         noise=noise_slider);\n"
   ]
  },
  {
   "cell_type": "markdown",
   "id": "c58e1189-8437-4fb6-b2e5-ad8d015a6bad",
   "metadata": {},
   "source": [
    "## Fundamentals of Digital Engineering\n",
    "Digital engineering is an integrated digital approach that uses authoritative sources of systems data and models as a continuum across disciplines to support lifecycle activities from concept through disposal. At its core, digital engineering evolves creating comprehensive digital (computer) models that represent every characteristic of a complex product or system that is to be developed. Originally designed for hardware-intensive lifecycle management, digital engineering also proves highly effective for software applications. Complex systems often depend on multiple subsystems operating simultaneously and in concert, known as a system of systems (SoS). This concept applies to both software and hardware-intensive systems. While integration challenges exist for both, the process for managing and scheduling hardware and software integration can differ significantly. Digital engineering addresses these challenges by providing a cohesive framework that ensures efficient and coordinated lifecycle management across all system components.\n",
    "\n",
    "<center>\n",
    "    <img src=\"img/01 2.jpg\" alt=\"Alt text\" width=\"900\">\n",
    "</center>\n",
    "\n",
    "Digital engineering is sometimes referred to as “digital thread”, which encompasses a broader scope. Although the novelty of both terms has led to some debate, they are fundamentally extensions of product lifecycle management. This practice involves creating and storing a system's lifecycle artifacts in digital form, which can be updated as the system evolves. Both digital thread and digital engineering involve a single source of truth, referred to as the authoritative source of truth (ASoT). This ASoT contains all lifecycle artifacts in a centralized repository, ensuring that stakeholders work from the same models rather than multiple copies. The emerging processes of digital thread and digital engineering aim to address the difficulties of managing complex and evolving technologies over their lifecycles.\n",
    "\n",
    "Digital engineering has an ambitious scope: managing the entire lifecycle of a system of systems, including both hardware systems and software components. Its emphasis on simulation and modeling offers significant benefits in hardware engineering alongside software engineering. By promoting the use of virtual models in tandem with, or prior to, constructing physical systems, digital engineering aims to improve efficiency, efficacy, and success. An offshoot of Model-Based Systems Engineering (MBSE), digital engineering seeks to accelerate the development of complex products, systems, and sub-systems. It achieves this by integrating various engineering disciplines and addressing each unique engineering challenge comprehensively. \n",
    "\n",
    "One application example of digital engineering is the digital twin, which is a software simulation that mirrors the operation of a physical system. These digital twins can also simulate software, reflecting the interdependence of physical and software components. Digital twins can be used to reduce the time, money, and power required to test and iterate on the design of novel technologies. In its current state, digital engineering is new and relatively unrecognized as an industry term.  The introduction of new standards and practices from digital engineering may come full-circle and influence the way that software is currently built, placing a larger emphasis on the modeling and simulation of software systems.\n",
    "\n",
    "The objective of this training course is to familiarize the audience with the concepts and tools necessary for digital engineering, as well as the current challenges in the field. In contrast to traditional text/image-based course material, this course utilizes Jupyter notebooks to demonstrate the concepts and tools interactively. The format allows participants to practice these concepts at their own pace on an open-source platform. The course modules are designed to cater to a diverse audience (novices, learners and practitioners) accommodating various levels of experience and interest."
   ]
  },
  {
   "cell_type": "markdown",
   "id": "05fbea8d-84a2-46f3-9c78-45008df09fb1",
   "metadata": {
    "editable": true,
    "slideshow": {
     "slide_type": ""
    },
    "tags": []
   },
   "source": [
    "# Modules\n",
    "\n",
    "### <font color = '#B8860B'>1. Yellow Belt Level</font>\n",
    "\n",
    "- **[Module 1](Modules/1.%20Yellow%20Belt%20Level/Module1.ipynb) - Data** - Understand what data is and why it’s important in digital engineering.  \n",
    "(*Introduction to basic data types (e.g., integer, string, Boolean), data collection methods, and basic data usage in engineering contexts.*)\n",
    "\n",
    "- **[Module 2](Modules/1.%20Yellow%20Belt%20Level/Module2.ipynb) - Model Based Definition (MBD)** - Familiarize with model-based definitions and their purpose in engineering.  \n",
    "(*Overview of what a model-based definition is, including basic terms and concepts like 3D CAD models, annotations, and tolerances.*)\n",
    "\n",
    "- **[Module 3](Modules/1.%20Yellow%20Belt%20Level/Module3.ipynb) - Model Based Enterprise (MBE)** - Understand what MBE is and why it’s valuable.  \n",
    "(*Introduction to MBE concepts and benefits, such as data integration, digital thread, and lifecycle management.*)\n",
    "\n",
    "- **[Module 4](Modules/1.%20Yellow%20Belt%20Level/Module4.ipynb) - Modeling and Simulation** - Understand the basics of modeling and simulation.  \n",
    "(*Overview of modeling types (e.g., static vs. dynamic models), simple simulations, and their purposes in engineering.*)\n",
    "\n",
    "- **[Module 5](Modules/1.%20Yellow%20Belt%20Level/Module5.ipynb) - Model Based Process Control** - Understand how process data can be collected and used to improve performance.  \n",
    "(*Introduction to process data collection methods, such as sensors.*)\n",
    "\n",
    "- **[Module 6](Modules/1.%20Yellow%20Belt%20Level/Module6.ipynb) - Digital Twins** - Understand what a digital twin is and the concept’s basics.  \n",
    "(*Define digital twins, common applications, and how they relate to physical assets in engineering.*)\n",
    "\n",
    "- **[Module 7](Modules/1.%20Yellow%20Belt%20Level/Module7.ipynb) - Digital Engineering Practical Examples** - Identify the foundational elements of digital engineering.  \n",
    "(*Introduction to digital engineering principles, such as CAD, PLM (Product Lifecycle Management), basic software used in the field, and the basics of process monitoring.*)\n",
    "\n",
    "- **[Module 8](Modules/1.%20Yellow%20Belt%20Level/Module8.ipynb) - Digital Engineering Challenges** - Equip students with problem-solving techniques for basic digital engineering challenges.  \n",
    "(*Address common issues in digital engineering, such as data compatibility and communication challenges.*)\n",
    "\n",
    "### <font color = '#006400'>2. Green Belt Level</font>\n",
    "\n",
    "- **[Module 1](Modules/2.%20Green%20Belt%20Level/Module1.ipynb) - Data** - Recognize and use different data types for engineering applications.  \n",
    "(*Study data structures (e.g., lists, dictionaries), data formatting (CSV, JSON), and simple data analysis using tools like Excel or basic scripts.*)\n",
    "\n",
    "- **[Module 2](Modules/2.%20Green%20Belt%20Level/Module2.ipynb) - Model Based Definition (MBD)** - Interact with and use MBD in simple engineering tasks.  \n",
    "(*Hands-on experience with MBD systems, learning to interpret and use CAD annotations, dimensions, and simple assembly views for engineering components.*)\n",
    "\n",
    "- **[Module 3](Modules/2.%20Green%20Belt%20Level/Module3.ipynb) - Model Based Enterprise (MBE)** - Learn how MBE integrates with various business practices.  \n",
    "(*Exploration of MBE workflows in engineering, focusing on collaborative tools and MBE’s role in business operations like supply chain and quality management.*)\n",
    "\n",
    "- **[Module 4](Modules/2.%20Green%20Belt%20Level/Module4.ipynb) - Modeling and Simulation** - Explore different modeling tools and perform basic simulations.  \n",
    "(*Hands-on activities with common modeling tools, running simple simulations, and interpreting results for engineering decision-making.*)\n",
    "\n",
    "- **[Module 5](Modules/2.%20Green%20Belt%20Level/Module5.ipynb) - Model Based Process Control** - Explore how process modeling can lead to process improvements.  \n",
    "(*Use simple process models to analyze data trends, and introduce predictive maintenance concepts using basic data analysis tools.*)\n",
    "\n",
    "- **[Module 6](Modules/2.%20Green%20Belt%20Level/Module6.ipynb) - Digital Twins** - Evaluate the utility of a digital twin in specific scenarios.  \n",
    "(*Study and interact with basic digital twin examples, understanding how to create, monitor, and use them for simple engineering systems.*)\n",
    "\n",
    "- **[Module 7](Modules/2.%20Green%20Belt%20Level/Module7.ipynb) - Digital Engineering Practice** - Apply digital engineering principles to solve practical problems.  \n",
    "(*Learn about data management, version control, and workflow optimization using practical tools and simple software integration.*)\n",
    "\n",
    "- **[Module 8](Modules/2.%20Green%20Belt%20Level/Module8.ipynb) - Digital Engineering Challenges** - Provide strategies to solve intermediate-level digital engineering problems.  \n",
    "(*Troubleshoot digital engineering workflows, such as data sharing issues, software incompatibility, and basic cybersecurity concerns.*)\n",
    "\n",
    "### <font color = '#000000'>3. Black Belt Level</font>\n",
    "\n",
    "- **[Module 1](Modules/3.%20Black%20Belt%20Level/Module1.ipynb) - Data** - Apply data processing and analysis to solve engineering problems.  \n",
    "(*Introduction to data processing and analysis using Python (pandas library, data cleaning, basic statistics) to extract insights from engineering datasets.*)\n",
    "\n",
    "- **[Module 2](Modules/3.%20Black%20Belt%20Level/Module2.ipynb) - Model Based Definition (MBD)** - Integrate MBD into complex engineering workflows.  \n",
    "(*Deep dive into advanced MBD functionalities, creating model-based definitions, and using MBD for detailed analysis and collaborative workflows.*)\n",
    "\n",
    "- **[Module 3](Modules/3.%20Black%20Belt%20Level/Module3.ipynb) - Model Based Enterprise (MBE)** - Drive MBE adoption within complex organizational settings.  \n",
    "(*Analyze case studies on MBE implementation, strategies for MBE integration in large enterprises, and potential business benefits such as reducing cycle times and improving data transparency.*)\n",
    "\n",
    "- **[Module 4](Modules/3.%20Black%20Belt%20Level/Module4.ipynb) - Modeling and Simulation** - Perform complex simulations to drive engineering decisions.  \n",
    "(*Advanced simulation techniques (e.g., finite element analysis), evaluating simulation results, and applying simulations in real-world engineering scenarios.*)\n",
    "\n",
    "- **[Module 5](Modules/3.%20Black%20Belt%20Level/Module5.ipynb) - Model Based Process Control** - Design and optimize process control systems using advanced data models.  \n",
    "(*Develop and implement process models to optimize performance, including advanced techniques like real-time monitoring, predictive analytics, and feedback loops.*)\n",
    "\n",
    "- **[Module 6](Modules/3.%20Black%20Belt%20Level/Module6.ipynb) - Digital Twins** - Develop and deploy digital twins for complex systems.  \n",
    "(*Explore advanced digital twin concepts, such as real-time data integration, IoT sensor data, and lifecycle management, and assess their impact on engineering projects.*)\n",
    "\n",
    "- **[Module 7](Modules/3.%20Black%20Belt%20Level/Module7.ipynb) - Digital Engineering Practice** - Lead digital engineering practices in an organizational setting.  \n",
    "(*Advanced use of digital engineering platforms, designing complex workflows, integrating cross-departmental digital engineering practices, and evaluating outcomes.*)\n",
    "\n",
    "- **[Module 8](Modules/3.%20Black%20Belt%20Level/Module8.ipynb) - Digital Engineering Challenges** - Develop solutions for complex and emerging digital engineering challenges.  \n",
    "(*Address advanced challenges like scalability, integration with legacy systems, and strategies for digital transformation, including managing data security and governance.*)\n"
   ]
  }
 ],
 "metadata": {
  "kernelspec": {
   "display_name": "Python 3 (ipykernel)",
   "language": "python",
   "name": "python3"
  },
  "language_info": {
   "codemirror_mode": {
    "name": "ipython",
    "version": 3
   },
   "file_extension": ".py",
   "mimetype": "text/x-python",
   "name": "python",
   "nbconvert_exporter": "python",
   "pygments_lexer": "ipython3",
   "version": "3.12.5"
  },
  "widgets": {
   "application/vnd.jupyter.widget-state+json": {
    "state": {
     "00eb0af7269442f29b6481992db1f383": {
      "model_module": "@jupyter-widgets/controls",
      "model_module_version": "2.0.0",
      "model_name": "SliderStyleModel",
      "state": {
       "description_width": ""
      }
     },
     "048f1dc7efee42a2a10f280e89df0342": {
      "model_module": "@jupyter-widgets/controls",
      "model_module_version": "2.0.0",
      "model_name": "DropdownModel",
      "state": {
       "_options_labels": [
        "iceCleat.mbd",
        "mBlock.mbd"
       ],
       "description": "MBD File:",
       "index": 0,
       "layout": "IPY_MODEL_13f62c1422e74d2e997f9683621e2f1f",
       "style": "IPY_MODEL_aada176cdbe54b7bbb0331bec4c9b596"
      }
     },
     "06af282d75c6440a9403efe743b335b3": {
      "model_module": "@jupyter-widgets/output",
      "model_module_version": "1.0.0",
      "model_name": "OutputModel",
      "state": {
       "layout": "IPY_MODEL_5d104ef34dd74d018bf84295dafa1e3c",
       "outputs": [
        {
         "data": {
          "image/png": "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",
          "text/plain": "<Figure size 500x500 with 1 Axes>"
         },
         "metadata": {},
         "output_type": "display_data"
        }
       ]
      }
     },
     "06f6b57eece8417f80d6754dd6295aad": {
      "model_module": "@jupyter-widgets/controls",
      "model_module_version": "2.0.0",
      "model_name": "DescriptionStyleModel",
      "state": {
       "description_width": ""
      }
     },
     "077ecc4e75564bd9b6025a596f2915ad": {
      "model_module": "@jupyter-widgets/base",
      "model_module_version": "2.0.0",
      "model_name": "LayoutModel",
      "state": {}
     },
     "0b4cfd66a7e94304861d741966d22a24": {
      "model_module": "@jupyter-widgets/base",
      "model_module_version": "2.0.0",
      "model_name": "LayoutModel",
      "state": {}
     },
     "0dd565596d78446481a6409c1c6db9f7": {
      "model_module": "@jupyter-widgets/controls",
      "model_module_version": "2.0.0",
      "model_name": "SliderStyleModel",
      "state": {
       "description_width": ""
      }
     },
     "0e59ad9c659d48409eb842e374e2fdda": {
      "model_module": "@jupyter-widgets/controls",
      "model_module_version": "2.0.0",
      "model_name": "IntSliderModel",
      "state": {
       "behavior": "drag-tap",
       "description": "Degree",
       "layout": "IPY_MODEL_9dc6c94e67914599a328a21f95403aae",
       "max": 15,
       "min": 1,
       "style": "IPY_MODEL_d10c017faa194937a651bde1794d99f6",
       "value": 1
      }
     },
     "13f62c1422e74d2e997f9683621e2f1f": {
      "model_module": "@jupyter-widgets/base",
      "model_module_version": "2.0.0",
      "model_name": "LayoutModel",
      "state": {}
     },
     "158968e7e98748a28dd9ba2c690a7691": {
      "model_module": "@jupyter-widgets/controls",
      "model_module_version": "2.0.0",
      "model_name": "TextStyleModel",
      "state": {
       "description_width": "",
       "font_size": null,
       "text_color": null
      }
     },
     "1b78d15729a44a898ab23e6cb77ddb88": {
      "model_module": "@jupyter-widgets/controls",
      "model_module_version": "2.0.0",
      "model_name": "TextStyleModel",
      "state": {
       "description_width": "",
       "font_size": null,
       "text_color": null
      }
     },
     "1e0f9b8e8dbc47c7b1a4a4d1f8a813e7": {
      "model_module": "@jupyter-widgets/controls",
      "model_module_version": "2.0.0",
      "model_name": "TextStyleModel",
      "state": {
       "description_width": "",
       "font_size": null,
       "text_color": null
      }
     },
     "22e729d1922545bd9fe4d9c7b95b53db": {
      "model_module": "@jupyter-widgets/base",
      "model_module_version": "2.0.0",
      "model_name": "LayoutModel",
      "state": {}
     },
     "27cac79fbe3046d1bf923ca04ed7e4ef": {
      "model_module": "@jupyter-widgets/base",
      "model_module_version": "2.0.0",
      "model_name": "LayoutModel",
      "state": {}
     },
     "2b35c67f64754a688d727dc3e487406a": {
      "model_module": "@jupyter-widgets/controls",
      "model_module_version": "2.0.0",
      "model_name": "TextareaModel",
      "state": {
       "description": "Notes:",
       "layout": "IPY_MODEL_86de95e1092c4a578e86fa4eed587532",
       "placeholder": "Type notes...",
       "style": "IPY_MODEL_dfd3cbfd4ea34597a22f649e227e23e3"
      }
     },
     "30241be4ac274bee8af9f1f8064ab072": {
      "model_module": "@jupyter-widgets/controls",
      "model_module_version": "2.0.0",
      "model_name": "TextStyleModel",
      "state": {
       "description_width": "",
       "font_size": null,
       "text_color": null
      }
     },
     "3d2d8db0af8f477e842e907c8aa6424d": {
      "model_module": "@jupyter-widgets/controls",
      "model_module_version": "2.0.0",
      "model_name": "DropdownModel",
      "state": {
       "_options_labels": [
        "iceCleat.mbd",
        "mBlock.mbd"
       ],
       "description": "MBD File:",
       "index": 0,
       "layout": "IPY_MODEL_3f3a61d3ee5c4419a4c687efe767aeb4",
       "style": "IPY_MODEL_f3f2b9c1ba6244959489df5eb69e9fa8"
      }
     },
     "3f3a61d3ee5c4419a4c687efe767aeb4": {
      "model_module": "@jupyter-widgets/base",
      "model_module_version": "2.0.0",
      "model_name": "LayoutModel",
      "state": {}
     },
     "45cbc689f9a24a4aac6cfeb1364e9b72": {
      "model_module": "@jupyter-widgets/base",
      "model_module_version": "2.0.0",
      "model_name": "LayoutModel",
      "state": {}
     },
     "45e89ca4ac3d4bb38509fd776b3a5d1a": {
      "model_module": "@jupyter-widgets/controls",
      "model_module_version": "2.0.0",
      "model_name": "DropdownModel",
      "state": {
       "_options_labels": [
        "iceCleat.mbd",
        "mBlock.mbd"
       ],
       "description": "MBD File:",
       "index": 0,
       "layout": "IPY_MODEL_ba53604222d5480da76a45de05fa4972",
       "style": "IPY_MODEL_06f6b57eece8417f80d6754dd6295aad"
      }
     },
     "46e314f9ff6a4479bf91b041b7ce00b9": {
      "model_module": "@jupyter-widgets/base",
      "model_module_version": "2.0.0",
      "model_name": "LayoutModel",
      "state": {}
     },
     "4b20ac09d5fb4d6eaf750dd1d31c0131": {
      "model_module": "@jupyter-widgets/output",
      "model_module_version": "1.0.0",
      "model_name": "OutputModel",
      "state": {
       "layout": "IPY_MODEL_077ecc4e75564bd9b6025a596f2915ad",
       "outputs": [
        {
         "data": {
          "image/png": "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",
          "text/plain": "<Figure size 500x500 with 1 Axes>"
         },
         "metadata": {},
         "output_type": "display_data"
        }
       ]
      }
     },
     "51b8d11de8d7418c88105573964f4390": {
      "model_module": "@jupyter-widgets/output",
      "model_module_version": "1.0.0",
      "model_name": "OutputModel",
      "state": {
       "layout": "IPY_MODEL_a1692ffbf2104715995713a666061562",
       "outputs": [
        {
         "name": "stdout",
         "output_type": "stream",
         "text": "Name 'Max' will be provided to the following code cell.\n"
        }
       ]
      }
     },
     "5622d5b0900f4d21aad2fcd53171aaf4": {
      "model_module": "@jupyter-widgets/controls",
      "model_module_version": "2.0.0",
      "model_name": "FloatSliderModel",
      "state": {
       "behavior": "drag-tap",
       "description": "Noise Level",
       "layout": "IPY_MODEL_70c0323c748e4de2be1f85fc663d12f1",
       "max": 10,
       "min": 0.1,
       "step": 0.1,
       "style": "IPY_MODEL_567102b9d4a942dab39d7d034b0f45fd",
       "value": 0.7999999999999999
      }
     },
     "567102b9d4a942dab39d7d034b0f45fd": {
      "model_module": "@jupyter-widgets/controls",
      "model_module_version": "2.0.0",
      "model_name": "SliderStyleModel",
      "state": {
       "description_width": ""
      }
     },
     "56c14023b20b4f80a1024c4ae21c722c": {
      "model_module": "@jupyter-widgets/controls",
      "model_module_version": "2.0.0",
      "model_name": "TextareaModel",
      "state": {
       "description": "Notes:",
       "layout": "IPY_MODEL_a53d2b1927f447cbb85b2b7b23019c2c",
       "placeholder": "Type notes...",
       "style": "IPY_MODEL_158968e7e98748a28dd9ba2c690a7691"
      }
     },
     "585c8bd5bc914bb09edbcfb9a423b92e": {
      "model_module": "@jupyter-widgets/controls",
      "model_module_version": "2.0.0",
      "model_name": "TextModel",
      "state": {
       "description": "Insert Name",
       "layout": "IPY_MODEL_a989644daeae46b482182ea8222ac939",
       "placeholder": "Type your name here",
       "style": "IPY_MODEL_1e0f9b8e8dbc47c7b1a4a4d1f8a813e7",
       "value": "Max"
      }
     },
     "5d104ef34dd74d018bf84295dafa1e3c": {
      "model_module": "@jupyter-widgets/base",
      "model_module_version": "2.0.0",
      "model_name": "LayoutModel",
      "state": {}
     },
     "618e61036ad8485490a99445ea28c0de": {
      "model_module": "@jupyter-widgets/output",
      "model_module_version": "1.0.0",
      "model_name": "OutputModel",
      "state": {
       "layout": "IPY_MODEL_27cac79fbe3046d1bf923ca04ed7e4ef",
       "outputs": [
        {
         "data": {
          "image/png": "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",
          "text/plain": "<Figure size 500x500 with 1 Axes>"
         },
         "metadata": {},
         "output_type": "display_data"
        }
       ]
      }
     },
     "6a020e1473f74c5a846a2e905a61ab4e": {
      "model_module": "@jupyter-widgets/base",
      "model_module_version": "2.0.0",
      "model_name": "LayoutModel",
      "state": {}
     },
     "70c0323c748e4de2be1f85fc663d12f1": {
      "model_module": "@jupyter-widgets/base",
      "model_module_version": "2.0.0",
      "model_name": "LayoutModel",
      "state": {}
     },
     "77c74c5c0b1d4da4ae8177305b7be4fe": {
      "model_module": "@jupyter-widgets/controls",
      "model_module_version": "2.0.0",
      "model_name": "TextModel",
      "state": {
       "description": "Insert Name",
       "layout": "IPY_MODEL_ecc8ffe0824e4d7bb8a0476ee1924ba2",
       "placeholder": "Type your name here",
       "style": "IPY_MODEL_30241be4ac274bee8af9f1f8064ab072",
       "value": "Max"
      }
     },
     "79febea5628642cebd4b5a0b03d7e5e5": {
      "model_module": "@jupyter-widgets/controls",
      "model_module_version": "2.0.0",
      "model_name": "VBoxModel",
      "state": {
       "_dom_classes": [
        "widget-interact"
       ],
       "children": [
        "IPY_MODEL_c8cf6bb909c740bea8de28b9ae22a80e",
        "IPY_MODEL_9b128952e3f946cdbcdd8f9965989ac9",
        "IPY_MODEL_4b20ac09d5fb4d6eaf750dd1d31c0131"
       ],
       "layout": "IPY_MODEL_b72ea0d100154847b9e213500391b65f"
      }
     },
     "7a1078534313416283530f67b7cde648": {
      "model_module": "@jupyter-widgets/controls",
      "model_module_version": "2.0.0",
      "model_name": "TextareaModel",
      "state": {
       "description": "Notes:",
       "layout": "IPY_MODEL_e66f751b411e49a2a6f607bfb6d1f81b",
       "placeholder": "Type notes...",
       "style": "IPY_MODEL_d353af1abc2a42acae93fbbcd4f0fc6a"
      }
     },
     "81c413eda09848f9b7c45d64f2d498b4": {
      "model_module": "@jupyter-widgets/controls",
      "model_module_version": "2.0.0",
      "model_name": "FloatSliderModel",
      "state": {
       "behavior": "drag-tap",
       "description": "Noise Level",
       "layout": "IPY_MODEL_45cbc689f9a24a4aac6cfeb1364e9b72",
       "max": 10,
       "min": 0.1,
       "step": 0.1,
       "style": "IPY_MODEL_00eb0af7269442f29b6481992db1f383",
       "value": 0.7999999999999999
      }
     },
     "86de95e1092c4a578e86fa4eed587532": {
      "model_module": "@jupyter-widgets/base",
      "model_module_version": "2.0.0",
      "model_name": "LayoutModel",
      "state": {}
     },
     "8981a9d3bef8472db01324f1363db39c": {
      "model_module": "@jupyter-widgets/base",
      "model_module_version": "2.0.0",
      "model_name": "LayoutModel",
      "state": {}
     },
     "8b37af5d75e04be3a67a0d6b571c4814": {
      "model_module": "@jupyter-widgets/output",
      "model_module_version": "1.0.0",
      "model_name": "OutputModel",
      "state": {
       "layout": "IPY_MODEL_e765c191b17e4fc082d28cc635d2ab7b"
      }
     },
     "8f7d92f7660a4ee1bf13b15b39a27742": {
      "model_module": "@jupyter-widgets/controls",
      "model_module_version": "2.0.0",
      "model_name": "VBoxModel",
      "state": {
       "_dom_classes": [
        "widget-interact"
       ],
       "children": [
        "IPY_MODEL_c917abbd8c574afcbb9ecd24484b1e13",
        "IPY_MODEL_5622d5b0900f4d21aad2fcd53171aaf4",
        "IPY_MODEL_06af282d75c6440a9403efe743b335b3"
       ],
       "layout": "IPY_MODEL_46e314f9ff6a4479bf91b041b7ce00b9"
      }
     },
     "9b128952e3f946cdbcdd8f9965989ac9": {
      "model_module": "@jupyter-widgets/controls",
      "model_module_version": "2.0.0",
      "model_name": "FloatSliderModel",
      "state": {
       "behavior": "drag-tap",
       "description": "Noise Level",
       "layout": "IPY_MODEL_8981a9d3bef8472db01324f1363db39c",
       "max": 10,
       "min": 0.1,
       "step": 0.1,
       "style": "IPY_MODEL_c6323af4bf2d4d87bf67ab96bfb56aba",
       "value": 3
      }
     },
     "9b4696db77904573930dba6a8005a3cc": {
      "model_module": "@jupyter-widgets/controls",
      "model_module_version": "2.0.0",
      "model_name": "TextModel",
      "state": {
       "description": "Insert Name",
       "layout": "IPY_MODEL_6a020e1473f74c5a846a2e905a61ab4e",
       "placeholder": "Type your name here",
       "style": "IPY_MODEL_c5fe2d58446a4308b221a56749ee6450"
      }
     },
     "9dc6c94e67914599a328a21f95403aae": {
      "model_module": "@jupyter-widgets/base",
      "model_module_version": "2.0.0",
      "model_name": "LayoutModel",
      "state": {}
     },
     "a1692ffbf2104715995713a666061562": {
      "model_module": "@jupyter-widgets/base",
      "model_module_version": "2.0.0",
      "model_name": "LayoutModel",
      "state": {}
     },
     "a27e0361ede148de8d860bbdda81e198": {
      "model_module": "@jupyter-widgets/output",
      "model_module_version": "1.0.0",
      "model_name": "OutputModel",
      "state": {
       "layout": "IPY_MODEL_a4f9f7fb50974dc28784d28709dec41a",
       "outputs": [
        {
         "name": "stdout",
         "output_type": "stream",
         "text": "Name 'Max' will be provided to the following code cell.\n"
        }
       ]
      }
     },
     "a4f9f7fb50974dc28784d28709dec41a": {
      "model_module": "@jupyter-widgets/base",
      "model_module_version": "2.0.0",
      "model_name": "LayoutModel",
      "state": {}
     },
     "a53d2b1927f447cbb85b2b7b23019c2c": {
      "model_module": "@jupyter-widgets/base",
      "model_module_version": "2.0.0",
      "model_name": "LayoutModel",
      "state": {}
     },
     "a989644daeae46b482182ea8222ac939": {
      "model_module": "@jupyter-widgets/base",
      "model_module_version": "2.0.0",
      "model_name": "LayoutModel",
      "state": {}
     },
     "aada176cdbe54b7bbb0331bec4c9b596": {
      "model_module": "@jupyter-widgets/controls",
      "model_module_version": "2.0.0",
      "model_name": "DescriptionStyleModel",
      "state": {
       "description_width": ""
      }
     },
     "b3ac70ba2cd94f4480e6f91e73802d62": {
      "model_module": "@jupyter-widgets/base",
      "model_module_version": "2.0.0",
      "model_name": "LayoutModel",
      "state": {}
     },
     "b72ea0d100154847b9e213500391b65f": {
      "model_module": "@jupyter-widgets/base",
      "model_module_version": "2.0.0",
      "model_name": "LayoutModel",
      "state": {}
     },
     "ba53604222d5480da76a45de05fa4972": {
      "model_module": "@jupyter-widgets/base",
      "model_module_version": "2.0.0",
      "model_name": "LayoutModel",
      "state": {}
     },
     "bddb754c447241328ddbc478fbc47763": {
      "model_module": "@jupyter-widgets/controls",
      "model_module_version": "2.0.0",
      "model_name": "SliderStyleModel",
      "state": {
       "description_width": ""
      }
     },
     "bed6cc6b318242ab9d39a26088998f2e": {
      "model_module": "@jupyter-widgets/output",
      "model_module_version": "1.0.0",
      "model_name": "OutputModel",
      "state": {
       "layout": "IPY_MODEL_ee6bde17b60a41b79af74146b6913a9c"
      }
     },
     "c5fe2d58446a4308b221a56749ee6450": {
      "model_module": "@jupyter-widgets/controls",
      "model_module_version": "2.0.0",
      "model_name": "TextStyleModel",
      "state": {
       "description_width": "",
       "font_size": null,
       "text_color": null
      }
     },
     "c6323af4bf2d4d87bf67ab96bfb56aba": {
      "model_module": "@jupyter-widgets/controls",
      "model_module_version": "2.0.0",
      "model_name": "SliderStyleModel",
      "state": {
       "description_width": ""
      }
     },
     "c7c1a097dec5478c9cdbb2d5fc8f8440": {
      "model_module": "@jupyter-widgets/base",
      "model_module_version": "2.0.0",
      "model_name": "LayoutModel",
      "state": {}
     },
     "c8cf6bb909c740bea8de28b9ae22a80e": {
      "model_module": "@jupyter-widgets/controls",
      "model_module_version": "2.0.0",
      "model_name": "IntSliderModel",
      "state": {
       "behavior": "drag-tap",
       "description": "Degree",
       "layout": "IPY_MODEL_0b4cfd66a7e94304861d741966d22a24",
       "max": 15,
       "min": 1,
       "style": "IPY_MODEL_bddb754c447241328ddbc478fbc47763",
       "value": 15
      }
     },
     "c917abbd8c574afcbb9ecd24484b1e13": {
      "model_module": "@jupyter-widgets/controls",
      "model_module_version": "2.0.0",
      "model_name": "IntSliderModel",
      "state": {
       "behavior": "drag-tap",
       "description": "Degree",
       "layout": "IPY_MODEL_ff03c0f334cd4ea394c1959ef6a64558",
       "max": 15,
       "min": 1,
       "style": "IPY_MODEL_0dd565596d78446481a6409c1c6db9f7",
       "value": 1
      }
     },
     "d10c017faa194937a651bde1794d99f6": {
      "model_module": "@jupyter-widgets/controls",
      "model_module_version": "2.0.0",
      "model_name": "SliderStyleModel",
      "state": {
       "description_width": ""
      }
     },
     "d353af1abc2a42acae93fbbcd4f0fc6a": {
      "model_module": "@jupyter-widgets/controls",
      "model_module_version": "2.0.0",
      "model_name": "TextStyleModel",
      "state": {
       "description_width": "",
       "font_size": null,
       "text_color": null
      }
     },
     "d4058eedeef84009be01d2d7d8a636e0": {
      "model_module": "@jupyter-widgets/controls",
      "model_module_version": "2.0.0",
      "model_name": "TextStyleModel",
      "state": {
       "description_width": "",
       "font_size": null,
       "text_color": null
      }
     },
     "d8658ec307fe4355babd2549774e463a": {
      "model_module": "@jupyter-widgets/controls",
      "model_module_version": "2.0.0",
      "model_name": "TextModel",
      "state": {
       "description": "Insert Name",
       "layout": "IPY_MODEL_b3ac70ba2cd94f4480e6f91e73802d62",
       "placeholder": "Type your name here",
       "style": "IPY_MODEL_1b78d15729a44a898ab23e6cb77ddb88"
      }
     },
     "dfd3cbfd4ea34597a22f649e227e23e3": {
      "model_module": "@jupyter-widgets/controls",
      "model_module_version": "2.0.0",
      "model_name": "TextStyleModel",
      "state": {
       "description_width": "",
       "font_size": null,
       "text_color": null
      }
     },
     "e66f751b411e49a2a6f607bfb6d1f81b": {
      "model_module": "@jupyter-widgets/base",
      "model_module_version": "2.0.0",
      "model_name": "LayoutModel",
      "state": {}
     },
     "e765c191b17e4fc082d28cc635d2ab7b": {
      "model_module": "@jupyter-widgets/base",
      "model_module_version": "2.0.0",
      "model_name": "LayoutModel",
      "state": {}
     },
     "eaaabb05f8604ce9a6f8f2a884041a31": {
      "model_module": "@jupyter-widgets/base",
      "model_module_version": "2.0.0",
      "model_name": "LayoutModel",
      "state": {}
     },
     "ec3740fa2dae4133ad3291e54a0c27cc": {
      "model_module": "@jupyter-widgets/controls",
      "model_module_version": "2.0.0",
      "model_name": "DescriptionStyleModel",
      "state": {
       "description_width": ""
      }
     },
     "ecc8ffe0824e4d7bb8a0476ee1924ba2": {
      "model_module": "@jupyter-widgets/base",
      "model_module_version": "2.0.0",
      "model_name": "LayoutModel",
      "state": {}
     },
     "ee2ecf6bae254316819016c7ff6260ee": {
      "model_module": "@jupyter-widgets/controls",
      "model_module_version": "2.0.0",
      "model_name": "VBoxModel",
      "state": {
       "_dom_classes": [
        "widget-interact"
       ],
       "children": [
        "IPY_MODEL_0e59ad9c659d48409eb842e374e2fdda",
        "IPY_MODEL_81c413eda09848f9b7c45d64f2d498b4",
        "IPY_MODEL_618e61036ad8485490a99445ea28c0de"
       ],
       "layout": "IPY_MODEL_c7c1a097dec5478c9cdbb2d5fc8f8440"
      }
     },
     "ee6bde17b60a41b79af74146b6913a9c": {
      "model_module": "@jupyter-widgets/base",
      "model_module_version": "2.0.0",
      "model_name": "LayoutModel",
      "state": {}
     },
     "ee9816503fcc4b17b9d830d3d685f529": {
      "model_module": "@jupyter-widgets/controls",
      "model_module_version": "2.0.0",
      "model_name": "TextareaModel",
      "state": {
       "description": "Notes:",
       "layout": "IPY_MODEL_eaaabb05f8604ce9a6f8f2a884041a31",
       "placeholder": "Type notes...",
       "style": "IPY_MODEL_d4058eedeef84009be01d2d7d8a636e0"
      }
     },
     "f3f2b9c1ba6244959489df5eb69e9fa8": {
      "model_module": "@jupyter-widgets/controls",
      "model_module_version": "2.0.0",
      "model_name": "DescriptionStyleModel",
      "state": {
       "description_width": ""
      }
     },
     "f8d177136b7c48e0b189420cee20b72f": {
      "model_module": "@jupyter-widgets/controls",
      "model_module_version": "2.0.0",
      "model_name": "DropdownModel",
      "state": {
       "_options_labels": [
        "iceCleat.mbd",
        "mBlock.mbd"
       ],
       "description": "MBD File:",
       "index": 0,
       "layout": "IPY_MODEL_22e729d1922545bd9fe4d9c7b95b53db",
       "style": "IPY_MODEL_ec3740fa2dae4133ad3291e54a0c27cc"
      }
     },
     "ff03c0f334cd4ea394c1959ef6a64558": {
      "model_module": "@jupyter-widgets/base",
      "model_module_version": "2.0.0",
      "model_name": "LayoutModel",
      "state": {}
     }
    },
    "version_major": 2,
    "version_minor": 0
   }
  }
 },
 "nbformat": 4,
 "nbformat_minor": 5
}
