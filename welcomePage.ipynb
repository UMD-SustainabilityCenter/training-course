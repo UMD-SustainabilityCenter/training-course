{
 "cells": [
  {
   "cell_type": "markdown",
   "metadata": {},
   "source": [
    "<center> <img src=\"img/UMD-Wordmark.jpg\" alt=\"Alt text\" width=\"40%\"> </center>\n",
    "\n",
    "### <center>Sustainability Center Training Course</center>"
   ]
  },
  {
   "cell_type": "markdown",
   "metadata": {
    "jp-MarkdownHeadingCollapsed": true
   },
   "source": [
    "## Welcome\n",
    "\n",
    "*Explanation on how to use course. Can be video or text*"
   ]
  },
  {
   "cell_type": "markdown",
   "metadata": {},
   "source": [
    "## Course Objectives\n",
    "At the completion of this course, the student will be able to:\n",
    "- (Module #0 - Intro) Define core concepts of Digital Engineering/Manufacturing \n",
    "- (Module #1 - Data) Perform data filtering and cleaning using pre-configured digital tools (Python scripts)\n",
    "- (Module #2 - Model Based Definition) Interact with a model based definition of an engineering component\n",
    "- (Module #3 - Model Based Enterprise) Incorporate a model based definition of an engineering component into existing business practices\n",
    "- (Module #4 - Modeling and Simulation) Understand the landscape of incumbent and emerging computational tools. (Evaluate data from modeling to make decisions - For discussion) \n",
    "- (Module #5 - Model Based Process Control) Understand the connection from process data collection and process modeling to improved process performance\n",
    "- (Module #6 - Digital Twins) Understand what is and is not a digital twin. Evaluate the utility of a specific digital twin\n",
    "- (Module #7 - Digital Engineering Practice) Identify the elements of digital engineering in engineering practice\n",
    "- (Module #8 - Digital Engineering Challenges) Student will be equipped to go forward and use the knowledge they learned to tackle new challanges"
   ]
  },
  {
   "cell_type": "markdown",
   "metadata": {},
   "source": [
    "## Modules\n",
    "**[Module #0 - Intro to Digital Engineering](introToDE.ipynb)**\n",
    "\n",
    "**[Module #1 - Data](Modules/Module1.ipynb)**\n",
    "  * [Polymer 3D Printer](Modules/3.%20Advanced%20Topics/3.1.%20Aerotech%20Data%20Collection%20Platform/Aerotech%20Data%20Collection.ipynb)\n",
    "\n",
    "**[Module #2 - Model Based Definition](Modules/Module2.ipynb)**\n",
    "  * []()\n",
    "\n",
    "**[Module #3 - Model Based Enterprise/Engineering (MBE)](Modules/Module3.ipynb)**\n",
    "  * [3D Printing Cost Estimate](Modules/2.%20Learning%20Modules/2.3.%20Cost%20Estimation%20Analysis/Cost%20Estimation%20using%20GCode.ipynb)\n",
    "\n",
    "**[Module #4 - Modeling and Simulation](Modules/Module4.ipynb)**\n",
    "  * [Accelerated Finite Element with GNN](Modules/3.%20Advanced%20Topics/3.2.%20Material%20Properties%20Finite%20Element%20Analysis/Material%20Properties%20FEA.ipynb)\n",
    "\n",
    "**[Module #5 - Model Based Process Control](Modules/Module5.ipynb)**\n",
    "  * [Model Predictive Control](Modules/2.%20Learning%20Modules/2.6.%20Model%20Predictive%20Control/Model%20Predictive%20Control.ipynb)\n",
    "\n",
    "**[Module #6 - Digital Twins](Modules/Module6.ipynb)**\n",
    "  * [Digital Twin for Smart Scanning](Modules/2.%20Learning%20Modules/2.8.%20Digital%20Twin%20for%20Smart%20Scanning/Digital%20Twin%20for%20Smart%20Scanning.ipynb)\n",
    "\n",
    "**[Module #7 - Digital Engineering Practice](Modules/Module7.ipynb)**\n",
    "  * [Sensor Fusion Processing](Modules/3.%20Advanced%20Topics/3.3.%20Sensor%20Fusion%20Processing/Sensor%20Fusion%20Processing.ipynb)\n",
    "  * [Predictive Maintenance Module](Modules/2.%20Learning%20Modules/2.2.%20Predictive%20Maintenance%20Module/Predictive%20Maintenance%20Module.ipynb)\n",
    "\n",
    "**[Module #8 - Digital Engineering Challenges](Modules/Module8.ipynb)**\n",
    "\n",
    "**[Module Index](Modules/moduleIndex.ipynb)**"
   ]
  }
 ],
 "metadata": {
  "kernelspec": {
   "display_name": "Python 3 (ipykernel)",
   "language": "python",
   "name": "python3"
  },
  "language_info": {
   "codemirror_mode": {
    "name": "ipython",
    "version": 3
   },
   "file_extension": ".py",
   "mimetype": "text/x-python",
   "name": "python",
   "nbconvert_exporter": "python",
   "pygments_lexer": "ipython3",
   "version": "3.12.5"
  }
 },
 "nbformat": 4,
 "nbformat_minor": 4
}
