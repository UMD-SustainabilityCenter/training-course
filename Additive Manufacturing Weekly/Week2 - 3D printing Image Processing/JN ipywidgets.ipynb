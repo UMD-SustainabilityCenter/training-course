{
 "cells": [
  {
   "cell_type": "markdown",
   "id": "8b161a31",
   "metadata": {},
   "source": [
    "## Upload Images from File Explorer"
   ]
  },
  {
   "cell_type": "code",
   "execution_count": 5,
   "id": "86d4cea3-c3f0-471c-8cf8-5ebdac58c0bf",
   "metadata": {
    "tags": []
   },
   "outputs": [
    {
     "data": {
      "application/vnd.jupyter.widget-view+json": {
       "model_id": "b179f4b451254957b38c99aec5e187fe",
       "version_major": 2,
       "version_minor": 0
      },
      "text/plain": [
       "FileUpload(value=(), accept='image/*', description='Upload', multiple=True)"
      ]
     },
     "metadata": {},
     "output_type": "display_data"
    },
    {
     "data": {
      "application/vnd.jupyter.widget-view+json": {
       "model_id": "389e805e9eaa4aa99e9e9c5376189a90",
       "version_major": 2,
       "version_minor": 0
      },
      "text/plain": [
       "IntSlider(value=0, continuous_update=False, description='Image Index:', layout=Layout(visibility='hidden'), ma…"
      ]
     },
     "metadata": {},
     "output_type": "display_data"
    },
    {
     "data": {
      "application/vnd.jupyter.widget-view+json": {
       "model_id": "1ef01d28062f488fa202c0143463db87",
       "version_major": 2,
       "version_minor": 0
      },
      "text/plain": [
       "Output()"
      ]
     },
     "metadata": {},
     "output_type": "display_data"
    }
   ],
   "source": [
    "import ipywidgets as widgets\n",
    "from IPython.display import display, clear_output\n",
    "from PIL import Image\n",
    "import io\n",
    "\n",
    "# Create widgets\n",
    "uploader = widgets.FileUpload(\n",
    "    accept='image/*',  # Accepts all image types\n",
    "    multiple=True  # Allows multiple file selection\n",
    ")\n",
    "\n",
    "image_slider = widgets.IntSlider(\n",
    "    min=0,  # Minimum value for the slider\n",
    "    max=0,  # Initial maximum value, will be adjusted\n",
    "    step=1,  # Step count\n",
    "    description='Image Index:',\n",
    "    continuous_update=False\n",
    ")\n",
    "image_slider.layout.visibility = 'hidden'  # Initially hide the slider\n",
    "\n",
    "output = widgets.Output()\n",
    "\n",
    "# A list to store images\n",
    "stored_images = []\n",
    "\n",
    "# Function to update slider max and reset its position\n",
    "def update_slider():\n",
    "    image_slider.max = len(uploader.value) - 1\n",
    "    if uploader.value:\n",
    "        image_slider.value = 0\n",
    "        image_slider.layout.visibility = 'visible'\n",
    "    else:\n",
    "        image_slider.layout.visibility = 'hidden'\n",
    "\n",
    "# Function to handle file upload changes\n",
    "def on_files_uploaded(change):\n",
    "    # Clear existing images from the list\n",
    "    stored_images.clear()\n",
    "    # Load new images into the list\n",
    "    for image_data in uploader.value:\n",
    "        image = Image.open(io.BytesIO(image_data['content']))\n",
    "        stored_images.append(image)\n",
    "    update_slider()\n",
    "    display_images()\n",
    "\n",
    "# Function to display the selected image\n",
    "def display_images(change=None):\n",
    "    if stored_images:\n",
    "        image = stored_images[image_slider.value]\n",
    "        with output:\n",
    "            clear_output(wait=True)\n",
    "            display(image)\n",
    "\n",
    "# Observers\n",
    "uploader.observe(on_files_uploaded, names='value')\n",
    "image_slider.observe(display_images, names='value')\n",
    "\n",
    "# Layout\n",
    "display(uploader, image_slider, output)\n"
   ]
  },
  {
   "cell_type": "markdown",
   "id": "78a6e070",
   "metadata": {},
   "source": [
    "## Resize and Crop images"
   ]
  },
  {
   "cell_type": "code",
   "execution_count": 6,
   "id": "bfa87201-d38b-472d-834f-92e5bde03a74",
   "metadata": {
    "tags": []
   },
   "outputs": [
    {
     "data": {
      "application/vnd.jupyter.widget-view+json": {
       "model_id": "e8ba959c3eb84ee6adaa2643e7f24060",
       "version_major": 2,
       "version_minor": 0
      },
      "text/plain": [
       "VBox(children=(IntSlider(value=0, continuous_update=False, description='Image Index:', max=9), HBox(children=(…"
      ]
     },
     "metadata": {},
     "output_type": "display_data"
    }
   ],
   "source": [
    "import ipywidgets as widgets\n",
    "from IPython.display import display, clear_output\n",
    "from PIL import Image\n",
    "\n",
    "# Assuming 'stored_images' is already defined and filled with PIL.Image objects\n",
    "\n",
    "image_slider = widgets.IntSlider(\n",
    "    min=0,\n",
    "    max=len(stored_images) - 1 if stored_images else 0,\n",
    "    step=1,\n",
    "    description='Image Index:',\n",
    "    continuous_update=False\n",
    ")\n",
    "\n",
    "resize_width = widgets.IntText(\n",
    "    value=100 if stored_images else 0,\n",
    "    description='Width:',\n",
    "    disabled=False\n",
    ")\n",
    "\n",
    "resize_height = widgets.IntText(\n",
    "    value=100 if stored_images else 0,\n",
    "    description='Height:',\n",
    "    disabled=False\n",
    ")\n",
    "\n",
    "crop_left = widgets.IntSlider(\n",
    "    value=0,\n",
    "    min=0,\n",
    "    max=100,\n",
    "    description='Crop Left:',\n",
    "    continuous_update=False\n",
    ")\n",
    "\n",
    "crop_right = widgets.IntSlider(\n",
    "    value=0,\n",
    "    min=0,\n",
    "    max=100,\n",
    "    description='Crop Right:',\n",
    "    continuous_update=False\n",
    ")\n",
    "\n",
    "crop_top = widgets.IntSlider(\n",
    "    value=0,\n",
    "    min=0,\n",
    "    max=100,\n",
    "    description='Crop Top:',\n",
    "    continuous_update=False\n",
    ")\n",
    "\n",
    "crop_bottom = widgets.IntSlider(\n",
    "    value=0,\n",
    "    min=0,\n",
    "    max=100,\n",
    "    description='Crop Bottom:',\n",
    "    continuous_update=False\n",
    ")\n",
    "\n",
    "apply_all_button = widgets.Button(\n",
    "    description='Apply to All',\n",
    "    disabled=False,\n",
    "    button_style='',\n",
    "    tooltip='Apply current settings to all images'\n",
    ")\n",
    "\n",
    "output = widgets.Output()\n",
    "\n",
    "modified_images = []  # To store modified images\n",
    "\n",
    "def display_images(change=None):\n",
    "    with output:\n",
    "        clear_output(wait=True)\n",
    "        if stored_images:\n",
    "            image = stored_images[image_slider.value]\n",
    "            # Resize\n",
    "            if resize_width.value > 0 and resize_height.value > 0:\n",
    "                image = image.resize((resize_width.value, resize_height.value))\n",
    "            # Crop\n",
    "            left, top, right, bottom = crop_left.value, crop_top.value, crop_right.value, crop_bottom.value\n",
    "            image = image.crop((left, top, image.width - right, image.height - bottom))\n",
    "            display(image)\n",
    "\n",
    "def apply_to_all(b):\n",
    "    modified_images.clear()\n",
    "    for img in stored_images:\n",
    "        # Resize\n",
    "        if resize_width.value > 0 and resize_height.value > 0:\n",
    "            resized_img = img.resize((resize_width.value, resize_height.value))\n",
    "        else:\n",
    "            resized_img = img\n",
    "        # Crop\n",
    "        left, top, right, bottom = crop_left.value, crop_top.value, crop_right.value, crop_bottom.value\n",
    "        cropped_img = resized_img.crop((left, top, resized_img.width - right, resized_img.height - bottom))\n",
    "        modified_images.append(cropped_img)\n",
    "    with output:\n",
    "        clear_output(wait=True)\n",
    "        print(f\"Applied settings to all {len(modified_images)} images.\")\n",
    "\n",
    "# Observers\n",
    "image_slider.observe(display_images, names='value')\n",
    "resize_width.observe(display_images, names='value')\n",
    "resize_height.observe(display_images, names='value')\n",
    "crop_left.observe(display_images, names='value')\n",
    "crop_right.observe(display_images, names='value')\n",
    "crop_top.observe(display_images, names='value')\n",
    "crop_bottom.observe(display_images, names='value')\n",
    "apply_all_button.on_click(apply_to_all)\n",
    "\n",
    "# Layout\n",
    "ui = widgets.VBox([\n",
    "    image_slider,\n",
    "    widgets.HBox([resize_width, resize_height]),\n",
    "    widgets.HBox([crop_left, crop_right, crop_top, crop_bottom]),\n",
    "    apply_all_button,\n",
    "    output\n",
    "])\n",
    "\n",
    "display(ui)\n"
   ]
  },
  {
   "cell_type": "markdown",
   "id": "2e893a24",
   "metadata": {},
   "source": [
    "## Filter out Color"
   ]
  },
  {
   "cell_type": "code",
   "execution_count": 9,
   "id": "69e0dfdb-9444-4c83-82e6-0b15d9522bb0",
   "metadata": {},
   "outputs": [
    {
     "data": {
      "application/vnd.jupyter.widget-view+json": {
       "model_id": "dd732195786e4406a7736354652c5859",
       "version_major": 2,
       "version_minor": 0
      },
      "text/plain": [
       "VBox(children=(ColorPicker(value='red', description='Target Color:'), IntSlider(value=255, continuous_update=F…"
      ]
     },
     "metadata": {},
     "output_type": "display_data"
    }
   ],
   "source": [
    "import ipywidgets as widgets\n",
    "from IPython.display import display, clear_output\n",
    "from PIL import Image, ImageColor\n",
    "import numpy as np\n",
    "\n",
    "# Assuming 'modified_images' contains the images with previously applied changes\n",
    "\n",
    "# Widget to pick the target color\n",
    "color_picker = widgets.ColorPicker(\n",
    "    value='red',\n",
    "    description='Target Color:',\n",
    "    disabled=False\n",
    ")\n",
    "\n",
    "# Slider to set the color distance threshold\n",
    "threshold_slider = widgets.IntSlider(\n",
    "    value=255,\n",
    "    min=0,\n",
    "    max=255,\n",
    "    step=1,\n",
    "    description='Threshold:',\n",
    "    continuous_update=False\n",
    ")\n",
    "\n",
    "# Slider to browse images\n",
    "image_slider = widgets.IntSlider(\n",
    "    min=0,\n",
    "    max=len(modified_images) - 1 if modified_images else 0,\n",
    "    step=1,\n",
    "    description='Image Index:',\n",
    "    continuous_update=False\n",
    ")\n",
    "\n",
    "# Output widget for displaying images\n",
    "output = widgets.Output()\n",
    "\n",
    "# Button to apply color filter to all images\n",
    "apply_all_button = widgets.Button(\n",
    "    description='Apply to All',\n",
    "    disabled=False,\n",
    "    button_style='',\n",
    "    tooltip='Apply color filter settings to all images'\n",
    ")\n",
    "\n",
    "filtered_images = []  # To store images after applying the color range filter\n",
    "\n",
    "def display_filtered_image(change=None):\n",
    "    with output:\n",
    "        clear_output(wait=True)\n",
    "        if modified_images:\n",
    "            img = modified_images[image_slider.value]\n",
    "            img = img.resize((500, 500))\n",
    "            filtered_img = apply_color_filter(img, color_picker.value, threshold_slider.value)\n",
    "            display(filtered_img)\n",
    "\n",
    "def apply_color_filter(img, target_color, threshold):\n",
    "    target_rgb = ImageColor.getrgb(target_color)\n",
    "    img = img.convert('RGB')\n",
    "    \n",
    "    def color_distance(rgb1, rgb2):\n",
    "        # Calculate Euclidean distance between two RGB values\n",
    "        return np.sqrt(sum((rgb1[i] - rgb2[i]) ** 2 for i in range(3)))\n",
    "\n",
    "    pixels = img.load()\n",
    "    for i in range(img.width):\n",
    "        for j in range(img.height):\n",
    "            if color_distance(pixels[i, j], target_rgb) > threshold:\n",
    "                pixels[i, j] = (0, 0, 0)\n",
    "    return img\n",
    "\n",
    "def apply_to_all_images(b):\n",
    "    filtered_images.clear()\n",
    "    for img in modified_images:\n",
    "        filtered_img = apply_color_filter(img, color_picker.value, threshold_slider.value)\n",
    "        filtered_images.append(filtered_img)\n",
    "    print(f\"Applied color filter to all {len(filtered_images)} images.\")\n",
    "\n",
    "# Observers and event handlers\n",
    "image_slider.observe(display_filtered_image, names='value')\n",
    "color_picker.observe(display_filtered_image, names='value')\n",
    "threshold_slider.observe(display_filtered_image, names='value')\n",
    "apply_all_button.on_click(apply_to_all_images)\n",
    "\n",
    "# Layout configuration\n",
    "ui = widgets.VBox([\n",
    "    color_picker,\n",
    "    threshold_slider,\n",
    "    image_slider,\n",
    "    apply_all_button,\n",
    "    output\n",
    "])\n",
    "\n",
    "display(ui)\n"
   ]
  },
  {
   "cell_type": "markdown",
   "id": "88cf7957",
   "metadata": {},
   "source": [
    "## Detect Edges"
   ]
  },
  {
   "cell_type": "code",
   "execution_count": 10,
   "id": "e6faafb2-fb85-4b3a-a2c5-466f8220c4b7",
   "metadata": {},
   "outputs": [
    {
     "data": {
      "application/vnd.jupyter.widget-view+json": {
       "model_id": "dfe9c85322e44b6aa9ebef810df33334",
       "version_major": 2,
       "version_minor": 0
      },
      "text/plain": [
       "VBox(children=(IntSlider(value=0, continuous_update=False, description='Image Index:', max=9), FloatSlider(val…"
      ]
     },
     "metadata": {},
     "output_type": "display_data"
    }
   ],
   "source": [
    "import cv2  # OpenCV for edge detection\n",
    "\n",
    "# Slider to browse images\n",
    "image_slider = widgets.IntSlider(\n",
    "    min=0,\n",
    "    max=len(filtered_images) - 1 if filtered_images else 0,\n",
    "    step=1,\n",
    "    description='Image Index:',\n",
    "    continuous_update=False\n",
    ")\n",
    "\n",
    "# Slider for edge detection threshold\n",
    "edge_threshold_slider = widgets.FloatSlider(\n",
    "    value=255,\n",
    "    min=0,\n",
    "    max=255,\n",
    "    step=1,\n",
    "    description='Edge Threshold:',\n",
    "    continuous_update=False\n",
    ")\n",
    "\n",
    "# Output widget for displaying edge-detected images\n",
    "edge_output = widgets.Output()\n",
    "\n",
    "def detect_edges(image, threshold):\n",
    "    # Convert the image to grayscale\n",
    "    gray = cv2.cvtColor(np.array(image), cv2.COLOR_RGB2GRAY)\n",
    "    # Apply Canny edge detection\n",
    "    edges = cv2.Canny(gray, threshold, threshold * 2)\n",
    "    # Convert edges back to RGB\n",
    "    edges_rgb = cv2.cvtColor(edges, cv2.COLOR_GRAY2RGB)\n",
    "    return Image.fromarray(edges_rgb)\n",
    "\n",
    "def display_edge_image(change=None):\n",
    "    with edge_output:\n",
    "        clear_output(wait=True)\n",
    "        if filtered_images:\n",
    "            edge_img = detect_edges(filtered_images[image_slider.value], edge_threshold_slider.value)\n",
    "            display(edge_img)\n",
    "\n",
    "# Observer for the image slider\n",
    "image_slider.observe(display_edge_image, names='value')\n",
    "\n",
    "# Observer for the edge threshold slider\n",
    "edge_threshold_slider.observe(display_edge_image, names='value')\n",
    "\n",
    "# Apply edge detection to all images\n",
    "apply_all_edges_button = widgets.Button(\n",
    "    description='Apply to All',\n",
    "    disabled=False,\n",
    "    button_style='',\n",
    "    tooltip='Apply edge detection to all images'\n",
    ")\n",
    "\n",
    "edge_detected_images = []  # New variable to store edge-detected images\n",
    "\n",
    "def apply_edge_to_all_images(b):\n",
    "    global edge_detected_images\n",
    "    edge_detected_images.clear()  # Clear the existing list\n",
    "    for img in filtered_images:\n",
    "        edge_img = detect_edges(img, edge_threshold_slider.value)\n",
    "        edge_detected_images.append(edge_img)\n",
    "    print(\"Edge detection applied to all images.\")\n",
    "\n",
    "# Hook up the event handler for the apply all button\n",
    "apply_all_edges_button.on_click(apply_edge_to_all_images)\n",
    "\n",
    "# Layout configuration for edge detection\n",
    "edge_ui = widgets.VBox([\n",
    "    image_slider,\n",
    "    edge_threshold_slider,\n",
    "    apply_all_edges_button,\n",
    "    edge_output\n",
    "])\n",
    "\n",
    "display(edge_ui)\n"
   ]
  },
  {
   "cell_type": "code",
   "execution_count": null,
   "id": "a92e2589-a01e-4588-b147-c3c0af818ec7",
   "metadata": {},
   "outputs": [],
   "source": []
  }
 ],
 "metadata": {
  "kernelspec": {
   "display_name": "d2_gpu",
   "language": "python",
   "name": "d2_gpu"
  },
  "language_info": {
   "codemirror_mode": {
    "name": "ipython",
    "version": 3
   },
   "file_extension": ".py",
   "mimetype": "text/x-python",
   "name": "python",
   "nbconvert_exporter": "python",
   "pygments_lexer": "ipython3",
   "version": "3.8.18"
  }
 },
 "nbformat": 4,
 "nbformat_minor": 5
}
