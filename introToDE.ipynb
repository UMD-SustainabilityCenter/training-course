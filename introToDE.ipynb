{
 "cells": [
  {
   "cell_type": "markdown",
   "id": "56a8d1bc-906b-4281-b732-fdc7d05bfd7e",
   "metadata": {},
   "source": [
    "## Table of Contents\n",
    "* [Introduction](#Introduction)\n",
    "* [Fundamentals of Digital Engineering](#Fundamentals-of-Digital-Engineering:)\n",
    "* [Quick Tutorial](#Quick-Tutorial)\n",
    "* [Course Evaluation](#Course-Evaluation:)\n",
    "    * [Take Survey](https://docs.google.com/forms/d/12JdyYaQsKCPM0ajWwjAPOslKkWAnj6AnaDoXSaGmODM)\n",
    "#### [🏠 Home](welcomePage.ipynb)"
   ]
  },
  {
   "cell_type": "markdown",
   "id": "7e137eaa-995a-466c-93a4-a6064465e7bb",
   "metadata": {},
   "source": [
    "# Introduction\n",
    "Digital engineering (DE) is a technology that can\n",
    "- increase the visibility of what is most urgent and important,\n",
    "- identify how changes that are introduced affect a whole system, as well as parts of it, and\n",
    "- enable stakeholders of a system to retrieve timely information about the status of a product moving through the development lifecycle at any point in time.\n",
    "\n",
    "**Digital Perspective:** DE was initially conceived as the methodology and implementation for designing and establishing digital products or systems.  \n",
    "\n",
    "<center>\n",
    "    <img src=\"img/19 2.jpg\" alt=\"Alt text\" width=\"500\">\n",
    "</center>\n",
    "\n",
    "\n",
    "**System engineering (SE) perspective:** How modern digital approaches facilitate the development of, from text-based systems engineering (document-centric) to model-based systems engineering (model-centric).\n",
    "\n",
    "<center>\n",
    "    <img src=\"img/20.jpg\" alt=\"Alt text\" width=\"600\">\n",
    "</center>\n",
    "\n",
    "**Continues to evolve:** The varying colors of these keywords indicate shifts in thematic focus over time. Earlier approaches primarily concentrated on the use of digital technologies to address issues during the design phase, and keywords such as “CAD”, “CAE”, “FEM”, “design” were more frequently used in this phase. With the development of information technology, the dominant trends have naturally shifted towards more advanced digital technologies and systematic approaches. Recently, keywords like “digital twin”, “artificial intelligence”, “systems engineering”, and “model-based systems engineering” have become prevalent topics of discussion.\n",
    "\n",
    "<center>\n",
    "    <img src=\"img/21.jpg\" alt=\"Alt text\" width=\"900\">\n",
    "</center>\n",
    "\n",
    "**Expected Benefits:** DE holds great expectations and benefits: (1) costs minimization; (2) global optimizations facilitation; and (3) prompt rapid responses to requirements.\n",
    "\n",
    "<center>\n",
    "    <img src=\"img/22.jpg\" alt=\"Alt text\" width=\"400\">\n",
    "</center>\n",
    "\n"
   ]
  },
  {
   "cell_type": "markdown",
   "id": "c58e1189-8437-4fb6-b2e5-ad8d015a6bad",
   "metadata": {},
   "source": [
    "## Fundamentals of Digital Engineering:\n",
    "Digital engineering is an integrated digital approach that uses authoritative sources of systems data and models as a continuum across disciplines to support lifecycle activities from concept through disposal. At its core, digital engineering evolves creating comprehensive digital (computer) models that represent every characteristic of a complex product or system that is to be developed. Originally designed for hardware-intensive lifecycle management, digital engineering also proves highly effective for software applications. Complex systems often depend on multiple subsystems operating simultaneously and in concert, known as a system of systems (SoS). This concept applies to both software and hardware-intensive systems. While integration challenges exist for both, the process for managing and scheduling hardware and software integration can differ significantly. Digital engineering addresses these challenges by providing a cohesive framework that ensures efficient and coordinated lifecycle management across all system components.\n",
    "\n",
    "<center>\n",
    "    <img src=\"img/01 2.jpg\" alt=\"Alt text\" width=\"900\">\n",
    "</center>\n",
    "\n",
    "Digital engineering is sometimes referred to as “digital thread”, which encompasses a broader scope. Although the novelty of both terms has led to some debate, they are fundamentally extensions of product lifecycle management. This practice involves creating and storing a system's lifecycle artifacts in digital form, which can be updated as the system evolves. Both digital thread and digital engineering involve a single source of truth, referred to as the authoritative source of truth (ASoT). This ASoT contains all lifecycle artifacts in a centralized repository, ensuring that stakeholders work from the same models rather than multiple copies. The emerging processes of digital thread and digital engineering aim to address the difficulties of managing complex and evolving technologies over their lifecycles.\n",
    "\n",
    "Digital engineering has an ambitious scope: managing the entire lifecycle of a system of systems, including both hardware systems and software components. Its emphasis on simulation and modeling offers significant benefits in hardware engineering alongside software engineering. By promoting the use of virtual models in tandem with, or prior to, constructing physical systems, digital engineering aims to improve efficiency, efficacy, and success. An offshoot of Model-Based Systems Engineering (MBSE), digital engineering seeks to accelerate the development of complex products, systems, and sub-systems. It achieves this by integrating various engineering disciplines and addressing each unique engineering challenge comprehensively. \n",
    "\n",
    "One application example of digital engineering is the digital twin, which is a software simulation that mirrors the operation of a physical system. These digital twins can also simulate software, reflecting the interdependence of physical and software components. Digital twins can be used to reduce the time, money, and power required to test and iterate on the design of novel technologies. In its current state, digital engineering is new and relatively unrecognized as an industry term.  The introduction of new standards and practices from digital engineering may come full-circle and influence the way that software is currently built, placing a larger emphasis on the modeling and simulation of software systems.\n",
    "\n",
    "The objective of this training course is to familiarize the audience with the concepts and tools necessary for digital engineering, as well as the current challenges in the field. In contrast to traditional text/image-based course material, this course utilizes Jupyter notebooks to demonstrate the concepts and tools interactively. The format allows participants to practice these concepts at their own pace on an open-source platform. The course modules are designed to cater to a diverse audience (novices, learners and practitioners) accommodating various levels of experience and interest."
   ]
  },
  {
   "cell_type": "markdown",
   "id": "695381ea-a931-4e47-9deb-45a65e2559ac",
   "metadata": {},
   "source": [
    "**Quick tour:** JupyterLab and Tools"
   ]
  },
  {
   "cell_type": "markdown",
   "id": "65041b34-4412-42d2-a773-75fdd93e519f",
   "metadata": {},
   "source": [
    "<center>\n",
    "    <img src=\"img/11.jpg\" alt=\"Alt text\" width=\"700\">\n",
    "</center>\n"
   ]
  },
  {
   "cell_type": "markdown",
   "id": "273d567d-9487-4cc9-847f-1dbec8d78c76",
   "metadata": {},
   "source": [
    "### <font color = 'red'>Quick Tutorial"
   ]
  },
  {
   "cell_type": "markdown",
   "id": "188c9d87-7fcd-4bed-bc07-c95ab64b2ab4",
   "metadata": {},
   "source": [
    "<center>\n",
    "    <img src=\"img/26.jpg\" alt=\"Alt text\" width=\"500\">\n",
    "</center>"
   ]
  },
  {
   "cell_type": "markdown",
   "id": "5453e565-6869-4418-b1e4-93d5fc014acf",
   "metadata": {},
   "source": [
    "#### This example demonstrates how to run interactive modules on our JupyterHub platform. Press ▶️ to begin the interactive session and insert your name."
   ]
  },
  {
   "cell_type": "code",
   "execution_count": null,
   "id": "279901cd-4f17-4b4a-bb58-57a18a53152d",
   "metadata": {
    "has_explanation": false,
    "jupyter": {
     "source_hidden": true
    }
   },
   "outputs": [],
   "source": [
    "import numpy as np\n",
    "import matplotlib.pyplot as plt\n",
    "from sklearn.preprocessing import PolynomialFeatures\n",
    "from sklearn.linear_model import LinearRegression\n",
    "from ipywidgets import interact, FloatSlider, IntSlider\n",
    "import ipywidgets as widgets\n",
    "from IPython.display import display, FileLink\n",
    "import os\n",
    "from ipywidgets import fixed\n",
    "\n",
    "print('Code Running...')\n",
    "user_name = 'Unknown'\n",
    "\n",
    "# Create a text input widget\n",
    "name_input = widgets.Text(\n",
    "    value='',\n",
    "    placeholder='Type your name here',\n",
    "    description='Insert Name',\n",
    "    disabled=False\n",
    ")\n",
    "\n",
    "# Create an output widget\n",
    "output = widgets.Output()\n",
    "\n",
    "# Function to update the global variable and clear output\n",
    "def update_name(change):\n",
    "    global user_name\n",
    "    user_name = change['new']\n",
    "    with output:\n",
    "        output.clear_output()  # Clear the previous output\n",
    "        print(f\"Name '{user_name}' will be provided to the following code cell.\")\n",
    "\n",
    "# Linking the text widget to the update function\n",
    "name_input.observe(update_name, names='value')\n",
    "\n",
    "# Display the text input widget and output widget\n",
    "display(name_input, output)"
   ]
  },
  {
   "cell_type": "markdown",
   "id": "f9f9ae33-ebf3-46b5-a33e-e943b00051e5",
   "metadata": {},
   "source": [
    "#### This code cell below serves to showcase interactive tools for learning modules, rather than teaching specific concepts.\n",
    "#### Press ▶️ to start interactive plot."
   ]
  },
  {
   "cell_type": "code",
   "execution_count": null,
   "id": "a0628597-c72d-4bb0-a798-7ba6aad0ed1c",
   "metadata": {
    "has_explanation": false,
    "jupyter": {
     "source_hidden": true
    }
   },
   "outputs": [],
   "source": [
    "import numpy as np\n",
    "import matplotlib.pyplot as plt\n",
    "from sklearn.preprocessing import PolynomialFeatures\n",
    "from sklearn.linear_model import LinearRegression\n",
    "from ipywidgets import interact, IntSlider, FloatSlider\n",
    "print('You can adjust the Line Degree of Complexity, and the Noise Level in Data Generated\\n\\nDrag Slider and Interact !')\n",
    "# Initialize x data\n",
    "x = np.linspace(-3, 3, 50)\n",
    "np.random.seed(0)  # Set a fixed seed for reproducibility\n",
    "\n",
    "# Function to generate data\n",
    "def generate_data(noise, x=x):\n",
    "    return x**2 + np.random.randn(50) * noise\n",
    "\n",
    "# Cache the initial data\n",
    "initial_noise = 0.8  # Initial noise level\n",
    "y = generate_data(initial_noise)  # Initial data generation\n",
    "\n",
    "# Function to plot polynomial regression\n",
    "def plot_poly_regression(degree, y):\n",
    "    # Reshape x for sklearn compatibility\n",
    "    X = x[:, np.newaxis]\n",
    "    \n",
    "    # Create polynomial features\n",
    "    poly = PolynomialFeatures(degree=degree)\n",
    "    X_poly = poly.fit_transform(X)\n",
    "    \n",
    "    # Fit a linear model\n",
    "    model = LinearRegression()\n",
    "    model.fit(X_poly, y)\n",
    "    \n",
    "    # Predict and plot\n",
    "    y_pred = model.predict(X_poly)\n",
    "    plt.figure(figsize=(5, 5))\n",
    "    \n",
    "    \n",
    "    # Adding the user's name as a transparent text in the background\n",
    "    plt.text(0.5, 0.92, user_name + '\\'s Plot', fontsize=22, color='#2F65A7', ha='center', va='center',\n",
    "             alpha=1, transform=plt.gca().transAxes)  # Using axis transform for relative positioning\n",
    "    plt.scatter(x, y, color='#006EB2', label='Data points')\n",
    "    plt.plot(x, y_pred, color='#9A3324', label=f'Polynomial Degree {degree}', linewidth=2)\n",
    "    plt.ylim([-40 - 10, 40 + 10])\n",
    "    # plt.title(f\"Polynomial Degree {degree} Fit with Noise Level {initial_noise}\")\n",
    "    # plt.legend()\n",
    "    plt.grid(True)\n",
    "    plt.show()\n",
    "\n",
    "# Widgets for degree and noise adjustment\n",
    "degree_slider = IntSlider(value=1, min=1, max=15, step=1, description=\"Degree\")\n",
    "noise_slider = FloatSlider(value=initial_noise, min=0.1, max=10, step=0.1, description=\"Noise Level\")\n",
    "\n",
    "# Track the previous noise level to decide whether to regenerate data\n",
    "previous_noise = initial_noise\n",
    "\n",
    "def interactive_update(degree, noise):\n",
    "    global y, previous_noise\n",
    "    if noise != previous_noise:\n",
    "        y = generate_data(noise)  # Regenerate data if noise level has changed\n",
    "        previous_noise = noise\n",
    "    plot_poly_regression(degree, y)\n",
    "\n",
    "# Interactive widget setup\n",
    "interact(interactive_update,\n",
    "         degree=degree_slider,\n",
    "         noise=noise_slider);\n"
   ]
  },
  {
   "cell_type": "markdown",
   "id": "54381e58-c4ef-4038-acbb-41a5c03abb12",
   "metadata": {},
   "source": [
    "### Course Evaluation:\n",
    "[Take Survey](https://docs.google.com/forms/d/12JdyYaQsKCPM0ajWwjAPOslKkWAnj6AnaDoXSaGmODM)"
   ]
  },
  {
   "cell_type": "markdown",
   "id": "92b4e18b-a623-44a3-846a-b3f9f603bd4b",
   "metadata": {},
   "source": [
    "### <center>ㅤㅤㅤㅤㅤㅤㅤ[🏠 Home](welcomePage.ipynb)ㅤㅤㅤㅤㅤㅤㅤㅤ[Module 1 ▶︎](Modules/Module1.ipynb)</center>\n"
   ]
  }
 ],
 "metadata": {
  "kernelspec": {
   "display_name": "Python 3 (ipykernel)",
   "language": "python",
   "name": "python3"
  },
  "language_info": {
   "codemirror_mode": {
    "name": "ipython",
    "version": 3
   },
   "file_extension": ".py",
   "mimetype": "text/x-python",
   "name": "python",
   "nbconvert_exporter": "python",
   "pygments_lexer": "ipython3",
   "version": "3.12.5"
  }
 },
 "nbformat": 4,
 "nbformat_minor": 5
}
