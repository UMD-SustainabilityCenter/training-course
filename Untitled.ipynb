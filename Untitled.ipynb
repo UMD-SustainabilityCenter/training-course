{
 "cells": [
  {
   "cell_type": "code",
   "execution_count": 3,
   "id": "757e0070-d4ff-49a1-93ce-adba6e80d337",
   "metadata": {},
   "outputs": [
    {
     "data": {
      "application/vnd.jupyter.widget-view+json": {
       "model_id": "dd193d8c4f934e30accd69523d9d21ad",
       "version_major": 2,
       "version_minor": 0
      },
      "text/plain": [
       "HTML(value='\\n    <style>\\n    .loader {\\n        border: 4px solid #f3f3f3; /* Light grey border */\\n        …"
      ]
     },
     "metadata": {},
     "output_type": "display_data"
    },
    {
     "ename": "SyntaxError",
     "evalue": "'return' outside function (504222857.py, line 29)",
     "output_type": "error",
     "traceback": [
      "\u001b[0;36m  Cell \u001b[0;32mIn[3], line 29\u001b[0;36m\u001b[0m\n\u001b[0;31m    return\u001b[0m\n\u001b[0m    ^\u001b[0m\n\u001b[0;31mSyntaxError\u001b[0m\u001b[0;31m:\u001b[0m 'return' outside function\n"
     ]
    }
   ],
   "source": [
    "import ipywidgets as widgets\n",
    "from IPython.display import display, clear_output\n",
    "\n",
    "waiting_widget = widgets.HTML(\n",
    "    value=\"\"\"\n",
    "    <style>\n",
    "    .loader {\n",
    "        border: 4px solid #f3f3f3; /* Light grey border */\n",
    "        border-top: 4px solid #3498db; /* Blue border top */\n",
    "        border-radius: 50%;\n",
    "        width: 30px;\n",
    "        height: 30px;\n",
    "        animation: spin 2s linear infinite;\n",
    "    }\n",
    "\n",
    "    @keyframes spin {\n",
    "        0% { transform: rotate(0deg); }\n",
    "        100% { transform: rotate(360deg); }\n",
    "    }\n",
    "    </style>\n",
    "    <div class=\"loader\"></div>\n",
    "    <span style='color: orange;'>🟧 Code Running Please Wait ...</span>\n",
    "    \"\"\"\n",
    ")\n",
    "display(waiting_widget)\n",
    "\n",
    "# Your long-running code goes here\n",
    "import time\n",
    "return\n",
    "time.sleep(10)  # Simulate a long process\n",
    "\n",
    "waiting_widget.value = \"<span style='color: green;'>✅ Code Successful</span>\"\n"
   ]
  },
  {
   "cell_type": "code",
   "execution_count": 2,
   "id": "ac352fe3-4597-41ad-bce2-8ec9626e0bee",
   "metadata": {},
   "outputs": [
    {
     "data": {
      "application/vnd.jupyter.widget-view+json": {
       "model_id": "5b92b5c09c474126b52f9089c8fa9f21",
       "version_major": 2,
       "version_minor": 0
      },
      "text/plain": [
       "HTML(value='\\n    <style>\\n    .dots-container {\\n        display: flex;\\n        align-items: center;\\n      …"
      ]
     },
     "metadata": {},
     "output_type": "display_data"
    },
    {
     "ename": "SyntaxError",
     "evalue": "'return' outside function (1691485502.py, line 55)",
     "output_type": "error",
     "traceback": [
      "\u001b[0;36m  Cell \u001b[0;32mIn[2], line 55\u001b[0;36m\u001b[0m\n\u001b[0;31m    return\u001b[0m\n\u001b[0m    ^\u001b[0m\n\u001b[0;31mSyntaxError\u001b[0m\u001b[0;31m:\u001b[0m 'return' outside function\n"
     ]
    }
   ],
   "source": [
    "import ipywidgets as widgets\n",
    "from IPython.display import display\n",
    "\n",
    "waiting_widget = widgets.HTML(\n",
    "    value=\"\"\"\n",
    "    <style>\n",
    "    .dots-container {\n",
    "        display: flex;\n",
    "        align-items: center;\n",
    "        justify-content: center;\n",
    "    }\n",
    "\n",
    "    .dot {\n",
    "        width: 8px;\n",
    "        height: 8px;\n",
    "        background-color: orange;\n",
    "        border-radius: 50%;\n",
    "        margin: 0 2px;\n",
    "        animation: moveDots 1.2s linear infinite;\n",
    "    }\n",
    "\n",
    "    .dot:nth-child(1) {\n",
    "        animation-delay: 0s;\n",
    "    }\n",
    "\n",
    "    .dot:nth-child(2) {\n",
    "        animation-delay: 0.4s;\n",
    "    }\n",
    "\n",
    "    .dot:nth-child(3) {\n",
    "        animation-delay: 0.8s;\n",
    "    }\n",
    "\n",
    "    @keyframes moveDots {\n",
    "        0%, 80%, 100% {\n",
    "            transform: translateY(0);\n",
    "        }\n",
    "        40% {\n",
    "            transform: translateY(-5px);\n",
    "        }\n",
    "    }\n",
    "    </style>\n",
    "    <span style='color: orange;'>🟧 Code Running Please Wait </span>\n",
    "    <div class=\"dots-container\">\n",
    "        <div class=\"dot\"></div>\n",
    "        <div class=\"dot\"></div>\n",
    "        <div class=\"dot\"></div>\n",
    "    </div>\n",
    "    \"\"\"\n",
    ")\n",
    "display(waiting_widget)\n",
    "\n",
    "# Simulate long-running code\n",
    "import time\n",
    "return\n",
    "time.sleep(5)\n",
    "\n",
    "waiting_widget.value = \"<span style='color: green;'>✅ Code Successful</span>\"\n"
   ]
  },
  {
   "cell_type": "code",
   "execution_count": 1,
   "id": "e0287e31-18e4-469a-bd6c-76e3495edf4e",
   "metadata": {},
   "outputs": [
    {
     "data": {
      "application/vnd.jupyter.widget-view+json": {
       "model_id": "d9a7ed7b190045afa5499ac52e4bc376",
       "version_major": 2,
       "version_minor": 0
      },
      "text/plain": [
       "HTML(value='\\n    <style>\\n    .dots-container {\\n        display: inline-flex;  /* Use inline-flex */\\n      …"
      ]
     },
     "metadata": {},
     "output_type": "display_data"
    },
    {
     "ename": "SyntaxError",
     "evalue": "'return' outside function (3791962373.py, line 56)",
     "output_type": "error",
     "traceback": [
      "\u001b[0;36m  Cell \u001b[0;32mIn[1], line 56\u001b[0;36m\u001b[0m\n\u001b[0;31m    return\u001b[0m\n\u001b[0m    ^\u001b[0m\n\u001b[0;31mSyntaxError\u001b[0m\u001b[0;31m:\u001b[0m 'return' outside function\n"
     ]
    }
   ],
   "source": [
    "import ipywidgets as widgets\n",
    "from IPython.display import display\n",
    "\n",
    "waiting_widget = widgets.HTML(\n",
    "    value=\"\"\"\n",
    "    <style>\n",
    "    .dots-container {\n",
    "        display: inline-flex;  /* Use inline-flex */\n",
    "        align-items: center;\n",
    "        justify-content: flex-start; /* Align items to the start */\n",
    "        margin-left: 5px; /* Add some spacing between text and dots */\n",
    "    }\n",
    "\n",
    "    .dot {\n",
    "        width: 0.4em;  /* Relative to font size */\n",
    "        height: 0.4em; /* Relative to font size */\n",
    "        background-color: orange;\n",
    "        border-radius: 50%;\n",
    "        margin: 0 0.1em; /* Adjust spacing */\n",
    "        animation: moveDots 1.2s linear infinite;\n",
    "    }\n",
    "\n",
    "    .dot:nth-child(1) {\n",
    "        animation-delay: 0s;\n",
    "    }\n",
    "\n",
    "    .dot:nth-child(2) {\n",
    "        animation-delay: 0.4s;\n",
    "    }\n",
    "\n",
    "    .dot:nth-child(3) {\n",
    "        animation-delay: 0.8s;\n",
    "    }\n",
    "\n",
    "    @keyframes moveDots {\n",
    "        0%, 80%, 100% {\n",
    "            transform: translateY(0);\n",
    "        }\n",
    "        40% {\n",
    "            transform: translateY(-0.2em);  /* Relative to font size */\n",
    "        }\n",
    "    }\n",
    "    </style>\n",
    "    <span style='color: orange;'>🟧 Code Running Please Wait </span>\n",
    "    <div class=\"dots-container\">\n",
    "        <div class=\"dot\"></div>\n",
    "        <div class=\"dot\"></div>\n",
    "        <div class=\"dot\"></div>\n",
    "    </div>\n",
    "    \"\"\"\n",
    ")\n",
    "display(waiting_widget)\n",
    "\n",
    "# Simulate long-running code\n",
    "import time\n",
    "return\n",
    "time.sleep(5)\n",
    "\n",
    "\n",
    "waiting_widget.value = \"<span style='color: green;'>✅ Code Successful</span>\"\n"
   ]
  },
  {
   "cell_type": "code",
   "execution_count": 1,
   "id": "baf2932b-68bf-43be-a53f-d20f1a9081fc",
   "metadata": {},
   "outputs": [
    {
     "data": {
      "application/vnd.jupyter.widget-view+json": {
       "model_id": "575f18e9e3844615b59b43e93f78ddf7",
       "version_major": 2,
       "version_minor": 0
      },
      "text/plain": [
       "HTML(value=\"<span style='color: orange;'>🟧 Code Running Please Wait ...</span>\")"
      ]
     },
     "metadata": {},
     "output_type": "display_data"
    },
    {
     "ename": "SyntaxError",
     "evalue": "'return' outside function (2637294610.py, line 22)",
     "output_type": "error",
     "traceback": [
      "\u001b[0;36m  Cell \u001b[0;32mIn[1], line 22\u001b[0;36m\u001b[0m\n\u001b[0;31m    return\u001b[0m\n\u001b[0m    ^\u001b[0m\n\u001b[0;31mSyntaxError\u001b[0m\u001b[0;31m:\u001b[0m 'return' outside function\n"
     ]
    }
   ],
   "source": [
    "import ipywidgets as widgets\n",
    "from IPython.display import display, clear_output\n",
    "import time\n",
    "import threading\n",
    "\n",
    "waiting_widget = widgets.HTML(value=\"<span style='color: orange;'>🟧 Code Running Please Wait ...</span>\")\n",
    "display(waiting_widget)\n",
    "\n",
    "running = True\n",
    "def animate():\n",
    "    symbols = ['·..', '.·.', '..·', '...']\n",
    "    i = 0\n",
    "    while running:\n",
    "        waiting_widget.value = f\"<span style='color: orange;'>🟧 Code Running Please Wait {symbols[i % len(symbols)]}</span>\"\n",
    "        i += 1\n",
    "        time.sleep(0.2)  # Adjust speed as needed\n",
    "\n",
    "# Start the animation in a separate thread\n",
    "animation_thread = threading.Thread(target=animate)\n",
    "animation_thread.start()\n",
    "\n",
    "return\n",
    "time.sleep(5)\n",
    "\n",
    "running = False  # Stop the animation\n",
    "animation_thread.join() # Wait for the thread to finish\n",
    "waiting_widget.value = \"<span style='color: green;'>✅ Code Successful</span>\""
   ]
  },
  {
   "cell_type": "code",
   "execution_count": 1,
   "id": "c8df0cc8-ebc4-4ff5-b00f-e621b12c3704",
   "metadata": {},
   "outputs": [
    {
     "data": {
      "application/vnd.jupyter.widget-view+json": {
       "model_id": "3cbf38391428446f9881a53f42e8f6b1",
       "version_major": 2,
       "version_minor": 0
      },
      "text/plain": [
       "HTML(value='\\n    <style>\\n    .dots-container {\\n        display: inline-flex;\\n        align-items: center;\\…"
      ]
     },
     "metadata": {},
     "output_type": "display_data"
    }
   ],
   "source": [
    "import ipywidgets as widgets\n",
    "from IPython.display import display\n",
    "import time\n",
    "\n",
    "waiting_widget = widgets.HTML(\n",
    "    value=\"\"\"\n",
    "    <style>\n",
    "    .dots-container {\n",
    "        display: inline-flex;\n",
    "        align-items: center;\n",
    "        justify-content: flex-start;\n",
    "        margin-left: 5px;\n",
    "    }\n",
    "\n",
    "    .dot {\n",
    "        width: 0.4em;\n",
    "        height: 0.4em;\n",
    "        background-color: orange;\n",
    "        border-radius: 50%;\n",
    "        margin: 0 0.1em;\n",
    "        animation: moveDots 1.2s linear infinite;\n",
    "    }\n",
    "\n",
    "    .dot:nth-child(1) {\n",
    "        animation-delay: 0s;\n",
    "    }\n",
    "\n",
    "    .dot:nth-child(2) {\n",
    "        animation-delay: 0.4s;\n",
    "    }\n",
    "\n",
    "    .dot:nth-child(3) {\n",
    "        animation-delay: 0.8s;\n",
    "    }\n",
    "\n",
    "    @keyframes moveDots {\n",
    "        0%, 80%, 100% {\n",
    "            transform: translateY(0);\n",
    "        }\n",
    "        40% {\n",
    "            transform: translateY(-0.2em);\n",
    "        }\n",
    "    }\n",
    "    </style>\n",
    "    <span style='color: orange;'>🟧 Code Running Please Wait </span>\n",
    "    <div class=\"dots-container\">\n",
    "        <div class=\"dot\"></div>\n",
    "        <div class=\"dot\"></div>\n",
    "        <div class=\"dot\"></div>\n",
    "    </div>\n",
    "    \"\"\"\n",
    ")\n",
    "display(waiting_widget)\n",
    "\n",
    "try:\n",
    "    # Simulate long-running code that might crash\n",
    "    # Replace this with your actual code\n",
    "    time.sleep(2)\n",
    "    # raise ValueError(\"Simulated Crash!\") #uncomment this line to test\n",
    "    time.sleep(3)\n",
    "\n",
    "    waiting_widget.value = \"<span style='color: green;'>✅ Code Successful</span>\"\n",
    "\n",
    "except Exception as e:\n",
    "    # Handle the exception\n",
    "    waiting_widget.value = f\"<span style='color: red;'>❌ Code Crashed: {e}</span>\"\n",
    "\n"
   ]
  },
  {
   "cell_type": "code",
   "execution_count": 2,
   "id": "6d4cb67f-fa7d-4c09-8dad-7b7ec306d5c2",
   "metadata": {},
   "outputs": [
    {
     "data": {
      "application/vnd.jupyter.widget-view+json": {
       "model_id": "9a172100ea3049bd8aa6e50ace10643b",
       "version_major": 2,
       "version_minor": 0
      },
      "text/plain": [
       "HTML(value='\\n        <style>\\n        \\n            .dots-container {\\n                display: inline-flex;\\…"
      ]
     },
     "metadata": {},
     "output_type": "display_data"
    },
    {
     "name": "stdout",
     "output_type": "stream",
     "text": [
      "Running step 1...\n",
      "Running step 2...\n"
     ]
    }
   ],
   "source": [
    "# main_script.py\n",
    "from waiting_widget import WaitingWidget\n",
    "import time\n",
    "\n",
    "def some_other_long_running_code():\n",
    "    time.sleep(1)\n",
    "    print(\"Running step 1...\")\n",
    "    time.sleep(2)\n",
    "    print(\"Running step 2...\")\n",
    "\n",
    "waiting_tool = WaitingWidget()\n",
    "waiting_tool.run_code(some_other_long_running_code)"
   ]
  },
  {
   "cell_type": "code",
   "execution_count": null,
   "id": "e399a68c-4525-402e-92b3-d8a01c248fe0",
   "metadata": {},
   "outputs": [],
   "source": []
  }
 ],
 "metadata": {
  "kernelspec": {
   "display_name": "Python 3 (ipykernel)",
   "language": "python",
   "name": "python3"
  },
  "language_info": {
   "codemirror_mode": {
    "name": "ipython",
    "version": 3
   },
   "file_extension": ".py",
   "mimetype": "text/x-python",
   "name": "python",
   "nbconvert_exporter": "python",
   "pygments_lexer": "ipython3",
   "version": "3.12.5"
  }
 },
 "nbformat": 4,
 "nbformat_minor": 5
}
