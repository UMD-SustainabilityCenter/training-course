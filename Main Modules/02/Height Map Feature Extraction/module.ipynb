{
 "cells": [
  {
   "cell_type": "markdown",
   "id": "d4faba2c-a0be-4bed-b0da-fc48aa0735e2",
   "metadata": {
    "tags": []
   },
   "source": [
    "### Scanning 3D Materials and Creating Thresholds"
   ]
  },
  {
   "cell_type": "markdown",
   "id": "c8028382",
   "metadata": {},
   "source": [
    "### Objective:\n",
    "This module aims to teach participants how to clean noise from 3D scans, apply boundaries to the object of interest, and accurately fit geometric shapes such as rectangles, ellipses, and circles. It also includes a feature for bed calibration to ensure precise scanning results.\n",
    "\n",
    "### Method:\n",
    "\n",
    "1. **Bed Calibration:**\n",
    "   - Instruction on calibrating the scanning bed for optimal results.\n",
    "   - Practical demonstration and troubleshooting tips.\n",
    "\n",
    "\n",
    "\n",
    "2. **Noise Cleaning:**\n",
    "   - Techniques for identifying and removing noise from 3D scan data.\n",
    "   - Hands-on practice using software tools to clean up scanned models.\n",
    "\n",
    "\n",
    "\n",
    "3. **Boundary Application:**\n",
    "   - Methods for applying boundaries to isolate the object of interest in the scan.\n",
    "   - Examples and best practices for defining accurate boundaries.\n",
    "\n",
    "\n",
    "\n",
    "4. **Geometric Feature Extraction:**\n",
    "   - Step-by-step guide to fitting geometric shapes (rectangle, ellipse, circle) to scanned objects.\n",
    "   - Practical exercises to apply fitting algorithms in software tools.\n",
    "   \n"
   ]
  },
  {
   "cell_type": "markdown",
   "id": "bbe97524",
   "metadata": {},
   "source": [
    "Select 3D Data to Load"
   ]
  },
  {
   "cell_type": "code",
   "execution_count": 1,
   "id": "95112adf-1a7f-4cea-b7dc-04010127b1d3",
   "metadata": {
    "jupyter": {
     "source_hidden": true
    },
    "tags": []
   },
   "outputs": [
    {
     "data": {
      "application/vnd.jupyter.widget-view+json": {
       "model_id": "bc57f4694f014a6da25fb4d08bcb4ebe",
       "version_major": 2,
       "version_minor": 0
      },
      "text/plain": [
       "interactive(children=(Dropdown(description='Select file:', options=('Sin_T_1_Gr_1.csv', 'S_1_Gr_2.csv', 'T_1_G…"
      ]
     },
     "metadata": {},
     "output_type": "display_data"
    }
   ],
   "source": [
    "import pandas as pd\n",
    "import numpy as np\n",
    "import os\n",
    "from scipy.stats import linregress\n",
    "import matplotlib.pyplot as plt\n",
    "import seaborn as sns\n",
    "from ipywidgets import Dropdown, interact\n",
    "from functions import*\n",
    "from ipywidgets import Dropdown, FloatSlider, interact\n",
    "\n",
    "# Function to get a list of CSV files in the working directory\n",
    "def get_csv_files():\n",
    "    return [f for f in os.listdir('.') if f.endswith('.csv')]\n",
    "\n",
    "# Function to load the selected CSV file into a global variable\n",
    "def load_selected_csv(file):\n",
    "    global data\n",
    "    data = load_data(file)\n",
    "    plot(data)\n",
    "# Dropdown widget to select a CSV file\n",
    "csv_files = get_csv_files()\n",
    "file_selector = Dropdown(options=csv_files, description=\"Select file:\")\n",
    "\n",
    "# Interactive widget to update the global variable based on selected file\n",
    "interact(load_selected_csv, file=file_selector);"
   ]
  },
  {
   "cell_type": "markdown",
   "id": "0a85579f-55f4-4ce7-8d94-3947b8061daf",
   "metadata": {},
   "source": [
    "### Plot Calibration Instructions\n",
    "\n",
    "- **Select Regions**: Utilize the sliders provided to define the regions that represent the bed accurately.\n",
    "- **Create Regression Lines**: Two linear regression lines will be generated based on your selections, one for each x and y direction.\n",
    "- **Fit Lines**: These lines will be fitted to the selected data points.\n",
    "- **Subtract Lines**: After fitting, the regression lines will be subtracted from the entire data set.\n",
    "- **Calibrate Plot**: This process corrects the plot by adjusting for any inclinations or biases, ensuring the data is accurately represented.\n"
   ]
  },
  {
   "cell_type": "code",
   "execution_count": 2,
   "id": "9a3fbe49-5a99-4f9a-9cd3-10ba38a5e9c8",
   "metadata": {
    "jupyter": {
     "source_hidden": true
    },
    "tags": []
   },
   "outputs": [
    {
     "data": {
      "application/vnd.jupyter.widget-view+json": {
       "model_id": "6d3e4fc0c2754baaa3980b78936eb849",
       "version_major": 2,
       "version_minor": 0
      },
      "text/plain": [
       "interactive(children=(FloatSlider(value=-6.696, description='Minimum', max=1.866, min=-6.696, step=0.01), Floa…"
      ]
     },
     "metadata": {},
     "output_type": "display_data"
    }
   ],
   "source": [
    "import numpy as np\n",
    "import matplotlib.pyplot as plt\n",
    "import seaborn as sns\n",
    "from ipywidgets import FloatSlider, interactive\n",
    "from IPython.display import display\n",
    "\n",
    "# Assuming 'data' is your original 2D numpy array\n",
    "data_temp = np.copy(data)  # Use the original data directly with NaNs preserved\n",
    "\n",
    "# Flatten the data to prepare for the scatter plot\n",
    "points = data_temp.flatten()\n",
    "\n",
    "# Initialize global variables\n",
    "global upper_bound_plate, lower_bound_plate\n",
    "upper_bound_plate = np.nanmax(points)\n",
    "lower_bound_plate = np.nanmin(points)\n",
    "\n",
    "def update_plots(y1, y2):\n",
    "    global upper_bound_plate, lower_bound_plate\n",
    "    # Update global variables with the slider values\n",
    "    upper_bound_plate = y2\n",
    "    lower_bound_plate = y1\n",
    "    \n",
    "    # Create a mask for values outside the slider range, respecting NaNs\n",
    "    mask = (data_temp < y1) | (data_temp > y2)\n",
    "    filtered_data = np.copy(data_temp)\n",
    "    filtered_data[mask] = np.nan  # Set values outside the range to NaN\n",
    "    \n",
    "    # Plotting using subplots\n",
    "    fig, (ax1, ax2) = plt.subplots(1, 2, figsize=(12, 6))\n",
    "    \n",
    "    # Scatter plot on the first subplot\n",
    "    valid_points = ~np.isnan(points)  # Mask to remove NaNs for the scatter plot\n",
    "    ax1.scatter(np.arange(len(points))[valid_points], points[valid_points], marker='o', linestyle='-', s=0.01)\n",
    "    ax1.set_title('Flattened Array Values')\n",
    "    ax1.set_xlabel('Index')\n",
    "    ax1.set_ylabel('Height Value')\n",
    "    ax1.grid(True)\n",
    "    ax1.axhline(y=lower_bound_plate, color='r', linestyle='--')\n",
    "    ax1.axhline(y=upper_bound_plate, color='g', linestyle='--')\n",
    "    \n",
    "    # Heatmap on the second subplot\n",
    "    sns.heatmap(filtered_data, cmap='viridis', cbar=False, ax=ax2)\n",
    "    ax2.set_aspect(aspect= 'equal')\n",
    "    ax2.set_title('Filtered Data Heatmap')\n",
    "    ax2.set_xticks([])\n",
    "    ax2.set_yticks([])\n",
    "    \n",
    "    plt.tight_layout()\n",
    "    plt.show()\n",
    "\n",
    "# Set up sliders for the interactive lines\n",
    "y1_slider = FloatSlider(min=np.nanmin(points), max=np.nanmax(points), step=0.01, value=np.nanmin(points), description='Minimum')\n",
    "y2_slider = FloatSlider(min=np.nanmin(points), max=np.nanmax(points), step=0.01, value=np.nanmax(points), description='Maximum')\n",
    "\n",
    "interactive_plot = interactive(update_plots, y1=y1_slider, y2=y2_slider)\n",
    "output = interactive_plot.children[-1]\n",
    "display(interactive_plot)\n"
   ]
  },
  {
   "cell_type": "code",
   "execution_count": 5,
   "id": "c131ba42-6aef-4bbf-a4bd-5a346107ed59",
   "metadata": {
    "jupyter": {
     "source_hidden": true
    },
    "tags": []
   },
   "outputs": [
    {
     "data": {
      "application/vnd.jupyter.widget-view+json": {
       "model_id": "52c8e7f7e3864819841fa52893db2788",
       "version_major": 2,
       "version_minor": 0
      },
      "text/plain": [
       "Button(description='Calibrate Scan', style=ButtonStyle())"
      ]
     },
     "metadata": {},
     "output_type": "display_data"
    },
    {
     "data": {
      "application/vnd.jupyter.widget-view+json": {
       "model_id": "b2a9fba9483d4524b590c3689c8ebe9b",
       "version_major": 2,
       "version_minor": 0
      },
      "text/plain": [
       "Output()"
      ]
     },
     "metadata": {},
     "output_type": "display_data"
    }
   ],
   "source": [
    "import ipywidgets as widgets\n",
    "from IPython.display import display\n",
    "\n",
    "button = widgets.Button(description=\"Calibrate Scan\")\n",
    "output = widgets.Output()\n",
    "\n",
    "def on_button_clicked(b):\n",
    "    global data  # Make sure to modify the global 'data' variable\n",
    "    with output:\n",
    "        data = correct_tilt(data, lower_bound_plate, upper_bound_plate)\n",
    "        print(\"Data has been updated.\")\n",
    "\n",
    "button.on_click(on_button_clicked)\n",
    "display(button, output)"
   ]
  },
  {
   "cell_type": "markdown",
   "id": "c83347e7-5cb2-4586-b0d1-c473c5b7b3b5",
   "metadata": {},
   "source": [
    "### Feature Extraction Instructions\n",
    "\n",
    "- **Select Region of Interest**: Use the sliders to specify the region within the calibrated plot where features should be extracted.\n",
    "- **Define Area**: Carefully adjust the sliders to encompass the area of the plot that contains the part of interest.\n",
    "- **Extract Features**: Once the region is defined, proceed with feature extraction to analyze the specific characteristics and metrics of the selected area.\n"
   ]
  },
  {
   "cell_type": "code",
   "execution_count": 6,
   "id": "493b28aa-eced-4f56-a9e0-7939fd4e80cf",
   "metadata": {
    "jupyter": {
     "source_hidden": true
    },
    "tags": []
   },
   "outputs": [
    {
     "data": {
      "application/vnd.jupyter.widget-view+json": {
       "model_id": "c0e48225ffe84408a175c8e9fe18d21b",
       "version_major": 2,
       "version_minor": 0
      },
      "text/plain": [
       "interactive(children=(FloatSlider(value=-4.850075325360749, description='Minimum', max=3.659646700863387, min=…"
      ]
     },
     "metadata": {},
     "output_type": "display_data"
    }
   ],
   "source": [
    "import numpy as np\n",
    "import matplotlib.pyplot as plt\n",
    "import seaborn as sns\n",
    "from ipywidgets import FloatSlider, interactive\n",
    "from IPython.display import display\n",
    "\n",
    "# Assuming 'data' is your original 2D numpy array\n",
    "data_temp = np.copy(data)  # Use the original data directly with NaNs preserved\n",
    "\n",
    "# Flatten the data to prepare for the scatter plot\n",
    "points = data_temp.flatten()\n",
    "\n",
    "# Initialize global variables\n",
    "global upper_bound, lower_bound\n",
    "upper_bound = np.nanmax(points)\n",
    "lower_bound = np.nanmin(points)\n",
    "\n",
    "def update_plots(y1, y2):\n",
    "    global upper_bound, lower_bound\n",
    "    # Update global variables with the slider values\n",
    "    upper_bound = y2\n",
    "    lower_bound = y1\n",
    "    \n",
    "    # Create a mask for values outside the slider range, respecting NaNs\n",
    "    mask = (data_temp < y1) | (data_temp > y2)\n",
    "    filtered_data = np.copy(data_temp)\n",
    "    filtered_data[mask] = np.nan  # Set values outside the range to NaN\n",
    "    \n",
    "    # Plotting using subplots\n",
    "    fig, (ax1, ax2) = plt.subplots(1, 2, figsize=(12, 6))\n",
    "    \n",
    "    # Scatter plot on the first subplot\n",
    "    valid_points = ~np.isnan(points)  # Mask to remove NaNs for the scatter plot\n",
    "    ax1.scatter(np.arange(len(points))[valid_points], points[valid_points], marker='o', linestyle='-', s=0.01)\n",
    "    ax1.set_title('Flattened Array Values')\n",
    "    ax1.set_xlabel('Index')\n",
    "    ax1.set_ylabel('Height Value')\n",
    "    ax1.grid(True)\n",
    "    ax1.axhline(y=lower_bound, color='r', linestyle='--')\n",
    "    ax1.axhline(y=upper_bound, color='g', linestyle='--')\n",
    "    \n",
    "    # Heatmap on the second subplot\n",
    "    sns.heatmap(filtered_data, cmap='viridis', cbar=False, ax=ax2)\n",
    "    ax2.set_aspect(aspect= 'equal')\n",
    "    ax2.set_title('Filtered Data Heatmap')\n",
    "    ax2.set_xticks([])\n",
    "    ax2.set_yticks([])\n",
    "    \n",
    "    plt.tight_layout()\n",
    "    plt.show()\n",
    "\n",
    "# Set up sliders for the interactive lines\n",
    "y1_slider = FloatSlider(min=np.nanmin(points), max=np.nanmax(points), step=0.01, value=np.nanmin(points), description='Minimum')\n",
    "y2_slider = FloatSlider(min=np.nanmin(points), max=np.nanmax(points), step=0.01, value=np.nanmax(points), description='Maximum')\n",
    "\n",
    "interactive_plot = interactive(update_plots, y1=y1_slider, y2=y2_slider)\n",
    "output = interactive_plot.children[-1]\n",
    "display(interactive_plot)\n"
   ]
  },
  {
   "cell_type": "markdown",
   "id": "e2383451-4ca0-4f6b-b8a1-a948b9049118",
   "metadata": {},
   "source": [
    "### Rationale for Image Conversion in Feature Extraction\n",
    "\n",
    "- **Conversion to Image**: The 3D scan data is transformed into an image format. This step is crucial for facilitating subsequent analysis.\n",
    "- **Utilizing Image Processing Tools**: The decision to convert the scan to an image is driven by the availability of advanced, efficient tools within the image processing community. These tools are well-developed and widely used for extracting and fitting shapes.\n",
    "- **Enhanced Feature Extraction**: By leveraging image processing techniques, we can more effectively identify and extract features from the data, thanks to the sophisticated algorithms that have been refined for image analysis.\n"
   ]
  },
  {
   "cell_type": "code",
   "execution_count": 8,
   "id": "8ff317b2-b0cf-4213-9eee-873b5fcbf33b",
   "metadata": {
    "jupyter": {
     "source_hidden": true
    },
    "tags": []
   },
   "outputs": [
    {
     "data": {
      "application/vnd.jupyter.widget-view+json": {
       "model_id": "880c800645d540ba8834a88c76beb3f6",
       "version_major": 2,
       "version_minor": 0
      },
      "text/plain": [
       "VBox(children=(Dropdown(description='Shape:', options=('Rectangle', 'Triangle', 'Square', 'Ellipse', 'Circle')…"
      ]
     },
     "metadata": {},
     "output_type": "display_data"
    },
    {
     "data": {
      "application/vnd.jupyter.widget-view+json": {
       "model_id": "b4058dea1d4f49d8a5be5c0a758b10bc",
       "version_major": 2,
       "version_minor": 0
      },
      "text/plain": [
       "Output()"
      ]
     },
     "metadata": {},
     "output_type": "display_data"
    }
   ],
   "source": [
    "import numpy as np\n",
    "import cv2\n",
    "import matplotlib.pyplot as plt\n",
    "from matplotlib.patches import Polygon, Ellipse\n",
    "import ipywidgets as widgets\n",
    "from IPython.display import display\n",
    "\n",
    "# Define the scale factor (0.02 mm per pixel)\n",
    "scale_factor = 0.02\n",
    "\n",
    "# Define the function to execute upon shape and epsilon selection\n",
    "def fit_and_plot(shape, epsilon_factor):\n",
    "    binary_data = np.where((data >= lower_bound) & (data <= upper_bound), 1, 0)\n",
    "    contours, _ = cv2.findContours(binary_data.astype(np.uint8), cv2.RETR_EXTERNAL, cv2.CHAIN_APPROX_SIMPLE)\n",
    "\n",
    "    if contours:\n",
    "        largest_contour = max(contours, key=cv2.contourArea)\n",
    "        epsilon = epsilon_factor * cv2.arcLength(largest_contour, True)\n",
    "        approx = cv2.approxPolyDP(largest_contour, epsilon, True)\n",
    "\n",
    "        plt.figure(figsize=(6, 6))\n",
    "        plt.imshow(binary_data, cmap='gray', origin='lower', extent=[0, binary_data.shape[1] * scale_factor, 0, binary_data.shape[0] * scale_factor])\n",
    "        \n",
    "        if shape == 'Rectangle':\n",
    "            rect = cv2.minAreaRect(approx)\n",
    "            box = cv2.boxPoints(rect) * scale_factor\n",
    "            plt.gca().add_patch(Polygon(box, closed=True, color='red', fill=False, linewidth=2))\n",
    "            print(f\"Rectangle width: {rect[1][0] * scale_factor} mm, height: {rect[1][1] * scale_factor} mm\")\n",
    "        \n",
    "        elif shape == 'Triangle':\n",
    "            triangle = cv2.minEnclosingTriangle(approx)[1] * scale_factor\n",
    "            plt.gca().add_patch(Polygon(triangle[0], closed=True, color='blue', fill=False, linewidth=2))\n",
    "            print(\"Triangle vertices:\", triangle[0])\n",
    "        \n",
    "        elif shape == 'Square':\n",
    "            rect = cv2.minAreaRect(approx)\n",
    "            side = max(rect[1]) * scale_factor\n",
    "            center = np.array(rect[0]) * scale_factor\n",
    "            box = np.array([\n",
    "                [center[0] - side / 2, center[1] - side / 2],\n",
    "                [center[0] + side / 2, center[1] - side / 2],\n",
    "                [center[0] + side / 2, center[1] + side / 2],\n",
    "                [center[0] - side / 2, center[1] + side / 2],\n",
    "            ])\n",
    "            plt.gca().add_patch(Polygon(box, closed=True, color='green', fill=False, linewidth=2))\n",
    "            print(f\"Square side length: {side} mm\")\n",
    "        \n",
    "        elif shape == 'Circle':\n",
    "            center, radius = cv2.minEnclosingCircle(approx)\n",
    "            center_scaled = np.array(center) * scale_factor\n",
    "            radius_scaled = radius * scale_factor\n",
    "            circle_patch = plt.Circle(center_scaled, radius_scaled, color='orange', fill=False, linewidth=2)\n",
    "            plt.gca().add_patch(circle_patch)\n",
    "            print(f\"Circle radius: {radius_scaled} mm\")\n",
    "        \n",
    "        elif shape == 'Ellipse':\n",
    "            if len(approx) >= 5:  # Ensure there are at least 5 points to fit an ellipse\n",
    "                ellipse = cv2.fitEllipse(approx)\n",
    "                ellipse_center = np.array(ellipse[0]) * scale_factor\n",
    "                axes = np.array(ellipse[1]) * scale_factor\n",
    "                angle = ellipse[2]\n",
    "                plt.gca().add_patch(Ellipse(xy=ellipse_center, width=axes[0], height=axes[1], angle=angle, edgecolor='purple', fill=False, linewidth=2))\n",
    "                print(f\"Ellipse center: {ellipse_center} mm, axes: {axes} mm, angle: {angle}\")\n",
    "            else:\n",
    "                print(\"Not enough points to fit an ellipse.\")\n",
    "\n",
    "\n",
    "        plt.xlabel('X (mm)')\n",
    "        plt.ylabel('Y (mm)')\n",
    "        plt.show()\n",
    "    else:\n",
    "        print(\"No contours found in the binary image.\")\n",
    "\n",
    "# Widgets for shape and epsilon factor selection\n",
    "shape_selector = widgets.Dropdown(options=['Rectangle', 'Triangle', 'Square', 'Ellipse', 'Circle'], description='Shape:')\n",
    "epsilon_slider = widgets.FloatSlider(value=0.01, min=0.0, max=0.1, step=0.005, description='Epsilon Factor:', readout_format='.3f')\n",
    "\n",
    "# Link widgets to the function\n",
    "interactive_plot = widgets.interactive_output(fit_and_plot, {'shape': shape_selector, 'epsilon_factor': epsilon_slider})\n",
    "\n",
    "# Display the widgets and the plot\n",
    "display(widgets.VBox([shape_selector, epsilon_slider]), interactive_plot)\n"
   ]
  }
 ],
 "metadata": {
  "kernelspec": {
   "display_name": "Python 3 (ipykernel)",
   "language": "python",
   "name": "python3"
  },
  "language_info": {
   "codemirror_mode": {
    "name": "ipython",
    "version": 3
   },
   "file_extension": ".py",
   "mimetype": "text/x-python",
   "name": "python",
   "nbconvert_exporter": "python",
   "pygments_lexer": "ipython3",
   "version": "3.10.9"
  }
 },
 "nbformat": 4,
 "nbformat_minor": 5
}
