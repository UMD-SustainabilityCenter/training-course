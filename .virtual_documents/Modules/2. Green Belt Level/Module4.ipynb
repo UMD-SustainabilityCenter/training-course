


# Import necessary modules
import cv2
from IPython.display import Video, display
import os
from PIL import Image, ImageDraw, ImageFont
import ipywidgets as widgets
from IPython.display import display
import cv2
import ipywidgets as widgets
from IPython.display import display, Video
import os
from IPython.display import clear_output


# Define the directory containing the video
video_dir = 'Module 4 Content/Data'

# Find the first .mp4 file in the directory
video_file = next((f for f in os.listdir(video_dir) if f.endswith('.mp4')), None)

# Check if a video file was found
if video_file:
    video_path = os.path.join(video_dir, video_file)
    print(f"Displaying video: {video_file}")
    display(Video(video_path, embed=True, width=640, height=480))
else:
    print("No MP4 video file found in the directory.")

lowest = 30
highest = 160





import cv2
import ipywidgets as widgets
from IPython.display import display, clear_output
from PIL import Image
import numpy as np
print("Loading, please wait...")
# Load video using cv7
cap = cv2.VideoCapture(video_path)

# Read all frames from the video
frames = []
ret, frame = cap.read()
while ret:
    frames.append(cv2.cvtColor(frame, cv2.COLOR_BGR2RGB))
    ret, frame = cap.read()

cap.release()

# Convert frames to PIL images
stored_images = [Image.fromarray(frame) for frame in frames]

# Define sliders and button with bigger text
slider_style = {
    'description_width': 'initial',
    'font_size': '16px'
}
slider_layout = widgets.Layout(width='400px', height='20px')

crop_left = widgets.IntSlider(
    value=0,
    min=0,
    max=700,
    description='Crop Left:',
    continuous_update=True,
    style=slider_style,
    layout=slider_layout
)

crop_right = widgets.IntSlider(
    value=0,
    min=0,
    max=700,
    description='Crop Right:',
    continuous_update=True,
    style=slider_style,
    layout=slider_layout
)

crop_top = widgets.IntSlider(
    value=0,
    min=0,
    max=700,
    description='Crop Top:',
    continuous_update=True,
    style=slider_style,
    layout=slider_layout
)

crop_bottom = widgets.IntSlider(
    value=0,
    min=0,
    max=700,
    description='Crop Bottom:',
    continuous_update=True,
    style=slider_style,
    layout=slider_layout
)

apply_all_button = widgets.Button(
    description='Apply to All',
    tooltip='Apply current settings to all images',
    style={'font_size': '16px'},
    layout=widgets.Layout(width='150px', height='30px')
)

output = widgets.Output()
image_slider = widgets.IntSlider(
    value=0,
    min=0,
    max=len(stored_images)-1,
    description='Frame',
    continuous_update=True,
    style=slider_style,
    layout=slider_layout
)

# Display function
def display_images(change=None):
    with output:
        
        clear_output(wait=True)
        if stored_images:
            image = stored_images[image_slider.value]
            # Calculate actual crop dimensions
            left = crop_left.value
            top = crop_top.value
            right = crop_right.value
            bottom = crop_bottom.value

            # Ensure crop values are valid
            crop_box = (
                min(left, image.width - 1),
                min(top, image.height - 1),
                max(left + 1, image.width - right),
                max(top + 1, image.height - bottom)
            )
            
            cropped_image = image.crop(crop_box)
            display(cropped_image)

# Apply cropping to all frames
def apply_cropping_to_all(b):
    for i in range(len(stored_images)):
        image = stored_images[i]
        left = crop_left.value
        top = crop_top.value
        right = crop_right.value
        bottom = crop_bottom.value

        # Ensure crop values are valid
        crop_box = (
            min(left, image.width - 1),
            min(top, image.height - 1),
            max(left + 1, image.width - right),
            max(top + 1, image.height - bottom)
        )

        stored_images[i] = image.crop(crop_box)
    with output_widget:
        print("Video Cropped.")

    #display_images()
apply_all_button.on_click(apply_cropping_to_all)

# Observe changes in sliders
crop_left.observe(display_images, 'value')
crop_right.observe(display_images, 'value')
crop_top.observe(display_images, 'value')
crop_bottom.observe(display_images, 'value')
image_slider.observe(display_images, 'value')

# Display initial setup
ui = widgets.VBox([image_slider, crop_left, crop_right, crop_top, crop_bottom, apply_all_button, output])
display(ui)

# Initial display
display_images()





import numpy as np
import matplotlib.pyplot as plt
from ipywidgets import interact, IntSlider, FloatRangeSlider, Button, VBox, HBox
from PIL import Image
import matplotlib.cm as cm
from IPython.display import display
import ipywidgets as widgets

output_widget = widgets.Output()

# Function to convert PIL images to numpy arrays
def pil_to_array(image):
    return np.array(image)

# Function to display filtered temperature data for a single frame
def display_filtered_image(frame_idx, temp_range):
    image = stored_images[frame_idx]
    filtered_data = filter_image(image, temp_range)
    plt.figure(figsize=(10, 6))
    plt.imshow(filtered_data, cmap='inferno', vmin=lowest, vmax=highest)
    plt.colorbar(label='Temperature (C)')
    plt.title(f'Frame {frame_idx + 1} - Temperature Range {temp_range}C')
    plt.axis('off')
    plt.show()

# Function to filter an image based on temperature range
def filter_image(image, temp_range):
    data = pil_to_array(image)
    # Convert RGB image to grayscale (assuming temperature data is encoded in color)
    if data.ndim == 3:  # Check if the image has color channels
        data = data[:, :, 0] * 0.299 + data[:, :, 1] * 0.587 + data[:, :, 2] * 0.114

    # Normalize data back to the original temperature range
    min_temp, max_temp = 20, 160
    normalized_data = min_temp + (max_temp - min_temp) * (data - data.min()) / (data.max() - data.min())

    # Create a masked array where values outside the range are set to NaN
    filtered_data = np.where((normalized_data >= temp_range[0]) & (normalized_data <= temp_range[1]), normalized_data, np.nan)
    return filtered_data

# Function to apply filtering on all frames and store the results
def apply_all_frames(_):
    global filtered_images
    temp_range = temp_slider.value
    output_widget.clear_output()
    with output_widget:
        print("Processing all frames, please wait...")
    
    filtered_images = [filter_image(image, temp_range) for image in stored_images]

    output_widget.clear_output()
    with output_widget:
        print("Filtering applied to all frames.")

# Create interactive widgets
frame_slider = IntSlider(value=0, min=0, max=len(stored_images) - 1, step=1, description='Frame', layout={'width': '500px'}, style={'description_width': '100px'})
temp_slider = FloatRangeSlider(value=[0, 160], min=0, max=160, step=1, description='Temp Range', layout={'width': '500px'}, style={'description_width': '100px'})
apply_all_button = Button(description='Apply All', layout={'width': '100px'}, style={'description_width': '100px'})

# Link the "Apply All" button with the apply_all_frames function
apply_all_button.on_click(apply_all_frames)

# Create a layout for widgets
ui = VBox([apply_all_button, output_widget])

# Link the display function with the widgets
interact(display_filtered_image, frame_idx=frame_slider, temp_range=temp_slider)
display(ui)






import numpy as np
import pandas as pd
from PIL import Image, ImageDraw
import io
import matplotlib.cm as cm
from ipywidgets import IntSlider, VBox, HBox, Output, HTML, Image as ImageWidget
from IPython.display import display
import matplotlib.pyplot as plt

# Simulated data if needed
# filtered_images = [np.random.uniform(30, 160, (480, 640)) for _ in range(50)]

# Global variable to store temperature curve
latest_pixel_temperatures = []

# Function to convert array to image with marker
def array_to_png_with_marker(data, x, y, cmap=cm.inferno, vmin=30, vmax=160):
    normed_data = (data - vmin) / (vmax - vmin)
    normed_data = np.clip(normed_data, 0, 1)
    colored_data = cmap(normed_data)
    image = (colored_data[:, :, :3] * 255).astype(np.uint8)
    pil_img = Image.fromarray(image)
    
    # Draw grid
    draw = ImageDraw.Draw(pil_img)
    for i in range(0, pil_img.width, 100):
        draw.line([(i, 0), (i, pil_img.height)], fill=(100, 100, 100), width=1)
    for j in range(0, pil_img.height, 100):
        draw.line([(0, j), (pil_img.width, j)], fill=(100, 100, 100), width=1)

    # Draw cross marker
    draw.line([(x - 5, y), (x + 5, y)], fill=(255, 255, 255), width=1)
    draw.line([(x, y - 5), (x, y + 5)], fill=(255, 255, 255), width=1)

    with io.BytesIO() as output:
        pil_img.save(output, format='PNG')
        return output.getvalue()

# Widgets
x_slider = IntSlider(value=100, min=0, max= 1000, description='X:', layout={'width': '400px'})
y_slider = IntSlider(value=100, min=0, max=685, description='Y:', layout={'width': '400px'})
frame_slider = IntSlider(value=0, min=0, max=len(filtered_images) - 1, description='Frame:', layout={'width': '500px'})
image_widget = ImageWidget(layout={'width': '50%'})
temperature_display = HTML()
plot_output = Output()  # Widget to display the temperature curve

# Update the marker on the image
def update_image_with_marker(*args):
    x, y = x_slider.value, y_slider.value
    frame_idx = frame_slider.value
    frame_data = filtered_images[frame_idx]
    if 0 <= x < frame_data.shape[1] and 0 <= y < frame_data.shape[0]:
        image_widget.value = array_to_png_with_marker(frame_data, x, y)

# Update temperature curve and display in the output widget
def update_temperature_curve(*args):
    global latest_pixel_temperatures
    x, y = x_slider.value, y_slider.value
    latest_pixel_temperatures = []

    for i, frame in enumerate(filtered_images):
        if 0 <= x < frame.shape[1] and 0 <= y < frame.shape[0]:
            temp = frame[y, x]
            latest_pixel_temperatures.append((i, temp))

    # Update plot dynamically inside output widget
    with plot_output:
        plot_output.clear_output(wait=True)
        frame_nums, temps = zip(*latest_pixel_temperatures)
        plt.figure(figsize=(8, 3))
        plt.plot(frame_nums, temps, color='orange')
        plt.title(f"Temperature Curve at Pixel ({x}, {y})")
        plt.xlabel("Frame")
        plt.ylabel("Temperature (°C)")
        plt.grid(True)
        plt.tight_layout()
        plt.show()

    # Update display
    current_temp = filtered_images[frame_slider.value][y, x]
    temperature_display.value = f"Latest Temperature at Frame {frame_slider.value}: {current_temp:.2f}°C"

    # Update marker
    update_image_with_marker()

# Connect observers
x_slider.observe(update_temperature_curve, names='value')
y_slider.observe(update_temperature_curve, names='value')
frame_slider.observe(update_image_with_marker, names='value')

# Initial call
update_temperature_curve()

# Final UI layout
ui = VBox([
    HBox([x_slider, y_slider]),
    frame_slider,
    temperature_display,
    image_widget,
    plot_output
])
display(ui)






from IPython.display import display, Video
display(Video("Module 4 Content/Simulation Video.mp4" , embed=True,  width=640, height=480))











import os
import numpy as np
import pandas as pd

# Load thermal results (simulation outputs)
thermal_results = np.load('Module 4 Content/thermal_data.npy', allow_pickle=True)

# Path to folder containing parameter files
params_folder = r'Module 4 Content\thermal_params'

# List to hold final data rows
data_rows = []

# Process each simulation
for sim in thermal_results:
    sim_id = sim[0]  # simulation identifier like '000000071'
    nozzle_temp = float(sim[1])  # not used since it's part of the params file
    temperatures = sim[2:]  # temperature values over time

    # Load corresponding parameter file
    param_file = os.path.join(params_folder, f"{sim_id}.txt")
    with open(param_file, 'r') as f:
        lines = f.readlines()
    
    # Extract parameters as a dict
    params = {}
    for line in lines:
        parts = [p for p in line.strip().split(',') if p]
        if len(parts) >= 3:
            key, value = parts[0], parts[2]
            params[key.strip()] = float(value)

    # Convert parameters to ordered list of values
    param_values = list(params.values())

    # Add one row per time increment
    for i, temp in enumerate(temperatures):
        time = i * 0.1  # 0.1s increment per frame
        row = [time] + param_values + [temp]  # features + output
        data_rows.append(row)

# Create DataFrame
param_keys = list(params.keys())
columns = ['Time'] + param_keys + ['Temperature']
df = pd.DataFrame(data_rows, columns=columns)
df


from sklearn.model_selection import train_test_split
from sklearn.preprocessing import StandardScaler
from xgboost import XGBRegressor
from sklearn.metrics import mean_squared_error, r2_score
import numpy as np

# Step 1: Filter only the first 100 time steps
df_filtered = df[df['Time'] <= 9.9].copy()

# Step 2: Drop rows with NaNs or Infs in any column (not just Temperature)
df_filtered = df_filtered.replace([np.inf, -np.inf], np.nan).dropna()

# Step 3: Split features and target
X = df_filtered.drop(columns=['Temperature'])
y = df_filtered['Temperature']

# Step 4: Train-test split
X_train, X_test, y_train, y_test = train_test_split(X, y, test_size=0.2, random_state=42)

# Step 5: Remove constant (zero-variance) columns
constant_columns = [col for col in X_train.columns if X_train[col].nunique() <= 1]
X_train = X_train.drop(columns=constant_columns)
X_test = X_test.drop(columns=constant_columns)

# Step 6: Normalize features
scaler = StandardScaler()
X_train_scaled = scaler.fit_transform(X_train)
X_test_scaled = scaler.transform(X_test)

# Step 7: Clean target array (just in case)
y_train = np.array(y_train)
y_test = np.array(y_test)

# Final check for NaNs/Infs before training
assert not np.isnan(X_train_scaled).any(), "NaNs in X_train"
assert not np.isnan(X_test_scaled).any(), "NaNs in X_test"
assert not np.isnan(y_train).any(), "NaNs in y_train"
assert not np.isnan(y_test).any(), "NaNs in y_test"

# Step 8: Train XGBoost
model = XGBRegressor(n_estimators=100, max_depth=6, learning_rate=0.1, random_state=42)
model.fit(X_train_scaled, y_train)

# Step 9: Predict and evaluate
y_pred = model.predict(X_test_scaled)
mse = mean_squared_error(y_test, y_pred)
r2 = r2_score(y_test, y_pred)

print(f"Test MSE: {mse:.4f}")
print(f"Test R²: {r2:.4f}")


import ipywidgets as widgets
from IPython.display import display
import matplotlib.pyplot as plt

# Parameters to vary
selected_features = {
    'Bed Temperature': (300, 400),
    'Surface to Surface Conductivity': (1.0, 15),
    'Print Material Conductivity': (0.5, 10),
}

# Default/fixed values from training data
default_values = X_train.mean()

# Create sliders for selected features
sliders = {
    feature: widgets.FloatSlider(
        value=(rng[0] + rng[1]) / 2,
        min=rng[0],
        max=rng[1],
        step=0.1,
        description=feature[:20],
        continuous_update=False,
        layout=widgets.Layout(width='90%')
    )
    for feature, rng in selected_features.items()
}

# Prediction + plot function
def predict_and_plot(**kwargs):
    times = np.round(np.arange(0, 10.0, 0.1), 2)
    input_rows = []

    for t in times:
        row = default_values.copy()
        row['Time'] = t
        for feature in selected_features:
            row[feature] = kwargs[feature]
        input_rows.append(row[used_features])  # Keep same column order

    X_input = pd.DataFrame(input_rows)
    X_scaled = scaler.transform(X_input)
    y_pred = model.predict(X_scaled)

    # Plot
    plt.figure(figsize=(10, 5))
    plt.plot(times, y_pred, label='Predicted Temperature')
    plt.xlabel('Time (s)')
    plt.ylabel('Temperature (K)')
    plt.title('Predicted Thermal Profile (Varying 3 Parameters)')
    plt.grid(True)
    plt.legend()
    plt.tight_layout()
    plt.show()

# Display widget
ui = widgets.VBox([sliders[f] for f in sliders])
out = widgets.interactive_output(predict_and_plot, sliders)

display(ui, out)




