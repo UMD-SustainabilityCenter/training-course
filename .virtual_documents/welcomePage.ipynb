




















import numpy as np
import matplotlib.pyplot as plt
from sklearn.preprocessing import PolynomialFeatures
from sklearn.linear_model import LinearRegression
from ipywidgets import interact, FloatSlider, IntSlider
import ipywidgets as widgets
from IPython.display import display, FileLink
import os
from ipywidgets import fixed

print('Code Running...')
user_name = 'Unknown'

# Create a text input widget
name_input = widgets.Text(
    value='',
    placeholder='Type your name here',
    description='Insert Name',
    disabled=False
)

# Create an output widget
output = widgets.Output()

# Function to update the global variable and clear output
def update_name(change):
    global user_name
    user_name = change['new']
    with output:
        output.clear_output()  # Clear the previous output
        print(f"Name '{user_name}' will be provided to the following code cell.")

# Linking the text widget to the update function
name_input.observe(update_name, names='value')

# Display the text input widget and output widget
display(name_input, output)





import numpy as np
import matplotlib.pyplot as plt
from sklearn.preprocessing import PolynomialFeatures
from sklearn.linear_model import LinearRegression
from ipywidgets import interact, IntSlider, FloatSlider
print('You can adjust the Line Degree of Complexity, and the Noise Level in Data Generated\n\nDrag Slider and Interact !')
# Initialize x data
x = np.linspace(-3, 3, 50)
np.random.seed(0)  # Set a fixed seed for reproducibility

# Function to generate data
def generate_data(noise, x=x):
    return x**2 + np.random.randn(50) * noise

# Cache the initial data
initial_noise = 0.8  # Initial noise level
y = generate_data(initial_noise)  # Initial data generation

# Function to plot polynomial regression
def plot_poly_regression(degree, y):
    # Reshape x for sklearn compatibility
    X = x[:, np.newaxis]
    
    # Create polynomial features
    poly = PolynomialFeatures(degree=degree)
    X_poly = poly.fit_transform(X)
    
    # Fit a linear model
    model = LinearRegression()
    model.fit(X_poly, y)
    
    # Predict and plot
    y_pred = model.predict(X_poly)
    plt.figure(figsize=(5, 5))
    
    
    # Adding the user's name as a transparent text in the background
    plt.text(0.5, 0.92, user_name + '\'s Plot', fontsize=22, color='#2F65A7', ha='center', va='center',
             alpha=1, transform=plt.gca().transAxes)  # Using axis transform for relative positioning
    plt.scatter(x, y, color='#006EB2', label='Data points')
    plt.plot(x, y_pred, color='#9A3324', label=f'Polynomial Degree {degree}', linewidth=2)
    plt.ylim([-40 - 10, 40 + 10])
    # plt.title(f"Polynomial Degree {degree} Fit with Noise Level {initial_noise}")
    # plt.legend()
    plt.grid(True)
    plt.show()

# Widgets for degree and noise adjustment
degree_slider = IntSlider(value=1, min=1, max=15, step=1, description="Degree")
noise_slider = FloatSlider(value=initial_noise, min=0.1, max=10, step=0.1, description="Noise Level")

# Track the previous noise level to decide whether to regenerate data
previous_noise = initial_noise

def interactive_update(degree, noise):
    global y, previous_noise
    if noise != previous_noise:
        y = generate_data(noise)  # Regenerate data if noise level has changed
        previous_noise = noise
    plot_poly_regression(degree, y)

# Interactive widget setup
interact(interactive_update,
         degree=degree_slider,
         noise=noise_slider);































