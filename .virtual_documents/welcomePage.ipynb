














import ipywidgets as widgets
from IPython.display import display, HTML
from PIL import Image
from fpdf import FPDF
from base64 import b64encode
import os
import io
import json  # PyMuPDF
# import myFunctions as myFn


# Create functions to be used later
def setYpos(currentSection, lastYpos, currentYpos, is_LR):
    lastYpos[is_LR] = currentYpos
    return lastYpos

def printPositionDebug(pos_debug, lastYpos, currentYpos, curretSection, sectionName, is_LR):
    LR_def = ["Left", "Right"]

    if pos_debug == 1:
        print("")
        print(f"🏃 Position Debug -- Section: {sectionName}")
        print(f"Current Section: {curretSection}")
        print(f"Current Side: {LR_def[is_LR]}")
        print(f"End Y Position: {currentYpos}")
        print(f"Last Y Position\n   Left: {lastYpos[0]}  |  Right: {lastYpos[1]}")
        print("")

def list_mbd_subfolders(parent_folder):
    """
    Lists all first-layer subfolders in the specified directory that have '.mbd' in their names.

    Args:
        parent_folder (str): Path to the parent folder.

    Returns:
        list: A list of subfolder paths with '.mbd' in their names.
    """
    if not os.path.isdir(parent_folder):
        print(f"The provided path '{parent_folder}' is not a valid directory.")
        return []

    # Get all first-layer subdirectories
    subfolders = [
        # os.path.join(parent_folder, subfolder)
        subfolder
        for subfolder in os.listdir(parent_folder)
        if os.path.isdir(os.path.join(parent_folder, subfolder)) and '.mbd' in subfolder
    ]

    return subfolders

# Set File Locations
MBD_Location = "example_resources/MBD_Files"
mbdFileList = list_mbd_subfolders(MBD_Location)

# Create a text box
text_box = widgets.Textarea(
    value='',
    placeholder='Type notes...',
    description='Notes:',
    disabled=False
)

# Variable to store the resulting text
resulting_text = ''

def update_text(change):
    global resulting_text
    resulting_text = change['new']
    # print(f"Updated Text: {resulting_text}")

# Attach the update function to the text box
text_box.observe(update_text, names='value')

# Create a dropdown menu
dropdown = widgets.Dropdown(
    options=mbdFileList,
    value=mbdFileList[0],
    description='MBD File:',
    disabled=False
)

# Variable to store the selected dropdown value
selected_option = mbdFileList[0]
def update_selection(change):
    global selected_option    
    selected_option = change['new']
    # print(f"Option selected: {selected_option}")

# Attach the update function to the dropdown
dropdown.observe(update_selection, names='value')

# Display the widget
display(dropdown, text_box)


# A4 Dimentions
w = 210
h = 297

notes = resulting_text
outputFile = selected_option.replace(".mbd", ".pdf")

# partFile = "mBlock.mbd"
# partFile = "iceCleat.mbd"

partFile = MBD_Location + "/" + selected_option

# Import MBD Data
with open(f"{partFile}/info.json", "r") as file:
    partData = json.load(file)

# Setup Document Vairables
docFont = "dejavu-sans"
verticalSectionSpacing = 10
cellWidth = (w-20)/2-10
cellHeight = 8
smallSpacerHeight = 3

xPos = (10, (w-20)/2+20)
lastYpos = (0,0)

currentSection = 0

try:
    partName = partData["general_properties"]["name"]
    partID = partData["general_properties"]["part_id"]
except:
    print(f"🛑 Part Name or Part ID Missing 🛑")

header_start_page = 1
footer_start_page = 0

# Debug Enables
border_enable = False
pos_debug = False
column_choice_debug = False

output_real_file = False

# Setup FPDF Objects
class FPDF(FPDF):
    
    # Header
    def header(self):
        pageNum = self.page_no()
        if pageNum > header_start_page:
            self.set_font(docFont, "", 10)
            self.cell(0,5,f"{partID} [{partName}]", border=border_enable, align="R")
            self.image("example_resources/Images/UM-Dearborn_Logo-horizontal-RGB.png", h=5, x=10)
            self.set_xy(10,30)
            
    # Footer
    def footer(self):
        pageNum = self.page_no()
        footer_height = 5
        footer_font_size = 10

        if pageNum > footer_start_page:
            self.set_font(docFont, "", footer_font_size)
            self.set_y(-10-footer_height)
            self.cell((w-20)/3, footer_height,f"Page: {str(pageNum-footer_start_page)}", border=border_enable)
            self.cell((w-20)/3, footer_height,f"{partID} [{partName}]", border=border_enable, align="C")
            self.cell((w-20)/3, footer_height,"Data Sheet", border=border_enable, align="R")
    
    # Section Title
    def section_title(self, text, spacer_below_height):
        self.set_fill_color(0, 39, 76)
        self.set_font(docFont, "", 14)
        global is_LR

        # Determine if new cell should be left or right
        if lastYpos[0] == lastYpos[1]:
            self.set_xy(xPos[currentSection % 2], lastYpos[currentSection % 2])
            is_LR = currentSection % 2

            # Debug for column choice
            if column_choice_debug == True:
                print("")
                print(f'💈 Column Choice Debug -- Section: {text}')
                print(f'Columns are Identical in Length Chose: {currentSection % 2} out of {lastYpos}')
                print("")
        else:
            shortestColumn = lastYpos.index(min(lastYpos))
            self.set_xy(xPos[shortestColumn], lastYpos[shortestColumn])
            is_LR = shortestColumn

            # Debug for column choice
            if column_choice_debug == True:
                print("")
                print(f'💈 Column Choice Debug -- Section: {text}')
                print(f'Column {shortestColumn} is the shortest at {lastYpos[shortestColumn]} out of {lastYpos}')
                print("")
        
        # Set Font Settings for Section Title
        self.set_text_color(255, 202, 5)
        self.cell(cellWidth, cellHeight, "", border=border_enable, new_x="LEFT", new_y="NEXT")
        self.cell(cellWidth, cellHeight, text, fill=True, align="C", border=border_enable, new_x="LEFT", new_y="NEXT")
        
        # Spacer below section title
        self.cell(cellWidth, spacer_below_height, "", border=border_enable, new_x="LEFT", new_y="NEXT")
        
        # Reset Font for normal text
        self.set_text_color(0, 0, 0)
        self.set_font(docFont, "", 12)

    # Empty Section Title (For images and other non text based sections)
    def no_section_title(self):
        global is_LR
        self.set_fill_color(0, 39, 76)
        self.set_text_color(255, 202, 5)
        
        # Determine if new cell should be left or right
        if lastYpos[0] == lastYpos[1]:
            self.set_xy(xPos[currentSection % 2], lastYpos[currentSection % 2])
            is_LR = currentSection % 2

            # Debug for column choice
            if column_choice_debug == True:
                print("")
                print("💈 Column Choice Debug -- Titleless Section")
                print(f'Columns are Identical in Length Chose: {currentSection % 2} out of {lastYpos}')
                print("")
        else:
            shortestColumn = lastYpos.index(min(lastYpos))
            self.set_xy(xPos[shortestColumn], lastYpos[shortestColumn])
            is_LR = shortestColumn

            # Debug for column choice
            if column_choice_debug == True:
                print("")
                print("💈 Column Choice Debug -- Titleless Section")
                print(f'Column {shortestColumn} is the shortest at {lastYpos[shortestColumn]} out of {lastYpos}')
                print("")
            
        self.cell(cellWidth, cellHeight, "", border=border_enable, new_x="LEFT", new_y="NEXT") # Blank Cell

# Enable FPDF
pdf = FPDF("P", "mm", format=(w,h))

# Setup Fonts and Fallback Fonts
pdf.add_font(fname="example_resources/Fonts/TwitterColorEmoji-SVGinOT.ttf")
pdf.add_font(family="dejavu-sans", style="", fname="example_resources/Fonts/DejaVuSans.ttf")
pdf.add_font(family="dejavu-sans", style="b", fname="example_resources/Fonts/DejaVuSans-Bold.ttf")
pdf.set_fallback_fonts(["TwitterColorEmoji-SVGinOT", "dejavu-sans"])

pdf.set_font(docFont, "", 16)

## Page 1
pdf.add_page()

## Title
title_string = f"{partID} [{partName}]"
title_font_size = 25
pdf.set_text_color(0, 39, 76)
pdf.set_font(docFont, "b", title_font_size)

# Check to see how long title is and change font size accordingly
if pdf.get_string_width(title_string) <= 140:
    pdf.set_x(10)
elif pdf.get_string_width(title_string) >= (w-40):
    pdf.set_x(30)
    title_length = pdf.get_string_width(title_string)
    # Find new font size to make sure it will fit in title block
    while title_length >= (w-40):
        title_font_size += -1
        pdf.set_font(docFont, "b", title_font_size)
        title_length = pdf.get_string_width(title_string)
        if title_font_size <= 12.5:
            break
else:
    pdf.set_x(30)
    
pdf.multi_cell(0, 25/2, title_string, border=border_enable, align="C", max_line_height=title_font_size/2)

## Subtitle
pdf.set_font(docFont, "", 18)
pdf.set_y(21)
pdf.cell(0,9,"Data Sheet", border=border_enable, align="C", new_x="LEFT", new_y="NEXT")
# UMDearborn Logo
image = "example_resources/Images/UM-Dearborn_Logo-RGB.png"
pdf.image(image, h=20 , x=10, y=10)

lastYpos = [pdf.get_y(),pdf.get_y()]

pdf.set_text_color(0, 0, 0)
pdf.set_x(10)

## Sedctions

# Applications Secion
try:
    partApplications = partData["general_properties"]["applications"]
except:
    print("⚠️ general_properties: appliacations not found, skipping ⚠️")
else:
    pdf.section_title("Applications", smallSpacerHeight)

    text = ""

    for i in partApplications:
        if i == partApplications[0]:
            text = text + "  -  " + i
        else:
            text = text + "\n" + "  -  " + i  
        
    pdf.multi_cell(cellWidth, 6, text, border=border_enable, new_x="LEFT", new_y="NEXT")
    
    printPositionDebug(pos_debug, lastYpos, pdf.get_y(), currentSection, "Applications", is_LR)
    lastYpos = setYpos(currentSection, lastYpos, pdf.get_y(), is_LR)
    currentSection += 1

# Image
try:
    partImage = partData["general_properties"]["image"]
except:
    print("⚠️ general_properties: image not found, skipping ⚠️")
else:
    pdf.no_section_title()

    pdf.image(f"{partFile}/{partImage}", w=(w-20)/2-30, x = xPos[currentSection % 2]+10)

    printPositionDebug(pos_debug, lastYpos, pdf.get_y(), currentSection, "Image", is_LR)
    lastYpos = setYpos(currentSection, lastYpos, pdf.get_y(), is_LR)
    currentSection += 1

# Description
try:
    partDescription = partData["general_properties"]["description"]
except:
    print("⚠️ gneral_properties: description not found, skipping ⚠️")
else:
    pdf.section_title("Description", smallSpacerHeight)
    
    pdf.multi_cell(cellWidth, 5, partDescription, align="J", border=border_enable)

    printPositionDebug(pos_debug, lastYpos, pdf.get_y(), currentSection, "Description", is_LR)
    lastYpos = setYpos(currentSection, lastYpos, pdf.get_y(), is_LR)
    currentSection += 1

# Physical Properties
try:
    partPhysicalProperties = partData["physical_properties"]
except:
    print("⚠️ physical_properties not found, skipping ⚠️")
else:
    pdf.section_title("Physical Properties", smallSpacerHeight)

    # Material
    try:
        partMaterial = partPhysicalProperties["material"]
    except:
        print("⚠️ Part Material Missing ⚠️")
    else:
        pdf.cell(cellWidth, 5, f"Material = {partMaterial}", border=border_enable, new_x="LEFT", new_y="NEXT")

    # Mass
    try:
        partMass = partPhysicalProperties["mass"]
        partMassUnit = partPhysicalProperties["mass_unit"]
    except:
        print("⚠️ Part Mass or Mass Unit Missing ⚠️")
    else:
        pdf.cell(cellWidth, 5, f"Mass = {partMass} [{partMassUnit}]", border=border_enable, new_x="LEFT", new_y="NEXT")

    # Volume
    try:
        partVolume = partPhysicalProperties["volume"]
        partVolumeUnit = partPhysicalProperties["volume_unit"]
    except:
        print("⚠️ Part Volume or Volume Unit Missing ⚠️")
    else:
        pdf.cell(cellWidth, 5, f"Volume = {partVolume} [{partVolumeUnit}]", border=border_enable, new_x="LEFT", new_y="NEXT")

    # Hardness
    try:
        partHardness = partPhysicalProperties["hardness"]
        partHardnessUnit = partPhysicalProperties["hardness_unit"]
    except:
        print("⚠️ Part Hardness or Hardness Unit Missing ⚠️")
    else:
        pdf.cell(cellWidth, 5, f"Hardness = {partHardness} [{partHardnessUnit}]", border=border_enable, new_x="LEFT", new_y="NEXT")
    
    printPositionDebug(pos_debug, lastYpos, pdf.get_y(), currentSection, "Physical Properties", is_LR)
    lastYpos = setYpos(currentSection, lastYpos, pdf.get_y(), is_LR)
    currentSection += 1


# Manufacturing Properties
try:
    partManufacturingProperties = partData["manufacturing_properties"]
except:
    print("⚠️ manufacturing_properties not found, skipping ⚠️")
else:
    pdf.section_title("Maufacturing Properties", smallSpacerHeight)

    # Method
    try:
        manufacturingMethod = partManufacturingProperties["method"]
    except:
        print("⚠️ Manufacturing Method Missing ⚠️")
    else:
        pdf.cell(cellWidth, 5, f"Process = {manufacturingMethod}", border=border_enable, new_x="LEFT", new_y="NEXT")

    # Waste Percent
    try:
        manufacturingWaste = partManufacturingProperties["waste_percent"]
    except:
        print("⚠️ Manufacturing Waste Percent Missing ⚠️")
    else:
        pdf.cell(cellWidth, 5, f"Waste = {manufacturingWaste}", border=border_enable, new_x="LEFT", new_y="NEXT")

    # Scrap Rate
    try:
        manufacturingScrap = partManufacturingProperties["scrap_rate"]
    except:
        print("⚠️ Manufacturing Scrap Rate Missing ⚠️")
    else:
        pdf.cell(cellWidth, 5, f"Scrap = {manufacturingScrap}", border=border_enable, new_x="LEFT", new_y="NEXT")

    # Hardness
    try:
        manufacturingCarbonFootprint = partManufacturingProperties["carbon_footprint"]
        manufacturingCarbonFootprintUnit = partManufacturingProperties["carbon_footprint_unit"]
    except:
        print("⚠️ Carborn Footprint or Carbon Footprint Unit Missing ⚠️")
    else:
        pdf.cell(cellWidth, 5, f"Carbon Footprint = {manufacturingCarbonFootprint} [{manufacturingCarbonFootprintUnit}]", border=border_enable, new_x="LEFT", new_y="NEXT")
   
    printPositionDebug(pos_debug, lastYpos, pdf.get_y(), currentSection, "Maunfacturing Properties", is_LR)
    lastYpos = setYpos(currentSection, lastYpos, pdf.get_y(), is_LR)
    currentSection += 1


# Notes
try:
    notes = notes
except:
    print("😡 You messed with the code 😡\n😡 The notes are missing 😡")
else:
    pdf.section_title("Notes", smallSpacerHeight)
    pdf.multi_cell(cellWidth, 5, notes, border=border_enable, align="L")

    printPositionDebug(pos_debug, lastYpos, pdf.get_y(), currentSection, "Notes", is_LR)
    lastYpos = setYpos(currentSection, lastYpos, pdf.get_y(), is_LR)
    currentSection += 1

# # Add Second Page
# pdf.add_page()

# Output PDF file and write file to variable for display
pdf_bytes = pdf.output()
print(f"✅ PDF Generation Successful")

if output_real_file == True:
    pdf.output(outputFile)
    print(f"✅ Output Location: './{outputFile}'")

# New PDF Display
DisplayWidth, DisplayHeight = 800, 750
base64_pdf = b64encode(pdf_bytes).decode("utf-8")
display(HTML(f'<embed height="{DisplayHeight}" src="data:application/pdf;base64,{base64_pdf}" type="application/pdf" width="{DisplayWidth}"/>'))

# # Old PDF Display
# pdf_path = outputFile  # Replace with your PDF file path
# viewer = myFn.PDFViewer(pdf_path)
# viewer.show()





import numpy as np
import matplotlib.pyplot as plt
from sklearn.preprocessing import PolynomialFeatures
from sklearn.linear_model import LinearRegression
from ipywidgets import interact, FloatSlider, IntSlider
import ipywidgets as widgets
from IPython.display import display, FileLink
import os
from ipywidgets import fixed

print('Code Running...')
user_name = 'Unknown'

# Create a text input widget
name_input = widgets.Text(
    value='',
    placeholder='Type your name here',
    description='Insert Name',
    disabled=False
)

# Create an output widget
output = widgets.Output()

# Function to update the global variable and clear output
def update_name(change):
    global user_name
    user_name = change['new']
    with output:
        output.clear_output()  # Clear the previous output
        print(f"Name '{user_name}' will be provided to the following code cell.")

# Linking the text widget to the update function
name_input.observe(update_name, names='value')

# Display the text input widget and output widget
display(name_input, output)


import numpy as np
import matplotlib.pyplot as plt
from sklearn.preprocessing import PolynomialFeatures
from sklearn.linear_model import LinearRegression
from ipywidgets import interact, IntSlider, FloatSlider
print('You can adjust the Line Degree of Complexity, and the Noise Level in Data Generated\n\nDrag Slider and Interact !')
# Initialize x data
x = np.linspace(-3, 3, 50)
np.random.seed(0)  # Set a fixed seed for reproducibility

# Function to generate data
def generate_data(noise, x=x):
    return x**2 + np.random.randn(50) * noise

# Cache the initial data
initial_noise = 0.8  # Initial noise level
y = generate_data(initial_noise)  # Initial data generation

# Function to plot polynomial regression
def plot_poly_regression(degree, y):
    # Reshape x for sklearn compatibility
    X = x[:, np.newaxis]
    
    # Create polynomial features
    poly = PolynomialFeatures(degree=degree)
    X_poly = poly.fit_transform(X)
    
    # Fit a linear model
    model = LinearRegression()
    model.fit(X_poly, y)
    
    # Predict and plot
    y_pred = model.predict(X_poly)
    plt.figure(figsize=(5, 5))
    
    
    # Adding the user's name as a transparent text in the background
    plt.text(0.5, 0.92, user_name + '\'s Plot', fontsize=22, color='#2F65A7', ha='center', va='center',
             alpha=1, transform=plt.gca().transAxes)  # Using axis transform for relative positioning
    plt.scatter(x, y, color='#006EB2', label='Data points')
    plt.plot(x, y_pred, color='#9A3324', label=f'Polynomial Degree {degree}', linewidth=2)
    plt.ylim([-40 - 10, 40 + 10])
    # plt.title(f"Polynomial Degree {degree} Fit with Noise Level {initial_noise}")
    # plt.legend()
    plt.grid(True)
    plt.show()

# Widgets for degree and noise adjustment
degree_slider = IntSlider(value=1, min=1, max=15, step=1, description="Degree")
noise_slider = FloatSlider(value=initial_noise, min=0.1, max=10, step=0.1, description="Noise Level")

# Track the previous noise level to decide whether to regenerate data
previous_noise = initial_noise

def interactive_update(degree, noise):
    global y, previous_noise
    if noise != previous_noise:
        y = generate_data(noise)  # Regenerate data if noise level has changed
        previous_noise = noise
    plot_poly_regression(degree, y)

# Interactive widget setup
interact(interactive_update,
         degree=degree_slider,
         noise=noise_slider);







